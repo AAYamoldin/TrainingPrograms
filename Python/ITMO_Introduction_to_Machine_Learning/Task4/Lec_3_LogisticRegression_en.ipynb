{
 "cells": [
  {
   "cell_type": "markdown",
   "metadata": {
    "pycharm": {
     "name": "#%% md\n"
    }
   },
   "source": [
    "# Introduction to Machine Learning\n",
    "\n",
    "## High School of Digital Culture\n",
    "\n",
    "## Additional Materials to Module 3. Logistic Regression"
   ]
  },
  {
   "cell_type": "code",
   "execution_count": 5,
   "outputs": [
    {
     "name": "stdout",
     "output_type": "stream",
     "text": [
      "Collecting package metadata (current_repodata.json): ...working... done\n",
      "Solving environment: ...working... done\n",
      "\n",
      "## Package Plan ##\n",
      "\n",
      "  environment location: C:\\Users\\gto_n\\anaconda3\\envs\\Python\n",
      "\n",
      "  added / updated specs:\n",
      "    - matplotlib\n",
      "    - numpy\n",
      "    - pandas\n",
      "\n",
      "\n",
      "The following packages will be downloaded:\n",
      "\n",
      "    package                    |            build\n",
      "    ---------------------------|-----------------\n",
      "    bottleneck-1.3.4           |  py310h9128911_0         109 KB\n",
      "    kiwisolver-1.4.2           |  py310hd77b12b_0          58 KB\n",
      "    matplotlib-3.5.1           |  py310haa95532_1          29 KB\n",
      "    matplotlib-base-3.5.1      |  py310hd77b12b_1         5.6 MB\n",
      "    mkl-service-2.4.0          |  py310h2bbff1b_0          48 KB\n",
      "    mkl_fft-1.3.1              |  py310ha0764ea_0         136 KB\n",
      "    mkl_random-1.2.2           |  py310h4ed8f06_0         221 KB\n",
      "    numexpr-2.8.1              |  py310hb57aa6b_1         115 KB\n",
      "    numpy-1.22.3               |  py310h6d2d95c_0          25 KB\n",
      "    numpy-base-1.22.3          |  py310h206c741_0         4.9 MB\n",
      "    pandas-1.4.2               |  py310hd77b12b_0         8.7 MB\n",
      "    pillow-9.0.1               |  py310hdc2b20a_0         923 KB\n",
      "    ------------------------------------------------------------\n",
      "                                           Total:        20.8 MB\n",
      "\n",
      "The following NEW packages will be INSTALLED:\n",
      "\n",
      "  blas               pkgs/main/win-64::blas-1.0-mkl\n",
      "  bottleneck         pkgs/main/win-64::bottleneck-1.3.4-py310h9128911_0\n",
      "  brotli             pkgs/main/win-64::brotli-1.0.9-ha925a31_2\n",
      "  cycler             pkgs/main/noarch::cycler-0.11.0-pyhd3eb1b0_0\n",
      "  fonttools          pkgs/main/noarch::fonttools-4.25.0-pyhd3eb1b0_0\n",
      "  freetype           pkgs/main/win-64::freetype-2.10.4-hd328e21_0\n",
      "  intel-openmp       pkgs/main/win-64::intel-openmp-2021.4.0-haa95532_3556\n",
      "  kiwisolver         pkgs/main/win-64::kiwisolver-1.4.2-py310hd77b12b_0\n",
      "  libtiff            pkgs/main/win-64::libtiff-4.2.0-he0120a3_1\n",
      "  libwebp            pkgs/main/win-64::libwebp-1.2.2-h2bbff1b_0\n",
      "  lz4-c              pkgs/main/win-64::lz4-c-1.9.3-h2bbff1b_1\n",
      "  matplotlib         pkgs/main/win-64::matplotlib-3.5.1-py310haa95532_1\n",
      "  matplotlib-base    pkgs/main/win-64::matplotlib-base-3.5.1-py310hd77b12b_1\n",
      "  mkl                pkgs/main/win-64::mkl-2021.4.0-haa95532_640\n",
      "  mkl-service        pkgs/main/win-64::mkl-service-2.4.0-py310h2bbff1b_0\n",
      "  mkl_fft            pkgs/main/win-64::mkl_fft-1.3.1-py310ha0764ea_0\n",
      "  mkl_random         pkgs/main/win-64::mkl_random-1.2.2-py310h4ed8f06_0\n",
      "  munkres            pkgs/main/noarch::munkres-1.1.4-py_0\n",
      "  numexpr            pkgs/main/win-64::numexpr-2.8.1-py310hb57aa6b_1\n",
      "  numpy              pkgs/main/win-64::numpy-1.22.3-py310h6d2d95c_0\n",
      "  numpy-base         pkgs/main/win-64::numpy-base-1.22.3-py310h206c741_0\n",
      "  pandas             pkgs/main/win-64::pandas-1.4.2-py310hd77b12b_0\n",
      "  pillow             pkgs/main/win-64::pillow-9.0.1-py310hdc2b20a_0\n",
      "  pytz               pkgs/main/noarch::pytz-2021.3-pyhd3eb1b0_0\n",
      "  zstd               pkgs/main/win-64::zstd-1.5.2-h19a0ad4_0\n",
      "\n",
      "\n",
      "\n",
      "Downloading and Extracting Packages\n",
      "\n",
      "mkl-service-2.4.0    | 48 KB     |            |   0% \n",
      "mkl-service-2.4.0    | 48 KB     | ###3       |  33% \n",
      "mkl-service-2.4.0    | 48 KB     | ########## | 100% \n",
      "\n",
      "numpy-1.22.3         | 25 KB     |            |   0% \n",
      "numpy-1.22.3         | 25 KB     | ########## | 100% \n",
      "\n",
      "pillow-9.0.1         | 923 KB    |            |   0% \n",
      "pillow-9.0.1         | 923 KB    | ##9        |  29% \n",
      "pillow-9.0.1         | 923 KB    | ########## | 100% \n",
      "pillow-9.0.1         | 923 KB    | ########## | 100% \n",
      "\n",
      "bottleneck-1.3.4     | 109 KB    |            |   0% \n",
      "bottleneck-1.3.4     | 109 KB    | ########## | 100% \n",
      "bottleneck-1.3.4     | 109 KB    | ########## | 100% \n",
      "\n",
      "matplotlib-base-3.5. | 5.6 MB    |            |   0% \n",
      "matplotlib-base-3.5. | 5.6 MB    | #1         |  11% \n",
      "matplotlib-base-3.5. | 5.6 MB    | ##7        |  28% \n",
      "matplotlib-base-3.5. | 5.6 MB    | ####6      |  47% \n",
      "matplotlib-base-3.5. | 5.6 MB    | ######6    |  66% \n",
      "matplotlib-base-3.5. | 5.6 MB    | ########5  |  85% \n",
      "matplotlib-base-3.5. | 5.6 MB    | ########## | 100% \n",
      "\n",
      "mkl_random-1.2.2     | 221 KB    |            |   0% \n",
      "mkl_random-1.2.2     | 221 KB    | ########## | 100% \n",
      "mkl_random-1.2.2     | 221 KB    | ########## | 100% \n",
      "\n",
      "numpy-base-1.22.3    | 4.9 MB    |            |   0% \n",
      "numpy-base-1.22.3    | 4.9 MB    | #3         |  14% \n",
      "numpy-base-1.22.3    | 4.9 MB    | ###        |  31% \n",
      "numpy-base-1.22.3    | 4.9 MB    | ####6      |  47% \n",
      "numpy-base-1.22.3    | 4.9 MB    | #######4   |  75% \n",
      "numpy-base-1.22.3    | 4.9 MB    | #########5 |  95% \n",
      "numpy-base-1.22.3    | 4.9 MB    | ########## | 100% \n",
      "\n",
      "pandas-1.4.2         | 8.7 MB    |            |   0% \n",
      "pandas-1.4.2         | 8.7 MB    | 6          |   6% \n",
      "pandas-1.4.2         | 8.7 MB    | ##1        |  22% \n",
      "pandas-1.4.2         | 8.7 MB    | ###4       |  34% \n",
      "pandas-1.4.2         | 8.7 MB    | ####6      |  47% \n",
      "pandas-1.4.2         | 8.7 MB    | #####9     |  59% \n",
      "pandas-1.4.2         | 8.7 MB    | #######4   |  74% \n",
      "pandas-1.4.2         | 8.7 MB    | ########6  |  87% \n",
      "pandas-1.4.2         | 8.7 MB    | #########9 | 100% \n",
      "pandas-1.4.2         | 8.7 MB    | ########## | 100% \n",
      "\n",
      "mkl_fft-1.3.1        | 136 KB    |            |   0% \n",
      "mkl_fft-1.3.1        | 136 KB    | #1         |  12% \n",
      "mkl_fft-1.3.1        | 136 KB    | ########## | 100% \n",
      "mkl_fft-1.3.1        | 136 KB    | ########## | 100% \n",
      "\n",
      "matplotlib-3.5.1     | 29 KB     |            |   0% \n",
      "matplotlib-3.5.1     | 29 KB     | ########## | 100% \n",
      "matplotlib-3.5.1     | 29 KB     | ########## | 100% \n",
      "\n",
      "numexpr-2.8.1        | 115 KB    |            |   0% \n",
      "Note: you may need to restart the kernel to use updated packages.\n",
      "numexpr-2.8.1        | 115 KB    | ########## | 100% \n",
      "numexpr-2.8.1        | 115 KB    | ########## | 100% \n",
      "\n",
      "kiwisolver-1.4.2     | 58 KB     |            |   0% \n",
      "kiwisolver-1.4.2     | 58 KB     | ########## | 100% \n",
      "kiwisolver-1.4.2     | 58 KB     | ########## | 100% \n",
      "Preparing transaction: ...working... done\n",
      "Verifying transaction: ...working... done\n",
      "Executing transaction: ...working... done\n",
      "\n",
      "Collecting package metadata (current_repodata.json): ...working... done\n",
      "Solving environment: ...working... done\n",
      "\n",
      "# All requested packages already installed.\n",
      "\n",
      "\n",
      "Note: you may need to restart the kernel to use updated packages.\n",
      "Collecting package metadata (current_repodata.json): ...working... done\n",
      "Solving environment: ...working... done\n",
      "\n",
      "# All requested packages already installed.\n",
      "\n",
      "\n",
      "Note: you may need to restart the kernel to use updated packages.\n"
     ]
    }
   ],
   "source": [
    "conda install pandas numpy matplotlib"
   ],
   "metadata": {
    "collapsed": false,
    "pycharm": {
     "name": "#%%\n"
    }
   }
  },
  {
   "cell_type": "markdown",
   "metadata": {
    "pycharm": {
     "name": "#%% md\n"
    }
   },
   "source": [
    "Data processing"
   ]
  },
  {
   "cell_type": "code",
   "execution_count": 6,
   "metadata": {
    "pycharm": {
     "name": "#%%\n"
    }
   },
   "outputs": [
    {
     "data": {
      "text/plain": "                       chocolate  fruity  caramel  peanutyalmondy  nougat  \\\ncompetitorname                                                              \n100 Grand                      1       0        1               0       0   \n3 Musketeers                   1       0        0               0       1   \nOne dime                       0       0        0               0       0   \nOne quarter                    0       0        0               0       0   \nAir Heads                      0       1        0               0       0   \n...                          ...     ...      ...             ...     ...   \nSnickers Crisper               1       0        1               1       0   \nSour Patch Kids                0       1        0               0       0   \nSour Patch Tricksters          0       1        0               0       0   \nStarburst                      0       1        0               0       0   \nStrawberry bon bons            0       1        0               0       0   \n\n                       crispedricewafer  hard  bar  pluribus  sugarpercent  \\\ncompetitorname                                                               \n100 Grand                             1     0    1         0         0.732   \n3 Musketeers                          0     0    1         0         0.604   \nOne dime                              0     0    0         0         0.011   \nOne quarter                           0     0    0         0         0.011   \nAir Heads                             0     0    0         0         0.906   \n...                                 ...   ...  ...       ...           ...   \nSnickers Crisper                      1     0    1         0         0.604   \nSour Patch Kids                       0     0    0         1         0.069   \nSour Patch Tricksters                 0     0    0         1         0.069   \nStarburst                             0     0    0         1         0.151   \nStrawberry bon bons                   0     1    0         1         0.569   \n\n                       pricepercent  winpercent  Y  \ncompetitorname                                      \n100 Grand                     0.860   66.971725  1  \n3 Musketeers                  0.511   67.602936  1  \nOne dime                      0.116   32.261086  0  \nOne quarter                   0.511   46.116505  0  \nAir Heads                     0.511   52.341465  1  \n...                             ...         ... ..  \nSnickers Crisper              0.651   59.529251  1  \nSour Patch Kids               0.116   59.863998  1  \nSour Patch Tricksters         0.116   52.825947  1  \nStarburst                     0.220   67.037628  1  \nStrawberry bon bons           0.058   34.578991  0  \n\n[70 rows x 13 columns]",
      "text/html": "<div>\n<style scoped>\n    .dataframe tbody tr th:only-of-type {\n        vertical-align: middle;\n    }\n\n    .dataframe tbody tr th {\n        vertical-align: top;\n    }\n\n    .dataframe thead th {\n        text-align: right;\n    }\n</style>\n<table border=\"1\" class=\"dataframe\">\n  <thead>\n    <tr style=\"text-align: right;\">\n      <th></th>\n      <th>chocolate</th>\n      <th>fruity</th>\n      <th>caramel</th>\n      <th>peanutyalmondy</th>\n      <th>nougat</th>\n      <th>crispedricewafer</th>\n      <th>hard</th>\n      <th>bar</th>\n      <th>pluribus</th>\n      <th>sugarpercent</th>\n      <th>pricepercent</th>\n      <th>winpercent</th>\n      <th>Y</th>\n    </tr>\n    <tr>\n      <th>competitorname</th>\n      <th></th>\n      <th></th>\n      <th></th>\n      <th></th>\n      <th></th>\n      <th></th>\n      <th></th>\n      <th></th>\n      <th></th>\n      <th></th>\n      <th></th>\n      <th></th>\n      <th></th>\n    </tr>\n  </thead>\n  <tbody>\n    <tr>\n      <th>100 Grand</th>\n      <td>1</td>\n      <td>0</td>\n      <td>1</td>\n      <td>0</td>\n      <td>0</td>\n      <td>1</td>\n      <td>0</td>\n      <td>1</td>\n      <td>0</td>\n      <td>0.732</td>\n      <td>0.860</td>\n      <td>66.971725</td>\n      <td>1</td>\n    </tr>\n    <tr>\n      <th>3 Musketeers</th>\n      <td>1</td>\n      <td>0</td>\n      <td>0</td>\n      <td>0</td>\n      <td>1</td>\n      <td>0</td>\n      <td>0</td>\n      <td>1</td>\n      <td>0</td>\n      <td>0.604</td>\n      <td>0.511</td>\n      <td>67.602936</td>\n      <td>1</td>\n    </tr>\n    <tr>\n      <th>One dime</th>\n      <td>0</td>\n      <td>0</td>\n      <td>0</td>\n      <td>0</td>\n      <td>0</td>\n      <td>0</td>\n      <td>0</td>\n      <td>0</td>\n      <td>0</td>\n      <td>0.011</td>\n      <td>0.116</td>\n      <td>32.261086</td>\n      <td>0</td>\n    </tr>\n    <tr>\n      <th>One quarter</th>\n      <td>0</td>\n      <td>0</td>\n      <td>0</td>\n      <td>0</td>\n      <td>0</td>\n      <td>0</td>\n      <td>0</td>\n      <td>0</td>\n      <td>0</td>\n      <td>0.011</td>\n      <td>0.511</td>\n      <td>46.116505</td>\n      <td>0</td>\n    </tr>\n    <tr>\n      <th>Air Heads</th>\n      <td>0</td>\n      <td>1</td>\n      <td>0</td>\n      <td>0</td>\n      <td>0</td>\n      <td>0</td>\n      <td>0</td>\n      <td>0</td>\n      <td>0</td>\n      <td>0.906</td>\n      <td>0.511</td>\n      <td>52.341465</td>\n      <td>1</td>\n    </tr>\n    <tr>\n      <th>...</th>\n      <td>...</td>\n      <td>...</td>\n      <td>...</td>\n      <td>...</td>\n      <td>...</td>\n      <td>...</td>\n      <td>...</td>\n      <td>...</td>\n      <td>...</td>\n      <td>...</td>\n      <td>...</td>\n      <td>...</td>\n      <td>...</td>\n    </tr>\n    <tr>\n      <th>Snickers Crisper</th>\n      <td>1</td>\n      <td>0</td>\n      <td>1</td>\n      <td>1</td>\n      <td>0</td>\n      <td>1</td>\n      <td>0</td>\n      <td>1</td>\n      <td>0</td>\n      <td>0.604</td>\n      <td>0.651</td>\n      <td>59.529251</td>\n      <td>1</td>\n    </tr>\n    <tr>\n      <th>Sour Patch Kids</th>\n      <td>0</td>\n      <td>1</td>\n      <td>0</td>\n      <td>0</td>\n      <td>0</td>\n      <td>0</td>\n      <td>0</td>\n      <td>0</td>\n      <td>1</td>\n      <td>0.069</td>\n      <td>0.116</td>\n      <td>59.863998</td>\n      <td>1</td>\n    </tr>\n    <tr>\n      <th>Sour Patch Tricksters</th>\n      <td>0</td>\n      <td>1</td>\n      <td>0</td>\n      <td>0</td>\n      <td>0</td>\n      <td>0</td>\n      <td>0</td>\n      <td>0</td>\n      <td>1</td>\n      <td>0.069</td>\n      <td>0.116</td>\n      <td>52.825947</td>\n      <td>1</td>\n    </tr>\n    <tr>\n      <th>Starburst</th>\n      <td>0</td>\n      <td>1</td>\n      <td>0</td>\n      <td>0</td>\n      <td>0</td>\n      <td>0</td>\n      <td>0</td>\n      <td>0</td>\n      <td>1</td>\n      <td>0.151</td>\n      <td>0.220</td>\n      <td>67.037628</td>\n      <td>1</td>\n    </tr>\n    <tr>\n      <th>Strawberry bon bons</th>\n      <td>0</td>\n      <td>1</td>\n      <td>0</td>\n      <td>0</td>\n      <td>0</td>\n      <td>0</td>\n      <td>1</td>\n      <td>0</td>\n      <td>1</td>\n      <td>0.569</td>\n      <td>0.058</td>\n      <td>34.578991</td>\n      <td>0</td>\n    </tr>\n  </tbody>\n</table>\n<p>70 rows × 13 columns</p>\n</div>"
     },
     "execution_count": 6,
     "metadata": {},
     "output_type": "execute_result"
    }
   ],
   "source": [
    "#Data reading; unique names of candies will be indexes\n",
    "import pandas as pd\n",
    "DATA = pd.read_csv(\"candy-data.csv\", delimiter=',', index_col='competitorname')\n",
    "DATA"
   ]
  },
  {
   "cell_type": "code",
   "execution_count": 10,
   "metadata": {
    "pycharm": {
     "name": "#%%\n"
    }
   },
   "outputs": [
    {
     "data": {
      "text/plain": "                       chocolate  fruity  caramel  peanutyalmondy  nougat  \\\ncompetitorname                                                              \n100 Grand                      1       0        1               0       0   \n3 Musketeers                   1       0        0               0       1   \nOne dime                       0       0        0               0       0   \nOne quarter                    0       0        0               0       0   \nAir Heads                      0       1        0               0       0   \n...                          ...     ...      ...             ...     ...   \nSnickers Crisper               1       0        1               1       0   \nSour Patch Kids                0       1        0               0       0   \nSour Patch Tricksters          0       1        0               0       0   \nStarburst                      0       1        0               0       0   \nStrawberry bon bons            0       1        0               0       0   \n\n                       crispedricewafer  hard  bar  pluribus  sugarpercent  \\\ncompetitorname                                                               \n100 Grand                             1     0    1         0         0.732   \n3 Musketeers                          0     0    1         0         0.604   \nOne dime                              0     0    0         0         0.011   \nOne quarter                           0     0    0         0         0.011   \nAir Heads                             0     0    0         0         0.906   \n...                                 ...   ...  ...       ...           ...   \nSnickers Crisper                      1     0    1         0         0.604   \nSour Patch Kids                       0     0    0         1         0.069   \nSour Patch Tricksters                 0     0    0         1         0.069   \nStarburst                             0     0    0         1         0.151   \nStrawberry bon bons                   0     1    0         1         0.569   \n\n                       pricepercent  Y  \ncompetitorname                          \n100 Grand                     0.860  1  \n3 Musketeers                  0.511  1  \nOne dime                      0.116  0  \nOne quarter                   0.511  0  \nAir Heads                     0.511  1  \n...                             ... ..  \nSnickers Crisper              0.651  1  \nSour Patch Kids               0.116  1  \nSour Patch Tricksters         0.116  1  \nStarburst                     0.220  1  \nStrawberry bon bons           0.058  0  \n\n[70 rows x 12 columns]",
      "text/html": "<div>\n<style scoped>\n    .dataframe tbody tr th:only-of-type {\n        vertical-align: middle;\n    }\n\n    .dataframe tbody tr th {\n        vertical-align: top;\n    }\n\n    .dataframe thead th {\n        text-align: right;\n    }\n</style>\n<table border=\"1\" class=\"dataframe\">\n  <thead>\n    <tr style=\"text-align: right;\">\n      <th></th>\n      <th>chocolate</th>\n      <th>fruity</th>\n      <th>caramel</th>\n      <th>peanutyalmondy</th>\n      <th>nougat</th>\n      <th>crispedricewafer</th>\n      <th>hard</th>\n      <th>bar</th>\n      <th>pluribus</th>\n      <th>sugarpercent</th>\n      <th>pricepercent</th>\n      <th>Y</th>\n    </tr>\n    <tr>\n      <th>competitorname</th>\n      <th></th>\n      <th></th>\n      <th></th>\n      <th></th>\n      <th></th>\n      <th></th>\n      <th></th>\n      <th></th>\n      <th></th>\n      <th></th>\n      <th></th>\n      <th></th>\n    </tr>\n  </thead>\n  <tbody>\n    <tr>\n      <th>100 Grand</th>\n      <td>1</td>\n      <td>0</td>\n      <td>1</td>\n      <td>0</td>\n      <td>0</td>\n      <td>1</td>\n      <td>0</td>\n      <td>1</td>\n      <td>0</td>\n      <td>0.732</td>\n      <td>0.860</td>\n      <td>1</td>\n    </tr>\n    <tr>\n      <th>3 Musketeers</th>\n      <td>1</td>\n      <td>0</td>\n      <td>0</td>\n      <td>0</td>\n      <td>1</td>\n      <td>0</td>\n      <td>0</td>\n      <td>1</td>\n      <td>0</td>\n      <td>0.604</td>\n      <td>0.511</td>\n      <td>1</td>\n    </tr>\n    <tr>\n      <th>One dime</th>\n      <td>0</td>\n      <td>0</td>\n      <td>0</td>\n      <td>0</td>\n      <td>0</td>\n      <td>0</td>\n      <td>0</td>\n      <td>0</td>\n      <td>0</td>\n      <td>0.011</td>\n      <td>0.116</td>\n      <td>0</td>\n    </tr>\n    <tr>\n      <th>One quarter</th>\n      <td>0</td>\n      <td>0</td>\n      <td>0</td>\n      <td>0</td>\n      <td>0</td>\n      <td>0</td>\n      <td>0</td>\n      <td>0</td>\n      <td>0</td>\n      <td>0.011</td>\n      <td>0.511</td>\n      <td>0</td>\n    </tr>\n    <tr>\n      <th>Air Heads</th>\n      <td>0</td>\n      <td>1</td>\n      <td>0</td>\n      <td>0</td>\n      <td>0</td>\n      <td>0</td>\n      <td>0</td>\n      <td>0</td>\n      <td>0</td>\n      <td>0.906</td>\n      <td>0.511</td>\n      <td>1</td>\n    </tr>\n    <tr>\n      <th>...</th>\n      <td>...</td>\n      <td>...</td>\n      <td>...</td>\n      <td>...</td>\n      <td>...</td>\n      <td>...</td>\n      <td>...</td>\n      <td>...</td>\n      <td>...</td>\n      <td>...</td>\n      <td>...</td>\n      <td>...</td>\n    </tr>\n    <tr>\n      <th>Snickers Crisper</th>\n      <td>1</td>\n      <td>0</td>\n      <td>1</td>\n      <td>1</td>\n      <td>0</td>\n      <td>1</td>\n      <td>0</td>\n      <td>1</td>\n      <td>0</td>\n      <td>0.604</td>\n      <td>0.651</td>\n      <td>1</td>\n    </tr>\n    <tr>\n      <th>Sour Patch Kids</th>\n      <td>0</td>\n      <td>1</td>\n      <td>0</td>\n      <td>0</td>\n      <td>0</td>\n      <td>0</td>\n      <td>0</td>\n      <td>0</td>\n      <td>1</td>\n      <td>0.069</td>\n      <td>0.116</td>\n      <td>1</td>\n    </tr>\n    <tr>\n      <th>Sour Patch Tricksters</th>\n      <td>0</td>\n      <td>1</td>\n      <td>0</td>\n      <td>0</td>\n      <td>0</td>\n      <td>0</td>\n      <td>0</td>\n      <td>0</td>\n      <td>1</td>\n      <td>0.069</td>\n      <td>0.116</td>\n      <td>1</td>\n    </tr>\n    <tr>\n      <th>Starburst</th>\n      <td>0</td>\n      <td>1</td>\n      <td>0</td>\n      <td>0</td>\n      <td>0</td>\n      <td>0</td>\n      <td>0</td>\n      <td>0</td>\n      <td>1</td>\n      <td>0.151</td>\n      <td>0.220</td>\n      <td>1</td>\n    </tr>\n    <tr>\n      <th>Strawberry bon bons</th>\n      <td>0</td>\n      <td>1</td>\n      <td>0</td>\n      <td>0</td>\n      <td>0</td>\n      <td>0</td>\n      <td>1</td>\n      <td>0</td>\n      <td>1</td>\n      <td>0.569</td>\n      <td>0.058</td>\n      <td>0</td>\n    </tr>\n  </tbody>\n</table>\n<p>70 rows × 12 columns</p>\n</div>"
     },
     "execution_count": 10,
     "metadata": {},
     "output_type": "execute_result"
    }
   ],
   "source": [
    "#Feeding the model with data (except for some candies)\n",
    "train_data = DATA.drop(['winpercent'], axis=1)\n",
    "train_data"
   ]
  },
  {
   "cell_type": "code",
   "execution_count": 11,
   "outputs": [
    {
     "data": {
      "text/plain": "                       chocolate  fruity  caramel  peanutyalmondy  nougat  \\\ncompetitorname                                                              \n100 Grand                      1       0        1               0       0   \n3 Musketeers                   1       0        0               0       1   \nOne dime                       0       0        0               0       0   \nOne quarter                    0       0        0               0       0   \nAir Heads                      0       1        0               0       0   \n...                          ...     ...      ...             ...     ...   \nSnickers Crisper               1       0        1               1       0   \nSour Patch Kids                0       1        0               0       0   \nSour Patch Tricksters          0       1        0               0       0   \nStarburst                      0       1        0               0       0   \nStrawberry bon bons            0       1        0               0       0   \n\n                       crispedricewafer  hard  bar  pluribus  sugarpercent  \\\ncompetitorname                                                               \n100 Grand                             1     0    1         0         0.732   \n3 Musketeers                          0     0    1         0         0.604   \nOne dime                              0     0    0         0         0.011   \nOne quarter                           0     0    0         0         0.011   \nAir Heads                             0     0    0         0         0.906   \n...                                 ...   ...  ...       ...           ...   \nSnickers Crisper                      1     0    1         0         0.604   \nSour Patch Kids                       0     0    0         1         0.069   \nSour Patch Tricksters                 0     0    0         1         0.069   \nStarburst                             0     0    0         1         0.151   \nStrawberry bon bons                   0     1    0         1         0.569   \n\n                       pricepercent  Y  \ncompetitorname                          \n100 Grand                     0.860  1  \n3 Musketeers                  0.511  1  \nOne dime                      0.116  0  \nOne quarter                   0.511  0  \nAir Heads                     0.511  1  \n...                             ... ..  \nSnickers Crisper              0.651  1  \nSour Patch Kids               0.116  1  \nSour Patch Tricksters         0.116  1  \nStarburst                     0.220  1  \nStrawberry bon bons           0.058  0  \n\n[67 rows x 12 columns]",
      "text/html": "<div>\n<style scoped>\n    .dataframe tbody tr th:only-of-type {\n        vertical-align: middle;\n    }\n\n    .dataframe tbody tr th {\n        vertical-align: top;\n    }\n\n    .dataframe thead th {\n        text-align: right;\n    }\n</style>\n<table border=\"1\" class=\"dataframe\">\n  <thead>\n    <tr style=\"text-align: right;\">\n      <th></th>\n      <th>chocolate</th>\n      <th>fruity</th>\n      <th>caramel</th>\n      <th>peanutyalmondy</th>\n      <th>nougat</th>\n      <th>crispedricewafer</th>\n      <th>hard</th>\n      <th>bar</th>\n      <th>pluribus</th>\n      <th>sugarpercent</th>\n      <th>pricepercent</th>\n      <th>Y</th>\n    </tr>\n    <tr>\n      <th>competitorname</th>\n      <th></th>\n      <th></th>\n      <th></th>\n      <th></th>\n      <th></th>\n      <th></th>\n      <th></th>\n      <th></th>\n      <th></th>\n      <th></th>\n      <th></th>\n      <th></th>\n    </tr>\n  </thead>\n  <tbody>\n    <tr>\n      <th>100 Grand</th>\n      <td>1</td>\n      <td>0</td>\n      <td>1</td>\n      <td>0</td>\n      <td>0</td>\n      <td>1</td>\n      <td>0</td>\n      <td>1</td>\n      <td>0</td>\n      <td>0.732</td>\n      <td>0.860</td>\n      <td>1</td>\n    </tr>\n    <tr>\n      <th>3 Musketeers</th>\n      <td>1</td>\n      <td>0</td>\n      <td>0</td>\n      <td>0</td>\n      <td>1</td>\n      <td>0</td>\n      <td>0</td>\n      <td>1</td>\n      <td>0</td>\n      <td>0.604</td>\n      <td>0.511</td>\n      <td>1</td>\n    </tr>\n    <tr>\n      <th>One dime</th>\n      <td>0</td>\n      <td>0</td>\n      <td>0</td>\n      <td>0</td>\n      <td>0</td>\n      <td>0</td>\n      <td>0</td>\n      <td>0</td>\n      <td>0</td>\n      <td>0.011</td>\n      <td>0.116</td>\n      <td>0</td>\n    </tr>\n    <tr>\n      <th>One quarter</th>\n      <td>0</td>\n      <td>0</td>\n      <td>0</td>\n      <td>0</td>\n      <td>0</td>\n      <td>0</td>\n      <td>0</td>\n      <td>0</td>\n      <td>0</td>\n      <td>0.011</td>\n      <td>0.511</td>\n      <td>0</td>\n    </tr>\n    <tr>\n      <th>Air Heads</th>\n      <td>0</td>\n      <td>1</td>\n      <td>0</td>\n      <td>0</td>\n      <td>0</td>\n      <td>0</td>\n      <td>0</td>\n      <td>0</td>\n      <td>0</td>\n      <td>0.906</td>\n      <td>0.511</td>\n      <td>1</td>\n    </tr>\n    <tr>\n      <th>...</th>\n      <td>...</td>\n      <td>...</td>\n      <td>...</td>\n      <td>...</td>\n      <td>...</td>\n      <td>...</td>\n      <td>...</td>\n      <td>...</td>\n      <td>...</td>\n      <td>...</td>\n      <td>...</td>\n      <td>...</td>\n    </tr>\n    <tr>\n      <th>Snickers Crisper</th>\n      <td>1</td>\n      <td>0</td>\n      <td>1</td>\n      <td>1</td>\n      <td>0</td>\n      <td>1</td>\n      <td>0</td>\n      <td>1</td>\n      <td>0</td>\n      <td>0.604</td>\n      <td>0.651</td>\n      <td>1</td>\n    </tr>\n    <tr>\n      <th>Sour Patch Kids</th>\n      <td>0</td>\n      <td>1</td>\n      <td>0</td>\n      <td>0</td>\n      <td>0</td>\n      <td>0</td>\n      <td>0</td>\n      <td>0</td>\n      <td>1</td>\n      <td>0.069</td>\n      <td>0.116</td>\n      <td>1</td>\n    </tr>\n    <tr>\n      <th>Sour Patch Tricksters</th>\n      <td>0</td>\n      <td>1</td>\n      <td>0</td>\n      <td>0</td>\n      <td>0</td>\n      <td>0</td>\n      <td>0</td>\n      <td>0</td>\n      <td>1</td>\n      <td>0.069</td>\n      <td>0.116</td>\n      <td>1</td>\n    </tr>\n    <tr>\n      <th>Starburst</th>\n      <td>0</td>\n      <td>1</td>\n      <td>0</td>\n      <td>0</td>\n      <td>0</td>\n      <td>0</td>\n      <td>0</td>\n      <td>0</td>\n      <td>1</td>\n      <td>0.151</td>\n      <td>0.220</td>\n      <td>1</td>\n    </tr>\n    <tr>\n      <th>Strawberry bon bons</th>\n      <td>0</td>\n      <td>1</td>\n      <td>0</td>\n      <td>0</td>\n      <td>0</td>\n      <td>0</td>\n      <td>1</td>\n      <td>0</td>\n      <td>1</td>\n      <td>0.569</td>\n      <td>0.058</td>\n      <td>0</td>\n    </tr>\n  </tbody>\n</table>\n<p>67 rows × 12 columns</p>\n</div>"
     },
     "execution_count": 11,
     "metadata": {},
     "output_type": "execute_result"
    }
   ],
   "source": [
    "train_data = train_data.drop(['Boston Baked Beans', 'Dum Dums', 'Fruit Chews'])\n",
    "train_data"
   ],
   "metadata": {
    "collapsed": false,
    "pycharm": {
     "name": "#%%\n"
    }
   }
  },
  {
   "cell_type": "code",
   "execution_count": 12,
   "metadata": {
    "pycharm": {
     "name": "#%%\n"
    }
   },
   "outputs": [
    {
     "data": {
      "text/plain": "                       Y\ncompetitorname          \n100 Grand              1\n3 Musketeers           1\nOne dime               0\nOne quarter            0\nAir Heads              1\n...                   ..\nSnickers Crisper       1\nSour Patch Kids        1\nSour Patch Tricksters  1\nStarburst              1\nStrawberry bon bons    0\n\n[67 rows x 1 columns]",
      "text/html": "<div>\n<style scoped>\n    .dataframe tbody tr th:only-of-type {\n        vertical-align: middle;\n    }\n\n    .dataframe tbody tr th {\n        vertical-align: top;\n    }\n\n    .dataframe thead th {\n        text-align: right;\n    }\n</style>\n<table border=\"1\" class=\"dataframe\">\n  <thead>\n    <tr style=\"text-align: right;\">\n      <th></th>\n      <th>Y</th>\n    </tr>\n    <tr>\n      <th>competitorname</th>\n      <th></th>\n    </tr>\n  </thead>\n  <tbody>\n    <tr>\n      <th>100 Grand</th>\n      <td>1</td>\n    </tr>\n    <tr>\n      <th>3 Musketeers</th>\n      <td>1</td>\n    </tr>\n    <tr>\n      <th>One dime</th>\n      <td>0</td>\n    </tr>\n    <tr>\n      <th>One quarter</th>\n      <td>0</td>\n    </tr>\n    <tr>\n      <th>Air Heads</th>\n      <td>1</td>\n    </tr>\n    <tr>\n      <th>...</th>\n      <td>...</td>\n    </tr>\n    <tr>\n      <th>Snickers Crisper</th>\n      <td>1</td>\n    </tr>\n    <tr>\n      <th>Sour Patch Kids</th>\n      <td>1</td>\n    </tr>\n    <tr>\n      <th>Sour Patch Tricksters</th>\n      <td>1</td>\n    </tr>\n    <tr>\n      <th>Starburst</th>\n      <td>1</td>\n    </tr>\n    <tr>\n      <th>Strawberry bon bons</th>\n      <td>0</td>\n    </tr>\n  </tbody>\n</table>\n<p>67 rows × 1 columns</p>\n</div>"
     },
     "execution_count": 12,
     "metadata": {},
     "output_type": "execute_result"
    }
   ],
   "source": [
    "#Selecting the response column\n",
    "y = pd.DataFrame(train_data['Y'])\n",
    "y"
   ]
  },
  {
   "cell_type": "code",
   "execution_count": 13,
   "outputs": [
    {
     "data": {
      "text/plain": "                       chocolate  fruity  caramel  peanutyalmondy  nougat  \\\ncompetitorname                                                              \n100 Grand                      1       0        1               0       0   \n3 Musketeers                   1       0        0               0       1   \nOne dime                       0       0        0               0       0   \nOne quarter                    0       0        0               0       0   \nAir Heads                      0       1        0               0       0   \n...                          ...     ...      ...             ...     ...   \nSnickers Crisper               1       0        1               1       0   \nSour Patch Kids                0       1        0               0       0   \nSour Patch Tricksters          0       1        0               0       0   \nStarburst                      0       1        0               0       0   \nStrawberry bon bons            0       1        0               0       0   \n\n                       crispedricewafer  hard  bar  pluribus  sugarpercent  \\\ncompetitorname                                                               \n100 Grand                             1     0    1         0         0.732   \n3 Musketeers                          0     0    1         0         0.604   \nOne dime                              0     0    0         0         0.011   \nOne quarter                           0     0    0         0         0.011   \nAir Heads                             0     0    0         0         0.906   \n...                                 ...   ...  ...       ...           ...   \nSnickers Crisper                      1     0    1         0         0.604   \nSour Patch Kids                       0     0    0         1         0.069   \nSour Patch Tricksters                 0     0    0         1         0.069   \nStarburst                             0     0    0         1         0.151   \nStrawberry bon bons                   0     1    0         1         0.569   \n\n                       pricepercent  \ncompetitorname                       \n100 Grand                     0.860  \n3 Musketeers                  0.511  \nOne dime                      0.116  \nOne quarter                   0.511  \nAir Heads                     0.511  \n...                             ...  \nSnickers Crisper              0.651  \nSour Patch Kids               0.116  \nSour Patch Tricksters         0.116  \nStarburst                     0.220  \nStrawberry bon bons           0.058  \n\n[67 rows x 11 columns]",
      "text/html": "<div>\n<style scoped>\n    .dataframe tbody tr th:only-of-type {\n        vertical-align: middle;\n    }\n\n    .dataframe tbody tr th {\n        vertical-align: top;\n    }\n\n    .dataframe thead th {\n        text-align: right;\n    }\n</style>\n<table border=\"1\" class=\"dataframe\">\n  <thead>\n    <tr style=\"text-align: right;\">\n      <th></th>\n      <th>chocolate</th>\n      <th>fruity</th>\n      <th>caramel</th>\n      <th>peanutyalmondy</th>\n      <th>nougat</th>\n      <th>crispedricewafer</th>\n      <th>hard</th>\n      <th>bar</th>\n      <th>pluribus</th>\n      <th>sugarpercent</th>\n      <th>pricepercent</th>\n    </tr>\n    <tr>\n      <th>competitorname</th>\n      <th></th>\n      <th></th>\n      <th></th>\n      <th></th>\n      <th></th>\n      <th></th>\n      <th></th>\n      <th></th>\n      <th></th>\n      <th></th>\n      <th></th>\n    </tr>\n  </thead>\n  <tbody>\n    <tr>\n      <th>100 Grand</th>\n      <td>1</td>\n      <td>0</td>\n      <td>1</td>\n      <td>0</td>\n      <td>0</td>\n      <td>1</td>\n      <td>0</td>\n      <td>1</td>\n      <td>0</td>\n      <td>0.732</td>\n      <td>0.860</td>\n    </tr>\n    <tr>\n      <th>3 Musketeers</th>\n      <td>1</td>\n      <td>0</td>\n      <td>0</td>\n      <td>0</td>\n      <td>1</td>\n      <td>0</td>\n      <td>0</td>\n      <td>1</td>\n      <td>0</td>\n      <td>0.604</td>\n      <td>0.511</td>\n    </tr>\n    <tr>\n      <th>One dime</th>\n      <td>0</td>\n      <td>0</td>\n      <td>0</td>\n      <td>0</td>\n      <td>0</td>\n      <td>0</td>\n      <td>0</td>\n      <td>0</td>\n      <td>0</td>\n      <td>0.011</td>\n      <td>0.116</td>\n    </tr>\n    <tr>\n      <th>One quarter</th>\n      <td>0</td>\n      <td>0</td>\n      <td>0</td>\n      <td>0</td>\n      <td>0</td>\n      <td>0</td>\n      <td>0</td>\n      <td>0</td>\n      <td>0</td>\n      <td>0.011</td>\n      <td>0.511</td>\n    </tr>\n    <tr>\n      <th>Air Heads</th>\n      <td>0</td>\n      <td>1</td>\n      <td>0</td>\n      <td>0</td>\n      <td>0</td>\n      <td>0</td>\n      <td>0</td>\n      <td>0</td>\n      <td>0</td>\n      <td>0.906</td>\n      <td>0.511</td>\n    </tr>\n    <tr>\n      <th>...</th>\n      <td>...</td>\n      <td>...</td>\n      <td>...</td>\n      <td>...</td>\n      <td>...</td>\n      <td>...</td>\n      <td>...</td>\n      <td>...</td>\n      <td>...</td>\n      <td>...</td>\n      <td>...</td>\n    </tr>\n    <tr>\n      <th>Snickers Crisper</th>\n      <td>1</td>\n      <td>0</td>\n      <td>1</td>\n      <td>1</td>\n      <td>0</td>\n      <td>1</td>\n      <td>0</td>\n      <td>1</td>\n      <td>0</td>\n      <td>0.604</td>\n      <td>0.651</td>\n    </tr>\n    <tr>\n      <th>Sour Patch Kids</th>\n      <td>0</td>\n      <td>1</td>\n      <td>0</td>\n      <td>0</td>\n      <td>0</td>\n      <td>0</td>\n      <td>0</td>\n      <td>0</td>\n      <td>1</td>\n      <td>0.069</td>\n      <td>0.116</td>\n    </tr>\n    <tr>\n      <th>Sour Patch Tricksters</th>\n      <td>0</td>\n      <td>1</td>\n      <td>0</td>\n      <td>0</td>\n      <td>0</td>\n      <td>0</td>\n      <td>0</td>\n      <td>0</td>\n      <td>1</td>\n      <td>0.069</td>\n      <td>0.116</td>\n    </tr>\n    <tr>\n      <th>Starburst</th>\n      <td>0</td>\n      <td>1</td>\n      <td>0</td>\n      <td>0</td>\n      <td>0</td>\n      <td>0</td>\n      <td>0</td>\n      <td>0</td>\n      <td>1</td>\n      <td>0.151</td>\n      <td>0.220</td>\n    </tr>\n    <tr>\n      <th>Strawberry bon bons</th>\n      <td>0</td>\n      <td>1</td>\n      <td>0</td>\n      <td>0</td>\n      <td>0</td>\n      <td>0</td>\n      <td>1</td>\n      <td>0</td>\n      <td>1</td>\n      <td>0.569</td>\n      <td>0.058</td>\n    </tr>\n  </tbody>\n</table>\n<p>67 rows × 11 columns</p>\n</div>"
     },
     "execution_count": 13,
     "metadata": {},
     "output_type": "execute_result"
    }
   ],
   "source": [
    "x = train_data.drop(['Y'], axis=1)\n",
    "x"
   ],
   "metadata": {
    "collapsed": false,
    "pycharm": {
     "name": "#%%\n"
    }
   }
  },
  {
   "cell_type": "markdown",
   "metadata": {
    "pycharm": {
     "name": "#%% md\n"
    }
   },
   "source": [
    "Logistic regression model training"
   ]
  },
  {
   "cell_type": "code",
   "execution_count": 14,
   "metadata": {
    "pycharm": {
     "name": "#%%\n"
    }
   },
   "outputs": [],
   "source": [
    "#Connecting the logistic regression model from sklearn library\n",
    "from sklearn.linear_model import LogisticRegression"
   ]
  },
  {
   "cell_type": "code",
   "execution_count": 15,
   "metadata": {
    "pycharm": {
     "name": "#%%\n"
    }
   },
   "outputs": [],
   "source": [
    "#Model training\n",
    "reg = LogisticRegression(random_state=2019, solver='lbfgs').fit(x, y.values.ravel())"
   ]
  },
  {
   "cell_type": "code",
   "execution_count": 18,
   "outputs": [
    {
     "data": {
      "text/plain": "               competitorname  chocolate  fruity  caramel  peanutyalmondy  \\\n0                Sugar Babies          0       1        1               0   \n1                 Sugar Daddy          1       0        0               0   \n2                Super Bubble          0       1        0               0   \n3                Swedish Fish          0       1        0               0   \n4                 Tootsie Pop          1       0        0               0   \n5        Tootsie Roll Juniors          1       0        0               0   \n6        Tootsie Roll Midgies          1       0        0               0   \n7     Tootsie Roll Snack Bars          1       0        0               0   \n8           Trolli Sour Bites          0       1        0               0   \n9                        Twix          0       1        0               0   \n10                  Twizzlers          0       1        0               0   \n11                   Warheads          0       1        0               0   \n12        Welchs Fruit Snacks          0       1        0               0   \n13  Werthers Original Caramel          1       0        1               0   \n14                   Whoppers          1       0        0               0   \n\n    nougat  crispedricewafer  hard  bar  pluribus  sugarpercent  pricepercent  \\\n0        0                 0     1    0         1      0.647364       0.76700   \n1        1                 0     1    0         0      0.418000       0.32500   \n2        0                 0     0    0         0      0.162000       0.11600   \n3        0                 0     0    0         1      0.604000       0.75500   \n4        0                 0     0    0         0      0.876560       0.56540   \n5        0                 0     0    0         0      0.313000       0.51100   \n6        0                 0     0    0         1      0.174000       0.01100   \n7        0                 0     0    1         0      0.465000       0.32500   \n8        0                 0     0    0         1      0.313000       0.25500   \n9        0                 0     0    0         0      0.735430       0.86634   \n10       0                 0     0    0         0      0.220000       0.11600   \n11       0                 0     1    0         0      0.093000       0.11600   \n12       0                 0     0    0         1      0.313000       0.31300   \n13       0                 0     1    0         0      0.186000       0.26700   \n14       0                 0     0    0         1      0.872000       0.84800   \n\n    Y  \n0   0  \n1   0  \n2   0  \n3   1  \n4   1  \n5   0  \n6   0  \n7   1  \n8   0  \n9   1  \n10  0  \n11  0  \n12  0  \n13  0  \n14  1  ",
      "text/html": "<div>\n<style scoped>\n    .dataframe tbody tr th:only-of-type {\n        vertical-align: middle;\n    }\n\n    .dataframe tbody tr th {\n        vertical-align: top;\n    }\n\n    .dataframe thead th {\n        text-align: right;\n    }\n</style>\n<table border=\"1\" class=\"dataframe\">\n  <thead>\n    <tr style=\"text-align: right;\">\n      <th></th>\n      <th>competitorname</th>\n      <th>chocolate</th>\n      <th>fruity</th>\n      <th>caramel</th>\n      <th>peanutyalmondy</th>\n      <th>nougat</th>\n      <th>crispedricewafer</th>\n      <th>hard</th>\n      <th>bar</th>\n      <th>pluribus</th>\n      <th>sugarpercent</th>\n      <th>pricepercent</th>\n      <th>Y</th>\n    </tr>\n  </thead>\n  <tbody>\n    <tr>\n      <th>0</th>\n      <td>Sugar Babies</td>\n      <td>0</td>\n      <td>1</td>\n      <td>1</td>\n      <td>0</td>\n      <td>0</td>\n      <td>0</td>\n      <td>1</td>\n      <td>0</td>\n      <td>1</td>\n      <td>0.647364</td>\n      <td>0.76700</td>\n      <td>0</td>\n    </tr>\n    <tr>\n      <th>1</th>\n      <td>Sugar Daddy</td>\n      <td>1</td>\n      <td>0</td>\n      <td>0</td>\n      <td>0</td>\n      <td>1</td>\n      <td>0</td>\n      <td>1</td>\n      <td>0</td>\n      <td>0</td>\n      <td>0.418000</td>\n      <td>0.32500</td>\n      <td>0</td>\n    </tr>\n    <tr>\n      <th>2</th>\n      <td>Super Bubble</td>\n      <td>0</td>\n      <td>1</td>\n      <td>0</td>\n      <td>0</td>\n      <td>0</td>\n      <td>0</td>\n      <td>0</td>\n      <td>0</td>\n      <td>0</td>\n      <td>0.162000</td>\n      <td>0.11600</td>\n      <td>0</td>\n    </tr>\n    <tr>\n      <th>3</th>\n      <td>Swedish Fish</td>\n      <td>0</td>\n      <td>1</td>\n      <td>0</td>\n      <td>0</td>\n      <td>0</td>\n      <td>0</td>\n      <td>0</td>\n      <td>0</td>\n      <td>1</td>\n      <td>0.604000</td>\n      <td>0.75500</td>\n      <td>1</td>\n    </tr>\n    <tr>\n      <th>4</th>\n      <td>Tootsie Pop</td>\n      <td>1</td>\n      <td>0</td>\n      <td>0</td>\n      <td>0</td>\n      <td>0</td>\n      <td>0</td>\n      <td>0</td>\n      <td>0</td>\n      <td>0</td>\n      <td>0.876560</td>\n      <td>0.56540</td>\n      <td>1</td>\n    </tr>\n    <tr>\n      <th>5</th>\n      <td>Tootsie Roll Juniors</td>\n      <td>1</td>\n      <td>0</td>\n      <td>0</td>\n      <td>0</td>\n      <td>0</td>\n      <td>0</td>\n      <td>0</td>\n      <td>0</td>\n      <td>0</td>\n      <td>0.313000</td>\n      <td>0.51100</td>\n      <td>0</td>\n    </tr>\n    <tr>\n      <th>6</th>\n      <td>Tootsie Roll Midgies</td>\n      <td>1</td>\n      <td>0</td>\n      <td>0</td>\n      <td>0</td>\n      <td>0</td>\n      <td>0</td>\n      <td>0</td>\n      <td>0</td>\n      <td>1</td>\n      <td>0.174000</td>\n      <td>0.01100</td>\n      <td>0</td>\n    </tr>\n    <tr>\n      <th>7</th>\n      <td>Tootsie Roll Snack Bars</td>\n      <td>1</td>\n      <td>0</td>\n      <td>0</td>\n      <td>0</td>\n      <td>0</td>\n      <td>0</td>\n      <td>0</td>\n      <td>1</td>\n      <td>0</td>\n      <td>0.465000</td>\n      <td>0.32500</td>\n      <td>1</td>\n    </tr>\n    <tr>\n      <th>8</th>\n      <td>Trolli Sour Bites</td>\n      <td>0</td>\n      <td>1</td>\n      <td>0</td>\n      <td>0</td>\n      <td>0</td>\n      <td>0</td>\n      <td>0</td>\n      <td>0</td>\n      <td>1</td>\n      <td>0.313000</td>\n      <td>0.25500</td>\n      <td>0</td>\n    </tr>\n    <tr>\n      <th>9</th>\n      <td>Twix</td>\n      <td>0</td>\n      <td>1</td>\n      <td>0</td>\n      <td>0</td>\n      <td>0</td>\n      <td>0</td>\n      <td>0</td>\n      <td>0</td>\n      <td>0</td>\n      <td>0.735430</td>\n      <td>0.86634</td>\n      <td>1</td>\n    </tr>\n    <tr>\n      <th>10</th>\n      <td>Twizzlers</td>\n      <td>0</td>\n      <td>1</td>\n      <td>0</td>\n      <td>0</td>\n      <td>0</td>\n      <td>0</td>\n      <td>0</td>\n      <td>0</td>\n      <td>0</td>\n      <td>0.220000</td>\n      <td>0.11600</td>\n      <td>0</td>\n    </tr>\n    <tr>\n      <th>11</th>\n      <td>Warheads</td>\n      <td>0</td>\n      <td>1</td>\n      <td>0</td>\n      <td>0</td>\n      <td>0</td>\n      <td>0</td>\n      <td>1</td>\n      <td>0</td>\n      <td>0</td>\n      <td>0.093000</td>\n      <td>0.11600</td>\n      <td>0</td>\n    </tr>\n    <tr>\n      <th>12</th>\n      <td>Welchs Fruit Snacks</td>\n      <td>0</td>\n      <td>1</td>\n      <td>0</td>\n      <td>0</td>\n      <td>0</td>\n      <td>0</td>\n      <td>0</td>\n      <td>0</td>\n      <td>1</td>\n      <td>0.313000</td>\n      <td>0.31300</td>\n      <td>0</td>\n    </tr>\n    <tr>\n      <th>13</th>\n      <td>Werthers Original Caramel</td>\n      <td>1</td>\n      <td>0</td>\n      <td>1</td>\n      <td>0</td>\n      <td>0</td>\n      <td>0</td>\n      <td>1</td>\n      <td>0</td>\n      <td>0</td>\n      <td>0.186000</td>\n      <td>0.26700</td>\n      <td>0</td>\n    </tr>\n    <tr>\n      <th>14</th>\n      <td>Whoppers</td>\n      <td>1</td>\n      <td>0</td>\n      <td>0</td>\n      <td>0</td>\n      <td>0</td>\n      <td>0</td>\n      <td>0</td>\n      <td>0</td>\n      <td>1</td>\n      <td>0.872000</td>\n      <td>0.84800</td>\n      <td>1</td>\n    </tr>\n  </tbody>\n</table>\n</div>"
     },
     "execution_count": 18,
     "metadata": {},
     "output_type": "execute_result"
    }
   ],
   "source": [
    "test = pd.read_csv('candy-test.csv')\n",
    "test"
   ],
   "metadata": {
    "collapsed": false,
    "pycharm": {
     "name": "#%%\n"
    }
   }
  },
  {
   "cell_type": "code",
   "execution_count": 29,
   "outputs": [
    {
     "data": {
      "text/plain": "   chocolate  fruity  caramel  peanutyalmondy  nougat  crispedricewafer  hard  \\\n6          1       0        0               0       0                 0     0   \n\n   bar  pluribus  sugarpercent  pricepercent  \n6    0         1         0.174         0.011  ",
      "text/html": "<div>\n<style scoped>\n    .dataframe tbody tr th:only-of-type {\n        vertical-align: middle;\n    }\n\n    .dataframe tbody tr th {\n        vertical-align: top;\n    }\n\n    .dataframe thead th {\n        text-align: right;\n    }\n</style>\n<table border=\"1\" class=\"dataframe\">\n  <thead>\n    <tr style=\"text-align: right;\">\n      <th></th>\n      <th>chocolate</th>\n      <th>fruity</th>\n      <th>caramel</th>\n      <th>peanutyalmondy</th>\n      <th>nougat</th>\n      <th>crispedricewafer</th>\n      <th>hard</th>\n      <th>bar</th>\n      <th>pluribus</th>\n      <th>sugarpercent</th>\n      <th>pricepercent</th>\n    </tr>\n  </thead>\n  <tbody>\n    <tr>\n      <th>6</th>\n      <td>1</td>\n      <td>0</td>\n      <td>0</td>\n      <td>0</td>\n      <td>0</td>\n      <td>0</td>\n      <td>0</td>\n      <td>0</td>\n      <td>1</td>\n      <td>0.174</td>\n      <td>0.011</td>\n    </tr>\n  </tbody>\n</table>\n</div>"
     },
     "execution_count": 29,
     "metadata": {},
     "output_type": "execute_result"
    }
   ],
   "source": [
    "test[test['competitorname'] == 'Tootsie Roll Midgies'].iloc[:, 1:-1]"
   ],
   "metadata": {
    "collapsed": false,
    "pycharm": {
     "name": "#%%\n"
    }
   }
  },
  {
   "cell_type": "markdown",
   "metadata": {
    "pycharm": {
     "name": "#%% md\n"
    }
   },
   "source": [
    "Prediction for the candies using the trained model"
   ]
  },
  {
   "cell_type": "code",
   "execution_count": 30,
   "metadata": {
    "pycharm": {
     "name": "#%%\n"
    }
   },
   "outputs": [
    {
     "data": {
      "text/plain": "array([[0.31708781, 0.68291219]])"
     },
     "execution_count": 30,
     "metadata": {},
     "output_type": "execute_result"
    }
   ],
   "source": [
    "#Prediction for the candies entered manually, probabilities are given for classes 0 and 1 respectively\n",
    "reg.predict_proba(test[test['competitorname'] == 'Tootsie Roll Midgies'].iloc[:, 1:-1])"
   ]
  },
  {
   "cell_type": "code",
   "execution_count": 31,
   "outputs": [
    {
     "data": {
      "text/plain": "array([[0.6199793, 0.3800207]])"
     },
     "execution_count": 31,
     "metadata": {},
     "output_type": "execute_result"
    }
   ],
   "source": [
    "reg.predict_proba(test[test['competitorname'] == 'Trolli Sour Bites'].iloc[:, 1:-1])"
   ],
   "metadata": {
    "collapsed": false,
    "pycharm": {
     "name": "#%%\n"
    }
   }
  },
  {
   "cell_type": "code",
   "execution_count": 35,
   "metadata": {
    "pycharm": {
     "name": "#%%\n"
    }
   },
   "outputs": [],
   "source": [
    "#Connecting the metrics from sklearn library\n",
    "from sklearn import metrics"
   ]
  },
  {
   "cell_type": "code",
   "execution_count": 33,
   "outputs": [],
   "source": [
    "pred = reg.predict(test.iloc[:, 1:-1])\n",
    "true = test.iloc[:, -1:]"
   ],
   "metadata": {
    "collapsed": false,
    "pycharm": {
     "name": "#%%\n"
    }
   }
  },
  {
   "cell_type": "code",
   "execution_count": 36,
   "metadata": {
    "pycharm": {
     "name": "#%%\n"
    }
   },
   "outputs": [],
   "source": [
    "#calculate FPR, TPR\n",
    "fpr, tpr, _ = metrics.roc_curve(true, pred)"
   ]
  },
  {
   "cell_type": "code",
   "execution_count": 42,
   "metadata": {
    "pycharm": {
     "name": "#%%\n"
    }
   },
   "outputs": [
    {
     "data": {
      "text/plain": "0.6499999999999999"
     },
     "execution_count": 42,
     "metadata": {},
     "output_type": "execute_result"
    }
   ],
   "source": [
    "#calculate AUC\n",
    "metrics.roc_auc_score(true, pred)"
   ]
  },
  {
   "cell_type": "code",
   "execution_count": 37,
   "metadata": {
    "pycharm": {
     "name": "#%%\n"
    }
   },
   "outputs": [
    {
     "data": {
      "text/plain": "0.6"
     },
     "execution_count": 37,
     "metadata": {},
     "output_type": "execute_result"
    }
   ],
   "source": [
    "#calculation Recall\n",
    "metrics.recall_score(true, pred)"
   ]
  },
  {
   "cell_type": "code",
   "execution_count": 39,
   "metadata": {
    "pycharm": {
     "name": "#%%\n"
    }
   },
   "outputs": [
    {
     "data": {
      "text/plain": "0.5"
     },
     "execution_count": 39,
     "metadata": {},
     "output_type": "execute_result"
    }
   ],
   "source": [
    "#calculation Precision\n",
    "metrics.precision_score(true, pred)"
   ]
  },
  {
   "cell_type": "code",
   "execution_count": 23,
   "metadata": {
    "pycharm": {
     "name": "#%%\n"
    }
   },
   "outputs": [],
   "source": [
    "#enabling libraries for visualization\n",
    "import matplotlib.pyplot as plt\n",
    "%matplotlib inline"
   ]
  },
  {
   "cell_type": "code",
   "execution_count": 43,
   "metadata": {
    "pycharm": {
     "name": "#%%\n"
    }
   },
   "outputs": [
    {
     "name": "stderr",
     "output_type": "stream",
     "text": [
      "C:\\Users\\gto_n\\anaconda3\\envs\\Python\\lib\\site-packages\\sklearn\\utils\\deprecation.py:87: FutureWarning: Function plot_roc_curve is deprecated; Function :func:`plot_roc_curve` is deprecated in 1.0 and will be removed in 1.2. Use one of the class methods: :meth:`sklearn.metric.RocCurveDisplay.from_predictions` or :meth:`sklearn.metric.RocCurveDisplay.from_estimator`.\n",
      "  warnings.warn(msg, category=FutureWarning)\n"
     ]
    },
    {
     "ename": "NameError",
     "evalue": "name 'plt' is not defined",
     "output_type": "error",
     "traceback": [
      "\u001B[1;31m---------------------------------------------------------------------------\u001B[0m",
      "\u001B[1;31mNameError\u001B[0m                                 Traceback (most recent call last)",
      "Input \u001B[1;32mIn [43]\u001B[0m, in \u001B[0;36m<cell line: 2>\u001B[1;34m()\u001B[0m\n\u001B[0;32m      1\u001B[0m metrics\u001B[38;5;241m.\u001B[39mplot_roc_curve(reg, test\u001B[38;5;241m.\u001B[39miloc[:, \u001B[38;5;241m1\u001B[39m:\u001B[38;5;241m-\u001B[39m\u001B[38;5;241m1\u001B[39m], true, color\u001B[38;5;241m=\u001B[39m\u001B[38;5;124m'\u001B[39m\u001B[38;5;124mdarkorange\u001B[39m\u001B[38;5;124m'\u001B[39m) \n\u001B[1;32m----> 2\u001B[0m \u001B[43mplt\u001B[49m\u001B[38;5;241m.\u001B[39mxlim([\u001B[38;5;241m0.0\u001B[39m, \u001B[38;5;241m1.0\u001B[39m])\n\u001B[0;32m      3\u001B[0m plt\u001B[38;5;241m.\u001B[39mylim([\u001B[38;5;241m0.0\u001B[39m, \u001B[38;5;241m1.05\u001B[39m])\n\u001B[0;32m      4\u001B[0m plt\u001B[38;5;241m.\u001B[39mxlabel(\u001B[38;5;124m'\u001B[39m\u001B[38;5;124mFalse Positive Rate\u001B[39m\u001B[38;5;124m'\u001B[39m)\n",
      "\u001B[1;31mNameError\u001B[0m: name 'plt' is not defined"
     ]
    },
    {
     "data": {
      "text/plain": "<Figure size 432x288 with 1 Axes>",
      "image/png": "[encoded data removed]"
     },
     "metadata": {
      "needs_background": "light"
     },
     "output_type": "display_data"
    }
   ],
   "source": [
    "metrics.plot_roc_curve(reg, test.iloc[:, 1:-1], true, color='darkorange')\n",
    "plt.xlim([0.0, 1.0])\n",
    "plt.ylim([0.0, 1.05])\n",
    "plt.xlabel('False Positive Rate')\n",
    "plt.ylabel('True Positive Rate')\n",
    "plt.title('Receiver operating characteristic example')\n",
    "plt.legend(loc=\"lower right\")\n",
    "plt.plot([0, 1], [0, 1], color='navy', lw=2, linestyle='--')\n",
    "plt.show()"
   ]
  }
 ],
 "metadata": {
  "kernelspec": {
   "display_name": "Python 3",
   "language": "python",
   "name": "python3"
  },
  "language_info": {
   "codemirror_mode": {
    "name": "ipython",
    "version": 3
   },
   "file_extension": ".py",
   "mimetype": "text/x-python",
   "name": "python",
   "nbconvert_exporter": "python",
   "pygments_lexer": "ipython3",
   "version": "3.8.3"
  }
 },
 "nbformat": 4,
 "nbformat_minor": 4
}