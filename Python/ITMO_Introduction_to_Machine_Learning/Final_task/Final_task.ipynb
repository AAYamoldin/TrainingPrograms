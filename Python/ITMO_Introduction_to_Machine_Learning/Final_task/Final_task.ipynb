{
 "cells": [
  {
   "cell_type": "code",
   "execution_count": 49,
   "outputs": [],
   "source": [
    "import pandas as pd\n",
    "import numpy as np\n",
    "from sklearn.preprocessing import MinMaxScaler\n",
    "from sklearn.linear_model import LogisticRegression\n",
    "from sklearn.neighbors import KNeighborsClassifier"
   ],
   "metadata": {
    "collapsed": false,
    "pycharm": {
     "name": "#%%\n"
    }
   }
  },
  {
   "cell_type": "code",
   "execution_count": 2,
   "outputs": [
    {
     "data": {
      "text/plain": "              MIP      STDIP      EKIP       SIP         MC       STDC  \\\n0      137.218750  45.390655  0.034985  0.134409   3.204013  17.177857   \n1       93.773438  41.883062  0.371402  1.291232   1.482441  12.959050   \n2       73.632812  35.461218  1.153607  4.161082   2.099498  13.057474   \n3       93.429688  39.883166  0.602060  1.518548   2.475753  14.146578   \n4      131.625000  44.111896  0.108905  0.239879  33.888796  70.398342   \n...           ...        ...       ...       ...        ...        ...   \n17893  121.117188  50.127279 -0.017936 -0.193900   1.566890  10.804730   \n17894  120.679688  40.918542  0.291465  0.627087   1.473244  13.912476   \n17895  138.101562  47.935314 -0.181827 -0.283746   3.270903  16.963817   \n17896  119.523438  44.198410  0.026662  0.352641   1.828595  12.674068   \n17897  154.875000  48.590766 -0.285643  0.129281   4.153010  21.971915   \n\n             EKC          SC  TARGET  \n0       7.494588   74.003104       0  \n1      12.242911  180.158844       0  \n2      10.013591  140.894151       0  \n3       8.770640  107.970173       0  \n4       1.689460    1.031847       0  \n...          ...         ...     ...  \n17893  13.737064  269.096109       0  \n17894  13.144044  203.416941       0  \n17895   6.988850   63.043499       0  \n17896  11.153939  166.582439       0  \n17897   6.746838   52.230021       0  \n\n[17898 rows x 9 columns]",
      "text/html": "<div>\n<style scoped>\n    .dataframe tbody tr th:only-of-type {\n        vertical-align: middle;\n    }\n\n    .dataframe tbody tr th {\n        vertical-align: top;\n    }\n\n    .dataframe thead th {\n        text-align: right;\n    }\n</style>\n<table border=\"1\" class=\"dataframe\">\n  <thead>\n    <tr style=\"text-align: right;\">\n      <th></th>\n      <th>MIP</th>\n      <th>STDIP</th>\n      <th>EKIP</th>\n      <th>SIP</th>\n      <th>MC</th>\n      <th>STDC</th>\n      <th>EKC</th>\n      <th>SC</th>\n      <th>TARGET</th>\n    </tr>\n  </thead>\n  <tbody>\n    <tr>\n      <th>0</th>\n      <td>137.218750</td>\n      <td>45.390655</td>\n      <td>0.034985</td>\n      <td>0.134409</td>\n      <td>3.204013</td>\n      <td>17.177857</td>\n      <td>7.494588</td>\n      <td>74.003104</td>\n      <td>0</td>\n    </tr>\n    <tr>\n      <th>1</th>\n      <td>93.773438</td>\n      <td>41.883062</td>\n      <td>0.371402</td>\n      <td>1.291232</td>\n      <td>1.482441</td>\n      <td>12.959050</td>\n      <td>12.242911</td>\n      <td>180.158844</td>\n      <td>0</td>\n    </tr>\n    <tr>\n      <th>2</th>\n      <td>73.632812</td>\n      <td>35.461218</td>\n      <td>1.153607</td>\n      <td>4.161082</td>\n      <td>2.099498</td>\n      <td>13.057474</td>\n      <td>10.013591</td>\n      <td>140.894151</td>\n      <td>0</td>\n    </tr>\n    <tr>\n      <th>3</th>\n      <td>93.429688</td>\n      <td>39.883166</td>\n      <td>0.602060</td>\n      <td>1.518548</td>\n      <td>2.475753</td>\n      <td>14.146578</td>\n      <td>8.770640</td>\n      <td>107.970173</td>\n      <td>0</td>\n    </tr>\n    <tr>\n      <th>4</th>\n      <td>131.625000</td>\n      <td>44.111896</td>\n      <td>0.108905</td>\n      <td>0.239879</td>\n      <td>33.888796</td>\n      <td>70.398342</td>\n      <td>1.689460</td>\n      <td>1.031847</td>\n      <td>0</td>\n    </tr>\n    <tr>\n      <th>...</th>\n      <td>...</td>\n      <td>...</td>\n      <td>...</td>\n      <td>...</td>\n      <td>...</td>\n      <td>...</td>\n      <td>...</td>\n      <td>...</td>\n      <td>...</td>\n    </tr>\n    <tr>\n      <th>17893</th>\n      <td>121.117188</td>\n      <td>50.127279</td>\n      <td>-0.017936</td>\n      <td>-0.193900</td>\n      <td>1.566890</td>\n      <td>10.804730</td>\n      <td>13.737064</td>\n      <td>269.096109</td>\n      <td>0</td>\n    </tr>\n    <tr>\n      <th>17894</th>\n      <td>120.679688</td>\n      <td>40.918542</td>\n      <td>0.291465</td>\n      <td>0.627087</td>\n      <td>1.473244</td>\n      <td>13.912476</td>\n      <td>13.144044</td>\n      <td>203.416941</td>\n      <td>0</td>\n    </tr>\n    <tr>\n      <th>17895</th>\n      <td>138.101562</td>\n      <td>47.935314</td>\n      <td>-0.181827</td>\n      <td>-0.283746</td>\n      <td>3.270903</td>\n      <td>16.963817</td>\n      <td>6.988850</td>\n      <td>63.043499</td>\n      <td>0</td>\n    </tr>\n    <tr>\n      <th>17896</th>\n      <td>119.523438</td>\n      <td>44.198410</td>\n      <td>0.026662</td>\n      <td>0.352641</td>\n      <td>1.828595</td>\n      <td>12.674068</td>\n      <td>11.153939</td>\n      <td>166.582439</td>\n      <td>0</td>\n    </tr>\n    <tr>\n      <th>17897</th>\n      <td>154.875000</td>\n      <td>48.590766</td>\n      <td>-0.285643</td>\n      <td>0.129281</td>\n      <td>4.153010</td>\n      <td>21.971915</td>\n      <td>6.746838</td>\n      <td>52.230021</td>\n      <td>0</td>\n    </tr>\n  </tbody>\n</table>\n<p>17898 rows × 9 columns</p>\n</div>"
     },
     "execution_count": 2,
     "metadata": {},
     "output_type": "execute_result"
    }
   ],
   "source": [
    "df = pd.read_csv('report.csv')\n",
    "df"
   ],
   "metadata": {
    "collapsed": false,
    "pycharm": {
     "name": "#%%\n"
    }
   }
  },
  {
   "cell_type": "code",
   "execution_count": 6,
   "outputs": [
    {
     "data": {
      "text/plain": "              MIP      STDIP      EKIP       SIP          MC       STDC  \\\n97     102.320312  45.574104  0.321909  0.379148    4.402174  22.540145   \n155     80.640625  56.308821  1.481006  1.952136   27.807692  63.855448   \n221    102.507812  58.882430  0.465318 -0.515088    1.677258  14.860146   \n255    102.328125  48.980403  0.315729 -0.202183    1.898829  13.839040   \n564    102.351562  35.394339  0.409204  1.810187    6.056020  30.250449   \n...           ...        ...       ...       ...         ...        ...   \n17467   83.773438  52.279031  1.206698  1.630834   97.373746  90.905524   \n17486   81.718750  52.875286  1.482041  1.538289  170.656354  80.765608   \n17585  102.359375  43.823106  0.242901  0.102978    3.076087  21.222584   \n17690  102.546875  45.627031  0.445201  0.487925    2.580268  19.197210   \n17783  102.570312  49.873227  0.451559  0.261429    2.708194  19.834288   \n\n             EKC          SC  TARGET  \n97      6.377098   47.256396       0  \n155     2.179750    3.354892       1  \n221    10.576487  127.393580       0  \n255    11.619939  172.130373       0  \n564     5.505104   31.174180       0  \n...          ...         ...     ...  \n17467   0.132639   -1.683188       1  \n17486  -1.002570   -0.280001       1  \n17585   7.502146   59.399329       0  \n17690   8.953785   88.399977       0  \n17783   8.078449   69.089674       0  \n\n[204 rows x 9 columns]",
      "text/html": "<div>\n<style scoped>\n    .dataframe tbody tr th:only-of-type {\n        vertical-align: middle;\n    }\n\n    .dataframe tbody tr th {\n        vertical-align: top;\n    }\n\n    .dataframe thead th {\n        text-align: right;\n    }\n</style>\n<table border=\"1\" class=\"dataframe\">\n  <thead>\n    <tr style=\"text-align: right;\">\n      <th></th>\n      <th>MIP</th>\n      <th>STDIP</th>\n      <th>EKIP</th>\n      <th>SIP</th>\n      <th>MC</th>\n      <th>STDC</th>\n      <th>EKC</th>\n      <th>SC</th>\n      <th>TARGET</th>\n    </tr>\n  </thead>\n  <tbody>\n    <tr>\n      <th>97</th>\n      <td>102.320312</td>\n      <td>45.574104</td>\n      <td>0.321909</td>\n      <td>0.379148</td>\n      <td>4.402174</td>\n      <td>22.540145</td>\n      <td>6.377098</td>\n      <td>47.256396</td>\n      <td>0</td>\n    </tr>\n    <tr>\n      <th>155</th>\n      <td>80.640625</td>\n      <td>56.308821</td>\n      <td>1.481006</td>\n      <td>1.952136</td>\n      <td>27.807692</td>\n      <td>63.855448</td>\n      <td>2.179750</td>\n      <td>3.354892</td>\n      <td>1</td>\n    </tr>\n    <tr>\n      <th>221</th>\n      <td>102.507812</td>\n      <td>58.882430</td>\n      <td>0.465318</td>\n      <td>-0.515088</td>\n      <td>1.677258</td>\n      <td>14.860146</td>\n      <td>10.576487</td>\n      <td>127.393580</td>\n      <td>0</td>\n    </tr>\n    <tr>\n      <th>255</th>\n      <td>102.328125</td>\n      <td>48.980403</td>\n      <td>0.315729</td>\n      <td>-0.202183</td>\n      <td>1.898829</td>\n      <td>13.839040</td>\n      <td>11.619939</td>\n      <td>172.130373</td>\n      <td>0</td>\n    </tr>\n    <tr>\n      <th>564</th>\n      <td>102.351562</td>\n      <td>35.394339</td>\n      <td>0.409204</td>\n      <td>1.810187</td>\n      <td>6.056020</td>\n      <td>30.250449</td>\n      <td>5.505104</td>\n      <td>31.174180</td>\n      <td>0</td>\n    </tr>\n    <tr>\n      <th>...</th>\n      <td>...</td>\n      <td>...</td>\n      <td>...</td>\n      <td>...</td>\n      <td>...</td>\n      <td>...</td>\n      <td>...</td>\n      <td>...</td>\n      <td>...</td>\n    </tr>\n    <tr>\n      <th>17467</th>\n      <td>83.773438</td>\n      <td>52.279031</td>\n      <td>1.206698</td>\n      <td>1.630834</td>\n      <td>97.373746</td>\n      <td>90.905524</td>\n      <td>0.132639</td>\n      <td>-1.683188</td>\n      <td>1</td>\n    </tr>\n    <tr>\n      <th>17486</th>\n      <td>81.718750</td>\n      <td>52.875286</td>\n      <td>1.482041</td>\n      <td>1.538289</td>\n      <td>170.656354</td>\n      <td>80.765608</td>\n      <td>-1.002570</td>\n      <td>-0.280001</td>\n      <td>1</td>\n    </tr>\n    <tr>\n      <th>17585</th>\n      <td>102.359375</td>\n      <td>43.823106</td>\n      <td>0.242901</td>\n      <td>0.102978</td>\n      <td>3.076087</td>\n      <td>21.222584</td>\n      <td>7.502146</td>\n      <td>59.399329</td>\n      <td>0</td>\n    </tr>\n    <tr>\n      <th>17690</th>\n      <td>102.546875</td>\n      <td>45.627031</td>\n      <td>0.445201</td>\n      <td>0.487925</td>\n      <td>2.580268</td>\n      <td>19.197210</td>\n      <td>8.953785</td>\n      <td>88.399977</td>\n      <td>0</td>\n    </tr>\n    <tr>\n      <th>17783</th>\n      <td>102.570312</td>\n      <td>49.873227</td>\n      <td>0.451559</td>\n      <td>0.261429</td>\n      <td>2.708194</td>\n      <td>19.834288</td>\n      <td>8.078449</td>\n      <td>69.089674</td>\n      <td>0</td>\n    </tr>\n  </tbody>\n</table>\n<p>204 rows × 9 columns</p>\n</div>"
     },
     "execution_count": 6,
     "metadata": {},
     "output_type": "execute_result"
    }
   ],
   "source": [
    "df[((df['MIP'] >= 102.234375) & (df['MIP'] <= 102.6015625) & (df['TARGET'] == 0)) | ((df['MIP'] >= 77.4921875) & (df['MIP'] <= 83.7734375) & (df['TARGET'] == 1))]"
   ],
   "metadata": {
    "collapsed": false,
    "pycharm": {
     "name": "#%%\n"
    }
   }
  },
  {
   "cell_type": "code",
   "execution_count": 62,
   "outputs": [
    {
     "data": {
      "text/plain": "MIP       91.632123\nSTDIP     44.293987\nEKIP       0.940249\nSIP        2.274948\nMC        22.377066\nSTDC      37.371435\nEKC        6.330461\nSC        69.007633\nTARGET     0.495098\ndtype: float64"
     },
     "execution_count": 62,
     "metadata": {},
     "output_type": "execute_result"
    }
   ],
   "source": [
    "df[((df['MIP'] >= 102.234375) & (df['MIP'] <= 102.6015625) & (df['TARGET'] == 0)) | ((df['MIP'] >= 77.4921875) & (df['MIP'] <= 83.7734375) & (df['TARGET'] == 1))].mean()"
   ],
   "metadata": {
    "collapsed": false,
    "pycharm": {
     "name": "#%%\n"
    }
   }
  },
  {
   "cell_type": "code",
   "execution_count": 63,
   "outputs": [],
   "source": [
    "new = df[((df['MIP'] >= 102.234375) & (df['MIP'] <= 102.6015625) & (df['TARGET'] == 0)) | ((df['MIP'] >= 77.4921875) & (df['MIP'] <= 83.7734375) & (df['TARGET'] == 1))]"
   ],
   "metadata": {
    "collapsed": false,
    "pycharm": {
     "name": "#%%\n"
    }
   }
  },
  {
   "cell_type": "code",
   "execution_count": 64,
   "outputs": [
    {
     "data": {
      "text/plain": "              MIP      STDIP      EKIP       SIP          MC       STDC  \\\n97     102.320312  45.574104  0.321909  0.379148    4.402174  22.540145   \n155     80.640625  56.308821  1.481006  1.952136   27.807692  63.855448   \n221    102.507812  58.882430  0.465318 -0.515088    1.677258  14.860146   \n255    102.328125  48.980403  0.315729 -0.202183    1.898829  13.839040   \n564    102.351562  35.394339  0.409204  1.810187    6.056020  30.250449   \n...           ...        ...       ...       ...         ...        ...   \n17467   83.773438  52.279031  1.206698  1.630834   97.373746  90.905524   \n17486   81.718750  52.875286  1.482041  1.538289  170.656354  80.765608   \n17585  102.359375  43.823106  0.242901  0.102978    3.076087  21.222584   \n17690  102.546875  45.627031  0.445201  0.487925    2.580268  19.197210   \n17783  102.570312  49.873227  0.451559  0.261429    2.708194  19.834288   \n\n             EKC          SC  \n97      6.377098   47.256396  \n155     2.179750    3.354892  \n221    10.576487  127.393580  \n255    11.619939  172.130373  \n564     5.505104   31.174180  \n...          ...         ...  \n17467   0.132639   -1.683188  \n17486  -1.002570   -0.280001  \n17585   7.502146   59.399329  \n17690   8.953785   88.399977  \n17783   8.078449   69.089674  \n\n[204 rows x 8 columns]",
      "text/html": "<div>\n<style scoped>\n    .dataframe tbody tr th:only-of-type {\n        vertical-align: middle;\n    }\n\n    .dataframe tbody tr th {\n        vertical-align: top;\n    }\n\n    .dataframe thead th {\n        text-align: right;\n    }\n</style>\n<table border=\"1\" class=\"dataframe\">\n  <thead>\n    <tr style=\"text-align: right;\">\n      <th></th>\n      <th>MIP</th>\n      <th>STDIP</th>\n      <th>EKIP</th>\n      <th>SIP</th>\n      <th>MC</th>\n      <th>STDC</th>\n      <th>EKC</th>\n      <th>SC</th>\n    </tr>\n  </thead>\n  <tbody>\n    <tr>\n      <th>97</th>\n      <td>102.320312</td>\n      <td>45.574104</td>\n      <td>0.321909</td>\n      <td>0.379148</td>\n      <td>4.402174</td>\n      <td>22.540145</td>\n      <td>6.377098</td>\n      <td>47.256396</td>\n    </tr>\n    <tr>\n      <th>155</th>\n      <td>80.640625</td>\n      <td>56.308821</td>\n      <td>1.481006</td>\n      <td>1.952136</td>\n      <td>27.807692</td>\n      <td>63.855448</td>\n      <td>2.179750</td>\n      <td>3.354892</td>\n    </tr>\n    <tr>\n      <th>221</th>\n      <td>102.507812</td>\n      <td>58.882430</td>\n      <td>0.465318</td>\n      <td>-0.515088</td>\n      <td>1.677258</td>\n      <td>14.860146</td>\n      <td>10.576487</td>\n      <td>127.393580</td>\n    </tr>\n    <tr>\n      <th>255</th>\n      <td>102.328125</td>\n      <td>48.980403</td>\n      <td>0.315729</td>\n      <td>-0.202183</td>\n      <td>1.898829</td>\n      <td>13.839040</td>\n      <td>11.619939</td>\n      <td>172.130373</td>\n    </tr>\n    <tr>\n      <th>564</th>\n      <td>102.351562</td>\n      <td>35.394339</td>\n      <td>0.409204</td>\n      <td>1.810187</td>\n      <td>6.056020</td>\n      <td>30.250449</td>\n      <td>5.505104</td>\n      <td>31.174180</td>\n    </tr>\n    <tr>\n      <th>...</th>\n      <td>...</td>\n      <td>...</td>\n      <td>...</td>\n      <td>...</td>\n      <td>...</td>\n      <td>...</td>\n      <td>...</td>\n      <td>...</td>\n    </tr>\n    <tr>\n      <th>17467</th>\n      <td>83.773438</td>\n      <td>52.279031</td>\n      <td>1.206698</td>\n      <td>1.630834</td>\n      <td>97.373746</td>\n      <td>90.905524</td>\n      <td>0.132639</td>\n      <td>-1.683188</td>\n    </tr>\n    <tr>\n      <th>17486</th>\n      <td>81.718750</td>\n      <td>52.875286</td>\n      <td>1.482041</td>\n      <td>1.538289</td>\n      <td>170.656354</td>\n      <td>80.765608</td>\n      <td>-1.002570</td>\n      <td>-0.280001</td>\n    </tr>\n    <tr>\n      <th>17585</th>\n      <td>102.359375</td>\n      <td>43.823106</td>\n      <td>0.242901</td>\n      <td>0.102978</td>\n      <td>3.076087</td>\n      <td>21.222584</td>\n      <td>7.502146</td>\n      <td>59.399329</td>\n    </tr>\n    <tr>\n      <th>17690</th>\n      <td>102.546875</td>\n      <td>45.627031</td>\n      <td>0.445201</td>\n      <td>0.487925</td>\n      <td>2.580268</td>\n      <td>19.197210</td>\n      <td>8.953785</td>\n      <td>88.399977</td>\n    </tr>\n    <tr>\n      <th>17783</th>\n      <td>102.570312</td>\n      <td>49.873227</td>\n      <td>0.451559</td>\n      <td>0.261429</td>\n      <td>2.708194</td>\n      <td>19.834288</td>\n      <td>8.078449</td>\n      <td>69.089674</td>\n    </tr>\n  </tbody>\n</table>\n<p>204 rows × 8 columns</p>\n</div>"
     },
     "execution_count": 64,
     "metadata": {},
     "output_type": "execute_result"
    }
   ],
   "source": [
    "predcors = new.drop('TARGET', axis=1)\n",
    "predcors"
   ],
   "metadata": {
    "collapsed": false,
    "pycharm": {
     "name": "#%%\n"
    }
   }
  },
  {
   "cell_type": "code",
   "execution_count": 65,
   "outputs": [
    {
     "data": {
      "text/plain": "97       0\n155      1\n221      0\n255      0\n564      0\n        ..\n17467    1\n17486    1\n17585    0\n17690    0\n17783    0\nName: TARGET, Length: 204, dtype: int64"
     },
     "execution_count": 65,
     "metadata": {},
     "output_type": "execute_result"
    }
   ],
   "source": [
    "target = new['TARGET']\n",
    "target"
   ],
   "metadata": {
    "collapsed": false,
    "pycharm": {
     "name": "#%%\n"
    }
   }
  },
  {
   "cell_type": "code",
   "execution_count": 66,
   "outputs": [],
   "source": [
    "scaler = MinMaxScaler()\n",
    "norm = scaler.fit_transform(predcors)"
   ],
   "metadata": {
    "collapsed": false,
    "pycharm": {
     "name": "#%%\n"
    }
   }
  },
  {
   "cell_type": "code",
   "execution_count": 67,
   "outputs": [
    {
     "data": {
      "text/plain": "0.5631337164610708"
     },
     "execution_count": 67,
     "metadata": {},
     "output_type": "execute_result"
    }
   ],
   "source": [
    "np.mean(norm[:, 0])"
   ],
   "metadata": {
    "collapsed": false,
    "pycharm": {
     "name": "#%%\n"
    }
   }
  },
  {
   "cell_type": "code",
   "execution_count": 68,
   "outputs": [],
   "source": [
    "reg = LogisticRegression(random_state=2019, solver='lbfgs').fit(norm, target.values.ravel())"
   ],
   "metadata": {
    "collapsed": false,
    "pycharm": {
     "name": "#%%\n"
    }
   }
  },
  {
   "cell_type": "code",
   "execution_count": 69,
   "outputs": [
    {
     "data": {
      "text/plain": "array([1], dtype=int64)"
     },
     "execution_count": 69,
     "metadata": {},
     "output_type": "execute_result"
    }
   ],
   "source": [
    "reg.predict(np.array([[0.237, 0.293, 0.897, 0.0, 0.841, 0.969, 0.138, 0.083]]))"
   ],
   "metadata": {
    "collapsed": false,
    "pycharm": {
     "name": "#%%\n"
    }
   }
  },
  {
   "cell_type": "code",
   "execution_count": 70,
   "outputs": [
    {
     "data": {
      "text/plain": "array([[0.03591177, 0.96408823]])"
     },
     "execution_count": 70,
     "metadata": {},
     "output_type": "execute_result"
    }
   ],
   "source": [
    "reg.predict_proba(np.array([[0.237, 0.293, 0.897, 0.0, 0.841, 0.969, 0.138, 0.083]]))"
   ],
   "metadata": {
    "collapsed": false,
    "pycharm": {
     "name": "#%%\n"
    }
   }
  },
  {
   "cell_type": "code",
   "execution_count": 44,
   "outputs": [],
   "source": [
    "kmeans = KMeans(n_clusters=2, max_iter=100, n_init=1)\n",
    "model = kmeans.fit(norm)"
   ],
   "metadata": {
    "collapsed": false,
    "pycharm": {
     "name": "#%%\n"
    }
   }
  },
  {
   "cell_type": "code",
   "execution_count": 42,
   "outputs": [],
   "source": [
    "alldistances = kmeans.fit_transform(np.array([[0.237, 0.293, 0.897, 0.0, 0.841, 0.969, 0.138, 0.083]]).reshape(-1,1))"
   ],
   "metadata": {
    "collapsed": false,
    "pycharm": {
     "name": "#%%\n"
    }
   }
  },
  {
   "cell_type": "code",
   "execution_count": 43,
   "outputs": [
    {
     "data": {
      "text/plain": "array([[0.0868    , 0.66533333],\n       [0.1428    , 0.60933333],\n       [0.7468    , 0.00533333],\n       [0.1502    , 0.90233333],\n       [0.6908    , 0.06133333],\n       [0.8188    , 0.06666667],\n       [0.0122    , 0.76433333],\n       [0.0672    , 0.81933333]])"
     },
     "execution_count": 43,
     "metadata": {},
     "output_type": "execute_result"
    }
   ],
   "source": [
    "alldistances"
   ],
   "metadata": {
    "collapsed": false,
    "pycharm": {
     "name": "#%%\n"
    }
   }
  },
  {
   "cell_type": "code",
   "execution_count": 48,
   "outputs": [
    {
     "data": {
      "text/plain": "array([0.0122    , 0.00533333])"
     },
     "execution_count": 48,
     "metadata": {},
     "output_type": "execute_result"
    }
   ],
   "source": [
    "np.min(alldistances, axis=0)"
   ],
   "metadata": {
    "collapsed": false,
    "pycharm": {
     "name": "#%%\n"
    }
   }
  },
  {
   "cell_type": "code",
   "execution_count": 71,
   "outputs": [
    {
     "data": {
      "text/plain": "KNeighborsClassifier()"
     },
     "execution_count": 71,
     "metadata": {},
     "output_type": "execute_result"
    }
   ],
   "source": [
    "neigh = KNeighborsClassifier(n_neighbors=5)\n",
    "neigh.fit(norm, target)"
   ],
   "metadata": {
    "collapsed": false,
    "pycharm": {
     "name": "#%%\n"
    }
   }
  },
  {
   "cell_type": "code",
   "execution_count": 72,
   "outputs": [
    {
     "data": {
      "text/plain": "array([1], dtype=int64)"
     },
     "execution_count": 72,
     "metadata": {},
     "output_type": "execute_result"
    }
   ],
   "source": [
    "neigh.predict(np.array([[0.237, 0.293, 0.897, 0.0, 0.841, 0.969, 0.138, 0.083]]))"
   ],
   "metadata": {
    "collapsed": false,
    "pycharm": {
     "name": "#%%\n"
    }
   }
  },
  {
   "cell_type": "code",
   "execution_count": 73,
   "outputs": [
    {
     "data": {
      "text/plain": "(array([[0.41551854, 0.4185572 , 0.44611942, 0.44723977, 0.45111229]]),\n array([[164, 187, 169, 136, 102]], dtype=int64))"
     },
     "execution_count": 73,
     "metadata": {},
     "output_type": "execute_result"
    }
   ],
   "source": [
    "neigh.kneighbors(np.array([[0.237, 0.293, 0.897, 0.0, 0.841, 0.969, 0.138, 0.083]]))"
   ],
   "metadata": {
    "collapsed": false,
    "pycharm": {
     "name": "#%%\n"
    }
   }
  },
  {
   "cell_type": "code",
   "execution_count": null,
   "outputs": [],
   "source": [],
   "metadata": {
    "collapsed": false,
    "pycharm": {
     "name": "#%%\n"
    }
   }
  }
 ],
 "metadata": {
  "kernelspec": {
   "display_name": "Python 3",
   "language": "python",
   "name": "python3"
  },
  "language_info": {
   "codemirror_mode": {
    "name": "ipython",
    "version": 2
   },
   "file_extension": ".py",
   "mimetype": "text/x-python",
   "name": "python",
   "nbconvert_exporter": "python",
   "pygments_lexer": "ipython2",
   "version": "2.7.6"
  }
 },
 "nbformat": 4,
 "nbformat_minor": 0
}