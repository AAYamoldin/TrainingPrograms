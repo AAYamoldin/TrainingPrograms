{
 "cells": [
  {
   "cell_type": "code",
   "execution_count": 23,
   "outputs": [],
   "source": [
    "import pandas as pd\n",
    "import numpy as np\n",
    "from sklearn.preprocessing import MinMaxScaler\n",
    "from sklearn.linear_model import LogisticRegression\n",
    "from sklearn.neighbors import KNeighborsClassifier"
   ],
   "metadata": {
    "collapsed": false,
    "pycharm": {
     "name": "#%%\n"
    }
   }
  },
  {
   "cell_type": "code",
   "execution_count": 2,
   "outputs": [
    {
     "data": {
      "text/plain": "              MIP      STDIP      EKIP       SIP          MC       STDC  \\\n0      140.562500  55.683782 -0.234571 -0.699648    3.199833  19.110426   \n1      102.507812  58.882430  0.465318 -0.515088    1.677258  14.860146   \n2      103.015625  39.341649  0.323328  1.051164    3.121237  21.744669   \n3      136.750000  57.178449 -0.068415 -0.636238    3.642977  20.959280   \n4       88.726562  40.672225  0.600866  1.123492    1.178930  11.468720   \n...           ...        ...       ...       ...         ...        ...   \n17893  136.429688  59.847421 -0.187846 -0.738123    1.296823  12.166062   \n17894  122.554688  49.485605  0.127978  0.323061   16.409699  44.626893   \n17895  119.335938  59.935939  0.159363 -0.743025   21.430602  58.872000   \n17896  114.507812  53.902400  0.201161 -0.024789    1.946488  13.381731   \n17897   57.062500  85.797340  1.406391  0.089520  188.306020  64.712562   \n\n             EKC          SC  TG  \n0       7.975532   74.242225   0  \n1      10.576487  127.393580   0  \n2       7.735822   63.171909   0  \n3       6.896499   53.593661   0  \n4      14.269573  252.567306   0  \n...          ...         ...  ..  \n17893  15.450260  285.931022   0  \n17894   2.945244    8.297092   0  \n17895   2.499517    4.595173   0  \n17896  10.007967  134.238910   0  \n17897  -1.597527    1.429475   0  \n\n[17898 rows x 9 columns]",
      "text/html": "<div>\n<style scoped>\n    .dataframe tbody tr th:only-of-type {\n        vertical-align: middle;\n    }\n\n    .dataframe tbody tr th {\n        vertical-align: top;\n    }\n\n    .dataframe thead th {\n        text-align: right;\n    }\n</style>\n<table border=\"1\" class=\"dataframe\">\n  <thead>\n    <tr style=\"text-align: right;\">\n      <th></th>\n      <th>MIP</th>\n      <th>STDIP</th>\n      <th>EKIP</th>\n      <th>SIP</th>\n      <th>MC</th>\n      <th>STDC</th>\n      <th>EKC</th>\n      <th>SC</th>\n      <th>TG</th>\n    </tr>\n  </thead>\n  <tbody>\n    <tr>\n      <th>0</th>\n      <td>140.562500</td>\n      <td>55.683782</td>\n      <td>-0.234571</td>\n      <td>-0.699648</td>\n      <td>3.199833</td>\n      <td>19.110426</td>\n      <td>7.975532</td>\n      <td>74.242225</td>\n      <td>0</td>\n    </tr>\n    <tr>\n      <th>1</th>\n      <td>102.507812</td>\n      <td>58.882430</td>\n      <td>0.465318</td>\n      <td>-0.515088</td>\n      <td>1.677258</td>\n      <td>14.860146</td>\n      <td>10.576487</td>\n      <td>127.393580</td>\n      <td>0</td>\n    </tr>\n    <tr>\n      <th>2</th>\n      <td>103.015625</td>\n      <td>39.341649</td>\n      <td>0.323328</td>\n      <td>1.051164</td>\n      <td>3.121237</td>\n      <td>21.744669</td>\n      <td>7.735822</td>\n      <td>63.171909</td>\n      <td>0</td>\n    </tr>\n    <tr>\n      <th>3</th>\n      <td>136.750000</td>\n      <td>57.178449</td>\n      <td>-0.068415</td>\n      <td>-0.636238</td>\n      <td>3.642977</td>\n      <td>20.959280</td>\n      <td>6.896499</td>\n      <td>53.593661</td>\n      <td>0</td>\n    </tr>\n    <tr>\n      <th>4</th>\n      <td>88.726562</td>\n      <td>40.672225</td>\n      <td>0.600866</td>\n      <td>1.123492</td>\n      <td>1.178930</td>\n      <td>11.468720</td>\n      <td>14.269573</td>\n      <td>252.567306</td>\n      <td>0</td>\n    </tr>\n    <tr>\n      <th>...</th>\n      <td>...</td>\n      <td>...</td>\n      <td>...</td>\n      <td>...</td>\n      <td>...</td>\n      <td>...</td>\n      <td>...</td>\n      <td>...</td>\n      <td>...</td>\n    </tr>\n    <tr>\n      <th>17893</th>\n      <td>136.429688</td>\n      <td>59.847421</td>\n      <td>-0.187846</td>\n      <td>-0.738123</td>\n      <td>1.296823</td>\n      <td>12.166062</td>\n      <td>15.450260</td>\n      <td>285.931022</td>\n      <td>0</td>\n    </tr>\n    <tr>\n      <th>17894</th>\n      <td>122.554688</td>\n      <td>49.485605</td>\n      <td>0.127978</td>\n      <td>0.323061</td>\n      <td>16.409699</td>\n      <td>44.626893</td>\n      <td>2.945244</td>\n      <td>8.297092</td>\n      <td>0</td>\n    </tr>\n    <tr>\n      <th>17895</th>\n      <td>119.335938</td>\n      <td>59.935939</td>\n      <td>0.159363</td>\n      <td>-0.743025</td>\n      <td>21.430602</td>\n      <td>58.872000</td>\n      <td>2.499517</td>\n      <td>4.595173</td>\n      <td>0</td>\n    </tr>\n    <tr>\n      <th>17896</th>\n      <td>114.507812</td>\n      <td>53.902400</td>\n      <td>0.201161</td>\n      <td>-0.024789</td>\n      <td>1.946488</td>\n      <td>13.381731</td>\n      <td>10.007967</td>\n      <td>134.238910</td>\n      <td>0</td>\n    </tr>\n    <tr>\n      <th>17897</th>\n      <td>57.062500</td>\n      <td>85.797340</td>\n      <td>1.406391</td>\n      <td>0.089520</td>\n      <td>188.306020</td>\n      <td>64.712562</td>\n      <td>-1.597527</td>\n      <td>1.429475</td>\n      <td>0</td>\n    </tr>\n  </tbody>\n</table>\n<p>17898 rows × 9 columns</p>\n</div>"
     },
     "execution_count": 2,
     "metadata": {},
     "output_type": "execute_result"
    }
   ],
   "source": [
    "df = pd.read_csv('pulsar_stars_new.csv')\n",
    "df"
   ],
   "metadata": {
    "collapsed": false,
    "pycharm": {
     "name": "#%%\n"
    }
   }
  },
  {
   "cell_type": "code",
   "execution_count": 38,
   "outputs": [
    {
     "data": {
      "text/plain": "             MIP      STDIP      EKIP        SIP         MC       STDC  \\\n245    88.250000  39.046047  0.571522   1.470493   4.650502  25.669724   \n508    53.789062  30.062085  3.231805  18.011655  30.670569  67.752058   \n603    55.187500  35.726773  2.206251   8.562220  32.508361  59.498159   \n628    87.750000  38.204630  0.851328   2.376166   2.226589  15.082094   \n648    58.437500  47.269631  2.148539   4.683292  55.520067  74.838212   \n...          ...        ...       ...        ...        ...        ...   \n17460  88.367188  46.742625  0.729737   1.108588   3.726589  21.637049   \n17628  87.984375  39.870099  0.620862   1.687396   1.372910  10.938322   \n17670  87.742188  47.313325  0.369248   0.350295   3.006689  21.972732   \n17681  87.906250  39.194116  0.806024   2.050931   2.346154  15.186816   \n17830  87.625000  34.773149  0.712327   3.026128   2.178930  17.157048   \n\n             EKC          SC  TG  \n245     6.217865   40.987388   0  \n508     1.972958    2.336556   1  \n603     1.812744    2.443437   1  \n628     9.076639  102.732359   0  \n648     1.138116   -0.027806   1  \n...          ...         ...  ..  \n17460   6.614157   47.496511   0  \n17628  14.907060  289.407265   0  \n17670   7.793131   63.340975   0  \n17681   8.811533   97.265489   0  \n17830   9.315048   96.368709   0  \n\n[202 rows x 9 columns]",
      "text/html": "<div>\n<style scoped>\n    .dataframe tbody tr th:only-of-type {\n        vertical-align: middle;\n    }\n\n    .dataframe tbody tr th {\n        vertical-align: top;\n    }\n\n    .dataframe thead th {\n        text-align: right;\n    }\n</style>\n<table border=\"1\" class=\"dataframe\">\n  <thead>\n    <tr style=\"text-align: right;\">\n      <th></th>\n      <th>MIP</th>\n      <th>STDIP</th>\n      <th>EKIP</th>\n      <th>SIP</th>\n      <th>MC</th>\n      <th>STDC</th>\n      <th>EKC</th>\n      <th>SC</th>\n      <th>TG</th>\n    </tr>\n  </thead>\n  <tbody>\n    <tr>\n      <th>245</th>\n      <td>88.250000</td>\n      <td>39.046047</td>\n      <td>0.571522</td>\n      <td>1.470493</td>\n      <td>4.650502</td>\n      <td>25.669724</td>\n      <td>6.217865</td>\n      <td>40.987388</td>\n      <td>0</td>\n    </tr>\n    <tr>\n      <th>508</th>\n      <td>53.789062</td>\n      <td>30.062085</td>\n      <td>3.231805</td>\n      <td>18.011655</td>\n      <td>30.670569</td>\n      <td>67.752058</td>\n      <td>1.972958</td>\n      <td>2.336556</td>\n      <td>1</td>\n    </tr>\n    <tr>\n      <th>603</th>\n      <td>55.187500</td>\n      <td>35.726773</td>\n      <td>2.206251</td>\n      <td>8.562220</td>\n      <td>32.508361</td>\n      <td>59.498159</td>\n      <td>1.812744</td>\n      <td>2.443437</td>\n      <td>1</td>\n    </tr>\n    <tr>\n      <th>628</th>\n      <td>87.750000</td>\n      <td>38.204630</td>\n      <td>0.851328</td>\n      <td>2.376166</td>\n      <td>2.226589</td>\n      <td>15.082094</td>\n      <td>9.076639</td>\n      <td>102.732359</td>\n      <td>0</td>\n    </tr>\n    <tr>\n      <th>648</th>\n      <td>58.437500</td>\n      <td>47.269631</td>\n      <td>2.148539</td>\n      <td>4.683292</td>\n      <td>55.520067</td>\n      <td>74.838212</td>\n      <td>1.138116</td>\n      <td>-0.027806</td>\n      <td>1</td>\n    </tr>\n    <tr>\n      <th>...</th>\n      <td>...</td>\n      <td>...</td>\n      <td>...</td>\n      <td>...</td>\n      <td>...</td>\n      <td>...</td>\n      <td>...</td>\n      <td>...</td>\n      <td>...</td>\n    </tr>\n    <tr>\n      <th>17460</th>\n      <td>88.367188</td>\n      <td>46.742625</td>\n      <td>0.729737</td>\n      <td>1.108588</td>\n      <td>3.726589</td>\n      <td>21.637049</td>\n      <td>6.614157</td>\n      <td>47.496511</td>\n      <td>0</td>\n    </tr>\n    <tr>\n      <th>17628</th>\n      <td>87.984375</td>\n      <td>39.870099</td>\n      <td>0.620862</td>\n      <td>1.687396</td>\n      <td>1.372910</td>\n      <td>10.938322</td>\n      <td>14.907060</td>\n      <td>289.407265</td>\n      <td>0</td>\n    </tr>\n    <tr>\n      <th>17670</th>\n      <td>87.742188</td>\n      <td>47.313325</td>\n      <td>0.369248</td>\n      <td>0.350295</td>\n      <td>3.006689</td>\n      <td>21.972732</td>\n      <td>7.793131</td>\n      <td>63.340975</td>\n      <td>0</td>\n    </tr>\n    <tr>\n      <th>17681</th>\n      <td>87.906250</td>\n      <td>39.194116</td>\n      <td>0.806024</td>\n      <td>2.050931</td>\n      <td>2.346154</td>\n      <td>15.186816</td>\n      <td>8.811533</td>\n      <td>97.265489</td>\n      <td>0</td>\n    </tr>\n    <tr>\n      <th>17830</th>\n      <td>87.625000</td>\n      <td>34.773149</td>\n      <td>0.712327</td>\n      <td>3.026128</td>\n      <td>2.178930</td>\n      <td>17.157048</td>\n      <td>9.315048</td>\n      <td>96.368709</td>\n      <td>0</td>\n    </tr>\n  </tbody>\n</table>\n<p>202 rows × 9 columns</p>\n</div>"
     },
     "execution_count": 38,
     "metadata": {},
     "output_type": "execute_result"
    }
   ],
   "source": [
    "data = df[( (df['MIP'] >= 87.5859375) & (df['MIP'] <= 88.484375) & (df['TG'] == 0) ) | ( (df['MIP'] >= 52.9296875) & (df['MIP'] <= 58.7890625) & (df['TG'] == 1) )]\n",
    "data"
   ],
   "metadata": {
    "collapsed": false,
    "pycharm": {
     "name": "#%%\n"
    }
   }
  },
  {
   "cell_type": "code",
   "execution_count": 39,
   "outputs": [
    {
     "data": {
      "text/plain": "             MIP      STDIP      EKIP        SIP         MC       STDC  \\\n245    88.250000  39.046047  0.571522   1.470493   4.650502  25.669724   \n508    53.789062  30.062085  3.231805  18.011655  30.670569  67.752058   \n603    55.187500  35.726773  2.206251   8.562220  32.508361  59.498159   \n628    87.750000  38.204630  0.851328   2.376166   2.226589  15.082094   \n648    58.437500  47.269631  2.148539   4.683292  55.520067  74.838212   \n...          ...        ...       ...        ...        ...        ...   \n17460  88.367188  46.742625  0.729737   1.108588   3.726589  21.637049   \n17628  87.984375  39.870099  0.620862   1.687396   1.372910  10.938322   \n17670  87.742188  47.313325  0.369248   0.350295   3.006689  21.972732   \n17681  87.906250  39.194116  0.806024   2.050931   2.346154  15.186816   \n17830  87.625000  34.773149  0.712327   3.026128   2.178930  17.157048   \n\n             EKC          SC  \n245     6.217865   40.987388  \n508     1.972958    2.336556  \n603     1.812744    2.443437  \n628     9.076639  102.732359  \n648     1.138116   -0.027806  \n...          ...         ...  \n17460   6.614157   47.496511  \n17628  14.907060  289.407265  \n17670   7.793131   63.340975  \n17681   8.811533   97.265489  \n17830   9.315048   96.368709  \n\n[202 rows x 8 columns]",
      "text/html": "<div>\n<style scoped>\n    .dataframe tbody tr th:only-of-type {\n        vertical-align: middle;\n    }\n\n    .dataframe tbody tr th {\n        vertical-align: top;\n    }\n\n    .dataframe thead th {\n        text-align: right;\n    }\n</style>\n<table border=\"1\" class=\"dataframe\">\n  <thead>\n    <tr style=\"text-align: right;\">\n      <th></th>\n      <th>MIP</th>\n      <th>STDIP</th>\n      <th>EKIP</th>\n      <th>SIP</th>\n      <th>MC</th>\n      <th>STDC</th>\n      <th>EKC</th>\n      <th>SC</th>\n    </tr>\n  </thead>\n  <tbody>\n    <tr>\n      <th>245</th>\n      <td>88.250000</td>\n      <td>39.046047</td>\n      <td>0.571522</td>\n      <td>1.470493</td>\n      <td>4.650502</td>\n      <td>25.669724</td>\n      <td>6.217865</td>\n      <td>40.987388</td>\n    </tr>\n    <tr>\n      <th>508</th>\n      <td>53.789062</td>\n      <td>30.062085</td>\n      <td>3.231805</td>\n      <td>18.011655</td>\n      <td>30.670569</td>\n      <td>67.752058</td>\n      <td>1.972958</td>\n      <td>2.336556</td>\n    </tr>\n    <tr>\n      <th>603</th>\n      <td>55.187500</td>\n      <td>35.726773</td>\n      <td>2.206251</td>\n      <td>8.562220</td>\n      <td>32.508361</td>\n      <td>59.498159</td>\n      <td>1.812744</td>\n      <td>2.443437</td>\n    </tr>\n    <tr>\n      <th>628</th>\n      <td>87.750000</td>\n      <td>38.204630</td>\n      <td>0.851328</td>\n      <td>2.376166</td>\n      <td>2.226589</td>\n      <td>15.082094</td>\n      <td>9.076639</td>\n      <td>102.732359</td>\n    </tr>\n    <tr>\n      <th>648</th>\n      <td>58.437500</td>\n      <td>47.269631</td>\n      <td>2.148539</td>\n      <td>4.683292</td>\n      <td>55.520067</td>\n      <td>74.838212</td>\n      <td>1.138116</td>\n      <td>-0.027806</td>\n    </tr>\n    <tr>\n      <th>...</th>\n      <td>...</td>\n      <td>...</td>\n      <td>...</td>\n      <td>...</td>\n      <td>...</td>\n      <td>...</td>\n      <td>...</td>\n      <td>...</td>\n    </tr>\n    <tr>\n      <th>17460</th>\n      <td>88.367188</td>\n      <td>46.742625</td>\n      <td>0.729737</td>\n      <td>1.108588</td>\n      <td>3.726589</td>\n      <td>21.637049</td>\n      <td>6.614157</td>\n      <td>47.496511</td>\n    </tr>\n    <tr>\n      <th>17628</th>\n      <td>87.984375</td>\n      <td>39.870099</td>\n      <td>0.620862</td>\n      <td>1.687396</td>\n      <td>1.372910</td>\n      <td>10.938322</td>\n      <td>14.907060</td>\n      <td>289.407265</td>\n    </tr>\n    <tr>\n      <th>17670</th>\n      <td>87.742188</td>\n      <td>47.313325</td>\n      <td>0.369248</td>\n      <td>0.350295</td>\n      <td>3.006689</td>\n      <td>21.972732</td>\n      <td>7.793131</td>\n      <td>63.340975</td>\n    </tr>\n    <tr>\n      <th>17681</th>\n      <td>87.906250</td>\n      <td>39.194116</td>\n      <td>0.806024</td>\n      <td>2.050931</td>\n      <td>2.346154</td>\n      <td>15.186816</td>\n      <td>8.811533</td>\n      <td>97.265489</td>\n    </tr>\n    <tr>\n      <th>17830</th>\n      <td>87.625000</td>\n      <td>34.773149</td>\n      <td>0.712327</td>\n      <td>3.026128</td>\n      <td>2.178930</td>\n      <td>17.157048</td>\n      <td>9.315048</td>\n      <td>96.368709</td>\n    </tr>\n  </tbody>\n</table>\n<p>202 rows × 8 columns</p>\n</div>"
     },
     "execution_count": 39,
     "metadata": {},
     "output_type": "execute_result"
    }
   ],
   "source": [
    "predictors = data.drop('TG', axis = 1)\n",
    "predictors"
   ],
   "metadata": {
    "collapsed": false,
    "pycharm": {
     "name": "#%%\n"
    }
   }
  },
  {
   "cell_type": "code",
   "execution_count": 40,
   "outputs": [
    {
     "data": {
      "text/plain": "245      0\n508      1\n603      1\n628      0\n648      1\n        ..\n17460    0\n17628    0\n17670    0\n17681    0\n17830    0\nName: TG, Length: 202, dtype: int64"
     },
     "execution_count": 40,
     "metadata": {},
     "output_type": "execute_result"
    }
   ],
   "source": [
    "target = data['TG']\n",
    "target"
   ],
   "metadata": {
    "collapsed": false,
    "pycharm": {
     "name": "#%%\n"
    }
   }
  },
  {
   "cell_type": "code",
   "execution_count": 41,
   "outputs": [
    {
     "data": {
      "text/plain": "array([[0.99340804, 0.41988614, 0.05968589, ..., 0.19341118, 0.28232554,\n        0.06102972],\n       [0.02417051, 0.12089872, 0.82092666, ..., 0.6688676 , 0.12278051,\n        0.00580772],\n       [0.06350253, 0.3094203 , 0.52746404, ..., 0.57561305, 0.11675887,\n        0.00596042],\n       ...,\n       [0.97912547, 0.69502225, 0.00180502, ..., 0.15164168, 0.34153199,\n        0.09296719],\n       [0.98373984, 0.42481391, 0.12678851, ..., 0.07497275, 0.37980868,\n        0.14143652],\n       [0.97582949, 0.27768355, 0.09997727, ..., 0.09723291, 0.3987333 ,\n        0.14015525]])"
     },
     "execution_count": 41,
     "metadata": {},
     "output_type": "execute_result"
    }
   ],
   "source": [
    "predictors_norm = MinMaxScaler().fit_transform(predictors)\n",
    "predictors_norm"
   ],
   "metadata": {
    "collapsed": false,
    "pycharm": {
     "name": "#%%\n"
    }
   }
  },
  {
   "cell_type": "code",
   "execution_count": 42,
   "outputs": [
    {
     "data": {
      "text/plain": "0.5367376553080491"
     },
     "execution_count": 42,
     "metadata": {},
     "output_type": "execute_result"
    }
   ],
   "source": [
    "np.mean(predictors_norm[:, 0])"
   ],
   "metadata": {
    "collapsed": false,
    "pycharm": {
     "name": "#%%\n"
    }
   }
  },
  {
   "cell_type": "code",
   "execution_count": 19,
   "outputs": [
    {
     "data": {
      "text/plain": "LogisticRegression(random_state=10)"
     },
     "execution_count": 19,
     "metadata": {},
     "output_type": "execute_result"
    }
   ],
   "source": [
    "reg = LogisticRegression(random_state=10, solver='lbfgs')\n",
    "reg.fit(predictors_norm, target)"
   ],
   "metadata": {
    "collapsed": false,
    "pycharm": {
     "name": "#%%\n"
    }
   }
  },
  {
   "cell_type": "code",
   "execution_count": 20,
   "outputs": [
    {
     "data": {
      "text/plain": "array([0.762, 0.309, 0.13 , 0.91 , 0.282, 0.396, 0.07 , 0.016])"
     },
     "execution_count": 20,
     "metadata": {},
     "output_type": "execute_result"
    }
   ],
   "source": [
    "new_data = np.array([0.762, 0.309, 0.13, 0.91, 0.282, 0.396, 0.07, 0.016])\n",
    "new_data"
   ],
   "metadata": {
    "collapsed": false,
    "pycharm": {
     "name": "#%%\n"
    }
   }
  },
  {
   "cell_type": "code",
   "execution_count": 22,
   "outputs": [
    {
     "data": {
      "text/plain": "array([[0.56074288, 0.43925712]])"
     },
     "execution_count": 22,
     "metadata": {},
     "output_type": "execute_result"
    }
   ],
   "source": [
    "reg.predict_proba([new_data])"
   ],
   "metadata": {
    "collapsed": false,
    "pycharm": {
     "name": "#%%\n"
    }
   }
  },
  {
   "cell_type": "code",
   "execution_count": 33,
   "outputs": [
    {
     "data": {
      "text/plain": "KNeighborsClassifier()"
     },
     "execution_count": 33,
     "metadata": {},
     "output_type": "execute_result"
    }
   ],
   "source": [
    "neigh = KNeighborsClassifier(n_neighbors=5)\n",
    "neigh.fit(predictors_norm, target)"
   ],
   "metadata": {
    "collapsed": false,
    "pycharm": {
     "name": "#%%\n"
    }
   }
  },
  {
   "cell_type": "code",
   "execution_count": 34,
   "outputs": [
    {
     "data": {
      "text/plain": "<1x201 sparse matrix of type '<class 'numpy.float64'>'\n\twith 5 stored elements in Compressed Sparse Row format>"
     },
     "execution_count": 34,
     "metadata": {},
     "output_type": "execute_result"
    }
   ],
   "source": [
    "neigh.kneighbors_graph([new_data])\n"
   ],
   "metadata": {
    "collapsed": false,
    "pycharm": {
     "name": "#%%\n"
    }
   }
  },
  {
   "cell_type": "code",
   "execution_count": 35,
   "outputs": [
    {
     "data": {
      "text/plain": "array([[0.6, 0.4]])"
     },
     "execution_count": 35,
     "metadata": {},
     "output_type": "execute_result"
    }
   ],
   "source": [
    "neigh.predict_proba([new_data])"
   ],
   "metadata": {
    "collapsed": false,
    "pycharm": {
     "name": "#%%\n"
    }
   }
  },
  {
   "cell_type": "code",
   "execution_count": 36,
   "outputs": [
    {
     "data": {
      "text/plain": "array([0], dtype=int64)"
     },
     "execution_count": 36,
     "metadata": {},
     "output_type": "execute_result"
    }
   ],
   "source": [
    "neigh.predict([new_data])"
   ],
   "metadata": {
    "collapsed": false,
    "pycharm": {
     "name": "#%%\n"
    }
   }
  },
  {
   "cell_type": "code",
   "execution_count": 81,
   "outputs": [],
   "source": [
    "sum = 0\n",
    "for kek in (neigh.kneighbors([new_data], 20)[1]).reshape(-1, 1):\n",
    "    if target.iloc[kek].values == 1:\n",
    "        sum += 1"
   ],
   "metadata": {
    "collapsed": false,
    "pycharm": {
     "name": "#%%\n"
    }
   }
  },
  {
   "cell_type": "code",
   "execution_count": 82,
   "outputs": [
    {
     "data": {
      "text/plain": "10"
     },
     "execution_count": 82,
     "metadata": {},
     "output_type": "execute_result"
    }
   ],
   "source": [
    "sum"
   ],
   "metadata": {
    "collapsed": false,
    "pycharm": {
     "name": "#%%\n"
    }
   }
  },
  {
   "cell_type": "code",
   "execution_count": 70,
   "outputs": [
    {
     "data": {
      "text/plain": "0"
     },
     "execution_count": 70,
     "metadata": {},
     "output_type": "execute_result"
    }
   ],
   "source": [
    "sum"
   ],
   "metadata": {
    "collapsed": false,
    "pycharm": {
     "name": "#%%\n"
    }
   }
  },
  {
   "cell_type": "code",
   "execution_count": 54,
   "outputs": [
    {
     "data": {
      "text/plain": "[]"
     },
     "execution_count": 54,
     "metadata": {},
     "output_type": "execute_result"
    }
   ],
   "source": [
    "neighbours"
   ],
   "metadata": {
    "collapsed": false,
    "pycharm": {
     "name": "#%%\n"
    }
   }
  },
  {
   "cell_type": "code",
   "execution_count": null,
   "outputs": [],
   "source": [],
   "metadata": {
    "collapsed": false,
    "pycharm": {
     "name": "#%%\n"
    }
   }
  }
 ],
 "metadata": {
  "kernelspec": {
   "display_name": "Python 3",
   "language": "python",
   "name": "python3"
  },
  "language_info": {
   "codemirror_mode": {
    "name": "ipython",
    "version": 2
   },
   "file_extension": ".py",
   "mimetype": "text/x-python",
   "name": "python",
   "nbconvert_exporter": "python",
   "pygments_lexer": "ipython2",
   "version": "2.7.6"
  }
 },
 "nbformat": 4,
 "nbformat_minor": 0
}