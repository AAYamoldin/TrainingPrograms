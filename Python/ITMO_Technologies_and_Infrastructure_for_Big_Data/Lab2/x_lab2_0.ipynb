{
 "cells": [
  {
   "cell_type": "code",
   "execution_count": 120,
   "metadata": {},
   "outputs": [],
   "source": [
    "import os\n",
    "import datetime\n",
    "import socket\n",
    "from pyspark import SparkConf, SparkContext, SQLContext\n",
    "from pyspark.sql import SparkSession\n",
    "from pyspark.sql.functions import udf, length, when, col\n",
    "from pyspark.sql.types import BooleanType, IntegerType, LongType, StringType, ArrayType, FloatType, StructType, StructField\n",
    "import pyspark.sql.functions as F\n",
    "from pyspark.sql.functions import pandas_udf\n",
    "from pyspark.sql.functions import PandasUDFType\n",
    "from jinja2 import Environment, FileSystemLoader"
   ]
  },
  {
   "cell_type": "code",
   "execution_count": 7,
   "metadata": {},
   "outputs": [],
   "source": [
    "# setting constants\n",
    "APP_NAME = \"VVORONIN-SPARK-APP\"\n",
    "NORMALIZED_APP_NAME = APP_NAME.replace('/', '_').replace(':', '_')\n",
    "\n",
    "APPS_TMP_DIR = os.path.join(os.getcwd(), \"tmp\")\n",
    "APPS_CONF_DIR = os.path.join(os.getcwd(), \"conf\")\n",
    "APPS_LOGS_DIR = os.path.join(os.getcwd(), \"logs\")\n",
    "LOG4J_PROP_FILE = os.path.join(APPS_CONF_DIR, \"pyspark-log4j-{}.properties\".format(NORMALIZED_APP_NAME))\n",
    "LOG_FILE = os.path.join(APPS_LOGS_DIR, 'pyspark-{}.log'.format(NORMALIZED_APP_NAME))\n",
    "EXTRA_JAVA_OPTIONS = \"-Dlog4j.configuration=file://{} -Dspark.hadoop.dfs.replication=1 -Dhttps.protocols=TLSv1.0,TLSv1.1,TLSv1.2,TLSv1.3\"\\\n",
    "    .format(LOG4J_PROP_FILE)\n",
    "\n",
    "LOCAL_IP = socket.gethostbyname(socket.gethostname())"
   ]
  },
  {
   "cell_type": "code",
   "execution_count": 8,
   "metadata": {},
   "outputs": [],
   "source": [
    "# preparing configuration files from templates\n",
    "for directory in [APPS_CONF_DIR, APPS_LOGS_DIR, APPS_TMP_DIR]:\n",
    "    if not os.path.exists(directory):\n",
    "        os.makedirs(directory)\n",
    "\n",
    "env = Environment(loader=FileSystemLoader('/opt'))\n",
    "template = env.get_template(\"pyspark_log4j.properties.template\")\n",
    "template\\\n",
    "    .stream(logfile=LOG_FILE)\\\n",
    "    .dump(LOG4J_PROP_FILE)"
   ]
  },
  {
   "cell_type": "markdown",
   "metadata": {},
   "source": [
    "# Run spark"
   ]
  },
  {
   "cell_type": "code",
   "execution_count": 11,
   "metadata": {},
   "outputs": [],
   "source": [
    "# spark = SparkSession\\\n",
    "#     .builder\\\n",
    "#     .appName(APP_NAME)\\\n",
    "#     .master(\"k8s://https://10.32.7.103:6443\")\\\n",
    "#     .config(\"spark.driver.host\", LOCAL_IP)\\\n",
    "#     .config(\"spark.driver.bindAddress\", \"0.0.0.0\")\\\n",
    "#     .config(\"spark.executor.instances\", \"3\")\\\n",
    "#     .config(\"spark.executor.cores\", '2')\\\n",
    "#     .config(\"spark.memory.fraction\", \"0.8\")\\\n",
    "#     .config(\"spark.memory.storageFraction\", \"0.6\")\\\n",
    "#     .config(\"spark.executor.memory\", \"4g\")\\\n",
    "#     .config(\"spark.driver.extraJavaOptions\", EXTRA_JAVA_OPTIONS)\\\n",
    "#     .config(\"spark.kubernetes.namespace\", \"{{user}}\")\\\n",
    "#     .config(\"spark.kubernetes.driver.label.appname\", APP_NAME)\\\n",
    "#     .config(\"spark.kubernetes.executor.label.appname\", APP_NAME)\\\n",
    "#     .config(\"spark.kubernetes.container.image.pullPolicy\", \"Always\")\\\n",
    "#     .config(\"spark.kubernetes.container.image\", \"node03.st:5000/spark-executor:{{user}}\")\\\n",
    "#     .config(\"spark.local.dir\", \"/tmp/spark\")\\\n",
    "#     .getOrCreate()\n",
    "\n",
    "SPARK_ADDRESS = \"local[4]\"\n",
    "\n",
    "spark = SparkSession\\\n",
    "    .builder\\\n",
    "    .appName(\"VVORONIN-SPARK-APP\")\\\n",
    "    .master(SPARK_ADDRESS)\\\n",
    "    .config(\"spark.ui.port\", \"4040\")\\\n",
    "    .config(\"spark.memory.fraction\", \"0.8\")\\\n",
    "    .config(\"spark.memory.storageFraction\", \"0.6\")\\\n",
    "    .config(\"spark.driver.memory\", \"4g\")\\\n",
    "    .config(\"spark.driver.extraJavaOptions\", EXTRA_JAVA_OPTIONS)\\\n",
    "    .config(\"spark.executor.memory\", \"6g\")\\\n",
    "    .getOrCreate()"
   ]
  },
  {
   "cell_type": "code",
   "execution_count": 10,
   "metadata": {},
   "outputs": [
    {
     "name": "stdout",
     "output_type": "stream",
     "text": [
      "Web UI: http://jupyter-spark-75c86b84fb-6sztt:4040\n",
      "\n",
      "log4j file: /home/jovyan/work/conf/pyspark-log4j-VVORONIN-SPARK-APP.properties\n",
      "\n",
      "driver log file: /home/jovyan/work/logs/pyspark-VVORONIN-SPARK-APP.log\n"
     ]
    }
   ],
   "source": [
    "# printing important urls and pathes\n",
    "print(\"Web UI: {}\".format(spark.sparkContext.uiWebUrl))\n",
    "print(\"\\nlog4j file: {}\".format(LOG4J_PROP_FILE))\n",
    "print(\"\\ndriver log file: {}\".format(LOG_FILE))"
   ]
  },
  {
   "cell_type": "markdown",
   "metadata": {},
   "source": [
    "# Read data"
   ]
  },
  {
   "cell_type": "code",
   "execution_count": 12,
   "metadata": {},
   "outputs": [],
   "source": [
    "#there were created five tasks in apache spark webUI\n",
    "posts_df = spark.read.json(\"file:///home/jovyan/shared-data/bigdata20/posts_api.json\")\n",
    "posts_likes_df = spark.read.parquet(\"file:///home/jovyan/shared-data/bigdata20/posts_likes.parquet\")\n",
    "followers_df = spark.read.parquet(\"file:///home/jovyan/shared-data/bigdata20/followers.parquet\")\n",
    "followers_posts_df = spark.read.json(\"file:///home/jovyan/shared-data/bigdata20/followers_posts_api_final.json\")\n",
    "followers_posts_likes_df = spark.read.parquet(\"file:///home/jovyan/shared-data/bigdata20/followers_posts_likes.parquet\")"
   ]
  },
  {
   "cell_type": "code",
   "execution_count": 198,
   "metadata": {},
   "outputs": [
    {
     "data": {
      "text/plain": [
       "[Row(profile=-94, follower=34),\n",
       " Row(profile=-94, follower=87),\n",
       " Row(profile=-94, follower=102),\n",
       " Row(profile=-94, follower=175),\n",
       " Row(profile=-94, follower=533)]"
      ]
     },
     "execution_count": 198,
     "metadata": {},
     "output_type": "execute_result"
    }
   ],
   "source": [
    "followers_df.head(5)"
   ]
  },
  {
   "cell_type": "code",
   "execution_count": 133,
   "metadata": {
    "scrolled": false
   },
   "outputs": [
    {
     "name": "stdout",
     "output_type": "stream",
     "text": [
      "root\n",
      " |-- itemType: string (nullable = true)\n",
      " |-- ownerId: integer (nullable = true)\n",
      " |-- itemId: integer (nullable = true)\n",
      " |-- likerId: integer (nullable = true)\n",
      "\n"
     ]
    }
   ],
   "source": [
    "followers_posts_likes_df.printSchema()"
   ]
  },
  {
   "cell_type": "code",
   "execution_count": 13,
   "metadata": {},
   "outputs": [
    {
     "name": "stdout",
     "output_type": "stream",
     "text": [
      "root\n",
      " |-- itemType: string (nullable = true)\n",
      " |-- ownerId: integer (nullable = true)\n",
      " |-- itemId: integer (nullable = true)\n",
      " |-- likerId: integer (nullable = true)\n",
      "\n"
     ]
    }
   ],
   "source": [
    "posts_likes_df.printSchema()\n",
    "#itemId = PostID - уникальный номер поста\n",
    "#ownerId - id группы, где пост размещен\n",
    "#likerId - ID того, кто создал пост"
   ]
  },
  {
   "cell_type": "markdown",
   "metadata": {},
   "source": [
    "# Task1\n",
    "#### Find the top 20 posts in the group: \n",
    "* by likes; \n",
    "* by comments; \n",
    "* by reposts"
   ]
  },
  {
   "cell_type": "markdown",
   "metadata": {},
   "source": [
    "### топ-20 постов по числу лайков "
   ]
  },
  {
   "cell_type": "code",
   "execution_count": 41,
   "metadata": {},
   "outputs": [],
   "source": [
    "likes = posts_df.select('id', col('likes.count').name('likes'))\\\n",
    "    .orderBy(\"likes\", ascending = False)\\\n",
    "    .limit(20)"
   ]
  },
  {
   "cell_type": "code",
   "execution_count": 42,
   "metadata": {},
   "outputs": [
    {
     "data": {
      "text/plain": [
       "[Row(id=32022, likes=1637),\n",
       " Row(id=35068, likes=1629),\n",
       " Row(id=17492, likes=1516),\n",
       " Row(id=18526, likes=1026),\n",
       " Row(id=19552, likes=955),\n",
       " Row(id=41468, likes=952),\n",
       " Row(id=19419, likes=868),\n",
       " Row(id=29046, likes=824),\n",
       " Row(id=32546, likes=786),\n",
       " Row(id=24085, likes=765),\n",
       " Row(id=40180, likes=759),\n",
       " Row(id=33658, likes=708),\n",
       " Row(id=13532, likes=633),\n",
       " Row(id=40842, likes=631),\n",
       " Row(id=35117, likes=588),\n",
       " Row(id=17014, likes=581),\n",
       " Row(id=19583, likes=553),\n",
       " Row(id=19809, likes=552),\n",
       " Row(id=27455, likes=550),\n",
       " Row(id=11999, likes=549)]"
      ]
     },
     "execution_count": 42,
     "metadata": {},
     "output_type": "execute_result"
    }
   ],
   "source": [
    "likes.collect()"
   ]
  },
  {
   "cell_type": "markdown",
   "metadata": {},
   "source": [
    "альтернативный вариант через группировку данных"
   ]
  },
  {
   "cell_type": "code",
   "execution_count": 39,
   "metadata": {
    "scrolled": true
   },
   "outputs": [],
   "source": [
    "pl_df = posts_likes_df.groupby(\"itemId\")\\\n",
    "    .agg(F.count('likerId').name(\"likes_count\"))\\\n",
    "    .withColumnRenamed(\"itemId\", \"post_id\")\\\n",
    "    .orderBy(\"likes_count\", ascending = False)\\\n",
    "    .limit(20)"
   ]
  },
  {
   "cell_type": "code",
   "execution_count": 40,
   "metadata": {},
   "outputs": [
    {
     "data": {
      "text/plain": [
       "[Row(post_id=32022, likes_count=1654),\n",
       " Row(post_id=35068, likes_count=1630),\n",
       " Row(post_id=17492, likes_count=1538),\n",
       " Row(post_id=18526, likes_count=1028),\n",
       " Row(post_id=19552, likes_count=955),\n",
       " Row(post_id=41468, likes_count=952),\n",
       " Row(post_id=19419, likes_count=868),\n",
       " Row(post_id=29046, likes_count=824),\n",
       " Row(post_id=32546, likes_count=786),\n",
       " Row(post_id=24085, likes_count=765),\n",
       " Row(post_id=40180, likes_count=759),\n",
       " Row(post_id=33658, likes_count=708),\n",
       " Row(post_id=13532, likes_count=633),\n",
       " Row(post_id=40842, likes_count=631),\n",
       " Row(post_id=35117, likes_count=588),\n",
       " Row(post_id=17014, likes_count=581),\n",
       " Row(post_id=19583, likes_count=553),\n",
       " Row(post_id=19809, likes_count=552),\n",
       " Row(post_id=27455, likes_count=550),\n",
       " Row(post_id=11999, likes_count=549)]"
      ]
     },
     "execution_count": 40,
     "metadata": {},
     "output_type": "execute_result"
    }
   ],
   "source": [
    "#поскольку реализована схема \"ленивых\" вычислений для отображения результатов требуется отдельной командой вычислить функцию\n",
    "pl_df.collect()"
   ]
  },
  {
   "cell_type": "markdown",
   "metadata": {},
   "source": [
    "### топ-20 постов по числу комментов"
   ]
  },
  {
   "cell_type": "code",
   "execution_count": 197,
   "metadata": {},
   "outputs": [],
   "source": [
    "pс_df = posts_df.groupby(\"id\")\\\n",
    "    .agg(F.count('comments').name(\"comments_count\"))\\\n",
    "    .withColumnRenamed(\"id\", \"post_id\")\\\n",
    "    .orderBy(\"comments_count\", ascending = False)\\\n",
    "    .limit(20)"
   ]
  },
  {
   "cell_type": "code",
   "execution_count": 38,
   "metadata": {},
   "outputs": [
    {
     "data": {
      "text/plain": [
       "[Row(post_id=3199, comments_count=1),\n",
       " Row(post_id=15921, comments_count=1),\n",
       " Row(post_id=4126, comments_count=1),\n",
       " Row(post_id=3280, comments_count=1),\n",
       " Row(post_id=42653, comments_count=1),\n",
       " Row(post_id=13299, comments_count=1),\n",
       " Row(post_id=19061, comments_count=1),\n",
       " Row(post_id=34131, comments_count=1),\n",
       " Row(post_id=3106, comments_count=1),\n",
       " Row(post_id=37907, comments_count=1),\n",
       " Row(post_id=37917, comments_count=1),\n",
       " Row(post_id=42388, comments_count=1),\n",
       " Row(post_id=1277, comments_count=1),\n",
       " Row(post_id=18026, comments_count=1),\n",
       " Row(post_id=3800, comments_count=1),\n",
       " Row(post_id=37122, comments_count=1),\n",
       " Row(post_id=3806, comments_count=1),\n",
       " Row(post_id=3009, comments_count=1),\n",
       " Row(post_id=3015, comments_count=1),\n",
       " Row(post_id=3061, comments_count=1)]"
      ]
     },
     "execution_count": 38,
     "metadata": {},
     "output_type": "execute_result"
    }
   ],
   "source": [
    "pс_df.collect()"
   ]
  },
  {
   "cell_type": "markdown",
   "metadata": {},
   "source": [
    "### топ-20 постов по числу репостов"
   ]
  },
  {
   "cell_type": "code",
   "execution_count": 35,
   "metadata": {},
   "outputs": [],
   "source": [
    "pr_df = posts_df.select('id', col('reposts.count').name('reposts'))\\\n",
    "    .orderBy('reposts', ascending = False)\\\n",
    "    .limit(20)"
   ]
  },
  {
   "cell_type": "code",
   "execution_count": 36,
   "metadata": {},
   "outputs": [
    {
     "data": {
      "text/plain": [
       "[Row(id=17492, reposts=334),\n",
       " Row(id=19552, reposts=246),\n",
       " Row(id=32022, reposts=210),\n",
       " Row(id=11842, reposts=129),\n",
       " Row(id=19419, reposts=126),\n",
       " Row(id=13532, reposts=110),\n",
       " Row(id=17014, reposts=105),\n",
       " Row(id=35068, reposts=101),\n",
       " Row(id=41266, reposts=92),\n",
       " Row(id=12593, reposts=90),\n",
       " Row(id=29046, reposts=87),\n",
       " Row(id=11999, reposts=85),\n",
       " Row(id=41468, reposts=85),\n",
       " Row(id=19809, reposts=84),\n",
       " Row(id=17167, reposts=81),\n",
       " Row(id=10833, reposts=78),\n",
       " Row(id=18543, reposts=77),\n",
       " Row(id=16596, reposts=76),\n",
       " Row(id=18156, reposts=74),\n",
       " Row(id=37262, reposts=71)]"
      ]
     },
     "execution_count": 36,
     "metadata": {},
     "output_type": "execute_result"
    }
   ],
   "source": [
    "pr_df.collect()"
   ]
  },
  {
   "cell_type": "markdown",
   "metadata": {},
   "source": [
    "# Task 2\n",
    "#### Find the top 20 users by \n",
    "* likes\n",
    "* reposts they have made (to trace reposts use \"copy_history\" field)"
   ]
  },
  {
   "cell_type": "markdown",
   "metadata": {},
   "source": [
    "### топ-20 пользователей по числу лайков"
   ]
  },
  {
   "cell_type": "code",
   "execution_count": 123,
   "metadata": {},
   "outputs": [
    {
     "name": "stdout",
     "output_type": "stream",
     "text": [
      "root\n",
      " |-- itemType: string (nullable = true)\n",
      " |-- ownerId: integer (nullable = true)\n",
      " |-- itemId: integer (nullable = true)\n",
      " |-- likerId: integer (nullable = true)\n",
      "\n"
     ]
    }
   ],
   "source": [
    "posts_likes_df.printSchema()"
   ]
  },
  {
   "cell_type": "code",
   "execution_count": 127,
   "metadata": {},
   "outputs": [
    {
     "data": {
      "text/plain": [
       "[Row(user_id=2070090, likes=4801),\n",
       " Row(user_id=2397858, likes=2055),\n",
       " Row(user_id=1475301, likes=1829),\n",
       " Row(user_id=18239, likes=1569),\n",
       " Row(user_id=546612, likes=1245),\n",
       " Row(user_id=6371, likes=907),\n",
       " Row(user_id=1841959, likes=746),\n",
       " Row(user_id=78440957, likes=709),\n",
       " Row(user_id=120248, likes=699),\n",
       " Row(user_id=40981497, likes=611),\n",
       " Row(user_id=22158, likes=553),\n",
       " Row(user_id=207628162, likes=548),\n",
       " Row(user_id=329377723, likes=504),\n",
       " Row(user_id=76071304, likes=474),\n",
       " Row(user_id=14805173, likes=440),\n",
       " Row(user_id=317799, likes=385),\n",
       " Row(user_id=56355640, likes=375),\n",
       " Row(user_id=52042971, likes=338),\n",
       " Row(user_id=7437271, likes=336),\n",
       " Row(user_id=136506644, likes=335)]"
      ]
     },
     "execution_count": 127,
     "metadata": {},
     "output_type": "execute_result"
    }
   ],
   "source": [
    "posts_likes_df.groupby('likerId')\\\n",
    "    .agg(F.count('itemId').name('likes'))\\\n",
    "    .withColumnRenamed(\"likerId\", \"user_id\")\\\n",
    "    .orderBy('likes', ascending = False)\\\n",
    "    .limit(20)\\\n",
    "    .collect()"
   ]
  },
  {
   "cell_type": "markdown",
   "metadata": {},
   "source": [
    "### топ-20 пользователей по числу репостов"
   ]
  },
  {
   "cell_type": "code",
   "execution_count": 87,
   "metadata": {
    "scrolled": true
   },
   "outputs": [
    {
     "data": {
      "text/plain": [
       "[Row(user_id=[-33773], reposts_count=186),\n",
       " Row(user_id=[-76139618], reposts_count=144),\n",
       " Row(user_id=[-45636106], reposts_count=95),\n",
       " Row(user_id=[-53958282], reposts_count=70),\n",
       " Row(user_id=[-45660640], reposts_count=52),\n",
       " Row(user_id=[-97819925], reposts_count=46),\n",
       " Row(user_id=[-2499902], reposts_count=44),\n",
       " Row(user_id=[-103229636], reposts_count=28),\n",
       " Row(user_id=[-94359346], reposts_count=26),\n",
       " Row(user_id=[-51664920], reposts_count=24),\n",
       " Row(user_id=[-46907025], reposts_count=23),\n",
       " Row(user_id=[-122783310], reposts_count=22),\n",
       " Row(user_id=[-78459300], reposts_count=21),\n",
       " Row(user_id=[18239], reposts_count=20),\n",
       " Row(user_id=[-57339370], reposts_count=18),\n",
       " Row(user_id=[-45375087], reposts_count=17),\n",
       " Row(user_id=[-644236], reposts_count=16),\n",
       " Row(user_id=[-23303030], reposts_count=16),\n",
       " Row(user_id=[-39268951], reposts_count=14),\n",
       " Row(user_id=[-3900734], reposts_count=14)]"
      ]
     },
     "execution_count": 87,
     "metadata": {},
     "output_type": "execute_result"
    }
   ],
   "source": [
    "posts_df.groupby(col('copy_history.owner_id').alias('user_id'))\\\n",
    "    .agg(F.count(col('copy_history')).alias('reposts_count'))\\\n",
    "    .orderBy('reposts_count', ascending = False)\\\n",
    "    .limit(20)\\\n",
    "    .collect()\n",
    "#не получается отфильтровать отрицательные id, потому что used_id имеет тип \"массив\" и не сравнимо с константой\n",
    "#.where(col('copy_history.id') > 0)\\"
   ]
  },
  {
   "cell_type": "code",
   "execution_count": null,
   "metadata": {},
   "outputs": [],
   "source": []
  },
  {
   "cell_type": "markdown",
   "metadata": {},
   "source": [
    "### Draft"
   ]
  },
  {
   "cell_type": "code",
   "execution_count": null,
   "metadata": {},
   "outputs": [],
   "source": [
    "windowSpecAgg  = Window.partitionBy(\"likerId\")\n",
    "\n",
    "followers_posts_likes_df"
   ]
  },
  {
   "cell_type": "code",
   "execution_count": 293,
   "metadata": {},
   "outputs": [
    {
     "data": {
      "text/plain": [
       "[Row(likes=25)]"
      ]
     },
     "execution_count": 293,
     "metadata": {},
     "output_type": "execute_result"
    }
   ],
   "source": [
    "followers_posts_likes_df.where('likerId = 2767')\\\n",
    "    .agg(F.count('ownerId').name('likes'))\\\n",
    "    .collect()"
   ]
  },
  {
   "cell_type": "code",
   "execution_count": null,
   "metadata": {},
   "outputs": [],
   "source": [
    "users_df = list(followers_posts_likes_df.select('likerId')\\\n",
    "    .distinct()\\\n",
    "    .toPandas()['likerId'])"
   ]
  },
  {
   "cell_type": "code",
   "execution_count": null,
   "metadata": {},
   "outputs": [],
   "source": [
    "#a = {}\n",
    "#a['key'] = []\n",
    "#a['rer'] = []\n",
    "a['key'].append(5)\n",
    "a['rer'].append(1)\n",
    "a"
   ]
  },
  {
   "cell_type": "code",
   "execution_count": null,
   "metadata": {},
   "outputs": [],
   "source": [
    "followers_posts_likes_df.where('likerId = 2767')\\\n",
    "    .agg(F.count('ownerId').name('likes'))\\\n",
    "    .collect()"
   ]
  }
 ],
 "metadata": {
  "kernelspec": {
   "display_name": "Python 3",
   "language": "python",
   "name": "python3"
  },
  "language_info": {
   "codemirror_mode": {
    "name": "ipython",
    "version": 3
   },
   "file_extension": ".py",
   "mimetype": "text/x-python",
   "name": "python",
   "nbconvert_exporter": "python",
   "pygments_lexer": "ipython3",
   "version": "3.8.5"
  }
 },
 "nbformat": 4,
 "nbformat_minor": 5
}
