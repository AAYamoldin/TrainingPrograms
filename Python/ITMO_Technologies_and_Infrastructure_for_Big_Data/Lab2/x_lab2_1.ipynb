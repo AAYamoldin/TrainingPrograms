{
 "cells": [
  {
   "cell_type": "code",
   "execution_count": 120,
   "metadata": {},
   "outputs": [],
   "source": [
    "import os\n",
    "import datetime\n",
    "import socket\n",
    "from pyspark import SparkConf, SparkContext, SQLContext\n",
    "from pyspark.sql import SparkSession\n",
    "from pyspark.sql.functions import udf, length, when, col\n",
    "from pyspark.sql.types import BooleanType, IntegerType, LongType, StringType, ArrayType, FloatType, StructType, StructField\n",
    "import pyspark.sql.functions as F\n",
    "from pyspark.sql.functions import pandas_udf\n",
    "from pyspark.sql.functions import PandasUDFType\n",
    "from jinja2 import Environment, FileSystemLoader"
   ]
  },
  {
   "cell_type": "code",
   "execution_count": 7,
   "metadata": {},
   "outputs": [],
   "source": [
    "# setting constants\n",
    "APP_NAME = \"VVORONIN-SPARK-APP\"\n",
    "NORMALIZED_APP_NAME = APP_NAME.replace('/', '_').replace(':', '_')\n",
    "\n",
    "APPS_TMP_DIR = os.path.join(os.getcwd(), \"tmp\")\n",
    "APPS_CONF_DIR = os.path.join(os.getcwd(), \"conf\")\n",
    "APPS_LOGS_DIR = os.path.join(os.getcwd(), \"logs\")\n",
    "LOG4J_PROP_FILE = os.path.join(APPS_CONF_DIR, \"pyspark-log4j-{}.properties\".format(NORMALIZED_APP_NAME))\n",
    "LOG_FILE = os.path.join(APPS_LOGS_DIR, 'pyspark-{}.log'.format(NORMALIZED_APP_NAME))\n",
    "EXTRA_JAVA_OPTIONS = \"-Dlog4j.configuration=file://{} -Dspark.hadoop.dfs.replication=1 -Dhttps.protocols=TLSv1.0,TLSv1.1,TLSv1.2,TLSv1.3\"\\\n",
    "    .format(LOG4J_PROP_FILE)\n",
    "\n",
    "LOCAL_IP = socket.gethostbyname(socket.gethostname())"
   ]
  },
  {
   "cell_type": "code",
   "execution_count": 8,
   "metadata": {},
   "outputs": [],
   "source": [
    "# preparing configuration files from templates\n",
    "for directory in [APPS_CONF_DIR, APPS_LOGS_DIR, APPS_TMP_DIR]:\n",
    "    if not os.path.exists(directory):\n",
    "        os.makedirs(directory)\n",
    "\n",
    "env = Environment(loader=FileSystemLoader('/opt'))\n",
    "template = env.get_template(\"pyspark_log4j.properties.template\")\n",
    "template\\\n",
    "    .stream(logfile=LOG_FILE)\\\n",
    "    .dump(LOG4J_PROP_FILE)"
   ]
  },
  {
   "cell_type": "markdown",
   "metadata": {},
   "source": [
    "# Run spark"
   ]
  },
  {
   "cell_type": "code",
   "execution_count": 11,
   "metadata": {},
   "outputs": [],
   "source": [
    "# spark = SparkSession\\\n",
    "#     .builder\\\n",
    "#     .appName(APP_NAME)\\\n",
    "#     .master(\"k8s://https://10.32.7.103:6443\")\\\n",
    "#     .config(\"spark.driver.host\", LOCAL_IP)\\\n",
    "#     .config(\"spark.driver.bindAddress\", \"0.0.0.0\")\\\n",
    "#     .config(\"spark.executor.instances\", \"3\")\\\n",
    "#     .config(\"spark.executor.cores\", '2')\\\n",
    "#     .config(\"spark.memory.fraction\", \"0.8\")\\\n",
    "#     .config(\"spark.memory.storageFraction\", \"0.6\")\\\n",
    "#     .config(\"spark.executor.memory\", \"4g\")\\\n",
    "#     .config(\"spark.driver.extraJavaOptions\", EXTRA_JAVA_OPTIONS)\\\n",
    "#     .config(\"spark.kubernetes.namespace\", \"{{user}}\")\\\n",
    "#     .config(\"spark.kubernetes.driver.label.appname\", APP_NAME)\\\n",
    "#     .config(\"spark.kubernetes.executor.label.appname\", APP_NAME)\\\n",
    "#     .config(\"spark.kubernetes.container.image.pullPolicy\", \"Always\")\\\n",
    "#     .config(\"spark.kubernetes.container.image\", \"node03.st:5000/spark-executor:{{user}}\")\\\n",
    "#     .config(\"spark.local.dir\", \"/tmp/spark\")\\\n",
    "#     .getOrCreate()\n",
    "\n",
    "SPARK_ADDRESS = \"local[4]\"\n",
    "\n",
    "spark = SparkSession\\\n",
    "    .builder\\\n",
    "    .appName(\"VVORONIN-SPARK-APP\")\\\n",
    "    .master(SPARK_ADDRESS)\\\n",
    "    .config(\"spark.ui.port\", \"4040\")\\\n",
    "    .config(\"spark.memory.fraction\", \"0.8\")\\\n",
    "    .config(\"spark.memory.storageFraction\", \"0.6\")\\\n",
    "    .config(\"spark.driver.memory\", \"4g\")\\\n",
    "    .config(\"spark.driver.extraJavaOptions\", EXTRA_JAVA_OPTIONS)\\\n",
    "    .config(\"spark.executor.memory\", \"6g\")\\\n",
    "    .getOrCreate()"
   ]
  },
  {
   "cell_type": "code",
   "execution_count": 10,
   "metadata": {},
   "outputs": [
    {
     "name": "stdout",
     "output_type": "stream",
     "text": [
      "Web UI: http://jupyter-spark-75c86b84fb-6sztt:4040\n",
      "\n",
      "log4j file: /home/jovyan/work/conf/pyspark-log4j-VVORONIN-SPARK-APP.properties\n",
      "\n",
      "driver log file: /home/jovyan/work/logs/pyspark-VVORONIN-SPARK-APP.log\n"
     ]
    }
   ],
   "source": [
    "# printing important urls and pathes\n",
    "print(\"Web UI: {}\".format(spark.sparkContext.uiWebUrl))\n",
    "print(\"\\nlog4j file: {}\".format(LOG4J_PROP_FILE))\n",
    "print(\"\\ndriver log file: {}\".format(LOG_FILE))"
   ]
  },
  {
   "cell_type": "markdown",
   "metadata": {},
   "source": [
    "# Read data"
   ]
  },
  {
   "cell_type": "code",
   "execution_count": 12,
   "metadata": {},
   "outputs": [],
   "source": [
    "#there were created five tasks in apache spark webUI\n",
    "posts_df = spark.read.json(\"file:///home/jovyan/shared-data/bigdata20/posts_api.json\")\n",
    "posts_likes_df = spark.read.parquet(\"file:///home/jovyan/shared-data/bigdata20/posts_likes.parquet\")\n",
    "followers_df = spark.read.parquet(\"file:///home/jovyan/shared-data/bigdata20/followers.parquet\")\n",
    "followers_posts_df = spark.read.json(\"file:///home/jovyan/shared-data/bigdata20/followers_posts_api_final.json\")\n",
    "followers_posts_likes_df = spark.read.parquet(\"file:///home/jovyan/shared-data/bigdata20/followers_posts_likes.parquet\")"
   ]
  },
  {
   "cell_type": "code",
   "execution_count": 198,
   "metadata": {},
   "outputs": [
    {
     "data": {
      "text/plain": [
       "[Row(profile=-94, follower=34),\n",
       " Row(profile=-94, follower=87),\n",
       " Row(profile=-94, follower=102),\n",
       " Row(profile=-94, follower=175),\n",
       " Row(profile=-94, follower=533)]"
      ]
     },
     "execution_count": 198,
     "metadata": {},
     "output_type": "execute_result"
    }
   ],
   "source": [
    "followers_df.head(5)"
   ]
  },
  {
   "cell_type": "code",
   "execution_count": 133,
   "metadata": {
    "scrolled": false
   },
   "outputs": [
    {
     "name": "stdout",
     "output_type": "stream",
     "text": [
      "root\n",
      " |-- itemType: string (nullable = true)\n",
      " |-- ownerId: integer (nullable = true)\n",
      " |-- itemId: integer (nullable = true)\n",
      " |-- likerId: integer (nullable = true)\n",
      "\n"
     ]
    }
   ],
   "source": [
    "followers_posts_likes_df.printSchema()"
   ]
  },
  {
   "cell_type": "code",
   "execution_count": 13,
   "metadata": {},
   "outputs": [
    {
     "name": "stdout",
     "output_type": "stream",
     "text": [
      "root\n",
      " |-- itemType: string (nullable = true)\n",
      " |-- ownerId: integer (nullable = true)\n",
      " |-- itemId: integer (nullable = true)\n",
      " |-- likerId: integer (nullable = true)\n",
      "\n"
     ]
    }
   ],
   "source": [
    "posts_likes_df.printSchema()\n",
    "#itemId = PostID - уникальный номер поста\n",
    "#ownerId - id группы, где пост размещен\n",
    "#likerId - ID того, кто создал пост"
   ]
  },
  {
   "cell_type": "markdown",
   "metadata": {},
   "source": [
    "# Task1\n",
    "#### Find the top 20 posts in the group: \n",
    "* by likes; \n",
    "* by comments; \n",
    "* by reposts"
   ]
  },
  {
   "cell_type": "markdown",
   "metadata": {},
   "source": [
    "### топ-20 постов по числу лайков "
   ]
  },
  {
   "cell_type": "code",
   "execution_count": 41,
   "metadata": {},
   "outputs": [],
   "source": [
    "likes = posts_df.select('id', col('likes.count').name('likes'))\\\n",
    "    .orderBy(\"likes\", ascending = False)\\\n",
    "    .limit(20)"
   ]
  },
  {
   "cell_type": "code",
   "execution_count": 42,
   "metadata": {},
   "outputs": [
    {
     "data": {
      "text/plain": [
       "[Row(id=32022, likes=1637),\n",
       " Row(id=35068, likes=1629),\n",
       " Row(id=17492, likes=1516),\n",
       " Row(id=18526, likes=1026),\n",
       " Row(id=19552, likes=955),\n",
       " Row(id=41468, likes=952),\n",
       " Row(id=19419, likes=868),\n",
       " Row(id=29046, likes=824),\n",
       " Row(id=32546, likes=786),\n",
       " Row(id=24085, likes=765),\n",
       " Row(id=40180, likes=759),\n",
       " Row(id=33658, likes=708),\n",
       " Row(id=13532, likes=633),\n",
       " Row(id=40842, likes=631),\n",
       " Row(id=35117, likes=588),\n",
       " Row(id=17014, likes=581),\n",
       " Row(id=19583, likes=553),\n",
       " Row(id=19809, likes=552),\n",
       " Row(id=27455, likes=550),\n",
       " Row(id=11999, likes=549)]"
      ]
     },
     "execution_count": 42,
     "metadata": {},
     "output_type": "execute_result"
    }
   ],
   "source": [
    "likes.collect()"
   ]
  },
  {
   "cell_type": "markdown",
   "metadata": {},
   "source": [
    "альтернативный вариант через группировку данных"
   ]
  },
  {
   "cell_type": "code",
   "execution_count": 39,
   "metadata": {
    "scrolled": true
   },
   "outputs": [],
   "source": [
    "pl_df = posts_likes_df.groupby(\"itemId\")\\\n",
    "    .agg(F.count('likerId').name(\"likes_count\"))\\\n",
    "    .withColumnRenamed(\"itemId\", \"post_id\")\\\n",
    "    .orderBy(\"likes_count\", ascending = False)\\\n",
    "    .limit(20)"
   ]
  },
  {
   "cell_type": "code",
   "execution_count": 40,
   "metadata": {},
   "outputs": [
    {
     "data": {
      "text/plain": [
       "[Row(post_id=32022, likes_count=1654),\n",
       " Row(post_id=35068, likes_count=1630),\n",
       " Row(post_id=17492, likes_count=1538),\n",
       " Row(post_id=18526, likes_count=1028),\n",
       " Row(post_id=19552, likes_count=955),\n",
       " Row(post_id=41468, likes_count=952),\n",
       " Row(post_id=19419, likes_count=868),\n",
       " Row(post_id=29046, likes_count=824),\n",
       " Row(post_id=32546, likes_count=786),\n",
       " Row(post_id=24085, likes_count=765),\n",
       " Row(post_id=40180, likes_count=759),\n",
       " Row(post_id=33658, likes_count=708),\n",
       " Row(post_id=13532, likes_count=633),\n",
       " Row(post_id=40842, likes_count=631),\n",
       " Row(post_id=35117, likes_count=588),\n",
       " Row(post_id=17014, likes_count=581),\n",
       " Row(post_id=19583, likes_count=553),\n",
       " Row(post_id=19809, likes_count=552),\n",
       " Row(post_id=27455, likes_count=550),\n",
       " Row(post_id=11999, likes_count=549)]"
      ]
     },
     "execution_count": 40,
     "metadata": {},
     "output_type": "execute_result"
    }
   ],
   "source": [
    "#поскольку реализована схема \"ленивых\" вычислений для отображения результатов требуется отдельной командой вычислить функцию\n",
    "pl_df.collect()"
   ]
  },
  {
   "cell_type": "markdown",
   "metadata": {},
   "source": [
    "### топ-20 постов по числу комментов"
   ]
  },
  {
   "cell_type": "code",
   "execution_count": 197,
   "metadata": {},
   "outputs": [],
   "source": [
    "pс_df = posts_df.groupby(\"id\")\\\n",
    "    .agg(F.count('comments').name(\"comments_count\"))\\\n",
    "    .withColumnRenamed(\"id\", \"post_id\")\\\n",
    "    .orderBy(\"comments_count\", ascending = False)\\\n",
    "    .limit(20)"
   ]
  },
  {
   "cell_type": "code",
   "execution_count": 38,
   "metadata": {},
   "outputs": [
    {
     "data": {
      "text/plain": [
       "[Row(post_id=3199, comments_count=1),\n",
       " Row(post_id=15921, comments_count=1),\n",
       " Row(post_id=4126, comments_count=1),\n",
       " Row(post_id=3280, comments_count=1),\n",
       " Row(post_id=42653, comments_count=1),\n",
       " Row(post_id=13299, comments_count=1),\n",
       " Row(post_id=19061, comments_count=1),\n",
       " Row(post_id=34131, comments_count=1),\n",
       " Row(post_id=3106, comments_count=1),\n",
       " Row(post_id=37907, comments_count=1),\n",
       " Row(post_id=37917, comments_count=1),\n",
       " Row(post_id=42388, comments_count=1),\n",
       " Row(post_id=1277, comments_count=1),\n",
       " Row(post_id=18026, comments_count=1),\n",
       " Row(post_id=3800, comments_count=1),\n",
       " Row(post_id=37122, comments_count=1),\n",
       " Row(post_id=3806, comments_count=1),\n",
       " Row(post_id=3009, comments_count=1),\n",
       " Row(post_id=3015, comments_count=1),\n",
       " Row(post_id=3061, comments_count=1)]"
      ]
     },
     "execution_count": 38,
     "metadata": {},
     "output_type": "execute_result"
    }
   ],
   "source": [
    "pс_df.collect()"
   ]
  },
  {
   "cell_type": "markdown",
   "metadata": {},
   "source": [
    "### топ-20 постов по числу репостов"
   ]
  },
  {
   "cell_type": "code",
   "execution_count": 35,
   "metadata": {},
   "outputs": [],
   "source": [
    "pr_df = posts_df.select('id', col('reposts.count').name('reposts'))\\\n",
    "    .orderBy('reposts', ascending = False)\\\n",
    "    .limit(20)"
   ]
  },
  {
   "cell_type": "code",
   "execution_count": 36,
   "metadata": {},
   "outputs": [
    {
     "data": {
      "text/plain": [
       "[Row(id=17492, reposts=334),\n",
       " Row(id=19552, reposts=246),\n",
       " Row(id=32022, reposts=210),\n",
       " Row(id=11842, reposts=129),\n",
       " Row(id=19419, reposts=126),\n",
       " Row(id=13532, reposts=110),\n",
       " Row(id=17014, reposts=105),\n",
       " Row(id=35068, reposts=101),\n",
       " Row(id=41266, reposts=92),\n",
       " Row(id=12593, reposts=90),\n",
       " Row(id=29046, reposts=87),\n",
       " Row(id=11999, reposts=85),\n",
       " Row(id=41468, reposts=85),\n",
       " Row(id=19809, reposts=84),\n",
       " Row(id=17167, reposts=81),\n",
       " Row(id=10833, reposts=78),\n",
       " Row(id=18543, reposts=77),\n",
       " Row(id=16596, reposts=76),\n",
       " Row(id=18156, reposts=74),\n",
       " Row(id=37262, reposts=71)]"
      ]
     },
     "execution_count": 36,
     "metadata": {},
     "output_type": "execute_result"
    }
   ],
   "source": [
    "pr_df.collect()"
   ]
  },
  {
   "cell_type": "markdown",
   "metadata": {},
   "source": [
    "# Task 2\n",
    "#### Find the top 20 users by \n",
    "* likes\n",
    "* reposts they have made (to trace reposts use \"copy_history\" field)"
   ]
  },
  {
   "cell_type": "markdown",
   "metadata": {},
   "source": [
    "### топ-20 пользователей по числу лайков"
   ]
  },
  {
   "cell_type": "code",
   "execution_count": 123,
   "metadata": {},
   "outputs": [
    {
     "name": "stdout",
     "output_type": "stream",
     "text": [
      "root\n",
      " |-- itemType: string (nullable = true)\n",
      " |-- ownerId: integer (nullable = true)\n",
      " |-- itemId: integer (nullable = true)\n",
      " |-- likerId: integer (nullable = true)\n",
      "\n"
     ]
    }
   ],
   "source": [
    "posts_likes_df.printSchema()"
   ]
  },
  {
   "cell_type": "code",
   "execution_count": 127,
   "metadata": {},
   "outputs": [
    {
     "data": {
      "text/plain": [
       "[Row(user_id=2070090, likes=4801),\n",
       " Row(user_id=2397858, likes=2055),\n",
       " Row(user_id=1475301, likes=1829),\n",
       " Row(user_id=18239, likes=1569),\n",
       " Row(user_id=546612, likes=1245),\n",
       " Row(user_id=6371, likes=907),\n",
       " Row(user_id=1841959, likes=746),\n",
       " Row(user_id=78440957, likes=709),\n",
       " Row(user_id=120248, likes=699),\n",
       " Row(user_id=40981497, likes=611),\n",
       " Row(user_id=22158, likes=553),\n",
       " Row(user_id=207628162, likes=548),\n",
       " Row(user_id=329377723, likes=504),\n",
       " Row(user_id=76071304, likes=474),\n",
       " Row(user_id=14805173, likes=440),\n",
       " Row(user_id=317799, likes=385),\n",
       " Row(user_id=56355640, likes=375),\n",
       " Row(user_id=52042971, likes=338),\n",
       " Row(user_id=7437271, likes=336),\n",
       " Row(user_id=136506644, likes=335)]"
      ]
     },
     "execution_count": 127,
     "metadata": {},
     "output_type": "execute_result"
    }
   ],
   "source": [
    "posts_likes_df.groupby('likerId')\\\n",
    "    .agg(F.count('itemId').name('likes'))\\\n",
    "    .withColumnRenamed(\"likerId\", \"user_id\")\\\n",
    "    .orderBy('likes', ascending = False)\\\n",
    "    .limit(20)\\\n",
    "    .collect()"
   ]
  },
  {
   "cell_type": "markdown",
   "metadata": {},
   "source": [
    "### топ-20 пользователей по числу репостов"
   ]
  },
  {
   "cell_type": "code",
   "execution_count": 87,
   "metadata": {},
   "outputs": [
    {
     "data": {
      "text/plain": [
       "[Row(user_id=[-33773], reposts_count=186),\n",
       " Row(user_id=[-76139618], reposts_count=144),\n",
       " Row(user_id=[-45636106], reposts_count=95),\n",
       " Row(user_id=[-53958282], reposts_count=70),\n",
       " Row(user_id=[-45660640], reposts_count=52),\n",
       " Row(user_id=[-97819925], reposts_count=46),\n",
       " Row(user_id=[-2499902], reposts_count=44),\n",
       " Row(user_id=[-103229636], reposts_count=28),\n",
       " Row(user_id=[-94359346], reposts_count=26),\n",
       " Row(user_id=[-51664920], reposts_count=24),\n",
       " Row(user_id=[-46907025], reposts_count=23),\n",
       " Row(user_id=[-122783310], reposts_count=22),\n",
       " Row(user_id=[-78459300], reposts_count=21),\n",
       " Row(user_id=[18239], reposts_count=20),\n",
       " Row(user_id=[-57339370], reposts_count=18),\n",
       " Row(user_id=[-45375087], reposts_count=17),\n",
       " Row(user_id=[-644236], reposts_count=16),\n",
       " Row(user_id=[-23303030], reposts_count=16),\n",
       " Row(user_id=[-39268951], reposts_count=14),\n",
       " Row(user_id=[-3900734], reposts_count=14)]"
      ]
     },
     "execution_count": 87,
     "metadata": {},
     "output_type": "execute_result"
    }
   ],
   "source": [
    "posts_df.groupby(col('copy_history.owner_id').alias('user_id'))\\\n",
    "    .agg(F.count(col('copy_history')).alias('reposts_count'))\\\n",
    "    .orderBy('reposts_count', ascending = False)\\\n",
    "    .limit(20)\\\n",
    "    .collect()\n",
    "#не получается отфильтровать отрицательные id, потому что used_id имеет тип \"массив\" и не сравнимо с константой\n",
    "#.where(col('copy_history.id') > 0)\\"
   ]
  },
  {
   "cell_type": "markdown",
   "metadata": {},
   "source": [
    "# Task 3\n",
    "get reposts of the original posts of the itmo group (posts.json) from user posts (the result should be similar to (group_post_id, Array (user_post_ids)))"
   ]
  },
  {
   "cell_type": "code",
   "execution_count": 137,
   "metadata": {
    "scrolled": true
   },
   "outputs": [
    {
     "name": "stdout",
     "output_type": "stream",
     "text": [
      "root\n",
      " |-- attachments: array (nullable = true)\n",
      " |    |-- element: struct (containsNull = true)\n",
      " |    |    |-- album: struct (nullable = true)\n",
      " |    |    |    |-- created: long (nullable = true)\n",
      " |    |    |    |-- description: string (nullable = true)\n",
      " |    |    |    |-- id: string (nullable = true)\n",
      " |    |    |    |-- owner_id: long (nullable = true)\n",
      " |    |    |    |-- size: long (nullable = true)\n",
      " |    |    |    |-- thumb: struct (nullable = true)\n",
      " |    |    |    |    |-- access_key: string (nullable = true)\n",
      " |    |    |    |    |-- album_id: long (nullable = true)\n",
      " |    |    |    |    |-- date: long (nullable = true)\n",
      " |    |    |    |    |-- id: long (nullable = true)\n",
      " |    |    |    |    |-- lat: double (nullable = true)\n",
      " |    |    |    |    |-- long: double (nullable = true)\n",
      " |    |    |    |    |-- owner_id: long (nullable = true)\n",
      " |    |    |    |    |-- sizes: array (nullable = true)\n",
      " |    |    |    |    |    |-- element: struct (containsNull = true)\n",
      " |    |    |    |    |    |    |-- height: long (nullable = true)\n",
      " |    |    |    |    |    |    |-- type: string (nullable = true)\n",
      " |    |    |    |    |    |    |-- url: string (nullable = true)\n",
      " |    |    |    |    |    |    |-- width: long (nullable = true)\n",
      " |    |    |    |    |-- text: string (nullable = true)\n",
      " |    |    |    |    |-- user_id: long (nullable = true)\n",
      " |    |    |    |-- title: string (nullable = true)\n",
      " |    |    |    |-- updated: long (nullable = true)\n",
      " |    |    |-- audio: struct (nullable = true)\n",
      " |    |    |    |-- album_id: long (nullable = true)\n",
      " |    |    |    |-- artist: string (nullable = true)\n",
      " |    |    |    |-- content_restricted: long (nullable = true)\n",
      " |    |    |    |-- date: long (nullable = true)\n",
      " |    |    |    |-- duration: long (nullable = true)\n",
      " |    |    |    |-- genre_id: long (nullable = true)\n",
      " |    |    |    |-- id: long (nullable = true)\n",
      " |    |    |    |-- is_hq: boolean (nullable = true)\n",
      " |    |    |    |-- lyrics_id: long (nullable = true)\n",
      " |    |    |    |-- no_search: long (nullable = true)\n",
      " |    |    |    |-- owner_id: long (nullable = true)\n",
      " |    |    |    |-- title: string (nullable = true)\n",
      " |    |    |    |-- url: string (nullable = true)\n",
      " |    |    |-- doc: struct (nullable = true)\n",
      " |    |    |    |-- access_key: string (nullable = true)\n",
      " |    |    |    |-- date: long (nullable = true)\n",
      " |    |    |    |-- ext: string (nullable = true)\n",
      " |    |    |    |-- id: long (nullable = true)\n",
      " |    |    |    |-- owner_id: long (nullable = true)\n",
      " |    |    |    |-- preview: struct (nullable = true)\n",
      " |    |    |    |    |-- photo: struct (nullable = true)\n",
      " |    |    |    |    |    |-- sizes: array (nullable = true)\n",
      " |    |    |    |    |    |    |-- element: struct (containsNull = true)\n",
      " |    |    |    |    |    |    |    |-- height: long (nullable = true)\n",
      " |    |    |    |    |    |    |    |-- src: string (nullable = true)\n",
      " |    |    |    |    |    |    |    |-- type: string (nullable = true)\n",
      " |    |    |    |    |    |    |    |-- width: long (nullable = true)\n",
      " |    |    |    |    |-- video: struct (nullable = true)\n",
      " |    |    |    |    |    |-- file_size: long (nullable = true)\n",
      " |    |    |    |    |    |-- height: long (nullable = true)\n",
      " |    |    |    |    |    |-- src: string (nullable = true)\n",
      " |    |    |    |    |    |-- width: long (nullable = true)\n",
      " |    |    |    |-- size: long (nullable = true)\n",
      " |    |    |    |-- title: string (nullable = true)\n",
      " |    |    |    |-- type: long (nullable = true)\n",
      " |    |    |    |-- url: string (nullable = true)\n",
      " |    |    |-- link: struct (nullable = true)\n",
      " |    |    |    |-- button: struct (nullable = true)\n",
      " |    |    |    |    |-- action: struct (nullable = true)\n",
      " |    |    |    |    |    |-- type: string (nullable = true)\n",
      " |    |    |    |    |    |-- url: string (nullable = true)\n",
      " |    |    |    |    |-- title: string (nullable = true)\n",
      " |    |    |    |-- button_action: string (nullable = true)\n",
      " |    |    |    |-- button_text: string (nullable = true)\n",
      " |    |    |    |-- caption: string (nullable = true)\n",
      " |    |    |    |-- description: string (nullable = true)\n",
      " |    |    |    |-- photo: struct (nullable = true)\n",
      " |    |    |    |    |-- album_id: long (nullable = true)\n",
      " |    |    |    |    |-- date: long (nullable = true)\n",
      " |    |    |    |    |-- id: long (nullable = true)\n",
      " |    |    |    |    |-- lat: double (nullable = true)\n",
      " |    |    |    |    |-- long: double (nullable = true)\n",
      " |    |    |    |    |-- owner_id: long (nullable = true)\n",
      " |    |    |    |    |-- post_id: long (nullable = true)\n",
      " |    |    |    |    |-- sizes: array (nullable = true)\n",
      " |    |    |    |    |    |-- element: struct (containsNull = true)\n",
      " |    |    |    |    |    |    |-- height: long (nullable = true)\n",
      " |    |    |    |    |    |    |-- src: string (nullable = true)\n",
      " |    |    |    |    |    |    |-- type: string (nullable = true)\n",
      " |    |    |    |    |    |    |-- url: string (nullable = true)\n",
      " |    |    |    |    |    |    |-- width: long (nullable = true)\n",
      " |    |    |    |    |-- src_big: string (nullable = true)\n",
      " |    |    |    |    |-- src_small: string (nullable = true)\n",
      " |    |    |    |    |-- text: string (nullable = true)\n",
      " |    |    |    |    |-- user_id: long (nullable = true)\n",
      " |    |    |    |-- target: string (nullable = true)\n",
      " |    |    |    |-- title: string (nullable = true)\n",
      " |    |    |    |-- url: string (nullable = true)\n",
      " |    |    |-- market: struct (nullable = true)\n",
      " |    |    |    |-- availability: long (nullable = true)\n",
      " |    |    |    |-- category: struct (nullable = true)\n",
      " |    |    |    |    |-- id: long (nullable = true)\n",
      " |    |    |    |    |-- name: string (nullable = true)\n",
      " |    |    |    |    |-- section: struct (nullable = true)\n",
      " |    |    |    |    |    |-- id: long (nullable = true)\n",
      " |    |    |    |    |    |-- name: string (nullable = true)\n",
      " |    |    |    |-- date: long (nullable = true)\n",
      " |    |    |    |-- description: string (nullable = true)\n",
      " |    |    |    |-- id: long (nullable = true)\n",
      " |    |    |    |-- owner_id: long (nullable = true)\n",
      " |    |    |    |-- price: struct (nullable = true)\n",
      " |    |    |    |    |-- amount: string (nullable = true)\n",
      " |    |    |    |    |-- currency: struct (nullable = true)\n",
      " |    |    |    |    |    |-- id: long (nullable = true)\n",
      " |    |    |    |    |    |-- name: string (nullable = true)\n",
      " |    |    |    |    |-- text: string (nullable = true)\n",
      " |    |    |    |-- thumb_photo: string (nullable = true)\n",
      " |    |    |    |-- title: string (nullable = true)\n",
      " |    |    |-- page: struct (nullable = true)\n",
      " |    |    |    |-- created: long (nullable = true)\n",
      " |    |    |    |-- creator_id: long (nullable = true)\n",
      " |    |    |    |-- current_user_can_edit: long (nullable = true)\n",
      " |    |    |    |-- current_user_can_edit_access: long (nullable = true)\n",
      " |    |    |    |-- edited: long (nullable = true)\n",
      " |    |    |    |-- editor_id: long (nullable = true)\n",
      " |    |    |    |-- group_id: long (nullable = true)\n",
      " |    |    |    |-- id: long (nullable = true)\n",
      " |    |    |    |-- title: string (nullable = true)\n",
      " |    |    |    |-- view_url: string (nullable = true)\n",
      " |    |    |    |-- views: long (nullable = true)\n",
      " |    |    |    |-- who_can_edit: long (nullable = true)\n",
      " |    |    |    |-- who_can_view: long (nullable = true)\n",
      " |    |    |-- photo: struct (nullable = true)\n",
      " |    |    |    |-- access_key: string (nullable = true)\n",
      " |    |    |    |-- album_id: long (nullable = true)\n",
      " |    |    |    |-- date: long (nullable = true)\n",
      " |    |    |    |-- id: long (nullable = true)\n",
      " |    |    |    |-- lat: double (nullable = true)\n",
      " |    |    |    |-- long: double (nullable = true)\n",
      " |    |    |    |-- owner_id: long (nullable = true)\n",
      " |    |    |    |-- post_id: long (nullable = true)\n",
      " |    |    |    |-- sizes: array (nullable = true)\n",
      " |    |    |    |    |-- element: struct (containsNull = true)\n",
      " |    |    |    |    |    |-- height: long (nullable = true)\n",
      " |    |    |    |    |    |-- type: string (nullable = true)\n",
      " |    |    |    |    |    |-- url: string (nullable = true)\n",
      " |    |    |    |    |    |-- width: long (nullable = true)\n",
      " |    |    |    |-- text: string (nullable = true)\n",
      " |    |    |    |-- user_id: long (nullable = true)\n",
      " |    |    |-- photos_list: array (nullable = true)\n",
      " |    |    |    |-- element: string (containsNull = true)\n",
      " |    |    |-- podcast: struct (nullable = true)\n",
      " |    |    |    |-- artist: string (nullable = true)\n",
      " |    |    |    |-- date: long (nullable = true)\n",
      " |    |    |    |-- duration: long (nullable = true)\n",
      " |    |    |    |-- id: long (nullable = true)\n",
      " |    |    |    |-- is_hq: boolean (nullable = true)\n",
      " |    |    |    |-- lyrics_id: long (nullable = true)\n",
      " |    |    |    |-- no_search: long (nullable = true)\n",
      " |    |    |    |-- owner_id: long (nullable = true)\n",
      " |    |    |    |-- podcast_info: struct (nullable = true)\n",
      " |    |    |    |    |-- cover: struct (nullable = true)\n",
      " |    |    |    |    |    |-- sizes: array (nullable = true)\n",
      " |    |    |    |    |    |    |-- element: struct (containsNull = true)\n",
      " |    |    |    |    |    |    |    |-- height: long (nullable = true)\n",
      " |    |    |    |    |    |    |    |-- type: string (nullable = true)\n",
      " |    |    |    |    |    |    |    |-- url: string (nullable = true)\n",
      " |    |    |    |    |    |    |    |-- width: long (nullable = true)\n",
      " |    |    |    |    |-- description: string (nullable = true)\n",
      " |    |    |    |    |-- plays: long (nullable = true)\n",
      " |    |    |    |-- title: string (nullable = true)\n",
      " |    |    |    |-- url: string (nullable = true)\n",
      " |    |    |-- poll: struct (nullable = true)\n",
      " |    |    |    |-- anonymous: long (nullable = true)\n",
      " |    |    |    |-- answer_id: long (nullable = true)\n",
      " |    |    |    |-- answers: array (nullable = true)\n",
      " |    |    |    |    |-- element: struct (containsNull = true)\n",
      " |    |    |    |    |    |-- id: long (nullable = true)\n",
      " |    |    |    |    |    |-- rate: double (nullable = true)\n",
      " |    |    |    |    |    |-- text: string (nullable = true)\n",
      " |    |    |    |    |    |-- votes: long (nullable = true)\n",
      " |    |    |    |-- created: long (nullable = true)\n",
      " |    |    |    |-- id: long (nullable = true)\n",
      " |    |    |    |-- owner_id: long (nullable = true)\n",
      " |    |    |    |-- question: string (nullable = true)\n",
      " |    |    |    |-- votes: long (nullable = true)\n",
      " |    |    |-- type: string (nullable = true)\n",
      " |    |    |-- video: struct (nullable = true)\n",
      " |    |    |    |-- access_key: string (nullable = true)\n",
      " |    |    |    |-- album_id: long (nullable = true)\n",
      " |    |    |    |-- can_add: long (nullable = true)\n",
      " |    |    |    |-- comments: long (nullable = true)\n",
      " |    |    |    |-- content_restricted: long (nullable = true)\n",
      " |    |    |    |-- date: long (nullable = true)\n",
      " |    |    |    |-- description: string (nullable = true)\n",
      " |    |    |    |-- duration: long (nullable = true)\n",
      " |    |    |    |-- first_frame_1024: string (nullable = true)\n",
      " |    |    |    |-- first_frame_1280: string (nullable = true)\n",
      " |    |    |    |-- first_frame_130: string (nullable = true)\n",
      " |    |    |    |-- first_frame_160: string (nullable = true)\n",
      " |    |    |    |-- first_frame_320: string (nullable = true)\n",
      " |    |    |    |-- first_frame_4096: string (nullable = true)\n",
      " |    |    |    |-- first_frame_720: string (nullable = true)\n",
      " |    |    |    |-- first_frame_800: string (nullable = true)\n",
      " |    |    |    |-- height: long (nullable = true)\n",
      " |    |    |    |-- id: long (nullable = true)\n",
      " |    |    |    |-- is_private: long (nullable = true)\n",
      " |    |    |    |-- live: long (nullable = true)\n",
      " |    |    |    |-- local_views: long (nullable = true)\n",
      " |    |    |    |-- owner_id: long (nullable = true)\n",
      " |    |    |    |-- photo_1280: string (nullable = true)\n",
      " |    |    |    |-- photo_130: string (nullable = true)\n",
      " |    |    |    |-- photo_320: string (nullable = true)\n",
      " |    |    |    |-- photo_640: string (nullable = true)\n",
      " |    |    |    |-- photo_800: string (nullable = true)\n",
      " |    |    |    |-- platform: string (nullable = true)\n",
      " |    |    |    |-- processing: long (nullable = true)\n",
      " |    |    |    |-- repeat: long (nullable = true)\n",
      " |    |    |    |-- spectators: long (nullable = true)\n",
      " |    |    |    |-- title: string (nullable = true)\n",
      " |    |    |    |-- track_code: string (nullable = true)\n",
      " |    |    |    |-- user_id: long (nullable = true)\n",
      " |    |    |    |-- views: long (nullable = true)\n",
      " |    |    |    |-- width: long (nullable = true)\n",
      " |-- comments: struct (nullable = true)\n",
      " |    |-- can_post: long (nullable = true)\n",
      " |    |-- count: long (nullable = true)\n",
      " |    |-- groups_can_post: boolean (nullable = true)\n",
      " |-- copy_history: array (nullable = true)\n",
      " |    |-- element: struct (containsNull = true)\n",
      " |    |    |-- attachments: array (nullable = true)\n",
      " |    |    |    |-- element: struct (containsNull = true)\n",
      " |    |    |    |    |-- album: struct (nullable = true)\n",
      " |    |    |    |    |    |-- created: long (nullable = true)\n",
      " |    |    |    |    |    |-- description: string (nullable = true)\n",
      " |    |    |    |    |    |-- id: string (nullable = true)\n",
      " |    |    |    |    |    |-- owner_id: long (nullable = true)\n",
      " |    |    |    |    |    |-- size: long (nullable = true)\n",
      " |    |    |    |    |    |-- thumb: struct (nullable = true)\n",
      " |    |    |    |    |    |    |-- access_key: string (nullable = true)\n",
      " |    |    |    |    |    |    |-- album_id: long (nullable = true)\n",
      " |    |    |    |    |    |    |-- date: long (nullable = true)\n",
      " |    |    |    |    |    |    |-- id: long (nullable = true)\n",
      " |    |    |    |    |    |    |-- lat: double (nullable = true)\n",
      " |    |    |    |    |    |    |-- long: double (nullable = true)\n",
      " |    |    |    |    |    |    |-- owner_id: long (nullable = true)\n",
      " |    |    |    |    |    |    |-- post_id: long (nullable = true)\n",
      " |    |    |    |    |    |    |-- sizes: array (nullable = true)\n",
      " |    |    |    |    |    |    |    |-- element: struct (containsNull = true)\n",
      " |    |    |    |    |    |    |    |    |-- height: long (nullable = true)\n",
      " |    |    |    |    |    |    |    |    |-- type: string (nullable = true)\n",
      " |    |    |    |    |    |    |    |    |-- url: string (nullable = true)\n",
      " |    |    |    |    |    |    |    |    |-- width: long (nullable = true)\n",
      " |    |    |    |    |    |    |-- text: string (nullable = true)\n",
      " |    |    |    |    |    |    |-- user_id: long (nullable = true)\n",
      " |    |    |    |    |    |-- title: string (nullable = true)\n",
      " |    |    |    |    |    |-- updated: long (nullable = true)\n",
      " |    |    |    |    |-- audio: struct (nullable = true)\n",
      " |    |    |    |    |    |-- album_id: long (nullable = true)\n",
      " |    |    |    |    |    |-- artist: string (nullable = true)\n",
      " |    |    |    |    |    |-- content_restricted: long (nullable = true)\n",
      " |    |    |    |    |    |-- date: long (nullable = true)\n",
      " |    |    |    |    |    |-- duration: long (nullable = true)\n",
      " |    |    |    |    |    |-- genre_id: long (nullable = true)\n",
      " |    |    |    |    |    |-- id: long (nullable = true)\n",
      " |    |    |    |    |    |-- is_hq: boolean (nullable = true)\n",
      " |    |    |    |    |    |-- lyrics_id: long (nullable = true)\n",
      " |    |    |    |    |    |-- no_search: long (nullable = true)\n",
      " |    |    |    |    |    |-- owner_id: long (nullable = true)\n",
      " |    |    |    |    |    |-- title: string (nullable = true)\n",
      " |    |    |    |    |    |-- url: string (nullable = true)\n",
      " |    |    |    |    |-- doc: struct (nullable = true)\n",
      " |    |    |    |    |    |-- access_key: string (nullable = true)\n",
      " |    |    |    |    |    |-- date: long (nullable = true)\n",
      " |    |    |    |    |    |-- ext: string (nullable = true)\n",
      " |    |    |    |    |    |-- id: long (nullable = true)\n",
      " |    |    |    |    |    |-- owner_id: long (nullable = true)\n",
      " |    |    |    |    |    |-- preview: struct (nullable = true)\n",
      " |    |    |    |    |    |    |-- graffiti: struct (nullable = true)\n",
      " |    |    |    |    |    |    |    |-- height: long (nullable = true)\n",
      " |    |    |    |    |    |    |    |-- src: string (nullable = true)\n",
      " |    |    |    |    |    |    |    |-- width: long (nullable = true)\n",
      " |    |    |    |    |    |    |-- photo: struct (nullable = true)\n",
      " |    |    |    |    |    |    |    |-- sizes: array (nullable = true)\n",
      " |    |    |    |    |    |    |    |    |-- element: struct (containsNull = true)\n",
      " |    |    |    |    |    |    |    |    |    |-- height: long (nullable = true)\n",
      " |    |    |    |    |    |    |    |    |    |-- src: string (nullable = true)\n",
      " |    |    |    |    |    |    |    |    |    |-- type: string (nullable = true)\n",
      " |    |    |    |    |    |    |    |    |    |-- width: long (nullable = true)\n",
      " |    |    |    |    |    |    |-- video: struct (nullable = true)\n",
      " |    |    |    |    |    |    |    |-- file_size: long (nullable = true)\n",
      " |    |    |    |    |    |    |    |-- height: long (nullable = true)\n",
      " |    |    |    |    |    |    |    |-- src: string (nullable = true)\n",
      " |    |    |    |    |    |    |    |-- width: long (nullable = true)\n",
      " |    |    |    |    |    |-- size: long (nullable = true)\n",
      " |    |    |    |    |    |-- title: string (nullable = true)\n",
      " |    |    |    |    |    |-- type: long (nullable = true)\n",
      " |    |    |    |    |    |-- url: string (nullable = true)\n",
      " |    |    |    |    |-- link: struct (nullable = true)\n",
      " |    |    |    |    |    |-- button: struct (nullable = true)\n",
      " |    |    |    |    |    |    |-- action: struct (nullable = true)\n",
      " |    |    |    |    |    |    |    |-- group_id: long (nullable = true)\n",
      " |    |    |    |    |    |    |    |-- type: string (nullable = true)\n",
      " |    |    |    |    |    |    |    |-- url: string (nullable = true)\n",
      " |    |    |    |    |    |    |-- title: string (nullable = true)\n",
      " |    |    |    |    |    |-- button_action: string (nullable = true)\n",
      " |    |    |    |    |    |-- button_text: string (nullable = true)\n",
      " |    |    |    |    |    |-- caption: string (nullable = true)\n",
      " |    |    |    |    |    |-- description: string (nullable = true)\n",
      " |    |    |    |    |    |-- photo: struct (nullable = true)\n",
      " |    |    |    |    |    |    |-- album_id: long (nullable = true)\n",
      " |    |    |    |    |    |    |-- date: long (nullable = true)\n",
      " |    |    |    |    |    |    |-- id: long (nullable = true)\n",
      " |    |    |    |    |    |    |-- lat: double (nullable = true)\n",
      " |    |    |    |    |    |    |-- long: double (nullable = true)\n",
      " |    |    |    |    |    |    |-- owner_id: long (nullable = true)\n",
      " |    |    |    |    |    |    |-- post_id: long (nullable = true)\n",
      " |    |    |    |    |    |    |-- sizes: array (nullable = true)\n",
      " |    |    |    |    |    |    |    |-- element: struct (containsNull = true)\n",
      " |    |    |    |    |    |    |    |    |-- height: long (nullable = true)\n",
      " |    |    |    |    |    |    |    |    |-- type: string (nullable = true)\n",
      " |    |    |    |    |    |    |    |    |-- url: string (nullable = true)\n",
      " |    |    |    |    |    |    |    |    |-- width: long (nullable = true)\n",
      " |    |    |    |    |    |    |-- text: string (nullable = true)\n",
      " |    |    |    |    |    |    |-- user_id: long (nullable = true)\n",
      " |    |    |    |    |    |-- product: struct (nullable = true)\n",
      " |    |    |    |    |    |    |-- price: struct (nullable = true)\n",
      " |    |    |    |    |    |    |    |-- amount: string (nullable = true)\n",
      " |    |    |    |    |    |    |    |-- currency: struct (nullable = true)\n",
      " |    |    |    |    |    |    |    |    |-- id: long (nullable = true)\n",
      " |    |    |    |    |    |    |    |    |-- name: string (nullable = true)\n",
      " |    |    |    |    |    |    |    |-- text: string (nullable = true)\n",
      " |    |    |    |    |    |-- target: string (nullable = true)\n",
      " |    |    |    |    |    |-- title: string (nullable = true)\n",
      " |    |    |    |    |    |-- url: string (nullable = true)\n",
      " |    |    |    |    |    |-- video: struct (nullable = true)\n",
      " |    |    |    |    |    |    |-- access_key: string (nullable = true)\n",
      " |    |    |    |    |    |    |-- can_add: long (nullable = true)\n",
      " |    |    |    |    |    |    |-- comments: long (nullable = true)\n",
      " |    |    |    |    |    |    |-- date: long (nullable = true)\n",
      " |    |    |    |    |    |    |-- description: string (nullable = true)\n",
      " |    |    |    |    |    |    |-- duration: long (nullable = true)\n",
      " |    |    |    |    |    |    |-- first_frame_1024: string (nullable = true)\n",
      " |    |    |    |    |    |    |-- first_frame_1280: string (nullable = true)\n",
      " |    |    |    |    |    |    |-- first_frame_130: string (nullable = true)\n",
      " |    |    |    |    |    |    |-- first_frame_160: string (nullable = true)\n",
      " |    |    |    |    |    |    |-- first_frame_320: string (nullable = true)\n",
      " |    |    |    |    |    |    |-- first_frame_4096: string (nullable = true)\n",
      " |    |    |    |    |    |    |-- first_frame_720: string (nullable = true)\n",
      " |    |    |    |    |    |    |-- first_frame_800: string (nullable = true)\n",
      " |    |    |    |    |    |    |-- height: long (nullable = true)\n",
      " |    |    |    |    |    |    |-- id: long (nullable = true)\n",
      " |    |    |    |    |    |    |-- owner_id: long (nullable = true)\n",
      " |    |    |    |    |    |    |-- photo_1280: string (nullable = true)\n",
      " |    |    |    |    |    |    |-- photo_130: string (nullable = true)\n",
      " |    |    |    |    |    |    |-- photo_320: string (nullable = true)\n",
      " |    |    |    |    |    |    |-- photo_800: string (nullable = true)\n",
      " |    |    |    |    |    |    |-- processing: long (nullable = true)\n",
      " |    |    |    |    |    |    |-- repeat: long (nullable = true)\n",
      " |    |    |    |    |    |    |-- title: string (nullable = true)\n",
      " |    |    |    |    |    |    |-- track_code: string (nullable = true)\n",
      " |    |    |    |    |    |    |-- views: long (nullable = true)\n",
      " |    |    |    |    |    |    |-- width: long (nullable = true)\n",
      " |    |    |    |    |-- market: struct (nullable = true)\n",
      " |    |    |    |    |    |-- availability: long (nullable = true)\n",
      " |    |    |    |    |    |-- category: struct (nullable = true)\n",
      " |    |    |    |    |    |    |-- id: long (nullable = true)\n",
      " |    |    |    |    |    |    |-- name: string (nullable = true)\n",
      " |    |    |    |    |    |    |-- section: struct (nullable = true)\n",
      " |    |    |    |    |    |    |    |-- id: long (nullable = true)\n",
      " |    |    |    |    |    |    |    |-- name: string (nullable = true)\n",
      " |    |    |    |    |    |-- date: long (nullable = true)\n",
      " |    |    |    |    |    |-- description: string (nullable = true)\n",
      " |    |    |    |    |    |-- id: long (nullable = true)\n",
      " |    |    |    |    |    |-- owner_id: long (nullable = true)\n",
      " |    |    |    |    |    |-- price: struct (nullable = true)\n",
      " |    |    |    |    |    |    |-- amount: string (nullable = true)\n",
      " |    |    |    |    |    |    |-- currency: struct (nullable = true)\n",
      " |    |    |    |    |    |    |    |-- id: long (nullable = true)\n",
      " |    |    |    |    |    |    |    |-- name: string (nullable = true)\n",
      " |    |    |    |    |    |    |-- text: string (nullable = true)\n",
      " |    |    |    |    |    |-- thumb_photo: string (nullable = true)\n",
      " |    |    |    |    |    |-- title: string (nullable = true)\n",
      " |    |    |    |    |-- market_album: struct (nullable = true)\n",
      " |    |    |    |    |    |-- count: long (nullable = true)\n",
      " |    |    |    |    |    |-- id: long (nullable = true)\n",
      " |    |    |    |    |    |-- owner_id: long (nullable = true)\n",
      " |    |    |    |    |    |-- photo: struct (nullable = true)\n",
      " |    |    |    |    |    |    |-- album_id: long (nullable = true)\n",
      " |    |    |    |    |    |    |-- date: long (nullable = true)\n",
      " |    |    |    |    |    |    |-- id: long (nullable = true)\n",
      " |    |    |    |    |    |    |-- owner_id: long (nullable = true)\n",
      " |    |    |    |    |    |    |-- sizes: array (nullable = true)\n",
      " |    |    |    |    |    |    |    |-- element: struct (containsNull = true)\n",
      " |    |    |    |    |    |    |    |    |-- height: long (nullable = true)\n",
      " |    |    |    |    |    |    |    |    |-- type: string (nullable = true)\n",
      " |    |    |    |    |    |    |    |    |-- url: string (nullable = true)\n",
      " |    |    |    |    |    |    |    |    |-- width: long (nullable = true)\n",
      " |    |    |    |    |    |    |-- text: string (nullable = true)\n",
      " |    |    |    |    |    |    |-- user_id: long (nullable = true)\n",
      " |    |    |    |    |    |-- title: string (nullable = true)\n",
      " |    |    |    |    |    |-- updated_time: long (nullable = true)\n",
      " |    |    |    |    |-- note: struct (nullable = true)\n",
      " |    |    |    |    |    |-- comments: long (nullable = true)\n",
      " |    |    |    |    |    |-- date: long (nullable = true)\n",
      " |    |    |    |    |    |-- id: long (nullable = true)\n",
      " |    |    |    |    |    |-- owner_id: long (nullable = true)\n",
      " |    |    |    |    |    |-- read_comments: long (nullable = true)\n",
      " |    |    |    |    |    |-- title: string (nullable = true)\n",
      " |    |    |    |    |    |-- view_url: string (nullable = true)\n",
      " |    |    |    |    |-- page: struct (nullable = true)\n",
      " |    |    |    |    |    |-- created: long (nullable = true)\n",
      " |    |    |    |    |    |-- creator_id: long (nullable = true)\n",
      " |    |    |    |    |    |-- current_user_can_edit: long (nullable = true)\n",
      " |    |    |    |    |    |-- current_user_can_edit_access: long (nullable = true)\n",
      " |    |    |    |    |    |-- edited: long (nullable = true)\n",
      " |    |    |    |    |    |-- editor_id: long (nullable = true)\n",
      " |    |    |    |    |    |-- group_id: long (nullable = true)\n",
      " |    |    |    |    |    |-- id: long (nullable = true)\n",
      " |    |    |    |    |    |-- parent: string (nullable = true)\n",
      " |    |    |    |    |    |-- parent2: string (nullable = true)\n",
      " |    |    |    |    |    |-- title: string (nullable = true)\n",
      " |    |    |    |    |    |-- view_url: string (nullable = true)\n",
      " |    |    |    |    |    |-- views: long (nullable = true)\n",
      " |    |    |    |    |    |-- who_can_edit: long (nullable = true)\n",
      " |    |    |    |    |    |-- who_can_view: long (nullable = true)\n",
      " |    |    |    |    |-- photo: struct (nullable = true)\n",
      " |    |    |    |    |    |-- access_key: string (nullable = true)\n",
      " |    |    |    |    |    |-- album_id: long (nullable = true)\n",
      " |    |    |    |    |    |-- date: long (nullable = true)\n",
      " |    |    |    |    |    |-- id: long (nullable = true)\n",
      " |    |    |    |    |    |-- lat: double (nullable = true)\n",
      " |    |    |    |    |    |-- long: double (nullable = true)\n",
      " |    |    |    |    |    |-- owner_id: long (nullable = true)\n",
      " |    |    |    |    |    |-- post_id: long (nullable = true)\n",
      " |    |    |    |    |    |-- sizes: array (nullable = true)\n",
      " |    |    |    |    |    |    |-- element: struct (containsNull = true)\n",
      " |    |    |    |    |    |    |    |-- height: long (nullable = true)\n",
      " |    |    |    |    |    |    |    |-- type: string (nullable = true)\n",
      " |    |    |    |    |    |    |    |-- url: string (nullable = true)\n",
      " |    |    |    |    |    |    |    |-- width: long (nullable = true)\n",
      " |    |    |    |    |    |-- text: string (nullable = true)\n",
      " |    |    |    |    |    |-- user_id: long (nullable = true)\n",
      " |    |    |    |    |-- photos_list: array (nullable = true)\n",
      " |    |    |    |    |    |-- element: string (containsNull = true)\n",
      " |    |    |    |    |-- podcast: struct (nullable = true)\n",
      " |    |    |    |    |    |-- artist: string (nullable = true)\n",
      " |    |    |    |    |    |-- date: long (nullable = true)\n",
      " |    |    |    |    |    |-- duration: long (nullable = true)\n",
      " |    |    |    |    |    |-- id: long (nullable = true)\n",
      " |    |    |    |    |    |-- is_explicit: boolean (nullable = true)\n",
      " |    |    |    |    |    |-- is_hq: boolean (nullable = true)\n",
      " |    |    |    |    |    |-- lyrics_id: long (nullable = true)\n",
      " |    |    |    |    |    |-- no_search: long (nullable = true)\n",
      " |    |    |    |    |    |-- owner_id: long (nullable = true)\n",
      " |    |    |    |    |    |-- podcast_info: struct (nullable = true)\n",
      " |    |    |    |    |    |    |-- cover: struct (nullable = true)\n",
      " |    |    |    |    |    |    |    |-- sizes: array (nullable = true)\n",
      " |    |    |    |    |    |    |    |    |-- element: struct (containsNull = true)\n",
      " |    |    |    |    |    |    |    |    |    |-- height: long (nullable = true)\n",
      " |    |    |    |    |    |    |    |    |    |-- type: string (nullable = true)\n",
      " |    |    |    |    |    |    |    |    |    |-- url: string (nullable = true)\n",
      " |    |    |    |    |    |    |    |    |    |-- width: long (nullable = true)\n",
      " |    |    |    |    |    |    |-- description: string (nullable = true)\n",
      " |    |    |    |    |    |    |-- plays: long (nullable = true)\n",
      " |    |    |    |    |    |-- title: string (nullable = true)\n",
      " |    |    |    |    |    |-- url: string (nullable = true)\n",
      " |    |    |    |    |-- poll: struct (nullable = true)\n",
      " |    |    |    |    |    |-- anonymous: long (nullable = true)\n",
      " |    |    |    |    |    |-- answer_id: long (nullable = true)\n",
      " |    |    |    |    |    |-- answers: array (nullable = true)\n",
      " |    |    |    |    |    |    |-- element: struct (containsNull = true)\n",
      " |    |    |    |    |    |    |    |-- id: long (nullable = true)\n",
      " |    |    |    |    |    |    |    |-- rate: double (nullable = true)\n",
      " |    |    |    |    |    |    |    |-- text: string (nullable = true)\n",
      " |    |    |    |    |    |    |    |-- votes: long (nullable = true)\n",
      " |    |    |    |    |    |-- created: long (nullable = true)\n",
      " |    |    |    |    |    |-- id: long (nullable = true)\n",
      " |    |    |    |    |    |-- owner_id: long (nullable = true)\n",
      " |    |    |    |    |    |-- question: string (nullable = true)\n",
      " |    |    |    |    |    |-- votes: long (nullable = true)\n",
      " |    |    |    |    |-- pretty_cards: struct (nullable = true)\n",
      " |    |    |    |    |    |-- cards: array (nullable = true)\n",
      " |    |    |    |    |    |    |-- element: struct (containsNull = true)\n",
      " |    |    |    |    |    |    |    |-- button: struct (nullable = true)\n",
      " |    |    |    |    |    |    |    |    |-- action: struct (nullable = true)\n",
      " |    |    |    |    |    |    |    |    |    |-- group_id: long (nullable = true)\n",
      " |    |    |    |    |    |    |    |    |    |-- target: string (nullable = true)\n",
      " |    |    |    |    |    |    |    |    |    |-- type: string (nullable = true)\n",
      " |    |    |    |    |    |    |    |    |    |-- url: string (nullable = true)\n",
      " |    |    |    |    |    |    |    |    |-- title: string (nullable = true)\n",
      " |    |    |    |    |    |    |    |-- card_id: string (nullable = true)\n",
      " |    |    |    |    |    |    |    |-- images: array (nullable = true)\n",
      " |    |    |    |    |    |    |    |    |-- element: struct (containsNull = true)\n",
      " |    |    |    |    |    |    |    |    |    |-- height: long (nullable = true)\n",
      " |    |    |    |    |    |    |    |    |    |-- url: string (nullable = true)\n",
      " |    |    |    |    |    |    |    |    |    |-- width: long (nullable = true)\n",
      " |    |    |    |    |    |    |    |-- link_url: string (nullable = true)\n",
      " |    |    |    |    |    |    |    |-- link_url_target: string (nullable = true)\n",
      " |    |    |    |    |    |    |    |-- photo: string (nullable = true)\n",
      " |    |    |    |    |    |    |    |-- price: string (nullable = true)\n",
      " |    |    |    |    |    |    |    |-- price_old: string (nullable = true)\n",
      " |    |    |    |    |    |    |    |-- title: string (nullable = true)\n",
      " |    |    |    |    |-- sticker: struct (nullable = true)\n",
      " |    |    |    |    |    |-- images: array (nullable = true)\n",
      " |    |    |    |    |    |    |-- element: struct (containsNull = true)\n",
      " |    |    |    |    |    |    |    |-- height: long (nullable = true)\n",
      " |    |    |    |    |    |    |    |-- url: string (nullable = true)\n",
      " |    |    |    |    |    |    |    |-- width: long (nullable = true)\n",
      " |    |    |    |    |    |-- images_with_background: array (nullable = true)\n",
      " |    |    |    |    |    |    |-- element: struct (containsNull = true)\n",
      " |    |    |    |    |    |    |    |-- height: long (nullable = true)\n",
      " |    |    |    |    |    |    |    |-- url: string (nullable = true)\n",
      " |    |    |    |    |    |    |    |-- width: long (nullable = true)\n",
      " |    |    |    |    |    |-- product_id: long (nullable = true)\n",
      " |    |    |    |    |    |-- sticker_id: long (nullable = true)\n",
      " |    |    |    |    |-- type: string (nullable = true)\n",
      " |    |    |    |    |-- video: struct (nullable = true)\n",
      " |    |    |    |    |    |-- access_key: string (nullable = true)\n",
      " |    |    |    |    |    |-- album_id: long (nullable = true)\n",
      " |    |    |    |    |    |-- can_add: long (nullable = true)\n",
      " |    |    |    |    |    |-- comments: long (nullable = true)\n",
      " |    |    |    |    |    |-- content_restricted: long (nullable = true)\n",
      " |    |    |    |    |    |-- date: long (nullable = true)\n",
      " |    |    |    |    |    |-- description: string (nullable = true)\n",
      " |    |    |    |    |    |-- duration: long (nullable = true)\n",
      " |    |    |    |    |    |-- first_frame_1024: string (nullable = true)\n",
      " |    |    |    |    |    |-- first_frame_1280: string (nullable = true)\n",
      " |    |    |    |    |    |-- first_frame_130: string (nullable = true)\n",
      " |    |    |    |    |    |-- first_frame_160: string (nullable = true)\n",
      " |    |    |    |    |    |-- first_frame_320: string (nullable = true)\n",
      " |    |    |    |    |    |-- first_frame_4096: string (nullable = true)\n",
      " |    |    |    |    |    |-- first_frame_720: string (nullable = true)\n",
      " |    |    |    |    |    |-- first_frame_800: string (nullable = true)\n",
      " |    |    |    |    |    |-- height: long (nullable = true)\n",
      " |    |    |    |    |    |-- id: long (nullable = true)\n",
      " |    |    |    |    |    |-- is_private: long (nullable = true)\n",
      " |    |    |    |    |    |-- live: long (nullable = true)\n",
      " |    |    |    |    |    |-- local_views: long (nullable = true)\n",
      " |    |    |    |    |    |-- owner_id: long (nullable = true)\n",
      " |    |    |    |    |    |-- photo_1280: string (nullable = true)\n",
      " |    |    |    |    |    |-- photo_130: string (nullable = true)\n",
      " |    |    |    |    |    |-- photo_320: string (nullable = true)\n",
      " |    |    |    |    |    |-- photo_640: string (nullable = true)\n",
      " |    |    |    |    |    |-- photo_800: string (nullable = true)\n",
      " |    |    |    |    |    |-- platform: string (nullable = true)\n",
      " |    |    |    |    |    |-- processing: long (nullable = true)\n",
      " |    |    |    |    |    |-- repeat: long (nullable = true)\n",
      " |    |    |    |    |    |-- spectators: long (nullable = true)\n",
      " |    |    |    |    |    |-- title: string (nullable = true)\n",
      " |    |    |    |    |    |-- track_code: string (nullable = true)\n",
      " |    |    |    |    |    |-- user_id: long (nullable = true)\n",
      " |    |    |    |    |    |-- views: long (nullable = true)\n",
      " |    |    |    |    |    |-- width: long (nullable = true)\n",
      " |    |    |-- date: long (nullable = true)\n",
      " |    |    |-- final_post: long (nullable = true)\n",
      " |    |    |-- from_id: long (nullable = true)\n",
      " |    |    |-- geo: struct (nullable = true)\n",
      " |    |    |    |-- coordinates: string (nullable = true)\n",
      " |    |    |    |-- place: struct (nullable = true)\n",
      " |    |    |    |    |-- address: string (nullable = true)\n",
      " |    |    |    |    |-- checkins: long (nullable = true)\n",
      " |    |    |    |    |-- city: string (nullable = true)\n",
      " |    |    |    |    |-- country: string (nullable = true)\n",
      " |    |    |    |    |-- created: long (nullable = true)\n",
      " |    |    |    |    |-- icon: string (nullable = true)\n",
      " |    |    |    |    |-- id: long (nullable = true)\n",
      " |    |    |    |    |-- latitude: double (nullable = true)\n",
      " |    |    |    |    |-- longitude: double (nullable = true)\n",
      " |    |    |    |    |-- title: string (nullable = true)\n",
      " |    |    |    |    |-- type: long (nullable = true)\n",
      " |    |    |    |-- showmap: long (nullable = true)\n",
      " |    |    |    |-- type: string (nullable = true)\n",
      " |    |    |-- id: long (nullable = true)\n",
      " |    |    |-- owner_id: long (nullable = true)\n",
      " |    |    |-- post_source: struct (nullable = true)\n",
      " |    |    |    |-- data: string (nullable = true)\n",
      " |    |    |    |-- link: struct (nullable = true)\n",
      " |    |    |    |    |-- description: string (nullable = true)\n",
      " |    |    |    |    |-- title: string (nullable = true)\n",
      " |    |    |    |    |-- url: string (nullable = true)\n",
      " |    |    |    |-- platform: string (nullable = true)\n",
      " |    |    |    |-- type: string (nullable = true)\n",
      " |    |    |    |-- url: string (nullable = true)\n",
      " |    |    |-- post_type: string (nullable = true)\n",
      " |    |    |-- reply_post_id: long (nullable = true)\n",
      " |    |    |-- signer_id: long (nullable = true)\n",
      " |    |    |-- text: string (nullable = true)\n",
      " |-- copyright: struct (nullable = true)\n",
      " |    |-- id: long (nullable = true)\n",
      " |    |-- link: string (nullable = true)\n",
      " |    |-- name: string (nullable = true)\n",
      " |    |-- type: string (nullable = true)\n",
      " |-- date: long (nullable = true)\n",
      " |-- final_post: long (nullable = true)\n",
      " |-- from_id: long (nullable = true)\n",
      " |-- geo: struct (nullable = true)\n",
      " |    |-- coordinates: string (nullable = true)\n",
      " |    |-- place: struct (nullable = true)\n",
      " |    |    |-- address: string (nullable = true)\n",
      " |    |    |-- checkins: long (nullable = true)\n",
      " |    |    |-- city: string (nullable = true)\n",
      " |    |    |-- country: string (nullable = true)\n",
      " |    |    |-- created: long (nullable = true)\n",
      " |    |    |-- icon: string (nullable = true)\n",
      " |    |    |-- id: long (nullable = true)\n",
      " |    |    |-- latitude: double (nullable = true)\n",
      " |    |    |-- longitude: double (nullable = true)\n",
      " |    |    |-- title: string (nullable = true)\n",
      " |    |    |-- type: long (nullable = true)\n",
      " |    |-- showmap: long (nullable = true)\n",
      " |    |-- type: string (nullable = true)\n",
      " |-- id: long (nullable = true)\n",
      " |-- is_pinned: long (nullable = true)\n",
      " |-- key: string (nullable = true)\n",
      " |-- likes: struct (nullable = true)\n",
      " |    |-- can_like: long (nullable = true)\n",
      " |    |-- can_publish: long (nullable = true)\n",
      " |    |-- count: long (nullable = true)\n",
      " |    |-- user_likes: long (nullable = true)\n",
      " |-- owner_id: long (nullable = true)\n",
      " |-- post_source: struct (nullable = true)\n",
      " |    |-- data: string (nullable = true)\n",
      " |    |-- link: struct (nullable = true)\n",
      " |    |    |-- description: string (nullable = true)\n",
      " |    |    |-- title: string (nullable = true)\n",
      " |    |    |-- url: string (nullable = true)\n",
      " |    |-- platform: string (nullable = true)\n",
      " |    |-- type: string (nullable = true)\n",
      " |    |-- url: string (nullable = true)\n",
      " |-- post_type: string (nullable = true)\n",
      " |-- reposts: struct (nullable = true)\n",
      " |    |-- count: long (nullable = true)\n",
      " |    |-- user_reposted: long (nullable = true)\n",
      " |-- signer_id: long (nullable = true)\n",
      " |-- text: string (nullable = true)\n",
      " |-- unavailable: string (nullable = true)\n",
      " |-- views: struct (nullable = true)\n",
      " |    |-- count: long (nullable = true)\n",
      "\n"
     ]
    }
   ],
   "source": [
    "followers_posts_df.printSchema()"
   ]
  },
  {
   "cell_type": "code",
   "execution_count": 139,
   "metadata": {},
   "outputs": [
    {
     "name": "stdout",
     "output_type": "stream",
     "text": [
      "root\n",
      " |-- profile: integer (nullable = true)\n",
      " |-- follower: integer (nullable = true)\n",
      "\n"
     ]
    }
   ],
   "source": [
    "followers_df.printSchema()"
   ]
  },
  {
   "cell_type": "markdown",
   "metadata": {},
   "source": [
    "структура followers_posts_df такая же как и posts_df, но рассматривает множество пользователей, а не одну лишь группу ИТМО как во втором случае. Атрибут copy_history из followers_posts_df имеется лишь у записей на стене пользователя, являющихся репостами. Выберем из followers_posts_df лишь те посты, которые являются репостами (на стене пользователя могут быть и собственные записи) и для которых id владельца стены, где размещен пост copy_history[owner_id] = -94, т.е. репосты из группы ИТМО. \n",
    "Сгруппируем полученные таким образом посты по их id в группе ИТМО (атрибут copy_history[id]), поставив второй колонкой число постов с данным copy_history[id], что эквивалентно числу пользователей репостнувших запись к себе на стену. "
   ]
  },
  {
   "cell_type": "code",
   "execution_count": 253,
   "metadata": {},
   "outputs": [],
   "source": [
    "ur_df = followers_posts_df.select('owner_id', col('copy_history')['id'][0].name('orig_post_id'))\\\n",
    "    .where(col('copy_history')['owner_id'][0] == -94)\\\n",
    "    .withColumnRenamed('owner_id', 'user_id')"
   ]
  },
  {
   "cell_type": "code",
   "execution_count": 265,
   "metadata": {
    "scrolled": false
   },
   "outputs": [
    {
     "data": {
      "text/plain": [
       "[Row(orig_post_id=41424, users=[1475301, 282843035, 172808182]),\n",
       " Row(orig_post_id=42388, users=[180907432]),\n",
       " Row(orig_post_id=39407, users=[8082648, 2031644]),\n",
       " Row(orig_post_id=39719, users=[89417157]),\n",
       " Row(orig_post_id=38963, users=[6591522, 15641504, 172808182, 377805819, 477893414]),\n",
       " Row(orig_post_id=40011, users=[1546152, 1098272, 317799]),\n",
       " Row(orig_post_id=39259, users=[86937823, 159562593, 135556, 28405519, 253204918, 113773552, 15900015, 319622206]),\n",
       " Row(orig_post_id=40084, users=[268247082]),\n",
       " Row(orig_post_id=42009, users=[443525857, 281951154]),\n",
       " Row(orig_post_id=41506, users=[139081799, 29899117, 537403451, 527580876, 527580876]),\n",
       " Row(orig_post_id=38857, users=[484122052]),\n",
       " Row(orig_post_id=38854, users=[484122052]),\n",
       " Row(orig_post_id=40521, users=[418595183]),\n",
       " Row(orig_post_id=40996, users=[344349]),\n",
       " Row(orig_post_id=39082, users=[319622206]),\n",
       " Row(orig_post_id=42691, users=[161500412]),\n",
       " Row(orig_post_id=41039, users=[180907432]),\n",
       " Row(orig_post_id=38754, users=[5567322]),\n",
       " Row(orig_post_id=38818, users=[180907432]),\n",
       " Row(orig_post_id=41402, users=[392929284, 786161, 170536292]),\n",
       " Row(orig_post_id=41535, users=[342841693]),\n",
       " Row(orig_post_id=41917, users=[256973]),\n",
       " Row(orig_post_id=40190, users=[86002]),\n",
       " Row(orig_post_id=42256, users=[56864900, 217400123]),\n",
       " Row(orig_post_id=41912, users=[1533614]),\n",
       " Row(orig_post_id=41721, users=[14834349, 317799, 9334984, 180907432, 44361144, 555633260]),\n",
       " Row(orig_post_id=41521, users=[209943513]),\n",
       " Row(orig_post_id=40585, users=[238291959]),\n",
       " Row(orig_post_id=40432, users=[51735514]),\n",
       " Row(orig_post_id=41046, users=[180907432]),\n",
       " Row(orig_post_id=41369, users=[180907432]),\n",
       " Row(orig_post_id=42234, users=[180907432]),\n",
       " Row(orig_post_id=39515, users=[18467645, 15840290, 4197185, 2031644]),\n",
       " Row(orig_post_id=40100, users=[317799, 483010700]),\n",
       " Row(orig_post_id=39758, users=[3505022, 137035486]),\n",
       " Row(orig_post_id=38960, users=[2547211]),\n",
       " Row(orig_post_id=41659, users=[86002, 153941761]),\n",
       " Row(orig_post_id=40180, users=[14834349, 268247082]),\n",
       " Row(orig_post_id=40839, users=[1548876]),\n",
       " Row(orig_post_id=41200, users=[156758896]),\n",
       " Row(orig_post_id=42482, users=[61439087, 44642738, 178417557, 342841693, 245119117, 89417157, 161891254, 214069421, 135975909, 250268228]),\n",
       " Row(orig_post_id=40145, users=[157728618]),\n",
       " Row(orig_post_id=42020, users=[365885]),\n",
       " Row(orig_post_id=41093, users=[180907432, 84049910]),\n",
       " Row(orig_post_id=456239414, users=[4068532, 5070857, 1548876, 128082542, 502205820, 340764718, 471165, 215847338, 168543860, 255396611]),\n",
       " Row(orig_post_id=39723, users=[1533614]),\n",
       " Row(orig_post_id=40172, users=[2547211]),\n",
       " Row(orig_post_id=456239390, users=[526122695]),\n",
       " Row(orig_post_id=41129, users=[180907432]),\n",
       " Row(orig_post_id=40984, users=[180907432]),\n",
       " Row(orig_post_id=42201, users=[168543860]),\n",
       " Row(orig_post_id=40274, users=[172808182]),\n",
       " Row(orig_post_id=42679, users=[42832710]),\n",
       " Row(orig_post_id=38999, users=[344349]),\n",
       " Row(orig_post_id=40873, users=[317799]),\n",
       " Row(orig_post_id=41266, users=[10339095, 113773552, 986544, 148627607, 18224323, 154665473, 152941256, 415938349, 412594050, 408938851, 446881639, 29885219, 180907432, 118123136, 1431573, 19181714, 18150928, 57183923, 52561412, 63161912, 180187722, 483010700, 466010016, 440454268, 390076321, 446514737, 446514737, 426396104, 524656784, 514384760]),\n",
       " Row(orig_post_id=38876, users=[484122052, 100363682]),\n",
       " Row(orig_post_id=42548, users=[19549000]),\n",
       " Row(orig_post_id=38755, users=[17499681]),\n",
       " Row(orig_post_id=42273, users=[176461282, 2070090, 180907432]),\n",
       " Row(orig_post_id=38751, users=[110861]),\n",
       " Row(orig_post_id=41282, users=[180907432]),\n",
       " Row(orig_post_id=42188, users=[466028583]),\n",
       " Row(orig_post_id=41982, users=[135705506]),\n",
       " Row(orig_post_id=40988, users=[180907432]),\n",
       " Row(orig_post_id=42576, users=[168543860, 168543860]),\n",
       " Row(orig_post_id=42117, users=[488596130]),\n",
       " Row(orig_post_id=38847, users=[180907432, 329472865]),\n",
       " Row(orig_post_id=41525, users=[20232844]),\n",
       " Row(orig_post_id=42397, users=[229227234]),\n",
       " Row(orig_post_id=38767, users=[156713648, 281951154]),\n",
       " Row(orig_post_id=41686, users=[516669490]),\n",
       " Row(orig_post_id=41171, users=[281951154, 180907432]),\n",
       " Row(orig_post_id=42447, users=[275773467]),\n",
       " Row(orig_post_id=41684, users=[43225330]),\n",
       " Row(orig_post_id=39205, users=[10515940]),\n",
       " Row(orig_post_id=41159, users=[281951154, 180907432]),\n",
       " Row(orig_post_id=40384, users=[527580876]),\n",
       " Row(orig_post_id=38968, users=[180907432]),\n",
       " Row(orig_post_id=40780, users=[6591522]),\n",
       " Row(orig_post_id=40301, users=[83076388, 3523889, 2547211]),\n",
       " Row(orig_post_id=456242999, users=[142992667]),\n",
       " Row(orig_post_id=41191, users=[4068532]),\n",
       " Row(orig_post_id=41588, users=[216505726, 23055567]),\n",
       " Row(orig_post_id=40633, users=[415938349, 237894970]),\n",
       " Row(orig_post_id=42508, users=[13805465]),\n",
       " Row(orig_post_id=38972, users=[180907432, 317799]),\n",
       " Row(orig_post_id=42730, users=[71121465, 140186736, 112498659, 134346829]),\n",
       " Row(orig_post_id=39686, users=[204910156, 317799, 26176978, 327904938]),\n",
       " Row(orig_post_id=41952, users=[180907432, 83685448]),\n",
       " Row(orig_post_id=42334, users=[54101707, 1077823, 303931755]),\n",
       " Row(orig_post_id=41708, users=[12143105, 1077823, 329472865, 44361144]),\n",
       " Row(orig_post_id=38871, users=[484122052, 5567322]),\n",
       " Row(orig_post_id=39682, users=[81515026, 222761898, 1548876, 204910156, 239244387]),\n",
       " Row(orig_post_id=41030, users=[317799, 1077823]),\n",
       " Row(orig_post_id=40336, users=[106239055]),\n",
       " Row(orig_post_id=40742, users=[217400123]),\n",
       " Row(orig_post_id=456239329, users=[11110531]),\n",
       " Row(orig_post_id=41194, users=[1533614, 147134482]),\n",
       " Row(orig_post_id=41311, users=[180907432]),\n",
       " Row(orig_post_id=40999, users=[2547211]),\n",
       " Row(orig_post_id=41337, users=[180907432]),\n",
       " Row(orig_post_id=40929, users=[147134482]),\n",
       " Row(orig_post_id=42270, users=[43225330]),\n",
       " Row(orig_post_id=42507, users=[44361144, 510323128]),\n",
       " Row(orig_post_id=41218, users=[26739609, 281951154]),\n",
       " Row(orig_post_id=39948, users=[180907432]),\n",
       " Row(orig_post_id=39282, users=[59949877, 180907432]),\n",
       " Row(orig_post_id=41706, users=[256973, 317799]),\n",
       " Row(orig_post_id=39757, users=[1533614, 317799]),\n",
       " Row(orig_post_id=42265, users=[317799]),\n",
       " Row(orig_post_id=39954, users=[227562771]),\n",
       " Row(orig_post_id=41331, users=[180907432, 217400123]),\n",
       " Row(orig_post_id=42714, users=[164820203]),\n",
       " Row(orig_post_id=41712, users=[4068532, 121608397]),\n",
       " Row(orig_post_id=39742, users=[15840290, 2031644]),\n",
       " Row(orig_post_id=38823, users=[12403553]),\n",
       " Row(orig_post_id=38867, users=[52707846, 484122052]),\n",
       " Row(orig_post_id=40794, users=[317799, 180907432]),\n",
       " Row(orig_post_id=41945, users=[156713648, 2070090]),\n",
       " Row(orig_post_id=39079, users=[2547211]),\n",
       " Row(orig_post_id=42669, users=[431298462]),\n",
       " Row(orig_post_id=38877, users=[180907432]),\n",
       " Row(orig_post_id=38748, users=[180907432]),\n",
       " Row(orig_post_id=41289, users=[180907432, 48034462]),\n",
       " Row(orig_post_id=40994, users=[143207077]),\n",
       " Row(orig_post_id=42505, users=[359477755]),\n",
       " Row(orig_post_id=38859, users=[484122052]),\n",
       " Row(orig_post_id=41602, users=[4068532]),\n",
       " Row(orig_post_id=456239423, users=[13967063]),\n",
       " Row(orig_post_id=40572, users=[307190744, 543831937]),\n",
       " Row(orig_post_id=41685, users=[180907432]),\n",
       " Row(orig_post_id=41064, users=[180907432, 189933794, 1077823]),\n",
       " Row(orig_post_id=40480, users=[55699584, 27832682, 233976767]),\n",
       " Row(orig_post_id=38738, users=[19289915]),\n",
       " Row(orig_post_id=39749, users=[34157796, 532297882]),\n",
       " Row(orig_post_id=38730, users=[157728618, 19289915, 180907432]),\n",
       " Row(orig_post_id=40856, users=[188913529, 148521296]),\n",
       " Row(orig_post_id=38915, users=[2923196, 317799, 59949877, 39823750]),\n",
       " Row(orig_post_id=42577, users=[156278470, 2923196]),\n",
       " Row(orig_post_id=39856, users=[3505022, 1546152]),\n",
       " Row(orig_post_id=41676, users=[55930167]),\n",
       " Row(orig_post_id=40401, users=[1546152]),\n",
       " Row(orig_post_id=38995, users=[147054031]),\n",
       " Row(orig_post_id=42186, users=[180907432, 154091441, 43225330]),\n",
       " Row(orig_post_id=41313, users=[180907432]),\n",
       " Row(orig_post_id=41704, users=[275773467]),\n",
       " Row(orig_post_id=38858, users=[484122052]),\n",
       " Row(orig_post_id=41713, users=[4068532]),\n",
       " Row(orig_post_id=41140, users=[180181348]),\n",
       " Row(orig_post_id=39748, users=[44361144, 55699584, 388899559]),\n",
       " Row(orig_post_id=40683, users=[180907432, 268247082]),\n",
       " Row(orig_post_id=40118, users=[373190294]),\n",
       " Row(orig_post_id=38814, users=[180907432]),\n",
       " Row(orig_post_id=41120, users=[516010906]),\n",
       " Row(orig_post_id=38764, users=[925142]),\n",
       " Row(orig_post_id=40712, users=[100365912]),\n",
       " Row(orig_post_id=40972, users=[180907432]),\n",
       " Row(orig_post_id=41207, users=[183202785, 5264415, 317799, 2070090, 180907432, 217400123]),\n",
       " Row(orig_post_id=41059, users=[189933794, 1077823]),\n",
       " Row(orig_post_id=41188, users=[180907432, 4068532]),\n",
       " Row(orig_post_id=41329, users=[89417157]),\n",
       " Row(orig_post_id=39009, users=[86002, 2547211]),\n",
       " Row(orig_post_id=39917, users=[34157796]),\n",
       " Row(orig_post_id=40090, users=[3505022, 425920, 5264415, 237894970, 4068532, 157728618, 185035504, 11301324, 527580876]),\n",
       " Row(orig_post_id=40320, users=[26176978]),\n",
       " Row(orig_post_id=38881, users=[180907432]),\n",
       " Row(orig_post_id=40924, users=[180907432]),\n",
       " Row(orig_post_id=41127, users=[180181348, 317799, 249534514]),\n",
       " Row(orig_post_id=40510, users=[329472865]),\n",
       " Row(orig_post_id=41725, users=[37127521]),\n",
       " Row(orig_post_id=40908, users=[4068532, 4068532]),\n",
       " Row(orig_post_id=41108, users=[180907432, 344349, 251113524, 237894970]),\n",
       " Row(orig_post_id=42041, users=[378085567]),\n",
       " Row(orig_post_id=40592, users=[92556354]),\n",
       " Row(orig_post_id=40606, users=[44748]),\n",
       " Row(orig_post_id=39916, users=[417950963]),\n",
       " Row(orig_post_id=42316, users=[56864900, 192932783, 319622206]),\n",
       " Row(orig_post_id=42663, users=[63161912]),\n",
       " Row(orig_post_id=38907, users=[159562593, 255396611]),\n",
       " Row(orig_post_id=39374, users=[18467645, 2547211]),\n",
       " Row(orig_post_id=41468, users=[53027, 8050972, 163562629, 85370197, 113773552, 172158253, 4068532, 51059749, 317799, 69693, 370402094, 406176994, 1994419, 2070090, 151172973, 11456725, 242175937, 50551, 19549000, 143597561, 158709203, 19471, 91390312, 128527581, 380317476]),\n",
       " Row(orig_post_id=41968, users=[5264415, 282843035]),\n",
       " Row(orig_post_id=42163, users=[2070090]),\n",
       " Row(orig_post_id=40915, users=[317799]),\n",
       " Row(orig_post_id=41855, users=[278100021, 88359321]),\n",
       " Row(orig_post_id=41151, users=[180907432]),\n",
       " Row(orig_post_id=41906, users=[104119888]),\n",
       " Row(orig_post_id=39696, users=[19549000]),\n",
       " Row(orig_post_id=42152, users=[180907432]),\n",
       " Row(orig_post_id=39294, users=[18467645, 156632195, 52526067, 2923196]),\n",
       " Row(orig_post_id=40735, users=[180907432]),\n",
       " Row(orig_post_id=41316, users=[180907432, 4068532]),\n",
       " Row(orig_post_id=42161, users=[2004962, 2547211]),\n",
       " Row(orig_post_id=456242467, users=[3290903]),\n",
       " Row(orig_post_id=38862, users=[484122052]),\n",
       " Row(orig_post_id=41029, users=[189933794, 268247082]),\n",
       " Row(orig_post_id=41451, users=[307190744, 268813604]),\n",
       " Row(orig_post_id=38740, users=[32985413, 68122700, 37127521, 19289915, 180907432, 83076388, 300687993, 496979563]),\n",
       " Row(orig_post_id=40661, users=[1120826]),\n",
       " Row(orig_post_id=41838, users=[157728618, 254495929]),\n",
       " Row(orig_post_id=38791, users=[311384313]),\n",
       " Row(orig_post_id=41679, users=[3615975, 466854889]),\n",
       " Row(orig_post_id=40228, users=[205305143]),\n",
       " Row(orig_post_id=40134, users=[268247082]),\n",
       " Row(orig_post_id=41995, users=[526296593]),\n",
       " Row(orig_post_id=41305, users=[1475301]),\n",
       " Row(orig_post_id=38904, users=[2547211]),\n",
       " Row(orig_post_id=38957, users=[110861, 477893414]),\n",
       " Row(orig_post_id=41891, users=[254495929]),\n",
       " Row(orig_post_id=38897, users=[72396326]),\n",
       " Row(orig_post_id=42452, users=[192344013]),\n",
       " Row(orig_post_id=39659, users=[104698779]),\n",
       " Row(orig_post_id=42347, users=[4068532]),\n",
       " Row(orig_post_id=41546, users=[157272120, 256973, 261917672, 82668971, 88359321, 172808182]),\n",
       " Row(orig_post_id=40569, users=[409283061]),\n",
       " Row(orig_post_id=41297, users=[180907432]),\n",
       " Row(orig_post_id=39868, users=[18467645]),\n",
       " Row(orig_post_id=40427, users=[53368685])]"
      ]
     },
     "execution_count": 265,
     "metadata": {},
     "output_type": "execute_result"
    }
   ],
   "source": [
    "ur_df.groupby('orig_post_id')\\\n",
    "    .agg(F.collect_list('user_id').name('users'))\\\n",
    "    .collect()"
   ]
  },
  {
   "cell_type": "markdown",
   "metadata": {},
   "source": [
    "# Step 4\n",
    "find emoticons in posts and their comments (negative, positive, neutral)"
   ]
  },
  {
   "cell_type": "code",
   "execution_count": null,
   "metadata": {},
   "outputs": [],
   "source": [
    "import sys\n",
    "!{sys.executable} -m pip install --user --trusted-host pypi-registry.supplementary-services.svc.cluster.local --index http://pypi-registry.supplementary-services.svc.cluster.local:8080 emoji"
   ]
  },
  {
   "cell_type": "code",
   "execution_count": null,
   "metadata": {},
   "outputs": [],
   "source": [
    "import emoji\n",
    "from pyspark.sql.types import ArrayType, StringType\n",
    "\n",
    "def emojies_in_text(text):\n",
    "    emojies = [c for c in text if c in emoji.UNICODE_EMOJI['en'].keys()]\n",
    "    return ''.join(emojies)\n",
    "\n",
    "def emojies_filter(emojies):\n",
    "    return len(emojies) > 0\n",
    "\n",
    "emojies_in_text_udf = F.udf(emojies_in_text, StringType())\n",
    "emojies_filter_udf = F.udf(emojies_filter, BooleanType())\n",
    "  \n",
    "counts = {}\n",
    "counts_by_posts = {}\n",
    "\n",
    "def update_counts(emojies):\n",
    "    for e in emojies:\n",
    "        counts[e] = 1 if e not in counts.keys else counts[e]+1\n",
    "        \n",
    "    for e in set(emojies):\n",
    "        counts_by_posts[e] = 1 if e not in counts_by_posts.keys else counts_by_posts[e]+1"
   ]
  },
  {
   "cell_type": "code",
   "execution_count": null,
   "metadata": {},
   "outputs": [],
   "source": [
    "df_selected_emojies = posts_df\\\n",
    "    .select('text', emojies_in_text_udf('text').name(\"em\"))\\\n",
    "    .select('text', 'em', F.length(F.col('em')).name('length'))\\\n",
    "    .when(\"em !='' \")\n",
    "\n",
    "df_selected_emojies.printSchema()\n",
    "df_selected_emojies.show()"
   ]
  },
  {
   "cell_type": "code",
   "execution_count": null,
   "metadata": {},
   "outputs": [],
   "source": []
  },
  {
   "cell_type": "markdown",
   "metadata": {},
   "source": [
    "# Task 5\n",
    "Probable “fans”. Find for each user the top 10 other users whose posts this user likes."
   ]
  },
  {
   "cell_type": "code",
   "execution_count": 267,
   "metadata": {},
   "outputs": [
    {
     "name": "stdout",
     "output_type": "stream",
     "text": [
      "root\n",
      " |-- itemType: string (nullable = true)\n",
      " |-- ownerId: integer (nullable = true)\n",
      " |-- itemId: integer (nullable = true)\n",
      " |-- likerId: integer (nullable = true)\n",
      "\n"
     ]
    }
   ],
   "source": [
    "followers_posts_likes_df.printSchema()\n",
    "#itemId = PostID - уникальный номер поста\n",
    "#ownerId - id стены, где пост размещен\n",
    "#likerId - ID того, кто ставит лайк"
   ]
  },
  {
   "cell_type": "code",
   "execution_count": 499,
   "metadata": {},
   "outputs": [],
   "source": [
    "def fans_of(user):\n",
    "    return followers_posts_likes_df.groupBy(\"likerId\", \"ownerId\")\\\n",
    "        .agg(F.count(\"ownerId\").name(\"likes\"))\\\n",
    "        .where('ownerId == {}'.format(user))\\\n",
    "        .withColumnRenamed(\"likerId\", 'fan')\\\n",
    "        .orderBy('likes', ascending = False)\\\n",
    "        .limit(10)"
   ]
  },
  {
   "cell_type": "code",
   "execution_count": 535,
   "metadata": {
    "scrolled": false
   },
   "outputs": [
    {
     "name": "stdout",
     "output_type": "stream",
     "text": [
      "+---------+-------+-----+\n",
      "|      fan|ownerId|likes|\n",
      "+---------+-------+-----+\n",
      "|  1925168|  27419|    6|\n",
      "|     9383|  27419|    4|\n",
      "|529276371|  27419|    4|\n",
      "|  6866116|  27419|    3|\n",
      "|    24147|  27419|    3|\n",
      "| 95884146|  27419|    3|\n",
      "|291831320|  27419|    3|\n",
      "|100187585|  27419|    3|\n",
      "|  1622246|  27419|    3|\n",
      "|   422720|  27419|    3|\n",
      "+---------+-------+-----+\n",
      "\n"
     ]
    }
   ],
   "source": [
    "df1 = fans_of(27419)\n",
    "df1.show()"
   ]
  },
  {
   "cell_type": "markdown",
   "metadata": {},
   "source": [
    "# Task 6\n",
    "Probable friends. If two users like each other posts they may be friends. Find pairs of users where both users are top likers of each other."
   ]
  },
  {
   "cell_type": "code",
   "execution_count": 449,
   "metadata": {
    "scrolled": true
   },
   "outputs": [
    {
     "name": "stdout",
     "output_type": "stream",
     "text": [
      "+---------+-------+-----+\n",
      "|      fan|ownerId|likes|\n",
      "+---------+-------+-----+\n",
      "|331853691|  24147|   49|\n",
      "| 31609798|  24147|   44|\n",
      "|529276371|  24147|   43|\n",
      "|431349700|  24147|   33|\n",
      "|    24147|  24147|   25|\n",
      "| 34587765|  24147|   24|\n",
      "|   188799|  24147|   21|\n",
      "| 13898859|  24147|   19|\n",
      "| 10260310|  24147|   15|\n",
      "| 70922560|  24147|   15|\n",
      "+---------+-------+-----+\n",
      "\n"
     ]
    }
   ],
   "source": [
    "df2 = fans_of(24147)\n",
    "df2.show()"
   ]
  },
  {
   "cell_type": "code",
   "execution_count": 530,
   "metadata": {},
   "outputs": [],
   "source": [
    "def isFriends(userId1, userId2):\n",
    "    df1 = fans_of(userId1)\n",
    "    df2 = fans_of(userId2)\n",
    "    df3 = df1.alias(\"a\")\\\n",
    "        .join(df2.alias(\"b\"), [(col('b.fan') == col('a.ownerId')) & (col('a.fan') == col('b.ownerId'))], 'inner')\\\n",
    "        .select(col('a.fan'), col('a.ownerId'))\n",
    "    return df3.count() > 0"
   ]
  },
  {
   "cell_type": "code",
   "execution_count": 532,
   "metadata": {},
   "outputs": [
    {
     "name": "stdout",
     "output_type": "stream",
     "text": [
      "UserId 24147 and userId 27419 are friends: False\n"
     ]
    }
   ],
   "source": [
    "print(f'UserId 24147 and userId 27419 are friends: {isFriends(27419, 24147)}')\n",
    "#false потому что 27419 не в топе у 24147, хотя у последнего первый в топе есть (см. ячейки с визуализацией df1, df2 выше)"
   ]
  },
  {
   "cell_type": "code",
   "execution_count": 635,
   "metadata": {},
   "outputs": [
    {
     "data": {
      "text/plain": [
       "{'key': [5, 5, 5], 'rer': [1, 1, 1]}"
      ]
     },
     "execution_count": 635,
     "metadata": {},
     "output_type": "execute_result"
    }
   ],
   "source": [
    "#a = {}\n",
    "#a['key'] = []\n",
    "#a['rer'] = []\n",
    "a['key'].append(5)\n",
    "a['rer'].append(1)\n",
    "a"
   ]
  },
  {
   "cell_type": "code",
   "execution_count": 652,
   "metadata": {},
   "outputs": [],
   "source": [
    "users_df = list(followers_posts_likes_df.select('likerId')\\\n",
    "    .distinct()\\\n",
    "    .toPandas()['likerId'])"
   ]
  },
  {
   "cell_type": "code",
   "execution_count": null,
   "metadata": {},
   "outputs": [],
   "source": [
    "prob_friends = {}\n",
    "for userId in users_df:\n",
    "    fans = fans_of(userId)\n",
    "    if fans.count() != 0:\n",
    "        prob_friends[userId] = []\n",
    "        for fan in fans.select('fan').collect()[0]:\n",
    "            if isFriends(fan, userId):\n",
    "                prob_friends[userId].append(fan)\n",
    "prob_friends"
   ]
  },
  {
   "cell_type": "code",
   "execution_count": null,
   "metadata": {},
   "outputs": [],
   "source": []
  },
  {
   "cell_type": "markdown",
   "metadata": {},
   "source": [
    "### Draft"
   ]
  },
  {
   "cell_type": "code",
   "execution_count": null,
   "metadata": {},
   "outputs": [],
   "source": [
    "windowSpecAgg  = Window.partitionBy(\"likerId\")\n",
    "\n",
    "followers_posts_likes_df"
   ]
  },
  {
   "cell_type": "code",
   "execution_count": 293,
   "metadata": {},
   "outputs": [
    {
     "data": {
      "text/plain": [
       "[Row(likes=25)]"
      ]
     },
     "execution_count": 293,
     "metadata": {},
     "output_type": "execute_result"
    }
   ],
   "source": [
    "followers_posts_likes_df.where('likerId = 2767')\\\n",
    "    .agg(F.count('ownerId').name('likes'))\\\n",
    "    .collect()"
   ]
  },
  {
   "cell_type": "code",
   "execution_count": null,
   "metadata": {},
   "outputs": [],
   "source": []
  }
 ],
 "metadata": {
  "kernelspec": {
   "display_name": "Python 3",
   "language": "python",
   "name": "python3"
  },
  "language_info": {
   "codemirror_mode": {
    "name": "ipython",
    "version": 3
   },
   "file_extension": ".py",
   "mimetype": "text/x-python",
   "name": "python",
   "nbconvert_exporter": "python",
   "pygments_lexer": "ipython3",
   "version": "3.8.5"
  }
 },
 "nbformat": 4,
 "nbformat_minor": 5
}
