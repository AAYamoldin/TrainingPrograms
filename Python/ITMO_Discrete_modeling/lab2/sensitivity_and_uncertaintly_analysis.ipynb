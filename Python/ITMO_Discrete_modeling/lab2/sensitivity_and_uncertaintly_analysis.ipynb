{
 "cells": [
  {
   "cell_type": "code",
   "execution_count": 4,
   "metadata": {
    "collapsed": true
   },
   "outputs": [],
   "source": [
    "import pandas as pd\n",
    "import numpy as np\n",
    "import matplotlib.pyplot as plt\n",
    "from SALib.sample import saltelli\n",
    "from SALib.analyze import sobol\n",
    "from tqdm import tqdm"
   ]
  },
  {
   "cell_type": "code",
   "execution_count": 5,
   "outputs": [],
   "source": [
    "names = ['year', '0-4',\t'5-9',\t'10-14',\t'15-19',\t'20-24',\t'25-29',\t'30-34',\t'35-39',\t'40-44',\t'45-49',\t'50-54',\t'55-59',\t'60-64',\t'65-69',\t'70-74',\t'75-79',\t'80-84',\t'85-89',\t'90-94',\t'95-99',\t'100+']"
   ],
   "metadata": {
    "collapsed": false,
    "pycharm": {
     "name": "#%%\n"
    }
   }
  },
  {
   "cell_type": "code",
   "execution_count": 6,
   "outputs": [],
   "source": [
    "data_age = pd.read_excel('BY_AGE_BOTH_SEXES.xlsx')\n",
    "data_age_ru = data_age[(data_age['Unnamed: 2'] == \"Russian Federation\")].iloc[:, 7:]\n",
    "data_age_ru.set_axis(names, axis=1, inplace=True)\n",
    "data_age_ru_fem = pd.read_excel('BY_AGE_FEMALE.xlsx')\n",
    "data_age_ru_fem = data_age_ru_fem[data_age_ru_fem['Unnamed: 2'] == \"Russian Federation\"].iloc[:, 7:]\n",
    "data_age_ru_fem.set_axis(names, axis=1, inplace=True)\n",
    "data_age_ru_man = pd.read_excel('BY_AGE_MALE.xlsx')\n",
    "data_age_ru_man = data_age_ru_man[data_age_ru_man['Unnamed: 2'] == \"Russian Federation\"].iloc[:, 7:]\n",
    "data_age_ru_man.set_axis(names, axis=1, inplace=True)\n",
    "\n",
    "\n",
    "def appends(data, newborn, shift, year):\n",
    "    new_arr = np.array([year, newborn])\n",
    "    # print(data)\n",
    "    for x in shift:\n",
    "        new_arr = np.append(new_arr, np.round(x,2))\n",
    "    data.loc[len(data)] = new_arr\n",
    "\n",
    "def model(men, women, year, fertility_rate, boys_girls_ratio, death_rate_men, death_rate_women):\n",
    "    shift_women = women[(women['year'] == year - 1)].iloc[0, 1:-1] * death_rate_women\n",
    "    newborn = fertility_rate * np.sum([shift_women['15-19'],shift_women['20-24'], shift_women['25-29'], shift_women['30-34'], shift_women['35-39'], shift_women['40-44'], shift_women['45-49']])\n",
    "    newborn_women = newborn / (1 + boys_girls_ratio )\n",
    "    newborn_men = newborn - newborn_women\n",
    "    shift_men = men[(men['year'] == year - 1)].iloc[0, 1:-1] * death_rate_men\n",
    "    appends(women, newborn_women, shift_women, year)\n",
    "    appends(men, newborn_men, shift_men, year)\n",
    "    return np.sum([np.sum(shift_women.values), np.sum(shift_men.values),newborn])"
   ],
   "metadata": {
    "collapsed": false,
    "pycharm": {
     "name": "#%%\n"
    }
   }
  },
  {
   "cell_type": "code",
   "execution_count": 7,
   "outputs": [],
   "source": [
    "def survival_rate(data, year, step=1):\n",
    "    return data[data['year'] == year].iloc[:, 2:].values / data[data['year'] == year - step].iloc[:, 1:-1].values\n",
    "\n",
    "def fertility(men, women, year):\n",
    "    return (men[men['year'] == year]['0-4'].values + women[women['year'] == year]['0-4'].values)/ np.sum([ women[women['year'] == year]['15-19'].values,women[women['year'] == year]['20-24'].values, women[women['year'] == year]['25-29'].values, women[women['year'] == year]['30-34'].values, women[women['year'] == year]['35-39'].values, women[women['year'] == year]['40-44'].values, women[women['year'] == year]['45-49'].values]) * 0.97#add +1\n",
    "def newborn_men_over_women(men, women, year):\n",
    "    return men[men['year'] == year]['0-4'].values / women[women['year'] == year]['0-4'].values\n",
    "\n",
    "f_s = []\n",
    "m_s = []\n",
    "f_f = []\n",
    "m_w = []\n",
    "\n",
    "for year in range(2005, 2020):\n",
    "    f_s.append(survival_rate(data_age_ru_fem, year, step=1)[0])\n",
    "    m_s.append(survival_rate(data_age_ru_man, year, step=1)[0])\n",
    "    f_f.append(fertility(data_age_ru_man, data_age_ru_fem, year)[0])\n",
    "    m_w.append(newborn_men_over_women(data_age_ru_man, data_age_ru_fem, year)[0])"
   ],
   "metadata": {
    "collapsed": false,
    "pycharm": {
     "name": "#%%\n"
    }
   }
  },
  {
   "cell_type": "code",
   "execution_count": 8,
   "outputs": [
    {
     "data": {
      "text/plain": "[[0.8769410012085682, 0.9659952391298557],\n [0.8846619320709765, 1.2585974295806186],\n [0.8941593129055081, 1.4213221144805832],\n [0.9851119199236449, 1.4034823361342472],\n [0.9205392525642112, 1.3949983866162088],\n [0.9293540258478263, 1.2190809653669104],\n [0.9145009981226929, 0.9589232270695796],\n [0.8923286212427193, 1.1866984496328756],\n [0.8871691373091382, 1.240618447736124],\n [0.9024428247240706, 1.2362885949321296],\n [0.8275369455717423, 1.1907346194586608],\n [0.6384247770941975, 0.9681305411179089],\n [0.6858486041941699, 1.5498963430727435],\n [0.659979341606536, 1.3808830609348153],\n [0.5966547483127596, 1.2537705721452763],\n [0.49729964422249384, 0.9965336713664774],\n [0.35321880135370987, 0.704427858126022],\n [0.2410446181334733, 0.5321889565980591],\n [0.14982355404031342, 0.3308296318477484],\n [0.06684136841727394, 0.15985082578582846]]"
     },
     "execution_count": 8,
     "metadata": {},
     "output_type": "execute_result"
    }
   ],
   "source": [
    "minmax_fem_vals = [[i,j] for i, j in zip(np.min(f_s, axis=0), np.max(f_s, axis=0))]\n",
    "minmax_fem_vals"
   ],
   "metadata": {
    "collapsed": false,
    "pycharm": {
     "name": "#%%\n"
    }
   }
  },
  {
   "cell_type": "code",
   "execution_count": 9,
   "outputs": [
    {
     "data": {
      "text/plain": "[[0.8763992042755157, 0.963445503748609],\n [0.8841038081565352, 1.2573807701358188],\n [0.8922040607372728, 1.406510193241615],\n [0.976942704730729, 1.3803743955743766],\n [0.8981608536145512, 1.3671129886817361],\n [0.899153621318469, 1.1930488439189066],\n [0.8893705700860671, 0.9435993934203674],\n [0.8595061785602399, 1.1498543181002696],\n [0.8483846399235209, 1.2024478998818349],\n [0.8485525561542601, 1.1835028295720924],\n [0.7684091069474569, 1.119026997031367],\n [0.5594076920587351, 0.8669770062787856],\n [0.585448591631479, 1.3768139067213978],\n [0.5540937112082409, 1.245761509561085],\n [0.4908371424677133, 1.10711673027411],\n [0.3013468129406066, 0.8941249447484055],\n [0.1890204612254126, 0.5599606345805279],\n [0.12338512288033622, 0.42277286984735446],\n [0.09131739184463261, 0.24973142208170904],\n [0.037830188679245286, 0.11529454152404972]]"
     },
     "execution_count": 9,
     "metadata": {},
     "output_type": "execute_result"
    }
   ],
   "source": [
    "minmax_men_vals = [[i,j] for i, j in zip(np.min(m_s, axis=0), np.max(m_s, axis=0))]\n",
    "minmax_men_vals"
   ],
   "metadata": {
    "collapsed": false,
    "pycharm": {
     "name": "#%%\n"
    }
   }
  },
  {
   "cell_type": "code",
   "execution_count": 10,
   "outputs": [
    {
     "data": {
      "text/plain": "[0.1699128558505247, 0.26842950388715886]"
     },
     "execution_count": 10,
     "metadata": {},
     "output_type": "execute_result"
    }
   ],
   "source": [
    "minmax_fert_vals = [np.min(f_f), np.max(f_f)]\n",
    "minmax_fert_vals"
   ],
   "metadata": {
    "collapsed": false,
    "pycharm": {
     "name": "#%%\n"
    }
   }
  },
  {
   "cell_type": "code",
   "execution_count": 11,
   "outputs": [
    {
     "data": {
      "text/plain": "[1.0497972845546397, 1.0577244169701865]"
     },
     "execution_count": 11,
     "metadata": {},
     "output_type": "execute_result"
    }
   ],
   "source": [
    "minmax_m_w_vals = [np.min(m_w), np.max(m_w)]\n",
    "minmax_m_w_vals"
   ],
   "metadata": {
    "collapsed": false,
    "pycharm": {
     "name": "#%%\n"
    }
   }
  },
  {
   "cell_type": "code",
   "execution_count": 12,
   "outputs": [],
   "source": [
    "#define the model inputs\n",
    "problem = {\n",
    "    'num_vars': 2 + len(minmax_men_vals) + len(minmax_fem_vals),\n",
    "    'names': ['fertility_rate', 'boys_girls_ratio', 'death_rate_men', 'death_rate_women'],\n",
    "    'bounds':[minmax_fert_vals,\n",
    "              minmax_m_w_vals,\n",
    "              *minmax_men_vals,\n",
    "              *minmax_fem_vals]\n",
    "}"
   ],
   "metadata": {
    "collapsed": false,
    "pycharm": {
     "name": "#%%\n"
    }
   }
  },
  {
   "cell_type": "code",
   "execution_count": 13,
   "outputs": [
    {
     "data": {
      "text/plain": "20"
     },
     "execution_count": 13,
     "metadata": {},
     "output_type": "execute_result"
    }
   ],
   "source": [
    "len(minmax_men_vals)"
   ],
   "metadata": {
    "collapsed": false,
    "pycharm": {
     "name": "#%%\n"
    }
   }
  },
  {
   "cell_type": "code",
   "execution_count": 14,
   "outputs": [],
   "source": [
    "# flat_vector = lambda min, max, size: [[min, max] for _ in range(0, size)]\n",
    "# aa = flat_vector(0, 1, len(names) - 2)\n",
    "# aa"
   ],
   "metadata": {
    "collapsed": false,
    "pycharm": {
     "name": "#%%\n"
    }
   }
  },
  {
   "cell_type": "code",
   "execution_count": 15,
   "outputs": [],
   "source": [
    "# len(aa)"
   ],
   "metadata": {
    "collapsed": false,
    "pycharm": {
     "name": "#%%\n"
    }
   }
  },
  {
   "cell_type": "code",
   "execution_count": 16,
   "outputs": [],
   "source": [
    "param_values = saltelli.sample(problem, 1024)"
   ],
   "metadata": {
    "collapsed": false,
    "pycharm": {
     "name": "#%%\n"
    }
   }
  },
  {
   "cell_type": "code",
   "execution_count": 17,
   "outputs": [
    {
     "data": {
      "text/plain": "(88064, 42)"
     },
     "execution_count": 17,
     "metadata": {},
     "output_type": "execute_result"
    }
   ],
   "source": [
    "np.shape(param_values)"
   ],
   "metadata": {
    "collapsed": false,
    "pycharm": {
     "name": "#%%\n"
    }
   }
  },
  {
   "cell_type": "code",
   "execution_count": 18,
   "outputs": [
    {
     "data": {
      "text/plain": "array([[0.17005717, 1.05278157, 0.91537452, ..., 0.2772955 , 0.22574358,\n        0.07451647],\n       [0.24865883, 1.05278157, 0.91537452, ..., 0.2772955 , 0.22574358,\n        0.07451647],\n       [0.17005717, 1.056869  , 0.91537452, ..., 0.2772955 , 0.22574358,\n        0.07451647],\n       ...,\n       [0.18275658, 1.0577128 , 0.88426227, ..., 0.44447604, 0.29309057,\n        0.07288153],\n       [0.18275658, 1.0577128 , 0.88426227, ..., 0.44447604, 0.20117342,\n        0.15272071],\n       [0.18275658, 1.0577128 , 0.88426227, ..., 0.44447604, 0.20117342,\n        0.07288153]])"
     },
     "execution_count": 18,
     "metadata": {},
     "output_type": "execute_result"
    }
   ],
   "source": [
    "param_values"
   ],
   "metadata": {
    "collapsed": false,
    "pycharm": {
     "name": "#%%\n"
    }
   }
  },
  {
   "cell_type": "code",
   "execution_count": 19,
   "outputs": [],
   "source": [
    "years = range(2021, 2030)"
   ],
   "metadata": {
    "collapsed": false,
    "pycharm": {
     "name": "#%%\n"
    }
   }
  },
  {
   "cell_type": "code",
   "execution_count": 20,
   "outputs": [
    {
     "name": "stderr",
     "output_type": "stream",
     "text": [
      " 41%|████      | 35720/88064 [19:23<28:24, 30.70it/s]\n"
     ]
    },
    {
     "ename": "KeyboardInterrupt",
     "evalue": "",
     "output_type": "error",
     "traceback": [
      "\u001B[1;31m---------------------------------------------------------------------------\u001B[0m",
      "\u001B[1;31mKeyboardInterrupt\u001B[0m                         Traceback (most recent call last)",
      "Input \u001B[1;32mIn [20]\u001B[0m, in \u001B[0;36m<cell line: 10>\u001B[1;34m()\u001B[0m\n\u001B[0;32m      4\u001B[0m result \u001B[38;5;241m=\u001B[39m []\n\u001B[0;32m      5\u001B[0m \u001B[38;5;66;03m# for year in tqdm(range(2021, 2051)):\u001B[39;00m\n\u001B[0;32m      6\u001B[0m \u001B[38;5;66;03m#     y = np.array([model(men, women, year, param[0], param[1], param[2:2 + len(names) - 2],param[2 + len(names) - 2:]) for param in param_values])\u001B[39;00m\n\u001B[0;32m      7\u001B[0m \u001B[38;5;66;03m#     result.append(y)\u001B[39;00m\n\u001B[0;32m      8\u001B[0m \u001B[38;5;66;03m# result = np.array(result)\u001B[39;00m\n\u001B[1;32m---> 10\u001B[0m \u001B[38;5;28;01mfor\u001B[39;00m param \u001B[38;5;129;01min\u001B[39;00m tqdm(param_values):\n\u001B[0;32m     11\u001B[0m     men \u001B[38;5;241m=\u001B[39m data_age_ru_man\u001B[38;5;241m.\u001B[39miloc[\u001B[38;5;241m-\u001B[39m\u001B[38;5;241m2\u001B[39m:, :]\u001B[38;5;241m.\u001B[39mreset_index(drop\u001B[38;5;241m=\u001B[39m\u001B[38;5;28;01mTrue\u001B[39;00m)\n\u001B[0;32m     12\u001B[0m     women \u001B[38;5;241m=\u001B[39m data_age_ru_fem\u001B[38;5;241m.\u001B[39miloc[\u001B[38;5;241m-\u001B[39m\u001B[38;5;241m2\u001B[39m:, :]\u001B[38;5;241m.\u001B[39mreset_index(drop\u001B[38;5;241m=\u001B[39m\u001B[38;5;28;01mTrue\u001B[39;00m)\n",
      "File \u001B[1;32m~\\AppData\\Roaming\\Python\\Python39\\site-packages\\tqdm\\std.py:1205\u001B[0m, in \u001B[0;36mtqdm.__iter__\u001B[1;34m(self)\u001B[0m\n\u001B[0;32m   1203\u001B[0m dt \u001B[38;5;241m=\u001B[39m cur_t \u001B[38;5;241m-\u001B[39m last_print_t\n\u001B[0;32m   1204\u001B[0m \u001B[38;5;28;01mif\u001B[39;00m dt \u001B[38;5;241m>\u001B[39m\u001B[38;5;241m=\u001B[39m mininterval \u001B[38;5;129;01mand\u001B[39;00m cur_t \u001B[38;5;241m>\u001B[39m\u001B[38;5;241m=\u001B[39m min_start_t:\n\u001B[1;32m-> 1205\u001B[0m     \u001B[38;5;28;43mself\u001B[39;49m\u001B[38;5;241;43m.\u001B[39;49m\u001B[43mupdate\u001B[49m\u001B[43m(\u001B[49m\u001B[43mn\u001B[49m\u001B[43m \u001B[49m\u001B[38;5;241;43m-\u001B[39;49m\u001B[43m \u001B[49m\u001B[43mlast_print_n\u001B[49m\u001B[43m)\u001B[49m\n\u001B[0;32m   1206\u001B[0m     last_print_n \u001B[38;5;241m=\u001B[39m \u001B[38;5;28mself\u001B[39m\u001B[38;5;241m.\u001B[39mlast_print_n\n\u001B[0;32m   1207\u001B[0m     last_print_t \u001B[38;5;241m=\u001B[39m \u001B[38;5;28mself\u001B[39m\u001B[38;5;241m.\u001B[39mlast_print_t\n",
      "File \u001B[1;32m~\\AppData\\Roaming\\Python\\Python39\\site-packages\\tqdm\\std.py:1256\u001B[0m, in \u001B[0;36mtqdm.update\u001B[1;34m(self, n)\u001B[0m\n\u001B[0;32m   1254\u001B[0m     \u001B[38;5;28mself\u001B[39m\u001B[38;5;241m.\u001B[39m_ema_dn(dn)\n\u001B[0;32m   1255\u001B[0m     \u001B[38;5;28mself\u001B[39m\u001B[38;5;241m.\u001B[39m_ema_dt(dt)\n\u001B[1;32m-> 1256\u001B[0m \u001B[38;5;28;43mself\u001B[39;49m\u001B[38;5;241;43m.\u001B[39;49m\u001B[43mrefresh\u001B[49m\u001B[43m(\u001B[49m\u001B[43mlock_args\u001B[49m\u001B[38;5;241;43m=\u001B[39;49m\u001B[38;5;28;43mself\u001B[39;49m\u001B[38;5;241;43m.\u001B[39;49m\u001B[43mlock_args\u001B[49m\u001B[43m)\u001B[49m\n\u001B[0;32m   1257\u001B[0m \u001B[38;5;28;01mif\u001B[39;00m \u001B[38;5;28mself\u001B[39m\u001B[38;5;241m.\u001B[39mdynamic_miniters:\n\u001B[0;32m   1258\u001B[0m     \u001B[38;5;66;03m# If no `miniters` was specified, adjust automatically to the\u001B[39;00m\n\u001B[0;32m   1259\u001B[0m     \u001B[38;5;66;03m# maximum iteration rate seen so far between two prints.\u001B[39;00m\n\u001B[0;32m   1260\u001B[0m     \u001B[38;5;66;03m# e.g.: After running `tqdm.update(5)`, subsequent\u001B[39;00m\n\u001B[0;32m   1261\u001B[0m     \u001B[38;5;66;03m# calls to `tqdm.update()` will only cause an update after\u001B[39;00m\n\u001B[0;32m   1262\u001B[0m     \u001B[38;5;66;03m# at least 5 more iterations.\u001B[39;00m\n\u001B[0;32m   1263\u001B[0m     \u001B[38;5;28;01mif\u001B[39;00m \u001B[38;5;28mself\u001B[39m\u001B[38;5;241m.\u001B[39mmaxinterval \u001B[38;5;129;01mand\u001B[39;00m dt \u001B[38;5;241m>\u001B[39m\u001B[38;5;241m=\u001B[39m \u001B[38;5;28mself\u001B[39m\u001B[38;5;241m.\u001B[39mmaxinterval:\n",
      "File \u001B[1;32m~\\AppData\\Roaming\\Python\\Python39\\site-packages\\tqdm\\std.py:1361\u001B[0m, in \u001B[0;36mtqdm.refresh\u001B[1;34m(self, nolock, lock_args)\u001B[0m\n\u001B[0;32m   1359\u001B[0m     \u001B[38;5;28;01melse\u001B[39;00m:\n\u001B[0;32m   1360\u001B[0m         \u001B[38;5;28mself\u001B[39m\u001B[38;5;241m.\u001B[39m_lock\u001B[38;5;241m.\u001B[39macquire()\n\u001B[1;32m-> 1361\u001B[0m \u001B[38;5;28;43mself\u001B[39;49m\u001B[38;5;241;43m.\u001B[39;49m\u001B[43mdisplay\u001B[49m\u001B[43m(\u001B[49m\u001B[43m)\u001B[49m\n\u001B[0;32m   1362\u001B[0m \u001B[38;5;28;01mif\u001B[39;00m \u001B[38;5;129;01mnot\u001B[39;00m nolock:\n\u001B[0;32m   1363\u001B[0m     \u001B[38;5;28mself\u001B[39m\u001B[38;5;241m.\u001B[39m_lock\u001B[38;5;241m.\u001B[39mrelease()\n",
      "File \u001B[1;32m~\\AppData\\Roaming\\Python\\Python39\\site-packages\\tqdm\\std.py:1509\u001B[0m, in \u001B[0;36mtqdm.display\u001B[1;34m(self, msg, pos)\u001B[0m\n\u001B[0;32m   1507\u001B[0m \u001B[38;5;28;01mif\u001B[39;00m pos:\n\u001B[0;32m   1508\u001B[0m     \u001B[38;5;28mself\u001B[39m\u001B[38;5;241m.\u001B[39mmoveto(pos)\n\u001B[1;32m-> 1509\u001B[0m \u001B[38;5;28;43mself\u001B[39;49m\u001B[38;5;241;43m.\u001B[39;49m\u001B[43msp\u001B[49m\u001B[43m(\u001B[49m\u001B[38;5;28;43mself\u001B[39;49m\u001B[38;5;241;43m.\u001B[39;49m\u001B[38;5;21;43m__str__\u001B[39;49m\u001B[43m(\u001B[49m\u001B[43m)\u001B[49m\u001B[43m \u001B[49m\u001B[38;5;28;43;01mif\u001B[39;49;00m\u001B[43m \u001B[49m\u001B[43mmsg\u001B[49m\u001B[43m \u001B[49m\u001B[38;5;129;43;01mis\u001B[39;49;00m\u001B[43m \u001B[49m\u001B[38;5;28;43;01mNone\u001B[39;49;00m\u001B[43m \u001B[49m\u001B[38;5;28;43;01melse\u001B[39;49;00m\u001B[43m \u001B[49m\u001B[43mmsg\u001B[49m\u001B[43m)\u001B[49m\n\u001B[0;32m   1510\u001B[0m \u001B[38;5;28;01mif\u001B[39;00m pos:\n\u001B[0;32m   1511\u001B[0m     \u001B[38;5;28mself\u001B[39m\u001B[38;5;241m.\u001B[39mmoveto(\u001B[38;5;241m-\u001B[39mpos)\n",
      "File \u001B[1;32m~\\AppData\\Roaming\\Python\\Python39\\site-packages\\tqdm\\std.py:350\u001B[0m, in \u001B[0;36mtqdm.status_printer.<locals>.print_status\u001B[1;34m(s)\u001B[0m\n\u001B[0;32m    348\u001B[0m \u001B[38;5;28;01mdef\u001B[39;00m \u001B[38;5;21mprint_status\u001B[39m(s):\n\u001B[0;32m    349\u001B[0m     len_s \u001B[38;5;241m=\u001B[39m disp_len(s)\n\u001B[1;32m--> 350\u001B[0m     \u001B[43mfp_write\u001B[49m\u001B[43m(\u001B[49m\u001B[38;5;124;43m'\u001B[39;49m\u001B[38;5;130;43;01m\\r\u001B[39;49;00m\u001B[38;5;124;43m'\u001B[39;49m\u001B[43m \u001B[49m\u001B[38;5;241;43m+\u001B[39;49m\u001B[43m \u001B[49m\u001B[43ms\u001B[49m\u001B[43m \u001B[49m\u001B[38;5;241;43m+\u001B[39;49m\u001B[43m \u001B[49m\u001B[43m(\u001B[49m\u001B[38;5;124;43m'\u001B[39;49m\u001B[38;5;124;43m \u001B[39;49m\u001B[38;5;124;43m'\u001B[39;49m\u001B[43m \u001B[49m\u001B[38;5;241;43m*\u001B[39;49m\u001B[43m \u001B[49m\u001B[38;5;28;43mmax\u001B[39;49m\u001B[43m(\u001B[49m\u001B[43mlast_len\u001B[49m\u001B[43m[\u001B[49m\u001B[38;5;241;43m0\u001B[39;49m\u001B[43m]\u001B[49m\u001B[43m \u001B[49m\u001B[38;5;241;43m-\u001B[39;49m\u001B[43m \u001B[49m\u001B[43mlen_s\u001B[49m\u001B[43m,\u001B[49m\u001B[43m \u001B[49m\u001B[38;5;241;43m0\u001B[39;49m\u001B[43m)\u001B[49m\u001B[43m)\u001B[49m\u001B[43m)\u001B[49m\n\u001B[0;32m    351\u001B[0m     last_len[\u001B[38;5;241m0\u001B[39m] \u001B[38;5;241m=\u001B[39m len_s\n",
      "File \u001B[1;32m~\\AppData\\Roaming\\Python\\Python39\\site-packages\\tqdm\\std.py:343\u001B[0m, in \u001B[0;36mtqdm.status_printer.<locals>.fp_write\u001B[1;34m(s)\u001B[0m\n\u001B[0;32m    342\u001B[0m \u001B[38;5;28;01mdef\u001B[39;00m \u001B[38;5;21mfp_write\u001B[39m(s):\n\u001B[1;32m--> 343\u001B[0m     \u001B[43mfp\u001B[49m\u001B[38;5;241;43m.\u001B[39;49m\u001B[43mwrite\u001B[49m\u001B[43m(\u001B[49m\u001B[43m_unicode\u001B[49m\u001B[43m(\u001B[49m\u001B[43ms\u001B[49m\u001B[43m)\u001B[49m\u001B[43m)\u001B[49m\n\u001B[0;32m    344\u001B[0m     fp_flush()\n",
      "File \u001B[1;32m~\\AppData\\Roaming\\Python\\Python39\\site-packages\\tqdm\\utils.py:145\u001B[0m, in \u001B[0;36mDisableOnWriteError.disable_on_exception.<locals>.inner\u001B[1;34m(*args, **kwargs)\u001B[0m\n\u001B[0;32m    143\u001B[0m \u001B[38;5;28;01mdef\u001B[39;00m \u001B[38;5;21minner\u001B[39m(\u001B[38;5;241m*\u001B[39margs, \u001B[38;5;241m*\u001B[39m\u001B[38;5;241m*\u001B[39mkwargs):\n\u001B[0;32m    144\u001B[0m     \u001B[38;5;28;01mtry\u001B[39;00m:\n\u001B[1;32m--> 145\u001B[0m         \u001B[38;5;28;01mreturn\u001B[39;00m func(\u001B[38;5;241m*\u001B[39margs, \u001B[38;5;241m*\u001B[39m\u001B[38;5;241m*\u001B[39mkwargs)\n\u001B[0;32m    146\u001B[0m     \u001B[38;5;28;01mexcept\u001B[39;00m \u001B[38;5;167;01mOSError\u001B[39;00m \u001B[38;5;28;01mas\u001B[39;00m e:\n\u001B[0;32m    147\u001B[0m         \u001B[38;5;28;01mif\u001B[39;00m e\u001B[38;5;241m.\u001B[39merrno \u001B[38;5;241m!=\u001B[39m \u001B[38;5;241m5\u001B[39m:\n",
      "File \u001B[1;32m~\\anaconda3\\envs\\CSBI_ML\\lib\\site-packages\\ipykernel\\iostream.py:531\u001B[0m, in \u001B[0;36mOutStream.write\u001B[1;34m(self, string)\u001B[0m\n\u001B[0;32m    529\u001B[0m is_child \u001B[38;5;241m=\u001B[39m (\u001B[38;5;129;01mnot\u001B[39;00m \u001B[38;5;28mself\u001B[39m\u001B[38;5;241m.\u001B[39m_is_master_process())\n\u001B[0;32m    530\u001B[0m \u001B[38;5;66;03m# only touch the buffer in the IO thread to avoid races\u001B[39;00m\n\u001B[1;32m--> 531\u001B[0m \u001B[38;5;28;43mself\u001B[39;49m\u001B[38;5;241;43m.\u001B[39;49m\u001B[43mpub_thread\u001B[49m\u001B[38;5;241;43m.\u001B[39;49m\u001B[43mschedule\u001B[49m\u001B[43m(\u001B[49m\u001B[38;5;28;43;01mlambda\u001B[39;49;00m\u001B[43m:\u001B[49m\u001B[43m \u001B[49m\u001B[38;5;28;43mself\u001B[39;49m\u001B[38;5;241;43m.\u001B[39;49m\u001B[43m_buffer\u001B[49m\u001B[38;5;241;43m.\u001B[39;49m\u001B[43mwrite\u001B[49m\u001B[43m(\u001B[49m\u001B[43mstring\u001B[49m\u001B[43m)\u001B[49m\u001B[43m)\u001B[49m\n\u001B[0;32m    532\u001B[0m \u001B[38;5;28;01mif\u001B[39;00m is_child:\n\u001B[0;32m    533\u001B[0m     \u001B[38;5;66;03m# mp.Pool cannot be trusted to flush promptly (or ever),\u001B[39;00m\n\u001B[0;32m    534\u001B[0m     \u001B[38;5;66;03m# and this helps.\u001B[39;00m\n\u001B[0;32m    535\u001B[0m     \u001B[38;5;28;01mif\u001B[39;00m \u001B[38;5;28mself\u001B[39m\u001B[38;5;241m.\u001B[39m_subprocess_flush_pending:\n",
      "File \u001B[1;32m~\\anaconda3\\envs\\CSBI_ML\\lib\\site-packages\\ipykernel\\iostream.py:216\u001B[0m, in \u001B[0;36mIOPubThread.schedule\u001B[1;34m(self, f)\u001B[0m\n\u001B[0;32m    214\u001B[0m     \u001B[38;5;28mself\u001B[39m\u001B[38;5;241m.\u001B[39m_events\u001B[38;5;241m.\u001B[39mappend(f)\n\u001B[0;32m    215\u001B[0m     \u001B[38;5;66;03m# wake event thread (message content is ignored)\u001B[39;00m\n\u001B[1;32m--> 216\u001B[0m     \u001B[38;5;28;43mself\u001B[39;49m\u001B[38;5;241;43m.\u001B[39;49m\u001B[43m_event_pipe\u001B[49m\u001B[38;5;241;43m.\u001B[39;49m\u001B[43msend\u001B[49m\u001B[43m(\u001B[49m\u001B[38;5;124;43mb\u001B[39;49m\u001B[38;5;124;43m'\u001B[39;49m\u001B[38;5;124;43m'\u001B[39;49m\u001B[43m)\u001B[49m\n\u001B[0;32m    217\u001B[0m \u001B[38;5;28;01melse\u001B[39;00m:\n\u001B[0;32m    218\u001B[0m     f()\n",
      "File \u001B[1;32m~\\anaconda3\\envs\\CSBI_ML\\lib\\site-packages\\zmq\\sugar\\socket.py:547\u001B[0m, in \u001B[0;36mSocket.send\u001B[1;34m(self, data, flags, copy, track, routing_id, group)\u001B[0m\n\u001B[0;32m    540\u001B[0m         data \u001B[38;5;241m=\u001B[39m zmq\u001B[38;5;241m.\u001B[39mFrame(\n\u001B[0;32m    541\u001B[0m             data,\n\u001B[0;32m    542\u001B[0m             track\u001B[38;5;241m=\u001B[39mtrack,\n\u001B[0;32m    543\u001B[0m             copy\u001B[38;5;241m=\u001B[39mcopy \u001B[38;5;129;01mor\u001B[39;00m \u001B[38;5;28;01mNone\u001B[39;00m,\n\u001B[0;32m    544\u001B[0m             copy_threshold\u001B[38;5;241m=\u001B[39m\u001B[38;5;28mself\u001B[39m\u001B[38;5;241m.\u001B[39mcopy_threshold,\n\u001B[0;32m    545\u001B[0m         )\n\u001B[0;32m    546\u001B[0m     data\u001B[38;5;241m.\u001B[39mgroup \u001B[38;5;241m=\u001B[39m group\n\u001B[1;32m--> 547\u001B[0m \u001B[38;5;28;01mreturn\u001B[39;00m \u001B[38;5;28;43msuper\u001B[39;49m\u001B[43m(\u001B[49m\u001B[43mSocket\u001B[49m\u001B[43m,\u001B[49m\u001B[43m \u001B[49m\u001B[38;5;28;43mself\u001B[39;49m\u001B[43m)\u001B[49m\u001B[38;5;241;43m.\u001B[39;49m\u001B[43msend\u001B[49m\u001B[43m(\u001B[49m\u001B[43mdata\u001B[49m\u001B[43m,\u001B[49m\u001B[43m \u001B[49m\u001B[43mflags\u001B[49m\u001B[38;5;241;43m=\u001B[39;49m\u001B[43mflags\u001B[49m\u001B[43m,\u001B[49m\u001B[43m \u001B[49m\u001B[43mcopy\u001B[49m\u001B[38;5;241;43m=\u001B[39;49m\u001B[43mcopy\u001B[49m\u001B[43m,\u001B[49m\u001B[43m \u001B[49m\u001B[43mtrack\u001B[49m\u001B[38;5;241;43m=\u001B[39;49m\u001B[43mtrack\u001B[49m\u001B[43m)\u001B[49m\n",
      "File \u001B[1;32mzmq\\backend\\cython\\socket.pyx:718\u001B[0m, in \u001B[0;36mzmq.backend.cython.socket.Socket.send\u001B[1;34m()\u001B[0m\n",
      "File \u001B[1;32mzmq\\backend\\cython\\socket.pyx:765\u001B[0m, in \u001B[0;36mzmq.backend.cython.socket.Socket.send\u001B[1;34m()\u001B[0m\n",
      "File \u001B[1;32mzmq\\backend\\cython\\socket.pyx:242\u001B[0m, in \u001B[0;36mzmq.backend.cython.socket._send_copy\u001B[1;34m()\u001B[0m\n",
      "File \u001B[1;32m~\\anaconda3\\envs\\CSBI_ML\\lib\\site-packages\\zmq\\backend\\cython\\checkrc.pxd:13\u001B[0m, in \u001B[0;36mzmq.backend.cython.checkrc._check_rc\u001B[1;34m()\u001B[0m\n",
      "\u001B[1;31mKeyboardInterrupt\u001B[0m: "
     ]
    }
   ],
   "source": [
    "men = data_age_ru_man.iloc[-2:, :].reset_index(drop=True)\n",
    "women = data_age_ru_fem.iloc[-2:, :].reset_index(drop=True)\n",
    "total = data_age_ru.iloc[-2:, :].reset_index(drop=True)\n",
    "result = []\n",
    "# for year in tqdm(range(2021, 2051)):\n",
    "#     y = np.array([model(men, women, year, param[0], param[1], param[2:2 + len(names) - 2],param[2 + len(names) - 2:]) for param in param_values])\n",
    "#     result.append(y)\n",
    "# result = np.array(result)\n",
    "\n",
    "for param in tqdm(param_values):\n",
    "    men = data_age_ru_man.iloc[-2:, :].reset_index(drop=True)\n",
    "    women = data_age_ru_fem.iloc[-2:, :].reset_index(drop=True)\n",
    "    total = data_age_ru.iloc[-2:, :].reset_index(drop=True)\n",
    "    y = np.array([model(men, women, year, param[0], param[1], param[2:2 + len(names) - 2],param[2 + len(names) - 2:]) for year in range(2021, 2030)])\n",
    "    result.append(y)\n",
    "result = np.array(result)"
   ],
   "metadata": {
    "collapsed": false,
    "pycharm": {
     "name": "#%%\n"
    }
   }
  },
  {
   "cell_type": "code",
   "execution_count": null,
   "outputs": [],
   "source": [
    "men"
   ],
   "metadata": {
    "collapsed": false,
    "pycharm": {
     "name": "#%%\n"
    }
   }
  },
  {
   "cell_type": "code",
   "execution_count": null,
   "outputs": [],
   "source": [
    "np.shape(result)"
   ],
   "metadata": {
    "collapsed": false,
    "pycharm": {
     "name": "#%%\n"
    }
   }
  },
  {
   "cell_type": "code",
   "execution_count": null,
   "outputs": [],
   "source": [
    "sobol_indices = [sobol.analyze(problem, Y) for Y in result.T]"
   ],
   "metadata": {
    "collapsed": false,
    "pycharm": {
     "name": "#%%\n"
    }
   }
  },
  {
   "cell_type": "code",
   "execution_count": null,
   "outputs": [],
   "source": [
    "sobol_indices"
   ],
   "metadata": {
    "collapsed": false,
    "pycharm": {
     "name": "#%%\n"
    }
   }
  },
  {
   "cell_type": "code",
   "execution_count": null,
   "outputs": [],
   "source": [
    "S1s = np.array([s['S1'] for s in sobol_indices])\n",
    "S1s"
   ],
   "metadata": {
    "collapsed": false,
    "pycharm": {
     "name": "#%%\n"
    }
   }
  },
  {
   "cell_type": "code",
   "execution_count": null,
   "outputs": [],
   "source": [
    "np.shape(S1s)"
   ],
   "metadata": {
    "collapsed": false,
    "pycharm": {
     "name": "#%%\n"
    }
   }
  },
  {
   "cell_type": "code",
   "execution_count": null,
   "outputs": [],
   "source": [
    "fig = plt.figure(figsize=(15, 10))\n",
    "# gs = fig.add_gridspec(2, 2)\n",
    "gs = fig.add_gridspec(1, 1)\n",
    "\n",
    "ax0 = fig.add_subplot(gs[:, 0])\n",
    "ax0.plot(years, np.mean(result, axis=0), label=\"Mean\", color='green')\n",
    "\n",
    "# in percent\n",
    "prediction_interval = 95\n",
    "\n",
    "ax0.fill_between(years,\n",
    "                 np.percentile(result, 50 - prediction_interval/2., axis=0),\n",
    "                 np.percentile(result, 50 + prediction_interval/2., axis=0),\n",
    "                 alpha=0.5, color='red',\n",
    "                 label=f\"{prediction_interval} % prediction interval\")\n",
    "\n",
    "ax0.set_xlabel(\"years\")\n",
    "ax0.set_ylabel(\"population\")\n",
    "ax0.legend(title=r\"population modeling\",\n",
    "           loc='upper center')._legend_box.align = \"left\"\n",
    "# plt.savefig('sensitivity.png', bbox_inches='tight')\n",
    "plt.show()"
   ],
   "metadata": {
    "collapsed": false,
    "pycharm": {
     "name": "#%%\n"
    }
   }
  },
  {
   "cell_type": "code",
   "execution_count": null,
   "outputs": [],
   "source": [],
   "metadata": {
    "collapsed": false,
    "pycharm": {
     "name": "#%%\n"
    }
   }
  },
  {
   "cell_type": "code",
   "execution_count": 61,
   "outputs": [
    {
     "data": {
      "text/plain": "array([144824.38558637, 146501.75894628, 147983.70009442, 147847.26326769,\n       147191.82846709, 145760.99419675, 144835.25301963, 143820.03827971,\n       142180.05498637, 139054.34405035, 135807.9599211 , 133664.7250553 ,\n       132434.72121319, 130043.06146835, 126386.97317957, 121835.14938071,\n       118208.88681944, 115422.66003325, 112828.75759195, 110139.59928339,\n       107539.28567216, 104984.8823192 , 102432.56619335,  99784.92196098,\n        97100.30819815,  94531.82034783,  92211.68524103,  90013.40909527,\n        87829.05123297])"
     },
     "execution_count": 61,
     "metadata": {},
     "output_type": "execute_result"
    }
   ],
   "source": [
    "np.min(result, axis=0)"
   ],
   "metadata": {
    "collapsed": false,
    "pycharm": {
     "name": "#%%\n"
    }
   }
  },
  {
   "cell_type": "code",
   "execution_count": 62,
   "outputs": [
    {
     "data": {
      "text/plain": "array([157304.17208003, 161631.44110787, 163169.06145817, 162898.78747594,\n       159630.7566386 , 158242.21844574, 159154.06622115, 158734.71690139,\n       155526.55182953, 152875.29696405, 147987.29135829, 146566.11316563,\n       146276.65931274, 143775.19676934, 138492.51082826, 133488.14593122,\n       129133.73788572, 126155.46323494, 123306.58196648, 120406.62442132,\n       117679.58200203, 115082.41157692, 112312.35599737, 109230.03261383,\n       106103.90942569, 103308.22493237, 100861.76565587,  98490.75181923,\n        96103.53650454])"
     },
     "execution_count": 62,
     "metadata": {},
     "output_type": "execute_result"
    }
   ],
   "source": [
    "np.max(result, axis=0)"
   ],
   "metadata": {
    "collapsed": false,
    "pycharm": {
     "name": "#%%\n"
    }
   }
  },
  {
   "cell_type": "code",
   "execution_count": 81,
   "outputs": [],
   "source": [
    "men = data_age_ru_man.iloc[-7:, :].reset_index(drop=True)\n",
    "women = data_age_ru_fem.iloc[-7:, :].reset_index(drop=True)\n",
    "total = data_age_ru.iloc[-7:, :].reset_index(drop=True)\n",
    "def shift(data, year):\n",
    "    return data[(data['year'] == year - 1)].iloc[0, 1:-1] * survival_rate(data, year - 1)[0]\n",
    "\n",
    "def appends(data, newborn, shift, year):\n",
    "    new_arr = np.array([year, newborn[0]])\n",
    "    # print(data)\n",
    "    for x in shift:\n",
    "        new_arr = np.append(new_arr, np.round(x,2))\n",
    "    data.loc[len(data)] = new_arr\n",
    "\n",
    "def population_modeling(men, women, year):\n",
    "    shift_women = shift(women, year)\n",
    "    newborn = fertility(men, women, year - 1) * np.sum([shift_women['15-19'],shift_women['20-24'], shift_women['25-29'], shift_women['30-34'], shift_women['35-39'], shift_women['40-44'], shift_women['45-49']]) #add + 1\n",
    "    newborn_women = newborn / (1 + newborn_men_over_women(men, women, year - 1) )\n",
    "    newborn_men = newborn - newborn_women\n",
    "    shift_men = shift(men, year)\n",
    "    appends(women, newborn_women, shift_women, year)\n",
    "    appends(men, newborn_men, shift_men, year)\n",
    "\n",
    "for year in range(2021, 2100):\n",
    "    population_modeling(men, women, year)\n",
    "total = women.iloc[:, 1:] + men.iloc[:, 1:]\n",
    "total.insert(0, \"year\", women['year'])\n",
    "total\n",
    "ideal_df = pd.read_excel('BY_AGE_BOTH_SEXES.xlsx', sheet_name='MEDIUM VARIANT')\n",
    "ideal_df = ideal_df[(ideal_df['Unnamed: 2'] == \"Russian Federation\")].iloc[:, 7:]\n",
    "ideal_df.set_axis(names, axis=1, inplace=True)\n",
    "ideal_sum = []\n",
    "total_sum = []\n",
    "for year in range(2021, 2051):\n",
    "    ideal_sum.append(ideal_df[ideal_df['year'] == year].iloc[:, 1:].sum(axis=1))\n",
    "    total_sum.append(total[total['year'] == year].iloc[:, 1:].sum(axis=1))"
   ],
   "metadata": {
    "collapsed": false,
    "pycharm": {
     "name": "#%%\n"
    }
   }
  },
  {
   "cell_type": "code",
   "execution_count": 83,
   "outputs": [
    {
     "data": {
      "text/plain": "<Figure size 1080x720 with 1 Axes>",
      "image/png": "[encoded data removed]"
     },
     "metadata": {
      "needs_background": "light"
     },
     "output_type": "display_data"
    }
   ],
   "source": [
    "fig = plt.figure(figsize=(15, 10))\n",
    "# gs = fig.add_gridspec(2, 2)\n",
    "gs = fig.add_gridspec(1, 1)\n",
    "\n",
    "ax0 = fig.add_subplot(gs[:, 0])\n",
    "ax0.plot(years, np.mean(result, axis=0), label=\"Mean\", color='green')\n",
    "plt.plot(range(2021, 2051), ideal_sum, 'o', label=\"Ideal data\")\n",
    "# in percent\n",
    "prediction_interval = 95\n",
    "\n",
    "ax0.fill_between(years,\n",
    "                 np.percentile(result, 50 - prediction_interval/2., axis=0),\n",
    "                 np.percentile(result, 50 + prediction_interval/2., axis=0),\n",
    "                 alpha=0.5, color='red',\n",
    "                 label=f\"{prediction_interval} % prediction interval\")\n",
    "\n",
    "ax0.set_xlabel(\"years\")\n",
    "ax0.set_ylabel(\"population\")\n",
    "ax0.legend(title=r\"population modeling\",\n",
    "           loc='upper center')._legend_box.align = \"left\"\n",
    "plt.savefig('sensitivity_with_ideal.png', bbox_inches='tight')\n",
    "plt.show()"
   ],
   "metadata": {
    "collapsed": false,
    "pycharm": {
     "name": "#%%\n"
    }
   }
  },
  {
   "cell_type": "code",
   "execution_count": 87,
   "outputs": [],
   "source": [
    "si = []\n",
    "si_summed = []\n",
    "for s in sobol_indices:\n",
    "    si_summed.append(np.array([s['S1'][0], s['S1'][1], s['S1'][2:].sum()]))\n",
    "    si.append(s['S1'])"
   ],
   "metadata": {
    "collapsed": false,
    "pycharm": {
     "name": "#%%\n"
    }
   }
  },
  {
   "cell_type": "code",
   "execution_count": 91,
   "outputs": [
    {
     "data": {
      "text/plain": "          FR           B/G        SR\n0   0.112758  0.000000e+00  1.118326\n1   0.114246 -2.720894e-06  1.137611\n2   0.126616 -5.661414e-06  1.098023\n3   0.146470  4.955477e-06  1.047017\n4   0.177013  1.220972e-05  0.985537\n5   0.212017  1.233274e-05  0.938283\n6   0.240379  2.164553e-06  0.898355\n7   0.253917 -8.661152e-07  0.859553\n8   0.261999  7.147139e-06  0.815506\n9   0.269840  8.507173e-06  0.780651\n10  0.278410  1.955279e-07  0.751320\n11  0.279871 -1.607259e-05  0.728728\n12  0.274951 -2.754878e-05  0.707092\n13  0.273263 -3.647601e-05  0.681707\n14  0.274225 -4.817557e-05  0.655908\n15  0.275200 -6.178760e-05  0.633661\n16  0.272321 -7.422108e-05  0.616159\n17  0.266124 -8.275655e-05  0.600656\n18  0.259067 -9.091651e-05  0.585784\n19  0.252680 -9.905926e-05  0.571113\n20  0.246857 -1.075480e-04  0.556575\n21  0.240870 -1.144768e-04  0.542084\n22  0.234667 -1.190178e-04  0.527517\n23  0.228624 -1.227861e-04  0.512916\n24  0.222666 -1.264163e-04  0.498604\n25  0.216584 -1.297604e-04  0.484763\n26  0.210249 -1.323119e-04  0.471309\n27  0.203854 -1.342346e-04  0.458073\n28  0.197626 -1.361576e-04  0.445017",
      "text/html": "<div>\n<style scoped>\n    .dataframe tbody tr th:only-of-type {\n        vertical-align: middle;\n    }\n\n    .dataframe tbody tr th {\n        vertical-align: top;\n    }\n\n    .dataframe thead th {\n        text-align: right;\n    }\n</style>\n<table border=\"1\" class=\"dataframe\">\n  <thead>\n    <tr style=\"text-align: right;\">\n      <th></th>\n      <th>FR</th>\n      <th>B/G</th>\n      <th>SR</th>\n    </tr>\n  </thead>\n  <tbody>\n    <tr>\n      <th>0</th>\n      <td>0.112758</td>\n      <td>0.000000e+00</td>\n      <td>1.118326</td>\n    </tr>\n    <tr>\n      <th>1</th>\n      <td>0.114246</td>\n      <td>-2.720894e-06</td>\n      <td>1.137611</td>\n    </tr>\n    <tr>\n      <th>2</th>\n      <td>0.126616</td>\n      <td>-5.661414e-06</td>\n      <td>1.098023</td>\n    </tr>\n    <tr>\n      <th>3</th>\n      <td>0.146470</td>\n      <td>4.955477e-06</td>\n      <td>1.047017</td>\n    </tr>\n    <tr>\n      <th>4</th>\n      <td>0.177013</td>\n      <td>1.220972e-05</td>\n      <td>0.985537</td>\n    </tr>\n    <tr>\n      <th>5</th>\n      <td>0.212017</td>\n      <td>1.233274e-05</td>\n      <td>0.938283</td>\n    </tr>\n    <tr>\n      <th>6</th>\n      <td>0.240379</td>\n      <td>2.164553e-06</td>\n      <td>0.898355</td>\n    </tr>\n    <tr>\n      <th>7</th>\n      <td>0.253917</td>\n      <td>-8.661152e-07</td>\n      <td>0.859553</td>\n    </tr>\n    <tr>\n      <th>8</th>\n      <td>0.261999</td>\n      <td>7.147139e-06</td>\n      <td>0.815506</td>\n    </tr>\n    <tr>\n      <th>9</th>\n      <td>0.269840</td>\n      <td>8.507173e-06</td>\n      <td>0.780651</td>\n    </tr>\n    <tr>\n      <th>10</th>\n      <td>0.278410</td>\n      <td>1.955279e-07</td>\n      <td>0.751320</td>\n    </tr>\n    <tr>\n      <th>11</th>\n      <td>0.279871</td>\n      <td>-1.607259e-05</td>\n      <td>0.728728</td>\n    </tr>\n    <tr>\n      <th>12</th>\n      <td>0.274951</td>\n      <td>-2.754878e-05</td>\n      <td>0.707092</td>\n    </tr>\n    <tr>\n      <th>13</th>\n      <td>0.273263</td>\n      <td>-3.647601e-05</td>\n      <td>0.681707</td>\n    </tr>\n    <tr>\n      <th>14</th>\n      <td>0.274225</td>\n      <td>-4.817557e-05</td>\n      <td>0.655908</td>\n    </tr>\n    <tr>\n      <th>15</th>\n      <td>0.275200</td>\n      <td>-6.178760e-05</td>\n      <td>0.633661</td>\n    </tr>\n    <tr>\n      <th>16</th>\n      <td>0.272321</td>\n      <td>-7.422108e-05</td>\n      <td>0.616159</td>\n    </tr>\n    <tr>\n      <th>17</th>\n      <td>0.266124</td>\n      <td>-8.275655e-05</td>\n      <td>0.600656</td>\n    </tr>\n    <tr>\n      <th>18</th>\n      <td>0.259067</td>\n      <td>-9.091651e-05</td>\n      <td>0.585784</td>\n    </tr>\n    <tr>\n      <th>19</th>\n      <td>0.252680</td>\n      <td>-9.905926e-05</td>\n      <td>0.571113</td>\n    </tr>\n    <tr>\n      <th>20</th>\n      <td>0.246857</td>\n      <td>-1.075480e-04</td>\n      <td>0.556575</td>\n    </tr>\n    <tr>\n      <th>21</th>\n      <td>0.240870</td>\n      <td>-1.144768e-04</td>\n      <td>0.542084</td>\n    </tr>\n    <tr>\n      <th>22</th>\n      <td>0.234667</td>\n      <td>-1.190178e-04</td>\n      <td>0.527517</td>\n    </tr>\n    <tr>\n      <th>23</th>\n      <td>0.228624</td>\n      <td>-1.227861e-04</td>\n      <td>0.512916</td>\n    </tr>\n    <tr>\n      <th>24</th>\n      <td>0.222666</td>\n      <td>-1.264163e-04</td>\n      <td>0.498604</td>\n    </tr>\n    <tr>\n      <th>25</th>\n      <td>0.216584</td>\n      <td>-1.297604e-04</td>\n      <td>0.484763</td>\n    </tr>\n    <tr>\n      <th>26</th>\n      <td>0.210249</td>\n      <td>-1.323119e-04</td>\n      <td>0.471309</td>\n    </tr>\n    <tr>\n      <th>27</th>\n      <td>0.203854</td>\n      <td>-1.342346e-04</td>\n      <td>0.458073</td>\n    </tr>\n    <tr>\n      <th>28</th>\n      <td>0.197626</td>\n      <td>-1.361576e-04</td>\n      <td>0.445017</td>\n    </tr>\n  </tbody>\n</table>\n</div>"
     },
     "execution_count": 91,
     "metadata": {},
     "output_type": "execute_result"
    }
   ],
   "source": [
    "si_summed_df = pd.DataFrame(si_summed)\n",
    "si_summed_df = si_summed_df.rename(columns = {0:'FR', 1:'B/G', 2:'SR'})\n",
    "# si_summed_df = si_summed_df.rename(index = [names])\n",
    "si_summed_df"
   ],
   "metadata": {
    "collapsed": false,
    "pycharm": {
     "name": "#%%\n"
    }
   }
  },
  {
   "cell_type": "code",
   "execution_count": 111,
   "outputs": [
    {
     "data": {
      "text/plain": "<Figure size 1080x720 with 2 Axes>",
      "image/png": "[encoded data removed]"
     },
     "metadata": {
      "needs_background": "light"
     },
     "output_type": "display_data"
    }
   ],
   "source": [
    "fig = plt.figure(figsize=(15,10))\n",
    "ax = fig.add_subplot( 111 )\n",
    "ax.plot(range(2021, 2050), si_summed_df['SR'], label='Survival Rate', color=\"red\")\n",
    "ax.plot(range(2021, 2050), si_summed_df['FR'], label='Fertility Rate', color=\"green\")\n",
    "ax.legend(loc = 0)\n",
    "ax2 = ax.twinx()\n",
    "ax2.plot(range(2021, 2050), si_summed_df['B/G'], label='Boys/Girls Ratio')\n",
    "plt.xticks(fontsize=20)\n",
    "plt.yticks()\n",
    "ax2.legend(loc = 4)\n",
    "ax.set_xlabel( \"year\" )\n",
    "ax.set_ylabel(r\"Survival and Fertility Rate\" )\n",
    "ax2.set_ylabel(r\"Boys/Girls Ratio\" )\n",
    "plt.show()"
   ],
   "metadata": {
    "collapsed": false,
    "pycharm": {
     "name": "#%%\n"
    }
   }
  },
  {
   "cell_type": "code",
   "execution_count": null,
   "outputs": [],
   "source": [],
   "metadata": {
    "collapsed": false,
    "pycharm": {
     "name": "#%%\n"
    }
   }
  }
 ],
 "metadata": {
  "kernelspec": {
   "display_name": "Python 3",
   "language": "python",
   "name": "python3"
  },
  "language_info": {
   "codemirror_mode": {
    "name": "ipython",
    "version": 2
   },
   "file_extension": ".py",
   "mimetype": "text/x-python",
   "name": "python",
   "nbconvert_exporter": "python",
   "pygments_lexer": "ipython2",
   "version": "2.7.6"
  }
 },
 "nbformat": 4,
 "nbformat_minor": 0
}