{
 "cells": [
  {
   "cell_type": "code",
   "execution_count": null,
   "metadata": {
    "collapsed": true
   },
   "outputs": [],
   "source": [
    "# generate samples of parameters\n",
    "param_values = saltelli.sample(problem, 1024)"
   ]
  },
  {
   "cell_type": "code",
   "execution_count": null,
   "outputs": [],
   "source": [
    "# Evaluate model results with different parameter samples\n",
    "si = []\n",
    "si_summed = []\n",
    "for i in [0, 1, 2, 3]:\n",
    "    Y_arr = Evaluate(param_values, i)\n",
    "    Si = sobol.analyze(problem, Y_arr, print_to_console=False)\n",
    "    si_summed.append(np.array([Si['S1'][0], Si['S1'][1], Si['S1'][2:].sum()]))\n",
    "    si.append(Si['S1'])"
   ],
   "metadata": {
    "collapsed": false,
    "pycharm": {
     "name": "#%%\n"
    }
   }
  },
  {
   "cell_type": "code",
   "execution_count": null,
   "outputs": [],
   "source": [
    "si_summed_df = pd.DataFrame(si_summed)\n",
    "si_summed_df = si_summed_df.rename(columns = {0:'FR', 1:'B/G', 2:'SR'})\n",
    "si_summed_df = si_summed_df.rename(index = {0:'10 years', 1:'20 years', 2:'50 years', 3:'100 years'})\n",
    "si_summed_df"
   ],
   "metadata": {
    "collapsed": false,
    "pycharm": {
     "name": "#%%\n"
    }
   }
  },
  {
   "cell_type": "code",
   "execution_count": null,
   "outputs": [],
   "source": [
    "fig = plt.figure(figsize=(20,15))\n",
    "sns.lineplot(data=si_summed_df)\n",
    "plt.xticks(fontsize=20)\n",
    "plt.yticks(fontsize=20)\n",
    "plt.legend(fontsize=25)"
   ],
   "metadata": {
    "collapsed": false,
    "pycharm": {
     "name": "#%%\n"
    }
   }
  }
 ],
 "metadata": {
  "kernelspec": {
   "display_name": "Python 3",
   "language": "python",
   "name": "python3"
  },
  "language_info": {
   "codemirror_mode": {
    "name": "ipython",
    "version": 2
   },
   "file_extension": ".py",
   "mimetype": "text/x-python",
   "name": "python",
   "nbconvert_exporter": "python",
   "pygments_lexer": "ipython2",
   "version": "2.7.6"
  }
 },
 "nbformat": 4,
 "nbformat_minor": 0
}