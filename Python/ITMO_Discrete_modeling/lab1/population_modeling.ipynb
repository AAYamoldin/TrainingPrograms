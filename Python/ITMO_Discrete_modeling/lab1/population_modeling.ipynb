{
 "cells": [
  {
   "cell_type": "code",
   "execution_count": 2,
   "metadata": {
    "collapsed": true
   },
   "outputs": [],
   "source": [
    "import pandas as pd\n",
    "import numpy as np"
   ]
  },
  {
   "cell_type": "code",
   "execution_count": 3,
   "outputs": [],
   "source": [
    "names = ['year', '0-4',\t'5-9',\t'10-14',\t'15-19',\t'20-24',\t'25-29',\t'30-34',\t'35-39',\t'40-44',\t'45-49',\t'50-54',\t'55-59',\t'60-64',\t'65-69',\t'70-74',\t'75-79',\t'80-84',\t'85-89',\t'90-94',\t'95-99',\t'100+']\n",
    "\n",
    "# years = [1950\t1951\t1952\t1953\t1954\t1955\t1956\t1957\t1958\t1959\t1960\t1961\t1962\t1963\t1964\t1965\t1966\t1967\t1968\t1969\t1970\t1971\t1972\t1973\t1974\t1975\t1976\t1977\t1978\t1979\t1980\t1981\t1982\t1983\t1984\t1985\t1986\t1987\t1988\t1989\t1990\t1991\t1992\t1993\t1994\t1995\t1996\t1997\t1998\t1999\t2000\t2001\t2002\t2003\t2004\t2005\t2006\t2007\t2008\t2009\t2010\t2011\t2012\t2013\t2014\t2015\t2016\t2017\t2018\t2019\t2020\n",
    "#          ]"
   ],
   "metadata": {
    "collapsed": false,
    "pycharm": {
     "name": "#%%\n"
    }
   }
  },
  {
   "cell_type": "code",
   "execution_count": 4,
   "outputs": [
    {
     "data": {
      "text/plain": "              Unnamed: 0 Unnamed: 1                 Unnamed: 2 Unnamed: 3  \\\n0                    NaN        NaN                        NaN        NaN   \n1                    NaN        NaN                        NaN        NaN   \n2                    NaN        NaN                        NaN        NaN   \n3         United Nations        NaN                        NaN        NaN   \n4    Population Division        NaN                        NaN        NaN   \n..                   ...        ...                        ...        ...   \n300                  285  Estimates                    Bermuda         14   \n301                  286  Estimates                     Canada        NaN   \n302                  287  Estimates                  Greenland         26   \n303                  288  Estimates  Saint Pierre and Miquelon          2   \n304                  289  Estimates   United States of America         35   \n\n    Unnamed: 4    Unnamed: 5 Unnamed: 6  Unnamed: 7  Unnamed: 8  Unnamed: 9  \\\n0          NaN           NaN        NaN         NaN         NaN         NaN   \n1          NaN           NaN        NaN         NaN         NaN         NaN   \n2          NaN           NaN        NaN         NaN         NaN         NaN   \n3          NaN           NaN        NaN         NaN         NaN         NaN   \n4          NaN           NaN        NaN         NaN         NaN         NaN   \n..         ...           ...        ...         ...         ...         ...   \n300         60  Country/Area        918      37.256        37.8      38.437   \n301        124  Country/Area        918   13733.398   14078.449   14445.453   \n302        304  Country/Area        918      22.993      23.466      23.936   \n303        666  Country/Area        918       4.567       4.609       4.648   \n304        840  Country/Area        918  158804.397  160872.264  163266.026   \n\n     ... Unnamed: 68 Unnamed: 69 Unnamed: 70 Unnamed: 71 Unnamed: 72  \\\n0    ...         NaN         NaN         NaN         NaN         NaN   \n1    ...         NaN         NaN         NaN         NaN         NaN   \n2    ...         NaN         NaN         NaN         NaN         NaN   \n3    ...         NaN         NaN         NaN         NaN         NaN   \n4    ...         NaN         NaN         NaN         NaN         NaN   \n..   ...         ...         ...         ...         ...         ...   \n300  ...      65.076      64.737      64.381      64.038      63.695   \n301  ...   34539.156   34922.031   35296.535   35664.338   36026.668   \n302  ...      56.555      56.477      56.412      56.383      56.378   \n303  ...       6.323       6.251       6.168       6.073       5.992   \n304  ...  311584.051  314043.885  316400.539  318673.422  320878.312   \n\n    Unnamed: 73 Unnamed: 74 Unnamed: 75 Unnamed: 76 Unnamed: 77  \n0           NaN         NaN         NaN         NaN         NaN  \n1           NaN         NaN         NaN         NaN         NaN  \n2           NaN         NaN         NaN         NaN         NaN  \n3           NaN         NaN         NaN         NaN         NaN  \n4           NaN         NaN         NaN         NaN         NaN  \n..          ...         ...         ...         ...         ...  \n300       63.36       63.04      62.763      62.508      62.273  \n301   36382.942   36732.091   37074.558   37411.038   37742.157  \n302      56.408      56.473      56.565       56.66      56.772  \n303       5.933       5.885       5.845       5.821       5.795  \n304  323015.992  325084.758  327096.263  329064.917  331002.647  \n\n[305 rows x 78 columns]",
      "text/html": "<div>\n<style scoped>\n    .dataframe tbody tr th:only-of-type {\n        vertical-align: middle;\n    }\n\n    .dataframe tbody tr th {\n        vertical-align: top;\n    }\n\n    .dataframe thead th {\n        text-align: right;\n    }\n</style>\n<table border=\"1\" class=\"dataframe\">\n  <thead>\n    <tr style=\"text-align: right;\">\n      <th></th>\n      <th>Unnamed: 0</th>\n      <th>Unnamed: 1</th>\n      <th>Unnamed: 2</th>\n      <th>Unnamed: 3</th>\n      <th>Unnamed: 4</th>\n      <th>Unnamed: 5</th>\n      <th>Unnamed: 6</th>\n      <th>Unnamed: 7</th>\n      <th>Unnamed: 8</th>\n      <th>Unnamed: 9</th>\n      <th>...</th>\n      <th>Unnamed: 68</th>\n      <th>Unnamed: 69</th>\n      <th>Unnamed: 70</th>\n      <th>Unnamed: 71</th>\n      <th>Unnamed: 72</th>\n      <th>Unnamed: 73</th>\n      <th>Unnamed: 74</th>\n      <th>Unnamed: 75</th>\n      <th>Unnamed: 76</th>\n      <th>Unnamed: 77</th>\n    </tr>\n  </thead>\n  <tbody>\n    <tr>\n      <th>0</th>\n      <td>NaN</td>\n      <td>NaN</td>\n      <td>NaN</td>\n      <td>NaN</td>\n      <td>NaN</td>\n      <td>NaN</td>\n      <td>NaN</td>\n      <td>NaN</td>\n      <td>NaN</td>\n      <td>NaN</td>\n      <td>...</td>\n      <td>NaN</td>\n      <td>NaN</td>\n      <td>NaN</td>\n      <td>NaN</td>\n      <td>NaN</td>\n      <td>NaN</td>\n      <td>NaN</td>\n      <td>NaN</td>\n      <td>NaN</td>\n      <td>NaN</td>\n    </tr>\n    <tr>\n      <th>1</th>\n      <td>NaN</td>\n      <td>NaN</td>\n      <td>NaN</td>\n      <td>NaN</td>\n      <td>NaN</td>\n      <td>NaN</td>\n      <td>NaN</td>\n      <td>NaN</td>\n      <td>NaN</td>\n      <td>NaN</td>\n      <td>...</td>\n      <td>NaN</td>\n      <td>NaN</td>\n      <td>NaN</td>\n      <td>NaN</td>\n      <td>NaN</td>\n      <td>NaN</td>\n      <td>NaN</td>\n      <td>NaN</td>\n      <td>NaN</td>\n      <td>NaN</td>\n    </tr>\n    <tr>\n      <th>2</th>\n      <td>NaN</td>\n      <td>NaN</td>\n      <td>NaN</td>\n      <td>NaN</td>\n      <td>NaN</td>\n      <td>NaN</td>\n      <td>NaN</td>\n      <td>NaN</td>\n      <td>NaN</td>\n      <td>NaN</td>\n      <td>...</td>\n      <td>NaN</td>\n      <td>NaN</td>\n      <td>NaN</td>\n      <td>NaN</td>\n      <td>NaN</td>\n      <td>NaN</td>\n      <td>NaN</td>\n      <td>NaN</td>\n      <td>NaN</td>\n      <td>NaN</td>\n    </tr>\n    <tr>\n      <th>3</th>\n      <td>United Nations</td>\n      <td>NaN</td>\n      <td>NaN</td>\n      <td>NaN</td>\n      <td>NaN</td>\n      <td>NaN</td>\n      <td>NaN</td>\n      <td>NaN</td>\n      <td>NaN</td>\n      <td>NaN</td>\n      <td>...</td>\n      <td>NaN</td>\n      <td>NaN</td>\n      <td>NaN</td>\n      <td>NaN</td>\n      <td>NaN</td>\n      <td>NaN</td>\n      <td>NaN</td>\n      <td>NaN</td>\n      <td>NaN</td>\n      <td>NaN</td>\n    </tr>\n    <tr>\n      <th>4</th>\n      <td>Population Division</td>\n      <td>NaN</td>\n      <td>NaN</td>\n      <td>NaN</td>\n      <td>NaN</td>\n      <td>NaN</td>\n      <td>NaN</td>\n      <td>NaN</td>\n      <td>NaN</td>\n      <td>NaN</td>\n      <td>...</td>\n      <td>NaN</td>\n      <td>NaN</td>\n      <td>NaN</td>\n      <td>NaN</td>\n      <td>NaN</td>\n      <td>NaN</td>\n      <td>NaN</td>\n      <td>NaN</td>\n      <td>NaN</td>\n      <td>NaN</td>\n    </tr>\n    <tr>\n      <th>...</th>\n      <td>...</td>\n      <td>...</td>\n      <td>...</td>\n      <td>...</td>\n      <td>...</td>\n      <td>...</td>\n      <td>...</td>\n      <td>...</td>\n      <td>...</td>\n      <td>...</td>\n      <td>...</td>\n      <td>...</td>\n      <td>...</td>\n      <td>...</td>\n      <td>...</td>\n      <td>...</td>\n      <td>...</td>\n      <td>...</td>\n      <td>...</td>\n      <td>...</td>\n      <td>...</td>\n    </tr>\n    <tr>\n      <th>300</th>\n      <td>285</td>\n      <td>Estimates</td>\n      <td>Bermuda</td>\n      <td>14</td>\n      <td>60</td>\n      <td>Country/Area</td>\n      <td>918</td>\n      <td>37.256</td>\n      <td>37.8</td>\n      <td>38.437</td>\n      <td>...</td>\n      <td>65.076</td>\n      <td>64.737</td>\n      <td>64.381</td>\n      <td>64.038</td>\n      <td>63.695</td>\n      <td>63.36</td>\n      <td>63.04</td>\n      <td>62.763</td>\n      <td>62.508</td>\n      <td>62.273</td>\n    </tr>\n    <tr>\n      <th>301</th>\n      <td>286</td>\n      <td>Estimates</td>\n      <td>Canada</td>\n      <td>NaN</td>\n      <td>124</td>\n      <td>Country/Area</td>\n      <td>918</td>\n      <td>13733.398</td>\n      <td>14078.449</td>\n      <td>14445.453</td>\n      <td>...</td>\n      <td>34539.156</td>\n      <td>34922.031</td>\n      <td>35296.535</td>\n      <td>35664.338</td>\n      <td>36026.668</td>\n      <td>36382.942</td>\n      <td>36732.091</td>\n      <td>37074.558</td>\n      <td>37411.038</td>\n      <td>37742.157</td>\n    </tr>\n    <tr>\n      <th>302</th>\n      <td>287</td>\n      <td>Estimates</td>\n      <td>Greenland</td>\n      <td>26</td>\n      <td>304</td>\n      <td>Country/Area</td>\n      <td>918</td>\n      <td>22.993</td>\n      <td>23.466</td>\n      <td>23.936</td>\n      <td>...</td>\n      <td>56.555</td>\n      <td>56.477</td>\n      <td>56.412</td>\n      <td>56.383</td>\n      <td>56.378</td>\n      <td>56.408</td>\n      <td>56.473</td>\n      <td>56.565</td>\n      <td>56.66</td>\n      <td>56.772</td>\n    </tr>\n    <tr>\n      <th>303</th>\n      <td>288</td>\n      <td>Estimates</td>\n      <td>Saint Pierre and Miquelon</td>\n      <td>2</td>\n      <td>666</td>\n      <td>Country/Area</td>\n      <td>918</td>\n      <td>4.567</td>\n      <td>4.609</td>\n      <td>4.648</td>\n      <td>...</td>\n      <td>6.323</td>\n      <td>6.251</td>\n      <td>6.168</td>\n      <td>6.073</td>\n      <td>5.992</td>\n      <td>5.933</td>\n      <td>5.885</td>\n      <td>5.845</td>\n      <td>5.821</td>\n      <td>5.795</td>\n    </tr>\n    <tr>\n      <th>304</th>\n      <td>289</td>\n      <td>Estimates</td>\n      <td>United States of America</td>\n      <td>35</td>\n      <td>840</td>\n      <td>Country/Area</td>\n      <td>918</td>\n      <td>158804.397</td>\n      <td>160872.264</td>\n      <td>163266.026</td>\n      <td>...</td>\n      <td>311584.051</td>\n      <td>314043.885</td>\n      <td>316400.539</td>\n      <td>318673.422</td>\n      <td>320878.312</td>\n      <td>323015.992</td>\n      <td>325084.758</td>\n      <td>327096.263</td>\n      <td>329064.917</td>\n      <td>331002.647</td>\n    </tr>\n  </tbody>\n</table>\n<p>305 rows × 78 columns</p>\n</div>"
     },
     "execution_count": 4,
     "metadata": {},
     "output_type": "execute_result"
    }
   ],
   "source": [
    "data_total = pd.read_excel('TOTAL_POPULATION.xlsx')\n",
    "data_total"
   ],
   "metadata": {
    "collapsed": false,
    "pycharm": {
     "name": "#%%\n"
    }
   }
  },
  {
   "cell_type": "code",
   "execution_count": 5,
   "outputs": [
    {
     "data": {
      "text/plain": "     Unnamed: 7  Unnamed: 8  Unnamed: 9 Unnamed: 10 Unnamed: 11 Unnamed: 12  \\\n255  102798.649  104304.698  105967.087   107727.31  109536.504  111355.301   \n\n    Unnamed: 13 Unnamed: 14 Unnamed: 15 Unnamed: 16  ... Unnamed: 68  \\\n255  113154.332   114913.78  116622.392  118275.873  ...  143703.027   \n\n    Unnamed: 69 Unnamed: 70 Unnamed: 71 Unnamed: 72 Unnamed: 73 Unnamed: 74  \\\n255  143993.888  144325.456  144664.837  144985.059  145275.374  145530.091   \n\n    Unnamed: 75 Unnamed: 76 Unnamed: 77  \n255  145734.034   145872.26   145934.46  \n\n[1 rows x 71 columns]",
      "text/html": "<div>\n<style scoped>\n    .dataframe tbody tr th:only-of-type {\n        vertical-align: middle;\n    }\n\n    .dataframe tbody tr th {\n        vertical-align: top;\n    }\n\n    .dataframe thead th {\n        text-align: right;\n    }\n</style>\n<table border=\"1\" class=\"dataframe\">\n  <thead>\n    <tr style=\"text-align: right;\">\n      <th></th>\n      <th>Unnamed: 7</th>\n      <th>Unnamed: 8</th>\n      <th>Unnamed: 9</th>\n      <th>Unnamed: 10</th>\n      <th>Unnamed: 11</th>\n      <th>Unnamed: 12</th>\n      <th>Unnamed: 13</th>\n      <th>Unnamed: 14</th>\n      <th>Unnamed: 15</th>\n      <th>Unnamed: 16</th>\n      <th>...</th>\n      <th>Unnamed: 68</th>\n      <th>Unnamed: 69</th>\n      <th>Unnamed: 70</th>\n      <th>Unnamed: 71</th>\n      <th>Unnamed: 72</th>\n      <th>Unnamed: 73</th>\n      <th>Unnamed: 74</th>\n      <th>Unnamed: 75</th>\n      <th>Unnamed: 76</th>\n      <th>Unnamed: 77</th>\n    </tr>\n  </thead>\n  <tbody>\n    <tr>\n      <th>255</th>\n      <td>102798.649</td>\n      <td>104304.698</td>\n      <td>105967.087</td>\n      <td>107727.31</td>\n      <td>109536.504</td>\n      <td>111355.301</td>\n      <td>113154.332</td>\n      <td>114913.78</td>\n      <td>116622.392</td>\n      <td>118275.873</td>\n      <td>...</td>\n      <td>143703.027</td>\n      <td>143993.888</td>\n      <td>144325.456</td>\n      <td>144664.837</td>\n      <td>144985.059</td>\n      <td>145275.374</td>\n      <td>145530.091</td>\n      <td>145734.034</td>\n      <td>145872.26</td>\n      <td>145934.46</td>\n    </tr>\n  </tbody>\n</table>\n<p>1 rows × 71 columns</p>\n</div>"
     },
     "execution_count": 5,
     "metadata": {},
     "output_type": "execute_result"
    }
   ],
   "source": [
    "data_total_ru = data_total[data_total['Unnamed: 2'] == \"Russian Federation\"].iloc[:, 7:]\n",
    "data_total_ru"
   ],
   "metadata": {
    "collapsed": false,
    "pycharm": {
     "name": "#%%\n"
    }
   }
  },
  {
   "cell_type": "code",
   "execution_count": 6,
   "outputs": [
    {
     "data": {
      "text/plain": "                Unnamed: 0 Unnamed: 1                Unnamed: 2 Unnamed: 3  \\\n0                      NaN        NaN                       NaN        NaN   \n1                      NaN        NaN                       NaN        NaN   \n2                      NaN        NaN                       NaN        NaN   \n3           United Nations        NaN                       NaN        NaN   \n4      Population Division        NaN                       NaN        NaN   \n...                    ...        ...                       ...        ...   \n18116                18101  Estimates  United States of America         29   \n18117                18102  Estimates  United States of America         29   \n18118                18103  Estimates  United States of America         29   \n18119                18104  Estimates  United States of America         29   \n18120                18105  Estimates  United States of America         29   \n\n      Unnamed: 4    Unnamed: 5 Unnamed: 6 Unnamed: 7 Unnamed: 8 Unnamed: 9  \\\n0            NaN           NaN        NaN        NaN        NaN        NaN   \n1            NaN           NaN        NaN        NaN        NaN        NaN   \n2            NaN           NaN        NaN        NaN        NaN        NaN   \n3            NaN           NaN        NaN        NaN        NaN        NaN   \n4            NaN           NaN        NaN        NaN        NaN        NaN   \n...          ...           ...        ...        ...        ...        ...   \n18116        840  Country/Area        918       2016  19595.177  20982.232   \n18117        840  Country/Area        918       2017  19474.782  20836.548   \n18118        840  Country/Area        918       2018  19511.521  20583.423   \n18119        840  Country/Area        918       2019  19604.096  20287.749   \n18120        840  Country/Area        918       2020  19676.332  20045.152   \n\n       ... Unnamed: 19 Unnamed: 20 Unnamed: 21 Unnamed: 22 Unnamed: 23  \\\n0      ...         NaN         NaN         NaN         NaN         NaN   \n1      ...         NaN         NaN         NaN         NaN         NaN   \n2      ...         NaN         NaN         NaN         NaN         NaN   \n3      ...         NaN         NaN         NaN         NaN         NaN   \n4      ...         NaN         NaN         NaN         NaN         NaN   \n...    ...         ...         ...         ...         ...         ...   \n18116  ...   21712.261   19335.488   16223.362   11749.586     8338.62   \n18117  ...     21780.7    19735.15   16657.346   12400.319    8582.499   \n18118  ...   21772.121   20111.237   17037.068    13093.39    8874.073   \n18119  ...   21691.222   20429.652   17415.446   13758.858    9250.376   \n18120  ...    21542.27   20669.143   17819.027   14354.863    9727.734   \n\n      Unnamed: 24 Unnamed: 25 Unnamed: 26 Unnamed: 27 Unnamed: 28  \n0             NaN         NaN         NaN         NaN         NaN  \n1             NaN         NaN         NaN         NaN         NaN  \n2             NaN         NaN         NaN         NaN         NaN  \n3             NaN         NaN         NaN         NaN         NaN  \n4             NaN         NaN         NaN         NaN         NaN  \n...           ...         ...         ...         ...         ...  \n18116     5816.43    3923.122    1915.769     524.046      70.249  \n18117     5920.16    3902.179    1993.112     594.137      76.235  \n18118    6064.571    3868.698    2037.048     648.457      82.906  \n18119    6245.265    3862.946    2053.727     663.522      89.949  \n18120    6461.202    3911.104    2051.136     626.636      97.104  \n\n[18121 rows x 29 columns]",
      "text/html": "<div>\n<style scoped>\n    .dataframe tbody tr th:only-of-type {\n        vertical-align: middle;\n    }\n\n    .dataframe tbody tr th {\n        vertical-align: top;\n    }\n\n    .dataframe thead th {\n        text-align: right;\n    }\n</style>\n<table border=\"1\" class=\"dataframe\">\n  <thead>\n    <tr style=\"text-align: right;\">\n      <th></th>\n      <th>Unnamed: 0</th>\n      <th>Unnamed: 1</th>\n      <th>Unnamed: 2</th>\n      <th>Unnamed: 3</th>\n      <th>Unnamed: 4</th>\n      <th>Unnamed: 5</th>\n      <th>Unnamed: 6</th>\n      <th>Unnamed: 7</th>\n      <th>Unnamed: 8</th>\n      <th>Unnamed: 9</th>\n      <th>...</th>\n      <th>Unnamed: 19</th>\n      <th>Unnamed: 20</th>\n      <th>Unnamed: 21</th>\n      <th>Unnamed: 22</th>\n      <th>Unnamed: 23</th>\n      <th>Unnamed: 24</th>\n      <th>Unnamed: 25</th>\n      <th>Unnamed: 26</th>\n      <th>Unnamed: 27</th>\n      <th>Unnamed: 28</th>\n    </tr>\n  </thead>\n  <tbody>\n    <tr>\n      <th>0</th>\n      <td>NaN</td>\n      <td>NaN</td>\n      <td>NaN</td>\n      <td>NaN</td>\n      <td>NaN</td>\n      <td>NaN</td>\n      <td>NaN</td>\n      <td>NaN</td>\n      <td>NaN</td>\n      <td>NaN</td>\n      <td>...</td>\n      <td>NaN</td>\n      <td>NaN</td>\n      <td>NaN</td>\n      <td>NaN</td>\n      <td>NaN</td>\n      <td>NaN</td>\n      <td>NaN</td>\n      <td>NaN</td>\n      <td>NaN</td>\n      <td>NaN</td>\n    </tr>\n    <tr>\n      <th>1</th>\n      <td>NaN</td>\n      <td>NaN</td>\n      <td>NaN</td>\n      <td>NaN</td>\n      <td>NaN</td>\n      <td>NaN</td>\n      <td>NaN</td>\n      <td>NaN</td>\n      <td>NaN</td>\n      <td>NaN</td>\n      <td>...</td>\n      <td>NaN</td>\n      <td>NaN</td>\n      <td>NaN</td>\n      <td>NaN</td>\n      <td>NaN</td>\n      <td>NaN</td>\n      <td>NaN</td>\n      <td>NaN</td>\n      <td>NaN</td>\n      <td>NaN</td>\n    </tr>\n    <tr>\n      <th>2</th>\n      <td>NaN</td>\n      <td>NaN</td>\n      <td>NaN</td>\n      <td>NaN</td>\n      <td>NaN</td>\n      <td>NaN</td>\n      <td>NaN</td>\n      <td>NaN</td>\n      <td>NaN</td>\n      <td>NaN</td>\n      <td>...</td>\n      <td>NaN</td>\n      <td>NaN</td>\n      <td>NaN</td>\n      <td>NaN</td>\n      <td>NaN</td>\n      <td>NaN</td>\n      <td>NaN</td>\n      <td>NaN</td>\n      <td>NaN</td>\n      <td>NaN</td>\n    </tr>\n    <tr>\n      <th>3</th>\n      <td>United Nations</td>\n      <td>NaN</td>\n      <td>NaN</td>\n      <td>NaN</td>\n      <td>NaN</td>\n      <td>NaN</td>\n      <td>NaN</td>\n      <td>NaN</td>\n      <td>NaN</td>\n      <td>NaN</td>\n      <td>...</td>\n      <td>NaN</td>\n      <td>NaN</td>\n      <td>NaN</td>\n      <td>NaN</td>\n      <td>NaN</td>\n      <td>NaN</td>\n      <td>NaN</td>\n      <td>NaN</td>\n      <td>NaN</td>\n      <td>NaN</td>\n    </tr>\n    <tr>\n      <th>4</th>\n      <td>Population Division</td>\n      <td>NaN</td>\n      <td>NaN</td>\n      <td>NaN</td>\n      <td>NaN</td>\n      <td>NaN</td>\n      <td>NaN</td>\n      <td>NaN</td>\n      <td>NaN</td>\n      <td>NaN</td>\n      <td>...</td>\n      <td>NaN</td>\n      <td>NaN</td>\n      <td>NaN</td>\n      <td>NaN</td>\n      <td>NaN</td>\n      <td>NaN</td>\n      <td>NaN</td>\n      <td>NaN</td>\n      <td>NaN</td>\n      <td>NaN</td>\n    </tr>\n    <tr>\n      <th>...</th>\n      <td>...</td>\n      <td>...</td>\n      <td>...</td>\n      <td>...</td>\n      <td>...</td>\n      <td>...</td>\n      <td>...</td>\n      <td>...</td>\n      <td>...</td>\n      <td>...</td>\n      <td>...</td>\n      <td>...</td>\n      <td>...</td>\n      <td>...</td>\n      <td>...</td>\n      <td>...</td>\n      <td>...</td>\n      <td>...</td>\n      <td>...</td>\n      <td>...</td>\n      <td>...</td>\n    </tr>\n    <tr>\n      <th>18116</th>\n      <td>18101</td>\n      <td>Estimates</td>\n      <td>United States of America</td>\n      <td>29</td>\n      <td>840</td>\n      <td>Country/Area</td>\n      <td>918</td>\n      <td>2016</td>\n      <td>19595.177</td>\n      <td>20982.232</td>\n      <td>...</td>\n      <td>21712.261</td>\n      <td>19335.488</td>\n      <td>16223.362</td>\n      <td>11749.586</td>\n      <td>8338.62</td>\n      <td>5816.43</td>\n      <td>3923.122</td>\n      <td>1915.769</td>\n      <td>524.046</td>\n      <td>70.249</td>\n    </tr>\n    <tr>\n      <th>18117</th>\n      <td>18102</td>\n      <td>Estimates</td>\n      <td>United States of America</td>\n      <td>29</td>\n      <td>840</td>\n      <td>Country/Area</td>\n      <td>918</td>\n      <td>2017</td>\n      <td>19474.782</td>\n      <td>20836.548</td>\n      <td>...</td>\n      <td>21780.7</td>\n      <td>19735.15</td>\n      <td>16657.346</td>\n      <td>12400.319</td>\n      <td>8582.499</td>\n      <td>5920.16</td>\n      <td>3902.179</td>\n      <td>1993.112</td>\n      <td>594.137</td>\n      <td>76.235</td>\n    </tr>\n    <tr>\n      <th>18118</th>\n      <td>18103</td>\n      <td>Estimates</td>\n      <td>United States of America</td>\n      <td>29</td>\n      <td>840</td>\n      <td>Country/Area</td>\n      <td>918</td>\n      <td>2018</td>\n      <td>19511.521</td>\n      <td>20583.423</td>\n      <td>...</td>\n      <td>21772.121</td>\n      <td>20111.237</td>\n      <td>17037.068</td>\n      <td>13093.39</td>\n      <td>8874.073</td>\n      <td>6064.571</td>\n      <td>3868.698</td>\n      <td>2037.048</td>\n      <td>648.457</td>\n      <td>82.906</td>\n    </tr>\n    <tr>\n      <th>18119</th>\n      <td>18104</td>\n      <td>Estimates</td>\n      <td>United States of America</td>\n      <td>29</td>\n      <td>840</td>\n      <td>Country/Area</td>\n      <td>918</td>\n      <td>2019</td>\n      <td>19604.096</td>\n      <td>20287.749</td>\n      <td>...</td>\n      <td>21691.222</td>\n      <td>20429.652</td>\n      <td>17415.446</td>\n      <td>13758.858</td>\n      <td>9250.376</td>\n      <td>6245.265</td>\n      <td>3862.946</td>\n      <td>2053.727</td>\n      <td>663.522</td>\n      <td>89.949</td>\n    </tr>\n    <tr>\n      <th>18120</th>\n      <td>18105</td>\n      <td>Estimates</td>\n      <td>United States of America</td>\n      <td>29</td>\n      <td>840</td>\n      <td>Country/Area</td>\n      <td>918</td>\n      <td>2020</td>\n      <td>19676.332</td>\n      <td>20045.152</td>\n      <td>...</td>\n      <td>21542.27</td>\n      <td>20669.143</td>\n      <td>17819.027</td>\n      <td>14354.863</td>\n      <td>9727.734</td>\n      <td>6461.202</td>\n      <td>3911.104</td>\n      <td>2051.136</td>\n      <td>626.636</td>\n      <td>97.104</td>\n    </tr>\n  </tbody>\n</table>\n<p>18121 rows × 29 columns</p>\n</div>"
     },
     "execution_count": 6,
     "metadata": {},
     "output_type": "execute_result"
    }
   ],
   "source": [
    "data_age = pd.read_excel('BY_AGE_BOTH_SEXES.xlsx')\n",
    "data_age"
   ],
   "metadata": {
    "collapsed": false,
    "pycharm": {
     "name": "#%%\n"
    }
   }
  },
  {
   "cell_type": "code",
   "execution_count": 15,
   "outputs": [
    {
     "data": {
      "text/plain": "       year        0-4       5-9      10-14      15-19      20-24      25-29  \\\n15352  1950  11108.268  6930.349  12663.863  10156.782  12150.037   8012.741   \n15353  1951  12686.585   6435.89  11899.261   10355.37  11968.646   8767.421   \n15354  1952  13005.504  6788.609  10664.257  11168.958  11440.307   9795.572   \n15355  1953  12927.173  7918.495   9050.905  12168.358  10691.854  10835.556   \n15356  1954  12806.662  9425.934   7606.133  12773.213  10118.587  11581.136   \n...     ...        ...       ...        ...        ...        ...        ...   \n15418  2016   9484.077  8387.989   7246.922   6456.787   8277.188  12122.168   \n15419  2017   9538.812  8655.908   7467.444   6508.584     7692.7  11428.628   \n15420  2018    9497.26  8921.018   7688.159   6669.614   7214.019  10590.506   \n15421  2019   9400.039  9161.863   7920.826   6875.029   6852.386   9746.958   \n15422  2020   9271.691  9350.916   8174.262   7081.775   6614.696   8993.089   \n\n           30-34      35-39      40-44  ...      55-59      60-64     65-69  \\\n15352   6071.509     7567.6   6717.819  ...   3576.965   2925.752  2205.274   \n15353   6049.812   7272.755   6872.844  ...   3625.957   2964.562  2263.861   \n15354   6262.422   6890.648   7133.446  ...   3718.603   3036.685  2341.294   \n15355   6647.447   6445.798   7369.749  ...   3825.524   3113.778  2416.419   \n15356   7173.936   6083.438   7464.851  ...   3946.366   3188.116  2484.703   \n...          ...        ...        ...  ...        ...        ...       ...   \n15418  12294.428  10981.797  10183.008  ...  10855.918   9636.816  6722.995   \n15419  12552.139  11197.999  10291.629  ...  10870.328   9816.236  7201.596   \n15420  12750.914  11435.249  10362.416  ...  10843.485   9930.147  7667.532   \n15421  12770.848  11681.899  10454.957  ...  10703.857  10010.361  8083.876   \n15422  12543.831  11924.724  10604.635  ...  10418.015  10073.623  8427.746   \n\n          70-74     75-79     80-84     85-89    90-94    95-99   100+  \n15352  1389.655   809.149   354.611   140.334   45.052   15.382  6.039  \n15353  1448.024   853.696   383.131   146.248   47.875   14.025  4.925  \n15354  1531.507     895.5   425.108   148.859   50.285   13.786  4.051  \n15355  1624.045    928.07   475.238   148.502   51.301    13.54  3.335  \n15356  1712.954   958.436    523.71   149.885   49.621   12.178  2.749  \n...         ...       ...       ...       ...      ...      ...    ...  \n15418  3955.771  4723.105  2692.682  1540.587  466.496   61.224  8.141  \n15419  4184.257  4219.167  3049.764  1446.947  569.576   79.171  8.236  \n15420  4557.114  3673.876  3388.384  1347.123   648.16   96.544   8.39  \n15421   4976.15  3290.722  3550.858  1319.127  683.471  105.813  8.744  \n15422  5390.381  3159.337  3485.779  1389.639  668.338  102.243  9.407  \n\n[71 rows x 22 columns]",
      "text/html": "<div>\n<style scoped>\n    .dataframe tbody tr th:only-of-type {\n        vertical-align: middle;\n    }\n\n    .dataframe tbody tr th {\n        vertical-align: top;\n    }\n\n    .dataframe thead th {\n        text-align: right;\n    }\n</style>\n<table border=\"1\" class=\"dataframe\">\n  <thead>\n    <tr style=\"text-align: right;\">\n      <th></th>\n      <th>year</th>\n      <th>0-4</th>\n      <th>5-9</th>\n      <th>10-14</th>\n      <th>15-19</th>\n      <th>20-24</th>\n      <th>25-29</th>\n      <th>30-34</th>\n      <th>35-39</th>\n      <th>40-44</th>\n      <th>...</th>\n      <th>55-59</th>\n      <th>60-64</th>\n      <th>65-69</th>\n      <th>70-74</th>\n      <th>75-79</th>\n      <th>80-84</th>\n      <th>85-89</th>\n      <th>90-94</th>\n      <th>95-99</th>\n      <th>100+</th>\n    </tr>\n  </thead>\n  <tbody>\n    <tr>\n      <th>15352</th>\n      <td>1950</td>\n      <td>11108.268</td>\n      <td>6930.349</td>\n      <td>12663.863</td>\n      <td>10156.782</td>\n      <td>12150.037</td>\n      <td>8012.741</td>\n      <td>6071.509</td>\n      <td>7567.6</td>\n      <td>6717.819</td>\n      <td>...</td>\n      <td>3576.965</td>\n      <td>2925.752</td>\n      <td>2205.274</td>\n      <td>1389.655</td>\n      <td>809.149</td>\n      <td>354.611</td>\n      <td>140.334</td>\n      <td>45.052</td>\n      <td>15.382</td>\n      <td>6.039</td>\n    </tr>\n    <tr>\n      <th>15353</th>\n      <td>1951</td>\n      <td>12686.585</td>\n      <td>6435.89</td>\n      <td>11899.261</td>\n      <td>10355.37</td>\n      <td>11968.646</td>\n      <td>8767.421</td>\n      <td>6049.812</td>\n      <td>7272.755</td>\n      <td>6872.844</td>\n      <td>...</td>\n      <td>3625.957</td>\n      <td>2964.562</td>\n      <td>2263.861</td>\n      <td>1448.024</td>\n      <td>853.696</td>\n      <td>383.131</td>\n      <td>146.248</td>\n      <td>47.875</td>\n      <td>14.025</td>\n      <td>4.925</td>\n    </tr>\n    <tr>\n      <th>15354</th>\n      <td>1952</td>\n      <td>13005.504</td>\n      <td>6788.609</td>\n      <td>10664.257</td>\n      <td>11168.958</td>\n      <td>11440.307</td>\n      <td>9795.572</td>\n      <td>6262.422</td>\n      <td>6890.648</td>\n      <td>7133.446</td>\n      <td>...</td>\n      <td>3718.603</td>\n      <td>3036.685</td>\n      <td>2341.294</td>\n      <td>1531.507</td>\n      <td>895.5</td>\n      <td>425.108</td>\n      <td>148.859</td>\n      <td>50.285</td>\n      <td>13.786</td>\n      <td>4.051</td>\n    </tr>\n    <tr>\n      <th>15355</th>\n      <td>1953</td>\n      <td>12927.173</td>\n      <td>7918.495</td>\n      <td>9050.905</td>\n      <td>12168.358</td>\n      <td>10691.854</td>\n      <td>10835.556</td>\n      <td>6647.447</td>\n      <td>6445.798</td>\n      <td>7369.749</td>\n      <td>...</td>\n      <td>3825.524</td>\n      <td>3113.778</td>\n      <td>2416.419</td>\n      <td>1624.045</td>\n      <td>928.07</td>\n      <td>475.238</td>\n      <td>148.502</td>\n      <td>51.301</td>\n      <td>13.54</td>\n      <td>3.335</td>\n    </tr>\n    <tr>\n      <th>15356</th>\n      <td>1954</td>\n      <td>12806.662</td>\n      <td>9425.934</td>\n      <td>7606.133</td>\n      <td>12773.213</td>\n      <td>10118.587</td>\n      <td>11581.136</td>\n      <td>7173.936</td>\n      <td>6083.438</td>\n      <td>7464.851</td>\n      <td>...</td>\n      <td>3946.366</td>\n      <td>3188.116</td>\n      <td>2484.703</td>\n      <td>1712.954</td>\n      <td>958.436</td>\n      <td>523.71</td>\n      <td>149.885</td>\n      <td>49.621</td>\n      <td>12.178</td>\n      <td>2.749</td>\n    </tr>\n    <tr>\n      <th>...</th>\n      <td>...</td>\n      <td>...</td>\n      <td>...</td>\n      <td>...</td>\n      <td>...</td>\n      <td>...</td>\n      <td>...</td>\n      <td>...</td>\n      <td>...</td>\n      <td>...</td>\n      <td>...</td>\n      <td>...</td>\n      <td>...</td>\n      <td>...</td>\n      <td>...</td>\n      <td>...</td>\n      <td>...</td>\n      <td>...</td>\n      <td>...</td>\n      <td>...</td>\n      <td>...</td>\n    </tr>\n    <tr>\n      <th>15418</th>\n      <td>2016</td>\n      <td>9484.077</td>\n      <td>8387.989</td>\n      <td>7246.922</td>\n      <td>6456.787</td>\n      <td>8277.188</td>\n      <td>12122.168</td>\n      <td>12294.428</td>\n      <td>10981.797</td>\n      <td>10183.008</td>\n      <td>...</td>\n      <td>10855.918</td>\n      <td>9636.816</td>\n      <td>6722.995</td>\n      <td>3955.771</td>\n      <td>4723.105</td>\n      <td>2692.682</td>\n      <td>1540.587</td>\n      <td>466.496</td>\n      <td>61.224</td>\n      <td>8.141</td>\n    </tr>\n    <tr>\n      <th>15419</th>\n      <td>2017</td>\n      <td>9538.812</td>\n      <td>8655.908</td>\n      <td>7467.444</td>\n      <td>6508.584</td>\n      <td>7692.7</td>\n      <td>11428.628</td>\n      <td>12552.139</td>\n      <td>11197.999</td>\n      <td>10291.629</td>\n      <td>...</td>\n      <td>10870.328</td>\n      <td>9816.236</td>\n      <td>7201.596</td>\n      <td>4184.257</td>\n      <td>4219.167</td>\n      <td>3049.764</td>\n      <td>1446.947</td>\n      <td>569.576</td>\n      <td>79.171</td>\n      <td>8.236</td>\n    </tr>\n    <tr>\n      <th>15420</th>\n      <td>2018</td>\n      <td>9497.26</td>\n      <td>8921.018</td>\n      <td>7688.159</td>\n      <td>6669.614</td>\n      <td>7214.019</td>\n      <td>10590.506</td>\n      <td>12750.914</td>\n      <td>11435.249</td>\n      <td>10362.416</td>\n      <td>...</td>\n      <td>10843.485</td>\n      <td>9930.147</td>\n      <td>7667.532</td>\n      <td>4557.114</td>\n      <td>3673.876</td>\n      <td>3388.384</td>\n      <td>1347.123</td>\n      <td>648.16</td>\n      <td>96.544</td>\n      <td>8.39</td>\n    </tr>\n    <tr>\n      <th>15421</th>\n      <td>2019</td>\n      <td>9400.039</td>\n      <td>9161.863</td>\n      <td>7920.826</td>\n      <td>6875.029</td>\n      <td>6852.386</td>\n      <td>9746.958</td>\n      <td>12770.848</td>\n      <td>11681.899</td>\n      <td>10454.957</td>\n      <td>...</td>\n      <td>10703.857</td>\n      <td>10010.361</td>\n      <td>8083.876</td>\n      <td>4976.15</td>\n      <td>3290.722</td>\n      <td>3550.858</td>\n      <td>1319.127</td>\n      <td>683.471</td>\n      <td>105.813</td>\n      <td>8.744</td>\n    </tr>\n    <tr>\n      <th>15422</th>\n      <td>2020</td>\n      <td>9271.691</td>\n      <td>9350.916</td>\n      <td>8174.262</td>\n      <td>7081.775</td>\n      <td>6614.696</td>\n      <td>8993.089</td>\n      <td>12543.831</td>\n      <td>11924.724</td>\n      <td>10604.635</td>\n      <td>...</td>\n      <td>10418.015</td>\n      <td>10073.623</td>\n      <td>8427.746</td>\n      <td>5390.381</td>\n      <td>3159.337</td>\n      <td>3485.779</td>\n      <td>1389.639</td>\n      <td>668.338</td>\n      <td>102.243</td>\n      <td>9.407</td>\n    </tr>\n  </tbody>\n</table>\n<p>71 rows × 22 columns</p>\n</div>"
     },
     "execution_count": 15,
     "metadata": {},
     "output_type": "execute_result"
    }
   ],
   "source": [
    "data_age_ru = data_age[(data_age['Unnamed: 2'] == \"Russian Federation\")].iloc[:, 7:]\n",
    "data_age_ru.set_axis(names, axis=1, inplace=True)\n",
    "data_age_ru"
   ],
   "metadata": {
    "collapsed": false,
    "pycharm": {
     "name": "#%%\n"
    }
   }
  },
  {
   "cell_type": "code",
   "execution_count": 8,
   "outputs": [
    {
     "data": {
      "text/plain": "       year       0-4       5-9     10-14     15-19     20-24     25-29  \\\n15352  1950   5457.85  3448.536  6255.687  5169.042  6403.152  4814.104   \n15353  1951  6226.909  3210.204  5883.537   5229.66  6232.092  5131.915   \n15354  1952  6379.796  3377.305  5276.934  5592.452  5903.415  5541.075   \n15355  1953  6341.065  3920.981  4488.445   6055.29  5483.523  5926.949   \n15356  1954  6284.242  4649.835  3783.667  6337.255  5160.673  6169.647   \n...     ...       ...       ...       ...       ...       ...       ...   \n15418  2016   4609.39  4091.092  3538.651   3155.34  4044.295  5991.657   \n15419  2017  4635.612  4219.517   3646.66  3181.982  3759.868  5641.785   \n15420  2018  4616.383  4345.516  3754.045  3260.695  3529.042  5218.824   \n15421  2019  4570.444  4459.404  3866.509  3360.519  3355.361  4794.402   \n15422  2020  4508.865   4548.68  3988.159  3460.825  3240.763  4417.248   \n\n          30-34     35-39     40-44  ...     55-59     60-64     65-69  \\\n15352  3695.944  4673.846   4166.71  ...  2306.667  1928.282  1470.258   \n15353  3694.042  4493.127  4254.584  ...  2354.466  1956.954  1516.508   \n15354  3844.682  4243.621  4414.697  ...   2432.48  2002.785  1575.588   \n15355  4092.658  3951.752  4567.535  ...  2523.018  2051.806   1634.01   \n15356  4384.702  3717.117  4634.117  ...  2623.942   2103.45  1687.353   \n...         ...       ...       ...  ...       ...       ...       ...   \n15418  6135.456  5597.142  5239.258  ...  6069.167   5654.38  4110.053   \n15419  6260.061  5694.174   5303.95  ...  6058.546   5751.27  4404.866   \n15420  6356.147  5797.188  5349.684  ...  6023.604  5803.256  4697.023   \n15421  6362.169  5904.988  5402.179  ...  5928.651  5831.635  4958.868   \n15422   6243.12   6013.65  5476.691  ...  5757.121  5848.341  5171.853   \n\n          70-74     75-79     80-84     85-89    90-94   95-99   100+  \n15352   940.708   561.084   254.333   103.803   33.562  11.574  4.585  \n15353    982.87   592.199   274.106   108.189   35.804   10.58  3.753  \n15354  1042.247   621.649   303.384   110.328   37.725  10.394    3.1  \n15355  1109.278   645.725   338.814    110.55   38.684  10.222  2.566  \n15356  1175.833   669.611   373.829   112.253   37.784   9.262   2.13  \n...         ...       ...       ...       ...      ...     ...    ...  \n15418  2610.862  3305.279  1956.839  1193.978  390.889  54.868  7.501  \n15419  2732.035  2968.932  2206.888  1119.858  467.886  70.768  7.573  \n15420  2951.991  2596.984  2454.619  1041.382  526.581  85.972  7.699  \n15421   3208.37   2326.63  2587.982  1017.348  554.212  94.056  8.014  \n15422  3467.843  2222.135   2565.34  1070.686  546.478  91.202   8.62  \n\n[71 rows x 22 columns]",
      "text/html": "<div>\n<style scoped>\n    .dataframe tbody tr th:only-of-type {\n        vertical-align: middle;\n    }\n\n    .dataframe tbody tr th {\n        vertical-align: top;\n    }\n\n    .dataframe thead th {\n        text-align: right;\n    }\n</style>\n<table border=\"1\" class=\"dataframe\">\n  <thead>\n    <tr style=\"text-align: right;\">\n      <th></th>\n      <th>year</th>\n      <th>0-4</th>\n      <th>5-9</th>\n      <th>10-14</th>\n      <th>15-19</th>\n      <th>20-24</th>\n      <th>25-29</th>\n      <th>30-34</th>\n      <th>35-39</th>\n      <th>40-44</th>\n      <th>...</th>\n      <th>55-59</th>\n      <th>60-64</th>\n      <th>65-69</th>\n      <th>70-74</th>\n      <th>75-79</th>\n      <th>80-84</th>\n      <th>85-89</th>\n      <th>90-94</th>\n      <th>95-99</th>\n      <th>100+</th>\n    </tr>\n  </thead>\n  <tbody>\n    <tr>\n      <th>15352</th>\n      <td>1950</td>\n      <td>5457.85</td>\n      <td>3448.536</td>\n      <td>6255.687</td>\n      <td>5169.042</td>\n      <td>6403.152</td>\n      <td>4814.104</td>\n      <td>3695.944</td>\n      <td>4673.846</td>\n      <td>4166.71</td>\n      <td>...</td>\n      <td>2306.667</td>\n      <td>1928.282</td>\n      <td>1470.258</td>\n      <td>940.708</td>\n      <td>561.084</td>\n      <td>254.333</td>\n      <td>103.803</td>\n      <td>33.562</td>\n      <td>11.574</td>\n      <td>4.585</td>\n    </tr>\n    <tr>\n      <th>15353</th>\n      <td>1951</td>\n      <td>6226.909</td>\n      <td>3210.204</td>\n      <td>5883.537</td>\n      <td>5229.66</td>\n      <td>6232.092</td>\n      <td>5131.915</td>\n      <td>3694.042</td>\n      <td>4493.127</td>\n      <td>4254.584</td>\n      <td>...</td>\n      <td>2354.466</td>\n      <td>1956.954</td>\n      <td>1516.508</td>\n      <td>982.87</td>\n      <td>592.199</td>\n      <td>274.106</td>\n      <td>108.189</td>\n      <td>35.804</td>\n      <td>10.58</td>\n      <td>3.753</td>\n    </tr>\n    <tr>\n      <th>15354</th>\n      <td>1952</td>\n      <td>6379.796</td>\n      <td>3377.305</td>\n      <td>5276.934</td>\n      <td>5592.452</td>\n      <td>5903.415</td>\n      <td>5541.075</td>\n      <td>3844.682</td>\n      <td>4243.621</td>\n      <td>4414.697</td>\n      <td>...</td>\n      <td>2432.48</td>\n      <td>2002.785</td>\n      <td>1575.588</td>\n      <td>1042.247</td>\n      <td>621.649</td>\n      <td>303.384</td>\n      <td>110.328</td>\n      <td>37.725</td>\n      <td>10.394</td>\n      <td>3.1</td>\n    </tr>\n    <tr>\n      <th>15355</th>\n      <td>1953</td>\n      <td>6341.065</td>\n      <td>3920.981</td>\n      <td>4488.445</td>\n      <td>6055.29</td>\n      <td>5483.523</td>\n      <td>5926.949</td>\n      <td>4092.658</td>\n      <td>3951.752</td>\n      <td>4567.535</td>\n      <td>...</td>\n      <td>2523.018</td>\n      <td>2051.806</td>\n      <td>1634.01</td>\n      <td>1109.278</td>\n      <td>645.725</td>\n      <td>338.814</td>\n      <td>110.55</td>\n      <td>38.684</td>\n      <td>10.222</td>\n      <td>2.566</td>\n    </tr>\n    <tr>\n      <th>15356</th>\n      <td>1954</td>\n      <td>6284.242</td>\n      <td>4649.835</td>\n      <td>3783.667</td>\n      <td>6337.255</td>\n      <td>5160.673</td>\n      <td>6169.647</td>\n      <td>4384.702</td>\n      <td>3717.117</td>\n      <td>4634.117</td>\n      <td>...</td>\n      <td>2623.942</td>\n      <td>2103.45</td>\n      <td>1687.353</td>\n      <td>1175.833</td>\n      <td>669.611</td>\n      <td>373.829</td>\n      <td>112.253</td>\n      <td>37.784</td>\n      <td>9.262</td>\n      <td>2.13</td>\n    </tr>\n    <tr>\n      <th>...</th>\n      <td>...</td>\n      <td>...</td>\n      <td>...</td>\n      <td>...</td>\n      <td>...</td>\n      <td>...</td>\n      <td>...</td>\n      <td>...</td>\n      <td>...</td>\n      <td>...</td>\n      <td>...</td>\n      <td>...</td>\n      <td>...</td>\n      <td>...</td>\n      <td>...</td>\n      <td>...</td>\n      <td>...</td>\n      <td>...</td>\n      <td>...</td>\n      <td>...</td>\n      <td>...</td>\n    </tr>\n    <tr>\n      <th>15418</th>\n      <td>2016</td>\n      <td>4609.39</td>\n      <td>4091.092</td>\n      <td>3538.651</td>\n      <td>3155.34</td>\n      <td>4044.295</td>\n      <td>5991.657</td>\n      <td>6135.456</td>\n      <td>5597.142</td>\n      <td>5239.258</td>\n      <td>...</td>\n      <td>6069.167</td>\n      <td>5654.38</td>\n      <td>4110.053</td>\n      <td>2610.862</td>\n      <td>3305.279</td>\n      <td>1956.839</td>\n      <td>1193.978</td>\n      <td>390.889</td>\n      <td>54.868</td>\n      <td>7.501</td>\n    </tr>\n    <tr>\n      <th>15419</th>\n      <td>2017</td>\n      <td>4635.612</td>\n      <td>4219.517</td>\n      <td>3646.66</td>\n      <td>3181.982</td>\n      <td>3759.868</td>\n      <td>5641.785</td>\n      <td>6260.061</td>\n      <td>5694.174</td>\n      <td>5303.95</td>\n      <td>...</td>\n      <td>6058.546</td>\n      <td>5751.27</td>\n      <td>4404.866</td>\n      <td>2732.035</td>\n      <td>2968.932</td>\n      <td>2206.888</td>\n      <td>1119.858</td>\n      <td>467.886</td>\n      <td>70.768</td>\n      <td>7.573</td>\n    </tr>\n    <tr>\n      <th>15420</th>\n      <td>2018</td>\n      <td>4616.383</td>\n      <td>4345.516</td>\n      <td>3754.045</td>\n      <td>3260.695</td>\n      <td>3529.042</td>\n      <td>5218.824</td>\n      <td>6356.147</td>\n      <td>5797.188</td>\n      <td>5349.684</td>\n      <td>...</td>\n      <td>6023.604</td>\n      <td>5803.256</td>\n      <td>4697.023</td>\n      <td>2951.991</td>\n      <td>2596.984</td>\n      <td>2454.619</td>\n      <td>1041.382</td>\n      <td>526.581</td>\n      <td>85.972</td>\n      <td>7.699</td>\n    </tr>\n    <tr>\n      <th>15421</th>\n      <td>2019</td>\n      <td>4570.444</td>\n      <td>4459.404</td>\n      <td>3866.509</td>\n      <td>3360.519</td>\n      <td>3355.361</td>\n      <td>4794.402</td>\n      <td>6362.169</td>\n      <td>5904.988</td>\n      <td>5402.179</td>\n      <td>...</td>\n      <td>5928.651</td>\n      <td>5831.635</td>\n      <td>4958.868</td>\n      <td>3208.37</td>\n      <td>2326.63</td>\n      <td>2587.982</td>\n      <td>1017.348</td>\n      <td>554.212</td>\n      <td>94.056</td>\n      <td>8.014</td>\n    </tr>\n    <tr>\n      <th>15422</th>\n      <td>2020</td>\n      <td>4508.865</td>\n      <td>4548.68</td>\n      <td>3988.159</td>\n      <td>3460.825</td>\n      <td>3240.763</td>\n      <td>4417.248</td>\n      <td>6243.12</td>\n      <td>6013.65</td>\n      <td>5476.691</td>\n      <td>...</td>\n      <td>5757.121</td>\n      <td>5848.341</td>\n      <td>5171.853</td>\n      <td>3467.843</td>\n      <td>2222.135</td>\n      <td>2565.34</td>\n      <td>1070.686</td>\n      <td>546.478</td>\n      <td>91.202</td>\n      <td>8.62</td>\n    </tr>\n  </tbody>\n</table>\n<p>71 rows × 22 columns</p>\n</div>"
     },
     "execution_count": 8,
     "metadata": {},
     "output_type": "execute_result"
    }
   ],
   "source": [
    "data_age_ru_fem = pd.read_excel('BY_AGE_FEMALE.xlsx')\n",
    "data_age_ru_fem = data_age_ru_fem[data_age_ru_fem['Unnamed: 2'] == \"Russian Federation\"].iloc[:, 7:]\n",
    "data_age_ru_fem.set_axis(names, axis=1, inplace=True)\n",
    "data_age_ru_fem"
   ],
   "metadata": {
    "collapsed": false,
    "pycharm": {
     "name": "#%%\n"
    }
   }
  },
  {
   "cell_type": "code",
   "execution_count": 9,
   "outputs": [
    {
     "data": {
      "text/plain": "       year       0-4       5-9     10-14     15-19     20-24     25-29  \\\n15352  1950  5650.418  3481.813  6408.176   4987.74  5746.885  3198.637   \n15353  1951  6459.676  3225.686  6015.724   5125.71  5736.554  3635.506   \n15354  1952  6625.708  3411.304  5387.323  5576.506  5536.892  4254.497   \n15355  1953  6586.108  3997.514   4562.46  6113.068  5208.331  4908.607   \n15356  1954   6522.42  4776.099  3822.466  6435.958  4957.914  5411.489   \n...     ...       ...       ...       ...       ...       ...       ...   \n15418  2016  4874.687  4296.897  3708.271  3301.447  4232.893  6130.511   \n15419  2017    4903.2  4436.391  3820.784  3326.602  3932.832  5786.843   \n15420  2018  4880.877  4575.502  3934.114  3408.919  3684.977  5371.682   \n15421  2019  4829.595  4702.459  4054.317   3514.51  3497.025  4952.556   \n15422  2020  4762.826  4802.236  4186.103   3620.95  3373.933  4575.841   \n\n          30-34     35-39     40-44  ...     55-59     60-64     65-69  \\\n15352  2375.565  2893.754  2551.109  ...  1270.298    997.47   735.016   \n15353   2355.77  2779.628   2618.26  ...  1271.491  1007.608   747.353   \n15354   2417.74  2647.027  2718.749  ...  1286.123    1033.9   765.706   \n15355  2554.789  2494.046  2802.214  ...  1302.506  1061.972   782.409   \n15356  2789.234  2366.321  2830.734  ...  1322.424  1084.666    797.35   \n...         ...       ...       ...  ...       ...       ...       ...   \n15418  6158.972  5384.655   4943.75  ...  4786.751  3982.436  2612.942   \n15419  6292.078  5503.825  4987.679  ...  4811.782  4064.966   2796.73   \n15420  6394.767  5638.061  5012.732  ...  4819.881  4126.891  2970.509   \n15421  6408.679  5776.911  5052.778  ...  4775.206  4178.726  3125.008   \n15422  6300.711  5911.074  5127.944  ...  4660.894  4225.282  3255.893   \n\n          70-74     75-79    80-84    85-89    90-94   95-99   100+  \n15352   448.947   248.065  100.278   36.531    11.49   3.808  1.454  \n15353   465.154   261.497  109.025   38.059   12.071   3.445  1.172  \n15354    489.26   273.851  121.724   38.531    12.56   3.392  0.951  \n15355   514.767   282.345  136.424   37.952   12.617   3.318  0.769  \n15356   537.121   288.825  149.881   37.632   11.837   2.916  0.619  \n...         ...       ...      ...      ...      ...     ...    ...  \n15418  1344.909  1417.826  735.843  346.609   75.607   6.356   0.64  \n15419  1452.222  1250.235  842.876  327.089   101.69   8.403  0.663  \n15420  1605.123  1076.892  933.765  305.741  121.579  10.572  0.691  \n15421   1767.78   964.092  962.876  301.779  129.259  11.757   0.73  \n15422  1922.538   937.202  920.439  318.953   121.86  11.041  0.787  \n\n[71 rows x 22 columns]",
      "text/html": "<div>\n<style scoped>\n    .dataframe tbody tr th:only-of-type {\n        vertical-align: middle;\n    }\n\n    .dataframe tbody tr th {\n        vertical-align: top;\n    }\n\n    .dataframe thead th {\n        text-align: right;\n    }\n</style>\n<table border=\"1\" class=\"dataframe\">\n  <thead>\n    <tr style=\"text-align: right;\">\n      <th></th>\n      <th>year</th>\n      <th>0-4</th>\n      <th>5-9</th>\n      <th>10-14</th>\n      <th>15-19</th>\n      <th>20-24</th>\n      <th>25-29</th>\n      <th>30-34</th>\n      <th>35-39</th>\n      <th>40-44</th>\n      <th>...</th>\n      <th>55-59</th>\n      <th>60-64</th>\n      <th>65-69</th>\n      <th>70-74</th>\n      <th>75-79</th>\n      <th>80-84</th>\n      <th>85-89</th>\n      <th>90-94</th>\n      <th>95-99</th>\n      <th>100+</th>\n    </tr>\n  </thead>\n  <tbody>\n    <tr>\n      <th>15352</th>\n      <td>1950</td>\n      <td>5650.418</td>\n      <td>3481.813</td>\n      <td>6408.176</td>\n      <td>4987.74</td>\n      <td>5746.885</td>\n      <td>3198.637</td>\n      <td>2375.565</td>\n      <td>2893.754</td>\n      <td>2551.109</td>\n      <td>...</td>\n      <td>1270.298</td>\n      <td>997.47</td>\n      <td>735.016</td>\n      <td>448.947</td>\n      <td>248.065</td>\n      <td>100.278</td>\n      <td>36.531</td>\n      <td>11.49</td>\n      <td>3.808</td>\n      <td>1.454</td>\n    </tr>\n    <tr>\n      <th>15353</th>\n      <td>1951</td>\n      <td>6459.676</td>\n      <td>3225.686</td>\n      <td>6015.724</td>\n      <td>5125.71</td>\n      <td>5736.554</td>\n      <td>3635.506</td>\n      <td>2355.77</td>\n      <td>2779.628</td>\n      <td>2618.26</td>\n      <td>...</td>\n      <td>1271.491</td>\n      <td>1007.608</td>\n      <td>747.353</td>\n      <td>465.154</td>\n      <td>261.497</td>\n      <td>109.025</td>\n      <td>38.059</td>\n      <td>12.071</td>\n      <td>3.445</td>\n      <td>1.172</td>\n    </tr>\n    <tr>\n      <th>15354</th>\n      <td>1952</td>\n      <td>6625.708</td>\n      <td>3411.304</td>\n      <td>5387.323</td>\n      <td>5576.506</td>\n      <td>5536.892</td>\n      <td>4254.497</td>\n      <td>2417.74</td>\n      <td>2647.027</td>\n      <td>2718.749</td>\n      <td>...</td>\n      <td>1286.123</td>\n      <td>1033.9</td>\n      <td>765.706</td>\n      <td>489.26</td>\n      <td>273.851</td>\n      <td>121.724</td>\n      <td>38.531</td>\n      <td>12.56</td>\n      <td>3.392</td>\n      <td>0.951</td>\n    </tr>\n    <tr>\n      <th>15355</th>\n      <td>1953</td>\n      <td>6586.108</td>\n      <td>3997.514</td>\n      <td>4562.46</td>\n      <td>6113.068</td>\n      <td>5208.331</td>\n      <td>4908.607</td>\n      <td>2554.789</td>\n      <td>2494.046</td>\n      <td>2802.214</td>\n      <td>...</td>\n      <td>1302.506</td>\n      <td>1061.972</td>\n      <td>782.409</td>\n      <td>514.767</td>\n      <td>282.345</td>\n      <td>136.424</td>\n      <td>37.952</td>\n      <td>12.617</td>\n      <td>3.318</td>\n      <td>0.769</td>\n    </tr>\n    <tr>\n      <th>15356</th>\n      <td>1954</td>\n      <td>6522.42</td>\n      <td>4776.099</td>\n      <td>3822.466</td>\n      <td>6435.958</td>\n      <td>4957.914</td>\n      <td>5411.489</td>\n      <td>2789.234</td>\n      <td>2366.321</td>\n      <td>2830.734</td>\n      <td>...</td>\n      <td>1322.424</td>\n      <td>1084.666</td>\n      <td>797.35</td>\n      <td>537.121</td>\n      <td>288.825</td>\n      <td>149.881</td>\n      <td>37.632</td>\n      <td>11.837</td>\n      <td>2.916</td>\n      <td>0.619</td>\n    </tr>\n    <tr>\n      <th>...</th>\n      <td>...</td>\n      <td>...</td>\n      <td>...</td>\n      <td>...</td>\n      <td>...</td>\n      <td>...</td>\n      <td>...</td>\n      <td>...</td>\n      <td>...</td>\n      <td>...</td>\n      <td>...</td>\n      <td>...</td>\n      <td>...</td>\n      <td>...</td>\n      <td>...</td>\n      <td>...</td>\n      <td>...</td>\n      <td>...</td>\n      <td>...</td>\n      <td>...</td>\n      <td>...</td>\n    </tr>\n    <tr>\n      <th>15418</th>\n      <td>2016</td>\n      <td>4874.687</td>\n      <td>4296.897</td>\n      <td>3708.271</td>\n      <td>3301.447</td>\n      <td>4232.893</td>\n      <td>6130.511</td>\n      <td>6158.972</td>\n      <td>5384.655</td>\n      <td>4943.75</td>\n      <td>...</td>\n      <td>4786.751</td>\n      <td>3982.436</td>\n      <td>2612.942</td>\n      <td>1344.909</td>\n      <td>1417.826</td>\n      <td>735.843</td>\n      <td>346.609</td>\n      <td>75.607</td>\n      <td>6.356</td>\n      <td>0.64</td>\n    </tr>\n    <tr>\n      <th>15419</th>\n      <td>2017</td>\n      <td>4903.2</td>\n      <td>4436.391</td>\n      <td>3820.784</td>\n      <td>3326.602</td>\n      <td>3932.832</td>\n      <td>5786.843</td>\n      <td>6292.078</td>\n      <td>5503.825</td>\n      <td>4987.679</td>\n      <td>...</td>\n      <td>4811.782</td>\n      <td>4064.966</td>\n      <td>2796.73</td>\n      <td>1452.222</td>\n      <td>1250.235</td>\n      <td>842.876</td>\n      <td>327.089</td>\n      <td>101.69</td>\n      <td>8.403</td>\n      <td>0.663</td>\n    </tr>\n    <tr>\n      <th>15420</th>\n      <td>2018</td>\n      <td>4880.877</td>\n      <td>4575.502</td>\n      <td>3934.114</td>\n      <td>3408.919</td>\n      <td>3684.977</td>\n      <td>5371.682</td>\n      <td>6394.767</td>\n      <td>5638.061</td>\n      <td>5012.732</td>\n      <td>...</td>\n      <td>4819.881</td>\n      <td>4126.891</td>\n      <td>2970.509</td>\n      <td>1605.123</td>\n      <td>1076.892</td>\n      <td>933.765</td>\n      <td>305.741</td>\n      <td>121.579</td>\n      <td>10.572</td>\n      <td>0.691</td>\n    </tr>\n    <tr>\n      <th>15421</th>\n      <td>2019</td>\n      <td>4829.595</td>\n      <td>4702.459</td>\n      <td>4054.317</td>\n      <td>3514.51</td>\n      <td>3497.025</td>\n      <td>4952.556</td>\n      <td>6408.679</td>\n      <td>5776.911</td>\n      <td>5052.778</td>\n      <td>...</td>\n      <td>4775.206</td>\n      <td>4178.726</td>\n      <td>3125.008</td>\n      <td>1767.78</td>\n      <td>964.092</td>\n      <td>962.876</td>\n      <td>301.779</td>\n      <td>129.259</td>\n      <td>11.757</td>\n      <td>0.73</td>\n    </tr>\n    <tr>\n      <th>15422</th>\n      <td>2020</td>\n      <td>4762.826</td>\n      <td>4802.236</td>\n      <td>4186.103</td>\n      <td>3620.95</td>\n      <td>3373.933</td>\n      <td>4575.841</td>\n      <td>6300.711</td>\n      <td>5911.074</td>\n      <td>5127.944</td>\n      <td>...</td>\n      <td>4660.894</td>\n      <td>4225.282</td>\n      <td>3255.893</td>\n      <td>1922.538</td>\n      <td>937.202</td>\n      <td>920.439</td>\n      <td>318.953</td>\n      <td>121.86</td>\n      <td>11.041</td>\n      <td>0.787</td>\n    </tr>\n  </tbody>\n</table>\n<p>71 rows × 22 columns</p>\n</div>"
     },
     "execution_count": 9,
     "metadata": {},
     "output_type": "execute_result"
    }
   ],
   "source": [
    "data_age_ru_man = pd.read_excel('BY_AGE_MALE.xlsx')\n",
    "data_age_ru_man = data_age_ru_man[data_age_ru_man['Unnamed: 2'] == \"Russian Federation\"].iloc[:, 7:]\n",
    "data_age_ru_man.set_axis(names, axis=1, inplace=True)\n",
    "data_age_ru_man"
   ],
   "metadata": {
    "collapsed": false,
    "pycharm": {
     "name": "#%%\n"
    }
   }
  },
  {
   "cell_type": "markdown",
   "source": [
    "### Look into last5 years 2015-2020"
   ],
   "metadata": {
    "collapsed": false,
    "pycharm": {
     "name": "#%% md\n"
    }
   }
  },
  {
   "cell_type": "code",
   "execution_count": 10,
   "outputs": [
    {
     "data": {
      "text/plain": "        0-4       5-9     10-14     15-19     20-24     25-29     30-34  \\\n0  0.995256  1.153729  1.163847  1.079514  0.737322  0.719385  1.044236   \n\n      35-39     40-44     45-49  ...   55-59     60-64     65-69    70-74  \\\n0  1.118019  1.054703  1.127253  ...  0.9777  1.091526  1.341407  1.46371   \n\n      75-79    80-84     85-89     90-94     95-99      100+  \n0  0.616196  1.40758  0.921595  2.462166  1.989011  1.279675  \n\n[1 rows x 21 columns]",
      "text/html": "<div>\n<style scoped>\n    .dataframe tbody tr th:only-of-type {\n        vertical-align: middle;\n    }\n\n    .dataframe tbody tr th {\n        vertical-align: top;\n    }\n\n    .dataframe thead th {\n        text-align: right;\n    }\n</style>\n<table border=\"1\" class=\"dataframe\">\n  <thead>\n    <tr style=\"text-align: right;\">\n      <th></th>\n      <th>0-4</th>\n      <th>5-9</th>\n      <th>10-14</th>\n      <th>15-19</th>\n      <th>20-24</th>\n      <th>25-29</th>\n      <th>30-34</th>\n      <th>35-39</th>\n      <th>40-44</th>\n      <th>45-49</th>\n      <th>...</th>\n      <th>55-59</th>\n      <th>60-64</th>\n      <th>65-69</th>\n      <th>70-74</th>\n      <th>75-79</th>\n      <th>80-84</th>\n      <th>85-89</th>\n      <th>90-94</th>\n      <th>95-99</th>\n      <th>100+</th>\n    </tr>\n  </thead>\n  <tbody>\n    <tr>\n      <th>0</th>\n      <td>0.995256</td>\n      <td>1.153729</td>\n      <td>1.163847</td>\n      <td>1.079514</td>\n      <td>0.737322</td>\n      <td>0.719385</td>\n      <td>1.044236</td>\n      <td>1.118019</td>\n      <td>1.054703</td>\n      <td>1.127253</td>\n      <td>...</td>\n      <td>0.9777</td>\n      <td>1.091526</td>\n      <td>1.341407</td>\n      <td>1.46371</td>\n      <td>0.616196</td>\n      <td>1.40758</td>\n      <td>0.921595</td>\n      <td>2.462166</td>\n      <td>1.989011</td>\n      <td>1.279675</td>\n    </tr>\n  </tbody>\n</table>\n<p>1 rows × 21 columns</p>\n</div>"
     },
     "execution_count": 10,
     "metadata": {},
     "output_type": "execute_result"
    }
   ],
   "source": [
    "def survival_rate(start_previous, start_next):\n",
    "    return start_next/start_previous\n",
    "\n",
    "(data_age_ru_man[data_age_ru_man['year'] == 2020].iloc[:, 1:]).reset_index(drop=True) / (data_age_ru_man[data_age_ru_man['year'] == 2015].iloc[:, 1:]).reset_index(drop=True)"
   ],
   "metadata": {
    "collapsed": false,
    "pycharm": {
     "name": "#%%\n"
    }
   }
  },
  {
   "cell_type": "markdown",
   "source": [
    "### Fertility for 2020"
   ],
   "metadata": {
    "collapsed": false,
    "pycharm": {
     "name": "#%% md\n"
    }
   }
  },
  {
   "cell_type": "code",
   "execution_count": 24,
   "outputs": [
    {
     "data": {
      "text/plain": "array([1.8622732532183008], dtype=object)"
     },
     "execution_count": 24,
     "metadata": {},
     "output_type": "execute_result"
    }
   ],
   "source": [
    "data_age_ru[data_age_ru['year'] == 2020]['0-4'].values / np.mean([data_age_ru_fem[data_age_ru_fem['year'] == 2020]['20-24'].values, data_age_ru_fem[data_age_ru_fem['year'] == 2020]['25-29'].values, data_age_ru_fem[data_age_ru_fem['year'] == 2020]['30-34'].values, data_age_ru_fem[data_age_ru_fem['year'] == 2020]['35-39'].values])"
   ],
   "metadata": {
    "collapsed": false,
    "pycharm": {
     "name": "#%%\n"
    }
   }
  },
  {
   "cell_type": "code",
   "execution_count": 18,
   "outputs": [
    {
     "data": {
      "text/plain": "15422    4508.865\nName: 0-4, dtype: object"
     },
     "execution_count": 18,
     "metadata": {},
     "output_type": "execute_result"
    }
   ],
   "source": [
    "data_age_ru_fem[data_age_ru_fem['year'] == 2020]['0-4']"
   ],
   "metadata": {
    "collapsed": false,
    "pycharm": {
     "name": "#%%\n"
    }
   }
  },
  {
   "cell_type": "code",
   "execution_count": null,
   "outputs": [],
   "source": [],
   "metadata": {
    "collapsed": false,
    "pycharm": {
     "name": "#%%\n"
    }
   }
  }
 ],
 "metadata": {
  "kernelspec": {
   "display_name": "Python 3",
   "language": "python",
   "name": "python3"
  },
  "language_info": {
   "codemirror_mode": {
    "name": "ipython",
    "version": 2
   },
   "file_extension": ".py",
   "mimetype": "text/x-python",
   "name": "python",
   "nbconvert_exporter": "python",
   "pygments_lexer": "ipython2",
   "version": "2.7.6"
  }
 },
 "nbformat": 4,
 "nbformat_minor": 0
}