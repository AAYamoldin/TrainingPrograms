{
 "nbformat": 4,
 "nbformat_minor": 0,
 "metadata": {
  "kernelspec": {
   "display_name": "Python 3",
   "language": "python",
   "name": "python3"
  },
  "language_info": {
   "codemirror_mode": {
    "name": "ipython",
    "version": 3
   },
   "file_extension": ".py",
   "mimetype": "text/x-python",
   "name": "python",
   "nbconvert_exporter": "python",
   "pygments_lexer": "ipython3",
   "version": "3.8.5"
  },
  "colab": {
   "name": "Copy of HW1.ipynb",
   "provenance": []
  }
 },
 "cells": [
  {
   "cell_type": "markdown",
   "metadata": {
    "id": "TEEKQwtYDMUz"
   },
   "source": [
    "**SOFT DEADLINE:** `20.03.2022 23:59 msk` "
   ]
  },
  {
   "cell_type": "markdown",
   "metadata": {
    "id": "g-IAo9sYDMU-"
   },
   "source": [
    "# [5 points] Part 1. Data cleaning"
   ]
  },
  {
   "cell_type": "markdown",
   "metadata": {
    "id": "-SNyjuGjDMU_"
   },
   "source": [
    "The task is to clear the text data of the crawled web-pages from different sites. \n",
    "\n",
    "It is necessary to ensure that the distribution of the 100 most frequent words includes only meaningful words in english language (not particles, conjunctions, prepositions, numbers, tags, symbols)."
   ]
  },
  {
   "cell_type": "markdown",
   "metadata": {
    "id": "TA4VkGl2DMVB"
   },
   "source": [
    "Determine the order of operations below and carry out the appropriate cleaning.\n",
    "\n",
    "1. Remove non-english words\n",
    "1. Remove html-tags (try to do it with regular expression, or play with beautifulsoap library)\n",
    "1. Apply lemmatization / stemming\n",
    "1. Remove stop-words\n",
    "1. Additional processing - At your own initiative, if this helps to obtain a better distribution"
   ]
  },
  {
   "cell_type": "markdown",
   "metadata": {
    "id": "hjLsB9pdDMVC"
   },
   "source": [
    "#### Hints"
   ]
  },
  {
   "cell_type": "markdown",
   "metadata": {
    "id": "mk6ZLncvDMVD"
   },
   "source": [
    "1. To do text processing you may use nltk and re libraries\n",
    "1. and / or any other libraries on your choise"
   ]
  },
  {
   "cell_type": "markdown",
   "metadata": {
    "id": "KCbTa1OiDMVE"
   },
   "source": [
    "#### Data reading"
   ]
  },
  {
   "cell_type": "code",
   "execution_count": 44,
   "outputs": [],
   "source": [
    "import matplotlib.pyplot as plt\n",
    "import pandas as pd\n",
    "import nltk\n",
    "import re\n",
    "from nltk.tokenize import RegexpTokenizer\n",
    "from nltk.corpus import stopwords\n",
    "from nltk.stem import WordNetLemmatizer\n",
    "from nltk.tokenize import TreebankWordTokenizer, WhitespaceTokenizer"
   ],
   "metadata": {
    "collapsed": false,
    "pycharm": {
     "name": "#%%\n"
    }
   }
  },
  {
   "cell_type": "markdown",
   "metadata": {
    "id": "cXbG649IDMVG"
   },
   "source": [
    "The dataset for this part can be downloaded here: `https://drive.google.com/file/d/1wLwo83J-ikCCZY2RAoYx8NghaSaQ-lBA/view?usp=sharing`"
   ]
  },
  {
   "cell_type": "code",
   "metadata": {
    "id": "HN8UxSDkDMVH"
   },
   "source": [
    "data = pd.read_csv(\"./web_sites_data.csv\")"
   ],
   "execution_count": 14,
   "outputs": []
  },
  {
   "cell_type": "code",
   "execution_count": 3,
   "outputs": [
    {
     "data": {
      "text/plain": "0      <html>\\n<head profile=\"http://www.w3.org/2005/...\n1      <html>\\n<head profile=\"http://www.w3.org/2005/...\n2      <html>\\n<head profile=\"http://www.w3.org/2005/...\n3      <html>\\n<head profile=\"http://www.w3.org/2005/...\n4      <html>\\n<head profile=\"http://www.w3.org/2005/...\n                             ...                        \n995    <!DOCTYPE html>\\n\\n\\n<html onclick=\"window.num...\n996    <!DOCTYPE html>\\n\\n\\n<html onclick=\"window.num...\n997    <!DOCTYPE html>\\n\\n\\n<html onclick=\"window.num...\n998    <!DOCTYPE html>\\n\\n\\n<html onclick=\"window.num...\n999    <!DOCTYPE html>\\n\\n\\n<html onclick=\"window.num...\nName: text, Length: 1000, dtype: object"
     },
     "execution_count": 3,
     "metadata": {},
     "output_type": "execute_result"
    }
   ],
   "source": [
    "data['text'].head(1000)"
   ],
   "metadata": {
    "collapsed": false,
    "pycharm": {
     "name": "#%%\n"
    }
   }
  },
  {
   "cell_type": "code",
   "execution_count": 4,
   "outputs": [
    {
     "data": {
      "text/plain": "71699"
     },
     "execution_count": 4,
     "metadata": {},
     "output_type": "execute_result"
    }
   ],
   "source": [
    "data['text'].size"
   ],
   "metadata": {
    "collapsed": false,
    "pycharm": {
     "name": "#%%\n"
    }
   }
  },
  {
   "cell_type": "markdown",
   "metadata": {
    "id": "fGBTg9g4DMVJ"
   },
   "source": [
    "#### Data processing"
   ]
  },
  {
   "cell_type": "code",
   "metadata": {
    "id": "nbpM3QUwDMVK"
   },
   "source": [
    "english = []\n",
    "words = set(nltk.corpus.words.words())\n",
    "for sent in data['text']:\n",
    "    english.append([\" \".join(w for w in nltk.wordpunct_tokenize(sent)\n",
    "                             if w.lower() in words or not w.isalpha())]) #remove non english words\n",
    "del data"
   ],
   "execution_count": 15,
   "outputs": []
  },
  {
   "cell_type": "code",
   "execution_count": 16,
   "outputs": [
    {
     "data": {
      "text/plain": "                                                    text\n0      < > < head profile =\" :// . w3 . / 2005 / 10 /...\n1      < > < head profile =\" :// . w3 . / 2005 / 10 /...\n2      < > < head profile =\" :// . w3 . / 2005 / 10 /...\n3      < > < head profile =\" :// . w3 . / 2005 / 10 /...\n4      < > < head profile =\" :// . w3 . / 2005 / 10 /...\n...                                                  ...\n71694  <? version =\" 1 . 0 \" =\" - 8 \"?> <! PUBLIC \"-/...\n71695  <! PUBLIC \"-// W3C // 1 . 0 Transitional // EN...\n71696  <! PUBLIC \"-// W3C // 1 . 0 Transitional // EN...\n71697  <? version =\" 1 . 0 \" =\" - 8 \"?> <! PUBLIC \"-/...\n71698  <? version =\" 1 . 0 \" =\" - 8 \"?> <! PUBLIC \"-/...\n\n[71699 rows x 1 columns]",
      "text/html": "<div>\n<style scoped>\n    .dataframe tbody tr th:only-of-type {\n        vertical-align: middle;\n    }\n\n    .dataframe tbody tr th {\n        vertical-align: top;\n    }\n\n    .dataframe thead th {\n        text-align: right;\n    }\n</style>\n<table border=\"1\" class=\"dataframe\">\n  <thead>\n    <tr style=\"text-align: right;\">\n      <th></th>\n      <th>text</th>\n    </tr>\n  </thead>\n  <tbody>\n    <tr>\n      <th>0</th>\n      <td>&lt; &gt; &lt; head profile =\" :// . w3 . / 2005 / 10 /...</td>\n    </tr>\n    <tr>\n      <th>1</th>\n      <td>&lt; &gt; &lt; head profile =\" :// . w3 . / 2005 / 10 /...</td>\n    </tr>\n    <tr>\n      <th>2</th>\n      <td>&lt; &gt; &lt; head profile =\" :// . w3 . / 2005 / 10 /...</td>\n    </tr>\n    <tr>\n      <th>3</th>\n      <td>&lt; &gt; &lt; head profile =\" :// . w3 . / 2005 / 10 /...</td>\n    </tr>\n    <tr>\n      <th>4</th>\n      <td>&lt; &gt; &lt; head profile =\" :// . w3 . / 2005 / 10 /...</td>\n    </tr>\n    <tr>\n      <th>...</th>\n      <td>...</td>\n    </tr>\n    <tr>\n      <th>71694</th>\n      <td>&lt;? version =\" 1 . 0 \" =\" - 8 \"?&gt; &lt;! PUBLIC \"-/...</td>\n    </tr>\n    <tr>\n      <th>71695</th>\n      <td>&lt;! PUBLIC \"-// W3C // 1 . 0 Transitional // EN...</td>\n    </tr>\n    <tr>\n      <th>71696</th>\n      <td>&lt;! PUBLIC \"-// W3C // 1 . 0 Transitional // EN...</td>\n    </tr>\n    <tr>\n      <th>71697</th>\n      <td>&lt;? version =\" 1 . 0 \" =\" - 8 \"?&gt; &lt;! PUBLIC \"-/...</td>\n    </tr>\n    <tr>\n      <th>71698</th>\n      <td>&lt;? version =\" 1 . 0 \" =\" - 8 \"?&gt; &lt;! PUBLIC \"-/...</td>\n    </tr>\n  </tbody>\n</table>\n<p>71699 rows × 1 columns</p>\n</div>"
     },
     "execution_count": 16,
     "metadata": {},
     "output_type": "execute_result"
    }
   ],
   "source": [
    "data = pd.DataFrame(english, columns=['text'])\n",
    "data"
   ],
   "metadata": {
    "collapsed": false,
    "pycharm": {
     "name": "#%%\n"
    }
   }
  },
  {
   "cell_type": "code",
   "execution_count": 17,
   "outputs": [],
   "source": [
    "data.to_csv('raw_dataframe.csv', sep='\\t', encoding='utf-8')\n",
    "del data"
   ],
   "metadata": {
    "collapsed": false,
    "pycharm": {
     "name": "#%%\n"
    }
   }
  },
  {
   "cell_type": "code",
   "metadata": {
    "id": "H59-VAGmDMVM"
   },
   "source": [
    "english[0]"
   ],
   "execution_count": 20,
   "outputs": [
    {
     "data": {
      "text/plain": "['< > < head profile =\" :// . w3 . / 2005 / 10 / profile \"> < LINK REL =\" ICON \" =\" :// i . . / . \"> < link rel =\" icon \" type =\" image / \" =\" :// i . . / . \"> < title > Eric : Love and War in the </ title > < meta - =\" Content - Type \" content =\" text / \"> </ head > < body =\"# \" =\" 0 \" =\" 0 \" =\" 0 \" =\" 0 \" text =\"# 000000 \" link =\"# 0000FF \" =\"# 0000FF \" =\"# FF0000 \" > < face =\" , sans - serif \">< font face =\" , sans - serif \"> < table width =\" 100 %\" height =\" 70 \" border =\" 0 \" =\" 0 \" =\" 0 \"> < >< form action =\"/ search \" method =\" get \"> < width =\" 283 \" =\" 2 \" =\" 2 \" =\"# 689A9B \"> < a =\"/\"> < =\" :// i . . / / bookmooch_logo . gif \" width =\" 283 \" height =\" 66 \" border =\" 0 \" alt =\" \"></ a ></ > < width =\" 675 \" height =\" 38 \" =\" 9 \" align =\" right \" =\"# 689A9B \" =\"# 689A9B \"> < table border = 0 =\" 0 \" =\" 0 \">< > < width = 270 height = 18 =\" middle \" align =\" right \"> < INPUT TYPE =\" text \" NAME =\" w \" VALUE =\"\" SIZE =\" 20 \" =\" 100 \">& ;</ > < width = 67 height = 18 =\" middle \" align =\" right \">< input type =\" image \" BORDER =\" 0 \" title =\" search \" alt =\" search \" =\" :// i . . / / search_button . gif \" width =\" 67 \" height =\" 18 \" name =\" search \"></ > < height = 38 width = 37 >< =\" :// i . . / / spacer . gif \" width =\" 10 \" height =\" 1 \" alt =\"\"></ ></ > </ table > </ > < =\"# 689A9B \" width = 940 >< =\" :// i . . / / spacer . gif \" width =\" 1 \" height =\" 1 \" alt =\"\"></ > </ ></ form > < > < width =\" 193 \" height =\" 28 \" =\"# 689A9B \">< =\" :// i . . / / spacer . gif \" width =\" 193 \" height =\" 28 \" alt =\"\"></ > < =\"# FFFF99 \">< a =\"/\">< =\" :// i . . / / home . gif \" width =\" 85 \" height =\" 28 \" border =\" 0 \" alt =\" home \"></ a ></ > < =\"# 98D5DF \">< a =\"/ browse \">< =\" :// i . . / / browse_selected . gif \" width =\" 86 \" height =\" 28 \" border =\" 0 \" alt =\" browse \"></ a ></ > < =\" 2 \" =\"# 97D5DF \">< a =\"/ about /\">< =\" :// i . . / / about . gif \" width =\" 85 \" height =\" 28 \" border =\" 0 \" alt =\" about \"></ a ></ > < =\"# 8DD1D8 \">< a =\"/ join \">< =\" :// i . . / / join . gif \" width =\" 86 \" height =\" 28 \" border =\" 0 \" alt =\" join \"></ a ></ > < =\"# 92D3DD \">< a =\"/ login \">< =\" :// i . . / / login . gif \" width =\" 84 \" height =\" 28 \" border =\" 0 \" alt =\" login \"></ a ></ > < width =\" 38 \" height =\" 28 \" =\" 2 \" =\"# 689A9B \">< =\" :// i . . / / spacer . gif \" width =\" 38 \" height =\" 28 \" alt =\"\"></ >< =\"# 689A9B \" width =\" 100 %\">< =\" :// i . . / / spacer . gif \" width =\" 1 \" height =\" 1 \" alt =\"\"></ > </ > < > < width =\" 940 \" height =\" 4 \" =\" 11 \" =\"# FFFF99 \"> < =\" :// i . . / / spacer . gif \" width =\" 940 \" height =\" 4 \" alt =\"\"></ >< =\"# FFFF99 \" width = 100 %>< =\" :// i . . / / spacer . gif \" width =\" 1 \" height =\" 1 \" alt =\"\"></ > </ > </ table > < table width =\" 100 %\" border =\" 0 \" =\" 0 \" =\" 0 \">< > < >< =\" :// i . . / / spacer . gif \" width =\" 1 \" height =\" 12 \" alt =\"\"></ >< ></ >< ></ ></ >< width = 12 >< =\" :// i . . / / spacer . gif \" width =\" 12 \" height =\" 1 \" alt =\"\"></ >< > < Table width = 891 = 0 = 0 border = 0 >< >< align =\" left \">< font face =\" , , utopia , sans - serif \" size = 4 color =\"# 1F4A58 \"> Eric : Love and War in the </ font ></ >< align =\" right \">< table id =\" button \" height =\" 18 \" border =\" 0 \" =\" 0 \" =\" 0 \"> < > < =\"# 6EB0B1 \"> < a =\" :// . . / index . ? title = Book + detail \" target =\" help \" title =\" help \">< border = 0 =\"# 6EB0B1 \" =\" :// i . . / / button_template_left . gif \" width =\" 5 \" height =\" 18 \" alt =\"\"></ a ></ > < =\" middle \" height =\" 18 \" =\"# 6EB0B1 \">< a target =\" help \" STYLE =\" text - decoration : none \" =\" :// . . / index . ? title = Book + detail \" title =\" help \">< font face =\" , , utopia , sans - serif \" size = 2 color =\"# \">< >?</ ></ font ></ a ></ > < =\"# 6EB0B1 \"> < a target =\" help \" =\" :// . . / index . ? title = Book + detail \" title =\" help \">< border = 0 =\"# 6EB0B1 \" =\" :// i . . / / button_template_right . gif \" width =\" 6 \" height =\" 18 \" alt =\"\"></ a ></ > </ > </ table ></ ></ ></ table >< =\" :// i . . / / spacer . gif \" width =\" 5 \" height =\" 5 \" alt =\"\">< >< =\" :// i . . / / . gif \" width =\" 891 \" height =\" 1 \" alt =\"\">< >< =\" :// i . . / / spacer . gif \" width =\" 1 \" height =\" 12 \" alt =\"\">< > < table border = 0 = 0 width = 1221 = 0 >< >< =\" top \"> < table border = 0 = 1 width = 891 = 0 >< > < =\" top \" align =\" left \"> < table border = 0 width = 100 % = 1 = 0 > < > < =\" top \" align =\" right \" =\" \"> Author :</ > < ></ > < =\" top \" =\" \">< a title =\" Search for this author \" for =\"/ s / eric + \"> Eric </ a > </ > </ > < > < =\" top \" width = 10 % align =\" right \" =\" \"> Title :</ > < >< =\" :// i . . / / spacer . gif \" width =\" 12 \" height =\" 1 \" alt =\"\"></ > < =\" top \" width = 90 % =\" \">< a title =\" Search for this title \" =\"/ s / love + and + war + in + the + \"> Love and War in the </ a ></ > </ > < > < =\" top \" align =\" right \" =\" \"> & ; :</ > < ></ > < =\" top \" =\" \"> No available </ > </ > < > < =\" top \" align =\" right \" =\" \"> & ; :</ > < ></ >< form action =\"/ recommended_get \" method =\" get \" name =\" form31 \">< input type =\" hidden \" name =\" go \" value =\" 0001049305 \"> < =\" top \" =\" \">< table = 0 = 0 border = 0 >< >< align =\" left \" =\" top \">< select size = 1 name =\" \">< option value =\" 0864426046 \"> A Short Walk in the </ option >< option value =\" 0864426313 \"> Slowly Down the </ option >< option value =\" 0864426216 \"> On the of the Mediterranean </ option >< option value =\" 0864427689 \"> The Last Grain Race </ option >< option value =\" 0864426275 \"> Round in Low Gear </ option ></ select ></ >< >< =\" :// i . . / / spacer . gif \" width =\" 5 \" height =\" 1 \" alt =\"\"></ >< align =\" left \" =\" top \">< table id =\" button \" height =\" 18 \" border =\" 0 \" =\" 0 \" =\" 0 \"> < > < =\"# 6EB0B1 \"> < a =\" : document . form31 . submit ();\" title =\"\">< border = 0 =\"# 6EB0B1 \" =\" :// i . . / / button_template_left . gif \" width =\" 5 \" height =\" 18 \" alt =\"\"></ a ></ > < =\" middle \" height =\" 18 \" =\"# 6EB0B1 \">< a STYLE =\" text - decoration : none \" =\" : document . form31 . submit ();\" title =\"\">< font face =\" , , utopia , sans - serif \" size = 1 color =\"# \">< >></ ></ font ></ a ></ > < =\"# 6EB0B1 \"> < a =\" : document . form31 . submit ();\" title =\"\">< border = 0 =\"# 6EB0B1 \" =\" :// i . . / / button_template_right . gif \" width =\" 6 \" height =\" 18 \" alt =\"\"></ a ></ > </ > </ table ></ ></ ></ table ></ ></ form > </ > < > < =\" top \" align =\" right \" =\" \"> :</ > < ></ > < form action =\"/ recommended_get \" method =\" get \" name =\" form3 \">< input type =\" hidden \" name =\" go \" value =\" 0001049305 \">< =\" top \" =\" \"> < table = 0 = 0 border = 0 >< >< align =\" left \" =\" top \">< select size = 1 name =\" \">< option value =\" BM1229593901148194047 \"> : Box of 25 </ option >< option value =\" more \">---</ option >< option value =\" more \"> Show more ...</ option ></ select ></ >< >< =\" :// i . . / / spacer . gif \" width =\" 5 \" height =\" 1 \" alt =\"\"></ >< align =\" left \" =\" top \">< table id =\" button \" height =\" 18 \" border =\" 0 \" =\" 0 \" =\" 0 \"> < > < =\"# 6EB0B1 \"> < a =\" : document . form3 . submit ();\" title =\"\">< border = 0 =\"# 6EB0B1 \" =\" :// i . . / / button_template_left . gif \" width =\" 5 \" height =\" 18 \" alt =\"\"></ a ></ > < =\" middle \" height =\" 18 \" =\"# 6EB0B1 \">< a STYLE =\" text - decoration : none \" =\" : document . form3 . submit ();\" title =\"\">< font face =\" , , utopia , sans - serif \" size = 1 color =\"# \">< >></ ></ font ></ a ></ > < =\"# 6EB0B1 \"> < a =\" : document . form3 . submit ();\" title =\"\">< border = 0 =\"# 6EB0B1 \" =\" :// i . . / / button_template_right . gif \" width =\" 6 \" height =\" 18 \" alt =\"\"></ a ></ > </ > </ table ></ ></ ></ table > </ ></ form > </ > < > < =\" top \" align =\" right \" =\" \"> :</ > < ></ >< form action =\"/ topic_go \" method =\" get \" name =\" form \"> < =\" top \" =\" \"> < table = 0 = 0 border = 0 >< >< align =\" left \" =\" top \">< select size = 1 name =\" name \">< option value =\" Abridged \"> Abridged </ option >< option value =\" Ancient \"> Ancient </ option >< option value =\" \"> </ option >< option value =\" \"> </ option >< option value =\" & \"> & </ option >< option value =\" & : General \"> & : General </ option >< option value =\" on \"> on </ option >< option value =\" Eastern Front \"> Eastern Front </ option >< option value =\" Edition ( format )\"> Edition ( format )</ option >< option value =\" \"> </ option >< option value =\" Florence \"> Florence </ option >< option value =\" & \"> & </ option >< option value =\" History \"> History </ option >< option value =\" History : : General \"> History : : General </ option >< option value =\" History : : : General \"> History : : : General </ option >< option value =\" Home Front \"> Home Front </ option >< option value =\" Intelligence \"> Intelligence </ option >< option value =\" \"> </ option >< option value =\" \"> </ option >< option value =\" Medieval \"> Medieval </ option >< option value =\" \"> </ option >< option value =\" Military \"> Military </ option >< option value =\" \"> </ option >< option value =\" Naval \"> Naval </ option >< option value =\" \"> </ option >< option value =\" Pearl Harbor \"> Pearl Harbor </ option >< option value =\" Personal \"> Personal </ option >< option value =\" Reference \"> Reference </ option >< option value =\" \"> </ option >< option value =\" Renaissance \"> Renaissance </ option >< option value =\" \"> </ option >< option value =\" \"> </ option >< option value =\" \"> </ option >< option value =\" \"> </ option >< option value =\" Travel \"> Travel </ option >< option value =\" Travel : : : General \"> Travel : : : General </ option >< option value =\" \"> </ option >< option value =\" \"> </ option >< option value =\" \"> </ option >< option value =\" Western Front \"> Western Front </ option >< option value =\" \"> </ option >< option value =\" World War \"> World War </ option >< option value =\" Writing \"> Writing </ option ></ select ></ >< >< =\" :// i . . / / spacer . gif \" width =\" 5 \" height =\" 1 \" alt =\"\"></ >< align =\" left \" =\" top \">< table id =\" button \" height =\" 18 \" border =\" 0 \" =\" 0 \" =\" 0 \"> < > < =\"# 6EB0B1 \"> < a =\" : document . form . submit ();\" title =\"\">< border = 0 =\"# 6EB0B1 \" =\" :// i . . / / button_template_left . gif \" width =\" 5 \" height =\" 18 \" alt =\"\"></ a ></ > < =\" middle \" height =\" 18 \" =\"# 6EB0B1 \">< a STYLE =\" text - decoration : none \" =\" : document . form . submit ();\" title =\"\">< font face =\" , , utopia , sans - serif \" size = 1 color =\"# \">< >></ ></ font ></ a ></ > < =\"# 6EB0B1 \"> < a =\" : document . form . submit ();\" title =\"\">< border = 0 =\"# 6EB0B1 \" =\" :// i . . / / button_template_right . gif \" width =\" 6 \" height =\" 18 \" alt =\"\"></ a ></ > </ > </ table ></ ></ ></ table > </ ></ form > </ > < > < =\" top \" align =\" right \" =\" \"> & ; in :</ > < ></ > < =\" top \" =\" \"> </ > </ > < > < =\" top \" align =\" right \" =\" \"> Binding :</ > < ></ > < =\" top \" =\" \"> Audio </ > </ > < > < =\" top \" align =\" right \" =\" \"> :</ > < ></ > < =\" \"></ > </ > < > < =\" top \" align =\" right \" =\" \"> Date :</ > < ></ > < =\" top \" =\" \"> 1995 - 10 - 23 </ > </ > < > < =\" top \" align =\" right \" =\" \"> :</ > < ></ > < =\" top \" =\" \"> 0001049305 </ > </ > < > < =\" top \" align =\" right \" =\" \"> Publisher :</ > < ></ > < =\" top \" =\" \">< a title =\" Search for this publisher \" =\"/ s / + Audio \"> Audio </ a ></ > </ > < > < =\" top \" align =\" right \" =\" \"> Weight :</ > < ></ > < =\" top \" =\" \"> 0 . 49 </ > </ > < > < =\" top \" align =\" right \" =\" \"> Size :</ > < ></ > < =\" top \" =\" \"> 4 . 17 x 5 . 28 x 0 . 71 </ > </ > < > < =\" top \" align =\" right \" =\" \"> Edition :</ > < ></ > < =\" top \" =\" \"> Abridged </ > </ > < =\" top \" align =\" right \" =\" \"> & ; :</ > < ></ > < =\" top \" =\" \">< table = = 1 = 0 >< >< >< table = = 3 = 0 >< >< > < table = = 0 = 0 > </ table > </ ></ ></ table ></ ></ ></ table > < font size = 1 ></ font ></ > < > < =\" top \" align =\" right \" =\" \"> Previous & ; :</ > < ></ > < =\" top \" =\" \"> 1 < a =\"/ / \"> ( : OH )</ a ></ > </ > < > < =\" top \" align =\" right \" =\" \"> Previous & ; :</ > < ></ > < =\" top \" =\" \"> 1 < a =\"/ / markwp27 \"> will2 - for ( : CA )</ a ></ > </ > < > < =\" top \" align =\" right \" =\" \"> :</ > < ></ > < =\" top \" =\" \">< table = 0 = 0 border = 0 >< >< align =\" left \" =\" top \"> 1 </ >< >< =\" :// i . . / / spacer . gif \" width =\" 5 \" height =\" 1 \" alt =\"\"></ >< align =\" left \" =\" top \">< a title =\" view this member \\' s \" =\"/ / doobs54 \"> Deb ( )</ a >.</ ></ ></ table > </ > </ > < > < =\" top \" align =\" right \" =\" \"> Description :</ > < ></ > < =\" top \" =\" \">< i > Book Description </ I >< > When made peace in the summer of \\' 43 , 50 , 000 Allied , Eric among them , away from their prison . But was by the , and the were behind those . went to the where , with the help of , he the retreating enemy . < P > sheltered him for more than three . In this classic memoir of , these selfless people . . . their unchanging , the funny , bizarre and dangerous , his of the local girl who later his wife . < P >\" An exciting story , superbly told .\" ( Punch ) < P > Of related interest : by Hood and to Freedom by S . , both available from B - O - T . </ > </ > < > < =\" top \" align =\" right \" =\" \"> :</ > < ></ > < =\" top \" =\" \">< a title =\" Link to this book \" =\" :// . / 0001049305 \"> :// . / 0001049305 </ a ></ > </ > </ table ></ >< =\" top \" align =\" right \"> < a target =\" \" =\" this . T_WIDTH =\\'\\'; return escape (\\'< =\\\\\\' :// . . / / P / 0001049305 . 01 . _BO1 , 130 , 130 , 130_PC_SCLZZZZZZZ_ . \\\\\\' height =\\\\\\'\\\\\\' width =\\\\\\'\\\\\\'>\\')\" =\" :// . - . / / I / 51CXMAZHTZL . _SL500_ . \" title =\" large book cover \">< alt =\" large book cover \" border = 0 height = 87 width = 70 =\" :// . . / / P / 0001049305 . 01 . _BO1 , 130 , 130 , 130_PC_SCTZZZZZZZ_ . \" align =\" none \"></ a >< p > < p > < table id =\" button \" height =\" 18 \" border =\" 0 \" =\" 0 \" =\" 0 \"> < > < =\"# 6EB0B1 \"> < a =\"/ m / wishlist_add ? = 0001049305 & store = . \" title =\" add this book to the list of you want right away \">< border = 0 =\"# 6EB0B1 \" =\" :// i . . / / button_template_left . gif \" width =\" 5 \" height =\" 18 \" alt =\"\"></ a ></ > < =\" middle \" height =\" 18 \" =\"# 6EB0B1 \">< a STYLE =\" text - decoration : none \" =\"/ m / wishlist_add ? = 0001049305 & store = . \" title =\" add this book to the list of you want right away \">< font face =\" , , utopia , sans - serif \" size = 2 color =\"# \">< > & ; ADD & ;></ ></ font ></ a ></ > < =\"# 6EB0B1 \"> < a =\"/ m / wishlist_add ? = 0001049305 & store = . \" title =\" add this book to the list of you want right away \">< border = 0 =\"# 6EB0B1 \" =\" :// i . . / / button_template_right . gif \" width =\" 6 \" height =\" 18 \" alt =\"\"></ a ></ > </ > </ table >< =\" :// i . . / / spacer . gif \" width =\" 1 \" height =\" 2 \" alt =\"\">< > < table id =\" button \" height =\" 18 \" border =\" 0 \" =\" 0 \" =\" 0 \"> < > < =\"# 6EB0B1 \"> < a =\"/ m / savelater_add ? = 0001049305 & store = . \" title =\" add this book to those you may someday want \">< border = 0 =\"# 6EB0B1 \" =\" :// i . . / / button_template_left . gif \" width =\" 5 \" height =\" 18 \" alt =\"\"></ a ></ > < =\" middle \" height =\" 18 \" =\"# 6EB0B1 \">< a STYLE =\" text - decoration : none \" =\"/ m / savelater_add ? = 0001049305 & store = . \" title =\" add this book to those you may someday want \">< font face =\" , , utopia , sans - serif \" size = 2 color =\"# \">< > SAVE & ; FOR & ; LATER & ;></ ></ font ></ a ></ > < =\"# 6EB0B1 \"> < a =\"/ m / savelater_add ? = 0001049305 & store = . \" title =\" add this book to those you may someday want \">< border = 0 =\"# 6EB0B1 \" =\" :// i . . / / button_template_right . gif \" width =\" 6 \" height =\" 18 \" alt =\"\"></ a ></ > </ > </ table >< =\" :// i . . / / spacer . gif \" width =\" 1 \" height =\" 2 \" alt =\"\">< > < table id =\" button \" height =\" 18 \" border =\" 0 \" =\" 0 \" =\" 0 \"> < > < =\"# 6EB0B1 \"> < a =\" :// . . it / / product / 0001049305 ? ie = UTF8 & tag = book05e - 21 & = bn1 \" target =\" - 0001049305 \" title =\" more about this book at ( a small commission goes to if you buy with this link )\">< border = 0 =\"# 6EB0B1 \" =\" :// i . . / / button_template_left . gif \" width =\" 5 \" height =\" 18 \" alt =\"\"></ a ></ > < =\" middle \" height =\" 18 \" =\"# 6EB0B1 \">< a target =\" - 0001049305 \" STYLE =\" text - decoration : none \" =\" :// . . it / / product / 0001049305 ? ie = UTF8 & tag = book05e - 21 & = bn1 \" title =\" more about this book at ( a small commission goes to if you buy with this link )\">< font face =\" , , utopia , sans - serif \" size = 2 color =\"# \">< > & ;></ ></ font ></ a ></ > < =\"# 6EB0B1 \"> < a target =\" - 0001049305 \" =\" :// . . it / / product / 0001049305 ? ie = UTF8 & tag = book05e - 21 & = bn1 \" title =\" more about this book at ( a small commission goes to if you buy with this link )\">< border = 0 =\"# 6EB0B1 \" =\" :// i . . / / button_template_right . gif \" width =\" 6 \" height =\" 18 \" alt =\"\"></ a ></ > </ > </ table >< =\" :// i . . / / spacer . gif \" width =\" 1 \" height =\" 2 \" alt =\"\">< > < table id =\" button \" height =\" 18 \" border =\" 0 \" =\" 0 \" =\" 0 \"> < > < =\"# 6EB0B1 \"> < a =\"/ book_sites ? = 0001049305 \" title =\" other web with information about this book \">< border = 0 =\"# 6EB0B1 \" =\" :// i . . / / button_template_left . gif \" width =\" 5 \" height =\" 18 \" alt =\"\"></ a ></ > < =\" middle \" height =\" 18 \" =\"# 6EB0B1 \">< a STYLE =\" text - decoration : none \" =\"/ book_sites ? = 0001049305 \" title =\" other web with information about this book \">< font face =\" , , utopia , sans - serif \" size = 2 color =\"# \">< > OTHER & ; WEB & ; & ;></ ></ font ></ a ></ > < =\"# 6EB0B1 \"> < a =\"/ book_sites ? = 0001049305 \" title =\" other web with information about this book \">< border = 0 =\"# 6EB0B1 \" =\" :// i . . / / button_template_right . gif \" width =\" 6 \" height =\" 18 \" alt =\"\"></ a ></ > </ > </ table >< =\" :// i . . / / spacer . gif \" width =\" 1 \" height =\" 2 \" alt =\"\">< > < table id =\" button \" height =\" 18 \" border =\" 0 \" =\" 0 \" =\" 0 \"> < > < =\"# 6EB0B1 \"> < a =\"/ related_show ? = 0001049305 \" title =\" show that are related to this one \">< border = 0 =\"# 6EB0B1 \" =\" :// i . . / / button_template_left . gif \" width =\" 5 \" height =\" 18 \" alt =\"\"></ a ></ > < =\" middle \" height =\" 18 \" =\"# 6EB0B1 \">< a STYLE =\" text - decoration : none \" =\"/ related_show ? = 0001049305 \" title =\" show that are related to this one \">< font face =\" , , utopia , sans - serif \" size = 2 color =\"# \">< > RELATED & ; & ;></ ></ font ></ a ></ > < =\"# 6EB0B1 \"> < a =\"/ related_show ? = 0001049305 \" title =\" show that are related to this one \">< border = 0 =\"# 6EB0B1 \" =\" :// i . . / / button_template_right . gif \" width =\" 6 \" height =\" 18 \" alt =\"\"></ a ></ > </ > </ table >< =\" :// i . . / / spacer . gif \" width =\" 1 \" height =\" 2 \" alt =\"\">< > < table id =\" button \" height =\" 18 \" border =\" 0 \" =\" 0 \" =\" 0 \"> < > < =\"# 6EB0B1 \"> < a =\"/ recommend ? = 0001049305 \" title =\" recommend this book to someone else \">< border = 0 =\"# 6EB0B1 \" =\" :// i . . / / button_template_left . gif \" width =\" 5 \" height =\" 18 \" alt =\"\"></ a ></ > < =\" middle \" height =\" 18 \" =\"# 6EB0B1 \">< a STYLE =\" text - decoration : none \" =\"/ recommend ? = 0001049305 \" title =\" recommend this book to someone else \">< font face =\" , , utopia , sans - serif \" size = 2 color =\"# \">< > RECOMMEND & ;></ ></ font ></ a ></ > < =\"# 6EB0B1 \"> < a =\"/ recommend ? = 0001049305 \" title =\" recommend this book to someone else \">< border = 0 =\"# 6EB0B1 \" =\" :// i . . / / button_template_right . gif \" width =\" 6 \" height =\" 18 \" alt =\"\"></ a ></ > </ > </ table >< =\" :// i . . / / spacer . gif \" width =\" 1 \" height =\" 2 \" alt =\"\">< > </ ></ ></ table > </ >< width = 10 >< =\" :// i . . / / spacer . gif \" width =\" 10 \" height =\" 1 \" alt =\"\"></ >< = =\" top \" width = 320 >< link rel =\" \" type =\" text / \" =\" :// cache . . / 582081819 / feed . \" />< script language =\" \" =\" :// cache . . / 582081819 / feed . \"></ script >< link rel =\" \" type =\" text / \" =\" :// cache . . / 990819385 / feed . \" />< script language =\" \" =\" :// cache . . / 990819385 / feed . \"></ script >< /></ ></ ></ table > </ >< >< =\" :// i . . / / spacer . gif \" width =\" 12 \" height =\" 12 \" alt =\"\"></ ></ >< >< ></ >< ></ ></ ></ table > < script language =\" \" type =\" text / \" =\" :// i . . / / wz_tooltip . \"></ script > </ body > </ >']"
     },
     "execution_count": 20,
     "metadata": {},
     "output_type": "execute_result"
    }
   ]
  },
  {
   "cell_type": "code",
   "execution_count": 22,
   "outputs": [],
   "source": [
    "# with open('raw_data.txt', 'w', encoding=\"utf-8\") as output:\n",
    "#     output.write(str(english))\n",
    "# english = open('./raw_data.txt', 'r', encoding='utf-8')\n",
    "# english = english.read()\n",
    "# from io import StringIO\n",
    "# from html.parser import HTMLParser\n",
    "#\n",
    "# class MLStripper(HTMLParser):\n",
    "#     def __init__(self):\n",
    "#         super().__init__()\n",
    "#         self.reset()\n",
    "#         self.strict = False\n",
    "#         self.convert_charrefs= True\n",
    "#         self.text = StringIO()\n",
    "#\n",
    "#     def handle_data(self, d):\n",
    "#         self.text.write(d)\n",
    "#     def get_data(self):\n",
    "#         return self.text.getvalue()\n",
    "#\n",
    "# def strip_tags(html):\n",
    "#     s = MLStripper()\n",
    "#     s.feed(html)\n",
    "#     return s.get_data()\n",
    "#\n",
    "# english = re.sub('<[^<]+?>', '', english)#remove tags"
   ],
   "metadata": {
    "collapsed": false,
    "pycharm": {
     "name": "#%%\n"
    }
   }
  },
  {
   "cell_type": "code",
   "execution_count": 19,
   "outputs": [],
   "source": [
    "# with open('remove_tags.txt', 'w', encoding=\"utf-8\") as output:\n",
    "#     output.write(str(english))"
   ],
   "metadata": {
    "collapsed": false,
    "pycharm": {
     "name": "#%%\n"
    }
   }
  },
  {
   "cell_type": "code",
   "execution_count": 13,
   "outputs": [],
   "source": [
    "# english = open('./remove_tags.txt', 'r', encoding='utf-8')\n",
    "# english = english.read()"
   ],
   "metadata": {
    "collapsed": false,
    "pycharm": {
     "name": "#%%\n"
    }
   }
  },
  {
   "cell_type": "code",
   "execution_count": 24,
   "outputs": [
    {
     "data": {
      "text/plain": "'[[\\'< > < head profile =\" :// . w3 . / 2005 / 10 / profile \"> < LINK REL =\" ICON \" =\" :// i . . / . \"'"
     },
     "execution_count": 24,
     "metadata": {},
     "output_type": "execute_result"
    }
   ],
   "source": [
    "# english[0:100]"
   ],
   "metadata": {
    "collapsed": false,
    "pycharm": {
     "name": "#%%\n"
    }
   }
  },
  {
   "cell_type": "code",
   "execution_count": 55,
   "outputs": [],
   "source": [
    "#Очистка текста\n",
    "import string\n",
    "stop_words = stopwords.words(\"english\")\n",
    "lemmatizer = WordNetLemmatizer()\n",
    "tokenizer = RegexpTokenizer(r'\\w+')\n",
    "remove_these = set(stopwords.words('english') + list(string.punctuation) + list(string.digits))#remove punctuation, stopwords, digits\n",
    "pattern = r'[0-9]'\n",
    "corpus = []\n",
    "for sent in english:\n",
    "    sent = re.sub(r\"[^\\w\\s]\", \"\", str(sent), re.UNICODE)\n",
    "    sent = re.sub('<[^<]+?>', '', sent)#remove tags\n",
    "# Match all digits in the string and replace them by empty string\n",
    "    sent = re.sub(pattern, '', sent)\n",
    "    sent = tokenizer.tokenize(sent.lower())\n",
    "    sent = [lemmatizer.lemmatize(token) for token in sent]\n",
    "    sent = [w for w in sent if not w in remove_these]\n",
    "    corpus.append(sent)"
   ],
   "metadata": {
    "collapsed": false,
    "pycharm": {
     "name": "#%%\n"
    }
   }
  },
  {
   "cell_type": "code",
   "execution_count": 56,
   "outputs": [
    {
     "data": {
      "text/plain": "[['head',\n  'profile',\n  'w',\n  'profile',\n  'link',\n  'rel',\n  'icon',\n  'eric',\n  'short',\n  'walk',\n  'eric',\n  'short',\n  'walk',\n  'author',\n  'eric',\n  'title',\n  'short',\n  'walk',\n  'available',\n  'world',\n  'dozen',\n  'bookseller',\n  'lovely',\n  'three',\n  'tea',\n  'one',\n  'man',\n  'mission',\n  'elegance',\n  'hedgehog',\n  'banner',\n  'heaven',\n  'story',\n  'pat',\n  'parker',\n  'feminism',\n  'smith',\n  'giraffe',\n  'longitude',\n  'true',\n  'story',\n  'lone',\n  'five',\n  'quarter',\n  'orange',\n  'show',\n  'education',\n  'reference',\n  'reference',\n  'travel',\n  'writing',\n  'binding',\n  'audio',\n  'date',\n  'publisher',\n  'audio',\n  'weight',\n  'size',\n  'x',\n  'x',\n  'edition',\n  'abridged',\n  'h',\n  'cej',\n  'description',\n  'product',\n  'description',\n  'eric',\n  'also',\n  'written',\n  'last',\n  'grain',\n  'race',\n  'slowly',\n  'love',\n  'war',\n  'mediterranean',\n  'review',\n  'decade',\n  'following',\n  'end',\n  'world',\n  'war',\n  'eric',\n  'toiled',\n  'away',\n  'fashion',\n  'industry',\n  'peddling',\n  'clothes',\n  'planet',\n  'regarding',\n  'one',\n  'wafer',\n  'thin',\n  'model',\n  'runway',\n  'best',\n  'wa',\n  'put',\n  'mall',\n  'queen',\n  'come',\n  'home',\n  'fortunately',\n  'end',\n  'tether',\n  'point',\n  'sort',\n  'sublime',\n  'impulsiveness',\n  'forbidden',\n  'fictional',\n  'endemic',\n  'real',\n  'decided',\n  'visit',\n  'remote',\n  'corner',\n  'least',\n  'adventure',\n  'classic',\n  'narrative',\n  'short',\n  'walk',\n  'title',\n  'course',\n  'fine',\n  'example',\n  'habitual',\n  'self',\n  'effacement',\n  'since',\n  'journey',\n  'included',\n  'near',\n  'ascent',\n  'foot',\n  'mir',\n  'wa',\n  'anything',\n  'short',\n  'book',\n  'furnish',\n  'missing',\n  'link',\n  'great',\n  'era',\n  'contemporary',\n  'jungle',\n  'time',\n  'also',\n  'mind',\n  'waugh',\n  'preface',\n  'le',\n  'acidulous',\n  'writer',\n  'sure',\n  'little',\n  'interest',\n  'sort',\n  'heat',\n  'seeking',\n  'satiric',\n  'waugh',\n  'specialty',\n  'still',\n  'short',\n  'walk',\n  'hilarious',\n  'read',\n  'author',\n  'snapshot',\n  'say',\n  'backwater',\n  'two',\n  'crisp',\n  'whole',\n  'gale',\n  'wind',\n  'wa',\n  'blowing',\n  'tearing',\n  'surface',\n  'main',\n  'street',\n  'except',\n  'two',\n  'holding',\n  'dog',\n  'whose',\n  'hind',\n  'wa',\n  'deserted',\n  'capsule',\n  'history',\n  'also',\n  'sly',\n  'dig',\n  'special',\n  'relationship',\n  'violence',\n  'prone',\n  'officially',\n  'subsidy',\n  'fully',\n  'selection',\n  'amir',\n  'apart',\n  'lord',\n  'like',\n  'people',\n  'alive',\n  'displeased',\n  'blowing',\n  'cannon',\n  'standing',\n  'neck',\n  'water',\n  'high',\n  'freeze',\n  'solid',\n  'done',\n  'nothing',\n  'exception',\n  'could',\n  'taken',\n  'also',\n  'waugh',\n  'indeed',\n  'travel',\n  'another',\n  'important',\n  'respect',\n  'miraculously',\n  'free',\n  'solipsism',\n  'even',\n  'literary',\n  'tend',\n  'sense',\n  'term',\n  'self',\n  'centered',\n  'short',\n  'walk',\n  'wonderfully',\n  'oblique',\n  'author',\n  'travel',\n  'companion',\n  'carless',\n  'wife',\n  'starring',\n  'role',\n  'subsequent',\n  'slowly',\n  'also',\n  'brilliant',\n  'cameo',\n  'indelible',\n  'record',\n  'stunning',\n  'landscape',\n  'roof',\n  'world',\n  'rendering',\n  'absolute',\n  'heaven',\n  'low',\n  'oxygen',\n  'hell',\n  'yet',\n  'author',\n  'never',\n  'pit',\n  'malicious',\n  'nature',\n  'frost',\n  'memorable',\n  'phrase',\n  'lofty',\n  'original',\n  'rage',\n  'yet',\n  'another',\n  'reason',\n  'call',\n  'little',\n  'masterpiece',\n  'peak',\n  'performance',\n  'target',\n  't_width',\n  'return',\n  'escape',\n  'vxpzk',\n  'bozl',\n  'title',\n  'large',\n  'book',\n  'cover',\n  'add',\n  'save',\n  'later',\n  'web',\n  'related',\n  'recommend']]"
     },
     "execution_count": 56,
     "metadata": {},
     "output_type": "execute_result"
    }
   ],
   "source": [
    "corpus[1:2]"
   ],
   "metadata": {
    "collapsed": false,
    "pycharm": {
     "name": "#%%\n"
    }
   }
  },
  {
   "cell_type": "code",
   "execution_count": 40,
   "outputs": [
    {
     "data": {
      "text/plain": "         0        1             2       3     4        5       6      \\\n0         head  profile            w3    2005    10  profile    link   \n1         head  profile            w3    2005    10  profile    link   \n2         head  profile            w3    2005    10  profile    link   \n3         head  profile            w3    2005    10  profile    link   \n4         head  profile            w3    2005    10  profile    link   \n...        ...      ...           ...     ...   ...      ...     ...   \n71694  version   public           w3c  strict    en       w3  xhtml1   \n71695   public      w3c  transitional      en    w3   xhtml1  xhtml1   \n71696   public      w3c  transitional      en    w3   xhtml1  xhtml1   \n71697  version   public           w3c  strict    en       w3  xhtml1   \n71698  version   public           w3c  strict    en       w3  xhtml1   \n\n              7       8         9      ... 12232 12233 12234 12235 12236  \\\n0               rel    icon      eric  ...  None  None  None  None  None   \n1               rel    icon      eric  ...  None  None  None  None  None   \n2               rel    icon    poetry  ...  None  None  None  None  None   \n3               rel    icon     uncle  ...  None  None  None  None  None   \n4               rel    icon  consider  ...  None  None  None  None  None   \n...             ...     ...       ...  ...   ...   ...   ...   ...   ...   \n71694        xhtml1  strict    donkey  ...  None  None  None  None  None   \n71695  transitional      w3      1999  ...  None  None  None  None  None   \n71696  transitional      w3      1999  ...  None  None  None  None  None   \n71697        xhtml1  strict    really  ...  None  None  None  None  None   \n71698        xhtml1  strict      star  ...  None  None  None  None  None   \n\n      12237 12238 12239 12240 12241  \n0      None  None  None  None  None  \n1      None  None  None  None  None  \n2      None  None  None  None  None  \n3      None  None  None  None  None  \n4      None  None  None  None  None  \n...     ...   ...   ...   ...   ...  \n71694  None  None  None  None  None  \n71695  None  None  None  None  None  \n71696  None  None  None  None  None  \n71697  None  None  None  None  None  \n71698  None  None  None  None  None  \n\n[71699 rows x 12242 columns]",
      "text/html": "<div>\n<style scoped>\n    .dataframe tbody tr th:only-of-type {\n        vertical-align: middle;\n    }\n\n    .dataframe tbody tr th {\n        vertical-align: top;\n    }\n\n    .dataframe thead th {\n        text-align: right;\n    }\n</style>\n<table border=\"1\" class=\"dataframe\">\n  <thead>\n    <tr style=\"text-align: right;\">\n      <th></th>\n      <th>0</th>\n      <th>1</th>\n      <th>2</th>\n      <th>3</th>\n      <th>4</th>\n      <th>5</th>\n      <th>6</th>\n      <th>7</th>\n      <th>8</th>\n      <th>9</th>\n      <th>...</th>\n      <th>12232</th>\n      <th>12233</th>\n      <th>12234</th>\n      <th>12235</th>\n      <th>12236</th>\n      <th>12237</th>\n      <th>12238</th>\n      <th>12239</th>\n      <th>12240</th>\n      <th>12241</th>\n    </tr>\n  </thead>\n  <tbody>\n    <tr>\n      <th>0</th>\n      <td>head</td>\n      <td>profile</td>\n      <td>w3</td>\n      <td>2005</td>\n      <td>10</td>\n      <td>profile</td>\n      <td>link</td>\n      <td>rel</td>\n      <td>icon</td>\n      <td>eric</td>\n      <td>...</td>\n      <td>None</td>\n      <td>None</td>\n      <td>None</td>\n      <td>None</td>\n      <td>None</td>\n      <td>None</td>\n      <td>None</td>\n      <td>None</td>\n      <td>None</td>\n      <td>None</td>\n    </tr>\n    <tr>\n      <th>1</th>\n      <td>head</td>\n      <td>profile</td>\n      <td>w3</td>\n      <td>2005</td>\n      <td>10</td>\n      <td>profile</td>\n      <td>link</td>\n      <td>rel</td>\n      <td>icon</td>\n      <td>eric</td>\n      <td>...</td>\n      <td>None</td>\n      <td>None</td>\n      <td>None</td>\n      <td>None</td>\n      <td>None</td>\n      <td>None</td>\n      <td>None</td>\n      <td>None</td>\n      <td>None</td>\n      <td>None</td>\n    </tr>\n    <tr>\n      <th>2</th>\n      <td>head</td>\n      <td>profile</td>\n      <td>w3</td>\n      <td>2005</td>\n      <td>10</td>\n      <td>profile</td>\n      <td>link</td>\n      <td>rel</td>\n      <td>icon</td>\n      <td>poetry</td>\n      <td>...</td>\n      <td>None</td>\n      <td>None</td>\n      <td>None</td>\n      <td>None</td>\n      <td>None</td>\n      <td>None</td>\n      <td>None</td>\n      <td>None</td>\n      <td>None</td>\n      <td>None</td>\n    </tr>\n    <tr>\n      <th>3</th>\n      <td>head</td>\n      <td>profile</td>\n      <td>w3</td>\n      <td>2005</td>\n      <td>10</td>\n      <td>profile</td>\n      <td>link</td>\n      <td>rel</td>\n      <td>icon</td>\n      <td>uncle</td>\n      <td>...</td>\n      <td>None</td>\n      <td>None</td>\n      <td>None</td>\n      <td>None</td>\n      <td>None</td>\n      <td>None</td>\n      <td>None</td>\n      <td>None</td>\n      <td>None</td>\n      <td>None</td>\n    </tr>\n    <tr>\n      <th>4</th>\n      <td>head</td>\n      <td>profile</td>\n      <td>w3</td>\n      <td>2005</td>\n      <td>10</td>\n      <td>profile</td>\n      <td>link</td>\n      <td>rel</td>\n      <td>icon</td>\n      <td>consider</td>\n      <td>...</td>\n      <td>None</td>\n      <td>None</td>\n      <td>None</td>\n      <td>None</td>\n      <td>None</td>\n      <td>None</td>\n      <td>None</td>\n      <td>None</td>\n      <td>None</td>\n      <td>None</td>\n    </tr>\n    <tr>\n      <th>...</th>\n      <td>...</td>\n      <td>...</td>\n      <td>...</td>\n      <td>...</td>\n      <td>...</td>\n      <td>...</td>\n      <td>...</td>\n      <td>...</td>\n      <td>...</td>\n      <td>...</td>\n      <td>...</td>\n      <td>...</td>\n      <td>...</td>\n      <td>...</td>\n      <td>...</td>\n      <td>...</td>\n      <td>...</td>\n      <td>...</td>\n      <td>...</td>\n      <td>...</td>\n      <td>...</td>\n    </tr>\n    <tr>\n      <th>71694</th>\n      <td>version</td>\n      <td>public</td>\n      <td>w3c</td>\n      <td>strict</td>\n      <td>en</td>\n      <td>w3</td>\n      <td>xhtml1</td>\n      <td>xhtml1</td>\n      <td>strict</td>\n      <td>donkey</td>\n      <td>...</td>\n      <td>None</td>\n      <td>None</td>\n      <td>None</td>\n      <td>None</td>\n      <td>None</td>\n      <td>None</td>\n      <td>None</td>\n      <td>None</td>\n      <td>None</td>\n      <td>None</td>\n    </tr>\n    <tr>\n      <th>71695</th>\n      <td>public</td>\n      <td>w3c</td>\n      <td>transitional</td>\n      <td>en</td>\n      <td>w3</td>\n      <td>xhtml1</td>\n      <td>xhtml1</td>\n      <td>transitional</td>\n      <td>w3</td>\n      <td>1999</td>\n      <td>...</td>\n      <td>None</td>\n      <td>None</td>\n      <td>None</td>\n      <td>None</td>\n      <td>None</td>\n      <td>None</td>\n      <td>None</td>\n      <td>None</td>\n      <td>None</td>\n      <td>None</td>\n    </tr>\n    <tr>\n      <th>71696</th>\n      <td>public</td>\n      <td>w3c</td>\n      <td>transitional</td>\n      <td>en</td>\n      <td>w3</td>\n      <td>xhtml1</td>\n      <td>xhtml1</td>\n      <td>transitional</td>\n      <td>w3</td>\n      <td>1999</td>\n      <td>...</td>\n      <td>None</td>\n      <td>None</td>\n      <td>None</td>\n      <td>None</td>\n      <td>None</td>\n      <td>None</td>\n      <td>None</td>\n      <td>None</td>\n      <td>None</td>\n      <td>None</td>\n    </tr>\n    <tr>\n      <th>71697</th>\n      <td>version</td>\n      <td>public</td>\n      <td>w3c</td>\n      <td>strict</td>\n      <td>en</td>\n      <td>w3</td>\n      <td>xhtml1</td>\n      <td>xhtml1</td>\n      <td>strict</td>\n      <td>really</td>\n      <td>...</td>\n      <td>None</td>\n      <td>None</td>\n      <td>None</td>\n      <td>None</td>\n      <td>None</td>\n      <td>None</td>\n      <td>None</td>\n      <td>None</td>\n      <td>None</td>\n      <td>None</td>\n    </tr>\n    <tr>\n      <th>71698</th>\n      <td>version</td>\n      <td>public</td>\n      <td>w3c</td>\n      <td>strict</td>\n      <td>en</td>\n      <td>w3</td>\n      <td>xhtml1</td>\n      <td>xhtml1</td>\n      <td>strict</td>\n      <td>star</td>\n      <td>...</td>\n      <td>None</td>\n      <td>None</td>\n      <td>None</td>\n      <td>None</td>\n      <td>None</td>\n      <td>None</td>\n      <td>None</td>\n      <td>None</td>\n      <td>None</td>\n      <td>None</td>\n    </tr>\n  </tbody>\n</table>\n<p>71699 rows × 12242 columns</p>\n</div>"
     },
     "execution_count": 40,
     "metadata": {},
     "output_type": "execute_result"
    }
   ],
   "source": [
    "data = pd.DataFrame(corpus)\n",
    "data.to_csv('clear_dataframe.csv', sep='\\t', encoding='utf-8')\n",
    "data"
   ],
   "metadata": {
    "collapsed": false,
    "pycharm": {
     "name": "#%%\n"
    }
   }
  },
  {
   "cell_type": "code",
   "execution_count": 41,
   "outputs": [],
   "source": [
    "del data"
   ],
   "metadata": {
    "collapsed": false,
    "pycharm": {
     "name": "#%%\n"
    }
   }
  },
  {
   "cell_type": "markdown",
   "metadata": {
    "id": "_h_c-1kBDMVN"
   },
   "source": [
    "#### Vizualization"
   ]
  },
  {
   "cell_type": "markdown",
   "metadata": {
    "id": "HTu83iAWDMVN"
   },
   "source": [
    "As a visualisation, it is necessary to construct a frequency distribution of words (the 100 most common words), sorted by frequency. \n",
    "\n",
    "For visualization purposes we advice you to use plotly, but you are free to choose other libraries"
   ]
  },
  {
   "cell_type": "code",
   "metadata": {
    "id": "bHX6IXcrDMVO"
   },
   "source": [
    "from nltk.probability import FreqDist\n",
    "data = []\n",
    "for sent in corpus:\n",
    "    for word in sent:\n",
    "        if len(word) > 2:\n",
    "            data.append(word)"
   ],
   "execution_count": 59,
   "outputs": []
  },
  {
   "cell_type": "code",
   "execution_count": 60,
   "outputs": [
    {
     "data": {
      "text/plain": "<Figure size 1080x720 with 1 Axes>",
      "image/png": "[encoded data removed]"
     },
     "metadata": {
      "needs_background": "light"
     },
     "output_type": "display_data"
    },
    {
     "data": {
      "text/plain": "<AxesSubplot:title={'center':'Frequency distribution for 100 most common tokens in our text collection (excluding stopwords and punctuation)'}, xlabel='Samples', ylabel='Counts'>"
     },
     "execution_count": 60,
     "metadata": {},
     "output_type": "execute_result"
    }
   ],
   "source": [
    "fdist = FreqDist(nltk.Text(data))\n",
    "plt.figure(figsize=(15, 10))\n",
    "fdist.plot(100,title='Frequency distribution for 100 most common tokens in our text collection (excluding stopwords and punctuation)')"
   ],
   "metadata": {
    "collapsed": false,
    "pycharm": {
     "name": "#%%\n"
    }
   }
  },
  {
   "cell_type": "code",
   "execution_count": 61,
   "outputs": [],
   "source": [
    "del data"
   ],
   "metadata": {
    "collapsed": false,
    "pycharm": {
     "name": "#%%\n"
    }
   }
  },
  {
   "cell_type": "markdown",
   "metadata": {
    "id": "5ZxcPfLTDMVO"
   },
   "source": [
    "#### Provide examples of processed text (some parts)\n",
    "\n",
    "Is everything all right with the result of cleaning these examples? What kind of information was lost?"
   ]
  },
  {
   "cell_type": "code",
   "metadata": {
    "id": "2BSMfa9lDMVP"
   },
   "source": [],
   "execution_count": null,
   "outputs": []
  },
  {
   "cell_type": "code",
   "metadata": {
    "id": "0xn6XK7UDMVP"
   },
   "source": [],
   "execution_count": null,
   "outputs": []
  },
  {
   "cell_type": "markdown",
   "metadata": {
    "id": "IlSeYg4sDMVQ"
   },
   "source": [
    "# [10 points] Part 2. Duplicates detection. LSH"
   ]
  },
  {
   "cell_type": "markdown",
   "metadata": {
    "id": "ZuMBHSiDDMVR"
   },
   "source": [
    "#### Libraries you can use\n",
    "\n",
    "1. LSH - https://github.com/ekzhu/datasketch\n",
    "1. LSH - https://github.com/mattilyra/LSH\n",
    "1. Any other library on your choise"
   ]
  },
  {
   "cell_type": "markdown",
   "metadata": {
    "id": "uff5aBpgDMVR"
   },
   "source": [
    "1. Detect duplicated text (duplicates do not imply a complete word-to-word match, but texts that may contain a paraphrase, rearrangement of words, sentences)\n",
    "1. Make a plot dependency of duplicates on shingle size (with fixed minhash length) \n",
    "1. Make a plot dependency of duplicates on minhash length (with fixed shingle size)"
   ]
  },
  {
   "cell_type": "code",
   "metadata": {
    "id": "QOFZ7AvyDMVS"
   },
   "source": [
    "from datasketch import MinHash, MinHashLSH"
   ],
   "execution_count": 67,
   "outputs": []
  },
  {
   "cell_type": "code",
   "execution_count": 72,
   "outputs": [
    {
     "name": "stdout",
     "output_type": "stream",
     "text": [
      "Approximate neighbours with Jaccard similarity > 0.5 []\n"
     ]
    }
   ],
   "source": [
    "c0 = MinHash(num_perm=128)\n",
    "c1 = MinHash(num_perm=128)\n",
    "c2 = MinHash(num_perm=128)\n",
    "for d in corpus[0]:\n",
    "    c0.update(d.encode('utf8'))\n",
    "for d in corpus[1]:\n",
    "    c1.update(d.encode('utf8'))\n",
    "for d in corpus[2]:\n",
    "    c2.update(d.encode('utf8'))\n",
    "lsh = MinHashLSH(threshold=0.5, num_perm=128)\n",
    "lsh.insert(\"c0\", c0)\n",
    "lsh.insert(\"c1\", c1)\n",
    "result = lsh.query(c2)\n",
    "print(\"Approximate neighbours with Jaccard similarity > 0.5\", result)"
   ],
   "metadata": {
    "collapsed": false,
    "pycharm": {
     "name": "#%%\n"
    }
   }
  },
  {
   "cell_type": "markdown",
   "metadata": {
    "id": "njdTa1daDMVS"
   },
   "source": [
    "# [Optional 10 points] Part 3. Topic model"
   ]
  },
  {
   "cell_type": "markdown",
   "metadata": {
    "id": "4BwJNkn2DMVT"
   },
   "source": [
    "In this part you will learn how to do topic modeling with common tools and assess the resulting quality of the models. "
   ]
  },
  {
   "cell_type": "code",
   "metadata": {
    "id": "l0WcLMhHDMVT"
   },
   "source": [
    ""
   ],
   "execution_count": null,
   "outputs": []
  },
  {
   "cell_type": "markdown",
   "metadata": {
    "id": "WkNFzxqPDMVU"
   },
   "source": [
    "The provided data contain chunked stories by Edgar Allan Poe (EAP), Mary Shelley (MWS), and HP Lovecraft (HPL).\n",
    "\n",
    "The dataset can be downloaded here: `https://drive.google.com/file/d/14tAjAzHr6UmFVFV7ABTyNHBh-dWHAaLH/view?usp=sharing`"
   ]
  },
  {
   "cell_type": "markdown",
   "metadata": {
    "id": "5BNIa1miDMVU"
   },
   "source": [
    "#### Preprocess dataset with the functions from the Part 1"
   ]
  },
  {
   "cell_type": "code",
   "metadata": {
    "id": "9B8PZNRyDMVV"
   },
   "source": [
    ""
   ],
   "execution_count": null,
   "outputs": []
  },
  {
   "cell_type": "markdown",
   "metadata": {
    "id": "qKU2D29CDMVV"
   },
   "source": [
    "#### Quality estimation"
   ]
  },
  {
   "cell_type": "markdown",
   "metadata": {
    "id": "l6xfd3vpDMVW"
   },
   "source": [
    "Implement the following three quality fuctions: `coherence` (or `tf-idf coherence`), `normalized PMI`, `based on the distributed word representation`(you can use pretrained w2v vectors or some other model). You are free to use any libraries (for instance gensim) and components."
   ]
  },
  {
   "cell_type": "code",
   "metadata": {
    "id": "AEtv-gWcDMVW"
   },
   "source": [
    ""
   ],
   "execution_count": null,
   "outputs": []
  },
  {
   "cell_type": "markdown",
   "metadata": {
    "id": "Kp1jTJmPDMVX"
   },
   "source": [
    "### Topic modeling"
   ]
  },
  {
   "cell_type": "markdown",
   "metadata": {
    "id": "lgbVtgphDMVX"
   },
   "source": [
    "Read and preprocess the dataset, divide it into train and test parts `sklearn.model_selection.train_test_split`. Test part will be used in classification part. For simplicity we do not perform cross-validation here, but you should remember about it."
   ]
  },
  {
   "cell_type": "code",
   "metadata": {
    "id": "_Uh0J_C8DMVY"
   },
   "source": [
    ""
   ],
   "execution_count": null,
   "outputs": []
  },
  {
   "cell_type": "markdown",
   "metadata": {
    "id": "rNepVz1wDMVY"
   },
   "source": [
    "Plot the histogram of resulting tokens counts in the processed datasets."
   ]
  },
  {
   "cell_type": "code",
   "metadata": {
    "id": "L_7JVEfbDMVZ"
   },
   "source": [
    ""
   ],
   "execution_count": null,
   "outputs": []
  },
  {
   "cell_type": "markdown",
   "metadata": {
    "id": "ulOjNL9vDMVZ"
   },
   "source": [
    "Plot the histogram of resulting tokens counts in the processed datasets."
   ]
  },
  {
   "cell_type": "code",
   "metadata": {
    "id": "HAse0LBvDMVa"
   },
   "source": [
    ""
   ],
   "execution_count": null,
   "outputs": []
  },
  {
   "cell_type": "markdown",
   "metadata": {
    "id": "4N86AaGNDMVa"
   },
   "source": [
    "#### NMF"
   ]
  },
  {
   "cell_type": "markdown",
   "metadata": {
    "id": "kPelcAFQDMVa"
   },
   "source": [
    "Implement topic modeling with NMF (you can use `sklearn.decomposition.NMF`) and print out resulting topics. Try to change hyperparameters to better fit the dataset."
   ]
  },
  {
   "cell_type": "code",
   "metadata": {
    "id": "DCPzCMMMDMVa"
   },
   "source": [
    ""
   ],
   "execution_count": null,
   "outputs": []
  },
  {
   "cell_type": "markdown",
   "metadata": {
    "id": "zuaKAGIWDMVb"
   },
   "source": [
    "#### LDA"
   ]
  },
  {
   "cell_type": "markdown",
   "metadata": {
    "id": "PAK_MfQxDMVb"
   },
   "source": [
    "Implement topic modeling with LDA (you can use gensim implementation) and print out resulting topics. Try to change hyperparameters to better fit the dataset."
   ]
  },
  {
   "cell_type": "code",
   "metadata": {
    "id": "fdzopuCJDMVb"
   },
   "source": [
    ""
   ],
   "execution_count": null,
   "outputs": []
  },
  {
   "cell_type": "markdown",
   "metadata": {
    "id": "vSF6fq0NDMVc"
   },
   "source": [
    "### Additive regularization of topic models "
   ]
  },
  {
   "cell_type": "markdown",
   "metadata": {
    "id": "tVcA4itQDMVc"
   },
   "source": [
    "Implement topic modeling with ARTM. You may use bigartm library (simple installation for linux: pip install bigartm) or TopicNet framework (`https://github.com/machine-intelligence-laboratory/TopicNet`)"
   ]
  },
  {
   "cell_type": "markdown",
   "metadata": {
    "id": "03xhr0PmDMVc"
   },
   "source": [
    "Create artm topic model fit it to the data. Try to change hyperparameters (number of specific and background topics) to better fit the dataset. Play with smoothing and sparsing coefficients (use grid), try to add decorrelator. Print out resulting topics."
   ]
  },
  {
   "cell_type": "code",
   "metadata": {
    "id": "tgv1qIUZDMVc"
   },
   "source": [
    ""
   ],
   "execution_count": null,
   "outputs": []
  },
  {
   "cell_type": "markdown",
   "metadata": {
    "id": "mteOYV8TDMVd"
   },
   "source": [
    "Write a function to convert new documents to topics probabilities vectors."
   ]
  },
  {
   "cell_type": "code",
   "metadata": {
    "id": "IGkD9YaxDMVd"
   },
   "source": [
    ""
   ],
   "execution_count": null,
   "outputs": []
  },
  {
   "cell_type": "markdown",
   "metadata": {
    "id": "SPrNOdMLDMVd"
   },
   "source": [
    "Calculate the quality scores for each model. Make a barplot to compare the quality."
   ]
  },
  {
   "cell_type": "code",
   "metadata": {
    "id": "hQadAQCXDMVd"
   },
   "source": [
    ""
   ],
   "execution_count": null,
   "outputs": []
  }
 ]
}