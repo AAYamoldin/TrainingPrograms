{
 "nbformat": 4,
 "nbformat_minor": 0,
 "metadata": {
  "kernelspec": {
   "display_name": "Python 3",
   "language": "python",
   "name": "python3"
  },
  "language_info": {
   "codemirror_mode": {
    "name": "ipython",
    "version": 3
   },
   "file_extension": ".py",
   "mimetype": "text/x-python",
   "name": "python",
   "nbconvert_exporter": "python",
   "pygments_lexer": "ipython3",
   "version": "3.8.5"
  },
  "colab": {
   "name": "Copy of HW1.ipynb",
   "provenance": []
  }
 },
 "cells": [
  {
   "cell_type": "markdown",
   "metadata": {
    "id": "TEEKQwtYDMUz"
   },
   "source": [
    "**SOFT DEADLINE:** `20.03.2022 23:59 msk` "
   ]
  },
  {
   "cell_type": "markdown",
   "metadata": {
    "id": "g-IAo9sYDMU-"
   },
   "source": [
    "# [5 points] Part 1. Data cleaning"
   ]
  },
  {
   "cell_type": "markdown",
   "metadata": {
    "id": "-SNyjuGjDMU_"
   },
   "source": [
    "The task is to clear the text data of the crawled web-pages from different sites. \n",
    "\n",
    "It is necessary to ensure that the distribution of the 100 most frequent words includes only meaningful words in english language (not particles, conjunctions, prepositions, numbers, tags, symbols)."
   ]
  },
  {
   "cell_type": "markdown",
   "metadata": {
    "id": "TA4VkGl2DMVB"
   },
   "source": [
    "Determine the order of operations below and carry out the appropriate cleaning.\n",
    "\n",
    "1. Remove non-english words\n",
    "1. Remove html-tags (try to do it with regular expression, or play with beautifulsoap library)\n",
    "1. Apply lemmatization / stemming\n",
    "1. Remove stop-words\n",
    "1. Additional processing - At your own initiative, if this helps to obtain a better distribution"
   ]
  },
  {
   "cell_type": "markdown",
   "metadata": {
    "id": "hjLsB9pdDMVC"
   },
   "source": [
    "#### Hints"
   ]
  },
  {
   "cell_type": "markdown",
   "metadata": {
    "id": "mk6ZLncvDMVD"
   },
   "source": [
    "1. To do text processing you may use nltk and re libraries\n",
    "1. and / or any other libraries on your choise"
   ]
  },
  {
   "cell_type": "markdown",
   "metadata": {
    "id": "KCbTa1OiDMVE"
   },
   "source": [
    "#### Data reading"
   ]
  },
  {
   "cell_type": "markdown",
   "source": [],
   "metadata": {
    "collapsed": false
   }
  },
  {
   "cell_type": "code",
   "execution_count": 1,
   "outputs": [],
   "source": [
    "import matplotlib.pyplot as plt\n",
    "import pandas as pd\n",
    "import nltk\n",
    "import re\n",
    "from nltk.tokenize import RegexpTokenizer\n",
    "from nltk.corpus import stopwords\n",
    "from nltk.stem import WordNetLemmatizer\n",
    "from nltk.tokenize import TreebankWordTokenizer, WhitespaceTokenizer"
   ],
   "metadata": {
    "collapsed": false,
    "pycharm": {
     "name": "#%%\n"
    }
   }
  },
  {
   "cell_type": "markdown",
   "metadata": {
    "id": "cXbG649IDMVG"
   },
   "source": [
    "The dataset for this part can be downloaded here: `https://drive.google.com/file/d/1wLwo83J-ikCCZY2RAoYx8NghaSaQ-lBA/view?usp=sharing`"
   ]
  },
  {
   "cell_type": "code",
   "metadata": {
    "id": "HN8UxSDkDMVH"
   },
   "source": [
    "data = pd.read_csv(\"./web_sites_data.csv\")"
   ],
   "execution_count": 2,
   "outputs": []
  },
  {
   "cell_type": "code",
   "execution_count": 4,
   "outputs": [
    {
     "data": {
      "text/plain": "0      <html>\\n<head profile=\"http://www.w3.org/2005/...\n1      <html>\\n<head profile=\"http://www.w3.org/2005/...\n2      <html>\\n<head profile=\"http://www.w3.org/2005/...\n3      <html>\\n<head profile=\"http://www.w3.org/2005/...\n4      <html>\\n<head profile=\"http://www.w3.org/2005/...\n                             ...                        \n995    <!DOCTYPE html>\\n\\n\\n<html onclick=\"window.num...\n996    <!DOCTYPE html>\\n\\n\\n<html onclick=\"window.num...\n997    <!DOCTYPE html>\\n\\n\\n<html onclick=\"window.num...\n998    <!DOCTYPE html>\\n\\n\\n<html onclick=\"window.num...\n999    <!DOCTYPE html>\\n\\n\\n<html onclick=\"window.num...\nName: text, Length: 1000, dtype: object"
     },
     "execution_count": 4,
     "metadata": {},
     "output_type": "execute_result"
    }
   ],
   "source": [
    "data['text'].head(1000)"
   ],
   "metadata": {
    "collapsed": false,
    "pycharm": {
     "name": "#%%\n"
    }
   }
  },
  {
   "cell_type": "code",
   "execution_count": 5,
   "outputs": [
    {
     "data": {
      "text/plain": "71699"
     },
     "execution_count": 5,
     "metadata": {},
     "output_type": "execute_result"
    }
   ],
   "source": [
    "data['text'].size"
   ],
   "metadata": {
    "collapsed": false,
    "pycharm": {
     "name": "#%%\n"
    }
   }
  },
  {
   "cell_type": "markdown",
   "metadata": {
    "id": "fGBTg9g4DMVJ"
   },
   "source": [
    "#### Data processing"
   ]
  },
  {
   "cell_type": "code",
   "metadata": {
    "id": "nbpM3QUwDMVK"
   },
   "source": [
    "english = []\n",
    "words = set(nltk.corpus.words.words())\n",
    "for sent in data['text']:\n",
    "    english.append([\" \".join(w for w in nltk.wordpunct_tokenize(sent)\n",
    "                             if w.lower() in words or not w.isalpha())]) #remove non english words\n",
    "del data"
   ],
   "execution_count": 3,
   "outputs": []
  },
  {
   "cell_type": "code",
   "execution_count": 7,
   "outputs": [
    {
     "data": {
      "text/plain": "                                                    text\n0      < > < head profile =\" :// . w3 . / 2005 / 10 /...\n1      < > < head profile =\" :// . w3 . / 2005 / 10 /...\n2      < > < head profile =\" :// . w3 . / 2005 / 10 /...\n3      < > < head profile =\" :// . w3 . / 2005 / 10 /...\n4      < > < head profile =\" :// . w3 . / 2005 / 10 /...\n...                                                  ...\n71694  <? version =\" 1 . 0 \" =\" - 8 \"?> <! PUBLIC \"-/...\n71695  <! PUBLIC \"-// W3C // 1 . 0 Transitional // EN...\n71696  <! PUBLIC \"-// W3C // 1 . 0 Transitional // EN...\n71697  <? version =\" 1 . 0 \" =\" - 8 \"?> <! PUBLIC \"-/...\n71698  <? version =\" 1 . 0 \" =\" - 8 \"?> <! PUBLIC \"-/...\n\n[71699 rows x 1 columns]",
      "text/html": "<div>\n<style scoped>\n    .dataframe tbody tr th:only-of-type {\n        vertical-align: middle;\n    }\n\n    .dataframe tbody tr th {\n        vertical-align: top;\n    }\n\n    .dataframe thead th {\n        text-align: right;\n    }\n</style>\n<table border=\"1\" class=\"dataframe\">\n  <thead>\n    <tr style=\"text-align: right;\">\n      <th></th>\n      <th>text</th>\n    </tr>\n  </thead>\n  <tbody>\n    <tr>\n      <th>0</th>\n      <td>&lt; &gt; &lt; head profile =\" :// . w3 . / 2005 / 10 /...</td>\n    </tr>\n    <tr>\n      <th>1</th>\n      <td>&lt; &gt; &lt; head profile =\" :// . w3 . / 2005 / 10 /...</td>\n    </tr>\n    <tr>\n      <th>2</th>\n      <td>&lt; &gt; &lt; head profile =\" :// . w3 . / 2005 / 10 /...</td>\n    </tr>\n    <tr>\n      <th>3</th>\n      <td>&lt; &gt; &lt; head profile =\" :// . w3 . / 2005 / 10 /...</td>\n    </tr>\n    <tr>\n      <th>4</th>\n      <td>&lt; &gt; &lt; head profile =\" :// . w3 . / 2005 / 10 /...</td>\n    </tr>\n    <tr>\n      <th>...</th>\n      <td>...</td>\n    </tr>\n    <tr>\n      <th>71694</th>\n      <td>&lt;? version =\" 1 . 0 \" =\" - 8 \"?&gt; &lt;! PUBLIC \"-/...</td>\n    </tr>\n    <tr>\n      <th>71695</th>\n      <td>&lt;! PUBLIC \"-// W3C // 1 . 0 Transitional // EN...</td>\n    </tr>\n    <tr>\n      <th>71696</th>\n      <td>&lt;! PUBLIC \"-// W3C // 1 . 0 Transitional // EN...</td>\n    </tr>\n    <tr>\n      <th>71697</th>\n      <td>&lt;? version =\" 1 . 0 \" =\" - 8 \"?&gt; &lt;! PUBLIC \"-/...</td>\n    </tr>\n    <tr>\n      <th>71698</th>\n      <td>&lt;? version =\" 1 . 0 \" =\" - 8 \"?&gt; &lt;! PUBLIC \"-/...</td>\n    </tr>\n  </tbody>\n</table>\n<p>71699 rows × 1 columns</p>\n</div>"
     },
     "execution_count": 7,
     "metadata": {},
     "output_type": "execute_result"
    }
   ],
   "source": [
    "# data = pd.DataFrame(english, columns=['text'])\n",
    "# data"
   ],
   "metadata": {
    "collapsed": false,
    "pycharm": {
     "name": "#%%\n"
    }
   }
  },
  {
   "cell_type": "code",
   "execution_count": 8,
   "outputs": [],
   "source": [
    "# data.to_csv('raw_dataframe.csv', sep='\\t', encoding='utf-8')\n",
    "# del data"
   ],
   "metadata": {
    "collapsed": false,
    "pycharm": {
     "name": "#%%\n"
    }
   }
  },
  {
   "cell_type": "code",
   "metadata": {
    "id": "H59-VAGmDMVM"
   },
   "source": [
    "# english[0]"
   ],
   "execution_count": 9,
   "outputs": [
    {
     "data": {
      "text/plain": "['< > < head profile =\" :// . w3 . / 2005 / 10 / profile \"> < LINK REL =\" ICON \" =\" :// i . . / . \"> < link rel =\" icon \" type =\" image / \" =\" :// i . . / . \"> < title > Eric : Love and War in the </ title > < meta - =\" Content - Type \" content =\" text / \"> </ head > < body =\"# \" =\" 0 \" =\" 0 \" =\" 0 \" =\" 0 \" text =\"# 000000 \" link =\"# 0000FF \" =\"# 0000FF \" =\"# FF0000 \" > < face =\" , sans - serif \">< font face =\" , sans - serif \"> < table width =\" 100 %\" height =\" 70 \" border =\" 0 \" =\" 0 \" =\" 0 \"> < >< form action =\"/ search \" method =\" get \"> < width =\" 283 \" =\" 2 \" =\" 2 \" =\"# 689A9B \"> < a =\"/\"> < =\" :// i . . / / bookmooch_logo . gif \" width =\" 283 \" height =\" 66 \" border =\" 0 \" alt =\" \"></ a ></ > < width =\" 675 \" height =\" 38 \" =\" 9 \" align =\" right \" =\"# 689A9B \" =\"# 689A9B \"> < table border = 0 =\" 0 \" =\" 0 \">< > < width = 270 height = 18 =\" middle \" align =\" right \"> < INPUT TYPE =\" text \" NAME =\" w \" VALUE =\"\" SIZE =\" 20 \" =\" 100 \">& ;</ > < width = 67 height = 18 =\" middle \" align =\" right \">< input type =\" image \" BORDER =\" 0 \" title =\" search \" alt =\" search \" =\" :// i . . / / search_button . gif \" width =\" 67 \" height =\" 18 \" name =\" search \"></ > < height = 38 width = 37 >< =\" :// i . . / / spacer . gif \" width =\" 10 \" height =\" 1 \" alt =\"\"></ ></ > </ table > </ > < =\"# 689A9B \" width = 940 >< =\" :// i . . / / spacer . gif \" width =\" 1 \" height =\" 1 \" alt =\"\"></ > </ ></ form > < > < width =\" 193 \" height =\" 28 \" =\"# 689A9B \">< =\" :// i . . / / spacer . gif \" width =\" 193 \" height =\" 28 \" alt =\"\"></ > < =\"# FFFF99 \">< a =\"/\">< =\" :// i . . / / home . gif \" width =\" 85 \" height =\" 28 \" border =\" 0 \" alt =\" home \"></ a ></ > < =\"# 98D5DF \">< a =\"/ browse \">< =\" :// i . . / / browse_selected . gif \" width =\" 86 \" height =\" 28 \" border =\" 0 \" alt =\" browse \"></ a ></ > < =\" 2 \" =\"# 97D5DF \">< a =\"/ about /\">< =\" :// i . . / / about . gif \" width =\" 85 \" height =\" 28 \" border =\" 0 \" alt =\" about \"></ a ></ > < =\"# 8DD1D8 \">< a =\"/ join \">< =\" :// i . . / / join . gif \" width =\" 86 \" height =\" 28 \" border =\" 0 \" alt =\" join \"></ a ></ > < =\"# 92D3DD \">< a =\"/ login \">< =\" :// i . . / / login . gif \" width =\" 84 \" height =\" 28 \" border =\" 0 \" alt =\" login \"></ a ></ > < width =\" 38 \" height =\" 28 \" =\" 2 \" =\"# 689A9B \">< =\" :// i . . / / spacer . gif \" width =\" 38 \" height =\" 28 \" alt =\"\"></ >< =\"# 689A9B \" width =\" 100 %\">< =\" :// i . . / / spacer . gif \" width =\" 1 \" height =\" 1 \" alt =\"\"></ > </ > < > < width =\" 940 \" height =\" 4 \" =\" 11 \" =\"# FFFF99 \"> < =\" :// i . . / / spacer . gif \" width =\" 940 \" height =\" 4 \" alt =\"\"></ >< =\"# FFFF99 \" width = 100 %>< =\" :// i . . / / spacer . gif \" width =\" 1 \" height =\" 1 \" alt =\"\"></ > </ > </ table > < table width =\" 100 %\" border =\" 0 \" =\" 0 \" =\" 0 \">< > < >< =\" :// i . . / / spacer . gif \" width =\" 1 \" height =\" 12 \" alt =\"\"></ >< ></ >< ></ ></ >< width = 12 >< =\" :// i . . / / spacer . gif \" width =\" 12 \" height =\" 1 \" alt =\"\"></ >< > < Table width = 891 = 0 = 0 border = 0 >< >< align =\" left \">< font face =\" , , utopia , sans - serif \" size = 4 color =\"# 1F4A58 \"> Eric : Love and War in the </ font ></ >< align =\" right \">< table id =\" button \" height =\" 18 \" border =\" 0 \" =\" 0 \" =\" 0 \"> < > < =\"# 6EB0B1 \"> < a =\" :// . . / index . ? title = Book + detail \" target =\" help \" title =\" help \">< border = 0 =\"# 6EB0B1 \" =\" :// i . . / / button_template_left . gif \" width =\" 5 \" height =\" 18 \" alt =\"\"></ a ></ > < =\" middle \" height =\" 18 \" =\"# 6EB0B1 \">< a target =\" help \" STYLE =\" text - decoration : none \" =\" :// . . / index . ? title = Book + detail \" title =\" help \">< font face =\" , , utopia , sans - serif \" size = 2 color =\"# \">< >?</ ></ font ></ a ></ > < =\"# 6EB0B1 \"> < a target =\" help \" =\" :// . . / index . ? title = Book + detail \" title =\" help \">< border = 0 =\"# 6EB0B1 \" =\" :// i . . / / button_template_right . gif \" width =\" 6 \" height =\" 18 \" alt =\"\"></ a ></ > </ > </ table ></ ></ ></ table >< =\" :// i . . / / spacer . gif \" width =\" 5 \" height =\" 5 \" alt =\"\">< >< =\" :// i . . / / . gif \" width =\" 891 \" height =\" 1 \" alt =\"\">< >< =\" :// i . . / / spacer . gif \" width =\" 1 \" height =\" 12 \" alt =\"\">< > < table border = 0 = 0 width = 1221 = 0 >< >< =\" top \"> < table border = 0 = 1 width = 891 = 0 >< > < =\" top \" align =\" left \"> < table border = 0 width = 100 % = 1 = 0 > < > < =\" top \" align =\" right \" =\" \"> Author :</ > < ></ > < =\" top \" =\" \">< a title =\" Search for this author \" for =\"/ s / eric + \"> Eric </ a > </ > </ > < > < =\" top \" width = 10 % align =\" right \" =\" \"> Title :</ > < >< =\" :// i . . / / spacer . gif \" width =\" 12 \" height =\" 1 \" alt =\"\"></ > < =\" top \" width = 90 % =\" \">< a title =\" Search for this title \" =\"/ s / love + and + war + in + the + \"> Love and War in the </ a ></ > </ > < > < =\" top \" align =\" right \" =\" \"> & ; :</ > < ></ > < =\" top \" =\" \"> No available </ > </ > < > < =\" top \" align =\" right \" =\" \"> & ; :</ > < ></ >< form action =\"/ recommended_get \" method =\" get \" name =\" form31 \">< input type =\" hidden \" name =\" go \" value =\" 0001049305 \"> < =\" top \" =\" \">< table = 0 = 0 border = 0 >< >< align =\" left \" =\" top \">< select size = 1 name =\" \">< option value =\" 0864426046 \"> A Short Walk in the </ option >< option value =\" 0864426313 \"> Slowly Down the </ option >< option value =\" 0864426216 \"> On the of the Mediterranean </ option >< option value =\" 0864427689 \"> The Last Grain Race </ option >< option value =\" 0864426275 \"> Round in Low Gear </ option ></ select ></ >< >< =\" :// i . . / / spacer . gif \" width =\" 5 \" height =\" 1 \" alt =\"\"></ >< align =\" left \" =\" top \">< table id =\" button \" height =\" 18 \" border =\" 0 \" =\" 0 \" =\" 0 \"> < > < =\"# 6EB0B1 \"> < a =\" : document . form31 . submit ();\" title =\"\">< border = 0 =\"# 6EB0B1 \" =\" :// i . . / / button_template_left . gif \" width =\" 5 \" height =\" 18 \" alt =\"\"></ a ></ > < =\" middle \" height =\" 18 \" =\"# 6EB0B1 \">< a STYLE =\" text - decoration : none \" =\" : document . form31 . submit ();\" title =\"\">< font face =\" , , utopia , sans - serif \" size = 1 color =\"# \">< >></ ></ font ></ a ></ > < =\"# 6EB0B1 \"> < a =\" : document . form31 . submit ();\" title =\"\">< border = 0 =\"# 6EB0B1 \" =\" :// i . . / / button_template_right . gif \" width =\" 6 \" height =\" 18 \" alt =\"\"></ a ></ > </ > </ table ></ ></ ></ table ></ ></ form > </ > < > < =\" top \" align =\" right \" =\" \"> :</ > < ></ > < form action =\"/ recommended_get \" method =\" get \" name =\" form3 \">< input type =\" hidden \" name =\" go \" value =\" 0001049305 \">< =\" top \" =\" \"> < table = 0 = 0 border = 0 >< >< align =\" left \" =\" top \">< select size = 1 name =\" \">< option value =\" BM1229593901148194047 \"> : Box of 25 </ option >< option value =\" more \">---</ option >< option value =\" more \"> Show more ...</ option ></ select ></ >< >< =\" :// i . . / / spacer . gif \" width =\" 5 \" height =\" 1 \" alt =\"\"></ >< align =\" left \" =\" top \">< table id =\" button \" height =\" 18 \" border =\" 0 \" =\" 0 \" =\" 0 \"> < > < =\"# 6EB0B1 \"> < a =\" : document . form3 . submit ();\" title =\"\">< border = 0 =\"# 6EB0B1 \" =\" :// i . . / / button_template_left . gif \" width =\" 5 \" height =\" 18 \" alt =\"\"></ a ></ > < =\" middle \" height =\" 18 \" =\"# 6EB0B1 \">< a STYLE =\" text - decoration : none \" =\" : document . form3 . submit ();\" title =\"\">< font face =\" , , utopia , sans - serif \" size = 1 color =\"# \">< >></ ></ font ></ a ></ > < =\"# 6EB0B1 \"> < a =\" : document . form3 . submit ();\" title =\"\">< border = 0 =\"# 6EB0B1 \" =\" :// i . . / / button_template_right . gif \" width =\" 6 \" height =\" 18 \" alt =\"\"></ a ></ > </ > </ table ></ ></ ></ table > </ ></ form > </ > < > < =\" top \" align =\" right \" =\" \"> :</ > < ></ >< form action =\"/ topic_go \" method =\" get \" name =\" form \"> < =\" top \" =\" \"> < table = 0 = 0 border = 0 >< >< align =\" left \" =\" top \">< select size = 1 name =\" name \">< option value =\" Abridged \"> Abridged </ option >< option value =\" Ancient \"> Ancient </ option >< option value =\" \"> </ option >< option value =\" \"> </ option >< option value =\" & \"> & </ option >< option value =\" & : General \"> & : General </ option >< option value =\" on \"> on </ option >< option value =\" Eastern Front \"> Eastern Front </ option >< option value =\" Edition ( format )\"> Edition ( format )</ option >< option value =\" \"> </ option >< option value =\" Florence \"> Florence </ option >< option value =\" & \"> & </ option >< option value =\" History \"> History </ option >< option value =\" History : : General \"> History : : General </ option >< option value =\" History : : : General \"> History : : : General </ option >< option value =\" Home Front \"> Home Front </ option >< option value =\" Intelligence \"> Intelligence </ option >< option value =\" \"> </ option >< option value =\" \"> </ option >< option value =\" Medieval \"> Medieval </ option >< option value =\" \"> </ option >< option value =\" Military \"> Military </ option >< option value =\" \"> </ option >< option value =\" Naval \"> Naval </ option >< option value =\" \"> </ option >< option value =\" Pearl Harbor \"> Pearl Harbor </ option >< option value =\" Personal \"> Personal </ option >< option value =\" Reference \"> Reference </ option >< option value =\" \"> </ option >< option value =\" Renaissance \"> Renaissance </ option >< option value =\" \"> </ option >< option value =\" \"> </ option >< option value =\" \"> </ option >< option value =\" \"> </ option >< option value =\" Travel \"> Travel </ option >< option value =\" Travel : : : General \"> Travel : : : General </ option >< option value =\" \"> </ option >< option value =\" \"> </ option >< option value =\" \"> </ option >< option value =\" Western Front \"> Western Front </ option >< option value =\" \"> </ option >< option value =\" World War \"> World War </ option >< option value =\" Writing \"> Writing </ option ></ select ></ >< >< =\" :// i . . / / spacer . gif \" width =\" 5 \" height =\" 1 \" alt =\"\"></ >< align =\" left \" =\" top \">< table id =\" button \" height =\" 18 \" border =\" 0 \" =\" 0 \" =\" 0 \"> < > < =\"# 6EB0B1 \"> < a =\" : document . form . submit ();\" title =\"\">< border = 0 =\"# 6EB0B1 \" =\" :// i . . / / button_template_left . gif \" width =\" 5 \" height =\" 18 \" alt =\"\"></ a ></ > < =\" middle \" height =\" 18 \" =\"# 6EB0B1 \">< a STYLE =\" text - decoration : none \" =\" : document . form . submit ();\" title =\"\">< font face =\" , , utopia , sans - serif \" size = 1 color =\"# \">< >></ ></ font ></ a ></ > < =\"# 6EB0B1 \"> < a =\" : document . form . submit ();\" title =\"\">< border = 0 =\"# 6EB0B1 \" =\" :// i . . / / button_template_right . gif \" width =\" 6 \" height =\" 18 \" alt =\"\"></ a ></ > </ > </ table ></ ></ ></ table > </ ></ form > </ > < > < =\" top \" align =\" right \" =\" \"> & ; in :</ > < ></ > < =\" top \" =\" \"> </ > </ > < > < =\" top \" align =\" right \" =\" \"> Binding :</ > < ></ > < =\" top \" =\" \"> Audio </ > </ > < > < =\" top \" align =\" right \" =\" \"> :</ > < ></ > < =\" \"></ > </ > < > < =\" top \" align =\" right \" =\" \"> Date :</ > < ></ > < =\" top \" =\" \"> 1995 - 10 - 23 </ > </ > < > < =\" top \" align =\" right \" =\" \"> :</ > < ></ > < =\" top \" =\" \"> 0001049305 </ > </ > < > < =\" top \" align =\" right \" =\" \"> Publisher :</ > < ></ > < =\" top \" =\" \">< a title =\" Search for this publisher \" =\"/ s / + Audio \"> Audio </ a ></ > </ > < > < =\" top \" align =\" right \" =\" \"> Weight :</ > < ></ > < =\" top \" =\" \"> 0 . 49 </ > </ > < > < =\" top \" align =\" right \" =\" \"> Size :</ > < ></ > < =\" top \" =\" \"> 4 . 17 x 5 . 28 x 0 . 71 </ > </ > < > < =\" top \" align =\" right \" =\" \"> Edition :</ > < ></ > < =\" top \" =\" \"> Abridged </ > </ > < =\" top \" align =\" right \" =\" \"> & ; :</ > < ></ > < =\" top \" =\" \">< table = = 1 = 0 >< >< >< table = = 3 = 0 >< >< > < table = = 0 = 0 > </ table > </ ></ ></ table ></ ></ ></ table > < font size = 1 ></ font ></ > < > < =\" top \" align =\" right \" =\" \"> Previous & ; :</ > < ></ > < =\" top \" =\" \"> 1 < a =\"/ / \"> ( : OH )</ a ></ > </ > < > < =\" top \" align =\" right \" =\" \"> Previous & ; :</ > < ></ > < =\" top \" =\" \"> 1 < a =\"/ / markwp27 \"> will2 - for ( : CA )</ a ></ > </ > < > < =\" top \" align =\" right \" =\" \"> :</ > < ></ > < =\" top \" =\" \">< table = 0 = 0 border = 0 >< >< align =\" left \" =\" top \"> 1 </ >< >< =\" :// i . . / / spacer . gif \" width =\" 5 \" height =\" 1 \" alt =\"\"></ >< align =\" left \" =\" top \">< a title =\" view this member \\' s \" =\"/ / doobs54 \"> Deb ( )</ a >.</ ></ ></ table > </ > </ > < > < =\" top \" align =\" right \" =\" \"> Description :</ > < ></ > < =\" top \" =\" \">< i > Book Description </ I >< > When made peace in the summer of \\' 43 , 50 , 000 Allied , Eric among them , away from their prison . But was by the , and the were behind those . went to the where , with the help of , he the retreating enemy . < P > sheltered him for more than three . In this classic memoir of , these selfless people . . . their unchanging , the funny , bizarre and dangerous , his of the local girl who later his wife . < P >\" An exciting story , superbly told .\" ( Punch ) < P > Of related interest : by Hood and to Freedom by S . , both available from B - O - T . </ > </ > < > < =\" top \" align =\" right \" =\" \"> :</ > < ></ > < =\" top \" =\" \">< a title =\" Link to this book \" =\" :// . / 0001049305 \"> :// . / 0001049305 </ a ></ > </ > </ table ></ >< =\" top \" align =\" right \"> < a target =\" \" =\" this . T_WIDTH =\\'\\'; return escape (\\'< =\\\\\\' :// . . / / P / 0001049305 . 01 . _BO1 , 130 , 130 , 130_PC_SCLZZZZZZZ_ . \\\\\\' height =\\\\\\'\\\\\\' width =\\\\\\'\\\\\\'>\\')\" =\" :// . - . / / I / 51CXMAZHTZL . _SL500_ . \" title =\" large book cover \">< alt =\" large book cover \" border = 0 height = 87 width = 70 =\" :// . . / / P / 0001049305 . 01 . _BO1 , 130 , 130 , 130_PC_SCTZZZZZZZ_ . \" align =\" none \"></ a >< p > < p > < table id =\" button \" height =\" 18 \" border =\" 0 \" =\" 0 \" =\" 0 \"> < > < =\"# 6EB0B1 \"> < a =\"/ m / wishlist_add ? = 0001049305 & store = . \" title =\" add this book to the list of you want right away \">< border = 0 =\"# 6EB0B1 \" =\" :// i . . / / button_template_left . gif \" width =\" 5 \" height =\" 18 \" alt =\"\"></ a ></ > < =\" middle \" height =\" 18 \" =\"# 6EB0B1 \">< a STYLE =\" text - decoration : none \" =\"/ m / wishlist_add ? = 0001049305 & store = . \" title =\" add this book to the list of you want right away \">< font face =\" , , utopia , sans - serif \" size = 2 color =\"# \">< > & ; ADD & ;></ ></ font ></ a ></ > < =\"# 6EB0B1 \"> < a =\"/ m / wishlist_add ? = 0001049305 & store = . \" title =\" add this book to the list of you want right away \">< border = 0 =\"# 6EB0B1 \" =\" :// i . . / / button_template_right . gif \" width =\" 6 \" height =\" 18 \" alt =\"\"></ a ></ > </ > </ table >< =\" :// i . . / / spacer . gif \" width =\" 1 \" height =\" 2 \" alt =\"\">< > < table id =\" button \" height =\" 18 \" border =\" 0 \" =\" 0 \" =\" 0 \"> < > < =\"# 6EB0B1 \"> < a =\"/ m / savelater_add ? = 0001049305 & store = . \" title =\" add this book to those you may someday want \">< border = 0 =\"# 6EB0B1 \" =\" :// i . . / / button_template_left . gif \" width =\" 5 \" height =\" 18 \" alt =\"\"></ a ></ > < =\" middle \" height =\" 18 \" =\"# 6EB0B1 \">< a STYLE =\" text - decoration : none \" =\"/ m / savelater_add ? = 0001049305 & store = . \" title =\" add this book to those you may someday want \">< font face =\" , , utopia , sans - serif \" size = 2 color =\"# \">< > SAVE & ; FOR & ; LATER & ;></ ></ font ></ a ></ > < =\"# 6EB0B1 \"> < a =\"/ m / savelater_add ? = 0001049305 & store = . \" title =\" add this book to those you may someday want \">< border = 0 =\"# 6EB0B1 \" =\" :// i . . / / button_template_right . gif \" width =\" 6 \" height =\" 18 \" alt =\"\"></ a ></ > </ > </ table >< =\" :// i . . / / spacer . gif \" width =\" 1 \" height =\" 2 \" alt =\"\">< > < table id =\" button \" height =\" 18 \" border =\" 0 \" =\" 0 \" =\" 0 \"> < > < =\"# 6EB0B1 \"> < a =\" :// . . it / / product / 0001049305 ? ie = UTF8 & tag = book05e - 21 & = bn1 \" target =\" - 0001049305 \" title =\" more about this book at ( a small commission goes to if you buy with this link )\">< border = 0 =\"# 6EB0B1 \" =\" :// i . . / / button_template_left . gif \" width =\" 5 \" height =\" 18 \" alt =\"\"></ a ></ > < =\" middle \" height =\" 18 \" =\"# 6EB0B1 \">< a target =\" - 0001049305 \" STYLE =\" text - decoration : none \" =\" :// . . it / / product / 0001049305 ? ie = UTF8 & tag = book05e - 21 & = bn1 \" title =\" more about this book at ( a small commission goes to if you buy with this link )\">< font face =\" , , utopia , sans - serif \" size = 2 color =\"# \">< > & ;></ ></ font ></ a ></ > < =\"# 6EB0B1 \"> < a target =\" - 0001049305 \" =\" :// . . it / / product / 0001049305 ? ie = UTF8 & tag = book05e - 21 & = bn1 \" title =\" more about this book at ( a small commission goes to if you buy with this link )\">< border = 0 =\"# 6EB0B1 \" =\" :// i . . / / button_template_right . gif \" width =\" 6 \" height =\" 18 \" alt =\"\"></ a ></ > </ > </ table >< =\" :// i . . / / spacer . gif \" width =\" 1 \" height =\" 2 \" alt =\"\">< > < table id =\" button \" height =\" 18 \" border =\" 0 \" =\" 0 \" =\" 0 \"> < > < =\"# 6EB0B1 \"> < a =\"/ book_sites ? = 0001049305 \" title =\" other web with information about this book \">< border = 0 =\"# 6EB0B1 \" =\" :// i . . / / button_template_left . gif \" width =\" 5 \" height =\" 18 \" alt =\"\"></ a ></ > < =\" middle \" height =\" 18 \" =\"# 6EB0B1 \">< a STYLE =\" text - decoration : none \" =\"/ book_sites ? = 0001049305 \" title =\" other web with information about this book \">< font face =\" , , utopia , sans - serif \" size = 2 color =\"# \">< > OTHER & ; WEB & ; & ;></ ></ font ></ a ></ > < =\"# 6EB0B1 \"> < a =\"/ book_sites ? = 0001049305 \" title =\" other web with information about this book \">< border = 0 =\"# 6EB0B1 \" =\" :// i . . / / button_template_right . gif \" width =\" 6 \" height =\" 18 \" alt =\"\"></ a ></ > </ > </ table >< =\" :// i . . / / spacer . gif \" width =\" 1 \" height =\" 2 \" alt =\"\">< > < table id =\" button \" height =\" 18 \" border =\" 0 \" =\" 0 \" =\" 0 \"> < > < =\"# 6EB0B1 \"> < a =\"/ related_show ? = 0001049305 \" title =\" show that are related to this one \">< border = 0 =\"# 6EB0B1 \" =\" :// i . . / / button_template_left . gif \" width =\" 5 \" height =\" 18 \" alt =\"\"></ a ></ > < =\" middle \" height =\" 18 \" =\"# 6EB0B1 \">< a STYLE =\" text - decoration : none \" =\"/ related_show ? = 0001049305 \" title =\" show that are related to this one \">< font face =\" , , utopia , sans - serif \" size = 2 color =\"# \">< > RELATED & ; & ;></ ></ font ></ a ></ > < =\"# 6EB0B1 \"> < a =\"/ related_show ? = 0001049305 \" title =\" show that are related to this one \">< border = 0 =\"# 6EB0B1 \" =\" :// i . . / / button_template_right . gif \" width =\" 6 \" height =\" 18 \" alt =\"\"></ a ></ > </ > </ table >< =\" :// i . . / / spacer . gif \" width =\" 1 \" height =\" 2 \" alt =\"\">< > < table id =\" button \" height =\" 18 \" border =\" 0 \" =\" 0 \" =\" 0 \"> < > < =\"# 6EB0B1 \"> < a =\"/ recommend ? = 0001049305 \" title =\" recommend this book to someone else \">< border = 0 =\"# 6EB0B1 \" =\" :// i . . / / button_template_left . gif \" width =\" 5 \" height =\" 18 \" alt =\"\"></ a ></ > < =\" middle \" height =\" 18 \" =\"# 6EB0B1 \">< a STYLE =\" text - decoration : none \" =\"/ recommend ? = 0001049305 \" title =\" recommend this book to someone else \">< font face =\" , , utopia , sans - serif \" size = 2 color =\"# \">< > RECOMMEND & ;></ ></ font ></ a ></ > < =\"# 6EB0B1 \"> < a =\"/ recommend ? = 0001049305 \" title =\" recommend this book to someone else \">< border = 0 =\"# 6EB0B1 \" =\" :// i . . / / button_template_right . gif \" width =\" 6 \" height =\" 18 \" alt =\"\"></ a ></ > </ > </ table >< =\" :// i . . / / spacer . gif \" width =\" 1 \" height =\" 2 \" alt =\"\">< > </ ></ ></ table > </ >< width = 10 >< =\" :// i . . / / spacer . gif \" width =\" 10 \" height =\" 1 \" alt =\"\"></ >< = =\" top \" width = 320 >< link rel =\" \" type =\" text / \" =\" :// cache . . / 582081819 / feed . \" />< script language =\" \" =\" :// cache . . / 582081819 / feed . \"></ script >< link rel =\" \" type =\" text / \" =\" :// cache . . / 990819385 / feed . \" />< script language =\" \" =\" :// cache . . / 990819385 / feed . \"></ script >< /></ ></ ></ table > </ >< >< =\" :// i . . / / spacer . gif \" width =\" 12 \" height =\" 12 \" alt =\"\"></ ></ >< >< ></ >< ></ ></ ></ table > < script language =\" \" type =\" text / \" =\" :// i . . / / wz_tooltip . \"></ script > </ body > </ >']"
     },
     "execution_count": 9,
     "metadata": {},
     "output_type": "execute_result"
    }
   ]
  },
  {
   "cell_type": "code",
   "execution_count": 22,
   "outputs": [],
   "source": [
    "# with open('raw_data.txt', 'w', encoding=\"utf-8\") as output:\n",
    "#     output.write(str(english))\n",
    "# english = open('./raw_data.txt', 'r', encoding='utf-8')\n",
    "# english = english.read()\n",
    "# from io import StringIO\n",
    "# from html.parser import HTMLParser\n",
    "#\n",
    "# class MLStripper(HTMLParser):\n",
    "#     def __init__(self):\n",
    "#         super().__init__()\n",
    "#         self.reset()\n",
    "#         self.strict = False\n",
    "#         self.convert_charrefs= True\n",
    "#         self.text = StringIO()\n",
    "#\n",
    "#     def handle_data(self, d):\n",
    "#         self.text.write(d)\n",
    "#     def get_data(self):\n",
    "#         return self.text.getvalue()\n",
    "#\n",
    "# def strip_tags(html):\n",
    "#     s = MLStripper()\n",
    "#     s.feed(html)\n",
    "#     return s.get_data()\n",
    "#\n",
    "# english = re.sub('<[^<]+?>', '', english)#remove tags"
   ],
   "metadata": {
    "collapsed": false,
    "pycharm": {
     "name": "#%%\n"
    }
   }
  },
  {
   "cell_type": "code",
   "execution_count": 19,
   "outputs": [],
   "source": [
    "# with open('remove_tags.txt', 'w', encoding=\"utf-8\") as output:\n",
    "#     output.write(str(english))"
   ],
   "metadata": {
    "collapsed": false,
    "pycharm": {
     "name": "#%%\n"
    }
   }
  },
  {
   "cell_type": "code",
   "execution_count": 13,
   "outputs": [],
   "source": [
    "# english = open('./remove_tags.txt', 'r', encoding='utf-8')\n",
    "# english = english.read()"
   ],
   "metadata": {
    "collapsed": false,
    "pycharm": {
     "name": "#%%\n"
    }
   }
  },
  {
   "cell_type": "code",
   "execution_count": 24,
   "outputs": [
    {
     "data": {
      "text/plain": "'[[\\'< > < head profile =\" :// . w3 . / 2005 / 10 / profile \"> < LINK REL =\" ICON \" =\" :// i . . / . \"'"
     },
     "execution_count": 24,
     "metadata": {},
     "output_type": "execute_result"
    }
   ],
   "source": [
    "# english[0:100]"
   ],
   "metadata": {
    "collapsed": false,
    "pycharm": {
     "name": "#%%\n"
    }
   }
  },
  {
   "cell_type": "code",
   "execution_count": 4,
   "outputs": [],
   "source": [
    "#Очистка текста\n",
    "import string\n",
    "stop_words = stopwords.words(\"english\")\n",
    "lemmatizer = WordNetLemmatizer()\n",
    "tokenizer = RegexpTokenizer(r'\\w+')\n",
    "remove_these = set(stopwords.words('english') + list(string.punctuation) + list(string.digits))#remove punctuation, stopwords, digits\n",
    "pattern = r'[0-9]'\n",
    "corpus = []\n",
    "for sent in english:\n",
    "    sent = re.sub(r\"[^\\w\\s]\", \"\", str(sent), re.UNICODE)\n",
    "    sent = re.sub('<[^<]+?>', '', sent)#remove tags\n",
    "# Match all digits in the string and replace them by empty string\n",
    "    sent = re.sub(pattern, '', sent)\n",
    "    sent = tokenizer.tokenize(sent.lower())\n",
    "    sent = [lemmatizer.lemmatize(token) for token in sent]\n",
    "    sent = [w for w in sent if not w in remove_these]\n",
    "    corpus.append(sent)"
   ],
   "metadata": {
    "collapsed": false,
    "pycharm": {
     "name": "#%%\n"
    }
   }
  },
  {
   "cell_type": "code",
   "execution_count": 56,
   "outputs": [
    {
     "data": {
      "text/plain": "[['head',\n  'profile',\n  'w',\n  'profile',\n  'link',\n  'rel',\n  'icon',\n  'eric',\n  'short',\n  'walk',\n  'eric',\n  'short',\n  'walk',\n  'author',\n  'eric',\n  'title',\n  'short',\n  'walk',\n  'available',\n  'world',\n  'dozen',\n  'bookseller',\n  'lovely',\n  'three',\n  'tea',\n  'one',\n  'man',\n  'mission',\n  'elegance',\n  'hedgehog',\n  'banner',\n  'heaven',\n  'story',\n  'pat',\n  'parker',\n  'feminism',\n  'smith',\n  'giraffe',\n  'longitude',\n  'true',\n  'story',\n  'lone',\n  'five',\n  'quarter',\n  'orange',\n  'show',\n  'education',\n  'reference',\n  'reference',\n  'travel',\n  'writing',\n  'binding',\n  'audio',\n  'date',\n  'publisher',\n  'audio',\n  'weight',\n  'size',\n  'x',\n  'x',\n  'edition',\n  'abridged',\n  'h',\n  'cej',\n  'description',\n  'product',\n  'description',\n  'eric',\n  'also',\n  'written',\n  'last',\n  'grain',\n  'race',\n  'slowly',\n  'love',\n  'war',\n  'mediterranean',\n  'review',\n  'decade',\n  'following',\n  'end',\n  'world',\n  'war',\n  'eric',\n  'toiled',\n  'away',\n  'fashion',\n  'industry',\n  'peddling',\n  'clothes',\n  'planet',\n  'regarding',\n  'one',\n  'wafer',\n  'thin',\n  'model',\n  'runway',\n  'best',\n  'wa',\n  'put',\n  'mall',\n  'queen',\n  'come',\n  'home',\n  'fortunately',\n  'end',\n  'tether',\n  'point',\n  'sort',\n  'sublime',\n  'impulsiveness',\n  'forbidden',\n  'fictional',\n  'endemic',\n  'real',\n  'decided',\n  'visit',\n  'remote',\n  'corner',\n  'least',\n  'adventure',\n  'classic',\n  'narrative',\n  'short',\n  'walk',\n  'title',\n  'course',\n  'fine',\n  'example',\n  'habitual',\n  'self',\n  'effacement',\n  'since',\n  'journey',\n  'included',\n  'near',\n  'ascent',\n  'foot',\n  'mir',\n  'wa',\n  'anything',\n  'short',\n  'book',\n  'furnish',\n  'missing',\n  'link',\n  'great',\n  'era',\n  'contemporary',\n  'jungle',\n  'time',\n  'also',\n  'mind',\n  'waugh',\n  'preface',\n  'le',\n  'acidulous',\n  'writer',\n  'sure',\n  'little',\n  'interest',\n  'sort',\n  'heat',\n  'seeking',\n  'satiric',\n  'waugh',\n  'specialty',\n  'still',\n  'short',\n  'walk',\n  'hilarious',\n  'read',\n  'author',\n  'snapshot',\n  'say',\n  'backwater',\n  'two',\n  'crisp',\n  'whole',\n  'gale',\n  'wind',\n  'wa',\n  'blowing',\n  'tearing',\n  'surface',\n  'main',\n  'street',\n  'except',\n  'two',\n  'holding',\n  'dog',\n  'whose',\n  'hind',\n  'wa',\n  'deserted',\n  'capsule',\n  'history',\n  'also',\n  'sly',\n  'dig',\n  'special',\n  'relationship',\n  'violence',\n  'prone',\n  'officially',\n  'subsidy',\n  'fully',\n  'selection',\n  'amir',\n  'apart',\n  'lord',\n  'like',\n  'people',\n  'alive',\n  'displeased',\n  'blowing',\n  'cannon',\n  'standing',\n  'neck',\n  'water',\n  'high',\n  'freeze',\n  'solid',\n  'done',\n  'nothing',\n  'exception',\n  'could',\n  'taken',\n  'also',\n  'waugh',\n  'indeed',\n  'travel',\n  'another',\n  'important',\n  'respect',\n  'miraculously',\n  'free',\n  'solipsism',\n  'even',\n  'literary',\n  'tend',\n  'sense',\n  'term',\n  'self',\n  'centered',\n  'short',\n  'walk',\n  'wonderfully',\n  'oblique',\n  'author',\n  'travel',\n  'companion',\n  'carless',\n  'wife',\n  'starring',\n  'role',\n  'subsequent',\n  'slowly',\n  'also',\n  'brilliant',\n  'cameo',\n  'indelible',\n  'record',\n  'stunning',\n  'landscape',\n  'roof',\n  'world',\n  'rendering',\n  'absolute',\n  'heaven',\n  'low',\n  'oxygen',\n  'hell',\n  'yet',\n  'author',\n  'never',\n  'pit',\n  'malicious',\n  'nature',\n  'frost',\n  'memorable',\n  'phrase',\n  'lofty',\n  'original',\n  'rage',\n  'yet',\n  'another',\n  'reason',\n  'call',\n  'little',\n  'masterpiece',\n  'peak',\n  'performance',\n  'target',\n  't_width',\n  'return',\n  'escape',\n  'vxpzk',\n  'bozl',\n  'title',\n  'large',\n  'book',\n  'cover',\n  'add',\n  'save',\n  'later',\n  'web',\n  'related',\n  'recommend']]"
     },
     "execution_count": 56,
     "metadata": {},
     "output_type": "execute_result"
    }
   ],
   "source": [
    "# corpus[1:2]"
   ],
   "metadata": {
    "collapsed": false,
    "pycharm": {
     "name": "#%%\n"
    }
   }
  },
  {
   "cell_type": "code",
   "execution_count": 40,
   "outputs": [
    {
     "data": {
      "text/plain": "         0        1             2       3     4        5       6      \\\n0         head  profile            w3    2005    10  profile    link   \n1         head  profile            w3    2005    10  profile    link   \n2         head  profile            w3    2005    10  profile    link   \n3         head  profile            w3    2005    10  profile    link   \n4         head  profile            w3    2005    10  profile    link   \n...        ...      ...           ...     ...   ...      ...     ...   \n71694  version   public           w3c  strict    en       w3  xhtml1   \n71695   public      w3c  transitional      en    w3   xhtml1  xhtml1   \n71696   public      w3c  transitional      en    w3   xhtml1  xhtml1   \n71697  version   public           w3c  strict    en       w3  xhtml1   \n71698  version   public           w3c  strict    en       w3  xhtml1   \n\n              7       8         9      ... 12232 12233 12234 12235 12236  \\\n0               rel    icon      eric  ...  None  None  None  None  None   \n1               rel    icon      eric  ...  None  None  None  None  None   \n2               rel    icon    poetry  ...  None  None  None  None  None   \n3               rel    icon     uncle  ...  None  None  None  None  None   \n4               rel    icon  consider  ...  None  None  None  None  None   \n...             ...     ...       ...  ...   ...   ...   ...   ...   ...   \n71694        xhtml1  strict    donkey  ...  None  None  None  None  None   \n71695  transitional      w3      1999  ...  None  None  None  None  None   \n71696  transitional      w3      1999  ...  None  None  None  None  None   \n71697        xhtml1  strict    really  ...  None  None  None  None  None   \n71698        xhtml1  strict      star  ...  None  None  None  None  None   \n\n      12237 12238 12239 12240 12241  \n0      None  None  None  None  None  \n1      None  None  None  None  None  \n2      None  None  None  None  None  \n3      None  None  None  None  None  \n4      None  None  None  None  None  \n...     ...   ...   ...   ...   ...  \n71694  None  None  None  None  None  \n71695  None  None  None  None  None  \n71696  None  None  None  None  None  \n71697  None  None  None  None  None  \n71698  None  None  None  None  None  \n\n[71699 rows x 12242 columns]",
      "text/html": "<div>\n<style scoped>\n    .dataframe tbody tr th:only-of-type {\n        vertical-align: middle;\n    }\n\n    .dataframe tbody tr th {\n        vertical-align: top;\n    }\n\n    .dataframe thead th {\n        text-align: right;\n    }\n</style>\n<table border=\"1\" class=\"dataframe\">\n  <thead>\n    <tr style=\"text-align: right;\">\n      <th></th>\n      <th>0</th>\n      <th>1</th>\n      <th>2</th>\n      <th>3</th>\n      <th>4</th>\n      <th>5</th>\n      <th>6</th>\n      <th>7</th>\n      <th>8</th>\n      <th>9</th>\n      <th>...</th>\n      <th>12232</th>\n      <th>12233</th>\n      <th>12234</th>\n      <th>12235</th>\n      <th>12236</th>\n      <th>12237</th>\n      <th>12238</th>\n      <th>12239</th>\n      <th>12240</th>\n      <th>12241</th>\n    </tr>\n  </thead>\n  <tbody>\n    <tr>\n      <th>0</th>\n      <td>head</td>\n      <td>profile</td>\n      <td>w3</td>\n      <td>2005</td>\n      <td>10</td>\n      <td>profile</td>\n      <td>link</td>\n      <td>rel</td>\n      <td>icon</td>\n      <td>eric</td>\n      <td>...</td>\n      <td>None</td>\n      <td>None</td>\n      <td>None</td>\n      <td>None</td>\n      <td>None</td>\n      <td>None</td>\n      <td>None</td>\n      <td>None</td>\n      <td>None</td>\n      <td>None</td>\n    </tr>\n    <tr>\n      <th>1</th>\n      <td>head</td>\n      <td>profile</td>\n      <td>w3</td>\n      <td>2005</td>\n      <td>10</td>\n      <td>profile</td>\n      <td>link</td>\n      <td>rel</td>\n      <td>icon</td>\n      <td>eric</td>\n      <td>...</td>\n      <td>None</td>\n      <td>None</td>\n      <td>None</td>\n      <td>None</td>\n      <td>None</td>\n      <td>None</td>\n      <td>None</td>\n      <td>None</td>\n      <td>None</td>\n      <td>None</td>\n    </tr>\n    <tr>\n      <th>2</th>\n      <td>head</td>\n      <td>profile</td>\n      <td>w3</td>\n      <td>2005</td>\n      <td>10</td>\n      <td>profile</td>\n      <td>link</td>\n      <td>rel</td>\n      <td>icon</td>\n      <td>poetry</td>\n      <td>...</td>\n      <td>None</td>\n      <td>None</td>\n      <td>None</td>\n      <td>None</td>\n      <td>None</td>\n      <td>None</td>\n      <td>None</td>\n      <td>None</td>\n      <td>None</td>\n      <td>None</td>\n    </tr>\n    <tr>\n      <th>3</th>\n      <td>head</td>\n      <td>profile</td>\n      <td>w3</td>\n      <td>2005</td>\n      <td>10</td>\n      <td>profile</td>\n      <td>link</td>\n      <td>rel</td>\n      <td>icon</td>\n      <td>uncle</td>\n      <td>...</td>\n      <td>None</td>\n      <td>None</td>\n      <td>None</td>\n      <td>None</td>\n      <td>None</td>\n      <td>None</td>\n      <td>None</td>\n      <td>None</td>\n      <td>None</td>\n      <td>None</td>\n    </tr>\n    <tr>\n      <th>4</th>\n      <td>head</td>\n      <td>profile</td>\n      <td>w3</td>\n      <td>2005</td>\n      <td>10</td>\n      <td>profile</td>\n      <td>link</td>\n      <td>rel</td>\n      <td>icon</td>\n      <td>consider</td>\n      <td>...</td>\n      <td>None</td>\n      <td>None</td>\n      <td>None</td>\n      <td>None</td>\n      <td>None</td>\n      <td>None</td>\n      <td>None</td>\n      <td>None</td>\n      <td>None</td>\n      <td>None</td>\n    </tr>\n    <tr>\n      <th>...</th>\n      <td>...</td>\n      <td>...</td>\n      <td>...</td>\n      <td>...</td>\n      <td>...</td>\n      <td>...</td>\n      <td>...</td>\n      <td>...</td>\n      <td>...</td>\n      <td>...</td>\n      <td>...</td>\n      <td>...</td>\n      <td>...</td>\n      <td>...</td>\n      <td>...</td>\n      <td>...</td>\n      <td>...</td>\n      <td>...</td>\n      <td>...</td>\n      <td>...</td>\n      <td>...</td>\n    </tr>\n    <tr>\n      <th>71694</th>\n      <td>version</td>\n      <td>public</td>\n      <td>w3c</td>\n      <td>strict</td>\n      <td>en</td>\n      <td>w3</td>\n      <td>xhtml1</td>\n      <td>xhtml1</td>\n      <td>strict</td>\n      <td>donkey</td>\n      <td>...</td>\n      <td>None</td>\n      <td>None</td>\n      <td>None</td>\n      <td>None</td>\n      <td>None</td>\n      <td>None</td>\n      <td>None</td>\n      <td>None</td>\n      <td>None</td>\n      <td>None</td>\n    </tr>\n    <tr>\n      <th>71695</th>\n      <td>public</td>\n      <td>w3c</td>\n      <td>transitional</td>\n      <td>en</td>\n      <td>w3</td>\n      <td>xhtml1</td>\n      <td>xhtml1</td>\n      <td>transitional</td>\n      <td>w3</td>\n      <td>1999</td>\n      <td>...</td>\n      <td>None</td>\n      <td>None</td>\n      <td>None</td>\n      <td>None</td>\n      <td>None</td>\n      <td>None</td>\n      <td>None</td>\n      <td>None</td>\n      <td>None</td>\n      <td>None</td>\n    </tr>\n    <tr>\n      <th>71696</th>\n      <td>public</td>\n      <td>w3c</td>\n      <td>transitional</td>\n      <td>en</td>\n      <td>w3</td>\n      <td>xhtml1</td>\n      <td>xhtml1</td>\n      <td>transitional</td>\n      <td>w3</td>\n      <td>1999</td>\n      <td>...</td>\n      <td>None</td>\n      <td>None</td>\n      <td>None</td>\n      <td>None</td>\n      <td>None</td>\n      <td>None</td>\n      <td>None</td>\n      <td>None</td>\n      <td>None</td>\n      <td>None</td>\n    </tr>\n    <tr>\n      <th>71697</th>\n      <td>version</td>\n      <td>public</td>\n      <td>w3c</td>\n      <td>strict</td>\n      <td>en</td>\n      <td>w3</td>\n      <td>xhtml1</td>\n      <td>xhtml1</td>\n      <td>strict</td>\n      <td>really</td>\n      <td>...</td>\n      <td>None</td>\n      <td>None</td>\n      <td>None</td>\n      <td>None</td>\n      <td>None</td>\n      <td>None</td>\n      <td>None</td>\n      <td>None</td>\n      <td>None</td>\n      <td>None</td>\n    </tr>\n    <tr>\n      <th>71698</th>\n      <td>version</td>\n      <td>public</td>\n      <td>w3c</td>\n      <td>strict</td>\n      <td>en</td>\n      <td>w3</td>\n      <td>xhtml1</td>\n      <td>xhtml1</td>\n      <td>strict</td>\n      <td>star</td>\n      <td>...</td>\n      <td>None</td>\n      <td>None</td>\n      <td>None</td>\n      <td>None</td>\n      <td>None</td>\n      <td>None</td>\n      <td>None</td>\n      <td>None</td>\n      <td>None</td>\n      <td>None</td>\n    </tr>\n  </tbody>\n</table>\n<p>71699 rows × 12242 columns</p>\n</div>"
     },
     "execution_count": 40,
     "metadata": {},
     "output_type": "execute_result"
    }
   ],
   "source": [
    "# data = pd.DataFrame(corpus)\n",
    "# data.to_csv('clear_dataframe.csv', sep='\\t', encoding='utf-8')\n",
    "# data"
   ],
   "metadata": {
    "collapsed": false,
    "pycharm": {
     "name": "#%%\n"
    }
   }
  },
  {
   "cell_type": "code",
   "execution_count": 41,
   "outputs": [],
   "source": [
    "# del data"
   ],
   "metadata": {
    "collapsed": false,
    "pycharm": {
     "name": "#%%\n"
    }
   }
  },
  {
   "cell_type": "markdown",
   "metadata": {
    "id": "_h_c-1kBDMVN"
   },
   "source": [
    "#### Vizualization"
   ]
  },
  {
   "cell_type": "markdown",
   "metadata": {
    "id": "HTu83iAWDMVN"
   },
   "source": [
    "As a visualisation, it is necessary to construct a frequency distribution of words (the 100 most common words), sorted by frequency. \n",
    "\n",
    "For visualization purposes we advice you to use plotly, but you are free to choose other libraries"
   ]
  },
  {
   "cell_type": "code",
   "metadata": {
    "id": "bHX6IXcrDMVO"
   },
   "source": [
    "from nltk.probability import FreqDist\n",
    "data = []\n",
    "for sent in corpus:\n",
    "    for word in sent:\n",
    "        if len(word) > 2:\n",
    "            data.append(word)"
   ],
   "execution_count": 59,
   "outputs": []
  },
  {
   "cell_type": "code",
   "execution_count": 60,
   "outputs": [
    {
     "data": {
      "text/plain": "<Figure size 1080x720 with 1 Axes>",
      "image/png": "[encoded data removed]"
     },
     "metadata": {
      "needs_background": "light"
     },
     "output_type": "display_data"
    },
    {
     "data": {
      "text/plain": "<AxesSubplot:title={'center':'Frequency distribution for 100 most common tokens in our text collection (excluding stopwords and punctuation)'}, xlabel='Samples', ylabel='Counts'>"
     },
     "execution_count": 60,
     "metadata": {},
     "output_type": "execute_result"
    }
   ],
   "source": [
    "fdist = FreqDist(nltk.Text(data))\n",
    "plt.figure(figsize=(15, 10))\n",
    "fdist.plot(100,title='Frequency distribution for 100 most common tokens in our text collection (excluding stopwords and punctuation)')"
   ],
   "metadata": {
    "collapsed": false,
    "pycharm": {
     "name": "#%%\n"
    }
   }
  },
  {
   "cell_type": "code",
   "execution_count": 61,
   "outputs": [],
   "source": [
    "del data"
   ],
   "metadata": {
    "collapsed": false,
    "pycharm": {
     "name": "#%%\n"
    }
   }
  },
  {
   "cell_type": "markdown",
   "metadata": {
    "id": "IlSeYg4sDMVQ"
   },
   "source": [
    "# [10 points] Part 2. Duplicates detection. LSH"
   ]
  },
  {
   "cell_type": "markdown",
   "metadata": {
    "id": "ZuMBHSiDDMVR"
   },
   "source": [
    "#### Libraries you can use\n",
    "\n",
    "1. LSH - https://github.com/ekzhu/datasketch\n",
    "1. LSH - https://github.com/mattilyra/LSH\n",
    "1. Any other library on your choise"
   ]
  },
  {
   "cell_type": "markdown",
   "metadata": {
    "id": "uff5aBpgDMVR"
   },
   "source": [
    "1. Detect duplicated text (duplicates do not imply a complete word-to-word match, but texts that may contain a paraphrase, rearrangement of words, sentences)\n",
    "1. Make a plot dependency of duplicates on shingle size (with fixed minhash length) \n",
    "1. Make a plot dependency of duplicates on minhash length (with fixed shingle size)"
   ]
  },
  {
   "cell_type": "code",
   "metadata": {
    "id": "QOFZ7AvyDMVS"
   },
   "source": [
    "import lsh\n",
    "import itertools\n",
    "\n",
    "def shingles(document, shingle=5):\n",
    "    return set(document[i:i + shingle] for i in range(0, len(document) - shingle))\n",
    "\n",
    "def jaccard(shingles_0, shingles_1):\n",
    "    return len(set(shingles_0) & set(shingles_1)) / len(set(shingles_0) | set(shingles_1))\n",
    "\n",
    "def candidate_duplicates(document_feed, char_ngram=5, seeds=100, bands=5, hashbytes=4):\n",
    "    hasher = minhash.MinHasher(seeds=seeds, char_ngram=char_ngram, hashbytes=hashbytes)\n",
    "    if seeds % bands != 0:\n",
    "        raise ValueError('Seeds has to be a multiple of bands. {} % {} != 0'.format(seeds, bands))\n",
    "\n",
    "    lshcache = cache.Cache(num_bands=bands, hasher=hasher)\n",
    "    for docid, line in enumerate(document_feed):\n",
    "        fingerprint = hasher.fingerprint(line)\n",
    "\n",
    "        # in addition to storing the fingerpring store the line\n",
    "        # number and document ID to help analysis later on\n",
    "        lshcache.add_fingerprint(fingerprint, doc_id=docid)\n",
    "\n",
    "    candidate_pairs = set()\n",
    "    for b in lshcache.bins:\n",
    "        for bucket_id in b:\n",
    "            if len(b[bucket_id]) > 1:\n",
    "                pairs_ = set(itertools.combinations(b[bucket_id], r=2))\n",
    "                candidate_pairs.update(pairs_)\n",
    "\n",
    "    return candidate_pairs"
   ],
   "execution_count": 32,
   "outputs": []
  },
  {
   "cell_type": "code",
   "execution_count": 25,
   "outputs": [],
   "source": [
    "from lsh import minhash, cache\n",
    "data = []\n",
    "for sent in corpus:\n",
    "    sent = ' '.join(sent)\n",
    "    data.append(sent)"
   ],
   "metadata": {
    "collapsed": false,
    "pycharm": {
     "name": "#%%\n"
    }
   }
  },
  {
   "cell_type": "code",
   "execution_count": 26,
   "outputs": [],
   "source": [
    "hasher = minhash.MinHasher(seeds=100, char_ngram=5, hashbytes=4)\n",
    "lshcache = cache.Cache(bands=10, hasher=hasher)\n",
    "\n",
    "# read in the data file and add the first 100 documents to the LSH cache\n",
    "\n",
    "for docid, line in enumerate(data):\n",
    "    # docid, articletext = line.decode('utf8').split('\\t', 1)\n",
    "    lshcache.add_fingerprint(hasher.fingerprint(line), docid)\n",
    "\n",
    "# for every bucket in the LSH cache get the candidate duplicates\n",
    "candidate_pairs = set()\n",
    "for b in lshcache.bins:\n",
    "    for bucket_id in b:\n",
    "        if len(b[bucket_id]) > 1: # if the bucket contains more than a single document\n",
    "            pairs_ = set(itertools.combinations(b[bucket_id], r=2))\n",
    "            candidate_pairs.update(pairs_)"
   ],
   "metadata": {
    "collapsed": false,
    "pycharm": {
     "name": "#%%\n"
    }
   }
  },
  {
   "cell_type": "code",
   "execution_count": 27,
   "outputs": [
    {
     "data": {
      "text/plain": "{(18514, 65399),\n (16437, 15060),\n (69720, 69779),\n (59084, 11759),\n (27399, 27757),\n (16793, 40422),\n (58416, 58589),\n (37950, 64317),\n (38217, 63223),\n (10342, 57091),\n (59143, 11602),\n (44813, 46183),\n (6891, 6612),\n (25028, 1366),\n (39019, 63982),\n (62294, 14877),\n (20954, 46055),\n (38409, 38462),\n (14601, 15378),\n (50379, 50197),\n (49875, 2452),\n (16394, 38518),\n (8831, 8375),\n (58984, 11578),\n (43953, 19738),\n (48500, 1018),\n (21399, 46163),\n (6193, 53445),\n (61940, 62809),\n (9723, 10235),\n (62919, 15951),\n (63926, 14424),\n (14192, 15743),\n (35011, 11639),\n (39701, 16079),\n (30836, 54740),\n (62014, 64162),\n (62725, 14317),\n (63762, 62341),\n (39480, 15355),\n (63988, 15870),\n (62102, 38127),\n (55755, 7482),\n (44713, 22204),\n (21240, 46329),\n (62504, 15037),\n (53621, 53712),\n (46261, 22032),\n (63824, 64411),\n (63646, 63673),\n (44658, 69569),\n (15172, 40352),\n (66253, 17995),\n (34661, 11647),\n (44777, 21614),\n (29874, 29580),\n (41630, 42563),\n (16549, 14246),\n (62255, 37973),\n (67828, 67261),\n (16581, 38991),\n (5104, 5237),\n (63039, 39498),\n (65617, 18518),\n (17932, 65512),\n (39307, 63984),\n (42004, 18266),\n (37960, 16270),\n (35198, 59276),\n (41783, 18161),\n (41114, 64480),\n (37992, 38357),\n (61934, 63399),\n (48747, 25014),\n (34116, 9648),\n (16538, 16067),\n (62810, 16325),\n (39727, 64306),\n (18499, 18618),\n (2714, 50413),\n (62616, 14187),\n (62158, 40087),\n (3337, 26899),\n (55662, 7830),\n (51220, 27725),\n (45246, 21467),\n (62961, 39411),\n (58535, 59008),\n (34773, 11041),\n (16691, 64113),\n (68531, 21668),\n (10251, 33600),\n (62680, 62137),\n (14309, 15182),\n (61966, 63009),\n (16753, 64291),\n (14812, 39438),\n (53959, 30102),\n (41908, 42476),\n (68755, 45140),\n (45857, 68545),\n (70034, 69834),\n (39300, 15965),\n (21014, 45630),\n (44239, 22518),\n (5485, 52875),\n (33603, 9878),\n (39095, 15025),\n (38072, 15580),\n (16917, 64129),\n (41925, 41932),\n (63943, 38214),\n (58941, 35422),\n (69323, 20995),\n (15542, 16229),\n (53323, 5917),\n (29352, 29439),\n (55653, 31545),\n (15186, 16200),\n (44848, 22646),\n (3123, 3436),\n (26398, 50047),\n (63025, 16342),\n (45685, 22155),\n (45356, 45917),\n (62521, 39509),\n (55459, 31239),\n (63528, 40358),\n (35030, 11263),\n (14447, 37935),\n (16445, 15705),\n (63606, 39252),\n (57472, 9856),\n (15946, 16139),\n (53414, 53661),\n (68287, 68324),\n (15056, 39997),\n (61798, 38617),\n (61886, 64362),\n (14878, 39903),\n (45344, 68965),\n (68896, 69252),\n (4525, 28489),\n (62200, 63019),\n (38702, 15913),\n (63515, 63013),\n (57789, 33349),\n (42555, 42486),\n (39205, 39779),\n (61784, 14473),\n (43845, 19763),\n (8291, 54850),\n (5031, 52750),\n (15029, 15829),\n (67474, 43596),\n (11126, 59254),\n (34825, 35330),\n (38260, 38392),\n (52350, 52585),\n (65919, 18244),\n (44187, 21363),\n (62096, 64086),\n (10902, 10985),\n (55512, 54712),\n (15031, 40565),\n (62514, 40392),\n (11675, 34780),\n (26719, 50527),\n (21695, 45322),\n (16557, 14699),\n (64252, 62552),\n (35482, 11477),\n (68963, 44985),\n (21592, 45000),\n (38157, 38744),\n (63051, 64293),\n (1190, 1126),\n (11306, 11591),\n (14988, 64217),\n (35040, 34796),\n (58702, 34913),\n (15406, 40495),\n (39021, 39197),\n (6507, 30190),\n (18695, 65521),\n (63023, 16708),\n (68518, 21431),\n (21147, 21444),\n (14516, 15153),\n (67850, 45417),\n (50531, 26469),\n (38814, 14363),\n (62473, 38586),\n (25016, 25043),\n (15392, 62363),\n (62400, 39926),\n (31384, 7206),\n (35101, 58345),\n (15141, 15527),\n (39823, 40618),\n (50415, 26433),\n (39678, 16342),\n (3005, 50540),\n (15559, 40549),\n (61750, 39100),\n (34969, 11061),\n (16863, 14879),\n (64256, 16289),\n (68256, 20923),\n (62017, 39422),\n (45879, 21930),\n (63711, 38409),\n (5491, 5776),\n (64051, 14365),\n (14153, 61334),\n (42111, 18097),\n (62154, 40434),\n (66154, 66168),\n (16583, 63870),\n (69210, 20991),\n (64113, 15167),\n (21618, 21449),\n (38301, 16355),\n (2937, 2946),\n (46340, 22367),\n (20412, 45484),\n (21558, 45055),\n (55629, 8085),\n (38080, 15063),\n (34917, 58659),\n (68913, 44942),\n (18278, 18542),\n (65331, 18290),\n (14628, 16071),\n (51383, 51472),\n (11765, 59157),\n (63848, 39831),\n (41563, 41947),\n (10294, 33915),\n (18617, 65861),\n (37355, 61119),\n (40068, 16750),\n (16927, 40122),\n (38705, 16001),\n (62529, 40274),\n (38971, 14790),\n (39167, 39384),\n (39790, 15488),\n (38500, 15833),\n (63348, 39304),\n (34874, 58919),\n (15032, 16161),\n (65696, 41961),\n (5245, 5304),\n (64072, 62823),\n (54802, 31777),\n (63154, 40330),\n (31606, 31961),\n (49799, 49967),\n (63600, 15711),\n (41609, 65519),\n (15956, 40418),\n (58331, 58412),\n (44949, 69181),\n (17913, 18637),\n (58867, 59042),\n (68400, 44704),\n (21045, 44383),\n (38664, 63869),\n (38206, 39877),\n (3198, 50654),\n (29707, 29781),\n (57576, 33424),\n (39749, 63010),\n (45519, 21552),\n (63307, 40038),\n (58555, 35292),\n (62298, 63055),\n (52369, 52712),\n (69236, 20972),\n (63113, 38644),\n (58943, 35081),\n (14740, 14741),\n (16651, 62495),\n (54869, 31612),\n (16533, 39543),\n (58824, 59232),\n (45104, 21672),\n (16713, 63869),\n (33607, 33637),\n (39824, 15776),\n (14654, 64208),\n (68405, 20939),\n (15190, 62666),\n (20813, 21493),\n (39172, 39518),\n (34690, 11303),\n (63650, 15379),\n (38967, 38832),\n (41988, 42345),\n (70268, 69065),\n (58489, 34778),\n (58516, 10890),\n (45702, 44738),\n (64275, 15801),\n (25204, 48902),\n (41413, 64822),\n (27087, 27214),\n (39654, 39738),\n (38318, 39191),\n (42289, 18788),\n (6103, 6137),\n (61726, 14528),\n (38304, 14963),\n (57376, 33976),\n (20567, 20989),\n (61788, 14198),\n (38926, 39250),\n (11202, 58732),\n (34506, 58081),\n (57661, 9796),\n (62130, 15838),\n (56942, 10205),\n (63052, 15235),\n (52427, 4944),\n (10879, 11722),\n (16739, 14924),\n (59073, 35244),\n (62162, 38841),\n (24748, 999),\n (55282, 31109),\n (16679, 39238),\n (27747, 3905),\n (11175, 58930),\n (63762, 15909),\n (63870, 61878),\n (26884, 50905),\n (26739, 26499),\n (62787, 39699),\n (35192, 58828),\n (16933, 63131),\n (55920, 8463),\n (14606, 63159),\n (31771, 7907),\n (29028, 5377),\n (8343, 30969),\n (20422, 20627),\n (63412, 40601),\n (68331, 45259),\n (7551, 7720),\n (55091, 55664),\n (55034, 7997),\n (69223, 21741),\n (38535, 15384),\n (54274, 30762),\n (55093, 31888),\n (8243, 7978),\n (69519, 20453),\n (61695, 14302),\n (15665, 15684),\n (26668, 2792),\n (62242, 15088),\n (16789, 16180),\n (39946, 15845),\n (10991, 11288),\n (16568, 14950),\n (39056, 39267),\n (31735, 7831),\n (2938, 50146),\n (68944, 69985),\n (38467, 63730),\n (39474, 63197),\n (16085, 16298),\n (68173, 68402),\n (39000, 62093),\n (58147, 34215),\n (16735, 38430),\n (53389, 53503),\n (52186, 52211),\n (34960, 11347),\n (38674, 39880),\n (22747, 44471),\n (41966, 18634),\n (14840, 62141),\n (62247, 14383),\n (4411, 4475),\n (2911, 3108),\n (18384, 18563),\n (38825, 15816),\n (31616, 7693),\n (14349, 16336),\n (5376, 28645),\n (62532, 62710),\n (35082, 58401),\n (19779, 20275),\n (62651, 15497),\n (21044, 45777),\n (68415, 45728),\n (49666, 1905),\n (59442, 35594),\n (2245, 2430),\n (16694, 39124),\n (69321, 45575),\n (63720, 16024),\n (63601, 63665),\n (42028, 17851),\n (27702, 51163),\n (16756, 39746),\n (64283, 15346),\n (35058, 11470),\n (58942, 35083),\n (61702, 39156),\n (48916, 1415),\n (64345, 15200),\n (11505, 35096),\n (11146, 11201),\n (45922, 46062),\n (22827, 21356),\n (16904, 39332),\n (16653, 40398),\n (7296, 31982),\n (45183, 70254),\n (62359, 16125),\n (44764, 69065),\n (38077, 63231),\n (14655, 15024),\n (58647, 34742),\n (38920, 15017),\n (39559, 39699),\n (29697, 5832),\n (59095, 59273),\n (46431, 44606),\n (18527, 41717),\n (15264, 16200),\n (65887, 18719),\n (12446, 36845),\n (39801, 16087),\n (58963, 59093),\n (62763, 15943),\n (34871, 11647),\n (27251, 27101),\n (11137, 11482),\n (16806, 40486),\n (14865, 15136),\n (35674, 11811),\n (21100, 46329),\n (16868, 38704),\n (64395, 14336),\n (63480, 63906),\n (45318, 44248),\n (55098, 55498),\n (57340, 10189),\n (9731, 9917),\n (10994, 11410),\n (51472, 3928),\n (14676, 63460),\n (63834, 39274),\n (58493, 11141),\n (63183, 15721),\n (16824, 39081),\n (58134, 34388),\n (29661, 6012),\n (44637, 21574),\n (45293, 45484),\n (8219, 31694),\n (35334, 11046),\n (22600, 46112),\n (20924, 21545),\n (5350, 52544),\n (18441, 65417),\n (38219, 15254),\n (61832, 39145),\n (35426, 35499),\n (67956, 68582),\n (58703, 35118),\n (41703, 66295),\n (55946, 8671),\n (14352, 15622),\n (14991, 39766),\n (35161, 11275),\n (58829, 35322),\n (62875, 14357),\n (32053, 32091),\n (16398, 14547),\n (16799, 40201),\n (39008, 63768),\n (41942, 18606),\n (69770, 22232),\n (14519, 39790),\n (21495, 46229),\n (16384, 40319),\n (62403, 63549),\n (38477, 39443),\n (62338, 40191),\n (14581, 39436),\n (63739, 15966),\n (62002, 40159),\n (20632, 46250),\n (34821, 11528),\n (53399, 29604),\n (61751, 39283),\n (68451, 46210),\n (5888, 29967),\n (62627, 40013),\n (53461, 29590),\n (27408, 27428),\n (62066, 63377),\n (27352, 51150),\n (48833, 24968),\n (63370, 63771),\n (11079, 34762),\n (45556, 22130),\n (63165, 63183),\n (26788, 26465),\n (39400, 15941),\n (58529, 35105),\n (29107, 5096),\n (13873, 61541),\n (27664, 3595),\n (58815, 35036),\n (55718, 32029),\n (14080, 37657),\n (14423, 63339),\n (15386, 16253),\n (27413, 27415),\n (68380, 20841),\n (61963, 14819),\n (45276, 69443),\n (38288, 40002),\n (41564, 42134),\n (44708, 20590),\n (44770, 21484),\n (16912, 40559),\n (3029, 50507),\n (58745, 59266),\n (58833, 35149),\n (69334, 20897),\n (39152, 40461),\n (52575, 28618),\n (22554, 69071),\n (29899, 5831),\n (68088, 45907),\n (34906, 35182),\n (38974, 39279),\n (35189, 11098),\n (62176, 38767),\n (29678, 29726),\n (61863, 39681),\n (40251, 16719),\n (44150, 22225),\n (34758, 11215),\n (14469, 15111),\n (62739, 39835),\n (57709, 56999),\n (69664, 46469),\n (61849, 16289),\n (38546, 16073),\n (61792, 64228),\n (62060, 63179),\n (26190, 26069),\n (15350, 16097),\n (40712, 17338),\n (7117, 7947),\n (54764, 54965),\n (40342, 64067),\n (14873, 15837),\n (34675, 11721),\n (10240, 57594),\n (16681, 63348),\n (51407, 51075),\n (14951, 14971),\n (31447, 31773),\n (16800, 14349),\n (66192, 65410),\n (62835, 39182),\n (34734, 11686),\n (30943, 8172),\n (16415, 40399),\n (30246, 30178),\n (59269, 11290),\n (64405, 39909),\n (64004, 15075),\n (67694, 20256),\n (68940, 69328),\n (32056, 31915),\n (63116, 63241),\n (42449, 17841),\n (59018, 34665),\n (34720, 35074),\n (58544, 11761),\n (15026, 64375),\n (6483, 30034),\n (50624, 50656),\n (54753, 7542),\n (18793, 41793),\n (31347, 7430),\n (14226, 38818),\n (41484, 17754),\n (8229, 7719),\n (41710, 41831),\n (59169, 11535),\n (14837, 16201),\n (66110, 18277),\n (33596, 9760),\n (4840, 28508),\n (21336, 21814),\n (37947, 63874),\n (41979, 66185),\n (2687, 50336),\n (41578, 41923),\n (5063, 5154),\n (20920, 68564),\n (31438, 54920),\n (18069, 18425),\n (21502, 69537),\n (38453, 15695),\n (58492, 59275),\n (14985, 16175),\n (69778, 22735),\n (9479, 9627),\n (10341, 33996),\n (39522, 16350),\n (62484, 15934),\n (65727, 41969),\n (15403, 40541),\n (39641, 64365),\n (45128, 22281),\n (63553, 14537),\n (26869, 3435),\n (54240, 6824),\n (34625, 11774),\n (62012, 64006),\n (62295, 63538),\n (21058, 20795),\n (59160, 10942),\n (38250, 39397),\n (34091, 57092),\n (16888, 63068),\n (10853, 35528),\n (39079, 38822),\n (63644, 62665),\n (16545, 38318),\n (63927, 64055),\n (42548, 42336),\n (58451, 11355),\n (59074, 34913),\n (18444, 41983),\n (10671, 34333),\n (62699, 62836),\n (63055, 39784),\n (31192, 7714),\n (14282, 39354),\n (14353, 64154),\n (55473, 7949),\n (22692, 46082),\n (63913, 38579),\n (21211, 20393),\n (44597, 69176),\n (14431, 63932),\n (25317, 49087),\n (22057, 21870),\n (2975, 50354),\n (51346, 3833),\n (35103, 11460),\n (38565, 14641),\n (58305, 11760),\n (62790, 15210),\n (15353, 15225),\n (21818, 21905),\n (29535, 5775),\n (62003, 16517),\n (20946, 44861),\n (63859, 15897),\n (64482, 40675),\n (62122, 39316),\n (34751, 35000),\n (39841, 38218),\n (40197, 16182),\n (38716, 39719),\n (63014, 40250),\n (58663, 11100),\n (39189, 62996),\n (41725, 65415),\n (34737, 11272),\n (27739, 51099),\n (61738, 61969),\n (45212, 68528),\n (69150, 20654),\n (64023, 16011),\n (37961, 62805),\n (31925, 54618),\n (63372, 38980),\n (61935, 16072),\n (65679, 18194),\n (39135, 40254),\n (42336, 18305),\n (39342, 15228),\n (38052, 16221),\n (31722, 31966),\n (41889, 42019),\n (62900, 39820),\n (16778, 64337),\n (41859, 17846),\n (62083, 14954),\n (16886, 15802),\n (42395, 18220),\n (62962, 39566),\n (16840, 62399),\n (63969, 40091),\n (14232, 63929),\n (39684, 15632),\n (32064, 31334),\n (5365, 52703),\n (49046, 49063),\n (63185, 38659),\n (63852, 62212),\n (14441, 14667),\n (20538, 44670),\n (38265, 38965),\n (16487, 15670),\n (57425, 10331),\n (41640, 42128),\n (63570, 40405),\n (16915, 63713),\n (63658, 61974),\n (40668, 16327),\n (33483, 9714),\n (55738, 55353),\n (21446, 22578),\n (17956, 17961),\n (9930, 33672),\n (69859, 21529),\n (39897, 40498),\n (21282, 22431),\n (51406, 27521),\n (38043, 39242),\n (2706, 50355),\n (41257, 64958),\n (45443, 21353),\n (55151, 54920),\n (38666, 15118),\n (63604, 39676),\n (63144, 40379),\n (61883, 64093),\n (68599, 44132),\n (38523, 16314),\n (44614, 44818),\n (44258, 69990),\n (38787, 39757),\n (38107, 62744),\n (49733, 49900),\n (63311, 14261),\n (68184, 46020),\n (58678, 59086),\n (40155, 15783),\n (62494, 39025),\n (42480, 65430),\n (45539, 68540),\n (70206, 21424),\n (16834, 62009),\n (45761, 22012),\n (68124, 20430),\n (11747, 11770),\n (34099, 9857),\n (20815, 46256),\n (35106, 11438),\n (62109, 63077),\n (40497, 14319),\n (38821, 39550),\n (57820, 10239),\n (62912, 64085),\n (40575, 16201),\n (8349, 7614),\n (44530, 21327),\n (3115, 3382),\n (38422, 40590),\n (16585, 38620),\n (41636, 42042),\n (63684, 14267),\n (11350, 58854),\n (38010, 15824),\n (63049, 63877),\n (58890, 11030),\n (68279, 69278),\n (52513, 28758),\n (41757, 18621),\n (64341, 39990),\n (45294, 45337),\n (14900, 14836),\n (18134, 66213),\n (50185, 2826),\n (39644, 40507),\n (40267, 16085),\n (38914, 61871),\n (40062, 15853),\n (16889, 16060),\n (41657, 18794),\n (38370, 40314),\n (57736, 56963),\n (17245, 17616),\n (13211, 60730),\n (64772, 41280),\n (58776, 11432),\n (26827, 2821),\n (27110, 50635),\n (41746, 18424),\n (44745, 21160),\n (65660, 42345),\n (61897, 62620),\n (37971, 38542),\n (38594, 63274),\n (28952, 5240),\n (26711, 50529),\n (68079, 21417),\n (11878, 35574),\n (65956, 65313),\n (58409, 58969),\n (59032, 34751),\n (20544, 22813),\n (18432, 18364),\n (62255, 64112),\n (20679, 70158),\n (18658, 42429),\n (53118, 53199),\n (38685, 15784),\n (70040, 20881),\n (2607, 26403),\n (62509, 39385),\n (14210, 14837),\n (14449, 16320),\n (2488, 2554),\n (38464, 14354),\n (62864, 63208),\n (45524, 21099),\n (10543, 10780),\n (51323, 3978),\n (63949, 63143),\n (20918, 21575),\n (39549, 15149),\n (45330, 21161),\n (62511, 15625),\n (15074, 15224),\n (57640, 33478),\n (6841, 6972),\n (63580, 15896),\n (7552, 54977),\n (45362, 46208),\n (35066, 35477),\n (2908, 50212),\n (55347, 7772),\n (63120, 15839),\n (64086, 63707),\n (17610, 65040),\n (45424, 45470),\n (46208, 69331),\n (39506, 40433),\n (68946, 44858),\n (14809, 39770),\n (16602, 14334),\n (69794, 21433),\n (38053, 63419),\n (58745, 11106),\n (42246, 18033),\n (41890, 65413),\n (55705, 7958),\n (68887, 21671),\n (10251, 57703),\n (38590, 39296),\n (62459, 16117),\n (18503, 65985),\n (49474, 1781),\n (20822, 69018),\n (8206, 31053),\n (55559, 31577),\n (61998, 15149),\n (14561, 15634),\n (45652, 69158),\n (26841, 50548),\n (62060, 14955),\n (45801, 21810),\n (30212, 53855),\n (63943, 63261),\n (35176, 11035),\n (62623, 16191),\n (16531, 39627),\n (25182, 1435),\n (65537, 17845),\n (41838, 42155),\n (20691, 68937),\n (58827, 35146),\n (16593, 40137),\n (38430, 38933),\n (14268, 40029),\n (35534, 11699),\n (55459, 7210),\n (63528, 64395),\n (63811, 62785),\n (16415, 16495),\n (61795, 39051),\n (44880, 45026),\n (27658, 27309),\n (21033, 45661),\n (63606, 64137),\n (17156, 40849),\n (14270, 64293),\n (44645, 70203),\n (58960, 35507),\n (55698, 55819),\n (61946, 15513),\n (11509, 58803),\n (25006, 25099),\n (33788, 9522),\n (68050, 21546),\n (7136, 54721),\n (16746, 40043),\n (58396, 11198),\n (35434, 11422),\n (14687, 40324),\n (18557, 65321),\n (65722, 42262),\n (39353, 15443),\n (44632, 20826),\n (14611, 15854),\n (69733, 20856),\n (15414, 62394),\n (66170, 18143),\n (62110, 14623),\n (16641, 14409),\n (6203, 29637),\n (41948, 17901),\n (15595, 16335),\n (18823, 18280),\n (61843, 62475),\n (45317, 20872),\n (38766, 14236),\n (34991, 58710),\n (40056, 39112),\n (39609, 62308),\n (20803, 68471),\n (35320, 10992),\n (58611, 58948),\n (3235, 26913),\n (20686, 45836),\n (44369, 69080),\n (16500, 40263),\n (62886, 40151),\n (62042, 63213),\n (16589, 62623),\n (58624, 34728),\n (58506, 35452),\n (45069, 44608),\n (43717, 19970),\n (63895, 62014),\n (16395, 64369),\n (50305, 26449),\n (14799, 39626),\n (11370, 34642),\n (15082, 15791),\n (53647, 5867),\n (62282, 39547),\n (57783, 34042),\n (63009, 63175),\n (62581, 16048),\n (38253, 14654),\n (63558, 62668),\n (42133, 18381),\n (11399, 58818),\n (63087, 63793),\n (54555, 31418),\n (61810, 40483),\n (15826, 62988),\n (42432, 18286),\n (7269, 7719),\n (27335, 27513),\n (3320, 50617),\n (39217, 39413),\n (11375, 11613),\n (58428, 35502),\n (38212, 62304),\n (29255, 29326),\n (7627, 8049),\n (44781, 45068),\n (38748, 64126),\n (29492, 5411),\n (22625, 21495),\n (62125, 62959),\n (33328, 9570),\n (55629, 31152),\n (10946, 59274),\n (38363, 39280),\n (61709, 16145),\n (65709, 42567),\n (31453, 7810),\n (66049, 18515),\n (62631, 14832),\n (30949, 32033),\n (35006, 35300),\n (39475, 15434),\n (62394, 37933),\n (33999, 33747),\n ...}"
     },
     "execution_count": 27,
     "metadata": {},
     "output_type": "execute_result"
    }
   ],
   "source": [
    "candidate_pairs"
   ],
   "metadata": {
    "collapsed": false,
    "pycharm": {
     "name": "#%%\n"
    }
   }
  },
  {
   "cell_type": "code",
   "execution_count": 28,
   "outputs": [
    {
     "name": "stdout",
     "output_type": "stream",
     "text": [
      "(18514, 65399)\n",
      "['public', 'wc', 'transitional', 'en', 'w', 'html', 'loose', 'head', 'title', 'eye', 'judgment', 'rotten', 'directdrive', 'undefined', 'new', 'date', 'random', 'ref', 'document', 'referrer', 'r', 'escape', 'document', 'referrer', 'ref', 'ref', 'split', 'join', 'f', 'ref', 'ref', 'split', 'join', 'e', 'ref', 'ref', 'split', 'join', 'document', 'write', 'function', 'mail_console', 'window', 'open', 'bin', 'gaming', 'p', 'eye', 'judgment', 'mail_console', 'width', 'height', 'status', 'document', 'domain', 'function', 'open_popup', 'width', 'height', 'left', 'screen', 'width', 'width', 'top', 'screen', 'height', 'height', 'new_window', 'window', 'open', 'location', 'status', 'yes', 'width', 'width', 'height', 'height', 'new_window', 'top', 'left', 'show', 'flash', 'width', 'height', 'test', 'top', 'add', 'make', 'home', 'page', 'advertising', 'content', 'medium', 'show', 'masthead', 'document', 'write', 'search', 'web', 'home', 'eye', 'judgment', 'eye', 'judgment', 'description', 'review', 'news', 'developer', 'japan', 'publisher', 'computer', 'entertainment', 'release', 'date', 'rd', 'category', 'card', 'score', 'na', 'take', 'eye', 'judgment', 'game', 'eye', 'judgment', 'eye', 'judgment', 'expansion', 'march', 'st', 'try', 'upcoming', 'biolith', 'rebellion', 'eye', 'judgment', 'nd', 'new', 'generation', 'eye', 'toy', 'almost', 'hand', 'e', 'eye', 'judgment', 'progress', 'report', 'th', 'elf', 'learn', 'get', 'along', 'e', 'eye', 'judgment', 'progress', 'report', 'th', 'elf', 'learn', 'get', 'along', 'e', 'eye', 'judgment', 'progress', 'report', 'th', 'elf', 'learn', 'get', 'along', 'eye', 'judgment', 'update', 'may', 'th', 'set', 'video', 'card', 'game', 'learn', 'eye', 'nd', 'battle', 'evil', 'stack', 'eye', 'judgment', 'update', 'may', 'th', 'technology', 'behind', 'card', 'game', 'e', 'eye', 'may', 'th', 'card', 'game', 'come', 'p', 'e', 'eye', 'may', 'th', 'creator', 'latest', 'crazy', 'idea', 'eye', 'judgment', 'network', 'update', 'may', 'nd', 'upcoming', 'update', 'detailed', 'eye', 'judgment', 'expansion', 'march', 'th', 'revealed', 'eye', 'judgment', 'second', 'card', 'set', 'nd', 'new', 'emerge', 'regarding', 'biolith', 'rebellion', 'eye', 'judgment', 'fixed', 'retail', 'rd', 'judge', 'game', 'eye', 'th', 'next', 'generation', 'fall', 'eye', 'judgment', 'demonstration', 'th', 'u', 'japan', 'compelling', 'p', 'title', 'e', 'launch', 'may', 'th', 'first', 'game', 'near', 'p', 'launch', 'around', 'network', 'eye', 'judgment', 'brain', 'great', 'male', 'survey', 'viral', 'tournament', 'home', 'edition', 'edition', 'edition', 'edition', 'edition', 'edition', 'edition', 'top', 'top', 'top', 'dating', 'sex', 'fashion', 'fine', 'living', 'entertainment', 'health', 'sport', 'power', 'money', 'daily', 'sex', 'exercise', 'top', 'top', 'top', 'top', 'top', 'top', 'top', 'top', 'men', 'top', 'men', 'top', 'men', 'top', 'men', 'special', 'grand', 'world', 'cup', 'world', 'cup', 'cup', 'better', 'man', 'great', 'male', 'survey', 'great', 'male', 'survey', 'celebrity', 'join', 'player', 'guide', 'member', 'login', 'join', 'virtual', 'trainer', 'member', 'login', 'newsletter', 'sign', 'free', 'message', 'top', 'top', 'men', 'men', 'daily', 'daily', 'gallery', 'day', 'gossip', 'day', 'joke', 'day', 'video', 'day', 'gadget', 'day', 'site', 'day', 'double', 'dating', 'doc', 'love', 'system', 'guide', 'romance', 'style', 'bar', 'bedroom', 'u', 'advertising', 'content', 'medium', 'job', 'editor', 'u', 'f', 'q', 'daily', 'feed', 'visit', 'site', 'map', 'show', 'medrec_premium', 'show', 'feature_unit', 'popular', 'arcade', 'day', 'game', 'gaming', 'gaming', 'pro', 'gaming', 'computer', 'role', 'top', 'game', 'video', 'game', 'video', 'game', 'featured', 'video', 'assassin', 'creed', 'call', 'duty', 'guitar', 'hero', 'halo', 'lynch', 'mass', 'effect', 'ratchet', 'clank', 'future', 'raw', 'complete', 'list', 'show', 'medrec_content', 'funny', 'sport', 'central', 'add', 'site', 'brainy', 'chic', 'cool', 'top', 'vote', 'top', 'road', 'trip', 'bond', 'quantum', 'solace', 'jack', 'contest', 'top', 'men', 'best', 'music', 'fall', 'guy', 'calendar', 'show', 'emergency', 'show', 'floating_ad', 'show', 'text', 'comrade', 'arena', 'technology', 'ved', 'rotten', 'directdrive', 'past', 'page', 'continued', 'use', 'site', 'agree', 'bound', 'abide', 'user', 'agreement', 'copyright', 'entertainment', 'u', 'support', 'advertise', 'privacy', 'policy', 'user', 'agreement', 'enterprise', 'running', 'oracle', 'professionally', 'remote'] ['public', 'wc', 'transitional', 'en', 'w', 'html', 'loose', 'head', 'title', 'harry', 'potter', 'order', 'phoenix', 'portable', 'rotten', 'directdrive', 'undefined', 'new', 'date', 'random', 'ref', 'document', 'referrer', 'r', 'escape', 'document', 'referrer', 'ref', 'ref', 'split', 'join', 'f', 'ref', 'ref', 'split', 'join', 'e', 'ref', 'ref', 'split', 'join', 'document', 'write', 'function', 'mail_console', 'window', 'open', 'bin', 'gaming', 'harry', 'potter', 'order', 'phoenix', 'mail_console', 'width', 'height', 'status', 'document', 'domain', 'function', 'open_popup', 'width', 'height', 'left', 'screen', 'width', 'width', 'top', 'screen', 'height', 'height', 'new_window', 'window', 'open', 'location', 'status', 'yes', 'width', 'width', 'height', 'height', 'new_window', 'top', 'left', 'show', 'flash', 'width', 'height', 'test', 'top', 'add', 'make', 'home', 'page', 'advertising', 'content', 'medium', 'show', 'masthead', 'document', 'write', 'search', 'web', 'home', 'harry', 'potter', 'order', 'phoenix', 'harry', 'potter', 'order', 'phoenix', 'portable', 'description', 'review', 'news', 'developer', 'ea', 'publisher', 'electronic', 'release', 'date', 'june', 'th', 'category', 'adventure', 'score', 'take', 'harry', 'potter', 'order', 'phoenix', 'week', 'new', 'video', 'game', 'popular', 'success', 'place', 'every', 'shelf', 'miserable', 'commercial', 'failure', 'burial', 'five', 'dollar', 'rack', 'always', 'point', 'u', 'former', 'response', 'prefer', 'reader', 'fill', 'u', 'real', 'let', 'u', 'know', 'whether', 'plan', 'giving', 'game', 'test', 'run', 'see', 'anticipation', 'game', 'harry', 'potter', 'order', 'phoenix', 'review', 'th', 'cast', 'spell', 'one', 'harry', 'potter', 'order', 'phoenix', 'news', 'harry', 'potter', 'order', 'phoenix', 'around', 'network', 'harry', 'potter', 'order', 'phoenix', 'brain', 'great', 'male', 'survey', 'viral', 'tournament', 'home', 'edition', 'edition', 'edition', 'edition', 'edition', 'edition', 'edition', 'top', 'top', 'top', 'dating', 'sex', 'fashion', 'fine', 'living', 'entertainment', 'health', 'sport', 'power', 'money', 'daily', 'sex', 'exercise', 'top', 'top', 'top', 'top', 'top', 'top', 'top', 'top', 'men', 'top', 'men', 'top', 'men', 'top', 'men', 'special', 'grand', 'world', 'cup', 'world', 'cup', 'cup', 'better', 'man', 'great', 'male', 'survey', 'great', 'male', 'survey', 'celebrity', 'join', 'player', 'guide', 'member', 'login', 'join', 'virtual', 'trainer', 'member', 'login', 'newsletter', 'sign', 'free', 'message', 'top', 'top', 'men', 'men', 'daily', 'daily', 'gallery', 'day', 'gossip', 'day', 'joke', 'day', 'video', 'day', 'gadget', 'day', 'site', 'day', 'double', 'dating', 'doc', 'love', 'system', 'guide', 'romance', 'style', 'bar', 'bedroom', 'u', 'advertising', 'content', 'medium', 'job', 'editor', 'u', 'f', 'q', 'daily', 'feed', 'visit', 'site', 'map', 'show', 'medrec_premium', 'show', 'feature_unit', 'popular', 'arcade', 'day', 'game', 'gaming', 'gaming', 'pro', 'gaming', 'computer', 'role', 'top', 'game', 'video', 'game', 'video', 'game', 'featured', 'video', 'assassin', 'creed', 'call', 'duty', 'guitar', 'hero', 'halo', 'lynch', 'mass', 'effect', 'ratchet', 'clank', 'future', 'raw', 'complete', 'list', 'show', 'medrec_content', 'funny', 'sport', 'central', 'add', 'site', 'brainy', 'chic', 'cool', 'top', 'vote', 'top', 'road', 'trip', 'bond', 'quantum', 'solace', 'jack', 'contest', 'top', 'men', 'best', 'music', 'fall', 'guy', 'calendar', 'show', 'emergency', 'show', 'floating_ad', 'show', 'text', 'comrade', 'arena', 'technology', 'ved', 'rotten', 'directdrive', 'past', 'page', 'continued', 'use', 'site', 'agree', 'bound', 'abide', 'user', 'agreement', 'copyright', 'entertainment', 'u', 'support', 'advertise', 'privacy', 'policy', 'user', 'agreement', 'enterprise', 'running', 'oracle', 'professionally', 'remote']\n"
     ]
    }
   ],
   "source": [
    "pair = next(iter(candidate_pairs))\n",
    "print(pair)\n",
    "pair = list(pair)\n",
    "print(data[pair[0]], data[pair[1]])"
   ],
   "metadata": {
    "collapsed": false,
    "pycharm": {
     "name": "#%%\n"
    }
   }
  },
  {
   "cell_type": "code",
   "execution_count": 40,
   "outputs": [],
   "source": [
    "num_candidates_shingles = []\n",
    "shingles = [5, 7, 9, 10]\n",
    "for shingle in shingles:\n",
    "    candidates = candidate_duplicates(data, char_ngram=shingle)\n",
    "    num_candidates_shingles.append(len(candidates))"
   ],
   "metadata": {
    "collapsed": false,
    "pycharm": {
     "name": "#%%\n"
    }
   }
  },
  {
   "cell_type": "code",
   "execution_count": 41,
   "outputs": [
    {
     "data": {
      "text/plain": "<Figure size 1080x720 with 1 Axes>",
      "image/png": "[encoded data removed]"
     },
     "metadata": {
      "needs_background": "light"
     },
     "output_type": "display_data"
    }
   ],
   "source": [
    "plt.figure(figsize=(15, 10))\n",
    "plt.bar(shingles, num_candidates_shingles, align='center')\n",
    "plt.title('Dependency of duplicates on shingle size')\n",
    "plt.xlabel('Number of shingles')\n",
    "plt.ylabel('Number of candidate duplicates')\n",
    "plt.xticks(shingles, shingles)\n",
    "plt.show()"
   ],
   "metadata": {
    "collapsed": false,
    "pycharm": {
     "name": "#%%\n"
    }
   }
  },
  {
   "cell_type": "code",
   "execution_count": 42,
   "outputs": [],
   "source": [
    "num_candidates = []\n",
    "lengths = [50, 100, 150,200, 250]\n",
    "for l in lengths:\n",
    "    candidates = candidate_duplicates(data, seeds=l)\n",
    "    num_candidates.append(len(candidates))"
   ],
   "metadata": {
    "collapsed": false,
    "pycharm": {
     "name": "#%%\n"
    }
   }
  },
  {
   "cell_type": "code",
   "execution_count": 44,
   "outputs": [
    {
     "data": {
      "text/plain": "<Figure size 1080x720 with 1 Axes>",
      "image/png": "[encoded data removed]"
     },
     "metadata": {
      "needs_background": "light"
     },
     "output_type": "display_data"
    }
   ],
   "source": [
    "plt.figure(figsize=(15, 10))\n",
    "plt.bar(lengths, num_candidates, align='center')\n",
    "plt.title('Dependency of duplicates on minhash length')\n",
    "plt.xlabel('Number of lengths')\n",
    "plt.ylabel('Number of candidate duplicates')\n",
    "plt.xticks(lengths, lengths)\n",
    "plt.show()"
   ],
   "metadata": {
    "collapsed": false,
    "pycharm": {
     "name": "#%%\n"
    }
   }
  },
  {
   "cell_type": "markdown",
   "metadata": {
    "id": "njdTa1daDMVS"
   },
   "source": [
    "# [Optional 10 points] Part 3. Topic model"
   ]
  },
  {
   "cell_type": "markdown",
   "metadata": {
    "id": "4BwJNkn2DMVT"
   },
   "source": [
    "In this part you will learn how to do topic modeling with common tools and assess the resulting quality of the models. "
   ]
  },
  {
   "cell_type": "code",
   "metadata": {
    "id": "l0WcLMhHDMVT"
   },
   "source": [],
   "execution_count": null,
   "outputs": []
  },
  {
   "cell_type": "markdown",
   "metadata": {
    "id": "WkNFzxqPDMVU"
   },
   "source": [
    "The provided data contain chunked stories by Edgar Allan Poe (EAP), Mary Shelley (MWS), and HP Lovecraft (HPL).\n",
    "\n",
    "The dataset can be downloaded here: `https://drive.google.com/file/d/14tAjAzHr6UmFVFV7ABTyNHBh-dWHAaLH/view?usp=sharing`"
   ]
  },
  {
   "cell_type": "markdown",
   "metadata": {
    "id": "5BNIa1miDMVU"
   },
   "source": [
    "#### Preprocess dataset with the functions from the Part 1"
   ]
  },
  {
   "cell_type": "code",
   "metadata": {
    "id": "9B8PZNRyDMVV"
   },
   "source": [
    ""
   ],
   "execution_count": null,
   "outputs": []
  },
  {
   "cell_type": "markdown",
   "metadata": {
    "id": "qKU2D29CDMVV"
   },
   "source": [
    "#### Quality estimation"
   ]
  },
  {
   "cell_type": "markdown",
   "metadata": {
    "id": "l6xfd3vpDMVW"
   },
   "source": [
    "Implement the following three quality fuctions: `coherence` (or `tf-idf coherence`), `normalized PMI`, `based on the distributed word representation`(you can use pretrained w2v vectors or some other model). You are free to use any libraries (for instance gensim) and components."
   ]
  },
  {
   "cell_type": "code",
   "metadata": {
    "id": "AEtv-gWcDMVW"
   },
   "source": [
    ""
   ],
   "execution_count": null,
   "outputs": []
  },
  {
   "cell_type": "markdown",
   "metadata": {
    "id": "Kp1jTJmPDMVX"
   },
   "source": [
    "### Topic modeling"
   ]
  },
  {
   "cell_type": "markdown",
   "metadata": {
    "id": "lgbVtgphDMVX"
   },
   "source": [
    "Read and preprocess the dataset, divide it into train and test parts `sklearn.model_selection.train_test_split`. Test part will be used in classification part. For simplicity we do not perform cross-validation here, but you should remember about it."
   ]
  },
  {
   "cell_type": "code",
   "metadata": {
    "id": "_Uh0J_C8DMVY"
   },
   "source": [
    ""
   ],
   "execution_count": null,
   "outputs": []
  },
  {
   "cell_type": "markdown",
   "metadata": {
    "id": "rNepVz1wDMVY"
   },
   "source": [
    "Plot the histogram of resulting tokens counts in the processed datasets."
   ]
  },
  {
   "cell_type": "code",
   "metadata": {
    "id": "L_7JVEfbDMVZ"
   },
   "source": [
    ""
   ],
   "execution_count": null,
   "outputs": []
  },
  {
   "cell_type": "markdown",
   "metadata": {
    "id": "ulOjNL9vDMVZ"
   },
   "source": [
    "Plot the histogram of resulting tokens counts in the processed datasets."
   ]
  },
  {
   "cell_type": "code",
   "metadata": {
    "id": "HAse0LBvDMVa"
   },
   "source": [
    ""
   ],
   "execution_count": null,
   "outputs": []
  },
  {
   "cell_type": "markdown",
   "metadata": {
    "id": "4N86AaGNDMVa"
   },
   "source": [
    "#### NMF"
   ]
  },
  {
   "cell_type": "markdown",
   "metadata": {
    "id": "kPelcAFQDMVa"
   },
   "source": [
    "Implement topic modeling with NMF (you can use `sklearn.decomposition.NMF`) and print out resulting topics. Try to change hyperparameters to better fit the dataset."
   ]
  },
  {
   "cell_type": "code",
   "metadata": {
    "id": "DCPzCMMMDMVa"
   },
   "source": [
    ""
   ],
   "execution_count": null,
   "outputs": []
  },
  {
   "cell_type": "markdown",
   "metadata": {
    "id": "zuaKAGIWDMVb"
   },
   "source": [
    "#### LDA"
   ]
  },
  {
   "cell_type": "markdown",
   "metadata": {
    "id": "PAK_MfQxDMVb"
   },
   "source": [
    "Implement topic modeling with LDA (you can use gensim implementation) and print out resulting topics. Try to change hyperparameters to better fit the dataset."
   ]
  },
  {
   "cell_type": "code",
   "metadata": {
    "id": "fdzopuCJDMVb"
   },
   "source": [
    ""
   ],
   "execution_count": null,
   "outputs": []
  },
  {
   "cell_type": "markdown",
   "metadata": {
    "id": "vSF6fq0NDMVc"
   },
   "source": [
    "### Additive regularization of topic models "
   ]
  },
  {
   "cell_type": "markdown",
   "metadata": {
    "id": "tVcA4itQDMVc"
   },
   "source": [
    "Implement topic modeling with ARTM. You may use bigartm library (simple installation for linux: pip install bigartm) or TopicNet framework (`https://github.com/machine-intelligence-laboratory/TopicNet`)"
   ]
  },
  {
   "cell_type": "markdown",
   "metadata": {
    "id": "03xhr0PmDMVc"
   },
   "source": [
    "Create artm topic model fit it to the data. Try to change hyperparameters (number of specific and background topics) to better fit the dataset. Play with smoothing and sparsing coefficients (use grid), try to add decorrelator. Print out resulting topics."
   ]
  },
  {
   "cell_type": "code",
   "metadata": {
    "id": "tgv1qIUZDMVc"
   },
   "source": [
    ""
   ],
   "execution_count": null,
   "outputs": []
  },
  {
   "cell_type": "markdown",
   "metadata": {
    "id": "mteOYV8TDMVd"
   },
   "source": [
    "Write a function to convert new documents to topics probabilities vectors."
   ]
  },
  {
   "cell_type": "code",
   "metadata": {
    "id": "IGkD9YaxDMVd"
   },
   "source": [
    ""
   ],
   "execution_count": null,
   "outputs": []
  },
  {
   "cell_type": "markdown",
   "metadata": {
    "id": "SPrNOdMLDMVd"
   },
   "source": [
    "Calculate the quality scores for each model. Make a barplot to compare the quality."
   ]
  },
  {
   "cell_type": "code",
   "metadata": {
    "id": "hQadAQCXDMVd"
   },
   "source": [
    ""
   ],
   "execution_count": null,
   "outputs": []
  }
 ]
}