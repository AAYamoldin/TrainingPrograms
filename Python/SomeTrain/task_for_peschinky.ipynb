{
 "cells": [
  {
   "cell_type": "code",
   "execution_count": 5,
   "metadata": {},
   "outputs": [],
   "source": [
    "import math\n",
    "import numpy as np\n",
    "import pandas"
   ]
  },
  {
   "cell_type": "code",
   "execution_count": 18,
   "metadata": {},
   "outputs": [],
   "source": [
    "x = 503\n",
    "total = 255255*257257\n",
    "in_first = x\n",
    "in_second = total - x\n",
    "sec = 0"
   ]
  },
  {
   "cell_type": "code",
   "execution_count": 19,
   "metadata": {},
   "outputs": [
    {
     "name": "stdout",
     "output_type": "stream",
     "text": [
      "240240\n"
     ]
    }
   ],
   "source": [
    "if (in_first%2) == 0:\n",
    "    in_second = in_second + in_first / 2\n",
    "    in_first = in_first / 2\n",
    "else:\n",
    "    in_first = in_first + in_second / 2\n",
    "    in_second = in_second / 2\n",
    "sec = sec + 1\n",
    "while(in_first != x):\n",
    "    if (in_first%2) == 0:\n",
    "        in_second = in_second + in_first / 2\n",
    "        in_first = in_first / 2\n",
    "    else:\n",
    "        in_first = in_first + in_second / 2\n",
    "        in_second = in_second / 2\n",
    "    sec = sec + 1\n",
    "print (sec)"
   ]
  },
  {
   "cell_type": "code",
   "execution_count": null,
   "metadata": {},
   "outputs": [],
   "source": []
  }
 ],
 "metadata": {
  "kernelspec": {
   "display_name": "Python 3",
   "language": "python",
   "name": "python3"
  },
  "language_info": {
   "codemirror_mode": {
    "name": "ipython",
    "version": 3
   },
   "file_extension": ".py",
   "mimetype": "text/x-python",
   "name": "python",
   "nbconvert_exporter": "python",
   "pygments_lexer": "ipython3",
   "version": "3.8.5"
  }
 },
 "nbformat": 4,
 "nbformat_minor": 4
}
