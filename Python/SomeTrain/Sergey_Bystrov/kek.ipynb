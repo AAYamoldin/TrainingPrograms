{
 "cells": [
  {
   "cell_type": "code",
   "execution_count": 1,
   "metadata": {
    "collapsed": true
   },
   "outputs": [],
   "source": [
    "import numpy as np\n",
    "import pandas as pd\n",
    "#import tensorflow as tf"
   ]
  },
  {
   "cell_type": "code",
   "execution_count": 2,
   "outputs": [],
   "source": [
    "An = pd.read_csv('./A.csv', sep=';')\n",
    "Da = pd.read_csv('./D.csv', sep=';')"
   ],
   "metadata": {
    "collapsed": false,
    "pycharm": {
     "name": "#%%\n"
    }
   }
  },
  {
   "cell_type": "code",
   "execution_count": 24,
   "outputs": [
    {
     "data": {
      "text/plain": "(6553, 1)"
     },
     "execution_count": 24,
     "metadata": {},
     "output_type": "execute_result"
    }
   ],
   "source": [
    "An.shape"
   ],
   "metadata": {
    "collapsed": false,
    "pycharm": {
     "name": "#%%\n"
    }
   }
  },
  {
   "cell_type": "code",
   "execution_count": 5,
   "outputs": [
    {
     "data": {
      "text/plain": "       1      2     3     4      5      6      7      8      9     10  ...  \\\n0  32767  20617  2830 -1490 -12204 -23697 -27412 -25441 -27494 -11881  ...   \n1   -257      9   128  -240    -87    343    321   -181   -602   -435  ...   \n2    569    211   -88  -267    120    176    -55   -146    429    390  ...   \n3     32     15     7     5     -7     -7     -9     12     49     54  ...   \n4     74    -40   -54   124    289    312    215    -15   -244   -289  ...   \n\n    1015   1016   1017   1018  1019  1020  1021  1022   1023   1024  \n0 -27380 -23881 -18665 -12448 -5435 -8984 -7377  4409  16371  29365  \n1    -66   -246   -146   -214  -298     9   -24   194     65     91  \n2     20    169    155    377   797   203  -466  -733   -385   -323  \n3    -28     24     47     35    34    26     9     2    -15    -51  \n4   -101    -14     40     48   -54   -89  -130   -37    107    192  \n\n[5 rows x 1024 columns]",
      "text/html": "<div>\n<style scoped>\n    .dataframe tbody tr th:only-of-type {\n        vertical-align: middle;\n    }\n\n    .dataframe tbody tr th {\n        vertical-align: top;\n    }\n\n    .dataframe thead th {\n        text-align: right;\n    }\n</style>\n<table border=\"1\" class=\"dataframe\">\n  <thead>\n    <tr style=\"text-align: right;\">\n      <th></th>\n      <th>1</th>\n      <th>2</th>\n      <th>3</th>\n      <th>4</th>\n      <th>5</th>\n      <th>6</th>\n      <th>7</th>\n      <th>8</th>\n      <th>9</th>\n      <th>10</th>\n      <th>...</th>\n      <th>1015</th>\n      <th>1016</th>\n      <th>1017</th>\n      <th>1018</th>\n      <th>1019</th>\n      <th>1020</th>\n      <th>1021</th>\n      <th>1022</th>\n      <th>1023</th>\n      <th>1024</th>\n    </tr>\n  </thead>\n  <tbody>\n    <tr>\n      <th>0</th>\n      <td>32767</td>\n      <td>20617</td>\n      <td>2830</td>\n      <td>-1490</td>\n      <td>-12204</td>\n      <td>-23697</td>\n      <td>-27412</td>\n      <td>-25441</td>\n      <td>-27494</td>\n      <td>-11881</td>\n      <td>...</td>\n      <td>-27380</td>\n      <td>-23881</td>\n      <td>-18665</td>\n      <td>-12448</td>\n      <td>-5435</td>\n      <td>-8984</td>\n      <td>-7377</td>\n      <td>4409</td>\n      <td>16371</td>\n      <td>29365</td>\n    </tr>\n    <tr>\n      <th>1</th>\n      <td>-257</td>\n      <td>9</td>\n      <td>128</td>\n      <td>-240</td>\n      <td>-87</td>\n      <td>343</td>\n      <td>321</td>\n      <td>-181</td>\n      <td>-602</td>\n      <td>-435</td>\n      <td>...</td>\n      <td>-66</td>\n      <td>-246</td>\n      <td>-146</td>\n      <td>-214</td>\n      <td>-298</td>\n      <td>9</td>\n      <td>-24</td>\n      <td>194</td>\n      <td>65</td>\n      <td>91</td>\n    </tr>\n    <tr>\n      <th>2</th>\n      <td>569</td>\n      <td>211</td>\n      <td>-88</td>\n      <td>-267</td>\n      <td>120</td>\n      <td>176</td>\n      <td>-55</td>\n      <td>-146</td>\n      <td>429</td>\n      <td>390</td>\n      <td>...</td>\n      <td>20</td>\n      <td>169</td>\n      <td>155</td>\n      <td>377</td>\n      <td>797</td>\n      <td>203</td>\n      <td>-466</td>\n      <td>-733</td>\n      <td>-385</td>\n      <td>-323</td>\n    </tr>\n    <tr>\n      <th>3</th>\n      <td>32</td>\n      <td>15</td>\n      <td>7</td>\n      <td>5</td>\n      <td>-7</td>\n      <td>-7</td>\n      <td>-9</td>\n      <td>12</td>\n      <td>49</td>\n      <td>54</td>\n      <td>...</td>\n      <td>-28</td>\n      <td>24</td>\n      <td>47</td>\n      <td>35</td>\n      <td>34</td>\n      <td>26</td>\n      <td>9</td>\n      <td>2</td>\n      <td>-15</td>\n      <td>-51</td>\n    </tr>\n    <tr>\n      <th>4</th>\n      <td>74</td>\n      <td>-40</td>\n      <td>-54</td>\n      <td>124</td>\n      <td>289</td>\n      <td>312</td>\n      <td>215</td>\n      <td>-15</td>\n      <td>-244</td>\n      <td>-289</td>\n      <td>...</td>\n      <td>-101</td>\n      <td>-14</td>\n      <td>40</td>\n      <td>48</td>\n      <td>-54</td>\n      <td>-89</td>\n      <td>-130</td>\n      <td>-37</td>\n      <td>107</td>\n      <td>192</td>\n    </tr>\n  </tbody>\n</table>\n<p>5 rows × 1024 columns</p>\n</div>"
     },
     "execution_count": 5,
     "metadata": {},
     "output_type": "execute_result"
    }
   ],
   "source": [
    "Da.head()"
   ],
   "metadata": {
    "collapsed": false,
    "pycharm": {
     "name": "#%%\n"
    }
   }
  },
  {
   "cell_type": "code",
   "execution_count": 7,
   "outputs": [],
   "source": [
    "c = np.max(Da, 1)\n",
    "Norm = Da.T / c\n",
    "Inp = Norm.T"
   ],
   "metadata": {
    "collapsed": false,
    "pycharm": {
     "name": "#%%\n"
    }
   }
  },
  {
   "cell_type": "code",
   "execution_count": 8,
   "outputs": [
    {
     "data": {
      "text/plain": "          0         1         2         3         4         5         6     \\\n1     1.000000 -0.231532  0.210897  0.216216  0.110945 -0.272727 -0.580157   \n2     0.629200  0.008108  0.078206  0.101351 -0.059970 -0.295455  0.437880   \n3     0.086367  0.115315 -0.032617  0.047297 -0.080960  0.272727  0.319193   \n4    -0.045473 -0.216216 -0.098962  0.033784  0.185907 -0.568182  0.061312   \n5    -0.372448 -0.078378  0.044477 -0.047297  0.433283 -0.386364 -0.071535   \n...        ...       ...       ...       ...       ...       ...       ...   \n1020 -0.274178  0.008108  0.075241  0.175676 -0.133433 -0.431818  0.232032   \n1021 -0.225135 -0.021622 -0.172721  0.060811 -0.194903  0.045455 -0.850673   \n1022  0.134556  0.174775 -0.271683  0.013514 -0.055472 -0.250000 -0.491409   \n1023  0.499619  0.058559 -0.142698 -0.101351  0.160420  0.068182 -0.099338   \n1024  0.896176  0.081982 -0.119718 -0.344595  0.287856  0.000000 -0.159581   \n\n          7         8         9     ...      6543      6544      6545  \\\n1     0.024542 -0.753976  0.002862  ... -0.084211 -0.337424 -0.263674   \n2    -0.182784 -0.427502  0.305050  ... -0.128947 -0.346157 -0.267454   \n3    -0.237363  0.219832  0.813279  ... -0.175000 -0.354814 -0.271825   \n4    -0.195238  0.615529 -0.421873  ... -0.222368 -0.363547 -0.277141   \n5     0.038462  0.621141 -0.372613  ... -0.270614 -0.372205 -0.283284   \n...        ...       ...       ...  ...       ...       ...       ...   \n1020 -0.213553  0.015903 -0.242421  ... -1.714474  0.459459 -0.678441   \n1021 -0.320513 -0.309635 -0.163786  ... -1.764035  0.459459 -0.687419   \n1022 -0.430037  0.237605 -0.007984  ... -1.814035  0.459610 -0.695452   \n1023 -0.418315  0.463985  0.101646  ... -1.864035  0.459911 -0.702776   \n1024 -0.149084  0.111319 -0.009039  ... -1.914474  0.460288 -0.709037   \n\n          6546      6547      6548      6549      6550      6551      6552  \n1    -0.509307  0.054416  0.422923  0.791530 -0.270883 -1.835985  0.494870  \n2    -0.512339  0.055967  0.420085  0.775836 -0.271624 -1.791964  0.495772  \n3    -0.514697  0.057517  0.416860  0.760348 -0.271717 -1.748080  0.497435  \n4    -0.516297  0.059139  0.413119  0.745134 -0.271532 -1.704334  0.499861  \n5    -0.517056  0.060830  0.408991  0.730332 -0.270883 -1.661135  0.503050  \n...        ...       ...       ...       ...       ...       ...       ...  \n1020  0.058705  0.468950  0.817789 -0.194627 -1.386553  0.984641 -0.186538  \n1021  0.059378  0.468809  0.803664 -0.196135 -1.357937  0.982172 -0.196936  \n1022  0.060389  0.468034  0.789216 -0.197574 -1.328857  0.980115 -0.207057  \n1023  0.061737  0.466695  0.774510 -0.198808 -1.299500  0.978744 -0.217108  \n1024  0.063253  0.464792  0.759739 -0.199767 -1.269680  0.978332 -0.227159  \n\n[1024 rows x 6553 columns]",
      "text/html": "<div>\n<style scoped>\n    .dataframe tbody tr th:only-of-type {\n        vertical-align: middle;\n    }\n\n    .dataframe tbody tr th {\n        vertical-align: top;\n    }\n\n    .dataframe thead th {\n        text-align: right;\n    }\n</style>\n<table border=\"1\" class=\"dataframe\">\n  <thead>\n    <tr style=\"text-align: right;\">\n      <th></th>\n      <th>0</th>\n      <th>1</th>\n      <th>2</th>\n      <th>3</th>\n      <th>4</th>\n      <th>5</th>\n      <th>6</th>\n      <th>7</th>\n      <th>8</th>\n      <th>9</th>\n      <th>...</th>\n      <th>6543</th>\n      <th>6544</th>\n      <th>6545</th>\n      <th>6546</th>\n      <th>6547</th>\n      <th>6548</th>\n      <th>6549</th>\n      <th>6550</th>\n      <th>6551</th>\n      <th>6552</th>\n    </tr>\n  </thead>\n  <tbody>\n    <tr>\n      <th>1</th>\n      <td>1.000000</td>\n      <td>-0.231532</td>\n      <td>0.210897</td>\n      <td>0.216216</td>\n      <td>0.110945</td>\n      <td>-0.272727</td>\n      <td>-0.580157</td>\n      <td>0.024542</td>\n      <td>-0.753976</td>\n      <td>0.002862</td>\n      <td>...</td>\n      <td>-0.084211</td>\n      <td>-0.337424</td>\n      <td>-0.263674</td>\n      <td>-0.509307</td>\n      <td>0.054416</td>\n      <td>0.422923</td>\n      <td>0.791530</td>\n      <td>-0.270883</td>\n      <td>-1.835985</td>\n      <td>0.494870</td>\n    </tr>\n    <tr>\n      <th>2</th>\n      <td>0.629200</td>\n      <td>0.008108</td>\n      <td>0.078206</td>\n      <td>0.101351</td>\n      <td>-0.059970</td>\n      <td>-0.295455</td>\n      <td>0.437880</td>\n      <td>-0.182784</td>\n      <td>-0.427502</td>\n      <td>0.305050</td>\n      <td>...</td>\n      <td>-0.128947</td>\n      <td>-0.346157</td>\n      <td>-0.267454</td>\n      <td>-0.512339</td>\n      <td>0.055967</td>\n      <td>0.420085</td>\n      <td>0.775836</td>\n      <td>-0.271624</td>\n      <td>-1.791964</td>\n      <td>0.495772</td>\n    </tr>\n    <tr>\n      <th>3</th>\n      <td>0.086367</td>\n      <td>0.115315</td>\n      <td>-0.032617</td>\n      <td>0.047297</td>\n      <td>-0.080960</td>\n      <td>0.272727</td>\n      <td>0.319193</td>\n      <td>-0.237363</td>\n      <td>0.219832</td>\n      <td>0.813279</td>\n      <td>...</td>\n      <td>-0.175000</td>\n      <td>-0.354814</td>\n      <td>-0.271825</td>\n      <td>-0.514697</td>\n      <td>0.057517</td>\n      <td>0.416860</td>\n      <td>0.760348</td>\n      <td>-0.271717</td>\n      <td>-1.748080</td>\n      <td>0.497435</td>\n    </tr>\n    <tr>\n      <th>4</th>\n      <td>-0.045473</td>\n      <td>-0.216216</td>\n      <td>-0.098962</td>\n      <td>0.033784</td>\n      <td>0.185907</td>\n      <td>-0.568182</td>\n      <td>0.061312</td>\n      <td>-0.195238</td>\n      <td>0.615529</td>\n      <td>-0.421873</td>\n      <td>...</td>\n      <td>-0.222368</td>\n      <td>-0.363547</td>\n      <td>-0.277141</td>\n      <td>-0.516297</td>\n      <td>0.059139</td>\n      <td>0.413119</td>\n      <td>0.745134</td>\n      <td>-0.271532</td>\n      <td>-1.704334</td>\n      <td>0.499861</td>\n    </tr>\n    <tr>\n      <th>5</th>\n      <td>-0.372448</td>\n      <td>-0.078378</td>\n      <td>0.044477</td>\n      <td>-0.047297</td>\n      <td>0.433283</td>\n      <td>-0.386364</td>\n      <td>-0.071535</td>\n      <td>0.038462</td>\n      <td>0.621141</td>\n      <td>-0.372613</td>\n      <td>...</td>\n      <td>-0.270614</td>\n      <td>-0.372205</td>\n      <td>-0.283284</td>\n      <td>-0.517056</td>\n      <td>0.060830</td>\n      <td>0.408991</td>\n      <td>0.730332</td>\n      <td>-0.270883</td>\n      <td>-1.661135</td>\n      <td>0.503050</td>\n    </tr>\n    <tr>\n      <th>...</th>\n      <td>...</td>\n      <td>...</td>\n      <td>...</td>\n      <td>...</td>\n      <td>...</td>\n      <td>...</td>\n      <td>...</td>\n      <td>...</td>\n      <td>...</td>\n      <td>...</td>\n      <td>...</td>\n      <td>...</td>\n      <td>...</td>\n      <td>...</td>\n      <td>...</td>\n      <td>...</td>\n      <td>...</td>\n      <td>...</td>\n      <td>...</td>\n      <td>...</td>\n      <td>...</td>\n    </tr>\n    <tr>\n      <th>1020</th>\n      <td>-0.274178</td>\n      <td>0.008108</td>\n      <td>0.075241</td>\n      <td>0.175676</td>\n      <td>-0.133433</td>\n      <td>-0.431818</td>\n      <td>0.232032</td>\n      <td>-0.213553</td>\n      <td>0.015903</td>\n      <td>-0.242421</td>\n      <td>...</td>\n      <td>-1.714474</td>\n      <td>0.459459</td>\n      <td>-0.678441</td>\n      <td>0.058705</td>\n      <td>0.468950</td>\n      <td>0.817789</td>\n      <td>-0.194627</td>\n      <td>-1.386553</td>\n      <td>0.984641</td>\n      <td>-0.186538</td>\n    </tr>\n    <tr>\n      <th>1021</th>\n      <td>-0.225135</td>\n      <td>-0.021622</td>\n      <td>-0.172721</td>\n      <td>0.060811</td>\n      <td>-0.194903</td>\n      <td>0.045455</td>\n      <td>-0.850673</td>\n      <td>-0.320513</td>\n      <td>-0.309635</td>\n      <td>-0.163786</td>\n      <td>...</td>\n      <td>-1.764035</td>\n      <td>0.459459</td>\n      <td>-0.687419</td>\n      <td>0.059378</td>\n      <td>0.468809</td>\n      <td>0.803664</td>\n      <td>-0.196135</td>\n      <td>-1.357937</td>\n      <td>0.982172</td>\n      <td>-0.196936</td>\n    </tr>\n    <tr>\n      <th>1022</th>\n      <td>0.134556</td>\n      <td>0.174775</td>\n      <td>-0.271683</td>\n      <td>0.013514</td>\n      <td>-0.055472</td>\n      <td>-0.250000</td>\n      <td>-0.491409</td>\n      <td>-0.430037</td>\n      <td>0.237605</td>\n      <td>-0.007984</td>\n      <td>...</td>\n      <td>-1.814035</td>\n      <td>0.459610</td>\n      <td>-0.695452</td>\n      <td>0.060389</td>\n      <td>0.468034</td>\n      <td>0.789216</td>\n      <td>-0.197574</td>\n      <td>-1.328857</td>\n      <td>0.980115</td>\n      <td>-0.207057</td>\n    </tr>\n    <tr>\n      <th>1023</th>\n      <td>0.499619</td>\n      <td>0.058559</td>\n      <td>-0.142698</td>\n      <td>-0.101351</td>\n      <td>0.160420</td>\n      <td>0.068182</td>\n      <td>-0.099338</td>\n      <td>-0.418315</td>\n      <td>0.463985</td>\n      <td>0.101646</td>\n      <td>...</td>\n      <td>-1.864035</td>\n      <td>0.459911</td>\n      <td>-0.702776</td>\n      <td>0.061737</td>\n      <td>0.466695</td>\n      <td>0.774510</td>\n      <td>-0.198808</td>\n      <td>-1.299500</td>\n      <td>0.978744</td>\n      <td>-0.217108</td>\n    </tr>\n    <tr>\n      <th>1024</th>\n      <td>0.896176</td>\n      <td>0.081982</td>\n      <td>-0.119718</td>\n      <td>-0.344595</td>\n      <td>0.287856</td>\n      <td>0.000000</td>\n      <td>-0.159581</td>\n      <td>-0.149084</td>\n      <td>0.111319</td>\n      <td>-0.009039</td>\n      <td>...</td>\n      <td>-1.914474</td>\n      <td>0.460288</td>\n      <td>-0.709037</td>\n      <td>0.063253</td>\n      <td>0.464792</td>\n      <td>0.759739</td>\n      <td>-0.199767</td>\n      <td>-1.269680</td>\n      <td>0.978332</td>\n      <td>-0.227159</td>\n    </tr>\n  </tbody>\n</table>\n<p>1024 rows × 6553 columns</p>\n</div>"
     },
     "execution_count": 8,
     "metadata": {},
     "output_type": "execute_result"
    }
   ],
   "source": [
    "Norm"
   ],
   "metadata": {
    "collapsed": false,
    "pycharm": {
     "name": "#%%\n"
    }
   }
  },
  {
   "cell_type": "code",
   "execution_count": 9,
   "outputs": [
    {
     "data": {
      "text/plain": "             1         2         3         4         5         6         7  \\\n0     1.000000  0.629200  0.086367 -0.045473 -0.372448 -0.723197 -0.836573   \n1    -0.231532  0.008108  0.115315 -0.216216 -0.078378  0.309009  0.289189   \n2     0.210897  0.078206 -0.032617 -0.098962  0.044477  0.065234 -0.020385   \n3     0.216216  0.101351  0.047297  0.033784 -0.047297 -0.047297 -0.060811   \n4     0.110945 -0.059970 -0.080960  0.185907  0.433283  0.467766  0.322339   \n...        ...       ...       ...       ...       ...       ...       ...   \n6548  0.422923  0.420085  0.416860  0.413119  0.408991  0.404476  0.399703   \n6549  0.791530  0.775836  0.760348  0.745134  0.730332  0.715872  0.701960   \n6550 -0.270883 -0.271624 -0.271717 -0.271532 -0.270883 -0.269494 -0.267550   \n6551 -1.835985 -1.791964 -1.748080 -1.704334 -1.661135 -1.618349 -1.575974   \n6552  0.494870  0.495772  0.497435  0.499861  0.503050  0.507001  0.511646   \n\n             8         9        10  ...      1015      1016      1017  \\\n0    -0.776421 -0.839076 -0.362590  ... -0.835597 -0.728813 -0.569628   \n1    -0.163063 -0.542342 -0.391892  ... -0.059459 -0.221622 -0.131532   \n2    -0.054114  0.159007  0.144552  ...  0.007413  0.062639  0.057450   \n3     0.081081  0.331081  0.364865  ... -0.189189  0.162162  0.317568   \n4    -0.022489 -0.365817 -0.433283  ... -0.151424 -0.020990  0.059970   \n...        ...       ...       ...  ...       ...       ...       ...   \n6548  0.394672  0.389319  0.383836  ...  0.879773  0.868873  0.857069   \n6549  0.688734  0.676192  0.664611  ... -0.184279 -0.186609 -0.188802   \n6550 -0.264864 -0.261437 -0.257085  ... -1.516021 -1.492406 -1.467401   \n6551 -1.534421 -1.493555 -1.453236  ...  0.998354  0.996160  0.993555   \n6552  0.516983  0.523153  0.529738  ... -0.132400 -0.143560 -0.154582   \n\n          1018      1019      1020      1021      1022      1023      1024  \n0    -0.379894 -0.165868 -0.274178 -0.225135  0.134556  0.499619  0.896176  \n1    -0.192793 -0.268468  0.008108 -0.021622  0.174775  0.058559  0.081982  \n2     0.139733  0.295404  0.075241 -0.172721 -0.271683 -0.142698 -0.119718  \n3     0.236486  0.229730  0.175676  0.060811  0.013514 -0.101351 -0.344595  \n4     0.071964 -0.080960 -0.133433 -0.194903 -0.055472  0.160420  0.287856  \n...        ...       ...       ...       ...       ...       ...       ...  \n6548  0.844621  0.831463  0.817789  0.803664  0.789216  0.774510  0.759739  \n6549 -0.190858 -0.192777 -0.194627 -0.196135 -0.197574 -0.198808 -0.199767  \n6550 -1.441378 -1.414336 -1.386553 -1.357937 -1.328857 -1.299500 -1.269680  \n6551  0.990675  0.987658  0.984641  0.982172  0.980115  0.978744  0.978332  \n6552 -0.165465 -0.176071 -0.186538 -0.196936 -0.207057 -0.217108 -0.227159  \n\n[6553 rows x 1024 columns]",
      "text/html": "<div>\n<style scoped>\n    .dataframe tbody tr th:only-of-type {\n        vertical-align: middle;\n    }\n\n    .dataframe tbody tr th {\n        vertical-align: top;\n    }\n\n    .dataframe thead th {\n        text-align: right;\n    }\n</style>\n<table border=\"1\" class=\"dataframe\">\n  <thead>\n    <tr style=\"text-align: right;\">\n      <th></th>\n      <th>1</th>\n      <th>2</th>\n      <th>3</th>\n      <th>4</th>\n      <th>5</th>\n      <th>6</th>\n      <th>7</th>\n      <th>8</th>\n      <th>9</th>\n      <th>10</th>\n      <th>...</th>\n      <th>1015</th>\n      <th>1016</th>\n      <th>1017</th>\n      <th>1018</th>\n      <th>1019</th>\n      <th>1020</th>\n      <th>1021</th>\n      <th>1022</th>\n      <th>1023</th>\n      <th>1024</th>\n    </tr>\n  </thead>\n  <tbody>\n    <tr>\n      <th>0</th>\n      <td>1.000000</td>\n      <td>0.629200</td>\n      <td>0.086367</td>\n      <td>-0.045473</td>\n      <td>-0.372448</td>\n      <td>-0.723197</td>\n      <td>-0.836573</td>\n      <td>-0.776421</td>\n      <td>-0.839076</td>\n      <td>-0.362590</td>\n      <td>...</td>\n      <td>-0.835597</td>\n      <td>-0.728813</td>\n      <td>-0.569628</td>\n      <td>-0.379894</td>\n      <td>-0.165868</td>\n      <td>-0.274178</td>\n      <td>-0.225135</td>\n      <td>0.134556</td>\n      <td>0.499619</td>\n      <td>0.896176</td>\n    </tr>\n    <tr>\n      <th>1</th>\n      <td>-0.231532</td>\n      <td>0.008108</td>\n      <td>0.115315</td>\n      <td>-0.216216</td>\n      <td>-0.078378</td>\n      <td>0.309009</td>\n      <td>0.289189</td>\n      <td>-0.163063</td>\n      <td>-0.542342</td>\n      <td>-0.391892</td>\n      <td>...</td>\n      <td>-0.059459</td>\n      <td>-0.221622</td>\n      <td>-0.131532</td>\n      <td>-0.192793</td>\n      <td>-0.268468</td>\n      <td>0.008108</td>\n      <td>-0.021622</td>\n      <td>0.174775</td>\n      <td>0.058559</td>\n      <td>0.081982</td>\n    </tr>\n    <tr>\n      <th>2</th>\n      <td>0.210897</td>\n      <td>0.078206</td>\n      <td>-0.032617</td>\n      <td>-0.098962</td>\n      <td>0.044477</td>\n      <td>0.065234</td>\n      <td>-0.020385</td>\n      <td>-0.054114</td>\n      <td>0.159007</td>\n      <td>0.144552</td>\n      <td>...</td>\n      <td>0.007413</td>\n      <td>0.062639</td>\n      <td>0.057450</td>\n      <td>0.139733</td>\n      <td>0.295404</td>\n      <td>0.075241</td>\n      <td>-0.172721</td>\n      <td>-0.271683</td>\n      <td>-0.142698</td>\n      <td>-0.119718</td>\n    </tr>\n    <tr>\n      <th>3</th>\n      <td>0.216216</td>\n      <td>0.101351</td>\n      <td>0.047297</td>\n      <td>0.033784</td>\n      <td>-0.047297</td>\n      <td>-0.047297</td>\n      <td>-0.060811</td>\n      <td>0.081081</td>\n      <td>0.331081</td>\n      <td>0.364865</td>\n      <td>...</td>\n      <td>-0.189189</td>\n      <td>0.162162</td>\n      <td>0.317568</td>\n      <td>0.236486</td>\n      <td>0.229730</td>\n      <td>0.175676</td>\n      <td>0.060811</td>\n      <td>0.013514</td>\n      <td>-0.101351</td>\n      <td>-0.344595</td>\n    </tr>\n    <tr>\n      <th>4</th>\n      <td>0.110945</td>\n      <td>-0.059970</td>\n      <td>-0.080960</td>\n      <td>0.185907</td>\n      <td>0.433283</td>\n      <td>0.467766</td>\n      <td>0.322339</td>\n      <td>-0.022489</td>\n      <td>-0.365817</td>\n      <td>-0.433283</td>\n      <td>...</td>\n      <td>-0.151424</td>\n      <td>-0.020990</td>\n      <td>0.059970</td>\n      <td>0.071964</td>\n      <td>-0.080960</td>\n      <td>-0.133433</td>\n      <td>-0.194903</td>\n      <td>-0.055472</td>\n      <td>0.160420</td>\n      <td>0.287856</td>\n    </tr>\n    <tr>\n      <th>...</th>\n      <td>...</td>\n      <td>...</td>\n      <td>...</td>\n      <td>...</td>\n      <td>...</td>\n      <td>...</td>\n      <td>...</td>\n      <td>...</td>\n      <td>...</td>\n      <td>...</td>\n      <td>...</td>\n      <td>...</td>\n      <td>...</td>\n      <td>...</td>\n      <td>...</td>\n      <td>...</td>\n      <td>...</td>\n      <td>...</td>\n      <td>...</td>\n      <td>...</td>\n      <td>...</td>\n    </tr>\n    <tr>\n      <th>6548</th>\n      <td>0.422923</td>\n      <td>0.420085</td>\n      <td>0.416860</td>\n      <td>0.413119</td>\n      <td>0.408991</td>\n      <td>0.404476</td>\n      <td>0.399703</td>\n      <td>0.394672</td>\n      <td>0.389319</td>\n      <td>0.383836</td>\n      <td>...</td>\n      <td>0.879773</td>\n      <td>0.868873</td>\n      <td>0.857069</td>\n      <td>0.844621</td>\n      <td>0.831463</td>\n      <td>0.817789</td>\n      <td>0.803664</td>\n      <td>0.789216</td>\n      <td>0.774510</td>\n      <td>0.759739</td>\n    </tr>\n    <tr>\n      <th>6549</th>\n      <td>0.791530</td>\n      <td>0.775836</td>\n      <td>0.760348</td>\n      <td>0.745134</td>\n      <td>0.730332</td>\n      <td>0.715872</td>\n      <td>0.701960</td>\n      <td>0.688734</td>\n      <td>0.676192</td>\n      <td>0.664611</td>\n      <td>...</td>\n      <td>-0.184279</td>\n      <td>-0.186609</td>\n      <td>-0.188802</td>\n      <td>-0.190858</td>\n      <td>-0.192777</td>\n      <td>-0.194627</td>\n      <td>-0.196135</td>\n      <td>-0.197574</td>\n      <td>-0.198808</td>\n      <td>-0.199767</td>\n    </tr>\n    <tr>\n      <th>6550</th>\n      <td>-0.270883</td>\n      <td>-0.271624</td>\n      <td>-0.271717</td>\n      <td>-0.271532</td>\n      <td>-0.270883</td>\n      <td>-0.269494</td>\n      <td>-0.267550</td>\n      <td>-0.264864</td>\n      <td>-0.261437</td>\n      <td>-0.257085</td>\n      <td>...</td>\n      <td>-1.516021</td>\n      <td>-1.492406</td>\n      <td>-1.467401</td>\n      <td>-1.441378</td>\n      <td>-1.414336</td>\n      <td>-1.386553</td>\n      <td>-1.357937</td>\n      <td>-1.328857</td>\n      <td>-1.299500</td>\n      <td>-1.269680</td>\n    </tr>\n    <tr>\n      <th>6551</th>\n      <td>-1.835985</td>\n      <td>-1.791964</td>\n      <td>-1.748080</td>\n      <td>-1.704334</td>\n      <td>-1.661135</td>\n      <td>-1.618349</td>\n      <td>-1.575974</td>\n      <td>-1.534421</td>\n      <td>-1.493555</td>\n      <td>-1.453236</td>\n      <td>...</td>\n      <td>0.998354</td>\n      <td>0.996160</td>\n      <td>0.993555</td>\n      <td>0.990675</td>\n      <td>0.987658</td>\n      <td>0.984641</td>\n      <td>0.982172</td>\n      <td>0.980115</td>\n      <td>0.978744</td>\n      <td>0.978332</td>\n    </tr>\n    <tr>\n      <th>6552</th>\n      <td>0.494870</td>\n      <td>0.495772</td>\n      <td>0.497435</td>\n      <td>0.499861</td>\n      <td>0.503050</td>\n      <td>0.507001</td>\n      <td>0.511646</td>\n      <td>0.516983</td>\n      <td>0.523153</td>\n      <td>0.529738</td>\n      <td>...</td>\n      <td>-0.132400</td>\n      <td>-0.143560</td>\n      <td>-0.154582</td>\n      <td>-0.165465</td>\n      <td>-0.176071</td>\n      <td>-0.186538</td>\n      <td>-0.196936</td>\n      <td>-0.207057</td>\n      <td>-0.217108</td>\n      <td>-0.227159</td>\n    </tr>\n  </tbody>\n</table>\n<p>6553 rows × 1024 columns</p>\n</div>"
     },
     "execution_count": 9,
     "metadata": {},
     "output_type": "execute_result"
    }
   ],
   "source": [
    "Inp"
   ],
   "metadata": {
    "collapsed": false,
    "pycharm": {
     "name": "#%%\n"
    }
   }
  },
  {
   "cell_type": "code",
   "execution_count": 114,
   "outputs": [],
   "source": [
    "from sklearn.model_selection import train_test_split\n",
    "X_train, X_test, y_train, y_test = train_test_split(Inp, An, test_size=0.33, random_state=69)"
   ],
   "metadata": {
    "collapsed": false,
    "pycharm": {
     "name": "#%%\n"
    }
   }
  },
  {
   "cell_type": "code",
   "execution_count": 194,
   "outputs": [],
   "source": [
    "import torch.nn as nn\n",
    "import torch\n",
    "from torch.utils.data import Dataset, DataLoader\n",
    "\n",
    "model = nn.Sequential(\n",
    "    nn.Linear(1024, 512),\n",
    "    nn.ReLU(),\n",
    "    nn.Linear(512, 256),\n",
    "    nn.ReLU(),\n",
    "    nn.Linear(256, 128),\n",
    "    nn.ReLU(),\n",
    "    nn.Linear(128, 64),\n",
    "    nn.ReLU(),\n",
    "    nn.Linear(64, 32),\n",
    "    nn.ReLU(),\n",
    "    nn.Linear(32, 1),\n",
    "#     nn.Softmax(dim=1)\n",
    ")"
   ],
   "metadata": {
    "collapsed": false,
    "pycharm": {
     "name": "#%%\n"
    }
   }
  },
  {
   "cell_type": "code",
   "execution_count": 204,
   "outputs": [],
   "source": [
    "EPOCHS = 10\n",
    "BATCH_SIZE = 64\n",
    "LEARNING_RATE = 0.001"
   ],
   "metadata": {
    "collapsed": false,
    "pycharm": {
     "name": "#%%\n"
    }
   }
  },
  {
   "cell_type": "code",
   "execution_count": 205,
   "outputs": [],
   "source": [
    "class ClassifierDataset(Dataset):\n",
    "\n",
    "    def __init__(self, X_data, y_data):\n",
    "        self.X_data = X_data\n",
    "        self.y_data = y_data\n",
    "\n",
    "    def __getitem__(self, index):\n",
    "        return self.X_data[index], self.y_data[index]\n",
    "\n",
    "    def __len__ (self):\n",
    "        return len(self.X_data)\n",
    "\n",
    "\n",
    "train_dataset = ClassifierDataset(torch.from_numpy(X_train.values).float(), torch.from_numpy(y_train.values))\n",
    "val_dataset = ClassifierDataset(torch.from_numpy(X_test.values).float(), torch.from_numpy(y_test.values))"
   ],
   "metadata": {
    "collapsed": false,
    "pycharm": {
     "name": "#%%\n"
    }
   }
  },
  {
   "cell_type": "code",
   "execution_count": 206,
   "outputs": [],
   "source": [
    "train_loader = DataLoader(dataset=train_dataset, batch_size=BATCH_SIZE, shuffle=True)\n",
    "test_loader = DataLoader(dataset=val_dataset, batch_size=2)"
   ],
   "metadata": {
    "collapsed": false,
    "pycharm": {
     "name": "#%%\n"
    }
   }
  },
  {
   "cell_type": "code",
   "execution_count": 207,
   "outputs": [
    {
     "name": "stdout",
     "output_type": "stream",
     "text": [
      "cuda:0\n"
     ]
    }
   ],
   "source": [
    "device = torch.device(\"cuda:0\" if torch.cuda.is_available() else \"cpu\")\n",
    "print(device)"
   ],
   "metadata": {
    "collapsed": false,
    "pycharm": {
     "name": "#%%\n"
    }
   }
  },
  {
   "cell_type": "code",
   "execution_count": 208,
   "outputs": [
    {
     "data": {
      "text/plain": "Sequential(\n  (0): Linear(in_features=1024, out_features=512, bias=True)\n  (1): ReLU()\n  (2): Linear(in_features=512, out_features=256, bias=True)\n  (3): ReLU()\n  (4): Linear(in_features=256, out_features=128, bias=True)\n  (5): ReLU()\n  (6): Linear(in_features=128, out_features=64, bias=True)\n  (7): ReLU()\n  (8): Linear(in_features=64, out_features=32, bias=True)\n  (9): ReLU()\n  (10): Linear(in_features=32, out_features=1, bias=True)\n)"
     },
     "execution_count": 208,
     "metadata": {},
     "output_type": "execute_result"
    }
   ],
   "source": [
    "model.to(device)"
   ],
   "metadata": {
    "collapsed": false,
    "pycharm": {
     "name": "#%%\n"
    }
   }
  },
  {
   "cell_type": "code",
   "execution_count": 209,
   "outputs": [],
   "source": [
    "import torch.optim as optim\n",
    "import torch.nn.functional as F\n",
    "optimizer = optim.Adam(model.parameters(), lr=LEARNING_RATE)"
   ],
   "metadata": {
    "collapsed": false,
    "pycharm": {
     "name": "#%%\n"
    }
   }
  },
  {
   "cell_type": "code",
   "execution_count": 209,
   "outputs": [],
   "source": [],
   "metadata": {
    "collapsed": false,
    "pycharm": {
     "name": "#%%\n"
    }
   }
  },
  {
   "cell_type": "code",
   "execution_count": 210,
   "outputs": [],
   "source": [
    "def multi_acc(y_pred, y_test):\n",
    "    y_pred_softmax = torch.log_softmax(y_pred, dim = 1)\n",
    "    _, y_pred_tags = torch.max(y_pred_softmax, dim = 1)\n",
    "\n",
    "    correct_pred = (y_pred_tags == y_test).float()\n",
    "    acc = correct_pred.sum() / len(correct_pred)\n",
    "\n",
    "    acc = torch.round(acc * 100)\n",
    "\n",
    "    return acc"
   ],
   "metadata": {
    "collapsed": false,
    "pycharm": {
     "name": "#%%\n"
    }
   }
  },
  {
   "cell_type": "code",
   "execution_count": 211,
   "outputs": [],
   "source": [
    "accuracy_stats = {\n",
    "    'train': [],\n",
    "    \"val\": []\n",
    "}\n",
    "loss_stats = {\n",
    "    'train': [],\n",
    "    \"val\": []\n",
    "}"
   ],
   "metadata": {
    "collapsed": false,
    "pycharm": {
     "name": "#%%\n"
    }
   }
  },
  {
   "cell_type": "code",
   "execution_count": 235,
   "outputs": [
    {
     "data": {
      "text/plain": "tensor(0.5938, device='cuda:0', grad_fn=<MultilabelMarginLossBackward0>)"
     },
     "execution_count": 235,
     "metadata": {},
     "output_type": "execute_result"
    }
   ],
   "source": [
    "loss = nn.MultiLabelMarginLoss()\n",
    "loss(y_train_pred.softmax(dim=1), y_train_batch)"
   ],
   "metadata": {
    "collapsed": false,
    "pycharm": {
     "name": "#%%\n"
    }
   }
  },
  {
   "cell_type": "code",
   "execution_count": 239,
   "outputs": [
    {
     "name": "stdout",
     "output_type": "stream",
     "text": [
      "Begin training.\n"
     ]
    },
    {
     "name": "stderr",
     "output_type": "stream",
     "text": [
      "100%|██████████| 10/10 [00:16<00:00,  1.64s/it]\n"
     ]
    }
   ],
   "source": [
    "from tqdm import tqdm\n",
    "print(\"Begin training.\")\n",
    "for e in tqdm(range(1, EPOCHS+1)):\n",
    "\n",
    "    # TRAINING\n",
    "    train_epoch_loss = 0\n",
    "    train_epoch_acc = 0\n",
    "    model.train()\n",
    "    for X_train_batch, y_train_batch in train_loader:\n",
    "        X_train_batch, y_train_batch = X_train_batch.to(device), y_train_batch.to(device)\n",
    "        optimizer.zero_grad()\n",
    "\n",
    "        y_train_pred = model(X_train_batch)\n",
    "        # print(torch.argmax(y_train_pred, dim=1))\n",
    "        # print(y_train_batch)\n",
    "        train_loss = F.cross_entropy(y_train_pred.softmax(dim=1).float(), y_train_batch.float())\n",
    "        # print(train_loss)\n",
    "        train_acc = multi_acc(y_train_pred, y_train_batch)\n",
    "\n",
    "        train_loss.backward()\n",
    "        optimizer.step()\n",
    "\n",
    "        train_epoch_loss += train_loss.item()\n",
    "        train_epoch_acc += train_acc.item()\n",
    "\n",
    "\n",
    "    # VALIDATION\n",
    "    with torch.no_grad():\n",
    "\n",
    "        val_epoch_loss = 0\n",
    "        val_epoch_acc = 0\n",
    "\n",
    "        model.eval()\n",
    "    for X_val_batch, y_val_batch in test_loader:\n",
    "        X_val_batch, y_val_batch = X_val_batch.to(device), y_val_batch.to(device)\n",
    "        y_val_pred = model(X_val_batch)\n",
    "        # print(X_val_batch)\n",
    "        # print(y_val_pred)\n",
    "        # print(y_val_batch)\n",
    "        val_loss = F.cross_entropy(y_val_pred.softmax(dim=1).float(), y_val_batch.float())\n",
    "        val_acc = multi_acc(y_val_pred, y_val_batch)\n",
    "        val_epoch_loss += val_loss.item()\n",
    "        val_epoch_acc += val_acc.item()\n",
    "    loss_stats['train'].append(train_epoch_loss/len(train_loader))\n",
    "    loss_stats['val'].append(val_epoch_loss/len(test_loader))\n",
    "    accuracy_stats['train'].append(train_epoch_acc/len(train_loader))\n",
    "    accuracy_stats['val'].append(val_epoch_acc/len(test_loader))\n",
    "\n",
    "    # print(f'Epoch {e+0:03}: | Train Loss: {train_epoch_loss/len(train_loader):.5f} | Val Loss: {val_epoch_loss/len(test_loader):.5f} | Train Acc: {train_epoch_acc/len(train_loader):.3f}| Val Acc: {val_epoch_acc/len(test_loader):.3f}')"
   ],
   "metadata": {
    "collapsed": false,
    "pycharm": {
     "name": "#%%\n"
    }
   }
  },
  {
   "cell_type": "code",
   "execution_count": 240,
   "outputs": [
    {
     "data": {
      "text/plain": "Text(0.5, 1.0, 'Train-Val Loss/Epoch')"
     },
     "execution_count": 240,
     "metadata": {},
     "output_type": "execute_result"
    },
    {
     "data": {
      "text/plain": "<Figure size 1440x504 with 2 Axes>",
      "image/png": "[encoded data removed]"
     },
     "metadata": {
      "needs_background": "light"
     },
     "output_type": "display_data"
    }
   ],
   "source": [
    "# Create dataframes\n",
    "import matplotlib.pyplot as plt\n",
    "import seaborn as sns\n",
    "train_val_acc_df = pd.DataFrame.from_dict(accuracy_stats).reset_index().melt(id_vars=['index']).rename(columns={\"index\":\"epochs\"})\n",
    "train_val_loss_df = pd.DataFrame.from_dict(loss_stats).reset_index().melt(id_vars=['index']).rename(columns={\"index\":\"epochs\"})\n",
    "# Plot the dataframes\n",
    "fig, axes = plt.subplots(nrows=1, ncols=2, figsize=(20,7))\n",
    "sns.lineplot(data=train_val_acc_df, x = \"epochs\", y=\"value\", hue=\"variable\",  ax=axes[0]).set_title('Train-Val Accuracy/Epoch')\n",
    "sns.lineplot(data=train_val_loss_df, x = \"epochs\", y=\"value\", hue=\"variable\", ax=axes[1]).set_title('Train-Val Loss/Epoch')"
   ],
   "metadata": {
    "collapsed": false,
    "pycharm": {
     "name": "#%%\n"
    }
   }
  },
  {
   "cell_type": "code",
   "execution_count": null,
   "outputs": [],
   "source": [],
   "metadata": {
    "collapsed": false,
    "pycharm": {
     "name": "#%%\n"
    }
   }
  }
 ],
 "metadata": {
  "kernelspec": {
   "display_name": "Python 3",
   "language": "python",
   "name": "python3"
  },
  "language_info": {
   "codemirror_mode": {
    "name": "ipython",
    "version": 2
   },
   "file_extension": ".py",
   "mimetype": "text/x-python",
   "name": "python",
   "nbconvert_exporter": "python",
   "pygments_lexer": "ipython2",
   "version": "2.7.6"
  }
 },
 "nbformat": 4,
 "nbformat_minor": 0
}