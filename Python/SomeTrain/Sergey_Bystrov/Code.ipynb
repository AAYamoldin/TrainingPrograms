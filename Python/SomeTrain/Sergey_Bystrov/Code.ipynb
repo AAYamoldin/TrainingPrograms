import numpy as np
import pandas as pd
import tensorflow as tf


Answer = 'D:/Документы/TGT/ML snl/Data/Chorus 9 + Chorus 9 Plus/A.csv'
Data = 'D:/Документы/TGT/ML snl/Data/Chorus 9 + Chorus 9 Plus/D.csv'
An = pd.read_csv(Answer, sep=';')
Da = pd.read_csv(Data, sep=';')

Anas = np.array(An)
Damas = np.array(Da)
c = np.max(Damas, 1)
Norm = Damas.T / c
Inp = Norm.T