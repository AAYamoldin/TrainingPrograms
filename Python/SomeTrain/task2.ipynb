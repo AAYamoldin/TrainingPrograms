{
 "cells": [
  {
   "cell_type": "code",
   "execution_count": 26,
   "metadata": {},
   "outputs": [],
   "source": [
    "import math\n",
    "import numpy as np\n",
    "import pandas"
   ]
  },
  {
   "cell_type": "code",
   "execution_count": 27,
   "metadata": {},
   "outputs": [],
   "source": [
    "def isInt(n):\n",
    "    return int(n) == float(n)"
   ]
  },
  {
   "cell_type": "code",
   "execution_count": null,
   "metadata": {},
   "outputs": [],
   "source": [
    "x_prev = 1\n",
    "x_next = 1\n",
    "n = 2\n",
    "eps = 10**(-8)\n",
    "summ_prev = 1\n",
    "summ_next = 2\n",
    "while (summ_next - summ_prev > eps):\n",
    "    if (n != 2):\n",
    "        summ_prev = summ_next\n",
    "    while((x_next/n**2 < x_prev/(n-1)**2)):\n",
    "        x_next = x_next + 1\n",
    "        #print('xn= ', x_next)\n",
    "        #print('n =', n)\n",
    "    x_next = x_next - 1\n",
    "    #print('x_next =', x_next)\n",
    "    summ_next = summ_prev + 1/x_next\n",
    "    x_prev = x_next\n",
    "    x_next = 1\n",
    "    n = n + 1\n",
    "print(summ_next)"
   ]
  },
  {
   "cell_type": "code",
   "execution_count": 39,
   "metadata": {},
   "outputs": [
    {
     "name": "stdout",
     "output_type": "stream",
     "text": [
      "1.9992406985573277\n"
     ]
    }
   ],
   "source": [
    "eps=10**(-13)\n",
    "while (summ_next - summ_prev > eps):\n",
    "    if (n != 2):\n",
    "        summ_prev = summ_next\n",
    "    while((x_next/n**2 < x_prev/(n-1)**2)):\n",
    "        x_next = x_next + 1\n",
    "        #print('xn= ', x_next)\n",
    "        #print('n =', n)\n",
    "    x_next = x_next - 1\n",
    "    #print('x_next =', x_next)\n",
    "    summ_next = summ_prev + 1/x_next\n",
    "    x_prev = x_next\n",
    "    x_next = 1\n",
    "    n = n + 1\n",
    "print(summ_next)"
   ]
  },
  {
   "cell_type": "code",
   "execution_count": null,
   "metadata": {},
   "outputs": [],
   "source": []
  }
 ],
 "metadata": {
  "kernelspec": {
   "display_name": "Python 3",
   "language": "python",
   "name": "python3"
  },
  "language_info": {
   "codemirror_mode": {
    "name": "ipython",
    "version": 3
   },
   "file_extension": ".py",
   "mimetype": "text/x-python",
   "name": "python",
   "nbconvert_exporter": "python",
   "pygments_lexer": "ipython3",
   "version": "3.8.5"
  }
 },
 "nbformat": 4,
 "nbformat_minor": 4
}
