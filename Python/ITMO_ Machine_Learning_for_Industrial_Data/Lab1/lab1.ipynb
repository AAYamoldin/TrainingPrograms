{
 "cells": [
  {
   "cell_type": "code",
   "execution_count": 1,
   "outputs": [],
   "source": [
    "import pandas as pd\n",
    "import numpy as np\n",
    "import matplotlib.pyplot as plt\n",
    "from datetime import datetime\n",
    "from tqdm import tqdm\n",
    "from sklearn import preprocessing\n",
    "import tensorflow as tf\n",
    "from statsmodels.tsa.arima.model import ARIMA, ARIMAResults\n",
    "from statsmodels.tsa.seasonal import seasonal_decompose\n",
    "import pmdarima\n",
    "import traceback\n",
    "import logging\n",
    "import warnings\n",
    "import folium\n",
    "from folium import plugins"
   ],
   "metadata": {
    "collapsed": false,
    "pycharm": {
     "name": "#%%\n"
    }
   }
  },
  {
   "cell_type": "code",
   "execution_count": 2,
   "outputs": [],
   "source": [
    "def error(y_pred, y_true):\n",
    "    return (np.abs(y_pred - y_true)) / y_pred"
   ],
   "metadata": {
    "collapsed": false,
    "pycharm": {
     "name": "#%%\n"
    }
   }
  },
  {
   "cell_type": "code",
   "execution_count": 3,
   "outputs": [
    {
     "data": {
      "text/plain": "          timestamp        lon        lat  likescount  commentscount  \\\n0        1565607600  30.329370  59.940488          63              4   \n1        1565568000  30.342845  59.869542          44              0   \n2        1565568000  30.322632  60.039332          30              0   \n3        1565568000  30.322632  59.938238          13              0   \n4        1565568000  30.309158  59.932612           8              0   \n...             ...        ...        ...         ...            ...   \n8526521  1565978400  30.324878  59.932612          48              0   \n8526522  1565978400  30.324878  59.932612          20              1   \n8526523  1565978400  30.324878  59.932612          54              2   \n8526524  1565971200  30.324878  59.932612          15              0   \n8526525  1565967600  30.324878  59.932612          61              5   \n\n         symbols_cnt  words_cnt  hashtags_cnt  mentions_cnt  links_cnt  \\\n0                 52          6             0             0          0   \n1                 40          0             4             0          0   \n2                 77          7             0             0          0   \n3                634         17            32             0          0   \n4                  0          0             0             0          0   \n...              ...        ...           ...           ...        ...   \n8526521           15          2             0             0          0   \n8526522            0          0             0             0          0   \n8526523           75          7             0             0          0   \n8526524          350          4            25             0          0   \n8526525           37          1             1             0          0   \n\n         emoji_cnt                                              point  \n0                0  0101000020E6100000DBC1F19351543E4006FC5DE561F8...  \n1                0  0101000020E6100000544263A8C4573E40C27FCF284DEF...  \n2                1  0101000020E61000009E01B90998523E40888919D70805...  \n3                7  0101000020E61000009E01B90998523E40CEB8CE2B18F8...  \n4                0  0101000020E6100000268147F5244F3E40494A4ED65FF7...  \n...            ...                                                ...  \n8526521          1  0101000020E61000005DECCB372B533E40494A4ED65FF7...  \n8526522          0  0101000020E61000005DECCB372B533E40494A4ED65FF7...  \n8526523          6  0101000020E61000005DECCB372B533E40494A4ED65FF7...  \n8526524          0  0101000020E61000005DECCB372B533E40494A4ED65FF7...  \n8526525          1  0101000020E61000005DECCB372B533E40494A4ED65FF7...  \n\n[8526526 rows x 12 columns]",
      "text/html": "<div>\n<style scoped>\n    .dataframe tbody tr th:only-of-type {\n        vertical-align: middle;\n    }\n\n    .dataframe tbody tr th {\n        vertical-align: top;\n    }\n\n    .dataframe thead th {\n        text-align: right;\n    }\n</style>\n<table border=\"1\" class=\"dataframe\">\n  <thead>\n    <tr style=\"text-align: right;\">\n      <th></th>\n      <th>timestamp</th>\n      <th>lon</th>\n      <th>lat</th>\n      <th>likescount</th>\n      <th>commentscount</th>\n      <th>symbols_cnt</th>\n      <th>words_cnt</th>\n      <th>hashtags_cnt</th>\n      <th>mentions_cnt</th>\n      <th>links_cnt</th>\n      <th>emoji_cnt</th>\n      <th>point</th>\n    </tr>\n  </thead>\n  <tbody>\n    <tr>\n      <th>0</th>\n      <td>1565607600</td>\n      <td>30.329370</td>\n      <td>59.940488</td>\n      <td>63</td>\n      <td>4</td>\n      <td>52</td>\n      <td>6</td>\n      <td>0</td>\n      <td>0</td>\n      <td>0</td>\n      <td>0</td>\n      <td>0101000020E6100000DBC1F19351543E4006FC5DE561F8...</td>\n    </tr>\n    <tr>\n      <th>1</th>\n      <td>1565568000</td>\n      <td>30.342845</td>\n      <td>59.869542</td>\n      <td>44</td>\n      <td>0</td>\n      <td>40</td>\n      <td>0</td>\n      <td>4</td>\n      <td>0</td>\n      <td>0</td>\n      <td>0</td>\n      <td>0101000020E6100000544263A8C4573E40C27FCF284DEF...</td>\n    </tr>\n    <tr>\n      <th>2</th>\n      <td>1565568000</td>\n      <td>30.322632</td>\n      <td>60.039332</td>\n      <td>30</td>\n      <td>0</td>\n      <td>77</td>\n      <td>7</td>\n      <td>0</td>\n      <td>0</td>\n      <td>0</td>\n      <td>1</td>\n      <td>0101000020E61000009E01B90998523E40888919D70805...</td>\n    </tr>\n    <tr>\n      <th>3</th>\n      <td>1565568000</td>\n      <td>30.322632</td>\n      <td>59.938238</td>\n      <td>13</td>\n      <td>0</td>\n      <td>634</td>\n      <td>17</td>\n      <td>32</td>\n      <td>0</td>\n      <td>0</td>\n      <td>7</td>\n      <td>0101000020E61000009E01B90998523E40CEB8CE2B18F8...</td>\n    </tr>\n    <tr>\n      <th>4</th>\n      <td>1565568000</td>\n      <td>30.309158</td>\n      <td>59.932612</td>\n      <td>8</td>\n      <td>0</td>\n      <td>0</td>\n      <td>0</td>\n      <td>0</td>\n      <td>0</td>\n      <td>0</td>\n      <td>0</td>\n      <td>0101000020E6100000268147F5244F3E40494A4ED65FF7...</td>\n    </tr>\n    <tr>\n      <th>...</th>\n      <td>...</td>\n      <td>...</td>\n      <td>...</td>\n      <td>...</td>\n      <td>...</td>\n      <td>...</td>\n      <td>...</td>\n      <td>...</td>\n      <td>...</td>\n      <td>...</td>\n      <td>...</td>\n      <td>...</td>\n    </tr>\n    <tr>\n      <th>8526521</th>\n      <td>1565978400</td>\n      <td>30.324878</td>\n      <td>59.932612</td>\n      <td>48</td>\n      <td>0</td>\n      <td>15</td>\n      <td>2</td>\n      <td>0</td>\n      <td>0</td>\n      <td>0</td>\n      <td>1</td>\n      <td>0101000020E61000005DECCB372B533E40494A4ED65FF7...</td>\n    </tr>\n    <tr>\n      <th>8526522</th>\n      <td>1565978400</td>\n      <td>30.324878</td>\n      <td>59.932612</td>\n      <td>20</td>\n      <td>1</td>\n      <td>0</td>\n      <td>0</td>\n      <td>0</td>\n      <td>0</td>\n      <td>0</td>\n      <td>0</td>\n      <td>0101000020E61000005DECCB372B533E40494A4ED65FF7...</td>\n    </tr>\n    <tr>\n      <th>8526523</th>\n      <td>1565978400</td>\n      <td>30.324878</td>\n      <td>59.932612</td>\n      <td>54</td>\n      <td>2</td>\n      <td>75</td>\n      <td>7</td>\n      <td>0</td>\n      <td>0</td>\n      <td>0</td>\n      <td>6</td>\n      <td>0101000020E61000005DECCB372B533E40494A4ED65FF7...</td>\n    </tr>\n    <tr>\n      <th>8526524</th>\n      <td>1565971200</td>\n      <td>30.324878</td>\n      <td>59.932612</td>\n      <td>15</td>\n      <td>0</td>\n      <td>350</td>\n      <td>4</td>\n      <td>25</td>\n      <td>0</td>\n      <td>0</td>\n      <td>0</td>\n      <td>0101000020E61000005DECCB372B533E40494A4ED65FF7...</td>\n    </tr>\n    <tr>\n      <th>8526525</th>\n      <td>1565967600</td>\n      <td>30.324878</td>\n      <td>59.932612</td>\n      <td>61</td>\n      <td>5</td>\n      <td>37</td>\n      <td>1</td>\n      <td>1</td>\n      <td>0</td>\n      <td>0</td>\n      <td>1</td>\n      <td>0101000020E61000005DECCB372B533E40494A4ED65FF7...</td>\n    </tr>\n  </tbody>\n</table>\n<p>8526526 rows × 12 columns</p>\n</div>"
     },
     "execution_count": 3,
     "metadata": {},
     "output_type": "execute_result"
    }
   ],
   "source": [
    "df = pd.read_csv('train_data.csv')\n",
    "df"
   ],
   "metadata": {
    "collapsed": false,
    "pycharm": {
     "name": "#%%\n"
    }
   }
  },
  {
   "cell_type": "code",
   "execution_count": 4,
   "outputs": [
    {
     "data": {
      "text/plain": "          timestamp                                              point\n0        1565607600  0101000020E6100000DBC1F19351543E4006FC5DE561F8...\n1        1565568000  0101000020E6100000544263A8C4573E40C27FCF284DEF...\n2        1565568000  0101000020E61000009E01B90998523E40888919D70805...\n3        1565568000  0101000020E61000009E01B90998523E40CEB8CE2B18F8...\n4        1565568000  0101000020E6100000268147F5244F3E40494A4ED65FF7...\n...             ...                                                ...\n8526521  1565978400  0101000020E61000005DECCB372B533E40494A4ED65FF7...\n8526522  1565978400  0101000020E61000005DECCB372B533E40494A4ED65FF7...\n8526523  1565978400  0101000020E61000005DECCB372B533E40494A4ED65FF7...\n8526524  1565971200  0101000020E61000005DECCB372B533E40494A4ED65FF7...\n8526525  1565967600  0101000020E61000005DECCB372B533E40494A4ED65FF7...\n\n[8526526 rows x 2 columns]",
      "text/html": "<div>\n<style scoped>\n    .dataframe tbody tr th:only-of-type {\n        vertical-align: middle;\n    }\n\n    .dataframe tbody tr th {\n        vertical-align: top;\n    }\n\n    .dataframe thead th {\n        text-align: right;\n    }\n</style>\n<table border=\"1\" class=\"dataframe\">\n  <thead>\n    <tr style=\"text-align: right;\">\n      <th></th>\n      <th>timestamp</th>\n      <th>point</th>\n    </tr>\n  </thead>\n  <tbody>\n    <tr>\n      <th>0</th>\n      <td>1565607600</td>\n      <td>0101000020E6100000DBC1F19351543E4006FC5DE561F8...</td>\n    </tr>\n    <tr>\n      <th>1</th>\n      <td>1565568000</td>\n      <td>0101000020E6100000544263A8C4573E40C27FCF284DEF...</td>\n    </tr>\n    <tr>\n      <th>2</th>\n      <td>1565568000</td>\n      <td>0101000020E61000009E01B90998523E40888919D70805...</td>\n    </tr>\n    <tr>\n      <th>3</th>\n      <td>1565568000</td>\n      <td>0101000020E61000009E01B90998523E40CEB8CE2B18F8...</td>\n    </tr>\n    <tr>\n      <th>4</th>\n      <td>1565568000</td>\n      <td>0101000020E6100000268147F5244F3E40494A4ED65FF7...</td>\n    </tr>\n    <tr>\n      <th>...</th>\n      <td>...</td>\n      <td>...</td>\n    </tr>\n    <tr>\n      <th>8526521</th>\n      <td>1565978400</td>\n      <td>0101000020E61000005DECCB372B533E40494A4ED65FF7...</td>\n    </tr>\n    <tr>\n      <th>8526522</th>\n      <td>1565978400</td>\n      <td>0101000020E61000005DECCB372B533E40494A4ED65FF7...</td>\n    </tr>\n    <tr>\n      <th>8526523</th>\n      <td>1565978400</td>\n      <td>0101000020E61000005DECCB372B533E40494A4ED65FF7...</td>\n    </tr>\n    <tr>\n      <th>8526524</th>\n      <td>1565971200</td>\n      <td>0101000020E61000005DECCB372B533E40494A4ED65FF7...</td>\n    </tr>\n    <tr>\n      <th>8526525</th>\n      <td>1565967600</td>\n      <td>0101000020E61000005DECCB372B533E40494A4ED65FF7...</td>\n    </tr>\n  </tbody>\n</table>\n<p>8526526 rows × 2 columns</p>\n</div>"
     },
     "execution_count": 4,
     "metadata": {},
     "output_type": "execute_result"
    }
   ],
   "source": [
    "#сократим количество потребляемой оперативы\n",
    "df = df[['timestamp', 'point']]\n",
    "df"
   ],
   "metadata": {
    "collapsed": false,
    "pycharm": {
     "name": "#%%\n"
    }
   }
  },
  {
   "cell_type": "code",
   "execution_count": 5,
   "outputs": [
    {
     "data": {
      "text/plain": "7041"
     },
     "execution_count": 5,
     "metadata": {},
     "output_type": "execute_result"
    }
   ],
   "source": [
    "len(df.point.unique())"
   ],
   "metadata": {
    "collapsed": false,
    "pycharm": {
     "name": "#%%\n"
    }
   }
  },
  {
   "cell_type": "code",
   "execution_count": 6,
   "outputs": [
    {
     "data": {
      "text/plain": "                                                 point        hour  sum  \\\n504  0101000020E610000091029C327E593E40494A4ED65FF7...  1580587200   40   \n638  0101000020E61000004D98FA185E5C3E40D4F7F058CCF6...  1582560000   39   \n100  0101000020E6100000A4566D514B503E4006FC5DE561F8...  1581094800   38   \n529  0101000020E6100000A4566D514B503E4006FC5DE561F8...  1580835600   38   \n234  0101000020E6100000669634C7914E3E407AB3D8B484F7...  1581019200   37   \n..                                                 ...         ...  ...   \n79   0101000020E61000000FD8C18EA45A3E408991431816F7...  1580666400    5   \n506  0101000020E6100000268147F5244F3E40DB251193A9F7...  1581001200    5   \n507  0101000020E61000006141807FDE503E402B348A98ADF9...  1580785200    5   \n510  0101000020E61000004D98FA185E5C3E40CAE971F73AF7...  1580882400    5   \n0    0101000020E6100000202C93AD71513E4070B5CC78A7F6...  1582448400    5   \n\n         error        lon        lat           timestamp       Dates      Time  \n504  38.754735  30.349582  59.932612 2020-02-01 23:00:00  2020-02-01  23:00:00  \n638   3.629735  30.360811  59.928111 2020-02-24 19:00:00  2020-02-24  19:00:00  \n100  17.754735  30.313649  59.940488 2020-02-07 20:00:00  2020-02-07  20:00:00  \n529  36.754735  30.313649  59.940488 2020-02-04 20:00:00  2020-02-04  20:00:00  \n234   4.921402  30.306912  59.933737 2020-02-06 23:00:00  2020-02-06  23:00:00  \n..         ...        ...        ...                 ...         ...       ...  \n79    0.245265  30.354073  59.930362 2020-02-02 21:00:00  2020-02-02  21:00:00  \n506   3.754735  30.309158  59.934863 2020-02-06 18:00:00  2020-02-06  18:00:00  \n507   3.754735  30.315895  59.950610 2020-02-04 06:00:00  2020-02-04  06:00:00  \n510   0.004735  30.360811  59.931487 2020-02-05 09:00:00  2020-02-05  09:00:00  \n0     0.421402  30.318141  59.926986 2020-02-23 12:00:00  2020-02-23  12:00:00  \n\n[709 rows x 9 columns]",
      "text/html": "<div>\n<style scoped>\n    .dataframe tbody tr th:only-of-type {\n        vertical-align: middle;\n    }\n\n    .dataframe tbody tr th {\n        vertical-align: top;\n    }\n\n    .dataframe thead th {\n        text-align: right;\n    }\n</style>\n<table border=\"1\" class=\"dataframe\">\n  <thead>\n    <tr style=\"text-align: right;\">\n      <th></th>\n      <th>point</th>\n      <th>hour</th>\n      <th>sum</th>\n      <th>error</th>\n      <th>lon</th>\n      <th>lat</th>\n      <th>timestamp</th>\n      <th>Dates</th>\n      <th>Time</th>\n    </tr>\n  </thead>\n  <tbody>\n    <tr>\n      <th>504</th>\n      <td>0101000020E610000091029C327E593E40494A4ED65FF7...</td>\n      <td>1580587200</td>\n      <td>40</td>\n      <td>38.754735</td>\n      <td>30.349582</td>\n      <td>59.932612</td>\n      <td>2020-02-01 23:00:00</td>\n      <td>2020-02-01</td>\n      <td>23:00:00</td>\n    </tr>\n    <tr>\n      <th>638</th>\n      <td>0101000020E61000004D98FA185E5C3E40D4F7F058CCF6...</td>\n      <td>1582560000</td>\n      <td>39</td>\n      <td>3.629735</td>\n      <td>30.360811</td>\n      <td>59.928111</td>\n      <td>2020-02-24 19:00:00</td>\n      <td>2020-02-24</td>\n      <td>19:00:00</td>\n    </tr>\n    <tr>\n      <th>100</th>\n      <td>0101000020E6100000A4566D514B503E4006FC5DE561F8...</td>\n      <td>1581094800</td>\n      <td>38</td>\n      <td>17.754735</td>\n      <td>30.313649</td>\n      <td>59.940488</td>\n      <td>2020-02-07 20:00:00</td>\n      <td>2020-02-07</td>\n      <td>20:00:00</td>\n    </tr>\n    <tr>\n      <th>529</th>\n      <td>0101000020E6100000A4566D514B503E4006FC5DE561F8...</td>\n      <td>1580835600</td>\n      <td>38</td>\n      <td>36.754735</td>\n      <td>30.313649</td>\n      <td>59.940488</td>\n      <td>2020-02-04 20:00:00</td>\n      <td>2020-02-04</td>\n      <td>20:00:00</td>\n    </tr>\n    <tr>\n      <th>234</th>\n      <td>0101000020E6100000669634C7914E3E407AB3D8B484F7...</td>\n      <td>1581019200</td>\n      <td>37</td>\n      <td>4.921402</td>\n      <td>30.306912</td>\n      <td>59.933737</td>\n      <td>2020-02-06 23:00:00</td>\n      <td>2020-02-06</td>\n      <td>23:00:00</td>\n    </tr>\n    <tr>\n      <th>...</th>\n      <td>...</td>\n      <td>...</td>\n      <td>...</td>\n      <td>...</td>\n      <td>...</td>\n      <td>...</td>\n      <td>...</td>\n      <td>...</td>\n      <td>...</td>\n    </tr>\n    <tr>\n      <th>79</th>\n      <td>0101000020E61000000FD8C18EA45A3E408991431816F7...</td>\n      <td>1580666400</td>\n      <td>5</td>\n      <td>0.245265</td>\n      <td>30.354073</td>\n      <td>59.930362</td>\n      <td>2020-02-02 21:00:00</td>\n      <td>2020-02-02</td>\n      <td>21:00:00</td>\n    </tr>\n    <tr>\n      <th>506</th>\n      <td>0101000020E6100000268147F5244F3E40DB251193A9F7...</td>\n      <td>1581001200</td>\n      <td>5</td>\n      <td>3.754735</td>\n      <td>30.309158</td>\n      <td>59.934863</td>\n      <td>2020-02-06 18:00:00</td>\n      <td>2020-02-06</td>\n      <td>18:00:00</td>\n    </tr>\n    <tr>\n      <th>507</th>\n      <td>0101000020E61000006141807FDE503E402B348A98ADF9...</td>\n      <td>1580785200</td>\n      <td>5</td>\n      <td>3.754735</td>\n      <td>30.315895</td>\n      <td>59.950610</td>\n      <td>2020-02-04 06:00:00</td>\n      <td>2020-02-04</td>\n      <td>06:00:00</td>\n    </tr>\n    <tr>\n      <th>510</th>\n      <td>0101000020E61000004D98FA185E5C3E40CAE971F73AF7...</td>\n      <td>1580882400</td>\n      <td>5</td>\n      <td>0.004735</td>\n      <td>30.360811</td>\n      <td>59.931487</td>\n      <td>2020-02-05 09:00:00</td>\n      <td>2020-02-05</td>\n      <td>09:00:00</td>\n    </tr>\n    <tr>\n      <th>0</th>\n      <td>0101000020E6100000202C93AD71513E4070B5CC78A7F6...</td>\n      <td>1582448400</td>\n      <td>5</td>\n      <td>0.421402</td>\n      <td>30.318141</td>\n      <td>59.926986</td>\n      <td>2020-02-23 12:00:00</td>\n      <td>2020-02-23</td>\n      <td>12:00:00</td>\n    </tr>\n  </tbody>\n</table>\n<p>709 rows × 9 columns</p>\n</div>"
     },
     "execution_count": 6,
     "metadata": {},
     "output_type": "execute_result"
    }
   ],
   "source": [
    "# validation contains 710 cubes\n",
    "# February 2020\n",
    "valid_df = pd.read_csv('valid.csv')\n",
    "valid_df = valid_df[['point', 'hour', 'sum', 'error', 'lon', 'lat']]\n",
    "valid_df['timestamp']= [datetime.fromtimestamp(x) for x in valid_df['hour']]\n",
    "valid_df['Dates'] = pd.to_datetime(valid_df['timestamp']).dt.date\n",
    "valid_df['Time'] = pd.to_datetime(valid_df['timestamp']).dt.time\n",
    "valid_df.sort_values(by=['sum'], ascending=False)"
   ],
   "metadata": {
    "collapsed": false,
    "pycharm": {
     "name": "#%%\n"
    }
   }
  },
  {
   "cell_type": "code",
   "execution_count": 7,
   "outputs": [
    {
     "data": {
      "text/plain": "155"
     },
     "execution_count": 7,
     "metadata": {},
     "output_type": "execute_result"
    }
   ],
   "source": [
    "len(valid_df.point.unique())"
   ],
   "metadata": {
    "collapsed": false,
    "pycharm": {
     "name": "#%%\n"
    }
   }
  },
  {
   "cell_type": "code",
   "execution_count": 8,
   "outputs": [
    {
     "data": {
      "text/plain": "['0101000020E610000000000000000000000000000000000000',\n '0101000020E61000000C830D47F15C3E400A41C338F1F64D40',\n '0101000020E61000000C830D47F15C3E40CAE971F73AF74D40',\n '0101000020E61000000FD8C18EA45A3E408991431816F74D40',\n '0101000020E61000000FD8C18EA45A3E40CAE971F73AF74D40',\n '0101000020E6100000132D76D657583E408991431816F74D40',\n '0101000020E61000001868CE7F1F343E40975BBA5723FE4D40',\n '0101000020E6100000199C86BCF6773E401FBF4913EFF54D40',\n '0101000020E6100000199C86BCF6773E406A1274D638F64D40',\n '0101000020E61000001CD7DE65BE533E40A554BF083DF84D40',\n '0101000020E61000002012370F862F3E40A08C1570AEEA4D40',\n '0101000020E6100000202C93AD71513E4009249E9F54F24D40',\n '0101000020E6100000202C93AD71513E401E66D608FBFB4D40',\n '0101000020E6100000202C93AD71513E4041010E3DD6EB4D40',\n '0101000020E6100000202C93AD71513E4054F844A221FD4D40',\n '0101000020E6100000202C93AD71513E4070B5CC78A7F64D40',\n '0101000020E6100000202C93AD71513E407A441D895BF54D40',\n '0101000020E6100000202C93AD71513E40CEB8CE2B18F84D40',\n '0101000020E6100000202C93AD71513E40FC619B9199F04D40',\n '0101000020E6100000268147F5244F3E40494A4ED65FF74D40',\n '0101000020E6100000268147F5244F3E407AB3D8B484F74D40',\n '0101000020E6100000268147F5244F3E40DB251193A9F74D40',\n '0101000020E6100000269BA39310713E40749A73B54FF04D40',\n '0101000020E610000029D6FB3CD84C3E403DF3BDF394004E40',\n '0101000020E610000029D6FB3CD84C3E4070B5CC78A7F64D40',\n '0101000020E610000029D6FB3CD84C3E408F0FCDBE88F94D40',\n '0101000020E610000029D6FB3CD84C3E40975BBA5723FE4D40',\n '0101000020E610000029D6FB3CD84C3E40D4F7F058CCF64D40',\n '0101000020E61000002D2BB0848B4A3E401893C931F9FA4D40',\n '0101000020E61000002D2BB0848B4A3E402B348A98ADF94D40',\n '0101000020E61000002D450C23776C3E407F614299EAF34D40',\n '0101000020E6100000328064CC3E483E400C288C4EF3F74D40',\n '0101000020E610000036D51814F2453E403DF3BDF394004E40',\n '0101000020E61000003F7F81A358413E400D42027446FD4D40',\n '0101000020E610000043EE9189F7603E40C27FCF284DEF4D40',\n '0101000020E61000004408EE27E3823E401F04E95BC3F24D40',\n '0101000020E6100000474346D1AA5E3E4014A96F5908F14D40',\n '0101000020E61000004D98FA185E5C3E403DA1E4C62AF04D40',\n '0101000020E61000004D98FA185E5C3E40477640AC8AFA4D40',\n '0101000020E61000004D98FA185E5C3E40CAE971F73AF74D40',\n '0101000020E61000004D98FA185E5C3E40D4F7F058CCF64D40',\n '0101000020E610000050EDAE60115A3E40CAE971F73AF74D40',\n '0101000020E610000051070BFFFC7B3E40E13FA02445EC4D40',\n '0101000020E610000051070BFFFC7B3E40EC94646534F44D40',\n '0101000020E61000005428070AD9353E40582A871690FD4D40',\n '0101000020E6100000544263A8C4573E40477640AC8AFA4D40',\n '0101000020E6100000544263A8C4573E40C27FCF284DEF4D40',\n '0101000020E6100000597DBB518C333E403DA1E4C62AF04D40',\n '0101000020E61000005AB1738E63773E403AAA977194EE4D40',\n '0101000020E61000005AB1738E63773E40AE9B3931CAF54D40',\n '0101000020E61000005DECCB372B533E40494A4ED65FF74D40',\n '0101000020E61000005DECCB372B533E407AB3D8B484F74D40',\n '0101000020E61000005DECCB372B533E40E4A1F770CEF74D40',\n '0101000020E61000006141807FDE503E401E66D608FBFB4D40',\n '0101000020E61000006141807FDE503E402B348A98ADF94D40',\n '0101000020E61000006141807FDE503E406379569882F64D40',\n '0101000020E61000006141807FDE503E408F0FCDBE88F94D40',\n '0101000020E61000006141807FDE503E40A554BF083DF84D40',\n '0101000020E61000006141807FDE503E40D15705CA91ED4D40',\n '0101000020E6100000669634C7914E3E40516FA59DABF84D40',\n '0101000020E6100000669634C7914E3E407AB3D8B484F74D40',\n '0101000020E61000006AEBE80E454C3E401893C931F9FA4D40',\n '0101000020E61000006AEBE80E454C3E407F614299EAF34D40',\n '0101000020E61000006E409D56F8493E400A41C338F1F64D40',\n '0101000020E61000007395519EAB473E408BE607F513F64D40',\n '0101000020E6100000781EBE2236893E406E4CE6811AEA4D40',\n '0101000020E61000007B5916CCFD643E40C2FABDE463F94D40',\n '0101000020E61000007D3FBA2D12433E40EC88DD9029024E40',\n '0101000020E610000080946E75C5403E407B5D8E44B1EB4D40',\n '0101000020E610000081AECA13B1623E406BDE1BEB22ED4D40',\n '0101000020E61000008A5833A3175E3E408A3E861151044E40',\n '0101000020E61000008A728F4103803E402A30A27964EA4D40',\n '0101000020E61000008D938B4CDF393E408F79686EE1024E40',\n '0101000020E61000008D938B4CDF393E408FAA9F16E4044E40',\n '0101000020E61000008D938B4CDF393E40F91CC68469FC4D40',\n '0101000020E61000008EADE7EACA5B3E40494A4ED65FF74D40',\n '0101000020E61000008EADE7EACA5B3E40CAE971F73AF74D40',\n '0101000020E61000008EC74389B67D3E4033438EB75DF64D40',\n '0101000020E610000091029C327E593E40494A4ED65FF74D40',\n '0101000020E610000091029C327E593E408991431816F74D40',\n '0101000020E610000091029C327E593E40A08C1570AEEA4D40',\n '0101000020E61000009757507A31573E4006FC5DE561F84D40',\n '0101000020E61000009A92A823F9323E40DDC94EE7B4FD4D40',\n '0101000020E61000009BAC04C2E4543E402BEBD0F9C7F44D40',\n '0101000020E61000009BAC04C2E4543E4070B5CC78A7F64D40',\n '0101000020E61000009BAC04C2E4543E40CEB8CE2B18F84D40',\n '0101000020E61000009BAC04C2E4543E40DB251193A9F74D40',\n '0101000020E61000009BAC04C2E4543E40E4A1F770CEF74D40',\n '0101000020E61000009BC66060D0763E40ABD94A1972EF4D40',\n '0101000020E61000009E01B90998523E400C288C4EF3F74D40',\n '0101000020E61000009E01B90998523E406BDE1BEB22ED4D40',\n '0101000020E61000009E01B90998523E407AB3D8B484F74D40',\n '0101000020E61000009E01B90998523E4085057155DEEE4D40',\n '0101000020E61000009E01B90998523E40888919D708054E40',\n '0101000020E61000009E01B90998523E40CEB8CE2B18F84D40',\n '0101000020E61000009E01B90998523E40EBDF22DD1FFC4D40',\n '0101000020E6100000A4566D514B503E4006FC5DE561F84D40',\n '0101000020E6100000A4566D514B503E408F05D6231CFA4D40',\n '0101000020E6100000A4566D514B503E40E1E86ED465FA4D40',\n '0101000020E6100000A470C9EF36723E402BEBD0F9C7F44D40',\n '0101000020E6100000A7AB2199FE4D3E400D69F571D2F94D40',\n '0101000020E6100000A7AB2199FE4D3E40494A4ED65FF74D40',\n '0101000020E6100000A7AB2199FE4D3E40516FA59DABF84D40',\n '0101000020E6100000A8C57D37EA6F3E407AB3D8B484F74D40',\n '0101000020E6100000AB00D6E0B14B3E40236E4BFC40FA4D40',\n '0101000020E6100000AB00D6E0B14B3E406379569882F64D40',\n '0101000020E6100000AB00D6E0B14B3E408D151BC211F54D40',\n '0101000020E6100000AB00D6E0B14B3E40A0DE2F7F6FEE4D40',\n '0101000020E6100000AB00D6E0B14B3E40CB88A75E4B004E40',\n '0101000020E6100000B16FE6C6506B3E4006FC5DE561F84D40',\n '0101000020E6100000B16FE6C6506B3E40504B47D375044E40',\n '0101000020E6100000B490E2D12C253E405A854F09B4EC4D40',\n '0101000020E6100000B5C49A0E04693E4006FC5DE561F84D40',\n '0101000020E6100000B8FFF2B7CB443E40892F7FF5FDEC4D40',\n '0101000020E6100000BE54A7FF7E423E40F91CC68469FC4D40',\n '0101000020E6100000BE6E039E6A643E403DF3BDF394004E40',\n '0101000020E6100000C1A95B4732403E40494A4ED65FF74D40',\n '0101000020E6100000C2DD138409843E4009249E9F54F24D40',\n '0101000020E6100000C5186C2DD15F3E40704FED7D3FEA4D40',\n '0101000020E6100000C5186C2DD15F3E40B2FEA92F1AF94D40',\n '0101000020E6100000C5FE0F8FE53D3E4033438EB75DF64D40',\n '0101000020E6100000C632C8CBBC813E402BEBD0F9C7F44D40',\n '0101000020E6100000CB6D2075845D3E407916A554F5F84D40',\n '0101000020E6100000CFC2D4BC375B3E401FBF4913EFF54D40',\n '0101000020E6100000CFC2D4BC375B3E408A05A0FCDCFF4D40',\n '0101000020E6100000D2178904EB583E40494A4ED65FF74D40',\n '0101000020E6100000D2178904EB583E406A1274D638F64D40',\n '0101000020E6100000D2178904EB583E408D151BC211F54D40',\n '0101000020E6100000D2178904EB583E40D4F7F058CCF64D40',\n '0101000020E6100000D2FD2C66FF363E40CEB8CE2B18F84D40',\n '0101000020E6100000D752E1ADB2343E4076150862DBFE4D40',\n '0101000020E6100000D86C3D4C9E563E4006FC5DE561F84D40',\n '0101000020E6100000D86C3D4C9E563E40236E4BFC40FA4D40',\n '0101000020E6100000D86C3D4C9E563E407AB3D8B484F74D40',\n '0101000020E6100000D86C3D4C9E563E408F79686EE1024E40',\n '0101000020E6100000D86C3D4C9E563E40BE7BD74EA5F54D40',\n '0101000020E6100000DBC1F19351543E4006FC5DE561F84D40',\n '0101000020E6100000DBC1F19351543E40AE9B3931CAF54D40',\n '0101000020E6100000DBC1F19351543E40CEB8CE2B18F84D40',\n '0101000020E6100000DBC1F19351543E40DB251193A9F74D40',\n '0101000020E6100000DF16A6DB04523E40477640AC8AFA4D40',\n '0101000020E6100000E451FE84CC2D3E4021743A2748FE4D40',\n '0101000020E6100000E451FE84CC2D3E403AAA977194EE4D40',\n '0101000020E6100000E56B5A23B84F3E40236E4BFC40FA4D40',\n '0101000020E6100000E56B5A23B84F3E40A3B9475FB1FB4D40',\n '0101000020E6100000EC15C3B21E4B3E406379569882F64D40',\n '0101000020E6100000EC15C3B21E4B3E407916A554F5F84D40',\n '0101000020E6100000EC15C3B21E4B3E407AB3D8B484F74D40',\n '0101000020E6100000EC15C3B21E4B3E408EC13E307EF44D40',\n '0101000020E6100000EC2F1F510A6D3E4058AA511532F34D40',\n '0101000020E6100000F26A77FAD1483E407916A554F5F84D40',\n '0101000020E6100000F5A5CFA399243E400B9A5B3306034E40',\n '0101000020E6100000F5BF2B4285463E401AD725FD56F34D40',\n '0101000020E6100000F914E08938443E407916A554F5F84D40',\n '0101000020E6100000F92E3C2824663E40134E7A7396014E40']"
     },
     "execution_count": 8,
     "metadata": {},
     "output_type": "execute_result"
    }
   ],
   "source": [
    "true_point = sorted(valid_df.point.unique())\n",
    "true_point"
   ],
   "metadata": {
    "collapsed": false,
    "pycharm": {
     "name": "#%%\n"
    }
   }
  },
  {
   "cell_type": "code",
   "execution_count": 9,
   "outputs": [
    {
     "name": "stderr",
     "output_type": "stream",
     "text": [
      "C:\\Users\\gto_n\\AppData\\Local\\Temp\\ipykernel_12112\\1137194191.py:2: SettingWithCopyWarning: \n",
      "A value is trying to be set on a copy of a slice from a DataFrame.\n",
      "Try using .loc[row_indexer,col_indexer] = value instead\n",
      "\n",
      "See the caveats in the documentation: https://pandas.pydata.org/pandas-docs/stable/user_guide/indexing.html#returning-a-view-versus-a-copy\n",
      "  df['timestamp']= [datetime.fromtimestamp(x) for x in df['timestamp']]\n"
     ]
    },
    {
     "data": {
      "text/plain": "                  timestamp                                              point\n0       2019-08-12 14:00:00  0101000020E6100000DBC1F19351543E4006FC5DE561F8...\n1       2019-08-12 03:00:00  0101000020E6100000544263A8C4573E40C27FCF284DEF...\n2       2019-08-12 03:00:00  0101000020E61000009E01B90998523E40888919D70805...\n3       2019-08-12 03:00:00  0101000020E61000009E01B90998523E40CEB8CE2B18F8...\n4       2019-08-12 03:00:00  0101000020E6100000268147F5244F3E40494A4ED65FF7...\n...                     ...                                                ...\n8526521 2019-08-16 21:00:00  0101000020E61000005DECCB372B533E40494A4ED65FF7...\n8526522 2019-08-16 21:00:00  0101000020E61000005DECCB372B533E40494A4ED65FF7...\n8526523 2019-08-16 21:00:00  0101000020E61000005DECCB372B533E40494A4ED65FF7...\n8526524 2019-08-16 19:00:00  0101000020E61000005DECCB372B533E40494A4ED65FF7...\n8526525 2019-08-16 18:00:00  0101000020E61000005DECCB372B533E40494A4ED65FF7...\n\n[3722328 rows x 2 columns]",
      "text/html": "<div>\n<style scoped>\n    .dataframe tbody tr th:only-of-type {\n        vertical-align: middle;\n    }\n\n    .dataframe tbody tr th {\n        vertical-align: top;\n    }\n\n    .dataframe thead th {\n        text-align: right;\n    }\n</style>\n<table border=\"1\" class=\"dataframe\">\n  <thead>\n    <tr style=\"text-align: right;\">\n      <th></th>\n      <th>timestamp</th>\n      <th>point</th>\n    </tr>\n  </thead>\n  <tbody>\n    <tr>\n      <th>0</th>\n      <td>2019-08-12 14:00:00</td>\n      <td>0101000020E6100000DBC1F19351543E4006FC5DE561F8...</td>\n    </tr>\n    <tr>\n      <th>1</th>\n      <td>2019-08-12 03:00:00</td>\n      <td>0101000020E6100000544263A8C4573E40C27FCF284DEF...</td>\n    </tr>\n    <tr>\n      <th>2</th>\n      <td>2019-08-12 03:00:00</td>\n      <td>0101000020E61000009E01B90998523E40888919D70805...</td>\n    </tr>\n    <tr>\n      <th>3</th>\n      <td>2019-08-12 03:00:00</td>\n      <td>0101000020E61000009E01B90998523E40CEB8CE2B18F8...</td>\n    </tr>\n    <tr>\n      <th>4</th>\n      <td>2019-08-12 03:00:00</td>\n      <td>0101000020E6100000268147F5244F3E40494A4ED65FF7...</td>\n    </tr>\n    <tr>\n      <th>...</th>\n      <td>...</td>\n      <td>...</td>\n    </tr>\n    <tr>\n      <th>8526521</th>\n      <td>2019-08-16 21:00:00</td>\n      <td>0101000020E61000005DECCB372B533E40494A4ED65FF7...</td>\n    </tr>\n    <tr>\n      <th>8526522</th>\n      <td>2019-08-16 21:00:00</td>\n      <td>0101000020E61000005DECCB372B533E40494A4ED65FF7...</td>\n    </tr>\n    <tr>\n      <th>8526523</th>\n      <td>2019-08-16 21:00:00</td>\n      <td>0101000020E61000005DECCB372B533E40494A4ED65FF7...</td>\n    </tr>\n    <tr>\n      <th>8526524</th>\n      <td>2019-08-16 19:00:00</td>\n      <td>0101000020E61000005DECCB372B533E40494A4ED65FF7...</td>\n    </tr>\n    <tr>\n      <th>8526525</th>\n      <td>2019-08-16 18:00:00</td>\n      <td>0101000020E61000005DECCB372B533E40494A4ED65FF7...</td>\n    </tr>\n  </tbody>\n</table>\n<p>3722328 rows × 2 columns</p>\n</div>"
     },
     "execution_count": 9,
     "metadata": {},
     "output_type": "execute_result"
    }
   ],
   "source": [
    "# Оставим в датасете только интересующие нас кубы и переведем timestamp в даты\n",
    "df['timestamp']= [datetime.fromtimestamp(x) for x in df['timestamp']]\n",
    "df_clear = df[df.point.isin(true_point)]\n",
    "df_clear"
   ],
   "metadata": {
    "collapsed": false,
    "pycharm": {
     "name": "#%%\n"
    }
   }
  },
  {
   "cell_type": "code",
   "execution_count": 10,
   "outputs": [
    {
     "data": {
      "text/plain": "                  timestamp                                              point\n0       2019-08-12 14:00:00  0101000020E6100000DBC1F19351543E4006FC5DE561F8...\n1       2019-08-12 03:00:00  0101000020E6100000544263A8C4573E40C27FCF284DEF...\n2       2019-08-12 03:00:00  0101000020E61000009E01B90998523E40888919D70805...\n3       2019-08-12 03:00:00  0101000020E61000009E01B90998523E40CEB8CE2B18F8...\n4       2019-08-12 03:00:00  0101000020E6100000268147F5244F3E40494A4ED65FF7...\n...                     ...                                                ...\n8526521 2019-08-16 21:00:00  0101000020E61000005DECCB372B533E40494A4ED65FF7...\n8526522 2019-08-16 21:00:00  0101000020E61000005DECCB372B533E40494A4ED65FF7...\n8526523 2019-08-16 21:00:00  0101000020E61000005DECCB372B533E40494A4ED65FF7...\n8526524 2019-08-16 19:00:00  0101000020E61000005DECCB372B533E40494A4ED65FF7...\n8526525 2019-08-16 18:00:00  0101000020E61000005DECCB372B533E40494A4ED65FF7...\n\n[3722328 rows x 2 columns]",
      "text/html": "<div>\n<style scoped>\n    .dataframe tbody tr th:only-of-type {\n        vertical-align: middle;\n    }\n\n    .dataframe tbody tr th {\n        vertical-align: top;\n    }\n\n    .dataframe thead th {\n        text-align: right;\n    }\n</style>\n<table border=\"1\" class=\"dataframe\">\n  <thead>\n    <tr style=\"text-align: right;\">\n      <th></th>\n      <th>timestamp</th>\n      <th>point</th>\n    </tr>\n  </thead>\n  <tbody>\n    <tr>\n      <th>0</th>\n      <td>2019-08-12 14:00:00</td>\n      <td>0101000020E6100000DBC1F19351543E4006FC5DE561F8...</td>\n    </tr>\n    <tr>\n      <th>1</th>\n      <td>2019-08-12 03:00:00</td>\n      <td>0101000020E6100000544263A8C4573E40C27FCF284DEF...</td>\n    </tr>\n    <tr>\n      <th>2</th>\n      <td>2019-08-12 03:00:00</td>\n      <td>0101000020E61000009E01B90998523E40888919D70805...</td>\n    </tr>\n    <tr>\n      <th>3</th>\n      <td>2019-08-12 03:00:00</td>\n      <td>0101000020E61000009E01B90998523E40CEB8CE2B18F8...</td>\n    </tr>\n    <tr>\n      <th>4</th>\n      <td>2019-08-12 03:00:00</td>\n      <td>0101000020E6100000268147F5244F3E40494A4ED65FF7...</td>\n    </tr>\n    <tr>\n      <th>...</th>\n      <td>...</td>\n      <td>...</td>\n    </tr>\n    <tr>\n      <th>8526521</th>\n      <td>2019-08-16 21:00:00</td>\n      <td>0101000020E61000005DECCB372B533E40494A4ED65FF7...</td>\n    </tr>\n    <tr>\n      <th>8526522</th>\n      <td>2019-08-16 21:00:00</td>\n      <td>0101000020E61000005DECCB372B533E40494A4ED65FF7...</td>\n    </tr>\n    <tr>\n      <th>8526523</th>\n      <td>2019-08-16 21:00:00</td>\n      <td>0101000020E61000005DECCB372B533E40494A4ED65FF7...</td>\n    </tr>\n    <tr>\n      <th>8526524</th>\n      <td>2019-08-16 19:00:00</td>\n      <td>0101000020E61000005DECCB372B533E40494A4ED65FF7...</td>\n    </tr>\n    <tr>\n      <th>8526525</th>\n      <td>2019-08-16 18:00:00</td>\n      <td>0101000020E61000005DECCB372B533E40494A4ED65FF7...</td>\n    </tr>\n  </tbody>\n</table>\n<p>3722328 rows × 2 columns</p>\n</div>"
     },
     "execution_count": 10,
     "metadata": {},
     "output_type": "execute_result"
    }
   ],
   "source": [
    "df_clear"
   ],
   "metadata": {
    "collapsed": false,
    "pycharm": {
     "name": "#%%\n"
    }
   }
  },
  {
   "cell_type": "code",
   "execution_count": 11,
   "outputs": [
    {
     "data": {
      "text/plain": "                                                    point           timestamp  \\\n229619  0101000020E61000004D98FA185E5C3E40CAE971F73AF7... 2020-01-20 02:00:00   \n309069  0101000020E61000006141807FDE503E402B348A98ADF9... 2019-05-09 22:00:00   \n43153   0101000020E6100000199C86BCF6773E401FBF4913EFF5... 2019-02-05 00:00:00   \n309070  0101000020E61000006141807FDE503E402B348A98ADF9... 2019-05-09 23:00:00   \n327447  0101000020E61000006141807FDE503E408F0FCDBE88F9... 2020-01-19 20:00:00   \n...                                                   ...                 ...   \n657347  0101000020E6100000BE54A7FF7E423E40F91CC68469FC... 2019-12-11 14:00:00   \n657346  0101000020E6100000BE54A7FF7E423E40F91CC68469FC... 2019-12-11 11:00:00   \n657345  0101000020E6100000BE54A7FF7E423E40F91CC68469FC... 2019-12-11 08:00:00   \n657344  0101000020E6100000BE54A7FF7E423E40F91CC68469FC... 2019-12-11 02:00:00   \n448140  0101000020E610000091029C327E593E40494A4ED65FF7... 2019-04-11 12:00:00   \n\n        counts  \n229619     329  \n309069     253  \n43153      248  \n309070     230  \n327447     200  \n...        ...  \n657347       1  \n657346       1  \n657345       1  \n657344       1  \n448140       1  \n\n[896281 rows x 3 columns]",
      "text/html": "<div>\n<style scoped>\n    .dataframe tbody tr th:only-of-type {\n        vertical-align: middle;\n    }\n\n    .dataframe tbody tr th {\n        vertical-align: top;\n    }\n\n    .dataframe thead th {\n        text-align: right;\n    }\n</style>\n<table border=\"1\" class=\"dataframe\">\n  <thead>\n    <tr style=\"text-align: right;\">\n      <th></th>\n      <th>point</th>\n      <th>timestamp</th>\n      <th>counts</th>\n    </tr>\n  </thead>\n  <tbody>\n    <tr>\n      <th>229619</th>\n      <td>0101000020E61000004D98FA185E5C3E40CAE971F73AF7...</td>\n      <td>2020-01-20 02:00:00</td>\n      <td>329</td>\n    </tr>\n    <tr>\n      <th>309069</th>\n      <td>0101000020E61000006141807FDE503E402B348A98ADF9...</td>\n      <td>2019-05-09 22:00:00</td>\n      <td>253</td>\n    </tr>\n    <tr>\n      <th>43153</th>\n      <td>0101000020E6100000199C86BCF6773E401FBF4913EFF5...</td>\n      <td>2019-02-05 00:00:00</td>\n      <td>248</td>\n    </tr>\n    <tr>\n      <th>309070</th>\n      <td>0101000020E61000006141807FDE503E402B348A98ADF9...</td>\n      <td>2019-05-09 23:00:00</td>\n      <td>230</td>\n    </tr>\n    <tr>\n      <th>327447</th>\n      <td>0101000020E61000006141807FDE503E408F0FCDBE88F9...</td>\n      <td>2020-01-19 20:00:00</td>\n      <td>200</td>\n    </tr>\n    <tr>\n      <th>...</th>\n      <td>...</td>\n      <td>...</td>\n      <td>...</td>\n    </tr>\n    <tr>\n      <th>657347</th>\n      <td>0101000020E6100000BE54A7FF7E423E40F91CC68469FC...</td>\n      <td>2019-12-11 14:00:00</td>\n      <td>1</td>\n    </tr>\n    <tr>\n      <th>657346</th>\n      <td>0101000020E6100000BE54A7FF7E423E40F91CC68469FC...</td>\n      <td>2019-12-11 11:00:00</td>\n      <td>1</td>\n    </tr>\n    <tr>\n      <th>657345</th>\n      <td>0101000020E6100000BE54A7FF7E423E40F91CC68469FC...</td>\n      <td>2019-12-11 08:00:00</td>\n      <td>1</td>\n    </tr>\n    <tr>\n      <th>657344</th>\n      <td>0101000020E6100000BE54A7FF7E423E40F91CC68469FC...</td>\n      <td>2019-12-11 02:00:00</td>\n      <td>1</td>\n    </tr>\n    <tr>\n      <th>448140</th>\n      <td>0101000020E610000091029C327E593E40494A4ED65FF7...</td>\n      <td>2019-04-11 12:00:00</td>\n      <td>1</td>\n    </tr>\n  </tbody>\n</table>\n<p>896281 rows × 3 columns</p>\n</div>"
     },
     "execution_count": 11,
     "metadata": {},
     "output_type": "execute_result"
    }
   ],
   "source": [
    "\n",
    "working_df = df_clear.groupby(['point', 'timestamp']).size().reset_index(name='counts')\n",
    "working_df.sort_values(by=['counts'], ascending=False)"
   ],
   "metadata": {
    "collapsed": false,
    "pycharm": {
     "name": "#%%\n"
    }
   }
  },
  {
   "cell_type": "code",
   "execution_count": 12,
   "outputs": [
    {
     "data": {
      "text/plain": "                                                     point  \\\n0        0101000020E61000000000000000000000000000000000...   \n1        0101000020E61000000000000000000000000000000000...   \n2        0101000020E61000000000000000000000000000000000...   \n3        0101000020E61000000000000000000000000000000000...   \n4        0101000020E61000000000000000000000000000000000...   \n...                                                    ...   \n1473115  0101000020E6100000F92E3C2824663E40134E7A739601...   \n1473116  0101000020E6100000F92E3C2824663E40134E7A739601...   \n1473117  0101000020E6100000F92E3C2824663E40134E7A739601...   \n1473118  0101000020E6100000F92E3C2824663E40134E7A739601...   \n1473119  0101000020E6100000F92E3C2824663E40134E7A739601...   \n\n                  timestamp  counts  \n0       2019-01-01 03:00:00       3  \n1       2019-01-01 04:00:00       2  \n2       2019-01-01 05:00:00       2  \n3       2019-01-01 06:00:00       0  \n4       2019-01-01 07:00:00       0  \n...                     ...     ...  \n1473115 2020-01-31 22:00:00       1  \n1473116 2020-01-31 23:00:00       0  \n1473117 2020-02-01 00:00:00       2  \n1473118 2020-02-01 01:00:00       0  \n1473119 2020-02-01 02:00:00       0  \n\n[1473120 rows x 3 columns]",
      "text/html": "<div>\n<style scoped>\n    .dataframe tbody tr th:only-of-type {\n        vertical-align: middle;\n    }\n\n    .dataframe tbody tr th {\n        vertical-align: top;\n    }\n\n    .dataframe thead th {\n        text-align: right;\n    }\n</style>\n<table border=\"1\" class=\"dataframe\">\n  <thead>\n    <tr style=\"text-align: right;\">\n      <th></th>\n      <th>point</th>\n      <th>timestamp</th>\n      <th>counts</th>\n    </tr>\n  </thead>\n  <tbody>\n    <tr>\n      <th>0</th>\n      <td>0101000020E61000000000000000000000000000000000...</td>\n      <td>2019-01-01 03:00:00</td>\n      <td>3</td>\n    </tr>\n    <tr>\n      <th>1</th>\n      <td>0101000020E61000000000000000000000000000000000...</td>\n      <td>2019-01-01 04:00:00</td>\n      <td>2</td>\n    </tr>\n    <tr>\n      <th>2</th>\n      <td>0101000020E61000000000000000000000000000000000...</td>\n      <td>2019-01-01 05:00:00</td>\n      <td>2</td>\n    </tr>\n    <tr>\n      <th>3</th>\n      <td>0101000020E61000000000000000000000000000000000...</td>\n      <td>2019-01-01 06:00:00</td>\n      <td>0</td>\n    </tr>\n    <tr>\n      <th>4</th>\n      <td>0101000020E61000000000000000000000000000000000...</td>\n      <td>2019-01-01 07:00:00</td>\n      <td>0</td>\n    </tr>\n    <tr>\n      <th>...</th>\n      <td>...</td>\n      <td>...</td>\n      <td>...</td>\n    </tr>\n    <tr>\n      <th>1473115</th>\n      <td>0101000020E6100000F92E3C2824663E40134E7A739601...</td>\n      <td>2020-01-31 22:00:00</td>\n      <td>1</td>\n    </tr>\n    <tr>\n      <th>1473116</th>\n      <td>0101000020E6100000F92E3C2824663E40134E7A739601...</td>\n      <td>2020-01-31 23:00:00</td>\n      <td>0</td>\n    </tr>\n    <tr>\n      <th>1473117</th>\n      <td>0101000020E6100000F92E3C2824663E40134E7A739601...</td>\n      <td>2020-02-01 00:00:00</td>\n      <td>2</td>\n    </tr>\n    <tr>\n      <th>1473118</th>\n      <td>0101000020E6100000F92E3C2824663E40134E7A739601...</td>\n      <td>2020-02-01 01:00:00</td>\n      <td>0</td>\n    </tr>\n    <tr>\n      <th>1473119</th>\n      <td>0101000020E6100000F92E3C2824663E40134E7A739601...</td>\n      <td>2020-02-01 02:00:00</td>\n      <td>0</td>\n    </tr>\n  </tbody>\n</table>\n<p>1473120 rows × 3 columns</p>\n</div>"
     },
     "execution_count": 12,
     "metadata": {},
     "output_type": "execute_result"
    }
   ],
   "source": [
    "working_df = df_clear.groupby(['point','timestamp']).size().unstack(fill_value=\n",
    "                                                         0\n",
    "                                                         ).stack()\n",
    "working_df = working_df.reset_index(name='counts')\n",
    "working_df"
   ],
   "metadata": {
    "collapsed": false,
    "pycharm": {
     "name": "#%%\n"
    }
   }
  },
  {
   "cell_type": "code",
   "execution_count": 13,
   "outputs": [
    {
     "data": {
      "text/plain": "                                                     point  \\\n0        0101000020E61000000000000000000000000000000000...   \n1        0101000020E61000000000000000000000000000000000...   \n2        0101000020E61000000000000000000000000000000000...   \n3        0101000020E61000000000000000000000000000000000...   \n4        0101000020E61000000000000000000000000000000000...   \n...                                                    ...   \n1473115  0101000020E6100000F92E3C2824663E40134E7A739601...   \n1473116  0101000020E6100000F92E3C2824663E40134E7A739601...   \n1473117  0101000020E6100000F92E3C2824663E40134E7A739601...   \n1473118  0101000020E6100000F92E3C2824663E40134E7A739601...   \n1473119  0101000020E6100000F92E3C2824663E40134E7A739601...   \n\n                  timestamp  counts       Dates      Time  \n0       2019-01-01 03:00:00       3  2019-01-01  03:00:00  \n1       2019-01-01 04:00:00       2  2019-01-01  04:00:00  \n2       2019-01-01 05:00:00       2  2019-01-01  05:00:00  \n3       2019-01-01 06:00:00       0  2019-01-01  06:00:00  \n4       2019-01-01 07:00:00       0  2019-01-01  07:00:00  \n...                     ...     ...         ...       ...  \n1473115 2020-01-31 22:00:00       1  2020-01-31  22:00:00  \n1473116 2020-01-31 23:00:00       0  2020-01-31  23:00:00  \n1473117 2020-02-01 00:00:00       2  2020-02-01  00:00:00  \n1473118 2020-02-01 01:00:00       0  2020-02-01  01:00:00  \n1473119 2020-02-01 02:00:00       0  2020-02-01  02:00:00  \n\n[1473120 rows x 5 columns]",
      "text/html": "<div>\n<style scoped>\n    .dataframe tbody tr th:only-of-type {\n        vertical-align: middle;\n    }\n\n    .dataframe tbody tr th {\n        vertical-align: top;\n    }\n\n    .dataframe thead th {\n        text-align: right;\n    }\n</style>\n<table border=\"1\" class=\"dataframe\">\n  <thead>\n    <tr style=\"text-align: right;\">\n      <th></th>\n      <th>point</th>\n      <th>timestamp</th>\n      <th>counts</th>\n      <th>Dates</th>\n      <th>Time</th>\n    </tr>\n  </thead>\n  <tbody>\n    <tr>\n      <th>0</th>\n      <td>0101000020E61000000000000000000000000000000000...</td>\n      <td>2019-01-01 03:00:00</td>\n      <td>3</td>\n      <td>2019-01-01</td>\n      <td>03:00:00</td>\n    </tr>\n    <tr>\n      <th>1</th>\n      <td>0101000020E61000000000000000000000000000000000...</td>\n      <td>2019-01-01 04:00:00</td>\n      <td>2</td>\n      <td>2019-01-01</td>\n      <td>04:00:00</td>\n    </tr>\n    <tr>\n      <th>2</th>\n      <td>0101000020E61000000000000000000000000000000000...</td>\n      <td>2019-01-01 05:00:00</td>\n      <td>2</td>\n      <td>2019-01-01</td>\n      <td>05:00:00</td>\n    </tr>\n    <tr>\n      <th>3</th>\n      <td>0101000020E61000000000000000000000000000000000...</td>\n      <td>2019-01-01 06:00:00</td>\n      <td>0</td>\n      <td>2019-01-01</td>\n      <td>06:00:00</td>\n    </tr>\n    <tr>\n      <th>4</th>\n      <td>0101000020E61000000000000000000000000000000000...</td>\n      <td>2019-01-01 07:00:00</td>\n      <td>0</td>\n      <td>2019-01-01</td>\n      <td>07:00:00</td>\n    </tr>\n    <tr>\n      <th>...</th>\n      <td>...</td>\n      <td>...</td>\n      <td>...</td>\n      <td>...</td>\n      <td>...</td>\n    </tr>\n    <tr>\n      <th>1473115</th>\n      <td>0101000020E6100000F92E3C2824663E40134E7A739601...</td>\n      <td>2020-01-31 22:00:00</td>\n      <td>1</td>\n      <td>2020-01-31</td>\n      <td>22:00:00</td>\n    </tr>\n    <tr>\n      <th>1473116</th>\n      <td>0101000020E6100000F92E3C2824663E40134E7A739601...</td>\n      <td>2020-01-31 23:00:00</td>\n      <td>0</td>\n      <td>2020-01-31</td>\n      <td>23:00:00</td>\n    </tr>\n    <tr>\n      <th>1473117</th>\n      <td>0101000020E6100000F92E3C2824663E40134E7A739601...</td>\n      <td>2020-02-01 00:00:00</td>\n      <td>2</td>\n      <td>2020-02-01</td>\n      <td>00:00:00</td>\n    </tr>\n    <tr>\n      <th>1473118</th>\n      <td>0101000020E6100000F92E3C2824663E40134E7A739601...</td>\n      <td>2020-02-01 01:00:00</td>\n      <td>0</td>\n      <td>2020-02-01</td>\n      <td>01:00:00</td>\n    </tr>\n    <tr>\n      <th>1473119</th>\n      <td>0101000020E6100000F92E3C2824663E40134E7A739601...</td>\n      <td>2020-02-01 02:00:00</td>\n      <td>0</td>\n      <td>2020-02-01</td>\n      <td>02:00:00</td>\n    </tr>\n  </tbody>\n</table>\n<p>1473120 rows × 5 columns</p>\n</div>"
     },
     "execution_count": 13,
     "metadata": {},
     "output_type": "execute_result"
    }
   ],
   "source": [
    "# Разделим timestamp на дату и время\n",
    "working_df['Dates'] = pd.to_datetime(working_df['timestamp']).dt.date\n",
    "working_df['Time'] = pd.to_datetime(working_df['timestamp']).dt.time\n",
    "working_df"
   ],
   "metadata": {
    "collapsed": false,
    "pycharm": {
     "name": "#%%\n"
    }
   }
  },
  {
   "cell_type": "code",
   "execution_count": 14,
   "outputs": [
    {
     "data": {
      "text/plain": "array(['2019-01-01T03:00:00.000000000', '2019-01-01T04:00:00.000000000',\n       '2019-01-01T05:00:00.000000000', ...,\n       '2020-02-01T00:00:00.000000000', '2020-02-01T01:00:00.000000000',\n       '2020-02-01T02:00:00.000000000'], dtype='datetime64[ns]')"
     },
     "execution_count": 14,
     "metadata": {},
     "output_type": "execute_result"
    }
   ],
   "source": [
    "working_df.timestamp.unique()"
   ],
   "metadata": {
    "collapsed": false,
    "pycharm": {
     "name": "#%%\n"
    }
   }
  },
  {
   "cell_type": "code",
   "execution_count": 15,
   "outputs": [
    {
     "data": {
      "text/plain": "array(['0101000020E610000000000000000000000000000000000000',\n       '0101000020E61000000C830D47F15C3E400A41C338F1F64D40',\n       '0101000020E61000000C830D47F15C3E40CAE971F73AF74D40',\n       '0101000020E61000000FD8C18EA45A3E408991431816F74D40',\n       '0101000020E61000000FD8C18EA45A3E40CAE971F73AF74D40',\n       '0101000020E6100000132D76D657583E408991431816F74D40',\n       '0101000020E61000001868CE7F1F343E40975BBA5723FE4D40',\n       '0101000020E6100000199C86BCF6773E401FBF4913EFF54D40',\n       '0101000020E6100000199C86BCF6773E406A1274D638F64D40',\n       '0101000020E61000001CD7DE65BE533E40A554BF083DF84D40',\n       '0101000020E61000002012370F862F3E40A08C1570AEEA4D40',\n       '0101000020E6100000202C93AD71513E4009249E9F54F24D40',\n       '0101000020E6100000202C93AD71513E401E66D608FBFB4D40',\n       '0101000020E6100000202C93AD71513E4041010E3DD6EB4D40',\n       '0101000020E6100000202C93AD71513E4054F844A221FD4D40',\n       '0101000020E6100000202C93AD71513E4070B5CC78A7F64D40',\n       '0101000020E6100000202C93AD71513E407A441D895BF54D40',\n       '0101000020E6100000202C93AD71513E40CEB8CE2B18F84D40',\n       '0101000020E6100000202C93AD71513E40FC619B9199F04D40',\n       '0101000020E6100000268147F5244F3E40494A4ED65FF74D40',\n       '0101000020E6100000268147F5244F3E407AB3D8B484F74D40',\n       '0101000020E6100000268147F5244F3E40DB251193A9F74D40',\n       '0101000020E6100000269BA39310713E40749A73B54FF04D40',\n       '0101000020E610000029D6FB3CD84C3E403DF3BDF394004E40',\n       '0101000020E610000029D6FB3CD84C3E4070B5CC78A7F64D40',\n       '0101000020E610000029D6FB3CD84C3E408F0FCDBE88F94D40',\n       '0101000020E610000029D6FB3CD84C3E40975BBA5723FE4D40',\n       '0101000020E610000029D6FB3CD84C3E40D4F7F058CCF64D40',\n       '0101000020E61000002D2BB0848B4A3E401893C931F9FA4D40',\n       '0101000020E61000002D2BB0848B4A3E402B348A98ADF94D40',\n       '0101000020E61000002D450C23776C3E407F614299EAF34D40',\n       '0101000020E6100000328064CC3E483E400C288C4EF3F74D40',\n       '0101000020E610000036D51814F2453E403DF3BDF394004E40',\n       '0101000020E61000003F7F81A358413E400D42027446FD4D40',\n       '0101000020E610000043EE9189F7603E40C27FCF284DEF4D40',\n       '0101000020E61000004408EE27E3823E401F04E95BC3F24D40',\n       '0101000020E6100000474346D1AA5E3E4014A96F5908F14D40',\n       '0101000020E61000004D98FA185E5C3E403DA1E4C62AF04D40',\n       '0101000020E61000004D98FA185E5C3E40477640AC8AFA4D40',\n       '0101000020E61000004D98FA185E5C3E40CAE971F73AF74D40',\n       '0101000020E61000004D98FA185E5C3E40D4F7F058CCF64D40',\n       '0101000020E610000050EDAE60115A3E40CAE971F73AF74D40',\n       '0101000020E610000051070BFFFC7B3E40E13FA02445EC4D40',\n       '0101000020E610000051070BFFFC7B3E40EC94646534F44D40',\n       '0101000020E61000005428070AD9353E40582A871690FD4D40',\n       '0101000020E6100000544263A8C4573E40477640AC8AFA4D40',\n       '0101000020E6100000544263A8C4573E40C27FCF284DEF4D40',\n       '0101000020E6100000597DBB518C333E403DA1E4C62AF04D40',\n       '0101000020E61000005AB1738E63773E403AAA977194EE4D40',\n       '0101000020E61000005AB1738E63773E40AE9B3931CAF54D40',\n       '0101000020E61000005DECCB372B533E40494A4ED65FF74D40',\n       '0101000020E61000005DECCB372B533E407AB3D8B484F74D40',\n       '0101000020E61000005DECCB372B533E40E4A1F770CEF74D40',\n       '0101000020E61000006141807FDE503E401E66D608FBFB4D40',\n       '0101000020E61000006141807FDE503E402B348A98ADF94D40',\n       '0101000020E61000006141807FDE503E406379569882F64D40',\n       '0101000020E61000006141807FDE503E408F0FCDBE88F94D40',\n       '0101000020E61000006141807FDE503E40A554BF083DF84D40',\n       '0101000020E61000006141807FDE503E40D15705CA91ED4D40',\n       '0101000020E6100000669634C7914E3E40516FA59DABF84D40',\n       '0101000020E6100000669634C7914E3E407AB3D8B484F74D40',\n       '0101000020E61000006AEBE80E454C3E401893C931F9FA4D40',\n       '0101000020E61000006AEBE80E454C3E407F614299EAF34D40',\n       '0101000020E61000006E409D56F8493E400A41C338F1F64D40',\n       '0101000020E61000007395519EAB473E408BE607F513F64D40',\n       '0101000020E6100000781EBE2236893E406E4CE6811AEA4D40',\n       '0101000020E61000007B5916CCFD643E40C2FABDE463F94D40',\n       '0101000020E61000007D3FBA2D12433E40EC88DD9029024E40',\n       '0101000020E610000080946E75C5403E407B5D8E44B1EB4D40',\n       '0101000020E610000081AECA13B1623E406BDE1BEB22ED4D40',\n       '0101000020E61000008A5833A3175E3E408A3E861151044E40',\n       '0101000020E61000008A728F4103803E402A30A27964EA4D40',\n       '0101000020E61000008D938B4CDF393E408F79686EE1024E40',\n       '0101000020E61000008D938B4CDF393E408FAA9F16E4044E40',\n       '0101000020E61000008D938B4CDF393E40F91CC68469FC4D40',\n       '0101000020E61000008EADE7EACA5B3E40494A4ED65FF74D40',\n       '0101000020E61000008EADE7EACA5B3E40CAE971F73AF74D40',\n       '0101000020E61000008EC74389B67D3E4033438EB75DF64D40',\n       '0101000020E610000091029C327E593E40494A4ED65FF74D40',\n       '0101000020E610000091029C327E593E408991431816F74D40',\n       '0101000020E610000091029C327E593E40A08C1570AEEA4D40',\n       '0101000020E61000009757507A31573E4006FC5DE561F84D40',\n       '0101000020E61000009A92A823F9323E40DDC94EE7B4FD4D40',\n       '0101000020E61000009BAC04C2E4543E402BEBD0F9C7F44D40',\n       '0101000020E61000009BAC04C2E4543E4070B5CC78A7F64D40',\n       '0101000020E61000009BAC04C2E4543E40CEB8CE2B18F84D40',\n       '0101000020E61000009BAC04C2E4543E40DB251193A9F74D40',\n       '0101000020E61000009BAC04C2E4543E40E4A1F770CEF74D40',\n       '0101000020E61000009BC66060D0763E40ABD94A1972EF4D40',\n       '0101000020E61000009E01B90998523E400C288C4EF3F74D40',\n       '0101000020E61000009E01B90998523E406BDE1BEB22ED4D40',\n       '0101000020E61000009E01B90998523E407AB3D8B484F74D40',\n       '0101000020E61000009E01B90998523E4085057155DEEE4D40',\n       '0101000020E61000009E01B90998523E40888919D708054E40',\n       '0101000020E61000009E01B90998523E40CEB8CE2B18F84D40',\n       '0101000020E61000009E01B90998523E40EBDF22DD1FFC4D40',\n       '0101000020E6100000A4566D514B503E4006FC5DE561F84D40',\n       '0101000020E6100000A4566D514B503E408F05D6231CFA4D40',\n       '0101000020E6100000A4566D514B503E40E1E86ED465FA4D40',\n       '0101000020E6100000A470C9EF36723E402BEBD0F9C7F44D40',\n       '0101000020E6100000A7AB2199FE4D3E400D69F571D2F94D40',\n       '0101000020E6100000A7AB2199FE4D3E40494A4ED65FF74D40',\n       '0101000020E6100000A7AB2199FE4D3E40516FA59DABF84D40',\n       '0101000020E6100000A8C57D37EA6F3E407AB3D8B484F74D40',\n       '0101000020E6100000AB00D6E0B14B3E40236E4BFC40FA4D40',\n       '0101000020E6100000AB00D6E0B14B3E406379569882F64D40',\n       '0101000020E6100000AB00D6E0B14B3E408D151BC211F54D40',\n       '0101000020E6100000AB00D6E0B14B3E40A0DE2F7F6FEE4D40',\n       '0101000020E6100000AB00D6E0B14B3E40CB88A75E4B004E40',\n       '0101000020E6100000B16FE6C6506B3E4006FC5DE561F84D40',\n       '0101000020E6100000B16FE6C6506B3E40504B47D375044E40',\n       '0101000020E6100000B490E2D12C253E405A854F09B4EC4D40',\n       '0101000020E6100000B5C49A0E04693E4006FC5DE561F84D40',\n       '0101000020E6100000B8FFF2B7CB443E40892F7FF5FDEC4D40',\n       '0101000020E6100000BE54A7FF7E423E40F91CC68469FC4D40',\n       '0101000020E6100000BE6E039E6A643E403DF3BDF394004E40',\n       '0101000020E6100000C1A95B4732403E40494A4ED65FF74D40',\n       '0101000020E6100000C2DD138409843E4009249E9F54F24D40',\n       '0101000020E6100000C5186C2DD15F3E40704FED7D3FEA4D40',\n       '0101000020E6100000C5186C2DD15F3E40B2FEA92F1AF94D40',\n       '0101000020E6100000C5FE0F8FE53D3E4033438EB75DF64D40',\n       '0101000020E6100000C632C8CBBC813E402BEBD0F9C7F44D40',\n       '0101000020E6100000CB6D2075845D3E407916A554F5F84D40',\n       '0101000020E6100000CFC2D4BC375B3E401FBF4913EFF54D40',\n       '0101000020E6100000CFC2D4BC375B3E408A05A0FCDCFF4D40',\n       '0101000020E6100000D2178904EB583E40494A4ED65FF74D40',\n       '0101000020E6100000D2178904EB583E406A1274D638F64D40',\n       '0101000020E6100000D2178904EB583E408D151BC211F54D40',\n       '0101000020E6100000D2178904EB583E40D4F7F058CCF64D40',\n       '0101000020E6100000D2FD2C66FF363E40CEB8CE2B18F84D40',\n       '0101000020E6100000D752E1ADB2343E4076150862DBFE4D40',\n       '0101000020E6100000D86C3D4C9E563E4006FC5DE561F84D40',\n       '0101000020E6100000D86C3D4C9E563E40236E4BFC40FA4D40',\n       '0101000020E6100000D86C3D4C9E563E407AB3D8B484F74D40',\n       '0101000020E6100000D86C3D4C9E563E408F79686EE1024E40',\n       '0101000020E6100000D86C3D4C9E563E40BE7BD74EA5F54D40',\n       '0101000020E6100000DBC1F19351543E4006FC5DE561F84D40',\n       '0101000020E6100000DBC1F19351543E40AE9B3931CAF54D40',\n       '0101000020E6100000DBC1F19351543E40CEB8CE2B18F84D40',\n       '0101000020E6100000DBC1F19351543E40DB251193A9F74D40',\n       '0101000020E6100000DF16A6DB04523E40477640AC8AFA4D40',\n       '0101000020E6100000E451FE84CC2D3E4021743A2748FE4D40',\n       '0101000020E6100000E451FE84CC2D3E403AAA977194EE4D40',\n       '0101000020E6100000E56B5A23B84F3E40236E4BFC40FA4D40',\n       '0101000020E6100000E56B5A23B84F3E40A3B9475FB1FB4D40',\n       '0101000020E6100000EC15C3B21E4B3E406379569882F64D40',\n       '0101000020E6100000EC15C3B21E4B3E407916A554F5F84D40',\n       '0101000020E6100000EC15C3B21E4B3E407AB3D8B484F74D40',\n       '0101000020E6100000EC15C3B21E4B3E408EC13E307EF44D40',\n       '0101000020E6100000EC2F1F510A6D3E4058AA511532F34D40',\n       '0101000020E6100000F26A77FAD1483E407916A554F5F84D40',\n       '0101000020E6100000F5A5CFA399243E400B9A5B3306034E40',\n       '0101000020E6100000F5BF2B4285463E401AD725FD56F34D40',\n       '0101000020E6100000F914E08938443E407916A554F5F84D40',\n       '0101000020E6100000F92E3C2824663E40134E7A7396014E40'], dtype=object)"
     },
     "execution_count": 15,
     "metadata": {},
     "output_type": "execute_result"
    }
   ],
   "source": [
    "points = working_df.point.unique()\n",
    "points"
   ],
   "metadata": {
    "collapsed": false,
    "pycharm": {
     "name": "#%%\n"
    }
   }
  },
  {
   "cell_type": "code",
   "execution_count": 16,
   "outputs": [
    {
     "data": {
      "text/plain": "155"
     },
     "execution_count": 16,
     "metadata": {},
     "output_type": "execute_result"
    }
   ],
   "source": [
    "len(points)"
   ],
   "metadata": {
    "collapsed": false,
    "pycharm": {
     "name": "#%%\n"
    }
   }
  },
  {
   "cell_type": "code",
   "execution_count": 17,
   "outputs": [
    {
     "name": "stderr",
     "output_type": "stream",
     "text": [
      "100%|██████████| 155/155 [1:30:42<00:00, 35.11s/it]\n"
     ]
    }
   ],
   "source": [
    "import warnings\n",
    "warnings.filterwarnings('ignore')\n",
    "predict_df = pd.DataFrame(columns=['point', 'hour', 'sum', 'error', 'timestamp'])\n",
    "for point in tqdm(points):\n",
    "    example_train = working_df[working_df.point == point]\n",
    "    example_train.sort_values(by=['timestamp'], inplace=True, ascending=True)\n",
    "    forecasting_range = pd.period_range(start=pd.to_datetime(example_train['timestamp'].iloc[-1]), end='2020-03-1 23:00:00', freq='1H')\n",
    "    model = pmdarima.arima.ARIMA(order=(2, 0, 2), seasonal_order=(2, 0, 2, 7))\n",
    "    model.fit(example_train['counts'])\n",
    "    forecast= model.predict(n_periods=len(forecasting_range), return_conf_int=False)\n",
    "    tmp = pd.DataFrame(columns=['point', 'hour', 'sum', 'error', 'timestamp'])\n",
    "    tmp['timestamp'] = forecasting_range.to_timestamp()\n",
    "    # tmp['hour'] = forecasting_range.to_timestamp()\n",
    "    tmp['sum'] = forecast.values\n",
    "    tmp['point'] = point\n",
    "    tmp['hour'] = (forecasting_range.to_timestamp() - pd.Timestamp(\"1970-01-01\")) // pd.Timedelta('1s')\n",
    "    example_test = valid_df[valid_df.point == point]\n",
    "    example_test.sort_values(by=['timestamp'], inplace=True)\n",
    "    tmp = tmp[tmp.timestamp.isin(example_test.timestamp)]\n",
    "    tmp['error'] = error(tmp['sum'].values, example_test['sum'].values)\n",
    "    predict_df = pd.concat([predict_df, tmp], ignore_index=True)"
   ],
   "metadata": {
    "collapsed": false,
    "pycharm": {
     "name": "#%%\n"
    }
   }
  },
  {
   "cell_type": "code",
   "execution_count": 18,
   "outputs": [
    {
     "data": {
      "text/plain": "                                                 point        hour        sum  \\\n0    0101000020E61000000000000000000000000000000000...  1580810400   7.408419   \n1    0101000020E61000000000000000000000000000000000...  1580832000  10.281830   \n2    0101000020E61000000000000000000000000000000000...  1580918400  10.644901   \n3    0101000020E61000000000000000000000000000000000...  1580947200   7.359219   \n4    0101000020E61000000000000000000000000000000000...  1581166800   8.843495   \n..                                                 ...         ...        ...   \n704  0101000020E6100000F914E08938443E407916A554F5F8...  1582117200   1.948768   \n705  0101000020E6100000F914E08938443E407916A554F5F8...  1582743600   2.051917   \n706  0101000020E6100000F914E08938443E407916A554F5F8...  1582912800   2.033792   \n707  0101000020E6100000F914E08938443E407916A554F5F8...  1582984800   1.909654   \n708  0101000020E6100000F92E3C2824663E40134E7A739601...  1582822800   0.771881   \n\n        error           timestamp  \n0    0.349816 2020-02-04 10:00:00  \n1    0.361625 2020-02-04 16:00:00  \n2    0.127300 2020-02-05 16:00:00  \n3    0.184696 2020-02-06 00:00:00  \n4    0.434613 2020-02-08 13:00:00  \n..        ...                 ...  \n704  6.184025 2020-02-19 13:00:00  \n705  2.898793 2020-02-26 19:00:00  \n706  1.458462 2020-02-28 18:00:00  \n707  2.141930 2020-02-29 14:00:00  \n708  6.773218 2020-02-27 17:00:00  \n\n[709 rows x 5 columns]",
      "text/html": "<div>\n<style scoped>\n    .dataframe tbody tr th:only-of-type {\n        vertical-align: middle;\n    }\n\n    .dataframe tbody tr th {\n        vertical-align: top;\n    }\n\n    .dataframe thead th {\n        text-align: right;\n    }\n</style>\n<table border=\"1\" class=\"dataframe\">\n  <thead>\n    <tr style=\"text-align: right;\">\n      <th></th>\n      <th>point</th>\n      <th>hour</th>\n      <th>sum</th>\n      <th>error</th>\n      <th>timestamp</th>\n    </tr>\n  </thead>\n  <tbody>\n    <tr>\n      <th>0</th>\n      <td>0101000020E61000000000000000000000000000000000...</td>\n      <td>1580810400</td>\n      <td>7.408419</td>\n      <td>0.349816</td>\n      <td>2020-02-04 10:00:00</td>\n    </tr>\n    <tr>\n      <th>1</th>\n      <td>0101000020E61000000000000000000000000000000000...</td>\n      <td>1580832000</td>\n      <td>10.281830</td>\n      <td>0.361625</td>\n      <td>2020-02-04 16:00:00</td>\n    </tr>\n    <tr>\n      <th>2</th>\n      <td>0101000020E61000000000000000000000000000000000...</td>\n      <td>1580918400</td>\n      <td>10.644901</td>\n      <td>0.127300</td>\n      <td>2020-02-05 16:00:00</td>\n    </tr>\n    <tr>\n      <th>3</th>\n      <td>0101000020E61000000000000000000000000000000000...</td>\n      <td>1580947200</td>\n      <td>7.359219</td>\n      <td>0.184696</td>\n      <td>2020-02-06 00:00:00</td>\n    </tr>\n    <tr>\n      <th>4</th>\n      <td>0101000020E61000000000000000000000000000000000...</td>\n      <td>1581166800</td>\n      <td>8.843495</td>\n      <td>0.434613</td>\n      <td>2020-02-08 13:00:00</td>\n    </tr>\n    <tr>\n      <th>...</th>\n      <td>...</td>\n      <td>...</td>\n      <td>...</td>\n      <td>...</td>\n      <td>...</td>\n    </tr>\n    <tr>\n      <th>704</th>\n      <td>0101000020E6100000F914E08938443E407916A554F5F8...</td>\n      <td>1582117200</td>\n      <td>1.948768</td>\n      <td>6.184025</td>\n      <td>2020-02-19 13:00:00</td>\n    </tr>\n    <tr>\n      <th>705</th>\n      <td>0101000020E6100000F914E08938443E407916A554F5F8...</td>\n      <td>1582743600</td>\n      <td>2.051917</td>\n      <td>2.898793</td>\n      <td>2020-02-26 19:00:00</td>\n    </tr>\n    <tr>\n      <th>706</th>\n      <td>0101000020E6100000F914E08938443E407916A554F5F8...</td>\n      <td>1582912800</td>\n      <td>2.033792</td>\n      <td>1.458462</td>\n      <td>2020-02-28 18:00:00</td>\n    </tr>\n    <tr>\n      <th>707</th>\n      <td>0101000020E6100000F914E08938443E407916A554F5F8...</td>\n      <td>1582984800</td>\n      <td>1.909654</td>\n      <td>2.141930</td>\n      <td>2020-02-29 14:00:00</td>\n    </tr>\n    <tr>\n      <th>708</th>\n      <td>0101000020E6100000F92E3C2824663E40134E7A739601...</td>\n      <td>1582822800</td>\n      <td>0.771881</td>\n      <td>6.773218</td>\n      <td>2020-02-27 17:00:00</td>\n    </tr>\n  </tbody>\n</table>\n<p>709 rows × 5 columns</p>\n</div>"
     },
     "execution_count": 18,
     "metadata": {},
     "output_type": "execute_result"
    }
   ],
   "source": [
    "predict_df"
   ],
   "metadata": {
    "collapsed": false,
    "pycharm": {
     "name": "#%%\n"
    }
   }
  },
  {
   "cell_type": "code",
   "execution_count": 20,
   "outputs": [
    {
     "data": {
      "text/plain": "1.9504225408042355"
     },
     "execution_count": 20,
     "metadata": {},
     "output_type": "execute_result"
    }
   ],
   "source": [
    "predict_df.error.mean()"
   ],
   "metadata": {
    "collapsed": false,
    "pycharm": {
     "name": "#%%\n"
    }
   }
  },
  {
   "cell_type": "code",
   "execution_count": 22,
   "outputs": [],
   "source": [
    "predict_df.to_csv('predict.csv')"
   ],
   "metadata": {
    "collapsed": false,
    "pycharm": {
     "name": "#%%\n"
    }
   }
  },
  {
   "cell_type": "code",
   "execution_count": 32,
   "outputs": [
    {
     "name": "stderr",
     "output_type": "stream",
     "text": [
      " 81%|████████  | 125/155 [13:47:29<3:18:35, 397.19s/it]\n"
     ]
    },
    {
     "ename": "KeyboardInterrupt",
     "evalue": "",
     "output_type": "error",
     "traceback": [
      "\u001B[1;31m---------------------------------------------------------------------------\u001B[0m",
      "\u001B[1;31mKeyboardInterrupt\u001B[0m                         Traceback (most recent call last)",
      "Input \u001B[1;32mIn [32]\u001B[0m, in \u001B[0;36m<cell line: 3>\u001B[1;34m()\u001B[0m\n\u001B[0;32m      7\u001B[0m model \u001B[38;5;241m=\u001B[39m pmdarima\u001B[38;5;241m.\u001B[39marima\u001B[38;5;241m.\u001B[39mARIMA(order\u001B[38;5;241m=\u001B[39m(\u001B[38;5;241m2\u001B[39m, \u001B[38;5;241m0\u001B[39m, \u001B[38;5;241m2\u001B[39m), seasonal_order\u001B[38;5;241m=\u001B[39m(\u001B[38;5;241m2\u001B[39m, \u001B[38;5;241m0\u001B[39m, \u001B[38;5;241m2\u001B[39m, \u001B[38;5;241m24\u001B[39m))\n\u001B[0;32m      9\u001B[0m \u001B[38;5;28;01mtry\u001B[39;00m:\n\u001B[1;32m---> 10\u001B[0m     \u001B[43mmodel\u001B[49m\u001B[38;5;241;43m.\u001B[39;49m\u001B[43mfit\u001B[49m\u001B[43m(\u001B[49m\u001B[43mexample_train\u001B[49m\u001B[43m[\u001B[49m\u001B[38;5;124;43m'\u001B[39;49m\u001B[38;5;124;43mcounts\u001B[39;49m\u001B[38;5;124;43m'\u001B[39;49m\u001B[43m]\u001B[49m\u001B[43m)\u001B[49m\n\u001B[0;32m     11\u001B[0m \u001B[38;5;28;01mexcept\u001B[39;00m np\u001B[38;5;241m.\u001B[39mlinalg\u001B[38;5;241m.\u001B[39mLinAlgError:\n\u001B[0;32m     12\u001B[0m     \u001B[38;5;28mprint\u001B[39m(\u001B[38;5;124m'\u001B[39m\u001B[38;5;124mLinAlgError. Try 7 order\u001B[39m\u001B[38;5;124m'\u001B[39m)\n",
      "File \u001B[1;32m~\\anaconda3\\envs\\PycharmProjects\\lib\\site-packages\\pmdarima\\arima\\arima.py:603\u001B[0m, in \u001B[0;36mARIMA.fit\u001B[1;34m(self, y, X, **fit_args)\u001B[0m\n\u001B[0;32m    600\u001B[0m         X \u001B[38;5;241m=\u001B[39m safe_indexing(X, \u001B[38;5;28mslice\u001B[39m(\u001B[38;5;241m0\u001B[39m, n_exog \u001B[38;5;241m-\u001B[39m cv))\n\u001B[0;32m    602\u001B[0m \u001B[38;5;66;03m# Internal call\u001B[39;00m\n\u001B[1;32m--> 603\u001B[0m \u001B[38;5;28;43mself\u001B[39;49m\u001B[38;5;241;43m.\u001B[39;49m\u001B[43m_fit\u001B[49m\u001B[43m(\u001B[49m\u001B[43my\u001B[49m\u001B[43m,\u001B[49m\u001B[43m \u001B[49m\u001B[43mX\u001B[49m\u001B[43m,\u001B[49m\u001B[43m \u001B[49m\u001B[38;5;241;43m*\u001B[39;49m\u001B[38;5;241;43m*\u001B[39;49m\u001B[43mfit_args\u001B[49m\u001B[43m)\u001B[49m\n\u001B[0;32m    605\u001B[0m \u001B[38;5;66;03m# now make a forecast if we're validating to compute the\u001B[39;00m\n\u001B[0;32m    606\u001B[0m \u001B[38;5;66;03m# out-of-sample score\u001B[39;00m\n\u001B[0;32m    607\u001B[0m \u001B[38;5;28;01mif\u001B[39;00m cv_samples \u001B[38;5;129;01mis\u001B[39;00m \u001B[38;5;129;01mnot\u001B[39;00m \u001B[38;5;28;01mNone\u001B[39;00m:\n\u001B[0;32m    608\u001B[0m     \u001B[38;5;66;03m# get the predictions (use self.predict, which calls forecast\u001B[39;00m\n\u001B[0;32m    609\u001B[0m     \u001B[38;5;66;03m# from statsmodels internally)\u001B[39;00m\n",
      "File \u001B[1;32m~\\anaconda3\\envs\\PycharmProjects\\lib\\site-packages\\pmdarima\\arima\\arima.py:526\u001B[0m, in \u001B[0;36mARIMA._fit\u001B[1;34m(self, y, X, **fit_args)\u001B[0m\n\u001B[0;32m    524\u001B[0m         fit, \u001B[38;5;28mself\u001B[39m\u001B[38;5;241m.\u001B[39marima_res_ \u001B[38;5;241m=\u001B[39m _fit_wrapper()\n\u001B[0;32m    525\u001B[0m \u001B[38;5;28;01melse\u001B[39;00m:\n\u001B[1;32m--> 526\u001B[0m     fit, \u001B[38;5;28mself\u001B[39m\u001B[38;5;241m.\u001B[39marima_res_ \u001B[38;5;241m=\u001B[39m \u001B[43m_fit_wrapper\u001B[49m\u001B[43m(\u001B[49m\u001B[43m)\u001B[49m\n\u001B[0;32m    528\u001B[0m \u001B[38;5;66;03m# Set df_model attribute for SARIMAXResults object\u001B[39;00m\n\u001B[0;32m    529\u001B[0m sm_compat\u001B[38;5;241m.\u001B[39mbind_df_model(fit, \u001B[38;5;28mself\u001B[39m\u001B[38;5;241m.\u001B[39marima_res_)\n",
      "File \u001B[1;32m~\\anaconda3\\envs\\PycharmProjects\\lib\\site-packages\\pmdarima\\arima\\arima.py:510\u001B[0m, in \u001B[0;36mARIMA._fit.<locals>._fit_wrapper\u001B[1;34m()\u001B[0m\n\u001B[0;32m    507\u001B[0m _maxiter \u001B[38;5;241m=\u001B[39m fit_args\u001B[38;5;241m.\u001B[39mpop(\u001B[38;5;124m\"\u001B[39m\u001B[38;5;124mmaxiter\u001B[39m\u001B[38;5;124m\"\u001B[39m, _maxiter)\n\u001B[0;32m    509\u001B[0m disp \u001B[38;5;241m=\u001B[39m fit_args\u001B[38;5;241m.\u001B[39mpop(\u001B[38;5;124m\"\u001B[39m\u001B[38;5;124mdisp\u001B[39m\u001B[38;5;124m\"\u001B[39m, \u001B[38;5;241m0\u001B[39m)\n\u001B[1;32m--> 510\u001B[0m fitted \u001B[38;5;241m=\u001B[39m \u001B[43marima\u001B[49m\u001B[38;5;241;43m.\u001B[39;49m\u001B[43mfit\u001B[49m\u001B[43m(\u001B[49m\n\u001B[0;32m    511\u001B[0m \u001B[43m    \u001B[49m\u001B[43mstart_params\u001B[49m\u001B[38;5;241;43m=\u001B[39;49m\u001B[43mstart_params\u001B[49m\u001B[43m,\u001B[49m\n\u001B[0;32m    512\u001B[0m \u001B[43m    \u001B[49m\u001B[43mmethod\u001B[49m\u001B[38;5;241;43m=\u001B[39;49m\u001B[43mmethod\u001B[49m\u001B[43m,\u001B[49m\n\u001B[0;32m    513\u001B[0m \u001B[43m    \u001B[49m\u001B[43mmaxiter\u001B[49m\u001B[38;5;241;43m=\u001B[39;49m\u001B[43m_maxiter\u001B[49m\u001B[43m,\u001B[49m\n\u001B[0;32m    514\u001B[0m \u001B[43m    \u001B[49m\u001B[43mdisp\u001B[49m\u001B[38;5;241;43m=\u001B[39;49m\u001B[43mdisp\u001B[49m\u001B[43m,\u001B[49m\n\u001B[0;32m    515\u001B[0m \u001B[43m    \u001B[49m\u001B[38;5;241;43m*\u001B[39;49m\u001B[38;5;241;43m*\u001B[39;49m\u001B[43mfit_args\u001B[49m\u001B[43m,\u001B[49m\n\u001B[0;32m    516\u001B[0m \u001B[43m\u001B[49m\u001B[43m)\u001B[49m\n\u001B[0;32m    518\u001B[0m \u001B[38;5;28;01mreturn\u001B[39;00m arima, fitted\n",
      "File \u001B[1;32m~\\AppData\\Roaming\\Python\\Python38\\site-packages\\statsmodels\\tsa\\statespace\\mlemodel.py:704\u001B[0m, in \u001B[0;36mMLEModel.fit\u001B[1;34m(self, start_params, transformed, includes_fixed, cov_type, cov_kwds, method, maxiter, full_output, disp, callback, return_params, optim_score, optim_complex_step, optim_hessian, flags, low_memory, **kwargs)\u001B[0m\n\u001B[0;32m    702\u001B[0m         flags[\u001B[38;5;124m'\u001B[39m\u001B[38;5;124mhessian_method\u001B[39m\u001B[38;5;124m'\u001B[39m] \u001B[38;5;241m=\u001B[39m optim_hessian\n\u001B[0;32m    703\u001B[0m     fargs \u001B[38;5;241m=\u001B[39m (flags,)\n\u001B[1;32m--> 704\u001B[0m     mlefit \u001B[38;5;241m=\u001B[39m \u001B[38;5;28;43msuper\u001B[39;49m\u001B[43m(\u001B[49m\u001B[43mMLEModel\u001B[49m\u001B[43m,\u001B[49m\u001B[43m \u001B[49m\u001B[38;5;28;43mself\u001B[39;49m\u001B[43m)\u001B[49m\u001B[38;5;241;43m.\u001B[39;49m\u001B[43mfit\u001B[49m\u001B[43m(\u001B[49m\u001B[43mstart_params\u001B[49m\u001B[43m,\u001B[49m\u001B[43m \u001B[49m\u001B[43mmethod\u001B[49m\u001B[38;5;241;43m=\u001B[39;49m\u001B[43mmethod\u001B[49m\u001B[43m,\u001B[49m\n\u001B[0;32m    705\u001B[0m \u001B[43m                                       \u001B[49m\u001B[43mfargs\u001B[49m\u001B[38;5;241;43m=\u001B[39;49m\u001B[43mfargs\u001B[49m\u001B[43m,\u001B[49m\n\u001B[0;32m    706\u001B[0m \u001B[43m                                       \u001B[49m\u001B[43mmaxiter\u001B[49m\u001B[38;5;241;43m=\u001B[39;49m\u001B[43mmaxiter\u001B[49m\u001B[43m,\u001B[49m\n\u001B[0;32m    707\u001B[0m \u001B[43m                                       \u001B[49m\u001B[43mfull_output\u001B[49m\u001B[38;5;241;43m=\u001B[39;49m\u001B[43mfull_output\u001B[49m\u001B[43m,\u001B[49m\n\u001B[0;32m    708\u001B[0m \u001B[43m                                       \u001B[49m\u001B[43mdisp\u001B[49m\u001B[38;5;241;43m=\u001B[39;49m\u001B[43mdisp\u001B[49m\u001B[43m,\u001B[49m\u001B[43m \u001B[49m\u001B[43mcallback\u001B[49m\u001B[38;5;241;43m=\u001B[39;49m\u001B[43mcallback\u001B[49m\u001B[43m,\u001B[49m\n\u001B[0;32m    709\u001B[0m \u001B[43m                                       \u001B[49m\u001B[43mskip_hessian\u001B[49m\u001B[38;5;241;43m=\u001B[39;49m\u001B[38;5;28;43;01mTrue\u001B[39;49;00m\u001B[43m,\u001B[49m\u001B[43m \u001B[49m\u001B[38;5;241;43m*\u001B[39;49m\u001B[38;5;241;43m*\u001B[39;49m\u001B[43mkwargs\u001B[49m\u001B[43m)\u001B[49m\n\u001B[0;32m    711\u001B[0m \u001B[38;5;66;03m# Just return the fitted parameters if requested\u001B[39;00m\n\u001B[0;32m    712\u001B[0m \u001B[38;5;28;01mif\u001B[39;00m return_params:\n",
      "File \u001B[1;32m~\\AppData\\Roaming\\Python\\Python38\\site-packages\\statsmodels\\base\\model.py:563\u001B[0m, in \u001B[0;36mLikelihoodModel.fit\u001B[1;34m(self, start_params, method, maxiter, full_output, disp, fargs, callback, retall, skip_hessian, **kwargs)\u001B[0m\n\u001B[0;32m    560\u001B[0m     \u001B[38;5;28;01mdel\u001B[39;00m kwargs[\u001B[38;5;124m\"\u001B[39m\u001B[38;5;124muse_t\u001B[39m\u001B[38;5;124m\"\u001B[39m]\n\u001B[0;32m    562\u001B[0m optimizer \u001B[38;5;241m=\u001B[39m Optimizer()\n\u001B[1;32m--> 563\u001B[0m xopt, retvals, optim_settings \u001B[38;5;241m=\u001B[39m \u001B[43moptimizer\u001B[49m\u001B[38;5;241;43m.\u001B[39;49m\u001B[43m_fit\u001B[49m\u001B[43m(\u001B[49m\u001B[43mf\u001B[49m\u001B[43m,\u001B[49m\u001B[43m \u001B[49m\u001B[43mscore\u001B[49m\u001B[43m,\u001B[49m\u001B[43m \u001B[49m\u001B[43mstart_params\u001B[49m\u001B[43m,\u001B[49m\n\u001B[0;32m    564\u001B[0m \u001B[43m                                               \u001B[49m\u001B[43mfargs\u001B[49m\u001B[43m,\u001B[49m\u001B[43m \u001B[49m\u001B[43mkwargs\u001B[49m\u001B[43m,\u001B[49m\n\u001B[0;32m    565\u001B[0m \u001B[43m                                               \u001B[49m\u001B[43mhessian\u001B[49m\u001B[38;5;241;43m=\u001B[39;49m\u001B[43mhess\u001B[49m\u001B[43m,\u001B[49m\n\u001B[0;32m    566\u001B[0m \u001B[43m                                               \u001B[49m\u001B[43mmethod\u001B[49m\u001B[38;5;241;43m=\u001B[39;49m\u001B[43mmethod\u001B[49m\u001B[43m,\u001B[49m\n\u001B[0;32m    567\u001B[0m \u001B[43m                                               \u001B[49m\u001B[43mdisp\u001B[49m\u001B[38;5;241;43m=\u001B[39;49m\u001B[43mdisp\u001B[49m\u001B[43m,\u001B[49m\n\u001B[0;32m    568\u001B[0m \u001B[43m                                               \u001B[49m\u001B[43mmaxiter\u001B[49m\u001B[38;5;241;43m=\u001B[39;49m\u001B[43mmaxiter\u001B[49m\u001B[43m,\u001B[49m\n\u001B[0;32m    569\u001B[0m \u001B[43m                                               \u001B[49m\u001B[43mcallback\u001B[49m\u001B[38;5;241;43m=\u001B[39;49m\u001B[43mcallback\u001B[49m\u001B[43m,\u001B[49m\n\u001B[0;32m    570\u001B[0m \u001B[43m                                               \u001B[49m\u001B[43mretall\u001B[49m\u001B[38;5;241;43m=\u001B[39;49m\u001B[43mretall\u001B[49m\u001B[43m,\u001B[49m\n\u001B[0;32m    571\u001B[0m \u001B[43m                                               \u001B[49m\u001B[43mfull_output\u001B[49m\u001B[38;5;241;43m=\u001B[39;49m\u001B[43mfull_output\u001B[49m\u001B[43m)\u001B[49m\n\u001B[0;32m    572\u001B[0m \u001B[38;5;66;03m# Restore cov_type, cov_kwds and use_t\u001B[39;00m\n\u001B[0;32m    573\u001B[0m optim_settings\u001B[38;5;241m.\u001B[39mupdate(kwds)\n",
      "File \u001B[1;32m~\\AppData\\Roaming\\Python\\Python38\\site-packages\\statsmodels\\base\\optimizer.py:241\u001B[0m, in \u001B[0;36mOptimizer._fit\u001B[1;34m(self, objective, gradient, start_params, fargs, kwargs, hessian, method, maxiter, full_output, disp, callback, retall)\u001B[0m\n\u001B[0;32m    238\u001B[0m     fit_funcs\u001B[38;5;241m.\u001B[39mupdate(extra_fit_funcs)\n\u001B[0;32m    240\u001B[0m func \u001B[38;5;241m=\u001B[39m fit_funcs[method]\n\u001B[1;32m--> 241\u001B[0m xopt, retvals \u001B[38;5;241m=\u001B[39m \u001B[43mfunc\u001B[49m\u001B[43m(\u001B[49m\u001B[43mobjective\u001B[49m\u001B[43m,\u001B[49m\u001B[43m \u001B[49m\u001B[43mgradient\u001B[49m\u001B[43m,\u001B[49m\u001B[43m \u001B[49m\u001B[43mstart_params\u001B[49m\u001B[43m,\u001B[49m\u001B[43m \u001B[49m\u001B[43mfargs\u001B[49m\u001B[43m,\u001B[49m\u001B[43m \u001B[49m\u001B[43mkwargs\u001B[49m\u001B[43m,\u001B[49m\n\u001B[0;32m    242\u001B[0m \u001B[43m                     \u001B[49m\u001B[43mdisp\u001B[49m\u001B[38;5;241;43m=\u001B[39;49m\u001B[43mdisp\u001B[49m\u001B[43m,\u001B[49m\u001B[43m \u001B[49m\u001B[43mmaxiter\u001B[49m\u001B[38;5;241;43m=\u001B[39;49m\u001B[43mmaxiter\u001B[49m\u001B[43m,\u001B[49m\u001B[43m \u001B[49m\u001B[43mcallback\u001B[49m\u001B[38;5;241;43m=\u001B[39;49m\u001B[43mcallback\u001B[49m\u001B[43m,\u001B[49m\n\u001B[0;32m    243\u001B[0m \u001B[43m                     \u001B[49m\u001B[43mretall\u001B[49m\u001B[38;5;241;43m=\u001B[39;49m\u001B[43mretall\u001B[49m\u001B[43m,\u001B[49m\u001B[43m \u001B[49m\u001B[43mfull_output\u001B[49m\u001B[38;5;241;43m=\u001B[39;49m\u001B[43mfull_output\u001B[49m\u001B[43m,\u001B[49m\n\u001B[0;32m    244\u001B[0m \u001B[43m                     \u001B[49m\u001B[43mhess\u001B[49m\u001B[38;5;241;43m=\u001B[39;49m\u001B[43mhessian\u001B[49m\u001B[43m)\u001B[49m\n\u001B[0;32m    246\u001B[0m optim_settings \u001B[38;5;241m=\u001B[39m {\u001B[38;5;124m'\u001B[39m\u001B[38;5;124moptimizer\u001B[39m\u001B[38;5;124m'\u001B[39m: method, \u001B[38;5;124m'\u001B[39m\u001B[38;5;124mstart_params\u001B[39m\u001B[38;5;124m'\u001B[39m: start_params,\n\u001B[0;32m    247\u001B[0m                   \u001B[38;5;124m'\u001B[39m\u001B[38;5;124mmaxiter\u001B[39m\u001B[38;5;124m'\u001B[39m: maxiter, \u001B[38;5;124m'\u001B[39m\u001B[38;5;124mfull_output\u001B[39m\u001B[38;5;124m'\u001B[39m: full_output,\n\u001B[0;32m    248\u001B[0m                   \u001B[38;5;124m'\u001B[39m\u001B[38;5;124mdisp\u001B[39m\u001B[38;5;124m'\u001B[39m: disp, \u001B[38;5;124m'\u001B[39m\u001B[38;5;124mfargs\u001B[39m\u001B[38;5;124m'\u001B[39m: fargs, \u001B[38;5;124m'\u001B[39m\u001B[38;5;124mcallback\u001B[39m\u001B[38;5;124m'\u001B[39m: callback,\n\u001B[0;32m    249\u001B[0m                   \u001B[38;5;124m'\u001B[39m\u001B[38;5;124mretall\u001B[39m\u001B[38;5;124m'\u001B[39m: retall, \u001B[38;5;124m\"\u001B[39m\u001B[38;5;124mextra_fit_funcs\u001B[39m\u001B[38;5;124m\"\u001B[39m: extra_fit_funcs}\n\u001B[0;32m    250\u001B[0m optim_settings\u001B[38;5;241m.\u001B[39mupdate(kwargs)\n",
      "File \u001B[1;32m~\\AppData\\Roaming\\Python\\Python38\\site-packages\\statsmodels\\base\\optimizer.py:651\u001B[0m, in \u001B[0;36m_fit_lbfgs\u001B[1;34m(f, score, start_params, fargs, kwargs, disp, maxiter, callback, retall, full_output, hess)\u001B[0m\n\u001B[0;32m    648\u001B[0m \u001B[38;5;28;01melif\u001B[39;00m approx_grad:\n\u001B[0;32m    649\u001B[0m     func \u001B[38;5;241m=\u001B[39m f\n\u001B[1;32m--> 651\u001B[0m retvals \u001B[38;5;241m=\u001B[39m \u001B[43moptimize\u001B[49m\u001B[38;5;241;43m.\u001B[39;49m\u001B[43mfmin_l_bfgs_b\u001B[49m\u001B[43m(\u001B[49m\u001B[43mfunc\u001B[49m\u001B[43m,\u001B[49m\u001B[43m \u001B[49m\u001B[43mstart_params\u001B[49m\u001B[43m,\u001B[49m\u001B[43m \u001B[49m\u001B[43mmaxiter\u001B[49m\u001B[38;5;241;43m=\u001B[39;49m\u001B[43mmaxiter\u001B[49m\u001B[43m,\u001B[49m\n\u001B[0;32m    652\u001B[0m \u001B[43m                                 \u001B[49m\u001B[43mcallback\u001B[49m\u001B[38;5;241;43m=\u001B[39;49m\u001B[43mcallback\u001B[49m\u001B[43m,\u001B[49m\u001B[43m \u001B[49m\u001B[43margs\u001B[49m\u001B[38;5;241;43m=\u001B[39;49m\u001B[43mfargs\u001B[49m\u001B[43m,\u001B[49m\n\u001B[0;32m    653\u001B[0m \u001B[43m                                 \u001B[49m\u001B[43mbounds\u001B[49m\u001B[38;5;241;43m=\u001B[39;49m\u001B[43mbounds\u001B[49m\u001B[43m,\u001B[49m\u001B[43m \u001B[49m\u001B[43mdisp\u001B[49m\u001B[38;5;241;43m=\u001B[39;49m\u001B[43mdisp\u001B[49m\u001B[43m,\u001B[49m\n\u001B[0;32m    654\u001B[0m \u001B[43m                                 \u001B[49m\u001B[38;5;241;43m*\u001B[39;49m\u001B[38;5;241;43m*\u001B[39;49m\u001B[43mextra_kwargs\u001B[49m\u001B[43m)\u001B[49m\n\u001B[0;32m    656\u001B[0m \u001B[38;5;28;01mif\u001B[39;00m full_output:\n\u001B[0;32m    657\u001B[0m     xopt, fopt, d \u001B[38;5;241m=\u001B[39m retvals\n",
      "File \u001B[1;32m~\\AppData\\Roaming\\Python\\Python38\\site-packages\\scipy\\optimize\\lbfgsb.py:197\u001B[0m, in \u001B[0;36mfmin_l_bfgs_b\u001B[1;34m(func, x0, fprime, args, approx_grad, bounds, m, factr, pgtol, epsilon, iprint, maxfun, maxiter, disp, callback, maxls)\u001B[0m\n\u001B[0;32m    185\u001B[0m     disp \u001B[38;5;241m=\u001B[39m iprint\n\u001B[0;32m    186\u001B[0m opts \u001B[38;5;241m=\u001B[39m {\u001B[38;5;124m'\u001B[39m\u001B[38;5;124mdisp\u001B[39m\u001B[38;5;124m'\u001B[39m: disp,\n\u001B[0;32m    187\u001B[0m         \u001B[38;5;124m'\u001B[39m\u001B[38;5;124miprint\u001B[39m\u001B[38;5;124m'\u001B[39m: iprint,\n\u001B[0;32m    188\u001B[0m         \u001B[38;5;124m'\u001B[39m\u001B[38;5;124mmaxcor\u001B[39m\u001B[38;5;124m'\u001B[39m: m,\n\u001B[1;32m   (...)\u001B[0m\n\u001B[0;32m    194\u001B[0m         \u001B[38;5;124m'\u001B[39m\u001B[38;5;124mcallback\u001B[39m\u001B[38;5;124m'\u001B[39m: callback,\n\u001B[0;32m    195\u001B[0m         \u001B[38;5;124m'\u001B[39m\u001B[38;5;124mmaxls\u001B[39m\u001B[38;5;124m'\u001B[39m: maxls}\n\u001B[1;32m--> 197\u001B[0m res \u001B[38;5;241m=\u001B[39m \u001B[43m_minimize_lbfgsb\u001B[49m\u001B[43m(\u001B[49m\u001B[43mfun\u001B[49m\u001B[43m,\u001B[49m\u001B[43m \u001B[49m\u001B[43mx0\u001B[49m\u001B[43m,\u001B[49m\u001B[43m \u001B[49m\u001B[43margs\u001B[49m\u001B[38;5;241;43m=\u001B[39;49m\u001B[43margs\u001B[49m\u001B[43m,\u001B[49m\u001B[43m \u001B[49m\u001B[43mjac\u001B[49m\u001B[38;5;241;43m=\u001B[39;49m\u001B[43mjac\u001B[49m\u001B[43m,\u001B[49m\u001B[43m \u001B[49m\u001B[43mbounds\u001B[49m\u001B[38;5;241;43m=\u001B[39;49m\u001B[43mbounds\u001B[49m\u001B[43m,\u001B[49m\n\u001B[0;32m    198\u001B[0m \u001B[43m                       \u001B[49m\u001B[38;5;241;43m*\u001B[39;49m\u001B[38;5;241;43m*\u001B[39;49m\u001B[43mopts\u001B[49m\u001B[43m)\u001B[49m\n\u001B[0;32m    199\u001B[0m d \u001B[38;5;241m=\u001B[39m {\u001B[38;5;124m'\u001B[39m\u001B[38;5;124mgrad\u001B[39m\u001B[38;5;124m'\u001B[39m: res[\u001B[38;5;124m'\u001B[39m\u001B[38;5;124mjac\u001B[39m\u001B[38;5;124m'\u001B[39m],\n\u001B[0;32m    200\u001B[0m      \u001B[38;5;124m'\u001B[39m\u001B[38;5;124mtask\u001B[39m\u001B[38;5;124m'\u001B[39m: res[\u001B[38;5;124m'\u001B[39m\u001B[38;5;124mmessage\u001B[39m\u001B[38;5;124m'\u001B[39m],\n\u001B[0;32m    201\u001B[0m      \u001B[38;5;124m'\u001B[39m\u001B[38;5;124mfuncalls\u001B[39m\u001B[38;5;124m'\u001B[39m: res[\u001B[38;5;124m'\u001B[39m\u001B[38;5;124mnfev\u001B[39m\u001B[38;5;124m'\u001B[39m],\n\u001B[0;32m    202\u001B[0m      \u001B[38;5;124m'\u001B[39m\u001B[38;5;124mnit\u001B[39m\u001B[38;5;124m'\u001B[39m: res[\u001B[38;5;124m'\u001B[39m\u001B[38;5;124mnit\u001B[39m\u001B[38;5;124m'\u001B[39m],\n\u001B[0;32m    203\u001B[0m      \u001B[38;5;124m'\u001B[39m\u001B[38;5;124mwarnflag\u001B[39m\u001B[38;5;124m'\u001B[39m: res[\u001B[38;5;124m'\u001B[39m\u001B[38;5;124mstatus\u001B[39m\u001B[38;5;124m'\u001B[39m]}\n\u001B[0;32m    204\u001B[0m f \u001B[38;5;241m=\u001B[39m res[\u001B[38;5;124m'\u001B[39m\u001B[38;5;124mfun\u001B[39m\u001B[38;5;124m'\u001B[39m]\n",
      "File \u001B[1;32m~\\AppData\\Roaming\\Python\\Python38\\site-packages\\scipy\\optimize\\lbfgsb.py:360\u001B[0m, in \u001B[0;36m_minimize_lbfgsb\u001B[1;34m(fun, x0, args, jac, bounds, disp, maxcor, ftol, gtol, eps, maxfun, maxiter, iprint, callback, maxls, finite_diff_rel_step, **unknown_options)\u001B[0m\n\u001B[0;32m    354\u001B[0m task_str \u001B[38;5;241m=\u001B[39m task\u001B[38;5;241m.\u001B[39mtobytes()\n\u001B[0;32m    355\u001B[0m \u001B[38;5;28;01mif\u001B[39;00m task_str\u001B[38;5;241m.\u001B[39mstartswith(\u001B[38;5;124mb\u001B[39m\u001B[38;5;124m'\u001B[39m\u001B[38;5;124mFG\u001B[39m\u001B[38;5;124m'\u001B[39m):\n\u001B[0;32m    356\u001B[0m     \u001B[38;5;66;03m# The minimization routine wants f and g at the current x.\u001B[39;00m\n\u001B[0;32m    357\u001B[0m     \u001B[38;5;66;03m# Note that interruptions due to maxfun are postponed\u001B[39;00m\n\u001B[0;32m    358\u001B[0m     \u001B[38;5;66;03m# until the completion of the current minimization iteration.\u001B[39;00m\n\u001B[0;32m    359\u001B[0m     \u001B[38;5;66;03m# Overwrite f and g:\u001B[39;00m\n\u001B[1;32m--> 360\u001B[0m     f, g \u001B[38;5;241m=\u001B[39m \u001B[43mfunc_and_grad\u001B[49m\u001B[43m(\u001B[49m\u001B[43mx\u001B[49m\u001B[43m)\u001B[49m\n\u001B[0;32m    361\u001B[0m \u001B[38;5;28;01melif\u001B[39;00m task_str\u001B[38;5;241m.\u001B[39mstartswith(\u001B[38;5;124mb\u001B[39m\u001B[38;5;124m'\u001B[39m\u001B[38;5;124mNEW_X\u001B[39m\u001B[38;5;124m'\u001B[39m):\n\u001B[0;32m    362\u001B[0m     \u001B[38;5;66;03m# new iteration\u001B[39;00m\n\u001B[0;32m    363\u001B[0m     n_iterations \u001B[38;5;241m+\u001B[39m\u001B[38;5;241m=\u001B[39m \u001B[38;5;241m1\u001B[39m\n",
      "File \u001B[1;32m~\\AppData\\Roaming\\Python\\Python38\\site-packages\\scipy\\optimize\\_differentiable_functions.py:201\u001B[0m, in \u001B[0;36mScalarFunction.fun_and_grad\u001B[1;34m(self, x)\u001B[0m\n\u001B[0;32m    199\u001B[0m     \u001B[38;5;28mself\u001B[39m\u001B[38;5;241m.\u001B[39m_update_x_impl(x)\n\u001B[0;32m    200\u001B[0m \u001B[38;5;28mself\u001B[39m\u001B[38;5;241m.\u001B[39m_update_fun()\n\u001B[1;32m--> 201\u001B[0m \u001B[38;5;28;43mself\u001B[39;49m\u001B[38;5;241;43m.\u001B[39;49m\u001B[43m_update_grad\u001B[49m\u001B[43m(\u001B[49m\u001B[43m)\u001B[49m\n\u001B[0;32m    202\u001B[0m \u001B[38;5;28;01mreturn\u001B[39;00m \u001B[38;5;28mself\u001B[39m\u001B[38;5;241m.\u001B[39mf, \u001B[38;5;28mself\u001B[39m\u001B[38;5;241m.\u001B[39mg\n",
      "File \u001B[1;32m~\\AppData\\Roaming\\Python\\Python38\\site-packages\\scipy\\optimize\\_differentiable_functions.py:171\u001B[0m, in \u001B[0;36mScalarFunction._update_grad\u001B[1;34m(self)\u001B[0m\n\u001B[0;32m    169\u001B[0m \u001B[38;5;28;01mdef\u001B[39;00m \u001B[38;5;21m_update_grad\u001B[39m(\u001B[38;5;28mself\u001B[39m):\n\u001B[0;32m    170\u001B[0m     \u001B[38;5;28;01mif\u001B[39;00m \u001B[38;5;129;01mnot\u001B[39;00m \u001B[38;5;28mself\u001B[39m\u001B[38;5;241m.\u001B[39mg_updated:\n\u001B[1;32m--> 171\u001B[0m         \u001B[38;5;28;43mself\u001B[39;49m\u001B[38;5;241;43m.\u001B[39;49m\u001B[43m_update_grad_impl\u001B[49m\u001B[43m(\u001B[49m\u001B[43m)\u001B[49m\n\u001B[0;32m    172\u001B[0m         \u001B[38;5;28mself\u001B[39m\u001B[38;5;241m.\u001B[39mg_updated \u001B[38;5;241m=\u001B[39m \u001B[38;5;28;01mTrue\u001B[39;00m\n",
      "File \u001B[1;32m~\\AppData\\Roaming\\Python\\Python38\\site-packages\\scipy\\optimize\\_differentiable_functions.py:91\u001B[0m, in \u001B[0;36mScalarFunction.__init__.<locals>.update_grad\u001B[1;34m()\u001B[0m\n\u001B[0;32m     89\u001B[0m \u001B[38;5;28mself\u001B[39m\u001B[38;5;241m.\u001B[39m_update_fun()\n\u001B[0;32m     90\u001B[0m \u001B[38;5;28mself\u001B[39m\u001B[38;5;241m.\u001B[39mngev \u001B[38;5;241m+\u001B[39m\u001B[38;5;241m=\u001B[39m \u001B[38;5;241m1\u001B[39m\n\u001B[1;32m---> 91\u001B[0m \u001B[38;5;28mself\u001B[39m\u001B[38;5;241m.\u001B[39mg \u001B[38;5;241m=\u001B[39m \u001B[43mapprox_derivative\u001B[49m\u001B[43m(\u001B[49m\u001B[43mfun_wrapped\u001B[49m\u001B[43m,\u001B[49m\u001B[43m \u001B[49m\u001B[38;5;28;43mself\u001B[39;49m\u001B[38;5;241;43m.\u001B[39;49m\u001B[43mx\u001B[49m\u001B[43m,\u001B[49m\u001B[43m \u001B[49m\u001B[43mf0\u001B[49m\u001B[38;5;241;43m=\u001B[39;49m\u001B[38;5;28;43mself\u001B[39;49m\u001B[38;5;241;43m.\u001B[39;49m\u001B[43mf\u001B[49m\u001B[43m,\u001B[49m\n\u001B[0;32m     92\u001B[0m \u001B[43m                           \u001B[49m\u001B[38;5;241;43m*\u001B[39;49m\u001B[38;5;241;43m*\u001B[39;49m\u001B[43mfinite_diff_options\u001B[49m\u001B[43m)\u001B[49m\n",
      "File \u001B[1;32m~\\AppData\\Roaming\\Python\\Python38\\site-packages\\scipy\\optimize\\_numdiff.py:426\u001B[0m, in \u001B[0;36mapprox_derivative\u001B[1;34m(fun, x0, method, rel_step, abs_step, f0, bounds, sparsity, as_linear_operator, args, kwargs)\u001B[0m\n\u001B[0;32m    423\u001B[0m     use_one_sided \u001B[38;5;241m=\u001B[39m \u001B[38;5;28;01mFalse\u001B[39;00m\n\u001B[0;32m    425\u001B[0m \u001B[38;5;28;01mif\u001B[39;00m sparsity \u001B[38;5;129;01mis\u001B[39;00m \u001B[38;5;28;01mNone\u001B[39;00m:\n\u001B[1;32m--> 426\u001B[0m     \u001B[38;5;28;01mreturn\u001B[39;00m \u001B[43m_dense_difference\u001B[49m\u001B[43m(\u001B[49m\u001B[43mfun_wrapped\u001B[49m\u001B[43m,\u001B[49m\u001B[43m \u001B[49m\u001B[43mx0\u001B[49m\u001B[43m,\u001B[49m\u001B[43m \u001B[49m\u001B[43mf0\u001B[49m\u001B[43m,\u001B[49m\u001B[43m \u001B[49m\u001B[43mh\u001B[49m\u001B[43m,\u001B[49m\n\u001B[0;32m    427\u001B[0m \u001B[43m                             \u001B[49m\u001B[43muse_one_sided\u001B[49m\u001B[43m,\u001B[49m\u001B[43m \u001B[49m\u001B[43mmethod\u001B[49m\u001B[43m)\u001B[49m\n\u001B[0;32m    428\u001B[0m \u001B[38;5;28;01melse\u001B[39;00m:\n\u001B[0;32m    429\u001B[0m     \u001B[38;5;28;01mif\u001B[39;00m \u001B[38;5;129;01mnot\u001B[39;00m issparse(sparsity) \u001B[38;5;129;01mand\u001B[39;00m \u001B[38;5;28mlen\u001B[39m(sparsity) \u001B[38;5;241m==\u001B[39m \u001B[38;5;241m2\u001B[39m:\n",
      "File \u001B[1;32m~\\AppData\\Roaming\\Python\\Python38\\site-packages\\scipy\\optimize\\_numdiff.py:497\u001B[0m, in \u001B[0;36m_dense_difference\u001B[1;34m(fun, x0, f0, h, use_one_sided, method)\u001B[0m\n\u001B[0;32m    495\u001B[0m     x \u001B[38;5;241m=\u001B[39m x0 \u001B[38;5;241m+\u001B[39m h_vecs[i]\n\u001B[0;32m    496\u001B[0m     dx \u001B[38;5;241m=\u001B[39m x[i] \u001B[38;5;241m-\u001B[39m x0[i]  \u001B[38;5;66;03m# Recompute dx as exactly representable number.\u001B[39;00m\n\u001B[1;32m--> 497\u001B[0m     df \u001B[38;5;241m=\u001B[39m \u001B[43mfun\u001B[49m\u001B[43m(\u001B[49m\u001B[43mx\u001B[49m\u001B[43m)\u001B[49m \u001B[38;5;241m-\u001B[39m f0\n\u001B[0;32m    498\u001B[0m \u001B[38;5;28;01melif\u001B[39;00m method \u001B[38;5;241m==\u001B[39m \u001B[38;5;124m'\u001B[39m\u001B[38;5;124m3-point\u001B[39m\u001B[38;5;124m'\u001B[39m \u001B[38;5;129;01mand\u001B[39;00m use_one_sided[i]:\n\u001B[0;32m    499\u001B[0m     x1 \u001B[38;5;241m=\u001B[39m x0 \u001B[38;5;241m+\u001B[39m h_vecs[i]\n",
      "File \u001B[1;32m~\\AppData\\Roaming\\Python\\Python38\\site-packages\\scipy\\optimize\\_numdiff.py:377\u001B[0m, in \u001B[0;36mapprox_derivative.<locals>.fun_wrapped\u001B[1;34m(x)\u001B[0m\n\u001B[0;32m    376\u001B[0m \u001B[38;5;28;01mdef\u001B[39;00m \u001B[38;5;21mfun_wrapped\u001B[39m(x):\n\u001B[1;32m--> 377\u001B[0m     f \u001B[38;5;241m=\u001B[39m np\u001B[38;5;241m.\u001B[39matleast_1d(\u001B[43mfun\u001B[49m\u001B[43m(\u001B[49m\u001B[43mx\u001B[49m\u001B[43m,\u001B[49m\u001B[43m \u001B[49m\u001B[38;5;241;43m*\u001B[39;49m\u001B[43margs\u001B[49m\u001B[43m,\u001B[49m\u001B[43m \u001B[49m\u001B[38;5;241;43m*\u001B[39;49m\u001B[38;5;241;43m*\u001B[39;49m\u001B[43mkwargs\u001B[49m\u001B[43m)\u001B[49m)\n\u001B[0;32m    378\u001B[0m     \u001B[38;5;28;01mif\u001B[39;00m f\u001B[38;5;241m.\u001B[39mndim \u001B[38;5;241m>\u001B[39m \u001B[38;5;241m1\u001B[39m:\n\u001B[0;32m    379\u001B[0m         \u001B[38;5;28;01mraise\u001B[39;00m \u001B[38;5;167;01mRuntimeError\u001B[39;00m(\u001B[38;5;124m\"\u001B[39m\u001B[38;5;124m`fun` return value has \u001B[39m\u001B[38;5;124m\"\u001B[39m\n\u001B[0;32m    380\u001B[0m                            \u001B[38;5;124m\"\u001B[39m\u001B[38;5;124mmore than 1 dimension.\u001B[39m\u001B[38;5;124m\"\u001B[39m)\n",
      "File \u001B[1;32m~\\AppData\\Roaming\\Python\\Python38\\site-packages\\scipy\\optimize\\_differentiable_functions.py:70\u001B[0m, in \u001B[0;36mScalarFunction.__init__.<locals>.fun_wrapped\u001B[1;34m(x)\u001B[0m\n\u001B[0;32m     68\u001B[0m \u001B[38;5;28;01mdef\u001B[39;00m \u001B[38;5;21mfun_wrapped\u001B[39m(x):\n\u001B[0;32m     69\u001B[0m     \u001B[38;5;28mself\u001B[39m\u001B[38;5;241m.\u001B[39mnfev \u001B[38;5;241m+\u001B[39m\u001B[38;5;241m=\u001B[39m \u001B[38;5;241m1\u001B[39m\n\u001B[1;32m---> 70\u001B[0m     \u001B[38;5;28;01mreturn\u001B[39;00m \u001B[43mfun\u001B[49m\u001B[43m(\u001B[49m\u001B[43mx\u001B[49m\u001B[43m,\u001B[49m\u001B[43m \u001B[49m\u001B[38;5;241;43m*\u001B[39;49m\u001B[43margs\u001B[49m\u001B[43m)\u001B[49m\n",
      "File \u001B[1;32m~\\AppData\\Roaming\\Python\\Python38\\site-packages\\statsmodels\\base\\model.py:531\u001B[0m, in \u001B[0;36mLikelihoodModel.fit.<locals>.f\u001B[1;34m(params, *args)\u001B[0m\n\u001B[0;32m    530\u001B[0m \u001B[38;5;28;01mdef\u001B[39;00m \u001B[38;5;21mf\u001B[39m(params, \u001B[38;5;241m*\u001B[39margs):\n\u001B[1;32m--> 531\u001B[0m     \u001B[38;5;28;01mreturn\u001B[39;00m \u001B[38;5;241m-\u001B[39m\u001B[38;5;28;43mself\u001B[39;49m\u001B[38;5;241;43m.\u001B[39;49m\u001B[43mloglike\u001B[49m\u001B[43m(\u001B[49m\u001B[43mparams\u001B[49m\u001B[43m,\u001B[49m\u001B[43m \u001B[49m\u001B[38;5;241;43m*\u001B[39;49m\u001B[43margs\u001B[49m\u001B[43m)\u001B[49m \u001B[38;5;241m/\u001B[39m nobs\n",
      "File \u001B[1;32m~\\AppData\\Roaming\\Python\\Python38\\site-packages\\statsmodels\\tsa\\statespace\\mlemodel.py:939\u001B[0m, in \u001B[0;36mMLEModel.loglike\u001B[1;34m(self, params, *args, **kwargs)\u001B[0m\n\u001B[0;32m    936\u001B[0m \u001B[38;5;28;01mif\u001B[39;00m complex_step:\n\u001B[0;32m    937\u001B[0m     kwargs[\u001B[38;5;124m'\u001B[39m\u001B[38;5;124minversion_method\u001B[39m\u001B[38;5;124m'\u001B[39m] \u001B[38;5;241m=\u001B[39m INVERT_UNIVARIATE \u001B[38;5;241m|\u001B[39m SOLVE_LU\n\u001B[1;32m--> 939\u001B[0m loglike \u001B[38;5;241m=\u001B[39m \u001B[38;5;28;43mself\u001B[39;49m\u001B[38;5;241;43m.\u001B[39;49m\u001B[43mssm\u001B[49m\u001B[38;5;241;43m.\u001B[39;49m\u001B[43mloglike\u001B[49m\u001B[43m(\u001B[49m\u001B[43mcomplex_step\u001B[49m\u001B[38;5;241;43m=\u001B[39;49m\u001B[43mcomplex_step\u001B[49m\u001B[43m,\u001B[49m\u001B[43m \u001B[49m\u001B[38;5;241;43m*\u001B[39;49m\u001B[38;5;241;43m*\u001B[39;49m\u001B[43mkwargs\u001B[49m\u001B[43m)\u001B[49m\n\u001B[0;32m    941\u001B[0m \u001B[38;5;66;03m# Koopman, Shephard, and Doornik recommend maximizing the average\u001B[39;00m\n\u001B[0;32m    942\u001B[0m \u001B[38;5;66;03m# likelihood to avoid scale issues, but the averaging is done\u001B[39;00m\n\u001B[0;32m    943\u001B[0m \u001B[38;5;66;03m# automatically in the base model `fit` method\u001B[39;00m\n\u001B[0;32m    944\u001B[0m \u001B[38;5;28;01mreturn\u001B[39;00m loglike\n",
      "File \u001B[1;32m~\\AppData\\Roaming\\Python\\Python38\\site-packages\\statsmodels\\tsa\\statespace\\kalman_filter.py:983\u001B[0m, in \u001B[0;36mKalmanFilter.loglike\u001B[1;34m(self, **kwargs)\u001B[0m\n\u001B[0;32m    967\u001B[0m \u001B[38;5;124mr\u001B[39m\u001B[38;5;124;03m\"\"\"\u001B[39;00m\n\u001B[0;32m    968\u001B[0m \u001B[38;5;124;03mCalculate the loglikelihood associated with the statespace model.\u001B[39;00m\n\u001B[0;32m    969\u001B[0m \n\u001B[1;32m   (...)\u001B[0m\n\u001B[0;32m    979\u001B[0m \u001B[38;5;124;03m    The joint loglikelihood.\u001B[39;00m\n\u001B[0;32m    980\u001B[0m \u001B[38;5;124;03m\"\"\"\u001B[39;00m\n\u001B[0;32m    981\u001B[0m kwargs\u001B[38;5;241m.\u001B[39msetdefault(\u001B[38;5;124m'\u001B[39m\u001B[38;5;124mconserve_memory\u001B[39m\u001B[38;5;124m'\u001B[39m,\n\u001B[0;32m    982\u001B[0m                   MEMORY_CONSERVE \u001B[38;5;241m^\u001B[39m MEMORY_NO_LIKELIHOOD)\n\u001B[1;32m--> 983\u001B[0m kfilter \u001B[38;5;241m=\u001B[39m \u001B[38;5;28;43mself\u001B[39;49m\u001B[38;5;241;43m.\u001B[39;49m\u001B[43m_filter\u001B[49m\u001B[43m(\u001B[49m\u001B[38;5;241;43m*\u001B[39;49m\u001B[38;5;241;43m*\u001B[39;49m\u001B[43mkwargs\u001B[49m\u001B[43m)\u001B[49m\n\u001B[0;32m    984\u001B[0m loglikelihood_burn \u001B[38;5;241m=\u001B[39m kwargs\u001B[38;5;241m.\u001B[39mget(\u001B[38;5;124m'\u001B[39m\u001B[38;5;124mloglikelihood_burn\u001B[39m\u001B[38;5;124m'\u001B[39m,\n\u001B[0;32m    985\u001B[0m                                 \u001B[38;5;28mself\u001B[39m\u001B[38;5;241m.\u001B[39mloglikelihood_burn)\n\u001B[0;32m    986\u001B[0m \u001B[38;5;28;01mif\u001B[39;00m \u001B[38;5;129;01mnot\u001B[39;00m (kwargs[\u001B[38;5;124m'\u001B[39m\u001B[38;5;124mconserve_memory\u001B[39m\u001B[38;5;124m'\u001B[39m] \u001B[38;5;241m&\u001B[39m MEMORY_NO_LIKELIHOOD):\n",
      "\u001B[1;31mKeyboardInterrupt\u001B[0m: "
     ]
    }
   ],
   "source": [
    "warnings.filterwarnings('ignore')\n",
    "predict_df_acc = pd.DataFrame(columns=['point', 'hour', 'sum', 'error', 'timestamp'])\n",
    "for point in tqdm(points):\n",
    "    example_train = working_df[working_df.point == point]\n",
    "    example_train.sort_values(by=['timestamp'], inplace=True, ascending=True)\n",
    "    forecasting_range = pd.period_range(start=pd.to_datetime(example_train['timestamp'].iloc[-1]), end='2020-03-1 23:00:00', freq='1H')\n",
    "    model = pmdarima.arima.ARIMA(order=(2, 0, 2), seasonal_order=(2, 0, 2, 24))\n",
    "\n",
    "    try:\n",
    "        model.fit(example_train['counts'])\n",
    "    except np.linalg.LinAlgError:\n",
    "        print('LinAlgError. Try 7 order')\n",
    "        model = pmdarima.arima.ARIMA(order=(2, 0, 2), seasonal_order=(2, 0, 2, 7))\n",
    "        model.fit(example_train['counts'])\n",
    "\n",
    "    forecast= model.predict(n_periods=len(forecasting_range), return_conf_int=False)\n",
    "    tmp = pd.DataFrame(columns=['point', 'hour', 'sum', 'error', 'timestamp'])\n",
    "    tmp['timestamp'] = forecasting_range.to_timestamp()\n",
    "    # tmp['hour'] = forecasting_range.to_timestamp()\n",
    "    tmp['sum'] = forecast.values\n",
    "    tmp['point'] = point\n",
    "    tmp['hour'] = (forecasting_range.to_timestamp() - pd.Timestamp(\"1970-01-01\")) // pd.Timedelta('1s')\n",
    "    example_test = valid_df[valid_df.point == point]\n",
    "    example_test.sort_values(by=['timestamp'], inplace=True)\n",
    "    tmp = tmp[tmp.timestamp.isin(example_test.timestamp)]\n",
    "    tmp['error'] = error(tmp['sum'].values, example_test['sum'].values)\n",
    "    predict_df_acc = pd.concat([predict_df_acc, tmp], ignore_index=True)"
   ],
   "metadata": {
    "collapsed": false,
    "pycharm": {
     "name": "#%%\n"
    }
   }
  },
  {
   "cell_type": "code",
   "execution_count": 33,
   "outputs": [
    {
     "data": {
      "text/plain": "1.9501086558795824"
     },
     "execution_count": 33,
     "metadata": {},
     "output_type": "execute_result"
    }
   ],
   "source": [
    "predict_df_acc.error.mean()"
   ],
   "metadata": {
    "collapsed": false,
    "pycharm": {
     "name": "#%%\n"
    }
   }
  },
  {
   "cell_type": "code",
   "execution_count": 34,
   "outputs": [],
   "source": [
    "predict_df_acc.to_csv('predict_df_acc.csv')"
   ],
   "metadata": {
    "collapsed": false,
    "pycharm": {
     "name": "#%%\n"
    }
   }
  },
  {
   "cell_type": "code",
   "execution_count": 17,
   "outputs": [
    {
     "data": {
      "text/plain": "                                                 point        hour  sum  \\\n258  0101000020E6100000C1A95B4732403E40494A4ED65FF7...  1582999200   40   \n143  0101000020E6100000A4566D514B503E4006FC5DE561F8...  1581775200   40   \n34   0101000020E61000002D2BB0848B4A3E402B348A98ADF9...  1581069600   38   \n436  0101000020E6100000C5FE0F8FE53D3E4033438EB75DF6...  1583006400   37   \n438  0101000020E6100000328064CC3E483E400C288C4EF3F7...  1581426000   37   \n..                                                 ...         ...  ...   \n96   0101000020E6100000202C93AD71513E40CEB8CE2B18F8...  1582441200    5   \n404  0101000020E61000008EC74389B67D3E4033438EB75DF6...  1580803200    5   \n93   0101000020E6100000CFC2D4BC375B3E408A05A0FCDCFF...  1581249600    5   \n570  0101000020E6100000E56B5A23B84F3E40134E7A739601...  1581447600    5   \n142  0101000020E6100000202C93AD71513E407A441D895BF5...  1582372800    5   \n\n         error           timestamp       Dates      Time  \n258   2.446153 2020-02-29 21:00:00  2020-02-29  21:00:00  \n143  38.754735 2020-02-15 17:00:00  2020-02-15  17:00:00  \n34   17.754735 2020-02-07 13:00:00  2020-02-07  13:00:00  \n436   2.865846 2020-02-29 23:00:00  2020-02-29  23:00:00  \n438  35.754735 2020-02-11 16:00:00  2020-02-11  16:00:00  \n..         ...                 ...         ...       ...  \n96    1.254735 2020-02-23 10:00:00  2020-02-23  10:00:00  \n404   3.754735 2020-02-04 11:00:00  2020-02-04  11:00:00  \n93    1.254735 2020-02-09 15:00:00  2020-02-09  15:00:00  \n570   3.754735 2020-02-11 22:00:00  2020-02-11  22:00:00  \n142   3.754735 2020-02-22 15:00:00  2020-02-22  15:00:00  \n\n[700 rows x 7 columns]",
      "text/html": "<div>\n<style scoped>\n    .dataframe tbody tr th:only-of-type {\n        vertical-align: middle;\n    }\n\n    .dataframe tbody tr th {\n        vertical-align: top;\n    }\n\n    .dataframe thead th {\n        text-align: right;\n    }\n</style>\n<table border=\"1\" class=\"dataframe\">\n  <thead>\n    <tr style=\"text-align: right;\">\n      <th></th>\n      <th>point</th>\n      <th>hour</th>\n      <th>sum</th>\n      <th>error</th>\n      <th>timestamp</th>\n      <th>Dates</th>\n      <th>Time</th>\n    </tr>\n  </thead>\n  <tbody>\n    <tr>\n      <th>258</th>\n      <td>0101000020E6100000C1A95B4732403E40494A4ED65FF7...</td>\n      <td>1582999200</td>\n      <td>40</td>\n      <td>2.446153</td>\n      <td>2020-02-29 21:00:00</td>\n      <td>2020-02-29</td>\n      <td>21:00:00</td>\n    </tr>\n    <tr>\n      <th>143</th>\n      <td>0101000020E6100000A4566D514B503E4006FC5DE561F8...</td>\n      <td>1581775200</td>\n      <td>40</td>\n      <td>38.754735</td>\n      <td>2020-02-15 17:00:00</td>\n      <td>2020-02-15</td>\n      <td>17:00:00</td>\n    </tr>\n    <tr>\n      <th>34</th>\n      <td>0101000020E61000002D2BB0848B4A3E402B348A98ADF9...</td>\n      <td>1581069600</td>\n      <td>38</td>\n      <td>17.754735</td>\n      <td>2020-02-07 13:00:00</td>\n      <td>2020-02-07</td>\n      <td>13:00:00</td>\n    </tr>\n    <tr>\n      <th>436</th>\n      <td>0101000020E6100000C5FE0F8FE53D3E4033438EB75DF6...</td>\n      <td>1583006400</td>\n      <td>37</td>\n      <td>2.865846</td>\n      <td>2020-02-29 23:00:00</td>\n      <td>2020-02-29</td>\n      <td>23:00:00</td>\n    </tr>\n    <tr>\n      <th>438</th>\n      <td>0101000020E6100000328064CC3E483E400C288C4EF3F7...</td>\n      <td>1581426000</td>\n      <td>37</td>\n      <td>35.754735</td>\n      <td>2020-02-11 16:00:00</td>\n      <td>2020-02-11</td>\n      <td>16:00:00</td>\n    </tr>\n    <tr>\n      <th>...</th>\n      <td>...</td>\n      <td>...</td>\n      <td>...</td>\n      <td>...</td>\n      <td>...</td>\n      <td>...</td>\n      <td>...</td>\n    </tr>\n    <tr>\n      <th>96</th>\n      <td>0101000020E6100000202C93AD71513E40CEB8CE2B18F8...</td>\n      <td>1582441200</td>\n      <td>5</td>\n      <td>1.254735</td>\n      <td>2020-02-23 10:00:00</td>\n      <td>2020-02-23</td>\n      <td>10:00:00</td>\n    </tr>\n    <tr>\n      <th>404</th>\n      <td>0101000020E61000008EC74389B67D3E4033438EB75DF6...</td>\n      <td>1580803200</td>\n      <td>5</td>\n      <td>3.754735</td>\n      <td>2020-02-04 11:00:00</td>\n      <td>2020-02-04</td>\n      <td>11:00:00</td>\n    </tr>\n    <tr>\n      <th>93</th>\n      <td>0101000020E6100000CFC2D4BC375B3E408A05A0FCDCFF...</td>\n      <td>1581249600</td>\n      <td>5</td>\n      <td>1.254735</td>\n      <td>2020-02-09 15:00:00</td>\n      <td>2020-02-09</td>\n      <td>15:00:00</td>\n    </tr>\n    <tr>\n      <th>570</th>\n      <td>0101000020E6100000E56B5A23B84F3E40134E7A739601...</td>\n      <td>1581447600</td>\n      <td>5</td>\n      <td>3.754735</td>\n      <td>2020-02-11 22:00:00</td>\n      <td>2020-02-11</td>\n      <td>22:00:00</td>\n    </tr>\n    <tr>\n      <th>142</th>\n      <td>0101000020E6100000202C93AD71513E407A441D895BF5...</td>\n      <td>1582372800</td>\n      <td>5</td>\n      <td>3.754735</td>\n      <td>2020-02-22 15:00:00</td>\n      <td>2020-02-22</td>\n      <td>15:00:00</td>\n    </tr>\n  </tbody>\n</table>\n<p>700 rows × 7 columns</p>\n</div>"
     },
     "execution_count": 17,
     "metadata": {},
     "output_type": "execute_result"
    }
   ],
   "source": [
    "test = pd.read_csv('test.csv')\n",
    "test = test[['point', 'hour', 'sum', 'error']]\n",
    "test['timestamp']= [datetime.fromtimestamp(x) for x in test['hour']]\n",
    "test['Dates'] = pd.to_datetime(test['timestamp']).dt.date\n",
    "test['Time'] = pd.to_datetime(test['timestamp']).dt.time\n",
    "test.sort_values(by=['sum'], ascending=False)"
   ],
   "metadata": {
    "collapsed": false,
    "pycharm": {
     "name": "#%%\n"
    }
   }
  },
  {
   "cell_type": "code",
   "execution_count": 26,
   "outputs": [
    {
     "name": "stderr",
     "output_type": "stream",
     "text": [
      "100%|██████████| 155/155 [16:27:16<00:00, 382.17s/it]  \n"
     ]
    }
   ],
   "source": [
    "warnings.filterwarnings('ignore')\n",
    "predict_df_acc = pd.DataFrame(columns=['point', 'hour', 'sum', 'error', 'timestamp'])\n",
    "for point in tqdm(points):\n",
    "    example_train = working_df[working_df.point == point]\n",
    "    example_train.sort_values(by=['timestamp'], inplace=True, ascending=True)\n",
    "    forecasting_range = pd.period_range(start=pd.to_datetime(example_train['timestamp'].iloc[-1]), end='2020-03-1 23:00:00', freq='1H')\n",
    "    model = pmdarima.arima.ARIMA(order=(2, 0, 2), seasonal_order=(2, 0, 2, 24))\n",
    "\n",
    "    try:\n",
    "        model.fit(example_train['counts'])\n",
    "    except np.linalg.LinAlgError:\n",
    "        print('LinAlgError. Try 7 order')\n",
    "        model = pmdarima.arima.ARIMA(order=(2, 0, 2), seasonal_order=(2, 0, 2, 7))\n",
    "        model.fit(example_train['counts'])\n",
    "\n",
    "    forecast= model.predict(n_periods=len(forecasting_range), return_conf_int=False)\n",
    "    tmp = pd.DataFrame(columns=['point', 'hour', 'sum', 'error', 'timestamp'])\n",
    "    tmp['timestamp'] = forecasting_range.to_timestamp()\n",
    "    # tmp['hour'] = forecasting_range.to_timestamp()\n",
    "    tmp['sum'] = forecast.values\n",
    "    tmp['point'] = point\n",
    "    tmp['hour'] = (forecasting_range.to_timestamp() - pd.Timestamp(\"1970-01-01\")) // pd.Timedelta('1s')\n",
    "    example_test = test[test.point == point]\n",
    "    example_test.sort_values(by=['timestamp'], inplace=True)\n",
    "    tmp = tmp[tmp.timestamp.isin(example_test.timestamp)]\n",
    "    tmp['error'] = error(tmp['sum'].values, example_test['sum'].values)\n",
    "    predict_df_acc = pd.concat([predict_df_acc, tmp], ignore_index=True)"
   ],
   "metadata": {
    "collapsed": false,
    "pycharm": {
     "name": "#%%\n"
    }
   }
  },
  {
   "cell_type": "code",
   "execution_count": 27,
   "outputs": [
    {
     "data": {
      "text/plain": "0.9578291067281066"
     },
     "execution_count": 27,
     "metadata": {},
     "output_type": "execute_result"
    }
   ],
   "source": [
    "predict_df_acc.error.mean()"
   ],
   "metadata": {
    "collapsed": false,
    "pycharm": {
     "name": "#%%\n"
    }
   }
  },
  {
   "cell_type": "code",
   "execution_count": 28,
   "outputs": [],
   "source": [
    "predict_df_acc.to_csv('predict_df_test.csv')"
   ],
   "metadata": {
    "collapsed": false,
    "pycharm": {
     "name": "#%%\n"
    }
   }
  },
  {
   "cell_type": "code",
   "execution_count": null,
   "outputs": [
    {
     "name": "stderr",
     "output_type": "stream",
     "text": [
      "  0%|          | 0/155 [00:00<?, ?it/s]"
     ]
    }
   ],
   "source": [
    "warnings.filterwarnings('ignore')\n",
    "predict_df_acc = pd.DataFrame(columns=['point', 'hour', 'sum', 'error', 'timestamp'])\n",
    "for point in tqdm(points):\n",
    "    example_train = working_df[working_df.point == point]\n",
    "    example_train.sort_values(by=['timestamp'], inplace=True, ascending=True)\n",
    "    forecasting_range = pd.period_range(start=pd.to_datetime(example_train['timestamp'].iloc[-1]), end='2020-03-1 23:00:00', freq='1H')\n",
    "\n",
    "    try:\n",
    "        model = pmdarima.arima.auto_arima(example_train['counts'], m=30)\n",
    "    except np.linalg.LinAlgError:\n",
    "        print('LinAlgError. Try 7 order')\n",
    "        model = pmdarima.arima.auto_arima(example_train['counts'], m=7)\n",
    "\n",
    "    forecast= model.predict(n_periods=len(forecasting_range), return_conf_int=False)\n",
    "    tmp = pd.DataFrame(columns=['point', 'hour', 'sum', 'error', 'timestamp'])\n",
    "    tmp['timestamp'] = forecasting_range.to_timestamp()\n",
    "    # tmp['hour'] = forecasting_range.to_timestamp()\n",
    "    tmp['sum'] = forecast.values\n",
    "    tmp['point'] = point\n",
    "    tmp['hour'] = (forecasting_range.to_timestamp() - pd.Timestamp(\"1970-01-01\")) // pd.Timedelta('1s')\n",
    "    example_test = test[test.point == point]\n",
    "    example_test.sort_values(by=['timestamp'], inplace=True)\n",
    "    tmp = tmp[tmp.timestamp.isin(example_test.timestamp)]\n",
    "    tmp['error'] = error(tmp['sum'].values, example_test['sum'].values)\n",
    "    predict_df_acc = pd.concat([predict_df_acc, tmp], ignore_index=True)"
   ],
   "metadata": {
    "collapsed": false,
    "pycharm": {
     "name": "#%%\n",
     "is_executing": true
    }
   }
  },
  {
   "cell_type": "code",
   "execution_count": 91,
   "outputs": [
    {
     "data": {
      "text/plain": "array([[59.92811119, 30.34733609],\n       [59.9191073 , 30.33835293],\n       [59.9449869 , 30.36530239],\n       [59.9551082 , 30.31140347],\n       [59.93598759, 30.3248782 ],\n       [59.93261222, 30.34958187],\n       [59.83344842, 30.34958187],\n       [59.93373738, 30.3069119 ],\n       [59.93373738, 30.3069119 ],\n       [59.93373738, 30.3069119 ],\n       [59.92811119, 30.36081082],\n       [59.93148702, 30.36081082],\n       [59.93148702, 30.36081082],\n       [59.93148702, 30.36081082],\n       [59.93148702, 30.36081082],\n       [59.93148702, 30.36081082],\n       [59.93148702, 30.36081082],\n       [59.93148702, 30.36081082],\n       [59.93148702, 30.36081082],\n       [59.93373738, 30.3069119 ],\n       [59.93148702, 30.36081082],\n       [59.93373738, 30.3069119 ],\n       [59.93148702, 30.36081082],\n       [59.94948564, 30.30017453],\n       [59.93148702, 30.36081082],\n       [59.93148702, 30.36081082],\n       [59.93148702, 30.36081082],\n       [59.93148702, 30.36081082],\n       [59.94948564, 30.31589505],\n       [59.93148702, 30.36081082],\n       [59.93148702, 30.36081082],\n       [59.93148702, 30.36081082],\n       [59.93148702, 30.36081082],\n       [59.93148702, 30.36081082],\n       [59.93148702, 30.36081082],\n       [59.93148702, 30.36081082],\n       [59.93148702, 30.36081082],\n       [59.93148702, 30.36081082],\n       [59.94948564, 30.31589505],\n       [59.93148702, 30.36081082],\n       [59.93148702, 30.36081082],\n       [59.93148702, 30.36081082],\n       [59.93148702, 30.36081082],\n       [59.93148702, 30.36081082],\n       [59.93148702, 30.36081082],\n       [59.93148702, 30.36081082],\n       [59.93148702, 30.36081082],\n       [59.93148702, 30.36081082],\n       [59.93148702, 30.36081082],\n       [59.93148702, 30.36081082],\n       [59.93148702, 30.36081082],\n       [59.93148702, 30.36081082],\n       [59.93148702, 30.36081082],\n       [59.93148702, 30.36081082],\n       [59.93148702, 30.36081082],\n       [59.93148702, 30.36081082],\n       [59.93148702, 30.36081082],\n       [59.93148702, 30.36081082],\n       [59.93148702, 30.36081082],\n       [59.93148702, 30.36081082],\n       [59.93148702, 30.36081082],\n       [59.93148702, 30.36081082],\n       [59.93148702, 30.36081082],\n       [59.93373738, 30.29343717],\n       [59.93148702, 30.36081082],\n       [59.93148702, 30.36081082],\n       [59.93148702, 30.36081082],\n       [59.93148702, 30.36081082],\n       [59.93148702, 30.36081082],\n       [59.93148702, 30.36081082],\n       [59.93148702, 30.36081082],\n       [59.93148702, 30.36081082],\n       [59.93148702, 30.36081082],\n       [59.93148702, 30.36081082],\n       [59.93148702, 30.36081082],\n       [59.93148702, 30.36081082],\n       [59.93148702, 30.36081082],\n       [59.93148702, 30.36081082],\n       [59.93373738, 30.3069119 ],\n       [59.94948564, 30.31589505],\n       [59.93148702, 30.36081082],\n       [59.93373738, 30.33835293],\n       [59.93148702, 30.36081082],\n       [59.93148702, 30.36081082],\n       [59.93148702, 30.36081082],\n       [59.93148702, 30.36081082],\n       [59.92473502, 30.24178404],\n       [59.94948564, 30.31589505],\n       [59.93148702, 30.36081082],\n       [59.89996592, 30.42593867],\n       [59.93148702, 30.36081082],\n       [59.93148702, 30.36081082],\n       [59.93148702, 30.36081082],\n       [59.93148702, 30.36081082],\n       [59.93148702, 30.36081082],\n       [59.94948564, 30.31589505],\n       [59.93148702, 30.36081082],\n       [59.93148702, 30.36081082],\n       [59.93148702, 30.36081082],\n       [59.91685594, 30.31814084],\n       [59.93148702, 30.36081082],\n       [59.93148702, 30.36081082],\n       [59.93148702, 30.36081082],\n       [59.93148702, 30.36081082],\n       [59.93148702, 30.36081082],\n       [59.93148702, 30.36081082],\n       [59.93148702, 30.36081082],\n       [59.93148702, 30.36081082],\n       [59.92360955, 30.34733609],\n       [59.93148702, 30.36081082],\n       [59.93148702, 30.36081082],\n       [59.93148702, 30.36081082],\n       [59.93148702, 30.36081082],\n       [59.93148702, 30.36081082],\n       [59.93148702, 30.36081082],\n       [59.93148702, 30.36081082],\n       [59.93148702, 30.36081082],\n       [59.93148702, 30.36081082],\n       [59.93148702, 30.36081082],\n       [59.93148702, 30.36081082],\n       [59.93148702, 30.36081082],\n       [59.93148702, 30.36081082],\n       [59.93148702, 30.36081082],\n       [59.93148702, 30.36081082],\n       [59.93148702, 30.36081082],\n       [59.93148702, 30.36081082],\n       [59.93148702, 30.36081082],\n       [59.93148702, 30.36081082],\n       [59.93148702, 30.36081082],\n       [59.93148702, 30.36081082],\n       [59.93148702, 30.36081082],\n       [59.93148702, 30.36081082],\n       [59.93148702, 30.36081082],\n       [59.93148702, 30.36081082],\n       [59.93148702, 30.36081082],\n       [59.93148702, 30.36081082],\n       [59.93148702, 30.36081082],\n       [59.93148702, 30.36081082],\n       [59.93148702, 30.36081082],\n       [59.93148702, 30.36081082],\n       [59.93148702, 30.36081082],\n       [59.94948564, 30.31589505],\n       [59.93148702, 30.36081082],\n       [59.93148702, 30.36081082],\n       [59.93148702, 30.36081082],\n       [59.93148702, 30.36081082],\n       [59.93148702, 30.36081082],\n       [59.93148702, 30.36081082],\n       [59.93148702, 30.36081082],\n       [59.93148702, 30.36081082],\n       [59.93148702, 30.36081082],\n       [59.93148702, 30.36081082],\n       [59.93148702, 30.36081082],\n       [59.93148702, 30.36081082],\n       [59.93148702, 30.36081082],\n       [59.95061023, 30.31589505],\n       [59.93148702, 30.36081082],\n       [59.93148702, 30.36081082],\n       [59.93148702, 30.36081082],\n       [59.93148702, 30.36081082],\n       [59.93148702, 30.36081082],\n       [59.94948564, 30.31589505],\n       [59.93148702, 30.36081082],\n       [59.93148702, 30.36081082],\n       [59.93148702, 30.36081082],\n       [59.93148702, 30.36081082],\n       [59.93148702, 30.36081082],\n       [59.93148702, 30.36081082],\n       [59.93148702, 30.36081082],\n       [59.93148702, 30.36081082],\n       [59.93148702, 30.36081082],\n       [59.93148702, 30.36081082],\n       [59.93148702, 30.36081082],\n       [59.93148702, 30.36081082],\n       [59.93148702, 30.36081082],\n       [59.93148702, 30.36081082],\n       [59.93373738, 30.3069119 ],\n       [59.93148702, 30.36081082],\n       [59.93148702, 30.36081082],\n       [59.93148702, 30.36081082],\n       [59.94948564, 30.31589505],\n       [59.93148702, 30.36081082],\n       [59.93148702, 30.36081082],\n       [59.93148702, 30.36081082],\n       [59.93148702, 30.36081082],\n       [59.93148702, 30.36081082],\n       [59.90109219, 30.27547086],\n       [59.93148702, 30.36081082],\n       [59.93148702, 30.36081082],\n       [59.94948564, 30.31589505],\n       [59.93148702, 30.36081082],\n       [59.93148702, 30.36081082],\n       [59.93148702, 30.36081082],\n       [59.93148702, 30.36081082],\n       [59.93148702, 30.36081082],\n       [59.93148702, 30.36081082],\n       [59.94948564, 30.31589505],\n       [59.93148702, 30.36081082],\n       [59.94948564, 30.31589505],\n       [59.93148702, 30.36081082],\n       [59.93148702, 30.36081082],\n       [59.93148702, 30.36081082],\n       [59.93148702, 30.36081082],\n       [59.93148702, 30.36081082],\n       [59.93373738, 30.3069119 ],\n       [59.93148702, 30.36081082],\n       [59.93148702, 30.36081082],\n       [59.93148702, 30.36081082],\n       [59.93148702, 30.36081082],\n       [59.93148702, 30.36081082],\n       [59.93148702, 30.36081082],\n       [59.93148702, 30.36081082],\n       [59.93148702, 30.36081082],\n       [59.93148702, 30.36081082],\n       [59.93148702, 30.36081082],\n       [59.93148702, 30.36081082],\n       [59.93148702, 30.36081082],\n       [59.93148702, 30.36081082],\n       [59.94948564, 30.31589505],\n       [59.93148702, 30.36081082],\n       [59.93148702, 30.36081082],\n       [59.93148702, 30.36081082],\n       [59.91685594, 30.31814084],\n       [59.94948564, 30.31589505],\n       [59.93148702, 30.36081082],\n       [59.93148702, 30.36081082],\n       [59.91235278, 30.33161557],\n       [59.94948564, 30.31589505],\n       [59.93148702, 30.36081082],\n       [59.94948564, 30.31589505],\n       [59.93148702, 30.36081082],\n       [59.93148702, 30.36081082],\n       [59.94948564, 30.31589505],\n       [59.93148702, 30.36081082],\n       [59.93148702, 30.36081082],\n       [59.93148702, 30.36081082],\n       [59.93148702, 30.36081082],\n       [59.93148702, 30.36081082],\n       [59.94048755, 30.34059872],\n       [59.93148702, 30.36081082],\n       [59.93148702, 30.36081082],\n       [59.93148702, 30.36081082],\n       [59.93148702, 30.36081082],\n       [59.94948564, 30.31589505],\n       [59.93148702, 30.36081082],\n       [59.93148702, 30.36081082],\n       [59.94948564, 30.30017453],\n       [59.93148702, 30.36081082],\n       [59.94948564, 30.31589505],\n       [59.93148702, 30.36081082],\n       [59.93148702, 30.36081082],\n       [59.93148702, 30.36081082],\n       [59.93148702, 30.36081082],\n       [59.93148702, 30.36081082],\n       [59.93373738, 30.3069119 ],\n       [59.93373738, 30.3069119 ],\n       [59.93148702, 30.36081082],\n       [59.93148702, 30.36081082],\n       [59.93148702, 30.36081082],\n       [59.94948564, 30.31589505],\n       [59.93148702, 30.36081082],\n       [59.94948564, 30.30017453],\n       [59.93148702, 30.36081082],\n       [59.93148702, 30.36081082],\n       [59.93148702, 30.36081082],\n       [59.94948564, 30.31589505],\n       [59.93148702, 30.36081082],\n       [59.93148702, 30.36081082],\n       [59.94948564, 30.31589505],\n       [59.93148702, 30.36081082],\n       [59.94948564, 30.31589505],\n       [59.93148702, 30.36081082],\n       [59.93148702, 30.36081082],\n       [59.93148702, 30.36081082],\n       [59.93148702, 30.36081082],\n       [59.93148702, 30.36081082],\n       [59.93148702, 30.36081082],\n       [59.93148702, 30.36081082],\n       [59.93148702, 30.36081082],\n       [59.93148702, 30.36081082],\n       [59.93148702, 30.36081082],\n       [59.94948564, 30.31589505],\n       [59.93148702, 30.36081082],\n       [59.94948564, 30.31589505],\n       [59.93148702, 30.36081082],\n       [59.93148702, 30.36081082],\n       [59.9562326 , 30.31364926],\n       [59.93148702, 30.36081082],\n       [59.93148702, 30.36081082],\n       [59.93148702, 30.36081082],\n       [59.93148702, 30.36081082],\n       [59.93148702, 30.36081082],\n       [59.93148702, 30.36081082],\n       [59.93148702, 30.36081082],\n       [59.93148702, 30.36081082],\n       [59.93148702, 30.36081082],\n       [59.94948564, 30.31589505],\n       [59.93148702, 30.36081082],\n       [59.93148702, 30.36081082],\n       [59.93148702, 30.36081082],\n       [59.93148702, 30.36081082],\n       [59.94948564, 30.31589505],\n       [59.93148702, 30.36081082],\n       [59.90109219, 30.27547086],\n       [59.93373738, 30.3069119 ],\n       [59.93148702, 30.36081082],\n       [59.93148702, 30.36081082],\n       [59.93148702, 30.36081082],\n       [59.93148702, 30.36081082],\n       [59.93148702, 30.36081082],\n       [59.93148702, 30.36081082],\n       [59.93148702, 30.36081082],\n       [59.93148702, 30.36081082],\n       [59.93148702, 30.36081082],\n       [59.94948564, 30.31589505],\n       [59.94948564, 30.31589505],\n       [59.93148702, 30.36081082],\n       [59.93148702, 30.36081082],\n       [59.93148702, 30.36081082],\n       [59.93148702, 30.36081082],\n       [59.93148702, 30.36081082],\n       [59.93148702, 30.36081082],\n       [59.93148702, 30.36081082],\n       [59.93148702, 30.36081082],\n       [59.93148702, 30.36081082],\n       [59.93148702, 30.36081082],\n       [59.93148702, 30.36081082],\n       [59.93148702, 30.36081082],\n       [59.93148702, 30.36081082],\n       [59.93148702, 30.36081082],\n       [59.93148702, 30.36081082],\n       [59.94948564, 30.31589505],\n       [59.93148702, 30.36081082],\n       [59.93148702, 30.36081082],\n       [59.93148702, 30.36081082],\n       [59.93148702, 30.36081082],\n       [59.93148702, 30.36081082],\n       [59.93148702, 30.36081082],\n       [59.93148702, 30.36081082],\n       [59.93148702, 30.36081082],\n       [59.93148702, 30.36081082],\n       [59.93148702, 30.36081082],\n       [59.94948564, 30.31589505],\n       [59.98657694, 30.17890197],\n       [59.93148702, 30.36081082],\n       [59.93148702, 30.36081082],\n       [59.93148702, 30.36081082],\n       [59.93373738, 30.3069119 ],\n       [59.93373738, 30.3069119 ],\n       [59.93148702, 30.36081082],\n       [59.93148702, 30.36081082],\n       [59.93148702, 30.36081082],\n       [59.93148702, 30.36081082],\n       [59.93148702, 30.36081082],\n       [59.93148702, 30.36081082],\n       [59.93148702, 30.36081082],\n       [59.93148702, 30.36081082],\n       [59.93148702, 30.36081082],\n       [59.94948564, 30.31589505],\n       [59.93148702, 30.36081082],\n       [59.94948564, 30.31589505],\n       [59.93148702, 30.36081082],\n       [59.93148702, 30.36081082],\n       [59.93148702, 30.36081082],\n       [59.93148702, 30.36081082],\n       [59.93148702, 30.36081082],\n       [59.93148702, 30.36081082],\n       [59.93148702, 30.36081082],\n       [59.93148702, 30.36081082],\n       [59.93148702, 30.36081082],\n       [59.93148702, 30.36081082],\n       [59.93148702, 30.36081082],\n       [59.93148702, 30.36081082],\n       [59.93148702, 30.36081082],\n       [59.93148702, 30.36081082],\n       [59.93148702, 30.36081082],\n       [59.93148702, 30.36081082],\n       [59.93148702, 30.36081082],\n       [59.93148702, 30.36081082],\n       [59.93148702, 30.36081082],\n       [59.93148702, 30.36081082],\n       [59.93148702, 30.36081082],\n       [59.93148702, 30.36081082],\n       [59.93148702, 30.36081082],\n       [59.93148702, 30.36081082],\n       [59.8830673 , 30.36979397],\n       [59.93148702, 30.36081082],\n       [59.93148702, 30.36081082],\n       [59.93148702, 30.36081082],\n       [ 0.        ,  0.        ],\n       [59.93148702, 30.36081082],\n       [59.93148702, 30.36081082],\n       [59.94948564, 30.31589505],\n       [59.94948564, 30.31589505],\n       [59.93148702, 30.36081082],\n       [59.93148702, 30.36081082],\n       [59.93148702, 30.36081082],\n       [59.93148702, 30.36081082],\n       [59.93148702, 30.36081082],\n       [59.93148702, 30.36081082],\n       [59.93148702, 30.36081082],\n       [59.93148702, 30.36081082],\n       [59.93148702, 30.36081082],\n       [59.95061023, 30.31589505],\n       [59.95061023, 30.31589505],\n       [59.86616009, 30.32263242],\n       [59.94048755, 30.34059872],\n       [59.94836101, 30.39449764],\n       [59.9292365 , 30.28894559],\n       [59.83344842, 30.34958187],\n       [59.92586045, 30.29568296],\n       [59.93148702, 30.35407345],\n       [59.93373738, 30.3248782 ],\n       [59.95735696, 30.32038663],\n       [59.96972241, 30.32263242],\n       [59.96072981, 30.29792875],\n       [60.03933228, 30.32263242],\n       [59.93148702, 30.35182766],\n       [59.93261222, 30.30466611],\n       [59.93373738, 30.3069119 ],\n       [59.9427373 , 30.3069119 ],\n       [59.9213585 , 30.46860865],\n       [59.98208324, 30.19911406],\n       [59.86954222, 30.34284451],\n       [59.95061023, 30.31589505],\n       [59.98208324, 30.19911406],\n       [59.93823764, 30.31814084],\n       [59.95061023, 30.31589505],\n       [59.93261222, 30.34958187],\n       [59.92811119, 30.36081082],\n       [59.98208324, 30.19911406],\n       [59.92698584, 30.33161557],\n       [59.94048755, 30.41021816],\n       [59.93148702, 30.35407345],\n       [59.91235278, 30.33161557],\n       [59.86390514, 30.17890197],\n       [59.93373738, 30.3069119 ],\n       [60.02250462, 30.22606352],\n       [59.9292365 , 30.28894559],\n       [59.93373738, 30.3069119 ],\n       [59.92811119, 30.36081082],\n       [59.93148702, 30.35182766],\n       [59.9191073 , 30.33835293],\n       [59.9292365 , 30.28894559],\n       [59.9292365 , 30.28894559],\n       [59.93373738, 30.3069119 ],\n       [59.91235278, 30.33161557],\n       [59.86954222, 30.37877712],\n       [59.91460444, 30.34733609],\n       [60.00454566, 30.27322507],\n       [59.93148702, 30.35407345],\n       [59.89996592, 30.42593867],\n       [59.93148702, 30.35182766],\n       [59.95061023, 30.29119138],\n       [59.94048755, 30.31364926],\n       [59.93261222, 30.25076719],\n       [ 0.        ,  0.        ],\n       [59.93373738, 30.3069119 ],\n       [59.92811119, 30.34733609],\n       [59.93598759, 30.3248782 ],\n       [59.93373738, 30.33835293],\n       [59.98657694, 30.17890197],\n       [59.84134728, 30.25301298],\n       [59.98657694, 30.17890197],\n       [59.98657694, 30.17890197],\n       [59.94048755, 30.31364926],\n       [59.8932075 , 30.5157702 ],\n       [59.93373738, 30.3069119 ],\n       [59.90109219, 30.27547086],\n       [59.98545357, 30.30017453],\n       [59.93261222, 30.34958187],\n       [59.93373738, 30.3069119 ],\n       [59.94048755, 30.31364926],\n       [59.97197017, 30.22606352],\n       [59.93373738, 30.3069119 ],\n       [59.98208324, 30.19911406],\n       [59.89996592, 30.42593867],\n       [59.92023292, 30.32936978],\n       [59.9191073 , 30.33835293],\n       [59.9292365 , 30.28894559],\n       [59.93373738, 30.3069119 ],\n       [59.9449869 , 30.29343717],\n       [59.95061023, 30.31589505],\n       [59.93261222, 30.34958187],\n       [59.93373738, 30.3069119 ],\n       [59.92811119, 30.36081082],\n       [60.0382107 , 30.22606352],\n       [59.94048755, 30.31364926],\n       [59.93373738, 30.3069119 ]])"
     },
     "execution_count": 91,
     "metadata": {},
     "output_type": "execute_result"
    }
   ],
   "source": [
    "df_clear[df_clear.timestamp == '2020-01-20 02:00:00'][['lat', 'lon']].values"
   ],
   "metadata": {
    "collapsed": false,
    "pycharm": {
     "name": "#%%\n"
    }
   }
  },
  {
   "cell_type": "code",
   "execution_count": 99,
   "outputs": [
    {
     "data": {
      "text/plain": "<folium.folium.Map at 0x28c5fbf39d0>",
      "text/html": "<div style=\"width:100%;\"><div style=\"position:relative;width:100%;height:0;padding-bottom:60%;\"><span style=\"color:#565656\">Make this Notebook Trusted to load map: File -> Trust Notebook</span><iframe srcdoc=\"&lt;!DOCTYPE html&gt;\n&lt;html&gt;\n&lt;head&gt;\n    \n    &lt;meta http-equiv=&quot;content-type&quot; content=&quot;text/html; charset=UTF-8&quot; /&gt;\n    \n        &lt;script&gt;\n            L_NO_TOUCH = false;\n            L_DISABLE_3D = false;\n        &lt;/script&gt;\n    \n    &lt;style&gt;html, body {width: 100%;height: 100%;margin: 0;padding: 0;}&lt;/style&gt;\n    &lt;style&gt;#map {position:absolute;top:0;bottom:0;right:0;left:0;}&lt;/style&gt;\n    &lt;script src=&quot;https://cdn.jsdelivr.net/npm/leaflet@1.6.0/dist/leaflet.js&quot;&gt;&lt;/script&gt;\n    &lt;script src=&quot;https://code.jquery.com/jquery-1.12.4.min.js&quot;&gt;&lt;/script&gt;\n    &lt;script src=&quot;https://maxcdn.bootstrapcdn.com/bootstrap/3.2.0/js/bootstrap.min.js&quot;&gt;&lt;/script&gt;\n    &lt;script src=&quot;https://cdnjs.cloudflare.com/ajax/libs/Leaflet.awesome-markers/2.0.2/leaflet.awesome-markers.js&quot;&gt;&lt;/script&gt;\n    &lt;link rel=&quot;stylesheet&quot; href=&quot;https://cdn.jsdelivr.net/npm/leaflet@1.6.0/dist/leaflet.css&quot;/&gt;\n    &lt;link rel=&quot;stylesheet&quot; href=&quot;https://maxcdn.bootstrapcdn.com/bootstrap/3.2.0/css/bootstrap.min.css&quot;/&gt;\n    &lt;link rel=&quot;stylesheet&quot; href=&quot;https://maxcdn.bootstrapcdn.com/bootstrap/3.2.0/css/bootstrap-theme.min.css&quot;/&gt;\n    &lt;link rel=&quot;stylesheet&quot; href=&quot;https://maxcdn.bootstrapcdn.com/font-awesome/4.6.3/css/font-awesome.min.css&quot;/&gt;\n    &lt;link rel=&quot;stylesheet&quot; href=&quot;https://cdnjs.cloudflare.com/ajax/libs/Leaflet.awesome-markers/2.0.2/leaflet.awesome-markers.css&quot;/&gt;\n    &lt;link rel=&quot;stylesheet&quot; href=&quot;https://cdn.jsdelivr.net/gh/python-visualization/folium/folium/templates/leaflet.awesome.rotate.min.css&quot;/&gt;\n    \n            &lt;meta name=&quot;viewport&quot; content=&quot;width=device-width,\n                initial-scale=1.0, maximum-scale=1.0, user-scalable=no&quot; /&gt;\n            &lt;style&gt;\n                #map_80c00efa3c75f2e80aee9a2111659b60 {\n                    position: relative;\n                    width: 100.0%;\n                    height: 100.0%;\n                    left: 0.0%;\n                    top: 0.0%;\n                }\n            &lt;/style&gt;\n        \n    &lt;script src=&quot;https://cdn.jsdelivr.net/gh/python-visualization/folium@main/folium/templates/leaflet_heat.min.js&quot;&gt;&lt;/script&gt;\n&lt;/head&gt;\n&lt;body&gt;\n    \n    \n            &lt;div class=&quot;folium-map&quot; id=&quot;map_80c00efa3c75f2e80aee9a2111659b60&quot; &gt;&lt;/div&gt;\n        \n&lt;/body&gt;\n&lt;script&gt;\n    \n    \n            var map_80c00efa3c75f2e80aee9a2111659b60 = L.map(\n                &quot;map_80c00efa3c75f2e80aee9a2111659b60&quot;,\n                {\n                    center: [59.9386, 30.3141],\n                    crs: L.CRS.EPSG3857,\n                    zoom: 13,\n                    zoomControl: true,\n                    preferCanvas: false,\n                }\n            );\n\n            \n\n        \n    \n            var tile_layer_5a3c735a8251766dd736fbe8dcc34b1d = L.tileLayer(\n                &quot;https://{s}.tile.openstreetmap.org/{z}/{x}/{y}.png&quot;,\n                {&quot;attribution&quot;: &quot;Data by \\u0026copy; \\u003ca href=\\&quot;http://openstreetmap.org\\&quot;\\u003eOpenStreetMap\\u003c/a\\u003e, under \\u003ca href=\\&quot;http://www.openstreetmap.org/copyright\\&quot;\\u003eODbL\\u003c/a\\u003e.&quot;, &quot;detectRetina&quot;: false, &quot;maxNativeZoom&quot;: 18, &quot;maxZoom&quot;: 18, &quot;minZoom&quot;: 0, &quot;noWrap&quot;: false, &quot;opacity&quot;: 1, &quot;subdomains&quot;: &quot;abc&quot;, &quot;tms&quot;: false}\n            ).addTo(map_80c00efa3c75f2e80aee9a2111659b60);\n        \n    \n            var heat_map_fc9dad9118e5964e2424e4f399ff3f49 = L.heatLayer(\n                [[30.347336085767733, 59.92811118856449], [30.33835293292654, 59.919107299057465], [30.365302391450125, 59.94498689709594], [30.31140347440295, 59.9551082008659], [30.324878203664746, 59.935987587847], [30.349581873978032, 59.932612217166536], [30.349581873978032, 59.833448420068855], [30.306911897982356, 59.93373737889392], [30.306911897982356, 59.93373737889392], [30.306911897982356, 59.93373737889392], [30.36081081502953, 59.92811118856449], [30.36081081502953, 59.93148701727075], [30.36081081502953, 59.93148701727075], [30.36081081502953, 59.93148701727075], [30.36081081502953, 59.93148701727075], [30.36081081502953, 59.93148701727075], [30.36081081502953, 59.93148701727075], [30.36081081502953, 59.93148701727075], [30.36081081502953, 59.93148701727075], [30.306911897982356, 59.93373737889392], [30.36081081502953, 59.93148701727075], [30.306911897982356, 59.93373737889392], [30.36081081502953, 59.93148701727075], [30.300174533351456, 59.94948563587889], [30.36081081502953, 59.93148701727075], [30.36081081502953, 59.93148701727075], [30.36081081502953, 59.93148701727075], [30.36081081502953, 59.93148701727075], [30.315895050823546, 59.94948563587889], [30.36081081502953, 59.93148701727075], [30.36081081502953, 59.93148701727075], [30.36081081502953, 59.93148701727075], [30.36081081502953, 59.93148701727075], [30.36081081502953, 59.93148701727075], [30.36081081502953, 59.93148701727075], [30.36081081502953, 59.93148701727075], [30.36081081502953, 59.93148701727075], [30.36081081502953, 59.93148701727075], [30.315895050823546, 59.94948563587889], [30.36081081502953, 59.93148701727075], [30.36081081502953, 59.93148701727075], [30.36081081502953, 59.93148701727075], [30.36081081502953, 59.93148701727075], [30.36081081502953, 59.93148701727075], [30.36081081502953, 59.93148701727075], [30.36081081502953, 59.93148701727075], [30.36081081502953, 59.93148701727075], [30.36081081502953, 59.93148701727075], [30.36081081502953, 59.93148701727075], [30.36081081502953, 59.93148701727075], [30.36081081502953, 59.93148701727075], [30.36081081502953, 59.93148701727075], [30.36081081502953, 59.93148701727075], [30.36081081502953, 59.93148701727075], [30.36081081502953, 59.93148701727075], [30.36081081502953, 59.93148701727075], [30.36081081502953, 59.93148701727075], [30.36081081502953, 59.93148701727075], [30.36081081502953, 59.93148701727075], [30.36081081502953, 59.93148701727075], [30.36081081502953, 59.93148701727075], [30.36081081502953, 59.93148701727075], [30.36081081502953, 59.93148701727075], [30.29343716872056, 59.93373737889392], [30.36081081502953, 59.93148701727075], [30.36081081502953, 59.93148701727075], [30.36081081502953, 59.93148701727075], [30.36081081502953, 59.93148701727075], [30.36081081502953, 59.93148701727075], [30.36081081502953, 59.93148701727075], [30.36081081502953, 59.93148701727075], [30.36081081502953, 59.93148701727075], [30.36081081502953, 59.93148701727075], [30.36081081502953, 59.93148701727075], [30.36081081502953, 59.93148701727075], [30.36081081502953, 59.93148701727075], [30.36081081502953, 59.93148701727075], [30.36081081502953, 59.93148701727075], [30.306911897982356, 59.93373737889392], [30.315895050823546, 59.94948563587889], [30.36081081502953, 59.93148701727075], [30.33835293292654, 59.93373737889392], [30.36081081502953, 59.93148701727075], [30.36081081502953, 59.93148701727075], [30.36081081502953, 59.93148701727075], [30.36081081502953, 59.93148701727075], [30.24178403988369, 59.92473501631175], [30.315895050823546, 59.94948563587889], [30.36081081502953, 59.93148701727075], [30.425938673128183, 59.89996592032976], [30.36081081502953, 59.93148701727075], [30.36081081502953, 59.93148701727075], [30.36081081502953, 59.93148701727075], [30.36081081502953, 59.93148701727075], [30.36081081502953, 59.93148701727075], [30.315895050823546, 59.94948563587889], [30.36081081502953, 59.93148701727075], [30.36081081502953, 59.93148701727075], [30.36081081502953, 59.93148701727075], [30.31814083903384, 59.91685594491079], [30.36081081502953, 59.93148701727075], [30.36081081502953, 59.93148701727075], [30.36081081502953, 59.93148701727075], [30.36081081502953, 59.93148701727075], [30.36081081502953, 59.93148701727075], [30.36081081502953, 59.93148701727075], [30.36081081502953, 59.93148701727075], [30.36081081502953, 59.93148701727075], [30.347336085767733, 59.92360954921317], [30.36081081502953, 59.93148701727075], [30.36081081502953, 59.93148701727075], [30.36081081502953, 59.93148701727075], [30.36081081502953, 59.93148701727075], [30.36081081502953, 59.93148701727075], [30.36081081502953, 59.93148701727075], [30.36081081502953, 59.93148701727075], [30.36081081502953, 59.93148701727075], [30.36081081502953, 59.93148701727075], [30.36081081502953, 59.93148701727075], [30.36081081502953, 59.93148701727075], [30.36081081502953, 59.93148701727075], [30.36081081502953, 59.93148701727075], [30.36081081502953, 59.93148701727075], [30.36081081502953, 59.93148701727075], [30.36081081502953, 59.93148701727075], [30.36081081502953, 59.93148701727075], [30.36081081502953, 59.93148701727075], [30.36081081502953, 59.93148701727075], [30.36081081502953, 59.93148701727075], [30.36081081502953, 59.93148701727075], [30.36081081502953, 59.93148701727075], [30.36081081502953, 59.93148701727075], [30.36081081502953, 59.93148701727075], [30.36081081502953, 59.93148701727075], [30.36081081502953, 59.93148701727075], [30.36081081502953, 59.93148701727075], [30.36081081502953, 59.93148701727075], [30.36081081502953, 59.93148701727075], [30.36081081502953, 59.93148701727075], [30.36081081502953, 59.93148701727075], [30.36081081502953, 59.93148701727075], [30.315895050823546, 59.94948563587889], [30.36081081502953, 59.93148701727075], [30.36081081502953, 59.93148701727075], [30.36081081502953, 59.93148701727075], [30.36081081502953, 59.93148701727075], [30.36081081502953, 59.93148701727075], [30.36081081502953, 59.93148701727075], [30.36081081502953, 59.93148701727075], [30.36081081502953, 59.93148701727075], [30.36081081502953, 59.93148701727075], [30.36081081502953, 59.93148701727075], [30.36081081502953, 59.93148701727075], [30.36081081502953, 59.93148701727075], [30.36081081502953, 59.93148701727075], [30.315895050823546, 59.950610225183794], [30.36081081502953, 59.93148701727075], [30.36081081502953, 59.93148701727075], [30.36081081502953, 59.93148701727075], [30.36081081502953, 59.93148701727075], [30.36081081502953, 59.93148701727075], [30.315895050823546, 59.94948563587889], [30.36081081502953, 59.93148701727075], [30.36081081502953, 59.93148701727075], [30.36081081502953, 59.93148701727075], [30.36081081502953, 59.93148701727075], [30.36081081502953, 59.93148701727075], [30.36081081502953, 59.93148701727075], [30.36081081502953, 59.93148701727075], [30.36081081502953, 59.93148701727075], [30.36081081502953, 59.93148701727075], [30.36081081502953, 59.93148701727075], [30.36081081502953, 59.93148701727075], [30.36081081502953, 59.93148701727075], [30.36081081502953, 59.93148701727075], [30.36081081502953, 59.93148701727075], [30.306911897982356, 59.93373737889392], [30.36081081502953, 59.93148701727075], [30.36081081502953, 59.93148701727075], [30.36081081502953, 59.93148701727075], [30.315895050823546, 59.94948563587889], [30.36081081502953, 59.93148701727075], [30.36081081502953, 59.93148701727075], [30.36081081502953, 59.93148701727075], [30.36081081502953, 59.93148701727075], [30.36081081502953, 59.93148701727075], [30.275470863038173, 59.90109218928974], [30.36081081502953, 59.93148701727075], [30.36081081502953, 59.93148701727075], [30.315895050823546, 59.94948563587889], [30.36081081502953, 59.93148701727075], [30.36081081502953, 59.93148701727075], [30.36081081502953, 59.93148701727075], [30.36081081502953, 59.93148701727075], [30.36081081502953, 59.93148701727075], [30.36081081502953, 59.93148701727075], [30.315895050823546, 59.94948563587889], [30.36081081502953, 59.93148701727075], [30.315895050823546, 59.94948563587889], [30.36081081502953, 59.93148701727075], [30.36081081502953, 59.93148701727075], [30.36081081502953, 59.93148701727075], [30.36081081502953, 59.93148701727075], [30.36081081502953, 59.93148701727075], [30.306911897982356, 59.93373737889392], [30.36081081502953, 59.93148701727075], [30.36081081502953, 59.93148701727075], [30.36081081502953, 59.93148701727075], [30.36081081502953, 59.93148701727075], [30.36081081502953, 59.93148701727075], [30.36081081502953, 59.93148701727075], [30.36081081502953, 59.93148701727075], [30.36081081502953, 59.93148701727075], [30.36081081502953, 59.93148701727075], [30.36081081502953, 59.93148701727075], [30.36081081502953, 59.93148701727075], [30.36081081502953, 59.93148701727075], [30.36081081502953, 59.93148701727075], [30.315895050823546, 59.94948563587889], [30.36081081502953, 59.93148701727075], [30.36081081502953, 59.93148701727075], [30.36081081502953, 59.93148701727075], [30.31814083903384, 59.91685594491079], [30.315895050823546, 59.94948563587889], [30.36081081502953, 59.93148701727075], [30.36081081502953, 59.93148701727075], [30.331615568295646, 59.91235277844529], [30.315895050823546, 59.94948563587889], [30.36081081502953, 59.93148701727075], [30.315895050823546, 59.94948563587889], [30.36081081502953, 59.93148701727075], [30.36081081502953, 59.93148701727075], [30.315895050823546, 59.94948563587889], [30.36081081502953, 59.93148701727075], [30.36081081502953, 59.93148701727075], [30.36081081502953, 59.93148701727075], [30.36081081502953, 59.93148701727075], [30.36081081502953, 59.93148701727075], [30.340598721136843, 59.94048754777036], [30.36081081502953, 59.93148701727075], [30.36081081502953, 59.93148701727075], [30.36081081502953, 59.93148701727075], [30.36081081502953, 59.93148701727075], [30.315895050823546, 59.94948563587889], [30.36081081502953, 59.93148701727075], [30.36081081502953, 59.93148701727075], [30.300174533351456, 59.94948563587889], [30.36081081502953, 59.93148701727075], [30.315895050823546, 59.94948563587889], [30.36081081502953, 59.93148701727075], [30.36081081502953, 59.93148701727075], [30.36081081502953, 59.93148701727075], [30.36081081502953, 59.93148701727075], [30.36081081502953, 59.93148701727075], [30.306911897982356, 59.93373737889392], [30.306911897982356, 59.93373737889392], [30.36081081502953, 59.93148701727075], [30.36081081502953, 59.93148701727075], [30.36081081502953, 59.93148701727075], [30.315895050823546, 59.94948563587889], [30.36081081502953, 59.93148701727075], [30.300174533351456, 59.94948563587889], [30.36081081502953, 59.93148701727075], [30.36081081502953, 59.93148701727075], [30.36081081502953, 59.93148701727075], [30.315895050823546, 59.94948563587889], [30.36081081502953, 59.93148701727075], [30.36081081502953, 59.93148701727075], [30.315895050823546, 59.94948563587889], [30.36081081502953, 59.93148701727075], [30.315895050823546, 59.94948563587889], [30.36081081502953, 59.93148701727075], [30.36081081502953, 59.93148701727075], [30.36081081502953, 59.93148701727075], [30.36081081502953, 59.93148701727075], [30.36081081502953, 59.93148701727075], [30.36081081502953, 59.93148701727075], [30.36081081502953, 59.93148701727075], [30.36081081502953, 59.93148701727075], [30.36081081502953, 59.93148701727075], [30.36081081502953, 59.93148701727075], [30.315895050823546, 59.94948563587889], [30.36081081502953, 59.93148701727075], [30.315895050823546, 59.94948563587889], [30.36081081502953, 59.93148701727075], [30.36081081502953, 59.93148701727075], [30.31364926261325, 59.95623259940636], [30.36081081502953, 59.93148701727075], [30.36081081502953, 59.93148701727075], [30.36081081502953, 59.93148701727075], [30.36081081502953, 59.93148701727075], [30.36081081502953, 59.93148701727075], [30.36081081502953, 59.93148701727075], [30.36081081502953, 59.93148701727075], [30.36081081502953, 59.93148701727075], [30.36081081502953, 59.93148701727075], [30.315895050823546, 59.94948563587889], [30.36081081502953, 59.93148701727075], [30.36081081502953, 59.93148701727075], [30.36081081502953, 59.93148701727075], [30.36081081502953, 59.93148701727075], [30.315895050823546, 59.94948563587889], [30.36081081502953, 59.93148701727075], [30.275470863038173, 59.90109218928974], [30.306911897982356, 59.93373737889392], [30.36081081502953, 59.93148701727075], [30.36081081502953, 59.93148701727075], [30.36081081502953, 59.93148701727075], [30.36081081502953, 59.93148701727075], [30.36081081502953, 59.93148701727075], [30.36081081502953, 59.93148701727075], [30.36081081502953, 59.93148701727075], [30.36081081502953, 59.93148701727075], [30.36081081502953, 59.93148701727075], [30.315895050823546, 59.94948563587889], [30.315895050823546, 59.94948563587889], [30.36081081502953, 59.93148701727075], [30.36081081502953, 59.93148701727075], [30.36081081502953, 59.93148701727075], [30.36081081502953, 59.93148701727075], [30.36081081502953, 59.93148701727075], [30.36081081502953, 59.93148701727075], [30.36081081502953, 59.93148701727075], [30.36081081502953, 59.93148701727075], [30.36081081502953, 59.93148701727075], [30.36081081502953, 59.93148701727075], [30.36081081502953, 59.93148701727075], [30.36081081502953, 59.93148701727075], [30.36081081502953, 59.93148701727075], [30.36081081502953, 59.93148701727075], [30.36081081502953, 59.93148701727075], [30.315895050823546, 59.94948563587889], [30.36081081502953, 59.93148701727075], [30.36081081502953, 59.93148701727075], [30.36081081502953, 59.93148701727075], [30.36081081502953, 59.93148701727075], [30.36081081502953, 59.93148701727075], [30.36081081502953, 59.93148701727075], [30.36081081502953, 59.93148701727075], [30.36081081502953, 59.93148701727075], [30.36081081502953, 59.93148701727075], [30.36081081502953, 59.93148701727075], [30.315895050823546, 59.94948563587889], [30.178901969995323, 59.98657694200688], [30.36081081502953, 59.93148701727075], [30.36081081502953, 59.93148701727075], [30.36081081502953, 59.93148701727075], [30.306911897982356, 59.93373737889392], [30.306911897982356, 59.93373737889392], [30.36081081502953, 59.93148701727075], [30.36081081502953, 59.93148701727075], [30.36081081502953, 59.93148701727075], [30.36081081502953, 59.93148701727075], [30.36081081502953, 59.93148701727075], [30.36081081502953, 59.93148701727075], [30.36081081502953, 59.93148701727075], [30.36081081502953, 59.93148701727075], [30.36081081502953, 59.93148701727075], [30.315895050823546, 59.94948563587889], [30.36081081502953, 59.93148701727075], [30.315895050823546, 59.94948563587889], [30.36081081502953, 59.93148701727075], [30.36081081502953, 59.93148701727075], [30.36081081502953, 59.93148701727075], [30.36081081502953, 59.93148701727075], [30.36081081502953, 59.93148701727075], [30.36081081502953, 59.93148701727075], [30.36081081502953, 59.93148701727075], [30.36081081502953, 59.93148701727075], [30.36081081502953, 59.93148701727075], [30.36081081502953, 59.93148701727075], [30.36081081502953, 59.93148701727075], [30.36081081502953, 59.93148701727075], [30.36081081502953, 59.93148701727075], [30.36081081502953, 59.93148701727075], [30.36081081502953, 59.93148701727075], [30.36081081502953, 59.93148701727075], [30.36081081502953, 59.93148701727075], [30.36081081502953, 59.93148701727075], [30.36081081502953, 59.93148701727075], [30.36081081502953, 59.93148701727075], [30.36081081502953, 59.93148701727075], [30.36081081502953, 59.93148701727075], [30.36081081502953, 59.93148701727075], [30.36081081502953, 59.93148701727075], [30.36979396787072, 59.88306730224773], [30.36081081502953, 59.93148701727075], [30.36081081502953, 59.93148701727075], [30.36081081502953, 59.93148701727075], [0.0, 0.0], [30.36081081502953, 59.93148701727075], [30.36081081502953, 59.93148701727075], [30.315895050823546, 59.94948563587889], [30.315895050823546, 59.94948563587889], [30.36081081502953, 59.93148701727075], [30.36081081502953, 59.93148701727075], [30.36081081502953, 59.93148701727075], [30.36081081502953, 59.93148701727075], [30.36081081502953, 59.93148701727075], [30.36081081502953, 59.93148701727075], [30.36081081502953, 59.93148701727075], [30.36081081502953, 59.93148701727075], [30.36081081502953, 59.93148701727075], [30.315895050823546, 59.950610225183794], [30.315895050823546, 59.950610225183794], [30.322632415454446, 59.86616008776313], [30.340598721136843, 59.94048754777036], [30.394497638184003, 59.9483610084185], [30.288945592299964, 59.9292365029706], [30.349581873978032, 59.833448420068855], [30.295682956930857, 59.92586044523594], [30.354073450398623, 59.93148701727075], [30.324878203664746, 59.93373737889392], [30.320386627244144, 59.95735695979653], [30.322632415454446, 59.969722406414654], [30.29792874514116, 59.960729812073794], [30.322632415454446, 60.03933228251395], [30.35182766218833, 59.93148701727075], [30.304666109772054, 59.932612217166536], [30.306911897982356, 59.93373737889392], [30.306911897982356, 59.94273729875442], [30.46860864912387, 59.92135850048929], [30.19911406388801, 59.982083238097154], [30.342844509347128, 59.8695422185115], [30.315895050823546, 59.950610225183794], [30.19911406388801, 59.982083238097154], [30.31814083903384, 59.93823764413683], [30.315895050823546, 59.950610225183794], [30.349581873978032, 59.932612217166536], [30.36081081502953, 59.92811118856449], [30.19911406388801, 59.982083238097154], [30.331615568295646, 59.92698583598656], [30.4102181556561, 59.94048754777036], [30.354073450398623, 59.93148701727075], [30.331615568295646, 59.91235277844529], [30.178901969995323, 59.86390514283672], [30.306911897982356, 59.93373737889392], [30.226063522411604, 60.022504616749856], [30.288945592299964, 59.9292365029706], [30.306911897982356, 59.93373737889392], [30.36081081502953, 59.92811118856449], [30.35182766218833, 59.93148701727075], [30.33835293292654, 59.919107299057465], [30.288945592299964, 59.9292365029706], [30.288945592299964, 59.9292365029706], [30.306911897982356, 59.93373737889392], [30.331615568295646, 59.91235277844529], [30.378777120711916, 59.8695422185115], [30.347336085767733, 59.91460443804235], [30.27322507482787, 60.004545657872285], [30.354073450398623, 59.93148701727075], [30.425938673128183, 59.89996592032976], [30.35182766218833, 59.93148701727075], [30.291191380510263, 59.950610225183794], [30.31364926261325, 59.94048754777036], [30.250767192724886, 59.932612217166536], [0.0, 0.0], [30.306911897982356, 59.93373737889392], [30.347336085767733, 59.92811118856449], [30.324878203664746, 59.935987587847], [30.33835293292654, 59.93373737889392], [30.178901969995323, 59.98657694200688], [30.253012980935186, 59.84134728385376], [30.178901969995323, 59.98657694200688], [30.178901969995323, 59.98657694200688], [30.31364926261325, 59.94048754777036], [30.515770201540143, 59.89320750447957], [30.306911897982356, 59.93373737889392], [30.275470863038173, 59.90109218928974], [30.300174533351456, 59.98545357322217], [30.349581873978032, 59.932612217166536], [30.306911897982356, 59.93373737889392], [30.31364926261325, 59.94048754777036], [30.226063522411604, 59.971970173582974], [30.306911897982356, 59.93373737889392], [30.19911406388801, 59.982083238097154], [30.425938673128183, 59.89996592032976], [30.32936978008534, 59.92023291886231], [30.33835293292654, 59.919107299057465], [30.288945592299964, 59.9292365029706], [30.306911897982356, 59.93373737889392], [30.29343716872056, 59.94498689709594], [30.315895050823546, 59.950610225183794], [30.349581873978032, 59.932612217166536], [30.306911897982356, 59.93373737889392], [30.36081081502953, 59.92811118856449], [30.226063522411604, 60.03821070476726], [30.31364926261325, 59.94048754777036], [30.306911897982356, 59.93373737889392]],\n                {&quot;blur&quot;: 15, &quot;maxZoom&quot;: 18, &quot;minOpacity&quot;: 0.5, &quot;radius&quot;: 15}\n            ).addTo(map_80c00efa3c75f2e80aee9a2111659b60);\n        \n&lt;/script&gt;\n&lt;/html&gt;\" style=\"position:absolute;width:100%;height:100%;left:0;top:0;border:none !important;\" allowfullscreen webkitallowfullscreen mozallowfullscreen></iframe></div></div>"
     },
     "execution_count": 99,
     "metadata": {},
     "output_type": "execute_result"
    }
   ],
   "source": [
    "from folium.plugins import HeatMap\n",
    "m = folium.Map(location=[59.9386, 30.3141], zoom_start=13)\n",
    "stationArr = df_clear[df_clear.timestamp == '2020-01-20 02:00:00'][['lat', 'lon']].values\n",
    "m.add_child(plugins.HeatMap(stationArr, radius=45))\n",
    "# HeatMap(stationArr).add_to(folium.FeatureGroup(name='Heat Map').add_to(m))\n",
    "# folium.LayerControl().add_to(m)"
   ],
   "metadata": {
    "collapsed": false,
    "pycharm": {
     "name": "#%%\n"
    }
   }
  },
  {
   "cell_type": "code",
   "execution_count": 95,
   "outputs": [
    {
     "data": {
      "text/plain": "<folium.folium.Map at 0x28c606470d0>",
      "text/html": "<div style=\"width:100%;\"><div style=\"position:relative;width:100%;height:0;padding-bottom:60%;\"><span style=\"color:#565656\">Make this Notebook Trusted to load map: File -> Trust Notebook</span><iframe srcdoc=\"&lt;!DOCTYPE html&gt;\n&lt;html&gt;\n&lt;head&gt;\n    \n    &lt;meta http-equiv=&quot;content-type&quot; content=&quot;text/html; charset=UTF-8&quot; /&gt;\n    \n        &lt;script&gt;\n            L_NO_TOUCH = false;\n            L_DISABLE_3D = false;\n        &lt;/script&gt;\n    \n    &lt;style&gt;html, body {width: 100%;height: 100%;margin: 0;padding: 0;}&lt;/style&gt;\n    &lt;style&gt;#map {position:absolute;top:0;bottom:0;right:0;left:0;}&lt;/style&gt;\n    &lt;script src=&quot;https://cdn.jsdelivr.net/npm/leaflet@1.6.0/dist/leaflet.js&quot;&gt;&lt;/script&gt;\n    &lt;script src=&quot;https://code.jquery.com/jquery-1.12.4.min.js&quot;&gt;&lt;/script&gt;\n    &lt;script src=&quot;https://maxcdn.bootstrapcdn.com/bootstrap/3.2.0/js/bootstrap.min.js&quot;&gt;&lt;/script&gt;\n    &lt;script src=&quot;https://cdnjs.cloudflare.com/ajax/libs/Leaflet.awesome-markers/2.0.2/leaflet.awesome-markers.js&quot;&gt;&lt;/script&gt;\n    &lt;link rel=&quot;stylesheet&quot; href=&quot;https://cdn.jsdelivr.net/npm/leaflet@1.6.0/dist/leaflet.css&quot;/&gt;\n    &lt;link rel=&quot;stylesheet&quot; href=&quot;https://maxcdn.bootstrapcdn.com/bootstrap/3.2.0/css/bootstrap.min.css&quot;/&gt;\n    &lt;link rel=&quot;stylesheet&quot; href=&quot;https://maxcdn.bootstrapcdn.com/bootstrap/3.2.0/css/bootstrap-theme.min.css&quot;/&gt;\n    &lt;link rel=&quot;stylesheet&quot; href=&quot;https://maxcdn.bootstrapcdn.com/font-awesome/4.6.3/css/font-awesome.min.css&quot;/&gt;\n    &lt;link rel=&quot;stylesheet&quot; href=&quot;https://cdnjs.cloudflare.com/ajax/libs/Leaflet.awesome-markers/2.0.2/leaflet.awesome-markers.css&quot;/&gt;\n    &lt;link rel=&quot;stylesheet&quot; href=&quot;https://cdn.jsdelivr.net/gh/python-visualization/folium/folium/templates/leaflet.awesome.rotate.min.css&quot;/&gt;\n    \n            &lt;meta name=&quot;viewport&quot; content=&quot;width=device-width,\n                initial-scale=1.0, maximum-scale=1.0, user-scalable=no&quot; /&gt;\n            &lt;style&gt;\n                #map_3b2fb7c1d813333a0c10a127a3716440 {\n                    position: relative;\n                    width: 100.0%;\n                    height: 100.0%;\n                    left: 0.0%;\n                    top: 0.0%;\n                }\n            &lt;/style&gt;\n        \n&lt;/head&gt;\n&lt;body&gt;\n    \n    \n            &lt;div class=&quot;folium-map&quot; id=&quot;map_3b2fb7c1d813333a0c10a127a3716440&quot; &gt;&lt;/div&gt;\n        \n&lt;/body&gt;\n&lt;script&gt;\n    \n    \n            var map_3b2fb7c1d813333a0c10a127a3716440 = L.map(\n                &quot;map_3b2fb7c1d813333a0c10a127a3716440&quot;,\n                {\n                    center: [59.9386, 30.3141],\n                    crs: L.CRS.EPSG3857,\n                    zoom: 13,\n                    zoomControl: true,\n                    preferCanvas: false,\n                }\n            );\n\n            \n\n        \n    \n            var tile_layer_75a4b33fee9e3fac25dcc9b0a59f7d5f = L.tileLayer(\n                &quot;https://{s}.tile.openstreetmap.org/{z}/{x}/{y}.png&quot;,\n                {&quot;attribution&quot;: &quot;Data by \\u0026copy; \\u003ca href=\\&quot;http://openstreetmap.org\\&quot;\\u003eOpenStreetMap\\u003c/a\\u003e, under \\u003ca href=\\&quot;http://www.openstreetmap.org/copyright\\&quot;\\u003eODbL\\u003c/a\\u003e.&quot;, &quot;detectRetina&quot;: false, &quot;maxNativeZoom&quot;: 18, &quot;maxZoom&quot;: 18, &quot;minZoom&quot;: 0, &quot;noWrap&quot;: false, &quot;opacity&quot;: 1, &quot;subdomains&quot;: &quot;abc&quot;, &quot;tms&quot;: false}\n            ).addTo(map_3b2fb7c1d813333a0c10a127a3716440);\n        \n&lt;/script&gt;\n&lt;/html&gt;\" style=\"position:absolute;width:100%;height:100%;left:0;top:0;border:none !important;\" allowfullscreen webkitallowfullscreen mozallowfullscreen></iframe></div></div>"
     },
     "execution_count": 95,
     "metadata": {},
     "output_type": "execute_result"
    }
   ],
   "source": [
    "m"
   ],
   "metadata": {
    "collapsed": false,
    "pycharm": {
     "name": "#%%\n"
    }
   }
  },
  {
   "cell_type": "code",
   "execution_count": null,
   "outputs": [],
   "source": [],
   "metadata": {
    "collapsed": false,
    "pycharm": {
     "name": "#%%\n"
    }
   }
  }
 ],
 "metadata": {
  "kernelspec": {
   "display_name": "Python 3",
   "language": "python",
   "name": "python3"
  },
  "language_info": {
   "codemirror_mode": {
    "name": "ipython",
    "version": 2
   },
   "file_extension": ".py",
   "mimetype": "text/x-python",
   "name": "python",
   "nbconvert_exporter": "python",
   "pygments_lexer": "ipython2",
   "version": "2.7.6"
  }
 },
 "nbformat": 4,
 "nbformat_minor": 0
}