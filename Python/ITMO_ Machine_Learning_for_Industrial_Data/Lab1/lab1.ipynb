{
 "cells": [
  {
   "cell_type": "code",
   "execution_count": 96,
   "outputs": [],
   "source": [
    "import pandas as pd\n",
    "import numpy as np\n",
    "import matplotlib.pyplot as plt\n",
    "from datetime import datetime\n",
    "from tqdm import tqdm\n",
    "from numpy.linalg import inv\n",
    "from sklearn import preprocessing"
   ],
   "metadata": {
    "collapsed": false,
    "pycharm": {
     "name": "#%%\n"
    }
   }
  },
  {
   "cell_type": "code",
   "execution_count": 236,
   "outputs": [
    {
     "data": {
      "text/plain": "          timestamp        lon        lat  likescount  commentscount  \\\n0        1565607600  30.329370  59.940488          63              4   \n1        1565568000  30.342845  59.869542          44              0   \n2        1565568000  30.322632  60.039332          30              0   \n3        1565568000  30.322632  59.938238          13              0   \n4        1565568000  30.309158  59.932612           8              0   \n...             ...        ...        ...         ...            ...   \n8526521  1565978400  30.324878  59.932612          48              0   \n8526522  1565978400  30.324878  59.932612          20              1   \n8526523  1565978400  30.324878  59.932612          54              2   \n8526524  1565971200  30.324878  59.932612          15              0   \n8526525  1565967600  30.324878  59.932612          61              5   \n\n         symbols_cnt  words_cnt  hashtags_cnt  mentions_cnt  links_cnt  \\\n0                 52          6             0             0          0   \n1                 40          0             4             0          0   \n2                 77          7             0             0          0   \n3                634         17            32             0          0   \n4                  0          0             0             0          0   \n...              ...        ...           ...           ...        ...   \n8526521           15          2             0             0          0   \n8526522            0          0             0             0          0   \n8526523           75          7             0             0          0   \n8526524          350          4            25             0          0   \n8526525           37          1             1             0          0   \n\n         emoji_cnt                                              point  \n0                0  0101000020E6100000DBC1F19351543E4006FC5DE561F8...  \n1                0  0101000020E6100000544263A8C4573E40C27FCF284DEF...  \n2                1  0101000020E61000009E01B90998523E40888919D70805...  \n3                7  0101000020E61000009E01B90998523E40CEB8CE2B18F8...  \n4                0  0101000020E6100000268147F5244F3E40494A4ED65FF7...  \n...            ...                                                ...  \n8526521          1  0101000020E61000005DECCB372B533E40494A4ED65FF7...  \n8526522          0  0101000020E61000005DECCB372B533E40494A4ED65FF7...  \n8526523          6  0101000020E61000005DECCB372B533E40494A4ED65FF7...  \n8526524          0  0101000020E61000005DECCB372B533E40494A4ED65FF7...  \n8526525          1  0101000020E61000005DECCB372B533E40494A4ED65FF7...  \n\n[8526526 rows x 12 columns]",
      "text/html": "<div>\n<style scoped>\n    .dataframe tbody tr th:only-of-type {\n        vertical-align: middle;\n    }\n\n    .dataframe tbody tr th {\n        vertical-align: top;\n    }\n\n    .dataframe thead th {\n        text-align: right;\n    }\n</style>\n<table border=\"1\" class=\"dataframe\">\n  <thead>\n    <tr style=\"text-align: right;\">\n      <th></th>\n      <th>timestamp</th>\n      <th>lon</th>\n      <th>lat</th>\n      <th>likescount</th>\n      <th>commentscount</th>\n      <th>symbols_cnt</th>\n      <th>words_cnt</th>\n      <th>hashtags_cnt</th>\n      <th>mentions_cnt</th>\n      <th>links_cnt</th>\n      <th>emoji_cnt</th>\n      <th>point</th>\n    </tr>\n  </thead>\n  <tbody>\n    <tr>\n      <th>0</th>\n      <td>1565607600</td>\n      <td>30.329370</td>\n      <td>59.940488</td>\n      <td>63</td>\n      <td>4</td>\n      <td>52</td>\n      <td>6</td>\n      <td>0</td>\n      <td>0</td>\n      <td>0</td>\n      <td>0</td>\n      <td>0101000020E6100000DBC1F19351543E4006FC5DE561F8...</td>\n    </tr>\n    <tr>\n      <th>1</th>\n      <td>1565568000</td>\n      <td>30.342845</td>\n      <td>59.869542</td>\n      <td>44</td>\n      <td>0</td>\n      <td>40</td>\n      <td>0</td>\n      <td>4</td>\n      <td>0</td>\n      <td>0</td>\n      <td>0</td>\n      <td>0101000020E6100000544263A8C4573E40C27FCF284DEF...</td>\n    </tr>\n    <tr>\n      <th>2</th>\n      <td>1565568000</td>\n      <td>30.322632</td>\n      <td>60.039332</td>\n      <td>30</td>\n      <td>0</td>\n      <td>77</td>\n      <td>7</td>\n      <td>0</td>\n      <td>0</td>\n      <td>0</td>\n      <td>1</td>\n      <td>0101000020E61000009E01B90998523E40888919D70805...</td>\n    </tr>\n    <tr>\n      <th>3</th>\n      <td>1565568000</td>\n      <td>30.322632</td>\n      <td>59.938238</td>\n      <td>13</td>\n      <td>0</td>\n      <td>634</td>\n      <td>17</td>\n      <td>32</td>\n      <td>0</td>\n      <td>0</td>\n      <td>7</td>\n      <td>0101000020E61000009E01B90998523E40CEB8CE2B18F8...</td>\n    </tr>\n    <tr>\n      <th>4</th>\n      <td>1565568000</td>\n      <td>30.309158</td>\n      <td>59.932612</td>\n      <td>8</td>\n      <td>0</td>\n      <td>0</td>\n      <td>0</td>\n      <td>0</td>\n      <td>0</td>\n      <td>0</td>\n      <td>0</td>\n      <td>0101000020E6100000268147F5244F3E40494A4ED65FF7...</td>\n    </tr>\n    <tr>\n      <th>...</th>\n      <td>...</td>\n      <td>...</td>\n      <td>...</td>\n      <td>...</td>\n      <td>...</td>\n      <td>...</td>\n      <td>...</td>\n      <td>...</td>\n      <td>...</td>\n      <td>...</td>\n      <td>...</td>\n      <td>...</td>\n    </tr>\n    <tr>\n      <th>8526521</th>\n      <td>1565978400</td>\n      <td>30.324878</td>\n      <td>59.932612</td>\n      <td>48</td>\n      <td>0</td>\n      <td>15</td>\n      <td>2</td>\n      <td>0</td>\n      <td>0</td>\n      <td>0</td>\n      <td>1</td>\n      <td>0101000020E61000005DECCB372B533E40494A4ED65FF7...</td>\n    </tr>\n    <tr>\n      <th>8526522</th>\n      <td>1565978400</td>\n      <td>30.324878</td>\n      <td>59.932612</td>\n      <td>20</td>\n      <td>1</td>\n      <td>0</td>\n      <td>0</td>\n      <td>0</td>\n      <td>0</td>\n      <td>0</td>\n      <td>0</td>\n      <td>0101000020E61000005DECCB372B533E40494A4ED65FF7...</td>\n    </tr>\n    <tr>\n      <th>8526523</th>\n      <td>1565978400</td>\n      <td>30.324878</td>\n      <td>59.932612</td>\n      <td>54</td>\n      <td>2</td>\n      <td>75</td>\n      <td>7</td>\n      <td>0</td>\n      <td>0</td>\n      <td>0</td>\n      <td>6</td>\n      <td>0101000020E61000005DECCB372B533E40494A4ED65FF7...</td>\n    </tr>\n    <tr>\n      <th>8526524</th>\n      <td>1565971200</td>\n      <td>30.324878</td>\n      <td>59.932612</td>\n      <td>15</td>\n      <td>0</td>\n      <td>350</td>\n      <td>4</td>\n      <td>25</td>\n      <td>0</td>\n      <td>0</td>\n      <td>0</td>\n      <td>0101000020E61000005DECCB372B533E40494A4ED65FF7...</td>\n    </tr>\n    <tr>\n      <th>8526525</th>\n      <td>1565967600</td>\n      <td>30.324878</td>\n      <td>59.932612</td>\n      <td>61</td>\n      <td>5</td>\n      <td>37</td>\n      <td>1</td>\n      <td>1</td>\n      <td>0</td>\n      <td>0</td>\n      <td>1</td>\n      <td>0101000020E61000005DECCB372B533E40494A4ED65FF7...</td>\n    </tr>\n  </tbody>\n</table>\n<p>8526526 rows × 12 columns</p>\n</div>"
     },
     "execution_count": 236,
     "metadata": {},
     "output_type": "execute_result"
    }
   ],
   "source": [
    "df = pd.read_csv('train_data.csv')\n",
    "df"
   ],
   "metadata": {
    "collapsed": false,
    "pycharm": {
     "name": "#%%\n"
    }
   }
  },
  {
   "cell_type": "code",
   "execution_count": 238,
   "outputs": [
    {
     "data": {
      "text/plain": "          timestamp                                              point\n0        1565607600  0101000020E6100000DBC1F19351543E4006FC5DE561F8...\n1        1565568000  0101000020E6100000544263A8C4573E40C27FCF284DEF...\n2        1565568000  0101000020E61000009E01B90998523E40888919D70805...\n3        1565568000  0101000020E61000009E01B90998523E40CEB8CE2B18F8...\n4        1565568000  0101000020E6100000268147F5244F3E40494A4ED65FF7...\n...             ...                                                ...\n8526521  1565978400  0101000020E61000005DECCB372B533E40494A4ED65FF7...\n8526522  1565978400  0101000020E61000005DECCB372B533E40494A4ED65FF7...\n8526523  1565978400  0101000020E61000005DECCB372B533E40494A4ED65FF7...\n8526524  1565971200  0101000020E61000005DECCB372B533E40494A4ED65FF7...\n8526525  1565967600  0101000020E61000005DECCB372B533E40494A4ED65FF7...\n\n[8526526 rows x 2 columns]",
      "text/html": "<div>\n<style scoped>\n    .dataframe tbody tr th:only-of-type {\n        vertical-align: middle;\n    }\n\n    .dataframe tbody tr th {\n        vertical-align: top;\n    }\n\n    .dataframe thead th {\n        text-align: right;\n    }\n</style>\n<table border=\"1\" class=\"dataframe\">\n  <thead>\n    <tr style=\"text-align: right;\">\n      <th></th>\n      <th>timestamp</th>\n      <th>point</th>\n    </tr>\n  </thead>\n  <tbody>\n    <tr>\n      <th>0</th>\n      <td>1565607600</td>\n      <td>0101000020E6100000DBC1F19351543E4006FC5DE561F8...</td>\n    </tr>\n    <tr>\n      <th>1</th>\n      <td>1565568000</td>\n      <td>0101000020E6100000544263A8C4573E40C27FCF284DEF...</td>\n    </tr>\n    <tr>\n      <th>2</th>\n      <td>1565568000</td>\n      <td>0101000020E61000009E01B90998523E40888919D70805...</td>\n    </tr>\n    <tr>\n      <th>3</th>\n      <td>1565568000</td>\n      <td>0101000020E61000009E01B90998523E40CEB8CE2B18F8...</td>\n    </tr>\n    <tr>\n      <th>4</th>\n      <td>1565568000</td>\n      <td>0101000020E6100000268147F5244F3E40494A4ED65FF7...</td>\n    </tr>\n    <tr>\n      <th>...</th>\n      <td>...</td>\n      <td>...</td>\n    </tr>\n    <tr>\n      <th>8526521</th>\n      <td>1565978400</td>\n      <td>0101000020E61000005DECCB372B533E40494A4ED65FF7...</td>\n    </tr>\n    <tr>\n      <th>8526522</th>\n      <td>1565978400</td>\n      <td>0101000020E61000005DECCB372B533E40494A4ED65FF7...</td>\n    </tr>\n    <tr>\n      <th>8526523</th>\n      <td>1565978400</td>\n      <td>0101000020E61000005DECCB372B533E40494A4ED65FF7...</td>\n    </tr>\n    <tr>\n      <th>8526524</th>\n      <td>1565971200</td>\n      <td>0101000020E61000005DECCB372B533E40494A4ED65FF7...</td>\n    </tr>\n    <tr>\n      <th>8526525</th>\n      <td>1565967600</td>\n      <td>0101000020E61000005DECCB372B533E40494A4ED65FF7...</td>\n    </tr>\n  </tbody>\n</table>\n<p>8526526 rows × 2 columns</p>\n</div>"
     },
     "execution_count": 238,
     "metadata": {},
     "output_type": "execute_result"
    }
   ],
   "source": [
    "# сократим количество потребляемой оперативы\n",
    "df = df[['timestamp', 'point']]\n",
    "df"
   ],
   "metadata": {
    "collapsed": false,
    "pycharm": {
     "name": "#%%\n"
    }
   }
  },
  {
   "cell_type": "code",
   "execution_count": 239,
   "outputs": [
    {
     "data": {
      "text/plain": "7041"
     },
     "execution_count": 239,
     "metadata": {},
     "output_type": "execute_result"
    }
   ],
   "source": [
    "len(df.point.unique())"
   ],
   "metadata": {
    "collapsed": false,
    "pycharm": {
     "name": "#%%\n"
    }
   }
  },
  {
   "cell_type": "code",
   "execution_count": 240,
   "outputs": [
    {
     "data": {
      "text/plain": "                                                 point        hour\n0    0101000020E6100000202C93AD71513E4070B5CC78A7F6...  1582448400\n1    0101000020E6100000C5FE0F8FE53D3E4033438EB75DF6...  1582225200\n2    0101000020E6100000AB00D6E0B14B3E40CB88A75E4B00...  1581260400\n3    0101000020E61000005DECCB372B533E40E4A1F770CEF7...  1581958800\n4    0101000020E6100000669634C7914E3E407AB3D8B484F7...  1582779600\n..                                                 ...         ...\n704  0101000020E61000006AEBE80E454C3E407F614299EAF3...  1580659200\n705  0101000020E61000006141807FDE503E402B348A98ADF9...  1581048000\n706  0101000020E6100000268147F5244F3E407AB3D8B484F7...  1581656400\n707  0101000020E61000008EADE7EACA5B3E40CAE971F73AF7...  1580724000\n708  0101000020E6100000AB00D6E0B14B3E406379569882F6...  1581940800\n\n[709 rows x 2 columns]",
      "text/html": "<div>\n<style scoped>\n    .dataframe tbody tr th:only-of-type {\n        vertical-align: middle;\n    }\n\n    .dataframe tbody tr th {\n        vertical-align: top;\n    }\n\n    .dataframe thead th {\n        text-align: right;\n    }\n</style>\n<table border=\"1\" class=\"dataframe\">\n  <thead>\n    <tr style=\"text-align: right;\">\n      <th></th>\n      <th>point</th>\n      <th>hour</th>\n    </tr>\n  </thead>\n  <tbody>\n    <tr>\n      <th>0</th>\n      <td>0101000020E6100000202C93AD71513E4070B5CC78A7F6...</td>\n      <td>1582448400</td>\n    </tr>\n    <tr>\n      <th>1</th>\n      <td>0101000020E6100000C5FE0F8FE53D3E4033438EB75DF6...</td>\n      <td>1582225200</td>\n    </tr>\n    <tr>\n      <th>2</th>\n      <td>0101000020E6100000AB00D6E0B14B3E40CB88A75E4B00...</td>\n      <td>1581260400</td>\n    </tr>\n    <tr>\n      <th>3</th>\n      <td>0101000020E61000005DECCB372B533E40E4A1F770CEF7...</td>\n      <td>1581958800</td>\n    </tr>\n    <tr>\n      <th>4</th>\n      <td>0101000020E6100000669634C7914E3E407AB3D8B484F7...</td>\n      <td>1582779600</td>\n    </tr>\n    <tr>\n      <th>...</th>\n      <td>...</td>\n      <td>...</td>\n    </tr>\n    <tr>\n      <th>704</th>\n      <td>0101000020E61000006AEBE80E454C3E407F614299EAF3...</td>\n      <td>1580659200</td>\n    </tr>\n    <tr>\n      <th>705</th>\n      <td>0101000020E61000006141807FDE503E402B348A98ADF9...</td>\n      <td>1581048000</td>\n    </tr>\n    <tr>\n      <th>706</th>\n      <td>0101000020E6100000268147F5244F3E407AB3D8B484F7...</td>\n      <td>1581656400</td>\n    </tr>\n    <tr>\n      <th>707</th>\n      <td>0101000020E61000008EADE7EACA5B3E40CAE971F73AF7...</td>\n      <td>1580724000</td>\n    </tr>\n    <tr>\n      <th>708</th>\n      <td>0101000020E6100000AB00D6E0B14B3E406379569882F6...</td>\n      <td>1581940800</td>\n    </tr>\n  </tbody>\n</table>\n<p>709 rows × 2 columns</p>\n</div>"
     },
     "execution_count": 240,
     "metadata": {},
     "output_type": "execute_result"
    }
   ],
   "source": [
    "# validation contains 710 cubes\n",
    "# February 2020\n",
    "valid_df = pd.read_csv('valid.csv')\n",
    "valid_df = valid_df[['point', 'hour']]\n",
    "valid_df"
   ],
   "metadata": {
    "collapsed": false,
    "pycharm": {
     "name": "#%%\n"
    }
   }
  },
  {
   "cell_type": "code",
   "execution_count": 241,
   "outputs": [
    {
     "data": {
      "text/plain": "155"
     },
     "execution_count": 241,
     "metadata": {},
     "output_type": "execute_result"
    }
   ],
   "source": [
    "len(valid_df.point.unique())"
   ],
   "metadata": {
    "collapsed": false,
    "pycharm": {
     "name": "#%%\n"
    }
   }
  },
  {
   "cell_type": "code",
   "execution_count": 242,
   "outputs": [
    {
     "data": {
      "text/plain": "['0101000020E610000000000000000000000000000000000000',\n '0101000020E61000000C830D47F15C3E400A41C338F1F64D40',\n '0101000020E61000000C830D47F15C3E40CAE971F73AF74D40',\n '0101000020E61000000FD8C18EA45A3E408991431816F74D40',\n '0101000020E61000000FD8C18EA45A3E40CAE971F73AF74D40',\n '0101000020E6100000132D76D657583E408991431816F74D40',\n '0101000020E61000001868CE7F1F343E40975BBA5723FE4D40',\n '0101000020E6100000199C86BCF6773E401FBF4913EFF54D40',\n '0101000020E6100000199C86BCF6773E406A1274D638F64D40',\n '0101000020E61000001CD7DE65BE533E40A554BF083DF84D40',\n '0101000020E61000002012370F862F3E40A08C1570AEEA4D40',\n '0101000020E6100000202C93AD71513E4009249E9F54F24D40',\n '0101000020E6100000202C93AD71513E401E66D608FBFB4D40',\n '0101000020E6100000202C93AD71513E4041010E3DD6EB4D40',\n '0101000020E6100000202C93AD71513E4054F844A221FD4D40',\n '0101000020E6100000202C93AD71513E4070B5CC78A7F64D40',\n '0101000020E6100000202C93AD71513E407A441D895BF54D40',\n '0101000020E6100000202C93AD71513E40CEB8CE2B18F84D40',\n '0101000020E6100000202C93AD71513E40FC619B9199F04D40',\n '0101000020E6100000268147F5244F3E40494A4ED65FF74D40',\n '0101000020E6100000268147F5244F3E407AB3D8B484F74D40',\n '0101000020E6100000268147F5244F3E40DB251193A9F74D40',\n '0101000020E6100000269BA39310713E40749A73B54FF04D40',\n '0101000020E610000029D6FB3CD84C3E403DF3BDF394004E40',\n '0101000020E610000029D6FB3CD84C3E4070B5CC78A7F64D40',\n '0101000020E610000029D6FB3CD84C3E408F0FCDBE88F94D40',\n '0101000020E610000029D6FB3CD84C3E40975BBA5723FE4D40',\n '0101000020E610000029D6FB3CD84C3E40D4F7F058CCF64D40',\n '0101000020E61000002D2BB0848B4A3E401893C931F9FA4D40',\n '0101000020E61000002D2BB0848B4A3E402B348A98ADF94D40',\n '0101000020E61000002D450C23776C3E407F614299EAF34D40',\n '0101000020E6100000328064CC3E483E400C288C4EF3F74D40',\n '0101000020E610000036D51814F2453E403DF3BDF394004E40',\n '0101000020E61000003F7F81A358413E400D42027446FD4D40',\n '0101000020E610000043EE9189F7603E40C27FCF284DEF4D40',\n '0101000020E61000004408EE27E3823E401F04E95BC3F24D40',\n '0101000020E6100000474346D1AA5E3E4014A96F5908F14D40',\n '0101000020E61000004D98FA185E5C3E403DA1E4C62AF04D40',\n '0101000020E61000004D98FA185E5C3E40477640AC8AFA4D40',\n '0101000020E61000004D98FA185E5C3E40CAE971F73AF74D40',\n '0101000020E61000004D98FA185E5C3E40D4F7F058CCF64D40',\n '0101000020E610000050EDAE60115A3E40CAE971F73AF74D40',\n '0101000020E610000051070BFFFC7B3E40E13FA02445EC4D40',\n '0101000020E610000051070BFFFC7B3E40EC94646534F44D40',\n '0101000020E61000005428070AD9353E40582A871690FD4D40',\n '0101000020E6100000544263A8C4573E40477640AC8AFA4D40',\n '0101000020E6100000544263A8C4573E40C27FCF284DEF4D40',\n '0101000020E6100000597DBB518C333E403DA1E4C62AF04D40',\n '0101000020E61000005AB1738E63773E403AAA977194EE4D40',\n '0101000020E61000005AB1738E63773E40AE9B3931CAF54D40',\n '0101000020E61000005DECCB372B533E40494A4ED65FF74D40',\n '0101000020E61000005DECCB372B533E407AB3D8B484F74D40',\n '0101000020E61000005DECCB372B533E40E4A1F770CEF74D40',\n '0101000020E61000006141807FDE503E401E66D608FBFB4D40',\n '0101000020E61000006141807FDE503E402B348A98ADF94D40',\n '0101000020E61000006141807FDE503E406379569882F64D40',\n '0101000020E61000006141807FDE503E408F0FCDBE88F94D40',\n '0101000020E61000006141807FDE503E40A554BF083DF84D40',\n '0101000020E61000006141807FDE503E40D15705CA91ED4D40',\n '0101000020E6100000669634C7914E3E40516FA59DABF84D40',\n '0101000020E6100000669634C7914E3E407AB3D8B484F74D40',\n '0101000020E61000006AEBE80E454C3E401893C931F9FA4D40',\n '0101000020E61000006AEBE80E454C3E407F614299EAF34D40',\n '0101000020E61000006E409D56F8493E400A41C338F1F64D40',\n '0101000020E61000007395519EAB473E408BE607F513F64D40',\n '0101000020E6100000781EBE2236893E406E4CE6811AEA4D40',\n '0101000020E61000007B5916CCFD643E40C2FABDE463F94D40',\n '0101000020E61000007D3FBA2D12433E40EC88DD9029024E40',\n '0101000020E610000080946E75C5403E407B5D8E44B1EB4D40',\n '0101000020E610000081AECA13B1623E406BDE1BEB22ED4D40',\n '0101000020E61000008A5833A3175E3E408A3E861151044E40',\n '0101000020E61000008A728F4103803E402A30A27964EA4D40',\n '0101000020E61000008D938B4CDF393E408F79686EE1024E40',\n '0101000020E61000008D938B4CDF393E408FAA9F16E4044E40',\n '0101000020E61000008D938B4CDF393E40F91CC68469FC4D40',\n '0101000020E61000008EADE7EACA5B3E40494A4ED65FF74D40',\n '0101000020E61000008EADE7EACA5B3E40CAE971F73AF74D40',\n '0101000020E61000008EC74389B67D3E4033438EB75DF64D40',\n '0101000020E610000091029C327E593E40494A4ED65FF74D40',\n '0101000020E610000091029C327E593E408991431816F74D40',\n '0101000020E610000091029C327E593E40A08C1570AEEA4D40',\n '0101000020E61000009757507A31573E4006FC5DE561F84D40',\n '0101000020E61000009A92A823F9323E40DDC94EE7B4FD4D40',\n '0101000020E61000009BAC04C2E4543E402BEBD0F9C7F44D40',\n '0101000020E61000009BAC04C2E4543E4070B5CC78A7F64D40',\n '0101000020E61000009BAC04C2E4543E40CEB8CE2B18F84D40',\n '0101000020E61000009BAC04C2E4543E40DB251193A9F74D40',\n '0101000020E61000009BAC04C2E4543E40E4A1F770CEF74D40',\n '0101000020E61000009BC66060D0763E40ABD94A1972EF4D40',\n '0101000020E61000009E01B90998523E400C288C4EF3F74D40',\n '0101000020E61000009E01B90998523E406BDE1BEB22ED4D40',\n '0101000020E61000009E01B90998523E407AB3D8B484F74D40',\n '0101000020E61000009E01B90998523E4085057155DEEE4D40',\n '0101000020E61000009E01B90998523E40888919D708054E40',\n '0101000020E61000009E01B90998523E40CEB8CE2B18F84D40',\n '0101000020E61000009E01B90998523E40EBDF22DD1FFC4D40',\n '0101000020E6100000A4566D514B503E4006FC5DE561F84D40',\n '0101000020E6100000A4566D514B503E408F05D6231CFA4D40',\n '0101000020E6100000A4566D514B503E40E1E86ED465FA4D40',\n '0101000020E6100000A470C9EF36723E402BEBD0F9C7F44D40',\n '0101000020E6100000A7AB2199FE4D3E400D69F571D2F94D40',\n '0101000020E6100000A7AB2199FE4D3E40494A4ED65FF74D40',\n '0101000020E6100000A7AB2199FE4D3E40516FA59DABF84D40',\n '0101000020E6100000A8C57D37EA6F3E407AB3D8B484F74D40',\n '0101000020E6100000AB00D6E0B14B3E40236E4BFC40FA4D40',\n '0101000020E6100000AB00D6E0B14B3E406379569882F64D40',\n '0101000020E6100000AB00D6E0B14B3E408D151BC211F54D40',\n '0101000020E6100000AB00D6E0B14B3E40A0DE2F7F6FEE4D40',\n '0101000020E6100000AB00D6E0B14B3E40CB88A75E4B004E40',\n '0101000020E6100000B16FE6C6506B3E4006FC5DE561F84D40',\n '0101000020E6100000B16FE6C6506B3E40504B47D375044E40',\n '0101000020E6100000B490E2D12C253E405A854F09B4EC4D40',\n '0101000020E6100000B5C49A0E04693E4006FC5DE561F84D40',\n '0101000020E6100000B8FFF2B7CB443E40892F7FF5FDEC4D40',\n '0101000020E6100000BE54A7FF7E423E40F91CC68469FC4D40',\n '0101000020E6100000BE6E039E6A643E403DF3BDF394004E40',\n '0101000020E6100000C1A95B4732403E40494A4ED65FF74D40',\n '0101000020E6100000C2DD138409843E4009249E9F54F24D40',\n '0101000020E6100000C5186C2DD15F3E40704FED7D3FEA4D40',\n '0101000020E6100000C5186C2DD15F3E40B2FEA92F1AF94D40',\n '0101000020E6100000C5FE0F8FE53D3E4033438EB75DF64D40',\n '0101000020E6100000C632C8CBBC813E402BEBD0F9C7F44D40',\n '0101000020E6100000CB6D2075845D3E407916A554F5F84D40',\n '0101000020E6100000CFC2D4BC375B3E401FBF4913EFF54D40',\n '0101000020E6100000CFC2D4BC375B3E408A05A0FCDCFF4D40',\n '0101000020E6100000D2178904EB583E40494A4ED65FF74D40',\n '0101000020E6100000D2178904EB583E406A1274D638F64D40',\n '0101000020E6100000D2178904EB583E408D151BC211F54D40',\n '0101000020E6100000D2178904EB583E40D4F7F058CCF64D40',\n '0101000020E6100000D2FD2C66FF363E40CEB8CE2B18F84D40',\n '0101000020E6100000D752E1ADB2343E4076150862DBFE4D40',\n '0101000020E6100000D86C3D4C9E563E4006FC5DE561F84D40',\n '0101000020E6100000D86C3D4C9E563E40236E4BFC40FA4D40',\n '0101000020E6100000D86C3D4C9E563E407AB3D8B484F74D40',\n '0101000020E6100000D86C3D4C9E563E408F79686EE1024E40',\n '0101000020E6100000D86C3D4C9E563E40BE7BD74EA5F54D40',\n '0101000020E6100000DBC1F19351543E4006FC5DE561F84D40',\n '0101000020E6100000DBC1F19351543E40AE9B3931CAF54D40',\n '0101000020E6100000DBC1F19351543E40CEB8CE2B18F84D40',\n '0101000020E6100000DBC1F19351543E40DB251193A9F74D40',\n '0101000020E6100000DF16A6DB04523E40477640AC8AFA4D40',\n '0101000020E6100000E451FE84CC2D3E4021743A2748FE4D40',\n '0101000020E6100000E451FE84CC2D3E403AAA977194EE4D40',\n '0101000020E6100000E56B5A23B84F3E40236E4BFC40FA4D40',\n '0101000020E6100000E56B5A23B84F3E40A3B9475FB1FB4D40',\n '0101000020E6100000EC15C3B21E4B3E406379569882F64D40',\n '0101000020E6100000EC15C3B21E4B3E407916A554F5F84D40',\n '0101000020E6100000EC15C3B21E4B3E407AB3D8B484F74D40',\n '0101000020E6100000EC15C3B21E4B3E408EC13E307EF44D40',\n '0101000020E6100000EC2F1F510A6D3E4058AA511532F34D40',\n '0101000020E6100000F26A77FAD1483E407916A554F5F84D40',\n '0101000020E6100000F5A5CFA399243E400B9A5B3306034E40',\n '0101000020E6100000F5BF2B4285463E401AD725FD56F34D40',\n '0101000020E6100000F914E08938443E407916A554F5F84D40',\n '0101000020E6100000F92E3C2824663E40134E7A7396014E40']"
     },
     "execution_count": 242,
     "metadata": {},
     "output_type": "execute_result"
    }
   ],
   "source": [
    "true_point = sorted(valid_df.point.unique())\n",
    "true_point"
   ],
   "metadata": {
    "collapsed": false,
    "pycharm": {
     "name": "#%%\n"
    }
   }
  },
  {
   "cell_type": "code",
   "execution_count": 246,
   "outputs": [
    {
     "ename": "TypeError",
     "evalue": "'Timestamp' object cannot be interpreted as an integer",
     "output_type": "error",
     "traceback": [
      "\u001B[1;31m---------------------------------------------------------------------------\u001B[0m",
      "\u001B[1;31mTypeError\u001B[0m                                 Traceback (most recent call last)",
      "Input \u001B[1;32mIn [246]\u001B[0m, in \u001B[0;36m<cell line: 2>\u001B[1;34m()\u001B[0m\n\u001B[0;32m      1\u001B[0m \u001B[38;5;66;03m# Оставим в датасете только интересующие нас кубы и переведем timestamp в даты\u001B[39;00m\n\u001B[1;32m----> 2\u001B[0m df[\u001B[38;5;124m'\u001B[39m\u001B[38;5;124mtimestamp\u001B[39m\u001B[38;5;124m'\u001B[39m]\u001B[38;5;241m=\u001B[39m [datetime\u001B[38;5;241m.\u001B[39mfromtimestamp(x) \u001B[38;5;28;01mfor\u001B[39;00m x \u001B[38;5;129;01min\u001B[39;00m df[\u001B[38;5;124m'\u001B[39m\u001B[38;5;124mtimestamp\u001B[39m\u001B[38;5;124m'\u001B[39m]]\n\u001B[0;32m      3\u001B[0m df_clear \u001B[38;5;241m=\u001B[39m df[df\u001B[38;5;241m.\u001B[39mpoint\u001B[38;5;241m.\u001B[39misin(true_point)]\n\u001B[0;32m      4\u001B[0m df_clear\n",
      "Input \u001B[1;32mIn [246]\u001B[0m, in \u001B[0;36m<listcomp>\u001B[1;34m(.0)\u001B[0m\n\u001B[0;32m      1\u001B[0m \u001B[38;5;66;03m# Оставим в датасете только интересующие нас кубы и переведем timestamp в даты\u001B[39;00m\n\u001B[1;32m----> 2\u001B[0m df[\u001B[38;5;124m'\u001B[39m\u001B[38;5;124mtimestamp\u001B[39m\u001B[38;5;124m'\u001B[39m]\u001B[38;5;241m=\u001B[39m [\u001B[43mdatetime\u001B[49m\u001B[38;5;241;43m.\u001B[39;49m\u001B[43mfromtimestamp\u001B[49m\u001B[43m(\u001B[49m\u001B[43mx\u001B[49m\u001B[43m)\u001B[49m \u001B[38;5;28;01mfor\u001B[39;00m x \u001B[38;5;129;01min\u001B[39;00m df[\u001B[38;5;124m'\u001B[39m\u001B[38;5;124mtimestamp\u001B[39m\u001B[38;5;124m'\u001B[39m]]\n\u001B[0;32m      3\u001B[0m df_clear \u001B[38;5;241m=\u001B[39m df[df\u001B[38;5;241m.\u001B[39mpoint\u001B[38;5;241m.\u001B[39misin(true_point)]\n\u001B[0;32m      4\u001B[0m df_clear\n",
      "\u001B[1;31mTypeError\u001B[0m: 'Timestamp' object cannot be interpreted as an integer"
     ]
    }
   ],
   "source": [
    "# Оставим в датасете только интересующие нас кубы и переведем timestamp в даты\n",
    "df['timestamp']= [datetime.fromtimestamp(x) for x in df['timestamp']]\n",
    "df_clear = df[df.point.isin(true_point)]\n",
    "df_clear"
   ],
   "metadata": {
    "collapsed": false,
    "pycharm": {
     "name": "#%%\n"
    }
   }
  },
  {
   "cell_type": "code",
   "execution_count": 259,
   "outputs": [
    {
     "data": {
      "text/plain": "                  timestamp                                              point\n0       2019-08-12 14:00:00  0101000020E6100000DBC1F19351543E4006FC5DE561F8...\n1       2019-08-12 03:00:00  0101000020E6100000544263A8C4573E40C27FCF284DEF...\n2       2019-08-12 03:00:00  0101000020E61000009E01B90998523E40888919D70805...\n3       2019-08-12 03:00:00  0101000020E61000009E01B90998523E40CEB8CE2B18F8...\n4       2019-08-12 03:00:00  0101000020E6100000268147F5244F3E40494A4ED65FF7...\n...                     ...                                                ...\n8526521 2019-08-16 21:00:00  0101000020E61000005DECCB372B533E40494A4ED65FF7...\n8526522 2019-08-16 21:00:00  0101000020E61000005DECCB372B533E40494A4ED65FF7...\n8526523 2019-08-16 21:00:00  0101000020E61000005DECCB372B533E40494A4ED65FF7...\n8526524 2019-08-16 19:00:00  0101000020E61000005DECCB372B533E40494A4ED65FF7...\n8526525 2019-08-16 18:00:00  0101000020E61000005DECCB372B533E40494A4ED65FF7...\n\n[3722328 rows x 2 columns]",
      "text/html": "<div>\n<style scoped>\n    .dataframe tbody tr th:only-of-type {\n        vertical-align: middle;\n    }\n\n    .dataframe tbody tr th {\n        vertical-align: top;\n    }\n\n    .dataframe thead th {\n        text-align: right;\n    }\n</style>\n<table border=\"1\" class=\"dataframe\">\n  <thead>\n    <tr style=\"text-align: right;\">\n      <th></th>\n      <th>timestamp</th>\n      <th>point</th>\n    </tr>\n  </thead>\n  <tbody>\n    <tr>\n      <th>0</th>\n      <td>2019-08-12 14:00:00</td>\n      <td>0101000020E6100000DBC1F19351543E4006FC5DE561F8...</td>\n    </tr>\n    <tr>\n      <th>1</th>\n      <td>2019-08-12 03:00:00</td>\n      <td>0101000020E6100000544263A8C4573E40C27FCF284DEF...</td>\n    </tr>\n    <tr>\n      <th>2</th>\n      <td>2019-08-12 03:00:00</td>\n      <td>0101000020E61000009E01B90998523E40888919D70805...</td>\n    </tr>\n    <tr>\n      <th>3</th>\n      <td>2019-08-12 03:00:00</td>\n      <td>0101000020E61000009E01B90998523E40CEB8CE2B18F8...</td>\n    </tr>\n    <tr>\n      <th>4</th>\n      <td>2019-08-12 03:00:00</td>\n      <td>0101000020E6100000268147F5244F3E40494A4ED65FF7...</td>\n    </tr>\n    <tr>\n      <th>...</th>\n      <td>...</td>\n      <td>...</td>\n    </tr>\n    <tr>\n      <th>8526521</th>\n      <td>2019-08-16 21:00:00</td>\n      <td>0101000020E61000005DECCB372B533E40494A4ED65FF7...</td>\n    </tr>\n    <tr>\n      <th>8526522</th>\n      <td>2019-08-16 21:00:00</td>\n      <td>0101000020E61000005DECCB372B533E40494A4ED65FF7...</td>\n    </tr>\n    <tr>\n      <th>8526523</th>\n      <td>2019-08-16 21:00:00</td>\n      <td>0101000020E61000005DECCB372B533E40494A4ED65FF7...</td>\n    </tr>\n    <tr>\n      <th>8526524</th>\n      <td>2019-08-16 19:00:00</td>\n      <td>0101000020E61000005DECCB372B533E40494A4ED65FF7...</td>\n    </tr>\n    <tr>\n      <th>8526525</th>\n      <td>2019-08-16 18:00:00</td>\n      <td>0101000020E61000005DECCB372B533E40494A4ED65FF7...</td>\n    </tr>\n  </tbody>\n</table>\n<p>3722328 rows × 2 columns</p>\n</div>"
     },
     "execution_count": 259,
     "metadata": {},
     "output_type": "execute_result"
    }
   ],
   "source": [
    "df_clear"
   ],
   "metadata": {
    "collapsed": false,
    "pycharm": {
     "name": "#%%\n"
    }
   }
  },
  {
   "cell_type": "code",
   "execution_count": 249,
   "outputs": [
    {
     "data": {
      "text/plain": "                                                    point           timestamp  \\\n0       0101000020E61000000000000000000000000000000000... 2019-01-01 03:00:00   \n1       0101000020E61000000000000000000000000000000000... 2019-01-01 04:00:00   \n2       0101000020E61000000000000000000000000000000000... 2019-01-01 05:00:00   \n3       0101000020E61000000000000000000000000000000000... 2019-01-01 08:00:00   \n4       0101000020E61000000000000000000000000000000000... 2019-01-01 09:00:00   \n...                                                   ...                 ...   \n896276  0101000020E6100000F92E3C2824663E40134E7A739601... 2020-01-31 17:00:00   \n896277  0101000020E6100000F92E3C2824663E40134E7A739601... 2020-01-31 18:00:00   \n896278  0101000020E6100000F92E3C2824663E40134E7A739601... 2020-01-31 19:00:00   \n896279  0101000020E6100000F92E3C2824663E40134E7A739601... 2020-01-31 22:00:00   \n896280  0101000020E6100000F92E3C2824663E40134E7A739601... 2020-02-01 00:00:00   \n\n        counts  \n0            3  \n1            2  \n2            2  \n3            3  \n4            2  \n...        ...  \n896276       2  \n896277       1  \n896278       2  \n896279       1  \n896280       2  \n\n[896281 rows x 3 columns]",
      "text/html": "<div>\n<style scoped>\n    .dataframe tbody tr th:only-of-type {\n        vertical-align: middle;\n    }\n\n    .dataframe tbody tr th {\n        vertical-align: top;\n    }\n\n    .dataframe thead th {\n        text-align: right;\n    }\n</style>\n<table border=\"1\" class=\"dataframe\">\n  <thead>\n    <tr style=\"text-align: right;\">\n      <th></th>\n      <th>point</th>\n      <th>timestamp</th>\n      <th>counts</th>\n    </tr>\n  </thead>\n  <tbody>\n    <tr>\n      <th>0</th>\n      <td>0101000020E61000000000000000000000000000000000...</td>\n      <td>2019-01-01 03:00:00</td>\n      <td>3</td>\n    </tr>\n    <tr>\n      <th>1</th>\n      <td>0101000020E61000000000000000000000000000000000...</td>\n      <td>2019-01-01 04:00:00</td>\n      <td>2</td>\n    </tr>\n    <tr>\n      <th>2</th>\n      <td>0101000020E61000000000000000000000000000000000...</td>\n      <td>2019-01-01 05:00:00</td>\n      <td>2</td>\n    </tr>\n    <tr>\n      <th>3</th>\n      <td>0101000020E61000000000000000000000000000000000...</td>\n      <td>2019-01-01 08:00:00</td>\n      <td>3</td>\n    </tr>\n    <tr>\n      <th>4</th>\n      <td>0101000020E61000000000000000000000000000000000...</td>\n      <td>2019-01-01 09:00:00</td>\n      <td>2</td>\n    </tr>\n    <tr>\n      <th>...</th>\n      <td>...</td>\n      <td>...</td>\n      <td>...</td>\n    </tr>\n    <tr>\n      <th>896276</th>\n      <td>0101000020E6100000F92E3C2824663E40134E7A739601...</td>\n      <td>2020-01-31 17:00:00</td>\n      <td>2</td>\n    </tr>\n    <tr>\n      <th>896277</th>\n      <td>0101000020E6100000F92E3C2824663E40134E7A739601...</td>\n      <td>2020-01-31 18:00:00</td>\n      <td>1</td>\n    </tr>\n    <tr>\n      <th>896278</th>\n      <td>0101000020E6100000F92E3C2824663E40134E7A739601...</td>\n      <td>2020-01-31 19:00:00</td>\n      <td>2</td>\n    </tr>\n    <tr>\n      <th>896279</th>\n      <td>0101000020E6100000F92E3C2824663E40134E7A739601...</td>\n      <td>2020-01-31 22:00:00</td>\n      <td>1</td>\n    </tr>\n    <tr>\n      <th>896280</th>\n      <td>0101000020E6100000F92E3C2824663E40134E7A739601...</td>\n      <td>2020-02-01 00:00:00</td>\n      <td>2</td>\n    </tr>\n  </tbody>\n</table>\n<p>896281 rows × 3 columns</p>\n</div>"
     },
     "execution_count": 249,
     "metadata": {},
     "output_type": "execute_result"
    }
   ],
   "source": [
    "#df_clear = df_clear.groupby(['point_label', 'timestamp']).size().reset_index(name='counts')\n",
    "working_df = df_clear.groupby(['point', 'timestamp']).size().reset_index(name='counts')\n",
    "# working_df = df_clear.groupby(['point','timestamp']).count().unstack(fill_value=\n",
    "#                                                          0\n",
    "#                                                          ).stack()\n",
    "working_df"
   ],
   "metadata": {
    "collapsed": false,
    "pycharm": {
     "name": "#%%\n"
    }
   }
  },
  {
   "cell_type": "code",
   "execution_count": 266,
   "outputs": [
    {
     "data": {
      "text/plain": "                                                     point  \\\n0        0101000020E61000000000000000000000000000000000...   \n1        0101000020E61000000000000000000000000000000000...   \n2        0101000020E61000000000000000000000000000000000...   \n3        0101000020E61000000000000000000000000000000000...   \n4        0101000020E61000000000000000000000000000000000...   \n...                                                    ...   \n1473115  0101000020E6100000F92E3C2824663E40134E7A739601...   \n1473116  0101000020E6100000F92E3C2824663E40134E7A739601...   \n1473117  0101000020E6100000F92E3C2824663E40134E7A739601...   \n1473118  0101000020E6100000F92E3C2824663E40134E7A739601...   \n1473119  0101000020E6100000F92E3C2824663E40134E7A739601...   \n\n                  timestamp  counts  \n0       2019-01-01 03:00:00       3  \n1       2019-01-01 04:00:00       2  \n2       2019-01-01 05:00:00       2  \n3       2019-01-01 06:00:00       0  \n4       2019-01-01 07:00:00       0  \n...                     ...     ...  \n1473115 2020-01-31 22:00:00       1  \n1473116 2020-01-31 23:00:00       0  \n1473117 2020-02-01 00:00:00       2  \n1473118 2020-02-01 01:00:00       0  \n1473119 2020-02-01 02:00:00       0  \n\n[1473120 rows x 3 columns]",
      "text/html": "<div>\n<style scoped>\n    .dataframe tbody tr th:only-of-type {\n        vertical-align: middle;\n    }\n\n    .dataframe tbody tr th {\n        vertical-align: top;\n    }\n\n    .dataframe thead th {\n        text-align: right;\n    }\n</style>\n<table border=\"1\" class=\"dataframe\">\n  <thead>\n    <tr style=\"text-align: right;\">\n      <th></th>\n      <th>point</th>\n      <th>timestamp</th>\n      <th>counts</th>\n    </tr>\n  </thead>\n  <tbody>\n    <tr>\n      <th>0</th>\n      <td>0101000020E61000000000000000000000000000000000...</td>\n      <td>2019-01-01 03:00:00</td>\n      <td>3</td>\n    </tr>\n    <tr>\n      <th>1</th>\n      <td>0101000020E61000000000000000000000000000000000...</td>\n      <td>2019-01-01 04:00:00</td>\n      <td>2</td>\n    </tr>\n    <tr>\n      <th>2</th>\n      <td>0101000020E61000000000000000000000000000000000...</td>\n      <td>2019-01-01 05:00:00</td>\n      <td>2</td>\n    </tr>\n    <tr>\n      <th>3</th>\n      <td>0101000020E61000000000000000000000000000000000...</td>\n      <td>2019-01-01 06:00:00</td>\n      <td>0</td>\n    </tr>\n    <tr>\n      <th>4</th>\n      <td>0101000020E61000000000000000000000000000000000...</td>\n      <td>2019-01-01 07:00:00</td>\n      <td>0</td>\n    </tr>\n    <tr>\n      <th>...</th>\n      <td>...</td>\n      <td>...</td>\n      <td>...</td>\n    </tr>\n    <tr>\n      <th>1473115</th>\n      <td>0101000020E6100000F92E3C2824663E40134E7A739601...</td>\n      <td>2020-01-31 22:00:00</td>\n      <td>1</td>\n    </tr>\n    <tr>\n      <th>1473116</th>\n      <td>0101000020E6100000F92E3C2824663E40134E7A739601...</td>\n      <td>2020-01-31 23:00:00</td>\n      <td>0</td>\n    </tr>\n    <tr>\n      <th>1473117</th>\n      <td>0101000020E6100000F92E3C2824663E40134E7A739601...</td>\n      <td>2020-02-01 00:00:00</td>\n      <td>2</td>\n    </tr>\n    <tr>\n      <th>1473118</th>\n      <td>0101000020E6100000F92E3C2824663E40134E7A739601...</td>\n      <td>2020-02-01 01:00:00</td>\n      <td>0</td>\n    </tr>\n    <tr>\n      <th>1473119</th>\n      <td>0101000020E6100000F92E3C2824663E40134E7A739601...</td>\n      <td>2020-02-01 02:00:00</td>\n      <td>0</td>\n    </tr>\n  </tbody>\n</table>\n<p>1473120 rows × 3 columns</p>\n</div>"
     },
     "execution_count": 266,
     "metadata": {},
     "output_type": "execute_result"
    }
   ],
   "source": [
    "working_df = df_clear.groupby(['point','timestamp']).size().unstack(fill_value=\n",
    "                                                         0\n",
    "                                                         ).stack()\n",
    "working_df = working_df.reset_index(name='counts')\n",
    "working_df"
   ],
   "metadata": {
    "collapsed": false,
    "pycharm": {
     "name": "#%%\n"
    }
   }
  },
  {
   "cell_type": "code",
   "execution_count": 267,
   "outputs": [
    {
     "data": {
      "text/plain": "                                                     point  \\\n0        0101000020E61000000000000000000000000000000000...   \n1        0101000020E61000000000000000000000000000000000...   \n2        0101000020E61000000000000000000000000000000000...   \n3        0101000020E61000000000000000000000000000000000...   \n4        0101000020E61000000000000000000000000000000000...   \n...                                                    ...   \n1473115  0101000020E6100000F92E3C2824663E40134E7A739601...   \n1473116  0101000020E6100000F92E3C2824663E40134E7A739601...   \n1473117  0101000020E6100000F92E3C2824663E40134E7A739601...   \n1473118  0101000020E6100000F92E3C2824663E40134E7A739601...   \n1473119  0101000020E6100000F92E3C2824663E40134E7A739601...   \n\n                  timestamp  counts       Dates      Time  \n0       2019-01-01 03:00:00       3  2019-01-01  03:00:00  \n1       2019-01-01 04:00:00       2  2019-01-01  04:00:00  \n2       2019-01-01 05:00:00       2  2019-01-01  05:00:00  \n3       2019-01-01 06:00:00       0  2019-01-01  06:00:00  \n4       2019-01-01 07:00:00       0  2019-01-01  07:00:00  \n...                     ...     ...         ...       ...  \n1473115 2020-01-31 22:00:00       1  2020-01-31  22:00:00  \n1473116 2020-01-31 23:00:00       0  2020-01-31  23:00:00  \n1473117 2020-02-01 00:00:00       2  2020-02-01  00:00:00  \n1473118 2020-02-01 01:00:00       0  2020-02-01  01:00:00  \n1473119 2020-02-01 02:00:00       0  2020-02-01  02:00:00  \n\n[1473120 rows x 5 columns]",
      "text/html": "<div>\n<style scoped>\n    .dataframe tbody tr th:only-of-type {\n        vertical-align: middle;\n    }\n\n    .dataframe tbody tr th {\n        vertical-align: top;\n    }\n\n    .dataframe thead th {\n        text-align: right;\n    }\n</style>\n<table border=\"1\" class=\"dataframe\">\n  <thead>\n    <tr style=\"text-align: right;\">\n      <th></th>\n      <th>point</th>\n      <th>timestamp</th>\n      <th>counts</th>\n      <th>Dates</th>\n      <th>Time</th>\n    </tr>\n  </thead>\n  <tbody>\n    <tr>\n      <th>0</th>\n      <td>0101000020E61000000000000000000000000000000000...</td>\n      <td>2019-01-01 03:00:00</td>\n      <td>3</td>\n      <td>2019-01-01</td>\n      <td>03:00:00</td>\n    </tr>\n    <tr>\n      <th>1</th>\n      <td>0101000020E61000000000000000000000000000000000...</td>\n      <td>2019-01-01 04:00:00</td>\n      <td>2</td>\n      <td>2019-01-01</td>\n      <td>04:00:00</td>\n    </tr>\n    <tr>\n      <th>2</th>\n      <td>0101000020E61000000000000000000000000000000000...</td>\n      <td>2019-01-01 05:00:00</td>\n      <td>2</td>\n      <td>2019-01-01</td>\n      <td>05:00:00</td>\n    </tr>\n    <tr>\n      <th>3</th>\n      <td>0101000020E61000000000000000000000000000000000...</td>\n      <td>2019-01-01 06:00:00</td>\n      <td>0</td>\n      <td>2019-01-01</td>\n      <td>06:00:00</td>\n    </tr>\n    <tr>\n      <th>4</th>\n      <td>0101000020E61000000000000000000000000000000000...</td>\n      <td>2019-01-01 07:00:00</td>\n      <td>0</td>\n      <td>2019-01-01</td>\n      <td>07:00:00</td>\n    </tr>\n    <tr>\n      <th>...</th>\n      <td>...</td>\n      <td>...</td>\n      <td>...</td>\n      <td>...</td>\n      <td>...</td>\n    </tr>\n    <tr>\n      <th>1473115</th>\n      <td>0101000020E6100000F92E3C2824663E40134E7A739601...</td>\n      <td>2020-01-31 22:00:00</td>\n      <td>1</td>\n      <td>2020-01-31</td>\n      <td>22:00:00</td>\n    </tr>\n    <tr>\n      <th>1473116</th>\n      <td>0101000020E6100000F92E3C2824663E40134E7A739601...</td>\n      <td>2020-01-31 23:00:00</td>\n      <td>0</td>\n      <td>2020-01-31</td>\n      <td>23:00:00</td>\n    </tr>\n    <tr>\n      <th>1473117</th>\n      <td>0101000020E6100000F92E3C2824663E40134E7A739601...</td>\n      <td>2020-02-01 00:00:00</td>\n      <td>2</td>\n      <td>2020-02-01</td>\n      <td>00:00:00</td>\n    </tr>\n    <tr>\n      <th>1473118</th>\n      <td>0101000020E6100000F92E3C2824663E40134E7A739601...</td>\n      <td>2020-02-01 01:00:00</td>\n      <td>0</td>\n      <td>2020-02-01</td>\n      <td>01:00:00</td>\n    </tr>\n    <tr>\n      <th>1473119</th>\n      <td>0101000020E6100000F92E3C2824663E40134E7A739601...</td>\n      <td>2020-02-01 02:00:00</td>\n      <td>0</td>\n      <td>2020-02-01</td>\n      <td>02:00:00</td>\n    </tr>\n  </tbody>\n</table>\n<p>1473120 rows × 5 columns</p>\n</div>"
     },
     "execution_count": 267,
     "metadata": {},
     "output_type": "execute_result"
    }
   ],
   "source": [
    "# Разделим timestamp на дату и время\n",
    "working_df['Dates'] = pd.to_datetime(working_df['timestamp']).dt.date\n",
    "working_df['Time'] = pd.to_datetime(working_df['timestamp']).dt.time\n",
    "working_df"
   ],
   "metadata": {
    "collapsed": false,
    "pycharm": {
     "name": "#%%\n"
    }
   }
  },
  {
   "cell_type": "code",
   "execution_count": 269,
   "outputs": [
    {
     "data": {
      "text/plain": "array(['2019-01-01T03:00:00.000000000', '2019-01-01T04:00:00.000000000',\n       '2019-01-01T05:00:00.000000000', ...,\n       '2020-02-01T00:00:00.000000000', '2020-02-01T01:00:00.000000000',\n       '2020-02-01T02:00:00.000000000'], dtype='datetime64[ns]')"
     },
     "execution_count": 269,
     "metadata": {},
     "output_type": "execute_result"
    }
   ],
   "source": [
    "working_df.timestamp.unique()"
   ],
   "metadata": {
    "collapsed": false,
    "pycharm": {
     "name": "#%%\n"
    }
   }
  },
  {
   "cell_type": "code",
   "execution_count": 268,
   "outputs": [
    {
     "data": {
      "text/plain": "array(['0101000020E610000000000000000000000000000000000000',\n       '0101000020E61000000C830D47F15C3E400A41C338F1F64D40',\n       '0101000020E61000000C830D47F15C3E40CAE971F73AF74D40',\n       '0101000020E61000000FD8C18EA45A3E408991431816F74D40',\n       '0101000020E61000000FD8C18EA45A3E40CAE971F73AF74D40',\n       '0101000020E6100000132D76D657583E408991431816F74D40',\n       '0101000020E61000001868CE7F1F343E40975BBA5723FE4D40',\n       '0101000020E6100000199C86BCF6773E401FBF4913EFF54D40',\n       '0101000020E6100000199C86BCF6773E406A1274D638F64D40',\n       '0101000020E61000001CD7DE65BE533E40A554BF083DF84D40',\n       '0101000020E61000002012370F862F3E40A08C1570AEEA4D40',\n       '0101000020E6100000202C93AD71513E4009249E9F54F24D40',\n       '0101000020E6100000202C93AD71513E401E66D608FBFB4D40',\n       '0101000020E6100000202C93AD71513E4041010E3DD6EB4D40',\n       '0101000020E6100000202C93AD71513E4054F844A221FD4D40',\n       '0101000020E6100000202C93AD71513E4070B5CC78A7F64D40',\n       '0101000020E6100000202C93AD71513E407A441D895BF54D40',\n       '0101000020E6100000202C93AD71513E40CEB8CE2B18F84D40',\n       '0101000020E6100000202C93AD71513E40FC619B9199F04D40',\n       '0101000020E6100000268147F5244F3E40494A4ED65FF74D40',\n       '0101000020E6100000268147F5244F3E407AB3D8B484F74D40',\n       '0101000020E6100000268147F5244F3E40DB251193A9F74D40',\n       '0101000020E6100000269BA39310713E40749A73B54FF04D40',\n       '0101000020E610000029D6FB3CD84C3E403DF3BDF394004E40',\n       '0101000020E610000029D6FB3CD84C3E4070B5CC78A7F64D40',\n       '0101000020E610000029D6FB3CD84C3E408F0FCDBE88F94D40',\n       '0101000020E610000029D6FB3CD84C3E40975BBA5723FE4D40',\n       '0101000020E610000029D6FB3CD84C3E40D4F7F058CCF64D40',\n       '0101000020E61000002D2BB0848B4A3E401893C931F9FA4D40',\n       '0101000020E61000002D2BB0848B4A3E402B348A98ADF94D40',\n       '0101000020E61000002D450C23776C3E407F614299EAF34D40',\n       '0101000020E6100000328064CC3E483E400C288C4EF3F74D40',\n       '0101000020E610000036D51814F2453E403DF3BDF394004E40',\n       '0101000020E61000003F7F81A358413E400D42027446FD4D40',\n       '0101000020E610000043EE9189F7603E40C27FCF284DEF4D40',\n       '0101000020E61000004408EE27E3823E401F04E95BC3F24D40',\n       '0101000020E6100000474346D1AA5E3E4014A96F5908F14D40',\n       '0101000020E61000004D98FA185E5C3E403DA1E4C62AF04D40',\n       '0101000020E61000004D98FA185E5C3E40477640AC8AFA4D40',\n       '0101000020E61000004D98FA185E5C3E40CAE971F73AF74D40',\n       '0101000020E61000004D98FA185E5C3E40D4F7F058CCF64D40',\n       '0101000020E610000050EDAE60115A3E40CAE971F73AF74D40',\n       '0101000020E610000051070BFFFC7B3E40E13FA02445EC4D40',\n       '0101000020E610000051070BFFFC7B3E40EC94646534F44D40',\n       '0101000020E61000005428070AD9353E40582A871690FD4D40',\n       '0101000020E6100000544263A8C4573E40477640AC8AFA4D40',\n       '0101000020E6100000544263A8C4573E40C27FCF284DEF4D40',\n       '0101000020E6100000597DBB518C333E403DA1E4C62AF04D40',\n       '0101000020E61000005AB1738E63773E403AAA977194EE4D40',\n       '0101000020E61000005AB1738E63773E40AE9B3931CAF54D40',\n       '0101000020E61000005DECCB372B533E40494A4ED65FF74D40',\n       '0101000020E61000005DECCB372B533E407AB3D8B484F74D40',\n       '0101000020E61000005DECCB372B533E40E4A1F770CEF74D40',\n       '0101000020E61000006141807FDE503E401E66D608FBFB4D40',\n       '0101000020E61000006141807FDE503E402B348A98ADF94D40',\n       '0101000020E61000006141807FDE503E406379569882F64D40',\n       '0101000020E61000006141807FDE503E408F0FCDBE88F94D40',\n       '0101000020E61000006141807FDE503E40A554BF083DF84D40',\n       '0101000020E61000006141807FDE503E40D15705CA91ED4D40',\n       '0101000020E6100000669634C7914E3E40516FA59DABF84D40',\n       '0101000020E6100000669634C7914E3E407AB3D8B484F74D40',\n       '0101000020E61000006AEBE80E454C3E401893C931F9FA4D40',\n       '0101000020E61000006AEBE80E454C3E407F614299EAF34D40',\n       '0101000020E61000006E409D56F8493E400A41C338F1F64D40',\n       '0101000020E61000007395519EAB473E408BE607F513F64D40',\n       '0101000020E6100000781EBE2236893E406E4CE6811AEA4D40',\n       '0101000020E61000007B5916CCFD643E40C2FABDE463F94D40',\n       '0101000020E61000007D3FBA2D12433E40EC88DD9029024E40',\n       '0101000020E610000080946E75C5403E407B5D8E44B1EB4D40',\n       '0101000020E610000081AECA13B1623E406BDE1BEB22ED4D40',\n       '0101000020E61000008A5833A3175E3E408A3E861151044E40',\n       '0101000020E61000008A728F4103803E402A30A27964EA4D40',\n       '0101000020E61000008D938B4CDF393E408F79686EE1024E40',\n       '0101000020E61000008D938B4CDF393E408FAA9F16E4044E40',\n       '0101000020E61000008D938B4CDF393E40F91CC68469FC4D40',\n       '0101000020E61000008EADE7EACA5B3E40494A4ED65FF74D40',\n       '0101000020E61000008EADE7EACA5B3E40CAE971F73AF74D40',\n       '0101000020E61000008EC74389B67D3E4033438EB75DF64D40',\n       '0101000020E610000091029C327E593E40494A4ED65FF74D40',\n       '0101000020E610000091029C327E593E408991431816F74D40',\n       '0101000020E610000091029C327E593E40A08C1570AEEA4D40',\n       '0101000020E61000009757507A31573E4006FC5DE561F84D40',\n       '0101000020E61000009A92A823F9323E40DDC94EE7B4FD4D40',\n       '0101000020E61000009BAC04C2E4543E402BEBD0F9C7F44D40',\n       '0101000020E61000009BAC04C2E4543E4070B5CC78A7F64D40',\n       '0101000020E61000009BAC04C2E4543E40CEB8CE2B18F84D40',\n       '0101000020E61000009BAC04C2E4543E40DB251193A9F74D40',\n       '0101000020E61000009BAC04C2E4543E40E4A1F770CEF74D40',\n       '0101000020E61000009BC66060D0763E40ABD94A1972EF4D40',\n       '0101000020E61000009E01B90998523E400C288C4EF3F74D40',\n       '0101000020E61000009E01B90998523E406BDE1BEB22ED4D40',\n       '0101000020E61000009E01B90998523E407AB3D8B484F74D40',\n       '0101000020E61000009E01B90998523E4085057155DEEE4D40',\n       '0101000020E61000009E01B90998523E40888919D708054E40',\n       '0101000020E61000009E01B90998523E40CEB8CE2B18F84D40',\n       '0101000020E61000009E01B90998523E40EBDF22DD1FFC4D40',\n       '0101000020E6100000A4566D514B503E4006FC5DE561F84D40',\n       '0101000020E6100000A4566D514B503E408F05D6231CFA4D40',\n       '0101000020E6100000A4566D514B503E40E1E86ED465FA4D40',\n       '0101000020E6100000A470C9EF36723E402BEBD0F9C7F44D40',\n       '0101000020E6100000A7AB2199FE4D3E400D69F571D2F94D40',\n       '0101000020E6100000A7AB2199FE4D3E40494A4ED65FF74D40',\n       '0101000020E6100000A7AB2199FE4D3E40516FA59DABF84D40',\n       '0101000020E6100000A8C57D37EA6F3E407AB3D8B484F74D40',\n       '0101000020E6100000AB00D6E0B14B3E40236E4BFC40FA4D40',\n       '0101000020E6100000AB00D6E0B14B3E406379569882F64D40',\n       '0101000020E6100000AB00D6E0B14B3E408D151BC211F54D40',\n       '0101000020E6100000AB00D6E0B14B3E40A0DE2F7F6FEE4D40',\n       '0101000020E6100000AB00D6E0B14B3E40CB88A75E4B004E40',\n       '0101000020E6100000B16FE6C6506B3E4006FC5DE561F84D40',\n       '0101000020E6100000B16FE6C6506B3E40504B47D375044E40',\n       '0101000020E6100000B490E2D12C253E405A854F09B4EC4D40',\n       '0101000020E6100000B5C49A0E04693E4006FC5DE561F84D40',\n       '0101000020E6100000B8FFF2B7CB443E40892F7FF5FDEC4D40',\n       '0101000020E6100000BE54A7FF7E423E40F91CC68469FC4D40',\n       '0101000020E6100000BE6E039E6A643E403DF3BDF394004E40',\n       '0101000020E6100000C1A95B4732403E40494A4ED65FF74D40',\n       '0101000020E6100000C2DD138409843E4009249E9F54F24D40',\n       '0101000020E6100000C5186C2DD15F3E40704FED7D3FEA4D40',\n       '0101000020E6100000C5186C2DD15F3E40B2FEA92F1AF94D40',\n       '0101000020E6100000C5FE0F8FE53D3E4033438EB75DF64D40',\n       '0101000020E6100000C632C8CBBC813E402BEBD0F9C7F44D40',\n       '0101000020E6100000CB6D2075845D3E407916A554F5F84D40',\n       '0101000020E6100000CFC2D4BC375B3E401FBF4913EFF54D40',\n       '0101000020E6100000CFC2D4BC375B3E408A05A0FCDCFF4D40',\n       '0101000020E6100000D2178904EB583E40494A4ED65FF74D40',\n       '0101000020E6100000D2178904EB583E406A1274D638F64D40',\n       '0101000020E6100000D2178904EB583E408D151BC211F54D40',\n       '0101000020E6100000D2178904EB583E40D4F7F058CCF64D40',\n       '0101000020E6100000D2FD2C66FF363E40CEB8CE2B18F84D40',\n       '0101000020E6100000D752E1ADB2343E4076150862DBFE4D40',\n       '0101000020E6100000D86C3D4C9E563E4006FC5DE561F84D40',\n       '0101000020E6100000D86C3D4C9E563E40236E4BFC40FA4D40',\n       '0101000020E6100000D86C3D4C9E563E407AB3D8B484F74D40',\n       '0101000020E6100000D86C3D4C9E563E408F79686EE1024E40',\n       '0101000020E6100000D86C3D4C9E563E40BE7BD74EA5F54D40',\n       '0101000020E6100000DBC1F19351543E4006FC5DE561F84D40',\n       '0101000020E6100000DBC1F19351543E40AE9B3931CAF54D40',\n       '0101000020E6100000DBC1F19351543E40CEB8CE2B18F84D40',\n       '0101000020E6100000DBC1F19351543E40DB251193A9F74D40',\n       '0101000020E6100000DF16A6DB04523E40477640AC8AFA4D40',\n       '0101000020E6100000E451FE84CC2D3E4021743A2748FE4D40',\n       '0101000020E6100000E451FE84CC2D3E403AAA977194EE4D40',\n       '0101000020E6100000E56B5A23B84F3E40236E4BFC40FA4D40',\n       '0101000020E6100000E56B5A23B84F3E40A3B9475FB1FB4D40',\n       '0101000020E6100000EC15C3B21E4B3E406379569882F64D40',\n       '0101000020E6100000EC15C3B21E4B3E407916A554F5F84D40',\n       '0101000020E6100000EC15C3B21E4B3E407AB3D8B484F74D40',\n       '0101000020E6100000EC15C3B21E4B3E408EC13E307EF44D40',\n       '0101000020E6100000EC2F1F510A6D3E4058AA511532F34D40',\n       '0101000020E6100000F26A77FAD1483E407916A554F5F84D40',\n       '0101000020E6100000F5A5CFA399243E400B9A5B3306034E40',\n       '0101000020E6100000F5BF2B4285463E401AD725FD56F34D40',\n       '0101000020E6100000F914E08938443E407916A554F5F84D40',\n       '0101000020E6100000F92E3C2824663E40134E7A7396014E40'], dtype=object)"
     },
     "execution_count": 268,
     "metadata": {},
     "output_type": "execute_result"
    }
   ],
   "source": [
    "points = working_df.point.unique()\n",
    "points"
   ],
   "metadata": {
    "collapsed": false,
    "pycharm": {
     "name": "#%%\n"
    }
   }
  },
  {
   "cell_type": "code",
   "execution_count": 270,
   "outputs": [
    {
     "data": {
      "text/plain": "155"
     },
     "execution_count": 270,
     "metadata": {},
     "output_type": "execute_result"
    }
   ],
   "source": [
    "len(points)"
   ],
   "metadata": {
    "collapsed": false,
    "pycharm": {
     "name": "#%%\n"
    }
   }
  },
  {
   "cell_type": "code",
   "execution_count": 271,
   "outputs": [
    {
     "data": {
      "text/plain": "                                                  point           timestamp  \\\n0     0101000020E61000000000000000000000000000000000... 2019-01-01 03:00:00   \n1     0101000020E61000000000000000000000000000000000... 2019-01-01 04:00:00   \n2     0101000020E61000000000000000000000000000000000... 2019-01-01 05:00:00   \n3     0101000020E61000000000000000000000000000000000... 2019-01-01 06:00:00   \n4     0101000020E61000000000000000000000000000000000... 2019-01-01 07:00:00   \n...                                                 ...                 ...   \n9499  0101000020E61000000000000000000000000000000000... 2020-01-31 22:00:00   \n9500  0101000020E61000000000000000000000000000000000... 2020-01-31 23:00:00   \n9501  0101000020E61000000000000000000000000000000000... 2020-02-01 00:00:00   \n9502  0101000020E61000000000000000000000000000000000... 2020-02-01 01:00:00   \n9503  0101000020E61000000000000000000000000000000000... 2020-02-01 02:00:00   \n\n      counts       Dates      Time  \n0          3  2019-01-01  03:00:00  \n1          2  2019-01-01  04:00:00  \n2          2  2019-01-01  05:00:00  \n3          0  2019-01-01  06:00:00  \n4          0  2019-01-01  07:00:00  \n...      ...         ...       ...  \n9499       8  2020-01-31  22:00:00  \n9500      13  2020-01-31  23:00:00  \n9501      13  2020-02-01  00:00:00  \n9502       0  2020-02-01  01:00:00  \n9503       5  2020-02-01  02:00:00  \n\n[9504 rows x 5 columns]",
      "text/html": "<div>\n<style scoped>\n    .dataframe tbody tr th:only-of-type {\n        vertical-align: middle;\n    }\n\n    .dataframe tbody tr th {\n        vertical-align: top;\n    }\n\n    .dataframe thead th {\n        text-align: right;\n    }\n</style>\n<table border=\"1\" class=\"dataframe\">\n  <thead>\n    <tr style=\"text-align: right;\">\n      <th></th>\n      <th>point</th>\n      <th>timestamp</th>\n      <th>counts</th>\n      <th>Dates</th>\n      <th>Time</th>\n    </tr>\n  </thead>\n  <tbody>\n    <tr>\n      <th>0</th>\n      <td>0101000020E61000000000000000000000000000000000...</td>\n      <td>2019-01-01 03:00:00</td>\n      <td>3</td>\n      <td>2019-01-01</td>\n      <td>03:00:00</td>\n    </tr>\n    <tr>\n      <th>1</th>\n      <td>0101000020E61000000000000000000000000000000000...</td>\n      <td>2019-01-01 04:00:00</td>\n      <td>2</td>\n      <td>2019-01-01</td>\n      <td>04:00:00</td>\n    </tr>\n    <tr>\n      <th>2</th>\n      <td>0101000020E61000000000000000000000000000000000...</td>\n      <td>2019-01-01 05:00:00</td>\n      <td>2</td>\n      <td>2019-01-01</td>\n      <td>05:00:00</td>\n    </tr>\n    <tr>\n      <th>3</th>\n      <td>0101000020E61000000000000000000000000000000000...</td>\n      <td>2019-01-01 06:00:00</td>\n      <td>0</td>\n      <td>2019-01-01</td>\n      <td>06:00:00</td>\n    </tr>\n    <tr>\n      <th>4</th>\n      <td>0101000020E61000000000000000000000000000000000...</td>\n      <td>2019-01-01 07:00:00</td>\n      <td>0</td>\n      <td>2019-01-01</td>\n      <td>07:00:00</td>\n    </tr>\n    <tr>\n      <th>...</th>\n      <td>...</td>\n      <td>...</td>\n      <td>...</td>\n      <td>...</td>\n      <td>...</td>\n    </tr>\n    <tr>\n      <th>9499</th>\n      <td>0101000020E61000000000000000000000000000000000...</td>\n      <td>2020-01-31 22:00:00</td>\n      <td>8</td>\n      <td>2020-01-31</td>\n      <td>22:00:00</td>\n    </tr>\n    <tr>\n      <th>9500</th>\n      <td>0101000020E61000000000000000000000000000000000...</td>\n      <td>2020-01-31 23:00:00</td>\n      <td>13</td>\n      <td>2020-01-31</td>\n      <td>23:00:00</td>\n    </tr>\n    <tr>\n      <th>9501</th>\n      <td>0101000020E61000000000000000000000000000000000...</td>\n      <td>2020-02-01 00:00:00</td>\n      <td>13</td>\n      <td>2020-02-01</td>\n      <td>00:00:00</td>\n    </tr>\n    <tr>\n      <th>9502</th>\n      <td>0101000020E61000000000000000000000000000000000...</td>\n      <td>2020-02-01 01:00:00</td>\n      <td>0</td>\n      <td>2020-02-01</td>\n      <td>01:00:00</td>\n    </tr>\n    <tr>\n      <th>9503</th>\n      <td>0101000020E61000000000000000000000000000000000...</td>\n      <td>2020-02-01 02:00:00</td>\n      <td>5</td>\n      <td>2020-02-01</td>\n      <td>02:00:00</td>\n    </tr>\n  </tbody>\n</table>\n<p>9504 rows × 5 columns</p>\n</div>"
     },
     "execution_count": 271,
     "metadata": {},
     "output_type": "execute_result"
    }
   ],
   "source": [
    "example = working_df[working_df.point == points[0]]\n",
    "example"
   ],
   "metadata": {
    "collapsed": false,
    "pycharm": {
     "name": "#%%\n"
    }
   }
  },
  {
   "cell_type": "code",
   "execution_count": null,
   "outputs": [],
   "source": [],
   "metadata": {
    "collapsed": false,
    "pycharm": {
     "name": "#%%\n"
    }
   }
  },
  {
   "cell_type": "code",
   "execution_count": null,
   "outputs": [],
   "source": [],
   "metadata": {
    "collapsed": false,
    "pycharm": {
     "name": "#%%\n"
    }
   }
  },
  {
   "cell_type": "code",
   "execution_count": null,
   "outputs": [],
   "source": [],
   "metadata": {
    "collapsed": false,
    "pycharm": {
     "name": "#%%\n"
    }
   }
  },
  {
   "cell_type": "code",
   "execution_count": null,
   "outputs": [],
   "source": [],
   "metadata": {
    "collapsed": false,
    "pycharm": {
     "name": "#%%\n"
    }
   }
  },
  {
   "cell_type": "code",
   "execution_count": 178,
   "outputs": [
    {
     "data": {
      "text/plain": "                                                 point        hour  \\\n0    0101000020E6100000202C93AD71513E4070B5CC78A7F6...  1582448400   \n1    0101000020E6100000C5FE0F8FE53D3E4033438EB75DF6...  1582225200   \n2    0101000020E6100000AB00D6E0B14B3E40CB88A75E4B00...  1581260400   \n3    0101000020E61000005DECCB372B533E40E4A1F770CEF7...  1581958800   \n4    0101000020E6100000669634C7914E3E407AB3D8B484F7...  1582779600   \n..                                                 ...         ...   \n704  0101000020E61000006AEBE80E454C3E407F614299EAF3...  1580659200   \n705  0101000020E61000006141807FDE503E402B348A98ADF9...  1581048000   \n706  0101000020E6100000268147F5244F3E407AB3D8B484F7...  1581656400   \n707  0101000020E61000008EADE7EACA5B3E40CAE971F73AF7...  1580724000   \n708  0101000020E6100000AB00D6E0B14B3E406379569882F6...  1581940800   \n\n     point_label                time  \n0             15 2020-02-23 12:00:00  \n1            120 2020-02-20 22:00:00  \n2            108 2020-02-09 18:00:00  \n3             52 2020-02-17 20:00:00  \n4             60 2020-02-27 08:00:00  \n..           ...                 ...  \n704           62 2020-02-02 19:00:00  \n705           54 2020-02-07 07:00:00  \n706           20 2020-02-14 08:00:00  \n707           76 2020-02-03 13:00:00  \n708          105 2020-02-17 15:00:00  \n\n[709 rows x 4 columns]",
      "text/html": "<div>\n<style scoped>\n    .dataframe tbody tr th:only-of-type {\n        vertical-align: middle;\n    }\n\n    .dataframe tbody tr th {\n        vertical-align: top;\n    }\n\n    .dataframe thead th {\n        text-align: right;\n    }\n</style>\n<table border=\"1\" class=\"dataframe\">\n  <thead>\n    <tr style=\"text-align: right;\">\n      <th></th>\n      <th>point</th>\n      <th>hour</th>\n      <th>point_label</th>\n      <th>time</th>\n    </tr>\n  </thead>\n  <tbody>\n    <tr>\n      <th>0</th>\n      <td>0101000020E6100000202C93AD71513E4070B5CC78A7F6...</td>\n      <td>1582448400</td>\n      <td>15</td>\n      <td>2020-02-23 12:00:00</td>\n    </tr>\n    <tr>\n      <th>1</th>\n      <td>0101000020E6100000C5FE0F8FE53D3E4033438EB75DF6...</td>\n      <td>1582225200</td>\n      <td>120</td>\n      <td>2020-02-20 22:00:00</td>\n    </tr>\n    <tr>\n      <th>2</th>\n      <td>0101000020E6100000AB00D6E0B14B3E40CB88A75E4B00...</td>\n      <td>1581260400</td>\n      <td>108</td>\n      <td>2020-02-09 18:00:00</td>\n    </tr>\n    <tr>\n      <th>3</th>\n      <td>0101000020E61000005DECCB372B533E40E4A1F770CEF7...</td>\n      <td>1581958800</td>\n      <td>52</td>\n      <td>2020-02-17 20:00:00</td>\n    </tr>\n    <tr>\n      <th>4</th>\n      <td>0101000020E6100000669634C7914E3E407AB3D8B484F7...</td>\n      <td>1582779600</td>\n      <td>60</td>\n      <td>2020-02-27 08:00:00</td>\n    </tr>\n    <tr>\n      <th>...</th>\n      <td>...</td>\n      <td>...</td>\n      <td>...</td>\n      <td>...</td>\n    </tr>\n    <tr>\n      <th>704</th>\n      <td>0101000020E61000006AEBE80E454C3E407F614299EAF3...</td>\n      <td>1580659200</td>\n      <td>62</td>\n      <td>2020-02-02 19:00:00</td>\n    </tr>\n    <tr>\n      <th>705</th>\n      <td>0101000020E61000006141807FDE503E402B348A98ADF9...</td>\n      <td>1581048000</td>\n      <td>54</td>\n      <td>2020-02-07 07:00:00</td>\n    </tr>\n    <tr>\n      <th>706</th>\n      <td>0101000020E6100000268147F5244F3E407AB3D8B484F7...</td>\n      <td>1581656400</td>\n      <td>20</td>\n      <td>2020-02-14 08:00:00</td>\n    </tr>\n    <tr>\n      <th>707</th>\n      <td>0101000020E61000008EADE7EACA5B3E40CAE971F73AF7...</td>\n      <td>1580724000</td>\n      <td>76</td>\n      <td>2020-02-03 13:00:00</td>\n    </tr>\n    <tr>\n      <th>708</th>\n      <td>0101000020E6100000AB00D6E0B14B3E406379569882F6...</td>\n      <td>1581940800</td>\n      <td>105</td>\n      <td>2020-02-17 15:00:00</td>\n    </tr>\n  </tbody>\n</table>\n<p>709 rows × 4 columns</p>\n</div>"
     },
     "execution_count": 178,
     "metadata": {},
     "output_type": "execute_result"
    }
   ],
   "source": [
    "valid_df['time'] = [datetime.fromtimestamp(x) for x in valid_df['hour']]\n",
    "valid_df"
   ],
   "metadata": {
    "collapsed": false,
    "pycharm": {
     "name": "#%%\n"
    }
   }
  }
 ],
 "metadata": {
  "kernelspec": {
   "display_name": "Python 3",
   "language": "python",
   "name": "python3"
  },
  "language_info": {
   "codemirror_mode": {
    "name": "ipython",
    "version": 2
   },
   "file_extension": ".py",
   "mimetype": "text/x-python",
   "name": "python",
   "nbconvert_exporter": "python",
   "pygments_lexer": "ipython2",
   "version": "2.7.6"
  }
 },
 "nbformat": 4,
 "nbformat_minor": 0
}