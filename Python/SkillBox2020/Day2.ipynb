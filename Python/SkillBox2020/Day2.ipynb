{
 "cells": [
  {
   "cell_type": "code",
   "execution_count": 26,
   "metadata": {},
   "outputs": [],
   "source": [
    "import pandas as pd"
   ]
  },
  {
   "cell_type": "code",
   "execution_count": 27,
   "metadata": {},
   "outputs": [],
   "source": [
    "money = pd.read_excel(\"USD_CURRENCY.xlsx\")"
   ]
  },
  {
   "cell_type": "code",
   "execution_count": 28,
   "metadata": {},
   "outputs": [
    {
     "data": {
      "text/html": [
       "<div>\n",
       "<style scoped>\n",
       "    .dataframe tbody tr th:only-of-type {\n",
       "        vertical-align: middle;\n",
       "    }\n",
       "\n",
       "    .dataframe tbody tr th {\n",
       "        vertical-align: top;\n",
       "    }\n",
       "\n",
       "    .dataframe thead th {\n",
       "        text-align: right;\n",
       "    }\n",
       "</style>\n",
       "<table border=\"1\" class=\"dataframe\">\n",
       "  <thead>\n",
       "    <tr style=\"text-align: right;\">\n",
       "      <th></th>\n",
       "      <th>nominal</th>\n",
       "      <th>curs</th>\n",
       "    </tr>\n",
       "  </thead>\n",
       "  <tbody>\n",
       "    <tr>\n",
       "      <td>count</td>\n",
       "      <td>494.0</td>\n",
       "      <td>494.000000</td>\n",
       "    </tr>\n",
       "    <tr>\n",
       "      <td>mean</td>\n",
       "      <td>1.0</td>\n",
       "      <td>63.766919</td>\n",
       "    </tr>\n",
       "    <tr>\n",
       "      <td>std</td>\n",
       "      <td>0.0</td>\n",
       "      <td>3.106659</td>\n",
       "    </tr>\n",
       "    <tr>\n",
       "      <td>min</td>\n",
       "      <td>1.0</td>\n",
       "      <td>55.671700</td>\n",
       "    </tr>\n",
       "    <tr>\n",
       "      <td>25%</td>\n",
       "      <td>1.0</td>\n",
       "      <td>62.759525</td>\n",
       "    </tr>\n",
       "    <tr>\n",
       "      <td>50%</td>\n",
       "      <td>1.0</td>\n",
       "      <td>64.244550</td>\n",
       "    </tr>\n",
       "    <tr>\n",
       "      <td>75%</td>\n",
       "      <td>1.0</td>\n",
       "      <td>65.809775</td>\n",
       "    </tr>\n",
       "    <tr>\n",
       "      <td>max</td>\n",
       "      <td>1.0</td>\n",
       "      <td>69.974400</td>\n",
       "    </tr>\n",
       "  </tbody>\n",
       "</table>\n",
       "</div>"
      ],
      "text/plain": [
       "       nominal        curs\n",
       "count    494.0  494.000000\n",
       "mean       1.0   63.766919\n",
       "std        0.0    3.106659\n",
       "min        1.0   55.671700\n",
       "25%        1.0   62.759525\n",
       "50%        1.0   64.244550\n",
       "75%        1.0   65.809775\n",
       "max        1.0   69.974400"
      ]
     },
     "execution_count": 28,
     "metadata": {},
     "output_type": "execute_result"
    }
   ],
   "source": [
    "money.describe()"
   ]
  },
  {
   "cell_type": "code",
   "execution_count": 29,
   "metadata": {},
   "outputs": [],
   "source": [
    "future = 7 # будем предсказывать курс на 7 дней вперед\n",
    "past = 28 # используя данные о курсе за 28 дней назад"
   ]
  },
  {
   "cell_type": "code",
   "execution_count": 30,
   "metadata": {},
   "outputs": [],
   "source": [
    "import sklearn"
   ]
  },
  {
   "cell_type": "code",
   "execution_count": 31,
   "metadata": {
    "scrolled": true
   },
   "outputs": [
    {
     "data": {
      "text/html": [
       "<div>\n",
       "<style scoped>\n",
       "    .dataframe tbody tr th:only-of-type {\n",
       "        vertical-align: middle;\n",
       "    }\n",
       "\n",
       "    .dataframe tbody tr th {\n",
       "        vertical-align: top;\n",
       "    }\n",
       "\n",
       "    .dataframe thead th {\n",
       "        text-align: right;\n",
       "    }\n",
       "</style>\n",
       "<table border=\"1\" class=\"dataframe\">\n",
       "  <thead>\n",
       "    <tr style=\"text-align: right;\">\n",
       "      <th></th>\n",
       "      <th>nominal</th>\n",
       "      <th>data</th>\n",
       "      <th>curs</th>\n",
       "      <th>cdx</th>\n",
       "    </tr>\n",
       "  </thead>\n",
       "  <tbody>\n",
       "    <tr>\n",
       "      <td>0</td>\n",
       "      <td>1</td>\n",
       "      <td>2018-01-10</td>\n",
       "      <td>57.0463</td>\n",
       "      <td>Доллар США</td>\n",
       "    </tr>\n",
       "    <tr>\n",
       "      <td>1</td>\n",
       "      <td>1</td>\n",
       "      <td>2018-01-11</td>\n",
       "      <td>56.8734</td>\n",
       "      <td>Доллар США</td>\n",
       "    </tr>\n",
       "    <tr>\n",
       "      <td>2</td>\n",
       "      <td>1</td>\n",
       "      <td>2018-01-12</td>\n",
       "      <td>56.9957</td>\n",
       "      <td>Доллар США</td>\n",
       "    </tr>\n",
       "    <tr>\n",
       "      <td>3</td>\n",
       "      <td>1</td>\n",
       "      <td>2018-01-13</td>\n",
       "      <td>56.6019</td>\n",
       "      <td>Доллар США</td>\n",
       "    </tr>\n",
       "    <tr>\n",
       "      <td>4</td>\n",
       "      <td>1</td>\n",
       "      <td>2018-01-16</td>\n",
       "      <td>56.3569</td>\n",
       "      <td>Доллар США</td>\n",
       "    </tr>\n",
       "    <tr>\n",
       "      <td>...</td>\n",
       "      <td>...</td>\n",
       "      <td>...</td>\n",
       "      <td>...</td>\n",
       "      <td>...</td>\n",
       "    </tr>\n",
       "    <tr>\n",
       "      <td>489</td>\n",
       "      <td>1</td>\n",
       "      <td>2019-12-26</td>\n",
       "      <td>61.7164</td>\n",
       "      <td>Доллар США</td>\n",
       "    </tr>\n",
       "    <tr>\n",
       "      <td>490</td>\n",
       "      <td>1</td>\n",
       "      <td>2019-12-27</td>\n",
       "      <td>61.7676</td>\n",
       "      <td>Доллар США</td>\n",
       "    </tr>\n",
       "    <tr>\n",
       "      <td>491</td>\n",
       "      <td>1</td>\n",
       "      <td>2019-12-28</td>\n",
       "      <td>62.0315</td>\n",
       "      <td>Доллар США</td>\n",
       "    </tr>\n",
       "    <tr>\n",
       "      <td>492</td>\n",
       "      <td>1</td>\n",
       "      <td>2019-12-31</td>\n",
       "      <td>61.9057</td>\n",
       "      <td>Доллар США</td>\n",
       "    </tr>\n",
       "    <tr>\n",
       "      <td>493</td>\n",
       "      <td>1</td>\n",
       "      <td>2020-01-01</td>\n",
       "      <td>61.9057</td>\n",
       "      <td>Доллар США</td>\n",
       "    </tr>\n",
       "  </tbody>\n",
       "</table>\n",
       "<p>494 rows × 4 columns</p>\n",
       "</div>"
      ],
      "text/plain": [
       "     nominal       data     curs         cdx\n",
       "0          1 2018-01-10  57.0463  Доллар США\n",
       "1          1 2018-01-11  56.8734  Доллар США\n",
       "2          1 2018-01-12  56.9957  Доллар США\n",
       "3          1 2018-01-13  56.6019  Доллар США\n",
       "4          1 2018-01-16  56.3569  Доллар США\n",
       "..       ...        ...      ...         ...\n",
       "489        1 2019-12-26  61.7164  Доллар США\n",
       "490        1 2019-12-27  61.7676  Доллар США\n",
       "491        1 2019-12-28  62.0315  Доллар США\n",
       "492        1 2019-12-31  61.9057  Доллар США\n",
       "493        1 2020-01-01  61.9057  Доллар США\n",
       "\n",
       "[494 rows x 4 columns]"
      ]
     },
     "execution_count": 31,
     "metadata": {},
     "output_type": "execute_result"
    }
   ],
   "source": [
    "money"
   ]
  },
  {
   "cell_type": "code",
   "execution_count": 32,
   "metadata": {},
   "outputs": [],
   "source": [
    "values = money.curs"
   ]
  },
  {
   "cell_type": "code",
   "execution_count": 33,
   "metadata": {},
   "outputs": [],
   "source": [
    "start = past\n",
    "end = len(values) - future"
   ]
  },
  {
   "cell_type": "code",
   "execution_count": 37,
   "metadata": {},
   "outputs": [],
   "source": [
    "raw_data = []\n",
    "for i in range(start, end):#берем только данные с которыми можно работать\n",
    "    past_and_future_values = values[(i-past):(i+future)] #список из 35 элементов относительно текущей строки\n",
    "    raw_data.append(list(past_and_future_values))\n",
    "    "
   ]
  },
  {
   "cell_type": "code",
   "execution_count": 38,
   "metadata": {},
   "outputs": [
    {
     "data": {
      "text/plain": [
       "['future_0',\n",
       " 'future_1',\n",
       " 'future_2',\n",
       " 'future_3',\n",
       " 'future_4',\n",
       " 'future_5',\n",
       " 'future_6']"
      ]
     },
     "execution_count": 38,
     "metadata": {},
     "output_type": "execute_result"
    }
   ],
   "source": [
    "past_columns = []\n",
    "for i in range(past):\n",
    "    past_columns.append(\"past_{}\".format(i))\n",
    " \n",
    "future_columns = []\n",
    "for i in range(future):\n",
    "    future_columns.append(\"future_{}\".format(i))\n",
    "\n",
    "future_columns"
   ]
  },
  {
   "cell_type": "code",
   "execution_count": 40,
   "metadata": {},
   "outputs": [
    {
     "data": {
      "text/html": [
       "<div>\n",
       "<style scoped>\n",
       "    .dataframe tbody tr th:only-of-type {\n",
       "        vertical-align: middle;\n",
       "    }\n",
       "\n",
       "    .dataframe tbody tr th {\n",
       "        vertical-align: top;\n",
       "    }\n",
       "\n",
       "    .dataframe thead th {\n",
       "        text-align: right;\n",
       "    }\n",
       "</style>\n",
       "<table border=\"1\" class=\"dataframe\">\n",
       "  <thead>\n",
       "    <tr style=\"text-align: right;\">\n",
       "      <th></th>\n",
       "      <th>past_0</th>\n",
       "      <th>past_1</th>\n",
       "      <th>past_2</th>\n",
       "      <th>past_3</th>\n",
       "      <th>past_4</th>\n",
       "      <th>past_5</th>\n",
       "      <th>past_6</th>\n",
       "      <th>past_7</th>\n",
       "      <th>past_8</th>\n",
       "      <th>past_9</th>\n",
       "      <th>...</th>\n",
       "      <th>past_25</th>\n",
       "      <th>past_26</th>\n",
       "      <th>past_27</th>\n",
       "      <th>future_0</th>\n",
       "      <th>future_1</th>\n",
       "      <th>future_2</th>\n",
       "      <th>future_3</th>\n",
       "      <th>future_4</th>\n",
       "      <th>future_5</th>\n",
       "      <th>future_6</th>\n",
       "    </tr>\n",
       "  </thead>\n",
       "  <tbody>\n",
       "    <tr>\n",
       "      <td>0</td>\n",
       "      <td>57.0463</td>\n",
       "      <td>56.8734</td>\n",
       "      <td>56.9957</td>\n",
       "      <td>56.6019</td>\n",
       "      <td>56.3569</td>\n",
       "      <td>56.3878</td>\n",
       "      <td>56.5925</td>\n",
       "      <td>56.7597</td>\n",
       "      <td>56.5892</td>\n",
       "      <td>56.6261</td>\n",
       "      <td>...</td>\n",
       "      <td>57.7701</td>\n",
       "      <td>57.5899</td>\n",
       "      <td>56.5918</td>\n",
       "      <td>56.3554</td>\n",
       "      <td>56.3438</td>\n",
       "      <td>56.5201</td>\n",
       "      <td>56.6537</td>\n",
       "      <td>56.7608</td>\n",
       "      <td>55.9208</td>\n",
       "      <td>55.6717</td>\n",
       "    </tr>\n",
       "    <tr>\n",
       "      <td>1</td>\n",
       "      <td>56.8734</td>\n",
       "      <td>56.9957</td>\n",
       "      <td>56.6019</td>\n",
       "      <td>56.3569</td>\n",
       "      <td>56.3878</td>\n",
       "      <td>56.5925</td>\n",
       "      <td>56.7597</td>\n",
       "      <td>56.5892</td>\n",
       "      <td>56.6261</td>\n",
       "      <td>56.4115</td>\n",
       "      <td>...</td>\n",
       "      <td>57.5899</td>\n",
       "      <td>56.5918</td>\n",
       "      <td>56.3554</td>\n",
       "      <td>56.3438</td>\n",
       "      <td>56.5201</td>\n",
       "      <td>56.6537</td>\n",
       "      <td>56.7608</td>\n",
       "      <td>55.9208</td>\n",
       "      <td>55.6717</td>\n",
       "      <td>56.3742</td>\n",
       "    </tr>\n",
       "    <tr>\n",
       "      <td>2</td>\n",
       "      <td>56.9957</td>\n",
       "      <td>56.6019</td>\n",
       "      <td>56.3569</td>\n",
       "      <td>56.3878</td>\n",
       "      <td>56.5925</td>\n",
       "      <td>56.7597</td>\n",
       "      <td>56.5892</td>\n",
       "      <td>56.6261</td>\n",
       "      <td>56.4115</td>\n",
       "      <td>56.3888</td>\n",
       "      <td>...</td>\n",
       "      <td>56.5918</td>\n",
       "      <td>56.3554</td>\n",
       "      <td>56.3438</td>\n",
       "      <td>56.5201</td>\n",
       "      <td>56.6537</td>\n",
       "      <td>56.7608</td>\n",
       "      <td>55.9208</td>\n",
       "      <td>55.6717</td>\n",
       "      <td>56.3742</td>\n",
       "      <td>56.4334</td>\n",
       "    </tr>\n",
       "    <tr>\n",
       "      <td>3</td>\n",
       "      <td>56.6019</td>\n",
       "      <td>56.3569</td>\n",
       "      <td>56.3878</td>\n",
       "      <td>56.5925</td>\n",
       "      <td>56.7597</td>\n",
       "      <td>56.5892</td>\n",
       "      <td>56.6261</td>\n",
       "      <td>56.4115</td>\n",
       "      <td>56.3888</td>\n",
       "      <td>55.9288</td>\n",
       "      <td>...</td>\n",
       "      <td>56.3554</td>\n",
       "      <td>56.3438</td>\n",
       "      <td>56.5201</td>\n",
       "      <td>56.6537</td>\n",
       "      <td>56.7608</td>\n",
       "      <td>55.9208</td>\n",
       "      <td>55.6717</td>\n",
       "      <td>56.3742</td>\n",
       "      <td>56.4334</td>\n",
       "      <td>56.6616</td>\n",
       "    </tr>\n",
       "    <tr>\n",
       "      <td>4</td>\n",
       "      <td>56.3569</td>\n",
       "      <td>56.3878</td>\n",
       "      <td>56.5925</td>\n",
       "      <td>56.7597</td>\n",
       "      <td>56.5892</td>\n",
       "      <td>56.6261</td>\n",
       "      <td>56.4115</td>\n",
       "      <td>56.3888</td>\n",
       "      <td>55.9288</td>\n",
       "      <td>55.8288</td>\n",
       "      <td>...</td>\n",
       "      <td>56.3438</td>\n",
       "      <td>56.5201</td>\n",
       "      <td>56.6537</td>\n",
       "      <td>56.7608</td>\n",
       "      <td>55.9208</td>\n",
       "      <td>55.6717</td>\n",
       "      <td>56.3742</td>\n",
       "      <td>56.4334</td>\n",
       "      <td>56.6616</td>\n",
       "      <td>57.1000</td>\n",
       "    </tr>\n",
       "  </tbody>\n",
       "</table>\n",
       "<p>5 rows × 35 columns</p>\n",
       "</div>"
      ],
      "text/plain": [
       "    past_0   past_1   past_2   past_3   past_4   past_5   past_6   past_7  \\\n",
       "0  57.0463  56.8734  56.9957  56.6019  56.3569  56.3878  56.5925  56.7597   \n",
       "1  56.8734  56.9957  56.6019  56.3569  56.3878  56.5925  56.7597  56.5892   \n",
       "2  56.9957  56.6019  56.3569  56.3878  56.5925  56.7597  56.5892  56.6261   \n",
       "3  56.6019  56.3569  56.3878  56.5925  56.7597  56.5892  56.6261  56.4115   \n",
       "4  56.3569  56.3878  56.5925  56.7597  56.5892  56.6261  56.4115  56.3888   \n",
       "\n",
       "    past_8   past_9  ...  past_25  past_26  past_27  future_0  future_1  \\\n",
       "0  56.5892  56.6261  ...  57.7701  57.5899  56.5918   56.3554   56.3438   \n",
       "1  56.6261  56.4115  ...  57.5899  56.5918  56.3554   56.3438   56.5201   \n",
       "2  56.4115  56.3888  ...  56.5918  56.3554  56.3438   56.5201   56.6537   \n",
       "3  56.3888  55.9288  ...  56.3554  56.3438  56.5201   56.6537   56.7608   \n",
       "4  55.9288  55.8288  ...  56.3438  56.5201  56.6537   56.7608   55.9208   \n",
       "\n",
       "   future_2  future_3  future_4  future_5  future_6  \n",
       "0   56.5201   56.6537   56.7608   55.9208   55.6717  \n",
       "1   56.6537   56.7608   55.9208   55.6717   56.3742  \n",
       "2   56.7608   55.9208   55.6717   56.3742   56.4334  \n",
       "3   55.9208   55.6717   56.3742   56.4334   56.6616  \n",
       "4   55.6717   56.3742   56.4334   56.6616   57.1000  \n",
       "\n",
       "[5 rows x 35 columns]"
      ]
     },
     "execution_count": 40,
     "metadata": {},
     "output_type": "execute_result"
    }
   ],
   "source": [
    "df = pd.DataFrame(raw_data, columns = (past_columns + future_columns))\n",
    "df.head()"
   ]
  },
  {
   "cell_type": "code",
   "execution_count": 41,
   "metadata": {},
   "outputs": [
    {
     "data": {
      "text/plain": [
       "(459, 35)"
      ]
     },
     "execution_count": 41,
     "metadata": {},
     "output_type": "execute_result"
    }
   ],
   "source": [
    "df.shape"
   ]
  },
  {
   "cell_type": "markdown",
   "metadata": {},
   "source": [
    "## тренировочная выборка\n",
    "нужна для обучения модели\n",
    "по сути это учебник, на ней модель обучеается и знает как жить в дальнейшем"
   ]
  },
  {
   "cell_type": "code",
   "execution_count": 56,
   "metadata": {},
   "outputs": [],
   "source": [
    "x = df[past_columns][:-1] #вход модели, то что для предсказания"
   ]
  },
  {
   "cell_type": "code",
   "execution_count": 57,
   "metadata": {},
   "outputs": [],
   "source": [
    "y = df[future_columns][:-1]# таргет, то что мы хотим предсказать"
   ]
  },
  {
   "cell_type": "markdown",
   "metadata": {},
   "source": [
    "## тестовая выборка\n",
    "на ней мы проверяем качество модели, насколько хорошо она обучилась для модели \n",
    "линейной регрессии"
   ]
  },
  {
   "cell_type": "code",
   "execution_count": 54,
   "metadata": {},
   "outputs": [],
   "source": [
    "x_test = df[past_columns][-1:]\n",
    "y_test = df[future_columns][-1:]"
   ]
  },
  {
   "cell_type": "code",
   "execution_count": 48,
   "metadata": {},
   "outputs": [],
   "source": [
    "from sklearn.linear_model import LinearRegression"
   ]
  },
  {
   "cell_type": "code",
   "execution_count": 49,
   "metadata": {},
   "outputs": [],
   "source": [
    "LinReg = LinearRegression()"
   ]
  },
  {
   "cell_type": "code",
   "execution_count": 58,
   "metadata": {},
   "outputs": [
    {
     "data": {
      "text/plain": [
       "LinearRegression(copy_X=True, fit_intercept=True, n_jobs=None, normalize=False)"
      ]
     },
     "execution_count": 58,
     "metadata": {},
     "output_type": "execute_result"
    }
   ],
   "source": [
    "LinReg.fit(x,y) # обучение модели свелось к этой единственной строке(готовый алогоритм)"
   ]
  },
  {
   "cell_type": "code",
   "execution_count": 64,
   "metadata": {},
   "outputs": [],
   "source": [
    "prediction = LinReg.predict(x_test)[0]"
   ]
  },
  {
   "cell_type": "code",
   "execution_count": 65,
   "metadata": {},
   "outputs": [],
   "source": [
    "import matplotlib.pyplot as plt"
   ]
  },
  {
   "cell_type": "code",
   "execution_count": 66,
   "metadata": {},
   "outputs": [
    {
     "data": {
      "text/plain": [
       "<matplotlib.legend.Legend at 0x7fea43026d10>"
      ]
     },
     "execution_count": 66,
     "metadata": {},
     "output_type": "execute_result"
    },
    {
     "data": {
      "image/png": "[encoded data removed]",
      "text/plain": [
       "<Figure size 432x288 with 1 Axes>"
      ]
     },
     "metadata": {
      "needs_background": "light"
     },
     "output_type": "display_data"
    }
   ],
   "source": [
    "plt.plot(prediction, label = \"prediction\")\n",
    "plt.plot(y_test.iloc[0], label = \"real\")\n",
    "plt.legend()"
   ]
  },
  {
   "cell_type": "code",
   "execution_count": 67,
   "metadata": {},
   "outputs": [],
   "source": [
    "from sklearn.metrics import mean_absolute_error"
   ]
  },
  {
   "cell_type": "code",
   "execution_count": 68,
   "metadata": {},
   "outputs": [
    {
     "data": {
      "text/plain": [
       "0.8024480001128244"
      ]
     },
     "execution_count": 68,
     "metadata": {},
     "output_type": "execute_result"
    }
   ],
   "source": [
    "mean_absolute_error(y_test, [prediction])"
   ]
  },
  {
   "cell_type": "code",
   "execution_count": 71,
   "metadata": {},
   "outputs": [],
   "source": [
    " from sklearn.neighbors import KNeighborsRegressor\n"
   ]
  },
  {
   "cell_type": "code",
   "execution_count": 82,
   "metadata": {},
   "outputs": [],
   "source": [
    "KNN = KNeighborsRegressor(n_neighbors = 1)"
   ]
  },
  {
   "cell_type": "code",
   "execution_count": 83,
   "metadata": {},
   "outputs": [
    {
     "data": {
      "text/plain": [
       "KNeighborsRegressor(algorithm='auto', leaf_size=30, metric='minkowski',\n",
       "                    metric_params=None, n_jobs=None, n_neighbors=1, p=2,\n",
       "                    weights='uniform')"
      ]
     },
     "execution_count": 83,
     "metadata": {},
     "output_type": "execute_result"
    }
   ],
   "source": [
    "KNN.fit(x,y)"
   ]
  },
  {
   "cell_type": "code",
   "execution_count": 84,
   "metadata": {},
   "outputs": [],
   "source": [
    "prediction = KNN.predict(x_test)[0]"
   ]
  },
  {
   "cell_type": "code",
   "execution_count": 85,
   "metadata": {},
   "outputs": [
    {
     "data": {
      "text/plain": [
       "0.17897142857142864"
      ]
     },
     "execution_count": 85,
     "metadata": {},
     "output_type": "execute_result"
    }
   ],
   "source": [
    "mean_absolute_error(y_test, [prediction])"
   ]
  },
  {
   "cell_type": "code",
   "execution_count": 86,
   "metadata": {},
   "outputs": [
    {
     "data": {
      "text/plain": [
       "<matplotlib.legend.Legend at 0x7fea4309f790>"
      ]
     },
     "execution_count": 86,
     "metadata": {},
     "output_type": "execute_result"
    },
    {
     "data": {
      "image/png": "[encoded data removed]",
      "text/plain": [
       "<Figure size 432x288 with 1 Axes>"
      ]
     },
     "metadata": {
      "needs_background": "light"
     },
     "output_type": "display_data"
    }
   ],
   "source": [
    "plt.plot(prediction, label = \"prediction\")\n",
    "plt.plot(y_test.iloc[0], label = \"real\")\n",
    "plt.legend()"
   ]
  },
  {
   "cell_type": "code",
   "execution_count": 87,
   "metadata": {},
   "outputs": [],
   "source": [
    "from sklearn.neural_network import MLPRegressor"
   ]
  },
  {
   "cell_type": "code",
   "execution_count": 140,
   "metadata": {},
   "outputs": [],
   "source": [
    "MLP = MLPRegressor(max_iter = 5000, hidden_layer_sizes = (100, 100, 100), random_state = 42)"
   ]
  },
  {
   "cell_type": "code",
   "execution_count": 141,
   "metadata": {},
   "outputs": [
    {
     "data": {
      "text/plain": [
       "MLPRegressor(activation='relu', alpha=0.0001, batch_size='auto', beta_1=0.9,\n",
       "             beta_2=0.999, early_stopping=False, epsilon=1e-08,\n",
       "             hidden_layer_sizes=(100, 100, 100), learning_rate='constant',\n",
       "             learning_rate_init=0.001, max_iter=5000, momentum=0.9,\n",
       "             n_iter_no_change=10, nesterovs_momentum=True, power_t=0.5,\n",
       "             random_state=42, shuffle=True, solver='adam', tol=0.0001,\n",
       "             validation_fraction=0.1, verbose=False, warm_start=False)"
      ]
     },
     "execution_count": 141,
     "metadata": {},
     "output_type": "execute_result"
    }
   ],
   "source": [
    "MLP.fit(x,y)"
   ]
  },
  {
   "cell_type": "code",
   "execution_count": 142,
   "metadata": {},
   "outputs": [],
   "source": [
    "prediction = MLP.predict(x_test)[0]"
   ]
  },
  {
   "cell_type": "code",
   "execution_count": 143,
   "metadata": {},
   "outputs": [
    {
     "data": {
      "text/plain": [
       "1.3903995319095566"
      ]
     },
     "execution_count": 143,
     "metadata": {},
     "output_type": "execute_result"
    }
   ],
   "source": [
    "mean_absolute_error(y_test, [prediction])"
   ]
  },
  {
   "cell_type": "code",
   "execution_count": 144,
   "metadata": {},
   "outputs": [
    {
     "data": {
      "text/plain": [
       "<matplotlib.legend.Legend at 0x7fea42b08610>"
      ]
     },
     "execution_count": 144,
     "metadata": {},
     "output_type": "execute_result"
    },
    {
     "data": {
      "image/png": "[encoded data removed]",
      "text/plain": [
       "<Figure size 432x288 with 1 Axes>"
      ]
     },
     "metadata": {
      "needs_background": "light"
     },
     "output_type": "display_data"
    }
   ],
   "source": [
    "plt.plot(prediction, label = \"prediction\")\n",
    "plt.plot(y_test.iloc[0], label = \"real\")\n",
    "plt.legend()"
   ]
  },
  {
   "cell_type": "code",
   "execution_count": null,
   "metadata": {},
   "outputs": [],
   "source": []
  }
 ],
 "metadata": {
  "kernelspec": {
   "display_name": "Python 3",
   "language": "python",
   "name": "python3"
  },
  "language_info": {
   "codemirror_mode": {
    "name": "ipython",
    "version": 3
   },
   "file_extension": ".py",
   "mimetype": "text/x-python",
   "name": "python",
   "nbconvert_exporter": "python",
   "pygments_lexer": "ipython3",
   "version": "3.7.4"
  }
 },
 "nbformat": 4,
 "nbformat_minor": 2
}
