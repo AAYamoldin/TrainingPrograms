{
 "cells": [
  {
   "cell_type": "code",
   "execution_count": 11,
   "metadata": {},
   "outputs": [],
   "source": [
    "import pandas as pd\n",
    "money = pd.read_excel(\"USD_CURRENCY.xlsx\")\n",
    "future = 7 # будем предсказывать курс на 7 дней вперед\n",
    "past = 28 # используя данные о курсе за 28 дней назад\n",
    "import sklearn\n",
    "values = money.curs\n",
    "start = past\n",
    "end = len(values) - future"
   ]
  },
  {
   "cell_type": "code",
   "execution_count": 12,
   "metadata": {},
   "outputs": [],
   "source": [
    "raw_data = []\n",
    "for i in range(start, end):#берем только данные с которыми можно работать\n",
    "    past_and_future_values = values[(i-past):(i+future)] #список из 35 элементов относительно текущей строки\n",
    "    raw_data.append(list(past_and_future_values))"
   ]
  },
  {
   "cell_type": "code",
   "execution_count": 13,
   "metadata": {},
   "outputs": [],
   "source": [
    "past_columns = []\n",
    "for i in range(past):\n",
    "    past_columns.append(\"past_{}\".format(i))\n",
    " \n",
    "future_columns = []\n",
    "for i in range(future):\n",
    "    future_columns.append(\"future_{}\".format(i))"
   ]
  },
  {
   "cell_type": "code",
   "execution_count": 14,
   "metadata": {},
   "outputs": [],
   "source": [
    "df = pd.DataFrame(raw_data, columns = (past_columns + future_columns))"
   ]
  },
  {
   "cell_type": "markdown",
   "metadata": {},
   "source": [
    "Тренировочная выборка"
   ]
  },
  {
   "cell_type": "code",
   "execution_count": 15,
   "metadata": {},
   "outputs": [],
   "source": [
    "x = df[past_columns][:-1] #вход модели, то что для предсказания\n",
    "y = df[future_columns][:-1]# таргет, то что мы хотим предсказать"
   ]
  },
  {
   "cell_type": "markdown",
   "metadata": {},
   "source": [
    "Тестовая выборка"
   ]
  },
  {
   "cell_type": "code",
   "execution_count": 16,
   "metadata": {},
   "outputs": [],
   "source": [
    "x_test = df[past_columns][-1:]\n",
    "y_test = df[future_columns][-1:]"
   ]
  },
  {
   "cell_type": "code",
   "execution_count": 17,
   "metadata": {
    "scrolled": true
   },
   "outputs": [
    {
     "name": "stderr",
     "output_type": "stream",
     "text": [
      "/home/yamoldin/anaconda3/lib/python3.7/site-packages/sklearn/neural_network/multilayer_perceptron.py:566: ConvergenceWarning: Stochastic Optimizer: Maximum iterations (501) reached and the optimization hasn't converged yet.\n",
      "  % self.max_iter, ConvergenceWarning)\n",
      "/home/yamoldin/anaconda3/lib/python3.7/site-packages/sklearn/neural_network/multilayer_perceptron.py:566: ConvergenceWarning: Stochastic Optimizer: Maximum iterations (502) reached and the optimization hasn't converged yet.\n",
      "  % self.max_iter, ConvergenceWarning)\n",
      "/home/yamoldin/anaconda3/lib/python3.7/site-packages/sklearn/neural_network/multilayer_perceptron.py:566: ConvergenceWarning: Stochastic Optimizer: Maximum iterations (506) reached and the optimization hasn't converged yet.\n",
      "  % self.max_iter, ConvergenceWarning)\n",
      "/home/yamoldin/anaconda3/lib/python3.7/site-packages/sklearn/neural_network/multilayer_perceptron.py:566: ConvergenceWarning: Stochastic Optimizer: Maximum iterations (507) reached and the optimization hasn't converged yet.\n",
      "  % self.max_iter, ConvergenceWarning)\n",
      "/home/yamoldin/anaconda3/lib/python3.7/site-packages/sklearn/neural_network/multilayer_perceptron.py:566: ConvergenceWarning: Stochastic Optimizer: Maximum iterations (522) reached and the optimization hasn't converged yet.\n",
      "  % self.max_iter, ConvergenceWarning)\n"
     ]
    },
    {
     "data": {
      "text/plain": [
       "0.6890956412360926"
      ]
     },
     "execution_count": 17,
     "metadata": {},
     "output_type": "execute_result"
    }
   ],
   "source": [
    "from sklearn.neural_network import MLPRegressor\n",
    "result = 2\n",
    "number_of_iteration = 0\n",
    "iter = 500\n",
    "minresult = 1.39\n",
    " # для вывода наилучшего предсказания среди 1000 итераций(снять хэштег)\n",
    "#while 1:  \n",
    "while minresult > 0.7: \n",
    "    number_of_iteration = number_of_iteration + 1\n",
    "    if number_of_iteration > 1000:\n",
    "        minresult\n",
    "        break\n",
    "    iter = iter + 1;\n",
    "    MLP = MLPRegressor(max_iter = iter, hidden_layer_sizes = (iter-499, iter-499 , iter-499), random_state = 42)\n",
    "    MLP.fit(x,y)\n",
    "    prediction = MLP.predict(x_test)[0]\n",
    "    from sklearn.metrics import mean_absolute_error\n",
    "    result = mean_absolute_error(y_test, [prediction])\n",
    "    if result < minresult:\n",
    "        minresult = result\n",
    "minresult"
   ]
  },
  {
   "cell_type": "code",
   "execution_count": 18,
   "metadata": {},
   "outputs": [
    {
     "data": {
      "text/plain": [
       "1.0378240738202413"
      ]
     },
     "execution_count": 18,
     "metadata": {},
     "output_type": "execute_result"
    }
   ],
   "source": [
    "from sklearn.cross_decomposition import PLSRegression\n",
    "PLS = PLSRegression();\n",
    "PLS.fit(x,y)\n",
    "prediction = PLS.predict(x_test)[0]\n",
    "from sklearn.metrics import mean_absolute_error\n",
    "result = mean_absolute_error(y_test, [prediction])\n",
    "i = 0\n",
    "iter = 500\n",
    "tol = 10\n",
    "minresult = 1.39\n",
    "while 1:\n",
    "    if i > 10000:\n",
    "        minresult\n",
    "        break\n",
    "    #for i in range(3):\n",
    "    i = i + 1\n",
    "    PLS = PLSRegression(max_iter = iter + i, n_components = 2, tol = 1e-06 + iter)\n",
    "    PLS.fit(x,y)\n",
    "    prediction = PLS.predict(x_test)[0]\n",
    "    from sklearn.metrics import mean_absolute_error\n",
    "    result = mean_absolute_error(y_test, [prediction])\n",
    "    if result < minresult:\n",
    "        minresult = result\n",
    "minresult"
   ]
  },
  {
   "cell_type": "code",
   "execution_count": 19,
   "metadata": {},
   "outputs": [
    {
     "data": {
      "text/plain": [
       "<matplotlib.legend.Legend at 0x7f777dbdd450>"
      ]
     },
     "execution_count": 19,
     "metadata": {},
     "output_type": "execute_result"
    },
    {
     "data": {
      "image/png": "[encoded data removed]",
      "text/plain": [
       "<Figure size 432x288 with 1 Axes>"
      ]
     },
     "metadata": {
      "needs_background": "light"
     },
     "output_type": "display_data"
    }
   ],
   "source": [
    "import matplotlib.pyplot as plt\n",
    "plt.plot(prediction, label = \"prediction\")\n",
    "plt.plot(y_test.iloc[0], label = \"real\")\n",
    "plt.legend()"
   ]
  },
  {
   "cell_type": "code",
   "execution_count": null,
   "metadata": {},
   "outputs": [],
   "source": [
    " # простите меня, я просто не успеваю сделать нормальную модель в итоге обучил первую попавшуюся"
   ]
  }
 ],
 "metadata": {
  "kernelspec": {
   "display_name": "Python 3",
   "language": "python",
   "name": "python3"
  },
  "language_info": {
   "codemirror_mode": {
    "name": "ipython",
    "version": 3
   },
   "file_extension": ".py",
   "mimetype": "text/x-python",
   "name": "python",
   "nbconvert_exporter": "python",
   "pygments_lexer": "ipython3",
   "version": "3.7.4"
  }
 },
 "nbformat": 4,
 "nbformat_minor": 2
}
