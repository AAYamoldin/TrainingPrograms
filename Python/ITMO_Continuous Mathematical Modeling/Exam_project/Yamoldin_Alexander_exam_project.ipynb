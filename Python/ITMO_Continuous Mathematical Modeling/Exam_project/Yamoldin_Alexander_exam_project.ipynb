{
 "cells": [
  {
   "cell_type": "code",
   "execution_count": 1,
   "outputs": [],
   "source": [
    "#https://www.unaids.org/sites/default/files/country/documents/KAZ_2020_countryreport.pdf\n",
    "#https://ru.wikipedia.org/wiki/Население_Казахстана\n",
    "#fertility and death in https://ru.wikipedia.org/wiki/Население_Казахстана\n",
    "#transition https://www.who.int/news-room/fact-sheets/detail/hiv-aids\n",
    "#model https://cyberleninka.ru/article/n/hiv-incidence-in-russia-sir-epidemic-model-based-analysis"
   ],
   "metadata": {
    "collapsed": false,
    "pycharm": {
     "name": "#%%\n"
    }
   }
  },
  {
   "cell_type": "code",
   "execution_count": 2,
   "outputs": [],
   "source": [
    "import pandas as pd\n",
    "import numpy as np\n",
    "from scipy.integrate import odeint\n",
    "from scipy.optimize import minimize\n",
    "from sklearn.metrics import mean_squared_error\n",
    "from matplotlib import pyplot as plt"
   ],
   "metadata": {
    "collapsed": false,
    "pycharm": {
     "name": "#%%\n"
    }
   }
  },
  {
   "cell_type": "code",
   "execution_count": 3,
   "outputs": [
    {
     "data": {
      "text/plain": "   year           S      I      R  Iisol  total_population per 1000  \\\n0  2010  16142972.0  11500  51045    900                  16204.617   \n1  2011  16376801.0  12100  54258   1200                  16441.959   \n2  2012  16609663.0  12500  55029   1800                  16675.392   \n3  2013  16847238.0  14200  53273   2800                  16911.911   \n4  2014  17100085.0  15900  52354   3100                  17165.239   \n5  2015  17352725.0  16500  52252   4000                  17417.477   \n6  2016  17604544.0  18500  53013   5100                  17670.957   \n7  2017  17858626.0  20800  54674   8100                  17926.000   \n8  2018  18086834.0  22600  58103  10200                  18157.337   \n9  2019  18349635.0  26000  34032  14100                  18395.567   \n\n        total  \n0  16204617.0  \n1  16441959.0  \n2  16675392.0  \n3  16911911.0  \n4  17165239.0  \n5  17417477.0  \n6  17670957.0  \n7  17926000.0  \n8  18157337.0  \n9  18395567.0  ",
      "text/html": "<div>\n<style scoped>\n    .dataframe tbody tr th:only-of-type {\n        vertical-align: middle;\n    }\n\n    .dataframe tbody tr th {\n        vertical-align: top;\n    }\n\n    .dataframe thead th {\n        text-align: right;\n    }\n</style>\n<table border=\"1\" class=\"dataframe\">\n  <thead>\n    <tr style=\"text-align: right;\">\n      <th></th>\n      <th>year</th>\n      <th>S</th>\n      <th>I</th>\n      <th>R</th>\n      <th>Iisol</th>\n      <th>total_population per 1000</th>\n      <th>total</th>\n    </tr>\n  </thead>\n  <tbody>\n    <tr>\n      <th>0</th>\n      <td>2010</td>\n      <td>16142972.0</td>\n      <td>11500</td>\n      <td>51045</td>\n      <td>900</td>\n      <td>16204.617</td>\n      <td>16204617.0</td>\n    </tr>\n    <tr>\n      <th>1</th>\n      <td>2011</td>\n      <td>16376801.0</td>\n      <td>12100</td>\n      <td>54258</td>\n      <td>1200</td>\n      <td>16441.959</td>\n      <td>16441959.0</td>\n    </tr>\n    <tr>\n      <th>2</th>\n      <td>2012</td>\n      <td>16609663.0</td>\n      <td>12500</td>\n      <td>55029</td>\n      <td>1800</td>\n      <td>16675.392</td>\n      <td>16675392.0</td>\n    </tr>\n    <tr>\n      <th>3</th>\n      <td>2013</td>\n      <td>16847238.0</td>\n      <td>14200</td>\n      <td>53273</td>\n      <td>2800</td>\n      <td>16911.911</td>\n      <td>16911911.0</td>\n    </tr>\n    <tr>\n      <th>4</th>\n      <td>2014</td>\n      <td>17100085.0</td>\n      <td>15900</td>\n      <td>52354</td>\n      <td>3100</td>\n      <td>17165.239</td>\n      <td>17165239.0</td>\n    </tr>\n    <tr>\n      <th>5</th>\n      <td>2015</td>\n      <td>17352725.0</td>\n      <td>16500</td>\n      <td>52252</td>\n      <td>4000</td>\n      <td>17417.477</td>\n      <td>17417477.0</td>\n    </tr>\n    <tr>\n      <th>6</th>\n      <td>2016</td>\n      <td>17604544.0</td>\n      <td>18500</td>\n      <td>53013</td>\n      <td>5100</td>\n      <td>17670.957</td>\n      <td>17670957.0</td>\n    </tr>\n    <tr>\n      <th>7</th>\n      <td>2017</td>\n      <td>17858626.0</td>\n      <td>20800</td>\n      <td>54674</td>\n      <td>8100</td>\n      <td>17926.000</td>\n      <td>17926000.0</td>\n    </tr>\n    <tr>\n      <th>8</th>\n      <td>2018</td>\n      <td>18086834.0</td>\n      <td>22600</td>\n      <td>58103</td>\n      <td>10200</td>\n      <td>18157.337</td>\n      <td>18157337.0</td>\n    </tr>\n    <tr>\n      <th>9</th>\n      <td>2019</td>\n      <td>18349635.0</td>\n      <td>26000</td>\n      <td>34032</td>\n      <td>14100</td>\n      <td>18395.567</td>\n      <td>18395567.0</td>\n    </tr>\n  </tbody>\n</table>\n</div>"
     },
     "execution_count": 3,
     "metadata": {},
     "output_type": "execute_result"
    }
   ],
   "source": [
    "df = pd.read_excel('HIV_Kazakstan.xlsx')\n",
    "df"
   ],
   "metadata": {
    "collapsed": false,
    "pycharm": {
     "name": "#%%\n"
    }
   }
  },
  {
   "cell_type": "code",
   "execution_count": 4,
   "outputs": [
    {
     "data": {
      "text/plain": "   year           S      I      R  Iisol  total_population per 1000  \\\n0  2010  16142972.0  11500  51045    900                  16204.617   \n1  2011  16376801.0  12100  54258   1200                  16441.959   \n2  2012  16609663.0  12500  55029   1800                  16675.392   \n3  2013  16847238.0  14200  53273   2800                  16911.911   \n4  2014  17100085.0  15900  52354   3100                  17165.239   \n5  2015  17352725.0  16500  52252   4000                  17417.477   \n\n        total  \n0  16204617.0  \n1  16441959.0  \n2  16675392.0  \n3  16911911.0  \n4  17165239.0  \n5  17417477.0  ",
      "text/html": "<div>\n<style scoped>\n    .dataframe tbody tr th:only-of-type {\n        vertical-align: middle;\n    }\n\n    .dataframe tbody tr th {\n        vertical-align: top;\n    }\n\n    .dataframe thead th {\n        text-align: right;\n    }\n</style>\n<table border=\"1\" class=\"dataframe\">\n  <thead>\n    <tr style=\"text-align: right;\">\n      <th></th>\n      <th>year</th>\n      <th>S</th>\n      <th>I</th>\n      <th>R</th>\n      <th>Iisol</th>\n      <th>total_population per 1000</th>\n      <th>total</th>\n    </tr>\n  </thead>\n  <tbody>\n    <tr>\n      <th>0</th>\n      <td>2010</td>\n      <td>16142972.0</td>\n      <td>11500</td>\n      <td>51045</td>\n      <td>900</td>\n      <td>16204.617</td>\n      <td>16204617.0</td>\n    </tr>\n    <tr>\n      <th>1</th>\n      <td>2011</td>\n      <td>16376801.0</td>\n      <td>12100</td>\n      <td>54258</td>\n      <td>1200</td>\n      <td>16441.959</td>\n      <td>16441959.0</td>\n    </tr>\n    <tr>\n      <th>2</th>\n      <td>2012</td>\n      <td>16609663.0</td>\n      <td>12500</td>\n      <td>55029</td>\n      <td>1800</td>\n      <td>16675.392</td>\n      <td>16675392.0</td>\n    </tr>\n    <tr>\n      <th>3</th>\n      <td>2013</td>\n      <td>16847238.0</td>\n      <td>14200</td>\n      <td>53273</td>\n      <td>2800</td>\n      <td>16911.911</td>\n      <td>16911911.0</td>\n    </tr>\n    <tr>\n      <th>4</th>\n      <td>2014</td>\n      <td>17100085.0</td>\n      <td>15900</td>\n      <td>52354</td>\n      <td>3100</td>\n      <td>17165.239</td>\n      <td>17165239.0</td>\n    </tr>\n    <tr>\n      <th>5</th>\n      <td>2015</td>\n      <td>17352725.0</td>\n      <td>16500</td>\n      <td>52252</td>\n      <td>4000</td>\n      <td>17417.477</td>\n      <td>17417477.0</td>\n    </tr>\n  </tbody>\n</table>\n</div>"
     },
     "execution_count": 4,
     "metadata": {},
     "output_type": "execute_result"
    }
   ],
   "source": [
    "df[0:6]"
   ],
   "metadata": {
    "collapsed": false,
    "pycharm": {
     "name": "#%%\n"
    }
   }
  },
  {
   "cell_type": "code",
   "execution_count": 5,
   "outputs": [
    {
     "data": {
      "text/plain": "   year           S      I      R  Iisol  total_population per 1000  \\\n0  2010  16142972.0  11500  51045    900                  16204.617   \n1  2011  16376801.0  12100  54258   1200                  16441.959   \n2  2012  16609663.0  12500  55029   1800                  16675.392   \n3  2013  16847238.0  14200  53273   2800                  16911.911   \n4  2014  17100085.0  15900  52354   3100                  17165.239   \n5  2015  17352725.0  16500  52252   4000                  17417.477   \n\n        total  \n0  16204617.0  \n1  16441959.0  \n2  16675392.0  \n3  16911911.0  \n4  17165239.0  \n5  17417477.0  ",
      "text/html": "<div>\n<style scoped>\n    .dataframe tbody tr th:only-of-type {\n        vertical-align: middle;\n    }\n\n    .dataframe tbody tr th {\n        vertical-align: top;\n    }\n\n    .dataframe thead th {\n        text-align: right;\n    }\n</style>\n<table border=\"1\" class=\"dataframe\">\n  <thead>\n    <tr style=\"text-align: right;\">\n      <th></th>\n      <th>year</th>\n      <th>S</th>\n      <th>I</th>\n      <th>R</th>\n      <th>Iisol</th>\n      <th>total_population per 1000</th>\n      <th>total</th>\n    </tr>\n  </thead>\n  <tbody>\n    <tr>\n      <th>0</th>\n      <td>2010</td>\n      <td>16142972.0</td>\n      <td>11500</td>\n      <td>51045</td>\n      <td>900</td>\n      <td>16204.617</td>\n      <td>16204617.0</td>\n    </tr>\n    <tr>\n      <th>1</th>\n      <td>2011</td>\n      <td>16376801.0</td>\n      <td>12100</td>\n      <td>54258</td>\n      <td>1200</td>\n      <td>16441.959</td>\n      <td>16441959.0</td>\n    </tr>\n    <tr>\n      <th>2</th>\n      <td>2012</td>\n      <td>16609663.0</td>\n      <td>12500</td>\n      <td>55029</td>\n      <td>1800</td>\n      <td>16675.392</td>\n      <td>16675392.0</td>\n    </tr>\n    <tr>\n      <th>3</th>\n      <td>2013</td>\n      <td>16847238.0</td>\n      <td>14200</td>\n      <td>53273</td>\n      <td>2800</td>\n      <td>16911.911</td>\n      <td>16911911.0</td>\n    </tr>\n    <tr>\n      <th>4</th>\n      <td>2014</td>\n      <td>17100085.0</td>\n      <td>15900</td>\n      <td>52354</td>\n      <td>3100</td>\n      <td>17165.239</td>\n      <td>17165239.0</td>\n    </tr>\n    <tr>\n      <th>5</th>\n      <td>2015</td>\n      <td>17352725.0</td>\n      <td>16500</td>\n      <td>52252</td>\n      <td>4000</td>\n      <td>17417.477</td>\n      <td>17417477.0</td>\n    </tr>\n  </tbody>\n</table>\n</div>"
     },
     "execution_count": 5,
     "metadata": {},
     "output_type": "execute_result"
    }
   ],
   "source": [
    "df_train = df[0:6]\n",
    "df_train"
   ],
   "metadata": {
    "collapsed": false,
    "pycharm": {
     "name": "#%%\n"
    }
   }
  },
  {
   "cell_type": "code",
   "execution_count": 6,
   "outputs": [
    {
     "data": {
      "text/plain": "   year           S      I      R  Iisol  total_population per 1000  \\\n6  2016  17604544.0  18500  53013   5100                  17670.957   \n7  2017  17858626.0  20800  54674   8100                  17926.000   \n8  2018  18086834.0  22600  58103  10200                  18157.337   \n9  2019  18349635.0  26000  34032  14100                  18395.567   \n\n        total  \n6  17670957.0  \n7  17926000.0  \n8  18157337.0  \n9  18395567.0  ",
      "text/html": "<div>\n<style scoped>\n    .dataframe tbody tr th:only-of-type {\n        vertical-align: middle;\n    }\n\n    .dataframe tbody tr th {\n        vertical-align: top;\n    }\n\n    .dataframe thead th {\n        text-align: right;\n    }\n</style>\n<table border=\"1\" class=\"dataframe\">\n  <thead>\n    <tr style=\"text-align: right;\">\n      <th></th>\n      <th>year</th>\n      <th>S</th>\n      <th>I</th>\n      <th>R</th>\n      <th>Iisol</th>\n      <th>total_population per 1000</th>\n      <th>total</th>\n    </tr>\n  </thead>\n  <tbody>\n    <tr>\n      <th>6</th>\n      <td>2016</td>\n      <td>17604544.0</td>\n      <td>18500</td>\n      <td>53013</td>\n      <td>5100</td>\n      <td>17670.957</td>\n      <td>17670957.0</td>\n    </tr>\n    <tr>\n      <th>7</th>\n      <td>2017</td>\n      <td>17858626.0</td>\n      <td>20800</td>\n      <td>54674</td>\n      <td>8100</td>\n      <td>17926.000</td>\n      <td>17926000.0</td>\n    </tr>\n    <tr>\n      <th>8</th>\n      <td>2018</td>\n      <td>18086834.0</td>\n      <td>22600</td>\n      <td>58103</td>\n      <td>10200</td>\n      <td>18157.337</td>\n      <td>18157337.0</td>\n    </tr>\n    <tr>\n      <th>9</th>\n      <td>2019</td>\n      <td>18349635.0</td>\n      <td>26000</td>\n      <td>34032</td>\n      <td>14100</td>\n      <td>18395.567</td>\n      <td>18395567.0</td>\n    </tr>\n  </tbody>\n</table>\n</div>"
     },
     "execution_count": 6,
     "metadata": {},
     "output_type": "execute_result"
    }
   ],
   "source": [
    "df_test = df[6:]\n",
    "df_test"
   ],
   "metadata": {
    "collapsed": false,
    "pycharm": {
     "name": "#%%\n"
    }
   }
  },
  {
   "cell_type": "code",
   "execution_count": 7,
   "outputs": [
    {
     "data": {
      "text/plain": "array([0, 1, 2, 3])"
     },
     "execution_count": 7,
     "metadata": {},
     "output_type": "execute_result"
    }
   ],
   "source": [
    "time = np.arange(0, 4, 1)\n",
    "time"
   ],
   "metadata": {
    "collapsed": false,
    "pycharm": {
     "name": "#%%\n"
    }
   }
  },
  {
   "cell_type": "code",
   "execution_count": 8,
   "outputs": [],
   "source": [
    "# # initial guess of model's parameters\n",
    "# alpha - fertility rate\n",
    "alpha = 0.02035 #https://ru.wikipedia.org/wiki/Население_Казахстана\n",
    "#mu - death rate\n",
    "mu = 0.00709 #https://ru.wikipedia.org/wiki/Население_Казахстана\n",
    "# fi1 — the probability to give birth a healthy child for an infected mother\n",
    "fi1 = 0.7 #https://www.who.int/news-room/fact-sheets/detail/hiv-aids\n",
    "#fi2 - the probability to give birth a healthy child for an infected mother with chemoprophylaxis\n",
    "fi2 = 0.92 #https://www.who.int/news-room/fact-sheets/detail/hiv-aids\n",
    "omega = 0.65 # the probability of transition from infected group to a group of isolated ones http://static.government.ru/media/files/cbS7AH8vWirXO6xv7C2mySn1JeqDIvKA.pdf\n",
    "# beta - transmission rate\n",
    "beta = 0.13\n",
    "# gamma transmission rate for HIV\n",
    "gamma = 0.5"
   ],
   "metadata": {
    "collapsed": false,
    "pycharm": {
     "name": "#%%\n"
    }
   }
  },
  {
   "cell_type": "code",
   "execution_count": 9,
   "outputs": [],
   "source": [
    "#model\n",
    "\n",
    "def derivatives(y, t, beta, gamma, omega):\n",
    "    S, I, Is, R = y\n",
    "    dSdt = -beta*I*S + ((alpha*(S+fi2*Is+fi1*I) - mu*S) / (S+Is+I))\n",
    "    dIdt = beta*I*S - gamma*I + ((alpha*(1-fi1)*I-mu*I) / (S+Is+I)) - omega*I\n",
    "    dIsdt = omega*I - gamma*Is + ((alpha*(1-fi2)*Is - mu*Is) / (\n",
    "        S+Is+I))\n",
    "    dRdt = gamma*(I+Is)\n",
    "    return dSdt, dIdt, dIsdt, dRdt\n",
    "\n",
    "def loss_function(params, S0, I0, Is0, R0):\n",
    "    y = S0, I0, Is0, R0\n",
    "    int = odeint(derivatives, y, time, args=tuple(params))\n",
    "    y_pred = pd.DataFrame(int, columns=['S', 'I', 'Iisol', 'R'])\n",
    "    return mean_squared_error(y_true=df_test[['S','I','Iisol','R']], y_pred=y_pred[['S','I', 'Iisol','R']])"
   ],
   "metadata": {
    "collapsed": false,
    "pycharm": {
     "name": "#%%\n"
    }
   }
  },
  {
   "cell_type": "code",
   "execution_count": 10,
   "outputs": [],
   "source": [
    "# Total population in Kazakstan\n",
    "S0 = df_train['total'][5]\n",
    "I0 = df_train['I'][5]  # Total infected\n",
    "R0 = df_train['R'][5]  # death\n",
    "Is0 = df_train['Iisol'][5] # Isolated, know status\n",
    "\n",
    "params = np.array([beta, gamma, omega])\n",
    "\n",
    "bnds = ((0,0.3), (0,0.08), (0.9, 0.99))"
   ],
   "metadata": {
    "collapsed": false,
    "pycharm": {
     "name": "#%%\n"
    }
   }
  },
  {
   "cell_type": "code",
   "execution_count": 11,
   "outputs": [
    {
     "name": "stderr",
     "output_type": "stream",
     "text": [
      "C:\\Users\\gto_n\\AppData\\Local\\Temp\\ipykernel_5444\\614684842.py:1: OptimizeWarning: Initial guess is not within the specified bounds\n",
      "  best_params = minimize(fun=loss_function, x0=params, bounds = bnds, method ='Nelder-Mead', tol=1e-10, args=tuple([S0, I0, Is0, R0]))\n"
     ]
    },
    {
     "name": "stdout",
     "output_type": "stream",
     "text": [
      "[0.   0.08 0.9 ]\n"
     ]
    },
    {
     "data": {
      "text/plain": " final_simplex: (array([[0.00000000e+00, 8.00000000e-02, 9.00000000e-01],\n       [0.00000000e+00, 8.00000000e-02, 9.00000000e-01],\n       [0.00000000e+00, 8.00000000e-02, 9.00000000e-01],\n       [3.75856753e-21, 8.00000000e-02, 9.00000000e-01]]), array([9.67744863e+10, 9.67744863e+10, 9.67744863e+10, 9.67744863e+10]))\n           fun: 96774486252.25607\n       message: 'Optimization terminated successfully.'\n          nfev: 326\n           nit: 72\n        status: 0\n       success: True\n             x: array([0.  , 0.08, 0.9 ])"
     },
     "execution_count": 11,
     "metadata": {},
     "output_type": "execute_result"
    }
   ],
   "source": [
    "best_params = minimize(fun=loss_function, x0=params, bounds = bnds, method ='Nelder-Mead', tol=1e-10, args=tuple([S0, I0, Is0, R0]))\n",
    "print(best_params.x)\n",
    "best_params"
   ],
   "metadata": {
    "collapsed": false,
    "pycharm": {
     "name": "#%%\n"
    }
   }
  },
  {
   "cell_type": "code",
   "execution_count": 12,
   "outputs": [
    {
     "data": {
      "text/plain": "              S             I         Iisol             R\n6  1.741748e+07  16500.000000   4000.000000  52252.000000\n7  1.741748e+07   6192.633051  12731.252047  53828.114899\n8  1.741748e+07   2324.163873  15144.783794  55283.052326\n9  1.741748e+07    872.284510  15253.586631  56626.128847",
      "text/html": "<div>\n<style scoped>\n    .dataframe tbody tr th:only-of-type {\n        vertical-align: middle;\n    }\n\n    .dataframe tbody tr th {\n        vertical-align: top;\n    }\n\n    .dataframe thead th {\n        text-align: right;\n    }\n</style>\n<table border=\"1\" class=\"dataframe\">\n  <thead>\n    <tr style=\"text-align: right;\">\n      <th></th>\n      <th>S</th>\n      <th>I</th>\n      <th>Iisol</th>\n      <th>R</th>\n    </tr>\n  </thead>\n  <tbody>\n    <tr>\n      <th>6</th>\n      <td>1.741748e+07</td>\n      <td>16500.000000</td>\n      <td>4000.000000</td>\n      <td>52252.000000</td>\n    </tr>\n    <tr>\n      <th>7</th>\n      <td>1.741748e+07</td>\n      <td>6192.633051</td>\n      <td>12731.252047</td>\n      <td>53828.114899</td>\n    </tr>\n    <tr>\n      <th>8</th>\n      <td>1.741748e+07</td>\n      <td>2324.163873</td>\n      <td>15144.783794</td>\n      <td>55283.052326</td>\n    </tr>\n    <tr>\n      <th>9</th>\n      <td>1.741748e+07</td>\n      <td>872.284510</td>\n      <td>15253.586631</td>\n      <td>56626.128847</td>\n    </tr>\n  </tbody>\n</table>\n</div>"
     },
     "execution_count": 12,
     "metadata": {},
     "output_type": "execute_result"
    }
   ],
   "source": [
    "y = S0, I0, Is0, R0\n",
    "params = tuple(best_params.x)\n",
    "ret = odeint(derivatives, y, time, args=params)\n",
    "model_result = pd.DataFrame(ret, columns=['S', 'I','Iisol', 'R'])\n",
    "model_result.index = df_test.sort_index().index\n",
    "model_result"
   ],
   "metadata": {
    "collapsed": false,
    "pycharm": {
     "name": "#%%\n"
    }
   }
  },
  {
   "cell_type": "code",
   "execution_count": 13,
   "outputs": [
    {
     "data": {
      "text/plain": "<Figure size 1080x720 with 1 Axes>",
      "image/png": "[encoded data removed]"
     },
     "metadata": {
      "needs_background": "light"
     },
     "output_type": "display_data"
    }
   ],
   "source": [
    "fig = plt.figure(figsize=(15, 10))\n",
    "plt.plot(df_test['year'], model_result['S'], label='Model prediction')\n",
    "plt.plot(df_test['year'], df_test['S'], label='True')\n",
    "plt.legend()\n",
    "# plt.grid()\n",
    "plt.xlabel(\"years\")\n",
    "plt.ylabel('S')\n",
    "plt.title('Susceptible')\n",
    "plt.ylim(bottom=1e7)\n",
    "plt.ylim(top=3e7)\n",
    "plt.savefig('S.jpg', bbox_inches='tight')\n",
    "plt.show()"
   ],
   "metadata": {
    "collapsed": false,
    "pycharm": {
     "name": "#%%\n"
    }
   }
  },
  {
   "cell_type": "code",
   "execution_count": 218,
   "outputs": [],
   "source": [
    "from sklearn.metrics import mean_absolute_error"
   ],
   "metadata": {
    "collapsed": false,
    "pycharm": {
     "name": "#%%\n"
    }
   }
  },
  {
   "cell_type": "code",
   "execution_count": 219,
   "outputs": [
    {
     "data": {
      "text/plain": "557432.7301038317"
     },
     "execution_count": 219,
     "metadata": {},
     "output_type": "execute_result"
    }
   ],
   "source": [
    "mean_absolute_error(df_test['S'], model_result['S'])"
   ],
   "metadata": {
    "collapsed": false,
    "pycharm": {
     "name": "#%%\n"
    }
   }
  },
  {
   "cell_type": "code",
   "execution_count": 226,
   "outputs": [
    {
     "data": {
      "text/plain": "3.1011712317711733"
     },
     "execution_count": 226,
     "metadata": {},
     "output_type": "execute_result"
    }
   ],
   "source": [
    "# % error for S\n",
    "mean_absolute_error(df_test['S'], model_result['S'])/df_test['S'].mean()*100"
   ],
   "metadata": {
    "collapsed": false,
    "pycharm": {
     "name": "#%%\n"
    }
   }
  },
  {
   "cell_type": "code",
   "execution_count": 227,
   "outputs": [
    {
     "data": {
      "text/plain": "15502.729641741375"
     },
     "execution_count": 227,
     "metadata": {},
     "output_type": "execute_result"
    }
   ],
   "source": [
    "mean_absolute_error(df_test['I'], model_result['I'])"
   ],
   "metadata": {
    "collapsed": false,
    "pycharm": {
     "name": "#%%\n"
    }
   }
  },
  {
   "cell_type": "code",
   "execution_count": 229,
   "outputs": [
    {
     "data": {
      "text/plain": "70.54712009893686"
     },
     "execution_count": 229,
     "metadata": {},
     "output_type": "execute_result"
    }
   ],
   "source": [
    "# % error for I\n",
    "mean_absolute_error(df_test['I'], model_result['I'])/df_test['I'].mean()*100"
   ],
   "metadata": {
    "collapsed": false,
    "pycharm": {
     "name": "#%%\n"
    }
   }
  },
  {
   "cell_type": "code",
   "execution_count": 230,
   "outputs": [
    {
     "data": {
      "text/plain": "13.522515850262906"
     },
     "execution_count": 230,
     "metadata": {},
     "output_type": "execute_result"
    }
   ],
   "source": [
    "# % error for R\n",
    "mean_absolute_error(df_test['R'], model_result['R'])/df_test['R'].mean()*100"
   ],
   "metadata": {
    "collapsed": false,
    "pycharm": {
     "name": "#%%\n"
    }
   }
  },
  {
   "cell_type": "code",
   "execution_count": 231,
   "outputs": [
    {
     "data": {
      "text/plain": "31.54565992310763"
     },
     "execution_count": 231,
     "metadata": {},
     "output_type": "execute_result"
    }
   ],
   "source": [
    "# % error for isolated\n",
    "mean_absolute_error(df_test['Iisol'], model_result['Iisol'])/df_test['Iisol'].mean()*100"
   ],
   "metadata": {
    "collapsed": false,
    "pycharm": {
     "name": "#%%\n"
    }
   }
  },
  {
   "cell_type": "code",
   "execution_count": null,
   "outputs": [],
   "source": [],
   "metadata": {
    "collapsed": false,
    "pycharm": {
     "name": "#%%\n"
    }
   }
  }
 ],
 "metadata": {
  "kernelspec": {
   "display_name": "Python 3",
   "language": "python",
   "name": "python3"
  },
  "language_info": {
   "codemirror_mode": {
    "name": "ipython",
    "version": 2
   },
   "file_extension": ".py",
   "mimetype": "text/x-python",
   "name": "python",
   "nbconvert_exporter": "python",
   "pygments_lexer": "ipython2",
   "version": "2.7.6"
  }
 },
 "nbformat": 4,
 "nbformat_minor": 0
}